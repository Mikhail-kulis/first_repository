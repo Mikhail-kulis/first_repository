{
 "cells": [
  {
   "cell_type": "markdown",
   "id": "4e1530db",
   "metadata": {},
   "source": [
    "Привет! Меня зовут Александр Арасланов, я провожу ревью твоей работы. Предалагю общаться на «ты», если не против.\n",
    "\n",
    "В работе ты увидишь комментарии, помеченные разным цветом.\n",
    "\n",
    "<div class=\"alert alert-danger\"> ❌\n",
    "Красным цветом помечены моменты, которые необходимо доработать, чтобы проект был принят. Уверен, что у тебя все получится. Буду ждать твою работу на повторное ревью. \n",
    "</div>\n",
    "\n",
    "<div class=\"alert alert-success\"> ✅\n",
    "Зеленым цветом помечены оброзцовые решения. Которые можно использовать в дальнейшем.\n",
    "</div>\n",
    "\n",
    "<div class=\"alert alert-warning\"> ⚠️\n",
    "Желтым цветом отмечено то, что ты можешь улучшить или доработать. Можешь учесть это при выполнении следующих работ или доработать проект сейчас, но это не обязательно.\n",
    "</div>\n",
    "\n",
    "\n",
    "Будет комфортнее работать над проектом вместе, если ты будешь **писать об изменениях** в проекте по моим рекомендациям. Для этого выбери для своих комментариев \n",
    "\n",
    "<div class=\"alert alert-block alert-info\">заметный цвет</div>\n",
    "\n",
    "Пожалуйста, **не перемещай, не изменяй и не удаляй мои комментарии**. Всё это поможет выполнить повторную проверку твоего проекта оперативнее.\n"
   ]
  },
  {
   "cell_type": "markdown",
   "id": "a4bb9869",
   "metadata": {},
   "source": [
    "<div class=\"alert alert-danger\">\n",
    "\n",
    "**❌Комментарий ревьюера**\n",
    "\n",
    "Михаил, к сожалению твой код упал с ошибкой `AttributeError: 'Rectangle' object has no property 'ylabel'` Пожалуйста, внеси исправления и присылай работу на повторную проверку. То что отработало до этого момента я проверил. В целом все хорошо, но оставил тебе несколько рекомендаций. Так же пришлось изменить путь к файлу для проверки проекта на севере. Пожалуйста не забывай, указывать перед отправкой корректный путь. Иначе другой ревьюер из за этого может сразу же вернуть проект на доработку.\n",
    "    \n",
    "Перед отправкой проверь проект на полную работоспособность через `Kernel/Restart and Run all`\n",
    "</div>"
   ]
  },
  {
   "cell_type": "markdown",
   "id": "086536eb",
   "metadata": {},
   "source": [
    "## Импорт библиотек"
   ]
  },
  {
   "cell_type": "code",
   "execution_count": 1,
   "id": "aa4febcf",
   "metadata": {},
   "outputs": [],
   "source": [
    "import pandas as pd                                             # импорт библитеки pandas\n",
    "import numpy as np                                              # импорт библитеки numpy\n",
    "import matplotlib.pyplot as plt\n",
    "from scipy import stats as st                                   # импорт библитеки scipy.stats\n",
    "import warnings                                                 # импорт службы warnings\n",
    "warnings.simplefilter(\"ignore\")"
   ]
  },
  {
   "cell_type": "markdown",
   "id": "c465f116",
   "metadata": {},
   "source": [
    "## Чтение файла"
   ]
  },
  {
   "cell_type": "code",
   "execution_count": 2,
   "id": "ac5eadab",
   "metadata": {},
   "outputs": [
    {
     "name": "stdout",
     "output_type": "stream",
     "text": [
      "<class 'pandas.core.frame.DataFrame'>\n",
      "RangeIndex: 16715 entries, 0 to 16714\n",
      "Data columns (total 11 columns):\n",
      "Name               16713 non-null object\n",
      "Platform           16715 non-null object\n",
      "Year_of_Release    16446 non-null float64\n",
      "Genre              16713 non-null object\n",
      "NA_sales           16715 non-null float64\n",
      "EU_sales           16715 non-null float64\n",
      "JP_sales           16715 non-null float64\n",
      "Other_sales        16715 non-null float64\n",
      "Critic_Score       8137 non-null float64\n",
      "User_Score         10014 non-null object\n",
      "Rating             9949 non-null object\n",
      "dtypes: float64(6), object(5)\n",
      "memory usage: 1.4+ MB\n"
     ]
    },
    {
     "data": {
      "text/html": [
       "<div>\n",
       "<style scoped>\n",
       "    .dataframe tbody tr th:only-of-type {\n",
       "        vertical-align: middle;\n",
       "    }\n",
       "\n",
       "    .dataframe tbody tr th {\n",
       "        vertical-align: top;\n",
       "    }\n",
       "\n",
       "    .dataframe thead th {\n",
       "        text-align: right;\n",
       "    }\n",
       "</style>\n",
       "<table border=\"1\" class=\"dataframe\">\n",
       "  <thead>\n",
       "    <tr style=\"text-align: right;\">\n",
       "      <th></th>\n",
       "      <th>Name</th>\n",
       "      <th>Platform</th>\n",
       "      <th>Year_of_Release</th>\n",
       "      <th>Genre</th>\n",
       "      <th>NA_sales</th>\n",
       "      <th>EU_sales</th>\n",
       "      <th>JP_sales</th>\n",
       "      <th>Other_sales</th>\n",
       "      <th>Critic_Score</th>\n",
       "      <th>User_Score</th>\n",
       "      <th>Rating</th>\n",
       "    </tr>\n",
       "  </thead>\n",
       "  <tbody>\n",
       "    <tr>\n",
       "      <td>0</td>\n",
       "      <td>Wii Sports</td>\n",
       "      <td>Wii</td>\n",
       "      <td>2006.0</td>\n",
       "      <td>Sports</td>\n",
       "      <td>41.36</td>\n",
       "      <td>28.96</td>\n",
       "      <td>3.77</td>\n",
       "      <td>8.45</td>\n",
       "      <td>76.0</td>\n",
       "      <td>8</td>\n",
       "      <td>E</td>\n",
       "    </tr>\n",
       "    <tr>\n",
       "      <td>1</td>\n",
       "      <td>Super Mario Bros.</td>\n",
       "      <td>NES</td>\n",
       "      <td>1985.0</td>\n",
       "      <td>Platform</td>\n",
       "      <td>29.08</td>\n",
       "      <td>3.58</td>\n",
       "      <td>6.81</td>\n",
       "      <td>0.77</td>\n",
       "      <td>NaN</td>\n",
       "      <td>NaN</td>\n",
       "      <td>NaN</td>\n",
       "    </tr>\n",
       "    <tr>\n",
       "      <td>2</td>\n",
       "      <td>Mario Kart Wii</td>\n",
       "      <td>Wii</td>\n",
       "      <td>2008.0</td>\n",
       "      <td>Racing</td>\n",
       "      <td>15.68</td>\n",
       "      <td>12.76</td>\n",
       "      <td>3.79</td>\n",
       "      <td>3.29</td>\n",
       "      <td>82.0</td>\n",
       "      <td>8.3</td>\n",
       "      <td>E</td>\n",
       "    </tr>\n",
       "    <tr>\n",
       "      <td>3</td>\n",
       "      <td>Wii Sports Resort</td>\n",
       "      <td>Wii</td>\n",
       "      <td>2009.0</td>\n",
       "      <td>Sports</td>\n",
       "      <td>15.61</td>\n",
       "      <td>10.93</td>\n",
       "      <td>3.28</td>\n",
       "      <td>2.95</td>\n",
       "      <td>80.0</td>\n",
       "      <td>8</td>\n",
       "      <td>E</td>\n",
       "    </tr>\n",
       "    <tr>\n",
       "      <td>4</td>\n",
       "      <td>Pokemon Red/Pokemon Blue</td>\n",
       "      <td>GB</td>\n",
       "      <td>1996.0</td>\n",
       "      <td>Role-Playing</td>\n",
       "      <td>11.27</td>\n",
       "      <td>8.89</td>\n",
       "      <td>10.22</td>\n",
       "      <td>1.00</td>\n",
       "      <td>NaN</td>\n",
       "      <td>NaN</td>\n",
       "      <td>NaN</td>\n",
       "    </tr>\n",
       "  </tbody>\n",
       "</table>\n",
       "</div>"
      ],
      "text/plain": [
       "                       Name Platform  Year_of_Release         Genre  NA_sales  \\\n",
       "0                Wii Sports      Wii           2006.0        Sports     41.36   \n",
       "1         Super Mario Bros.      NES           1985.0      Platform     29.08   \n",
       "2            Mario Kart Wii      Wii           2008.0        Racing     15.68   \n",
       "3         Wii Sports Resort      Wii           2009.0        Sports     15.61   \n",
       "4  Pokemon Red/Pokemon Blue       GB           1996.0  Role-Playing     11.27   \n",
       "\n",
       "   EU_sales  JP_sales  Other_sales  Critic_Score User_Score Rating  \n",
       "0     28.96      3.77         8.45          76.0          8      E  \n",
       "1      3.58      6.81         0.77           NaN        NaN    NaN  \n",
       "2     12.76      3.79         3.29          82.0        8.3      E  \n",
       "3     10.93      3.28         2.95          80.0          8      E  \n",
       "4      8.89     10.22         1.00           NaN        NaN    NaN  "
      ]
     },
     "execution_count": 2,
     "metadata": {},
     "output_type": "execute_result"
    }
   ],
   "source": [
    "data = pd.read_csv('/datasets/games.csv')                        # чтение файла, лежащего в одной папке с файлом проекта\n",
    "data.info()                                            # вывод информации о датафрейме\n",
    "data.head()                                            # вывод первых 5 строк датафрейма"
   ]
  },
  {
   "cell_type": "markdown",
   "id": "27aaed5d",
   "metadata": {},
   "source": [
    "**Вывод**\n",
    "\n",
    "В информации о датафрейме видны пропуски в названиях игр, году выхода, жанре, оценках критиков, пользователей и рейтингах ESRB. Пропусков в названиях и жанрах игр всего 2, видимо, сыграл человеческий фактор и кто-то совершал ошибки при заполнении датафрейма. Пропуски же в годах можно восстановить, ведь игры на разные платформы выходят, как правило, в один год и, если, для одной платформы забыли указать год, то можно взять год выхода на других платформах. Пропуски в оценках и рейтингах присутствуют потому, что, видимо, разработчики игр не считали целесообразным тратиться на получение этих оценок и рейтингов."
   ]
  },
  {
   "cell_type": "markdown",
   "id": "bf7fd5aa",
   "metadata": {},
   "source": [
    "<div class=\"alert alert-success\">\n",
    "\n",
    "**✅Комментарий ревьюера**\n",
    "\n",
    "Данные успешно считаны и получены основные сведения о них 👍</div>"
   ]
  },
  {
   "cell_type": "markdown",
   "id": "46a24778",
   "metadata": {},
   "source": [
    "## Подготовка данных"
   ]
  },
  {
   "cell_type": "markdown",
   "id": "9bae3bb5",
   "metadata": {},
   "source": [
    "### Приведение столбцов к нижнему регистру"
   ]
  },
  {
   "cell_type": "code",
   "execution_count": 3,
   "id": "2c4266c5",
   "metadata": {},
   "outputs": [
    {
     "data": {
      "text/html": [
       "<div>\n",
       "<style scoped>\n",
       "    .dataframe tbody tr th:only-of-type {\n",
       "        vertical-align: middle;\n",
       "    }\n",
       "\n",
       "    .dataframe tbody tr th {\n",
       "        vertical-align: top;\n",
       "    }\n",
       "\n",
       "    .dataframe thead th {\n",
       "        text-align: right;\n",
       "    }\n",
       "</style>\n",
       "<table border=\"1\" class=\"dataframe\">\n",
       "  <thead>\n",
       "    <tr style=\"text-align: right;\">\n",
       "      <th></th>\n",
       "      <th>name</th>\n",
       "      <th>platform</th>\n",
       "      <th>year_of_release</th>\n",
       "      <th>genre</th>\n",
       "      <th>na_sales</th>\n",
       "      <th>eu_sales</th>\n",
       "      <th>jp_sales</th>\n",
       "      <th>other_sales</th>\n",
       "      <th>critic_score</th>\n",
       "      <th>user_score</th>\n",
       "      <th>rating</th>\n",
       "    </tr>\n",
       "  </thead>\n",
       "  <tbody>\n",
       "    <tr>\n",
       "      <td>16695</td>\n",
       "      <td>Planet Monsters</td>\n",
       "      <td>GBA</td>\n",
       "      <td>2001.0</td>\n",
       "      <td>Action</td>\n",
       "      <td>0.01</td>\n",
       "      <td>0.00</td>\n",
       "      <td>0.00</td>\n",
       "      <td>0.0</td>\n",
       "      <td>67.0</td>\n",
       "      <td>tbd</td>\n",
       "      <td>E</td>\n",
       "    </tr>\n",
       "    <tr>\n",
       "      <td>16696</td>\n",
       "      <td>Breach</td>\n",
       "      <td>PC</td>\n",
       "      <td>2011.0</td>\n",
       "      <td>Shooter</td>\n",
       "      <td>0.01</td>\n",
       "      <td>0.00</td>\n",
       "      <td>0.00</td>\n",
       "      <td>0.0</td>\n",
       "      <td>61.0</td>\n",
       "      <td>5.8</td>\n",
       "      <td>T</td>\n",
       "    </tr>\n",
       "    <tr>\n",
       "      <td>16697</td>\n",
       "      <td>Bust-A-Move 3000</td>\n",
       "      <td>GC</td>\n",
       "      <td>2003.0</td>\n",
       "      <td>Puzzle</td>\n",
       "      <td>0.01</td>\n",
       "      <td>0.00</td>\n",
       "      <td>0.00</td>\n",
       "      <td>0.0</td>\n",
       "      <td>53.0</td>\n",
       "      <td>tbd</td>\n",
       "      <td>E</td>\n",
       "    </tr>\n",
       "    <tr>\n",
       "      <td>16698</td>\n",
       "      <td>Mega Brain Boost</td>\n",
       "      <td>DS</td>\n",
       "      <td>2008.0</td>\n",
       "      <td>Puzzle</td>\n",
       "      <td>0.01</td>\n",
       "      <td>0.00</td>\n",
       "      <td>0.00</td>\n",
       "      <td>0.0</td>\n",
       "      <td>48.0</td>\n",
       "      <td>tbd</td>\n",
       "      <td>E</td>\n",
       "    </tr>\n",
       "    <tr>\n",
       "      <td>16699</td>\n",
       "      <td>The Longest 5 Minutes</td>\n",
       "      <td>PSV</td>\n",
       "      <td>2016.0</td>\n",
       "      <td>Action</td>\n",
       "      <td>0.00</td>\n",
       "      <td>0.00</td>\n",
       "      <td>0.01</td>\n",
       "      <td>0.0</td>\n",
       "      <td>NaN</td>\n",
       "      <td>NaN</td>\n",
       "      <td>NaN</td>\n",
       "    </tr>\n",
       "    <tr>\n",
       "      <td>16700</td>\n",
       "      <td>Mezase!! Tsuri Master DS</td>\n",
       "      <td>DS</td>\n",
       "      <td>2009.0</td>\n",
       "      <td>Sports</td>\n",
       "      <td>0.00</td>\n",
       "      <td>0.00</td>\n",
       "      <td>0.01</td>\n",
       "      <td>0.0</td>\n",
       "      <td>NaN</td>\n",
       "      <td>NaN</td>\n",
       "      <td>NaN</td>\n",
       "    </tr>\n",
       "    <tr>\n",
       "      <td>16701</td>\n",
       "      <td>Eiyuu Densetsu: Sora no Kiseki Material Collec...</td>\n",
       "      <td>PSP</td>\n",
       "      <td>2007.0</td>\n",
       "      <td>Role-Playing</td>\n",
       "      <td>0.00</td>\n",
       "      <td>0.00</td>\n",
       "      <td>0.01</td>\n",
       "      <td>0.0</td>\n",
       "      <td>NaN</td>\n",
       "      <td>NaN</td>\n",
       "      <td>NaN</td>\n",
       "    </tr>\n",
       "    <tr>\n",
       "      <td>16702</td>\n",
       "      <td>STORM: Frontline Nation</td>\n",
       "      <td>PC</td>\n",
       "      <td>2011.0</td>\n",
       "      <td>Strategy</td>\n",
       "      <td>0.00</td>\n",
       "      <td>0.01</td>\n",
       "      <td>0.00</td>\n",
       "      <td>0.0</td>\n",
       "      <td>60.0</td>\n",
       "      <td>7.2</td>\n",
       "      <td>E10+</td>\n",
       "    </tr>\n",
       "    <tr>\n",
       "      <td>16703</td>\n",
       "      <td>Strawberry Nauts</td>\n",
       "      <td>PSV</td>\n",
       "      <td>2016.0</td>\n",
       "      <td>Adventure</td>\n",
       "      <td>0.00</td>\n",
       "      <td>0.00</td>\n",
       "      <td>0.01</td>\n",
       "      <td>0.0</td>\n",
       "      <td>NaN</td>\n",
       "      <td>NaN</td>\n",
       "      <td>NaN</td>\n",
       "    </tr>\n",
       "    <tr>\n",
       "      <td>16704</td>\n",
       "      <td>Plushees</td>\n",
       "      <td>DS</td>\n",
       "      <td>2008.0</td>\n",
       "      <td>Simulation</td>\n",
       "      <td>0.01</td>\n",
       "      <td>0.00</td>\n",
       "      <td>0.00</td>\n",
       "      <td>0.0</td>\n",
       "      <td>NaN</td>\n",
       "      <td>tbd</td>\n",
       "      <td>E</td>\n",
       "    </tr>\n",
       "    <tr>\n",
       "      <td>16705</td>\n",
       "      <td>15 Days</td>\n",
       "      <td>PC</td>\n",
       "      <td>2009.0</td>\n",
       "      <td>Adventure</td>\n",
       "      <td>0.00</td>\n",
       "      <td>0.01</td>\n",
       "      <td>0.00</td>\n",
       "      <td>0.0</td>\n",
       "      <td>63.0</td>\n",
       "      <td>5.8</td>\n",
       "      <td>NaN</td>\n",
       "    </tr>\n",
       "    <tr>\n",
       "      <td>16706</td>\n",
       "      <td>Men in Black II: Alien Escape</td>\n",
       "      <td>GC</td>\n",
       "      <td>2003.0</td>\n",
       "      <td>Shooter</td>\n",
       "      <td>0.01</td>\n",
       "      <td>0.00</td>\n",
       "      <td>0.00</td>\n",
       "      <td>0.0</td>\n",
       "      <td>NaN</td>\n",
       "      <td>tbd</td>\n",
       "      <td>T</td>\n",
       "    </tr>\n",
       "    <tr>\n",
       "      <td>16707</td>\n",
       "      <td>Aiyoku no Eustia</td>\n",
       "      <td>PSV</td>\n",
       "      <td>2014.0</td>\n",
       "      <td>Misc</td>\n",
       "      <td>0.00</td>\n",
       "      <td>0.00</td>\n",
       "      <td>0.01</td>\n",
       "      <td>0.0</td>\n",
       "      <td>NaN</td>\n",
       "      <td>NaN</td>\n",
       "      <td>NaN</td>\n",
       "    </tr>\n",
       "    <tr>\n",
       "      <td>16708</td>\n",
       "      <td>Woody Woodpecker in Crazy Castle 5</td>\n",
       "      <td>GBA</td>\n",
       "      <td>2002.0</td>\n",
       "      <td>Platform</td>\n",
       "      <td>0.01</td>\n",
       "      <td>0.00</td>\n",
       "      <td>0.00</td>\n",
       "      <td>0.0</td>\n",
       "      <td>NaN</td>\n",
       "      <td>NaN</td>\n",
       "      <td>NaN</td>\n",
       "    </tr>\n",
       "    <tr>\n",
       "      <td>16709</td>\n",
       "      <td>SCORE International Baja 1000: The Official Game</td>\n",
       "      <td>PS2</td>\n",
       "      <td>2008.0</td>\n",
       "      <td>Racing</td>\n",
       "      <td>0.00</td>\n",
       "      <td>0.00</td>\n",
       "      <td>0.00</td>\n",
       "      <td>0.0</td>\n",
       "      <td>NaN</td>\n",
       "      <td>NaN</td>\n",
       "      <td>NaN</td>\n",
       "    </tr>\n",
       "    <tr>\n",
       "      <td>16710</td>\n",
       "      <td>Samurai Warriors: Sanada Maru</td>\n",
       "      <td>PS3</td>\n",
       "      <td>2016.0</td>\n",
       "      <td>Action</td>\n",
       "      <td>0.00</td>\n",
       "      <td>0.00</td>\n",
       "      <td>0.01</td>\n",
       "      <td>0.0</td>\n",
       "      <td>NaN</td>\n",
       "      <td>NaN</td>\n",
       "      <td>NaN</td>\n",
       "    </tr>\n",
       "    <tr>\n",
       "      <td>16711</td>\n",
       "      <td>LMA Manager 2007</td>\n",
       "      <td>X360</td>\n",
       "      <td>2006.0</td>\n",
       "      <td>Sports</td>\n",
       "      <td>0.00</td>\n",
       "      <td>0.01</td>\n",
       "      <td>0.00</td>\n",
       "      <td>0.0</td>\n",
       "      <td>NaN</td>\n",
       "      <td>NaN</td>\n",
       "      <td>NaN</td>\n",
       "    </tr>\n",
       "    <tr>\n",
       "      <td>16712</td>\n",
       "      <td>Haitaka no Psychedelica</td>\n",
       "      <td>PSV</td>\n",
       "      <td>2016.0</td>\n",
       "      <td>Adventure</td>\n",
       "      <td>0.00</td>\n",
       "      <td>0.00</td>\n",
       "      <td>0.01</td>\n",
       "      <td>0.0</td>\n",
       "      <td>NaN</td>\n",
       "      <td>NaN</td>\n",
       "      <td>NaN</td>\n",
       "    </tr>\n",
       "    <tr>\n",
       "      <td>16713</td>\n",
       "      <td>Spirits &amp; Spells</td>\n",
       "      <td>GBA</td>\n",
       "      <td>2003.0</td>\n",
       "      <td>Platform</td>\n",
       "      <td>0.01</td>\n",
       "      <td>0.00</td>\n",
       "      <td>0.00</td>\n",
       "      <td>0.0</td>\n",
       "      <td>NaN</td>\n",
       "      <td>NaN</td>\n",
       "      <td>NaN</td>\n",
       "    </tr>\n",
       "    <tr>\n",
       "      <td>16714</td>\n",
       "      <td>Winning Post 8 2016</td>\n",
       "      <td>PSV</td>\n",
       "      <td>2016.0</td>\n",
       "      <td>Simulation</td>\n",
       "      <td>0.00</td>\n",
       "      <td>0.00</td>\n",
       "      <td>0.01</td>\n",
       "      <td>0.0</td>\n",
       "      <td>NaN</td>\n",
       "      <td>NaN</td>\n",
       "      <td>NaN</td>\n",
       "    </tr>\n",
       "  </tbody>\n",
       "</table>\n",
       "</div>"
      ],
      "text/plain": [
       "                                                    name platform  \\\n",
       "16695                                    Planet Monsters      GBA   \n",
       "16696                                             Breach       PC   \n",
       "16697                                   Bust-A-Move 3000       GC   \n",
       "16698                                   Mega Brain Boost       DS   \n",
       "16699                              The Longest 5 Minutes      PSV   \n",
       "16700                           Mezase!! Tsuri Master DS       DS   \n",
       "16701  Eiyuu Densetsu: Sora no Kiseki Material Collec...      PSP   \n",
       "16702                            STORM: Frontline Nation       PC   \n",
       "16703                                   Strawberry Nauts      PSV   \n",
       "16704                                           Plushees       DS   \n",
       "16705                                            15 Days       PC   \n",
       "16706                      Men in Black II: Alien Escape       GC   \n",
       "16707                                   Aiyoku no Eustia      PSV   \n",
       "16708                 Woody Woodpecker in Crazy Castle 5      GBA   \n",
       "16709   SCORE International Baja 1000: The Official Game      PS2   \n",
       "16710                      Samurai Warriors: Sanada Maru      PS3   \n",
       "16711                                   LMA Manager 2007     X360   \n",
       "16712                            Haitaka no Psychedelica      PSV   \n",
       "16713                                   Spirits & Spells      GBA   \n",
       "16714                                Winning Post 8 2016      PSV   \n",
       "\n",
       "       year_of_release         genre  na_sales  eu_sales  jp_sales  \\\n",
       "16695           2001.0        Action      0.01      0.00      0.00   \n",
       "16696           2011.0       Shooter      0.01      0.00      0.00   \n",
       "16697           2003.0        Puzzle      0.01      0.00      0.00   \n",
       "16698           2008.0        Puzzle      0.01      0.00      0.00   \n",
       "16699           2016.0        Action      0.00      0.00      0.01   \n",
       "16700           2009.0        Sports      0.00      0.00      0.01   \n",
       "16701           2007.0  Role-Playing      0.00      0.00      0.01   \n",
       "16702           2011.0      Strategy      0.00      0.01      0.00   \n",
       "16703           2016.0     Adventure      0.00      0.00      0.01   \n",
       "16704           2008.0    Simulation      0.01      0.00      0.00   \n",
       "16705           2009.0     Adventure      0.00      0.01      0.00   \n",
       "16706           2003.0       Shooter      0.01      0.00      0.00   \n",
       "16707           2014.0          Misc      0.00      0.00      0.01   \n",
       "16708           2002.0      Platform      0.01      0.00      0.00   \n",
       "16709           2008.0        Racing      0.00      0.00      0.00   \n",
       "16710           2016.0        Action      0.00      0.00      0.01   \n",
       "16711           2006.0        Sports      0.00      0.01      0.00   \n",
       "16712           2016.0     Adventure      0.00      0.00      0.01   \n",
       "16713           2003.0      Platform      0.01      0.00      0.00   \n",
       "16714           2016.0    Simulation      0.00      0.00      0.01   \n",
       "\n",
       "       other_sales  critic_score user_score rating  \n",
       "16695          0.0          67.0        tbd      E  \n",
       "16696          0.0          61.0        5.8      T  \n",
       "16697          0.0          53.0        tbd      E  \n",
       "16698          0.0          48.0        tbd      E  \n",
       "16699          0.0           NaN        NaN    NaN  \n",
       "16700          0.0           NaN        NaN    NaN  \n",
       "16701          0.0           NaN        NaN    NaN  \n",
       "16702          0.0          60.0        7.2   E10+  \n",
       "16703          0.0           NaN        NaN    NaN  \n",
       "16704          0.0           NaN        tbd      E  \n",
       "16705          0.0          63.0        5.8    NaN  \n",
       "16706          0.0           NaN        tbd      T  \n",
       "16707          0.0           NaN        NaN    NaN  \n",
       "16708          0.0           NaN        NaN    NaN  \n",
       "16709          0.0           NaN        NaN    NaN  \n",
       "16710          0.0           NaN        NaN    NaN  \n",
       "16711          0.0           NaN        NaN    NaN  \n",
       "16712          0.0           NaN        NaN    NaN  \n",
       "16713          0.0           NaN        NaN    NaN  \n",
       "16714          0.0           NaN        NaN    NaN  "
      ]
     },
     "execution_count": 3,
     "metadata": {},
     "output_type": "execute_result"
    }
   ],
   "source": [
    "data.columns = data.columns.str.lower()          # приведение названий столбцов к правильному виду (нижнему регистру)\n",
    "data.tail(20)                                      # проверка получившегося"
   ]
  },
  {
   "cell_type": "markdown",
   "id": "c539a065",
   "metadata": {},
   "source": [
    "### Исправление ошибок в данных"
   ]
  },
  {
   "cell_type": "markdown",
   "id": "9cb56728",
   "metadata": {},
   "source": [
    "В ходе работы было обнаружено, что для платформы 'DS' есть данные с ошибочным годом выпуска игры, учитывая, что платформа появилась только в 2004."
   ]
  },
  {
   "cell_type": "code",
   "execution_count": 4,
   "id": "4da6b11f",
   "metadata": {},
   "outputs": [
    {
     "name": "stdout",
     "output_type": "stream",
     "text": [
      "[2006. 2005. 2010. 2009. 2004. 2007. 2012. 2008. 2011.   nan 2013. 1985.]\n"
     ]
    },
    {
     "data": {
      "text/html": [
       "<div>\n",
       "<style scoped>\n",
       "    .dataframe tbody tr th:only-of-type {\n",
       "        vertical-align: middle;\n",
       "    }\n",
       "\n",
       "    .dataframe tbody tr th {\n",
       "        vertical-align: top;\n",
       "    }\n",
       "\n",
       "    .dataframe thead th {\n",
       "        text-align: right;\n",
       "    }\n",
       "</style>\n",
       "<table border=\"1\" class=\"dataframe\">\n",
       "  <thead>\n",
       "    <tr style=\"text-align: right;\">\n",
       "      <th></th>\n",
       "      <th>name</th>\n",
       "      <th>platform</th>\n",
       "      <th>year_of_release</th>\n",
       "      <th>genre</th>\n",
       "      <th>na_sales</th>\n",
       "      <th>eu_sales</th>\n",
       "      <th>jp_sales</th>\n",
       "      <th>other_sales</th>\n",
       "      <th>critic_score</th>\n",
       "      <th>user_score</th>\n",
       "      <th>rating</th>\n",
       "    </tr>\n",
       "  </thead>\n",
       "  <tbody>\n",
       "    <tr>\n",
       "      <td>15957</td>\n",
       "      <td>Strongest Tokyo University Shogi DS</td>\n",
       "      <td>DS</td>\n",
       "      <td>1985.0</td>\n",
       "      <td>Action</td>\n",
       "      <td>0.0</td>\n",
       "      <td>0.0</td>\n",
       "      <td>0.02</td>\n",
       "      <td>0.0</td>\n",
       "      <td>NaN</td>\n",
       "      <td>NaN</td>\n",
       "      <td>NaN</td>\n",
       "    </tr>\n",
       "  </tbody>\n",
       "</table>\n",
       "</div>"
      ],
      "text/plain": [
       "                                      name platform  year_of_release   genre  \\\n",
       "15957  Strongest Tokyo University Shogi DS       DS           1985.0  Action   \n",
       "\n",
       "       na_sales  eu_sales  jp_sales  other_sales  critic_score user_score  \\\n",
       "15957       0.0       0.0      0.02          0.0           NaN        NaN   \n",
       "\n",
       "      rating  \n",
       "15957    NaN  "
      ]
     },
     "execution_count": 4,
     "metadata": {},
     "output_type": "execute_result"
    }
   ],
   "source": [
    "print(data.query('platform == \"DS\"')['year_of_release'].unique())  # поиск уникальных годов выпуска игр на платформе DS\n",
    "data.query('(platform == \"DS\") and year_of_release == 1985')       # вывод подозрительной игры на экран"
   ]
  },
  {
   "cell_type": "markdown",
   "id": "e9c1e4fc",
   "metadata": {},
   "source": [
    "<div class=\"alert alert-success\">\n",
    "\n",
    "**✅Комментарий ревьюера**\n",
    "\n",
    "Здорово, что нашел такой артефакт</div>"
   ]
  },
  {
   "cell_type": "markdown",
   "id": "e3f6f791",
   "metadata": {},
   "source": [
    "Игра всего одна и малым количеством информации, её можно исключить из анализа."
   ]
  },
  {
   "cell_type": "code",
   "execution_count": 5,
   "id": "fd8b67e5",
   "metadata": {},
   "outputs": [
    {
     "name": "stdout",
     "output_type": "stream",
     "text": [
      "<class 'pandas.core.frame.DataFrame'>\n",
      "RangeIndex: 16714 entries, 0 to 16713\n",
      "Data columns (total 11 columns):\n",
      "name               16712 non-null object\n",
      "platform           16714 non-null object\n",
      "year_of_release    16445 non-null float64\n",
      "genre              16712 non-null object\n",
      "na_sales           16714 non-null float64\n",
      "eu_sales           16714 non-null float64\n",
      "jp_sales           16714 non-null float64\n",
      "other_sales        16714 non-null float64\n",
      "critic_score       8137 non-null float64\n",
      "user_score         10014 non-null object\n",
      "rating             9949 non-null object\n",
      "dtypes: float64(6), object(5)\n",
      "memory usage: 1.4+ MB\n"
     ]
    }
   ],
   "source": [
    "data = data.loc[data['name'] != 'Strongest Tokyo University Shogi DS'] # перезаписывем датафрейм без ошибочной игры\n",
    "data = data.reset_index(drop=True)                                     # производим переиндексацию дата\n",
    "data.info()                                   # проверяем результат"
   ]
  },
  {
   "cell_type": "markdown",
   "id": "2c89d925",
   "metadata": {},
   "source": [
    "### Приведение данных к нужным типам"
   ]
  },
  {
   "cell_type": "markdown",
   "id": "dfa13842",
   "metadata": {},
   "source": [
    "Оценки пользователей имеют неподходящий тип."
   ]
  },
  {
   "cell_type": "markdown",
   "id": "36871693",
   "metadata": {},
   "source": [
    "\n"
   ]
  },
  {
   "cell_type": "markdown",
   "id": "0151a432",
   "metadata": {},
   "source": [
    "#### Оценки пользователей"
   ]
  },
  {
   "cell_type": "code",
   "execution_count": 6,
   "id": "0851e1ee",
   "metadata": {},
   "outputs": [
    {
     "data": {
      "text/plain": [
       "array(['8', nan, '8.3', '8.5', '6.6', '8.4', '8.6', '7.7', '6.3', '7.4',\n",
       "       '8.2', '9', '7.9', '8.1', '8.7', '7.1', '3.4', '5.3', '4.8', '3.2',\n",
       "       '8.9', '6.4', '7.8', '7.5', '2.6', '7.2', '9.2', '7', '7.3', '4.3',\n",
       "       '7.6', '5.7', '5', '9.1', '6.5', 'tbd', '8.8', '6.9', '9.4', '6.8',\n",
       "       '6.1', '6.7', '5.4', '4', '4.9', '4.5', '9.3', '6.2', '4.2', '6',\n",
       "       '3.7', '4.1', '5.8', '5.6', '5.5', '4.4', '4.6', '5.9', '3.9',\n",
       "       '3.1', '2.9', '5.2', '3.3', '4.7', '5.1', '3.5', '2.5', '1.9', '3',\n",
       "       '2.7', '2.2', '2', '9.5', '2.1', '3.6', '2.8', '1.8', '3.8', '0',\n",
       "       '1.6', '9.6', '2.4', '1.7', '1.1', '0.3', '1.5', '0.7', '1.2',\n",
       "       '2.3', '0.5', '1.3', '0.2', '0.6', '1.4', '0.9', '1', '9.7'],\n",
       "      dtype=object)"
      ]
     },
     "execution_count": 6,
     "metadata": {},
     "output_type": "execute_result"
    }
   ],
   "source": [
    "data['user_score'].unique()"
   ]
  },
  {
   "cell_type": "markdown",
   "id": "3b7b3549",
   "metadata": {},
   "source": [
    "В оценках пользователей встречается значение tbd, которое означает \"To Be Determined\" или \"Будет определено\". Это означает, что средняя оценка игры ещё не посчитана."
   ]
  },
  {
   "cell_type": "markdown",
   "id": "e62c3690",
   "metadata": {},
   "source": [
    "<div class=\"alert alert-success\">\n",
    "\n",
    "**✅Комментарий ревьюера**\n",
    "\n",
    "Успешно заменил `tbd`, молодец</div>"
   ]
  },
  {
   "cell_type": "code",
   "execution_count": 7,
   "id": "321fe5f4",
   "metadata": {},
   "outputs": [
    {
     "name": "stdout",
     "output_type": "stream",
     "text": [
      "<class 'pandas.core.frame.DataFrame'>\n",
      "RangeIndex: 16714 entries, 0 to 16713\n",
      "Data columns (total 11 columns):\n",
      "name               16712 non-null object\n",
      "platform           16714 non-null object\n",
      "year_of_release    16445 non-null float64\n",
      "genre              16712 non-null object\n",
      "na_sales           16714 non-null float64\n",
      "eu_sales           16714 non-null float64\n",
      "jp_sales           16714 non-null float64\n",
      "other_sales        16714 non-null float64\n",
      "critic_score       8137 non-null float64\n",
      "user_score         7590 non-null float64\n",
      "rating             9949 non-null object\n",
      "dtypes: float64(7), object(4)\n",
      "memory usage: 1.4+ MB\n"
     ]
    }
   ],
   "source": [
    "data.loc[(data.user_score == 'tbd'), 'user_score'] = np.nan\n",
    "data['user_score'] = data['user_score'].astype('float')\n",
    "data.info()"
   ]
  },
  {
   "cell_type": "markdown",
   "id": "73486e43",
   "metadata": {},
   "source": [
    "**Вывод**\n",
    "\n",
    "Оценки пользователей теперь иемют тип float, пусть Nanы и сохранились, но обработке данных это не помешает."
   ]
  },
  {
   "cell_type": "markdown",
   "id": "508e39ae",
   "metadata": {},
   "source": [
    "### Замена пропусков"
   ]
  },
  {
   "cell_type": "markdown",
   "id": "94ab2a9e",
   "metadata": {},
   "source": [
    "#### Названия игр"
   ]
  },
  {
   "cell_type": "markdown",
   "id": "a60bfb62",
   "metadata": {},
   "source": [
    "Как показывают данные, есть всего 2 пропуска в названиях игр. Для их устранения достаточно дать им имя \"Unknown game\""
   ]
  },
  {
   "cell_type": "code",
   "execution_count": 8,
   "id": "9fd49048",
   "metadata": {},
   "outputs": [
    {
     "name": "stdout",
     "output_type": "stream",
     "text": [
      "<class 'pandas.core.frame.DataFrame'>\n",
      "RangeIndex: 16714 entries, 0 to 16713\n",
      "Data columns (total 11 columns):\n",
      "name               16714 non-null object\n",
      "platform           16714 non-null object\n",
      "year_of_release    16445 non-null float64\n",
      "genre              16712 non-null object\n",
      "na_sales           16714 non-null float64\n",
      "eu_sales           16714 non-null float64\n",
      "jp_sales           16714 non-null float64\n",
      "other_sales        16714 non-null float64\n",
      "critic_score       8137 non-null float64\n",
      "user_score         7590 non-null float64\n",
      "rating             9949 non-null object\n",
      "dtypes: float64(7), object(4)\n",
      "memory usage: 1.4+ MB\n"
     ]
    }
   ],
   "source": [
    "data['name'] = data['name'].fillna('Unknown game')\n",
    "data.info()"
   ]
  },
  {
   "cell_type": "markdown",
   "id": "b8090a66",
   "metadata": {},
   "source": [
    "#### Год выхода игры"
   ]
  },
  {
   "cell_type": "code",
   "execution_count": 9,
   "id": "5c00be1f",
   "metadata": {},
   "outputs": [
    {
     "data": {
      "text/plain": [
       "183                        Madden NFL 2004\n",
       "377                       FIFA Soccer 2004\n",
       "456             LEGO Batman: The Videogame\n",
       "475             wwe Smackdown vs. Raw 2006\n",
       "609                         Space Invaders\n",
       "                       ...                \n",
       "16372    PDC World Championship Darts 2008\n",
       "16404                        Freaky Flyers\n",
       "16447                            Inversion\n",
       "16457          Hakuouki: Shinsengumi Kitan\n",
       "16521                         Virtua Quest\n",
       "Name: name, Length: 269, dtype: object"
      ]
     },
     "metadata": {},
     "output_type": "display_data"
    },
    {
     "name": "stdout",
     "output_type": "stream",
     "text": [
      "<class 'pandas.core.frame.DataFrame'>\n",
      "RangeIndex: 16714 entries, 0 to 16713\n",
      "Data columns (total 11 columns):\n",
      "name               16714 non-null object\n",
      "platform           16714 non-null object\n",
      "year_of_release    16556 non-null float64\n",
      "genre              16712 non-null object\n",
      "na_sales           16714 non-null float64\n",
      "eu_sales           16714 non-null float64\n",
      "jp_sales           16714 non-null float64\n",
      "other_sales        16714 non-null float64\n",
      "critic_score       8137 non-null float64\n",
      "user_score         7590 non-null float64\n",
      "rating             9949 non-null object\n",
      "dtypes: float64(7), object(4)\n",
      "memory usage: 1.4+ MB\n"
     ]
    },
    {
     "data": {
      "text/plain": [
       "array([2006., 1985., 2008., 2009., 1996., 1989., 1984., 2005., 1999.,\n",
       "       2007., 2010., 2013., 2004., 1990., 1988., 2002., 2001., 2011.,\n",
       "       1998., 2015., 2012., 2014., 1992., 1997., 1993., 1994., 1982.,\n",
       "       2016., 2003., 1986., 2000., 1995., 1991., 1981., 1987., 1980.,\n",
       "       1983.,   nan])"
      ]
     },
     "execution_count": 9,
     "metadata": {},
     "output_type": "execute_result"
    }
   ],
   "source": [
    "data_zero_year = data[data['year_of_release'].isna()]['name']    # получаем список игр с пропусками\n",
    "display(data_zero_year)\n",
    "for name_nan in data_zero_year:                                      # в цикле идём по этому списку\n",
    "    if (len(data.query('name == @name_nan')['year_of_release'].dropna().unique()) == 1): # если в данных есть год выпуска на     \n",
    "                                # хотя бы одной другой платформе и год выпуска на этих платформах одинаковый, то присваеваем            \n",
    "        data['year_of_release'].loc[(data.name == name_nan)] = data['year_of_release'].loc[(\n",
    "            data.name == name_nan)].fillna(sum(data.query(                                   # игре на всех платформах\n",
    "            'name == @name_nan')['year_of_release'].dropna())/len(data.query(                # среднее значение года выхода\n",
    "            'name == @name_nan')['year_of_release'].dropna()))                               # (т.к. года выхода совпадают, то\n",
    "data.info()                                                                                 # и среднее совпадёт с годом выхода\n",
    "                                                                                            # на всех платформах)\n",
    "data['year_of_release'].unique()\n",
    "#data.query('name == @name_nan')['year_of_release']"
   ]
  },
  {
   "cell_type": "markdown",
   "id": "34d6c193",
   "metadata": {},
   "source": [
    "<div class=\"alert alert-success\">\n",
    "\n",
    "**✅Комментарий ревьюера**\n",
    "\n",
    "Отличная идея для востановления года выпуска</div>"
   ]
  },
  {
   "cell_type": "markdown",
   "id": "bae003b7",
   "metadata": {},
   "source": [
    "К сожалению некоторые пропуски в годах остались, ведь есть игры, которые выходили только на одной платформе или года выхода на платформах разные, и пропуск для них не восстанавливается по условию в коде("
   ]
  },
  {
   "cell_type": "markdown",
   "id": "b981d2fa",
   "metadata": {},
   "source": [
    "**Вывод**\n",
    "\n",
    "Оставшиеся пропущенные значения заполнять средним или медианным значением считаю нецелесообразным, ведь Nanы не мешают обработке данных, а самих данных не так много, чтобы экономить вычислительные ресурсы за счёт перевода типа данных из float в int. Заполнение Nanов средними величинами может смазывать реальную картину, поэтому данный способ избавления от Nanов я не использовал. "
   ]
  },
  {
   "cell_type": "markdown",
   "id": "866d45ca",
   "metadata": {},
   "source": [
    "### Подсчёт суммарных продаж"
   ]
  },
  {
   "cell_type": "code",
   "execution_count": 10,
   "id": "8b2d5218",
   "metadata": {},
   "outputs": [
    {
     "data": {
      "text/html": [
       "<div>\n",
       "<style scoped>\n",
       "    .dataframe tbody tr th:only-of-type {\n",
       "        vertical-align: middle;\n",
       "    }\n",
       "\n",
       "    .dataframe tbody tr th {\n",
       "        vertical-align: top;\n",
       "    }\n",
       "\n",
       "    .dataframe thead th {\n",
       "        text-align: right;\n",
       "    }\n",
       "</style>\n",
       "<table border=\"1\" class=\"dataframe\">\n",
       "  <thead>\n",
       "    <tr style=\"text-align: right;\">\n",
       "      <th></th>\n",
       "      <th>name</th>\n",
       "      <th>platform</th>\n",
       "      <th>year_of_release</th>\n",
       "      <th>genre</th>\n",
       "      <th>na_sales</th>\n",
       "      <th>eu_sales</th>\n",
       "      <th>jp_sales</th>\n",
       "      <th>other_sales</th>\n",
       "      <th>critic_score</th>\n",
       "      <th>user_score</th>\n",
       "      <th>rating</th>\n",
       "      <th>sum_sales</th>\n",
       "    </tr>\n",
       "  </thead>\n",
       "  <tbody>\n",
       "    <tr>\n",
       "      <td>0</td>\n",
       "      <td>Wii Sports</td>\n",
       "      <td>Wii</td>\n",
       "      <td>2006.0</td>\n",
       "      <td>Sports</td>\n",
       "      <td>41.36</td>\n",
       "      <td>28.96</td>\n",
       "      <td>3.77</td>\n",
       "      <td>8.45</td>\n",
       "      <td>76.0</td>\n",
       "      <td>8.0</td>\n",
       "      <td>E</td>\n",
       "      <td>82.54</td>\n",
       "    </tr>\n",
       "    <tr>\n",
       "      <td>1</td>\n",
       "      <td>Super Mario Bros.</td>\n",
       "      <td>NES</td>\n",
       "      <td>1985.0</td>\n",
       "      <td>Platform</td>\n",
       "      <td>29.08</td>\n",
       "      <td>3.58</td>\n",
       "      <td>6.81</td>\n",
       "      <td>0.77</td>\n",
       "      <td>NaN</td>\n",
       "      <td>NaN</td>\n",
       "      <td>NaN</td>\n",
       "      <td>40.24</td>\n",
       "    </tr>\n",
       "    <tr>\n",
       "      <td>2</td>\n",
       "      <td>Mario Kart Wii</td>\n",
       "      <td>Wii</td>\n",
       "      <td>2008.0</td>\n",
       "      <td>Racing</td>\n",
       "      <td>15.68</td>\n",
       "      <td>12.76</td>\n",
       "      <td>3.79</td>\n",
       "      <td>3.29</td>\n",
       "      <td>82.0</td>\n",
       "      <td>8.3</td>\n",
       "      <td>E</td>\n",
       "      <td>35.52</td>\n",
       "    </tr>\n",
       "    <tr>\n",
       "      <td>3</td>\n",
       "      <td>Wii Sports Resort</td>\n",
       "      <td>Wii</td>\n",
       "      <td>2009.0</td>\n",
       "      <td>Sports</td>\n",
       "      <td>15.61</td>\n",
       "      <td>10.93</td>\n",
       "      <td>3.28</td>\n",
       "      <td>2.95</td>\n",
       "      <td>80.0</td>\n",
       "      <td>8.0</td>\n",
       "      <td>E</td>\n",
       "      <td>32.77</td>\n",
       "    </tr>\n",
       "    <tr>\n",
       "      <td>4</td>\n",
       "      <td>Pokemon Red/Pokemon Blue</td>\n",
       "      <td>GB</td>\n",
       "      <td>1996.0</td>\n",
       "      <td>Role-Playing</td>\n",
       "      <td>11.27</td>\n",
       "      <td>8.89</td>\n",
       "      <td>10.22</td>\n",
       "      <td>1.00</td>\n",
       "      <td>NaN</td>\n",
       "      <td>NaN</td>\n",
       "      <td>NaN</td>\n",
       "      <td>31.38</td>\n",
       "    </tr>\n",
       "  </tbody>\n",
       "</table>\n",
       "</div>"
      ],
      "text/plain": [
       "                       name platform  year_of_release         genre  na_sales  \\\n",
       "0                Wii Sports      Wii           2006.0        Sports     41.36   \n",
       "1         Super Mario Bros.      NES           1985.0      Platform     29.08   \n",
       "2            Mario Kart Wii      Wii           2008.0        Racing     15.68   \n",
       "3         Wii Sports Resort      Wii           2009.0        Sports     15.61   \n",
       "4  Pokemon Red/Pokemon Blue       GB           1996.0  Role-Playing     11.27   \n",
       "\n",
       "   eu_sales  jp_sales  other_sales  critic_score  user_score rating  sum_sales  \n",
       "0     28.96      3.77         8.45          76.0         8.0      E      82.54  \n",
       "1      3.58      6.81         0.77           NaN         NaN    NaN      40.24  \n",
       "2     12.76      3.79         3.29          82.0         8.3      E      35.52  \n",
       "3     10.93      3.28         2.95          80.0         8.0      E      32.77  \n",
       "4      8.89     10.22         1.00           NaN         NaN    NaN      31.38  "
      ]
     },
     "execution_count": 10,
     "metadata": {},
     "output_type": "execute_result"
    }
   ],
   "source": [
    "data['sum_sales'] = data['na_sales'] + data['eu_sales'] + data['jp_sales'] + data['other_sales']\n",
    "data.head()"
   ]
  },
  {
   "cell_type": "markdown",
   "id": "fea9f74d",
   "metadata": {},
   "source": [
    "## Исследовательский анализ данных"
   ]
  },
  {
   "cell_type": "markdown",
   "id": "6638ec68",
   "metadata": {},
   "source": [
    "### Распределение игр по годам"
   ]
  },
  {
   "cell_type": "markdown",
   "id": "f792bb9b",
   "metadata": {},
   "source": [
    "<div class=\"alert alert-warning\">\n",
    "\n",
    "**⚠️Комментарий ревьюера**\n",
    "\n",
    "Графику стоит дать название, чтобы одозначно было понятно какая величина на нем отображена</div>"
   ]
  },
  {
   "cell_type": "markdown",
   "id": "cdcc4535",
   "metadata": {},
   "source": [
    "<div class=\"alert alert-block alert-info\">\n",
    "\n",
    "Название оси и самого графика добавил. </div>"
   ]
  },
  {
   "cell_type": "code",
   "execution_count": 11,
   "id": "7ab38e29",
   "metadata": {},
   "outputs": [
    {
     "data": {
      "text/plain": [
       "Text(0, 0.5, 'number_of_games')"
      ]
     },
     "execution_count": 11,
     "metadata": {},
     "output_type": "execute_result"
    },
    {
     "data": {
      "image/png": "[encoded data removed]",
      "text/plain": [
       "<Figure size 432x288 with 1 Axes>"
      ]
     },
     "metadata": {
      "needs_background": "light"
     },
     "output_type": "display_data"
    }
   ],
   "source": [
    "data_grouped_years = data.pivot_table(index = 'year_of_release', values = 'name', aggfunc = 'count') # создаём сводную таблицу\n",
    "data_grouped_years = data_grouped_years.reset_index()        # по годам выхода игры и производим переиндексацию\n",
    "data_grouped_years.plot( x = 'year_of_release', y = 'name', legend=False, grid = True)\n",
    "plt.title(\"Dependence number_of_games of year_of_release\")\n",
    "plt.ylabel(\"number_of_games\")"
   ]
  },
  {
   "cell_type": "markdown",
   "id": "8bd82b0a",
   "metadata": {},
   "source": [
    "**Вывод**\n",
    "\n",
    "Бурное развитие игровой индустрии началось с 1993 года. Максимум производства игр пришёлся на 2007-2008 годы. После чего пошло резкое падение количества игр на рынке. Видимо публика становилась всё требовательней. Необходимо было производить качественные игры с красивой графикой, а это требует большого времени разработки и параметр количество игр в год упал.\n",
    "\n",
    "Поскольку нас интересует период активных продаж игр, а не начало их появления на рынке, то данные вплоть до 1993 года можно не рассматривать. \n",
    "\n"
   ]
  },
  {
   "cell_type": "code",
   "execution_count": 12,
   "id": "af4f1009",
   "metadata": {},
   "outputs": [
    {
     "name": "stdout",
     "output_type": "stream",
     "text": [
      "<class 'pandas.core.frame.DataFrame'>\n",
      "Int64Index: 16252 entries, 0 to 16713\n",
      "Data columns (total 12 columns):\n",
      "name               16252 non-null object\n",
      "platform           16252 non-null object\n",
      "year_of_release    16252 non-null float64\n",
      "genre              16250 non-null object\n",
      "na_sales           16252 non-null float64\n",
      "eu_sales           16252 non-null float64\n",
      "jp_sales           16252 non-null float64\n",
      "other_sales        16252 non-null float64\n",
      "critic_score       8065 non-null float64\n",
      "user_score         7532 non-null float64\n",
      "rating             9856 non-null object\n",
      "sum_sales          16252 non-null float64\n",
      "dtypes: float64(8), object(4)\n",
      "memory usage: 1.6+ MB\n"
     ]
    }
   ],
   "source": [
    "data = data.query('year_of_release >= 1993')  # перезаписываем датафрейм с играми за период активных продаж \n",
    "data.info()    # проверяем датафрейм"
   ]
  },
  {
   "cell_type": "markdown",
   "id": "bd0e1fbd",
   "metadata": {},
   "source": [
    "### Распределение продаж для топ-5 платформ по годам"
   ]
  },
  {
   "cell_type": "markdown",
   "id": "ecf49bd4",
   "metadata": {},
   "source": [
    "Топ-5 платформ - это 5 платформ с самыми высокими выручками за представленный период"
   ]
  },
  {
   "cell_type": "code",
   "execution_count": 13,
   "id": "08c4e97a",
   "metadata": {},
   "outputs": [
    {
     "name": "stdout",
     "output_type": "stream",
     "text": [
      "Топ-5 платформ\n"
     ]
    },
    {
     "data": {
      "text/plain": [
       "0     PS2\n",
       "1    X360\n",
       "2     PS3\n",
       "3     Wii\n",
       "4      DS\n",
       "Name: platform, dtype: object"
      ]
     },
     "execution_count": 13,
     "metadata": {},
     "output_type": "execute_result"
    }
   ],
   "source": [
    "data_top5 = data.pivot_table(index = 'platform', values = 'sum_sales' , aggfunc='sum').sort_values( # создаём сводную табл.\n",
    "    by = 'sum_sales', ascending = False).head()        # по платформам с суммарными продажами, сортируем по убыванию и берём\n",
    "# только первые 5 строчек\n",
    "data_top5 = data_top5.reset_index()                  # производим переадресацию\n",
    "print('Топ-5 платформ')\n",
    "data_top5['platform']                                # вывод названий платформ"
   ]
  },
  {
   "cell_type": "markdown",
   "id": "7fce6ed9",
   "metadata": {},
   "source": [
    "<div class=\"alert alert-warning\">\n",
    "\n",
    "**⚠️Комментарий ревьюера**\n",
    "\n",
    "Верно определил топ 5 платформ за все время. Графики построил понятные, но им опять же лучше дать названия</div>"
   ]
  },
  {
   "cell_type": "markdown",
   "id": "d3ee50f9",
   "metadata": {},
   "source": [
    "<div class=\"alert alert-block alert-info\">\n",
    "\n",
    "Постарался облагородить графики. </div>"
   ]
  },
  {
   "cell_type": "code",
   "execution_count": 14,
   "id": "8890ae72",
   "metadata": {},
   "outputs": [
    {
     "data": {
      "image/png": "[encoded data removed]",
      "text/plain": [
       "<Figure size 432x288 with 1 Axes>"
      ]
     },
     "metadata": {
      "needs_background": "light"
     },
     "output_type": "display_data"
    },
    {
     "data": {
      "image/png": "[encoded data removed]",
      "text/plain": [
       "<Figure size 432x288 with 1 Axes>"
      ]
     },
     "metadata": {
      "needs_background": "light"
     },
     "output_type": "display_data"
    },
    {
     "data": {
      "image/png": "[encoded data removed]",
      "text/plain": [
       "<Figure size 432x288 with 1 Axes>"
      ]
     },
     "metadata": {
      "needs_background": "light"
     },
     "output_type": "display_data"
    },
    {
     "data": {
      "image/png": "[encoded data removed]",
      "text/plain": [
       "<Figure size 432x288 with 1 Axes>"
      ]
     },
     "metadata": {
      "needs_background": "light"
     },
     "output_type": "display_data"
    },
    {
     "data": {
      "image/png": "[encoded data removed]",
      "text/plain": [
       "<Figure size 432x288 with 1 Axes>"
      ]
     },
     "metadata": {
      "needs_background": "light"
     },
     "output_type": "display_data"
    }
   ],
   "source": [
    "top_platforms = data_top5['platform']           # создаём отдельную переменную с топ-5 платформ\n",
    "data_top5_years = data.query('platform in @top_platforms').pivot_table(          # создаём сводную таблицу суммарных продаж\n",
    "    index = ['platform','year_of_release'], values = 'sum_sales', aggfunc='sum') # игр по платформам и годам выхода\n",
    "for name in data_top5['platform']:         # строим в цикле графики распределения по годам для топ-5 платформ \n",
    "    data_top5_years.loc[pd.IndexSlice[name,:],:].reset_index().plot(\n",
    "        x = 'year_of_release', y = 'sum_sales', label = name, grid = True)\n",
    "    plt.ylabel(\"sum_sales\")\n",
    "    plt.title(\"Dependence sum_sales of year_of_release\")"
   ]
  },
  {
   "cell_type": "markdown",
   "id": "16e61a8b",
   "metadata": {},
   "source": [
    "### Определение актуального периода\n"
   ]
  },
  {
   "cell_type": "markdown",
   "id": "5ddc4d8e",
   "metadata": {},
   "source": [
    "Под временем жизни платформы будем понимать период с момента появления платформы, вплоть до момента снижения количества продаж ниже 20 млн. долл."
   ]
  },
  {
   "cell_type": "code",
   "execution_count": 15,
   "id": "a19ee013",
   "metadata": {},
   "outputs": [
    {
     "name": "stdout",
     "output_type": "stream",
     "text": [
      "Среднее время жизни платформы: 8 лет\n",
      "Актуальным периодом для платформ является срок: 4 года\n"
     ]
    }
   ],
   "source": [
    "periods = []                               # создаём пустой список, в который будем записывать период жизни платформ\n",
    "for name in data_top5['platform']:         # в цикле считаем периоды жизни платформ из топ-5\n",
    "    periods.append(len(data_top5_years.loc[pd.IndexSlice[name,:],:].query('sum_sales > 20')))\n",
    "print(f'Среднее время жизни платформы: {round(sum(periods)/len(periods))} лет') # выводим усреднённое время \n",
    "# жизни платформы\n",
    "print(f'Актуальным периодом для платформ является срок: {int(round(sum(periods)/len(periods))/2)} года')"
   ]
  },
  {
   "cell_type": "markdown",
   "id": "0ec29ae3",
   "metadata": {},
   "source": [
    "**Вывод**\n",
    "\n",
    "Все платформы проходят период бурного роста, стагнации и падения популярности.Окончательное падение популярости было оценено продажами меньше 20 млн. долл. Такая оценка дала близкие величины актуальных периодов каждой платформы. "
   ]
  },
  {
   "cell_type": "markdown",
   "id": "ce7473de",
   "metadata": {},
   "source": [
    "### Выбор данных за актуальный период на 2016 год"
   ]
  },
  {
   "cell_type": "markdown",
   "id": "9254ddcc",
   "metadata": {},
   "source": [
    "<div class=\"alert alert-warning\">\n",
    "\n",
    "**⚠️Комментарий ревьюера**\n",
    "\n",
    "В качестве актуального периода я бы взял половину среднего срока жизни платформы. Или начиная от года выпуска консолей последнего поколения, таких как PS4 и XOne</div>"
   ]
  },
  {
   "cell_type": "markdown",
   "id": "0a5a541a",
   "metadata": {},
   "source": [
    "<div class=\"alert alert-block alert-info\">\n",
    "\n",
    "Актуальный период изменил </div>"
   ]
  },
  {
   "cell_type": "code",
   "execution_count": 16,
   "id": "d70ea61b",
   "metadata": {},
   "outputs": [
    {
     "name": "stdout",
     "output_type": "stream",
     "text": [
      "<class 'pandas.core.frame.DataFrame'>\n",
      "RangeIndex: 2236 entries, 0 to 2235\n",
      "Data columns (total 12 columns):\n",
      "name               2236 non-null object\n",
      "platform           2236 non-null object\n",
      "year_of_release    2236 non-null float64\n",
      "genre              2236 non-null object\n",
      "na_sales           2236 non-null float64\n",
      "eu_sales           2236 non-null float64\n",
      "jp_sales           2236 non-null float64\n",
      "other_sales        2236 non-null float64\n",
      "critic_score       993 non-null float64\n",
      "user_score         1194 non-null float64\n",
      "rating             1258 non-null object\n",
      "sum_sales          2236 non-null float64\n",
      "dtypes: float64(8), object(4)\n",
      "memory usage: 209.8+ KB\n"
     ]
    },
    {
     "data": {
      "text/plain": [
       "PS4     392\n",
       "PSV     358\n",
       "PS3     345\n",
       "3DS     303\n",
       "XOne    247\n",
       "PC      191\n",
       "X360    186\n",
       "WiiU    115\n",
       "PSP      68\n",
       "Wii      23\n",
       "DS        8\n",
       "Name: platform, dtype: int64"
      ]
     },
     "execution_count": 16,
     "metadata": {},
     "output_type": "execute_result"
    }
   ],
   "source": [
    "data_actual = data.query('year_of_release >= 2013') # перезаписываем в датафрейм данные за актуальный период\n",
    "data_actual = data_actual.reset_index(drop=True)    # производим переиндексацию\n",
    "data_actual.info()\n",
    "data_actual['platform'].value_counts()"
   ]
  },
  {
   "cell_type": "markdown",
   "id": "2d9158db",
   "metadata": {},
   "source": [
    "Датафрейм за актуальный период не содержит пропусков в годах выхода игры. Можно смело менять тип данных на int."
   ]
  },
  {
   "cell_type": "code",
   "execution_count": 17,
   "id": "bc7032c5",
   "metadata": {},
   "outputs": [
    {
     "data": {
      "text/html": [
       "<div>\n",
       "<style scoped>\n",
       "    .dataframe tbody tr th:only-of-type {\n",
       "        vertical-align: middle;\n",
       "    }\n",
       "\n",
       "    .dataframe tbody tr th {\n",
       "        vertical-align: top;\n",
       "    }\n",
       "\n",
       "    .dataframe thead th {\n",
       "        text-align: right;\n",
       "    }\n",
       "</style>\n",
       "<table border=\"1\" class=\"dataframe\">\n",
       "  <thead>\n",
       "    <tr style=\"text-align: right;\">\n",
       "      <th></th>\n",
       "      <th>name</th>\n",
       "      <th>platform</th>\n",
       "      <th>year_of_release</th>\n",
       "      <th>genre</th>\n",
       "      <th>na_sales</th>\n",
       "      <th>eu_sales</th>\n",
       "      <th>jp_sales</th>\n",
       "      <th>other_sales</th>\n",
       "      <th>critic_score</th>\n",
       "      <th>user_score</th>\n",
       "      <th>rating</th>\n",
       "      <th>sum_sales</th>\n",
       "    </tr>\n",
       "  </thead>\n",
       "  <tbody>\n",
       "    <tr>\n",
       "      <td>0</td>\n",
       "      <td>Grand Theft Auto V</td>\n",
       "      <td>PS3</td>\n",
       "      <td>2013</td>\n",
       "      <td>Action</td>\n",
       "      <td>7.02</td>\n",
       "      <td>9.09</td>\n",
       "      <td>0.98</td>\n",
       "      <td>3.96</td>\n",
       "      <td>97.0</td>\n",
       "      <td>8.2</td>\n",
       "      <td>M</td>\n",
       "      <td>21.05</td>\n",
       "    </tr>\n",
       "    <tr>\n",
       "      <td>1</td>\n",
       "      <td>Grand Theft Auto V</td>\n",
       "      <td>X360</td>\n",
       "      <td>2013</td>\n",
       "      <td>Action</td>\n",
       "      <td>9.66</td>\n",
       "      <td>5.14</td>\n",
       "      <td>0.06</td>\n",
       "      <td>1.41</td>\n",
       "      <td>97.0</td>\n",
       "      <td>8.1</td>\n",
       "      <td>M</td>\n",
       "      <td>16.27</td>\n",
       "    </tr>\n",
       "    <tr>\n",
       "      <td>2</td>\n",
       "      <td>Call of Duty: Black Ops 3</td>\n",
       "      <td>PS4</td>\n",
       "      <td>2015</td>\n",
       "      <td>Shooter</td>\n",
       "      <td>6.03</td>\n",
       "      <td>5.86</td>\n",
       "      <td>0.36</td>\n",
       "      <td>2.38</td>\n",
       "      <td>NaN</td>\n",
       "      <td>NaN</td>\n",
       "      <td>NaN</td>\n",
       "      <td>14.63</td>\n",
       "    </tr>\n",
       "    <tr>\n",
       "      <td>3</td>\n",
       "      <td>Pokemon X/Pokemon Y</td>\n",
       "      <td>3DS</td>\n",
       "      <td>2013</td>\n",
       "      <td>Role-Playing</td>\n",
       "      <td>5.28</td>\n",
       "      <td>4.19</td>\n",
       "      <td>4.35</td>\n",
       "      <td>0.78</td>\n",
       "      <td>NaN</td>\n",
       "      <td>NaN</td>\n",
       "      <td>NaN</td>\n",
       "      <td>14.60</td>\n",
       "    </tr>\n",
       "    <tr>\n",
       "      <td>4</td>\n",
       "      <td>Grand Theft Auto V</td>\n",
       "      <td>PS4</td>\n",
       "      <td>2014</td>\n",
       "      <td>Action</td>\n",
       "      <td>3.96</td>\n",
       "      <td>6.31</td>\n",
       "      <td>0.38</td>\n",
       "      <td>1.97</td>\n",
       "      <td>97.0</td>\n",
       "      <td>8.3</td>\n",
       "      <td>M</td>\n",
       "      <td>12.62</td>\n",
       "    </tr>\n",
       "  </tbody>\n",
       "</table>\n",
       "</div>"
      ],
      "text/plain": [
       "                        name platform  year_of_release         genre  \\\n",
       "0         Grand Theft Auto V      PS3             2013        Action   \n",
       "1         Grand Theft Auto V     X360             2013        Action   \n",
       "2  Call of Duty: Black Ops 3      PS4             2015       Shooter   \n",
       "3        Pokemon X/Pokemon Y      3DS             2013  Role-Playing   \n",
       "4         Grand Theft Auto V      PS4             2014        Action   \n",
       "\n",
       "   na_sales  eu_sales  jp_sales  other_sales  critic_score  user_score rating  \\\n",
       "0      7.02      9.09      0.98         3.96          97.0         8.2      M   \n",
       "1      9.66      5.14      0.06         1.41          97.0         8.1      M   \n",
       "2      6.03      5.86      0.36         2.38           NaN         NaN    NaN   \n",
       "3      5.28      4.19      4.35         0.78           NaN         NaN    NaN   \n",
       "4      3.96      6.31      0.38         1.97          97.0         8.3      M   \n",
       "\n",
       "   sum_sales  \n",
       "0      21.05  \n",
       "1      16.27  \n",
       "2      14.63  \n",
       "3      14.60  \n",
       "4      12.62  "
      ]
     },
     "execution_count": 17,
     "metadata": {},
     "output_type": "execute_result"
    }
   ],
   "source": [
    "data_actual['year_of_release'] = data_actual['year_of_release'].astype('int')   # меняем тип данных на int\n",
    "data_actual.head()"
   ]
  },
  {
   "cell_type": "markdown",
   "id": "3c0717c7",
   "metadata": {},
   "source": [
    "### Выбор потенциально прибыльных платформ"
   ]
  },
  {
   "cell_type": "code",
   "execution_count": 18,
   "id": "83517985",
   "metadata": {},
   "outputs": [
    {
     "data": {
      "text/html": [
       "<div>\n",
       "<style scoped>\n",
       "    .dataframe tbody tr th:only-of-type {\n",
       "        vertical-align: middle;\n",
       "    }\n",
       "\n",
       "    .dataframe tbody tr th {\n",
       "        vertical-align: top;\n",
       "    }\n",
       "\n",
       "    .dataframe thead th {\n",
       "        text-align: right;\n",
       "    }\n",
       "</style>\n",
       "<table border=\"1\" class=\"dataframe\">\n",
       "  <thead>\n",
       "    <tr style=\"text-align: right;\">\n",
       "      <th></th>\n",
       "      <th>platform</th>\n",
       "      <th>sum_sales</th>\n",
       "    </tr>\n",
       "  </thead>\n",
       "  <tbody>\n",
       "    <tr>\n",
       "      <td>0</td>\n",
       "      <td>PS4</td>\n",
       "      <td>314.14</td>\n",
       "    </tr>\n",
       "    <tr>\n",
       "      <td>1</td>\n",
       "      <td>PS3</td>\n",
       "      <td>181.43</td>\n",
       "    </tr>\n",
       "    <tr>\n",
       "      <td>2</td>\n",
       "      <td>XOne</td>\n",
       "      <td>159.32</td>\n",
       "    </tr>\n",
       "    <tr>\n",
       "      <td>3</td>\n",
       "      <td>3DS</td>\n",
       "      <td>143.25</td>\n",
       "    </tr>\n",
       "    <tr>\n",
       "      <td>4</td>\n",
       "      <td>X360</td>\n",
       "      <td>136.80</td>\n",
       "    </tr>\n",
       "    <tr>\n",
       "      <td>5</td>\n",
       "      <td>WiiU</td>\n",
       "      <td>64.63</td>\n",
       "    </tr>\n",
       "    <tr>\n",
       "      <td>6</td>\n",
       "      <td>PC</td>\n",
       "      <td>39.71</td>\n",
       "    </tr>\n",
       "  </tbody>\n",
       "</table>\n",
       "</div>"
      ],
      "text/plain": [
       "  platform  sum_sales\n",
       "0      PS4     314.14\n",
       "1      PS3     181.43\n",
       "2     XOne     159.32\n",
       "3      3DS     143.25\n",
       "4     X360     136.80\n",
       "5     WiiU      64.63\n",
       "6       PC      39.71"
      ]
     },
     "execution_count": 18,
     "metadata": {},
     "output_type": "execute_result"
    }
   ],
   "source": [
    "data_actual_top7 = data_actual.pivot_table(index = 'platform', values = 'sum_sales' , aggfunc='sum').sort_values( # создаём \n",
    "    by = 'sum_sales', ascending = False).head(7)            # сводную таблицу по продажам для платформ за актуальный период\n",
    "# сортируем её по убыванию и берём первые 7 позиций\n",
    "data_actual_top7 = data_actual_top7.reset_index()      # проводим переиндексацию\n",
    "data_actual_top7  # выводим на экран топ-7 за актуальный период"
   ]
  },
  {
   "cell_type": "markdown",
   "id": "05612d38",
   "metadata": {},
   "source": [
    "<div class=\"alert alert-warning\">\n",
    "\n",
    "**⚠️Комментарий ревьюера**\n",
    "\n",
    "Здесь сделал все хорошо, но опять же графикам стоит дать названия. И я бы добавил в список перспективных платформ так же PC. Все таки игры на него тоже выходят регулярно, путь и в меньших объемах</div>"
   ]
  },
  {
   "cell_type": "markdown",
   "id": "adde0744",
   "metadata": {},
   "source": [
    "<div class=\"alert alert-block alert-info\">\n",
    "\n",
    "Графики подправил. Из-за пересмотра актуального периода пришлось пересмотреть и перспективные платформы, в которые попал PC. </div>"
   ]
  },
  {
   "cell_type": "code",
   "execution_count": 19,
   "id": "be82af00",
   "metadata": {},
   "outputs": [
    {
     "data": {
      "image/png": "[encoded data removed]",
      "text/plain": [
       "<Figure size 432x288 with 1 Axes>"
      ]
     },
     "metadata": {
      "needs_background": "light"
     },
     "output_type": "display_data"
    },
    {
     "data": {
      "image/png": "[encoded data removed]",
      "text/plain": [
       "<Figure size 432x288 with 1 Axes>"
      ]
     },
     "metadata": {
      "needs_background": "light"
     },
     "output_type": "display_data"
    },
    {
     "data": {
      "image/png": "[encoded data removed]",
      "text/plain": [
       "<Figure size 432x288 with 1 Axes>"
      ]
     },
     "metadata": {
      "needs_background": "light"
     },
     "output_type": "display_data"
    },
    {
     "data": {
      "image/png": "[encoded data removed]",
      "text/plain": [
       "<Figure size 432x288 with 1 Axes>"
      ]
     },
     "metadata": {
      "needs_background": "light"
     },
     "output_type": "display_data"
    },
    {
     "data": {
      "image/png": "[encoded data removed]",
      "text/plain": [
       "<Figure size 432x288 with 1 Axes>"
      ]
     },
     "metadata": {
      "needs_background": "light"
     },
     "output_type": "display_data"
    },
    {
     "data": {
      "image/png": "[encoded data removed]",
      "text/plain": [
       "<Figure size 432x288 with 1 Axes>"
      ]
     },
     "metadata": {
      "needs_background": "light"
     },
     "output_type": "display_data"
    },
    {
     "data": {
      "image/png": "[encoded data removed]",
      "text/plain": [
       "<Figure size 432x288 with 1 Axes>"
      ]
     },
     "metadata": {
      "needs_background": "light"
     },
     "output_type": "display_data"
    }
   ],
   "source": [
    "top_actual_platforms = data_actual_top7['platform']  # создаём отдельную переменную с популярными платформами за акт. период\n",
    "data_actual_top7_years = data_actual.query('platform in @top_actual_platforms').pivot_table(  # создаём сводную таблицу сум.\n",
    "    index = ['platform','year_of_release'], values = 'sum_sales', aggfunc='sum')              # продаж по платформам и годам\n",
    "# игр\n",
    "for name in data_actual_top7['platform']: # в цикле строим графики распределения сум. продаж для каждой платформы\n",
    "    data_actual_top7_years.loc[pd.IndexSlice[name,:],:].reset_index().plot(\n",
    "        x = 'year_of_release', y = 'sum_sales', label = name, grid=True)\n",
    "    plt.ylabel(\"sum_sales\")\n",
    "    plt.title(\"Dependence sum_sales of year_of_release\")"
   ]
  },
  {
   "cell_type": "markdown",
   "id": "b61b8a32",
   "metadata": {},
   "source": [
    "**Вывод**\n",
    "\n",
    "Из графиков видно, что все топовые платформы показывают падение продаж в 2016 г. Для поиска нескольких перспективных платформ из топ-7 я выбрал условие, что продажи этой платформы не должны монотонно падать. Такими платформами оказались PS4, Xbox One, WiiU и PC. Результат вполне логичен, ведь это современные платформы."
   ]
  },
  {
   "cell_type": "markdown",
   "id": "79e791c0",
   "metadata": {},
   "source": [
    "### График \"ящик с усами\" в разбивке по платформам"
   ]
  },
  {
   "cell_type": "markdown",
   "id": "783387b4",
   "metadata": {},
   "source": [
    "Построим в начале график по всем платформам."
   ]
  },
  {
   "cell_type": "code",
   "execution_count": 20,
   "id": "ab4d4373",
   "metadata": {},
   "outputs": [
    {
     "data": {
      "text/plain": [
       "<matplotlib.axes._subplots.AxesSubplot at 0x7f7799073e90>"
      ]
     },
     "execution_count": 20,
     "metadata": {},
     "output_type": "execute_result"
    },
    {
     "data": {
      "image/png": "[encoded data removed]",
      "text/plain": [
       "<Figure size 432x288 with 1 Axes>"
      ]
     },
     "metadata": {
      "needs_background": "light"
     },
     "output_type": "display_data"
    }
   ],
   "source": [
    "data_actual.boxplot('sum_sales')         "
   ]
  },
  {
   "cell_type": "markdown",
   "id": "624b51e5",
   "metadata": {},
   "source": [
    "Из графика видно, что в данных много провальных игр. Наш магазин нацелен на продажи успешных и популярных игр, поэтому провальные и непопулярные игры следует исключить. Так как перспективные платформы значительно отличаются по суммарным продажам, то граница \"провальности\" будет у каждой платформы своя."
   ]
  },
  {
   "cell_type": "code",
   "execution_count": 21,
   "id": "eae2d8d3",
   "metadata": {},
   "outputs": [
    {
     "data": {
      "text/plain": [
       "(0, 10)"
      ]
     },
     "execution_count": 21,
     "metadata": {},
     "output_type": "execute_result"
    },
    {
     "data": {
      "image/png": "[encoded data removed]",
      "text/plain": [
       "<Figure size 432x288 with 1 Axes>"
      ]
     },
     "metadata": {
      "needs_background": "light"
     },
     "output_type": "display_data"
    }
   ],
   "source": [
    "border_spectr = []                          # задаём пустой массив, где будут храниться границы провальности игр\n",
    "for plat in ['PS4', 'XOne','WiiU','PC']:                                                                             # находим среднее зна-\n",
    "    border_spectr.append((data_actual.query('platform == @plat')['sum_sales'].max() + data_actual.query( # чение относительно\n",
    "    'platform == @plat')['sum_sales'].min()) / 2 * 0.05)                                                 # разброса для каждой\n",
    "########################################################################################################## платформы. Считаем \n",
    "# игру провальной, если её продажи ниже 5% от вычисленного таким образом среднего\n",
    "\n",
    "data_PS4 = data_actual.query('platform == \"PS4\" and sum_sales > @border_spectr[0]')['sum_sales']  # фильтруем успешные проекты \n",
    "# на PS4 и берём значение сумманых продаж\n",
    "data_XOne = data_actual.query('platform == \"XOne\" and sum_sales > @border_spectr[1]')['sum_sales'] # фильтруем успешные проекты \n",
    "# на XOne и берём значение сумманых продаж\n",
    "data_WiiU = data_actual.query('platform == \"WiiU\" and sum_sales > @border_spectr[2]')['sum_sales'] # фильтруем успешные проекты\n",
    "# на WiiU и берём значение сумманых продаж\n",
    "data_PC = data_actual.query('platform == \"PC\" and sum_sales > @border_spectr[3]')['sum_sales'] # фильтруем успешные проекты\n",
    "# на PC и берём значение сумманых продаж\n",
    "\n",
    "data_perspective = pd.concat([data_PS4, data_XOne, data_WiiU, data_PC], axis=1) # создаём датафрейм из значений суммарных продаж успешных проектов на\n",
    "# 2 рассматриваемых платформах\n",
    "data_perspective.columns = ['PS4','XOne','WiiU', 'PC'] # переименовываем названия столбцов\n",
    "data_perspective.boxplot()  # выводим диаграмму с усами для перспективных платформ\n",
    "plt.ylabel(\"sum_sales\")\n",
    "plt.title(\"Boxplot for perspective platforms\")\n",
    "plt.ylim([0, 10])\n",
    "\n"
   ]
  },
  {
   "cell_type": "markdown",
   "id": "726a8123",
   "metadata": {},
   "source": [
    "<div class=\"alert alert-warning\">\n",
    "\n",
    "**⚠️Комментарий ревьюера**\n",
    "\n",
    "Бокс плоты рекомендую сделать крепнее засчет параметра `ylim`</div>"
   ]
  },
  {
   "cell_type": "markdown",
   "id": "8d26c37a",
   "metadata": {},
   "source": [
    "<div class=\"alert alert-block alert-info\">\n",
    "\n",
    "Бокс плоты немного обрезал сверху для увеличения масштаба </div>"
   ]
  },
  {
   "cell_type": "markdown",
   "id": "ab0e7ba2",
   "metadata": {},
   "source": [
    "**Вывод**\n",
    "\n",
    "По полученной диаграмме с усами можно видеть, что распределение сумммарной выручки на четырёх платформах не описывается нормальным распределением. Медианы всех платформ смещены к 0. PS4 выглядит более интересным, поскольку у этой платформы медианное значение выше."
   ]
  },
  {
   "cell_type": "markdown",
   "id": "469df996",
   "metadata": {},
   "source": [
    "### Определение влияния оценок пользователей и критиков на продажи для платформы PS4\n"
   ]
  },
  {
   "cell_type": "markdown",
   "id": "1f5fa162",
   "metadata": {},
   "source": [
    "В качестве популярной и перспективной платформы рассмотрим Playstation 4.\n"
   ]
  },
  {
   "cell_type": "markdown",
   "id": "8dce6c02",
   "metadata": {},
   "source": [
    "#### Влияние оценок критиков"
   ]
  },
  {
   "cell_type": "code",
   "execution_count": 22,
   "id": "fe3e035f",
   "metadata": {},
   "outputs": [
    {
     "data": {
      "image/png": "[encoded data removed]",
      "text/plain": [
       "<Figure size 432x288 with 1 Axes>"
      ]
     },
     "metadata": {
      "needs_background": "light"
     },
     "output_type": "display_data"
    },
    {
     "name": "stdout",
     "output_type": "stream",
     "text": [
      "Корреляция между суммарными продажами и оценкой критиков: 0.4055823401864579\n"
     ]
    }
   ],
   "source": [
    "data_actual_PS4 = data_actual.query('platform == \"PS4\" and sum_sales > @border_spectr[0]') # берём данные по успешным играм на \n",
    "# платформе PS4\n",
    "data_actual_PS4.plot(x='critic_score', y='sum_sales', kind='scatter') # стоим диаграмму рассеяниядля отзывов пользователей и \n",
    "# суммарных продаж\n",
    "plt.show()\n",
    "print('Корреляция между суммарными продажами и оценкой критиков:', data_actual_PS4['sum_sales'].corr(\n",
    "    data_actual_PS4['critic_score']))  # вычисление соответствующей корреляции"
   ]
  },
  {
   "cell_type": "markdown",
   "id": "e479b0a5",
   "metadata": {},
   "source": [
    "#### Влияние оценок пользователей"
   ]
  },
  {
   "cell_type": "code",
   "execution_count": 23,
   "id": "f148cb19",
   "metadata": {},
   "outputs": [
    {
     "data": {
      "image/png": "[encoded data removed]",
      "text/plain": [
       "<Figure size 432x288 with 1 Axes>"
      ]
     },
     "metadata": {
      "needs_background": "light"
     },
     "output_type": "display_data"
    },
    {
     "name": "stdout",
     "output_type": "stream",
     "text": [
      "Корреляция между суммарными продажами и оценкой пользователей: -0.08996574274181433\n"
     ]
    }
   ],
   "source": [
    "data_actual_PS4.plot(x='user_score', y='sum_sales', kind='scatter') # строим диаграмму рассеяния для отзывов пользователей и \n",
    "# суммарных продаж\n",
    "plt.show()\n",
    "print('Корреляция между суммарными продажами и оценкой пользователей:',data_actual_PS4['sum_sales'].corr(\n",
    "    data_actual_PS4['user_score'])) # вычисление соответствующей корреляции"
   ]
  },
  {
   "cell_type": "markdown",
   "id": "1f0d10b3",
   "metadata": {},
   "source": [
    "<div class=\"alert alert-success\">\n",
    "\n",
    "**✅Комментарий ревьюера**\n",
    "\n",
    "Здесь все сделал хорошо, со всем согласен</div>"
   ]
  },
  {
   "cell_type": "markdown",
   "id": "ede84840",
   "metadata": {},
   "source": [
    "**Вывод**\n",
    "\n",
    "Между оценкой критиков и объёмом выручки действительно есть слабая корреляция, а вот оценки пользователей никак не связаны с выручкой игры. Корреляция между оценками пользователей и выручкой близка к 0."
   ]
  },
  {
   "cell_type": "markdown",
   "id": "01ef774c",
   "metadata": {},
   "source": [
    "### Определение влияния оценок пользователей и критиков на продажи для других платформ"
   ]
  },
  {
   "cell_type": "code",
   "execution_count": 24,
   "id": "cb62a9ad",
   "metadata": {},
   "outputs": [
    {
     "name": "stdout",
     "output_type": "stream",
     "text": [
      "Корреляция между суммарными продажами и оценкой критиков: 0.27967664180394164\n",
      "Корреляция между суммарными продажами и оценкой пользователей: 0.0005082296370531389\n"
     ]
    }
   ],
   "source": [
    "border_all = (data_actual.query('platform == @plat')['sum_sales'].max() + data_actual.query( # определение границы провальности\n",
    "    'platform == @plat')['sum_sales'].min()) / 2 * 0.05             # для других платформ\n",
    "\n",
    "print('Корреляция между суммарными продажами и оценкой критиков:', data_actual.query(\n",
    "    'platform != \"PS4\" and sum_sales >= @border_all')['sum_sales'].corr(data_actual['critic_score']))\n",
    "print('Корреляция между суммарными продажами и оценкой пользователей:', data_actual.query(\n",
    "    'platform != \"PS4\" and sum_sales >= @border_all')['sum_sales'].corr(data_actual['user_score']))"
   ]
  },
  {
   "cell_type": "markdown",
   "id": "2eb4d906",
   "metadata": {},
   "source": [
    "**Вывод**\n",
    "\n",
    "Для других платформ оценки критиков не так значимы для выручки, но некая взаимосвязь всё-таки есть. Что же касается оценок пользователей, то они и здесь никак не влияют на выручку.  Различия в корреляции для PS4 и для других платформ кроется в том, что PS4 - современная и перспективная платформа, к ней обращено внимание публики, а многие другие платформы из датафрейма уже на закате популярности. Для игр с этих платформ хоть 10 из 10 поставь, всё равно выручка сильно не вырастет."
   ]
  },
  {
   "cell_type": "markdown",
   "id": "8521fcf9",
   "metadata": {},
   "source": [
    "### Распределение игр по жанрам. Поиск популярных и непопулярных жанров"
   ]
  },
  {
   "cell_type": "markdown",
   "id": "8976a139",
   "metadata": {},
   "source": [
    "<div class=\"alert alert-warning\">\n",
    "\n",
    "**⚠️Комментарий ревьюера**\n",
    "\n",
    "Лучше было бы здесь построить боксплоты, это позволило бы оценить распредлеения. Увидеть квартили, выбросы, медиану. </div>"
   ]
  },
  {
   "cell_type": "code",
   "execution_count": 25,
   "id": "78e43657",
   "metadata": {},
   "outputs": [
    {
     "name": "stdout",
     "output_type": "stream",
     "text": [
      "Самыми популярными жанрами являются:\n"
     ]
    },
    {
     "data": {
      "text/html": [
       "<div>\n",
       "<style scoped>\n",
       "    .dataframe tbody tr th:only-of-type {\n",
       "        vertical-align: middle;\n",
       "    }\n",
       "\n",
       "    .dataframe tbody tr th {\n",
       "        vertical-align: top;\n",
       "    }\n",
       "\n",
       "    .dataframe thead th {\n",
       "        text-align: right;\n",
       "    }\n",
       "</style>\n",
       "<table border=\"1\" class=\"dataframe\">\n",
       "  <thead>\n",
       "    <tr style=\"text-align: right;\">\n",
       "      <th></th>\n",
       "      <th>sum_sales</th>\n",
       "    </tr>\n",
       "    <tr>\n",
       "      <th>genre</th>\n",
       "      <th></th>\n",
       "    </tr>\n",
       "  </thead>\n",
       "  <tbody>\n",
       "    <tr>\n",
       "      <td>Action</td>\n",
       "      <td>322.15</td>\n",
       "    </tr>\n",
       "    <tr>\n",
       "      <td>Shooter</td>\n",
       "      <td>232.98</td>\n",
       "    </tr>\n",
       "    <tr>\n",
       "      <td>Sports</td>\n",
       "      <td>150.65</td>\n",
       "    </tr>\n",
       "  </tbody>\n",
       "</table>\n",
       "</div>"
      ],
      "text/plain": [
       "         sum_sales\n",
       "genre             \n",
       "Action      322.15\n",
       "Shooter     232.98\n",
       "Sports      150.65"
      ]
     },
     "metadata": {},
     "output_type": "display_data"
    },
    {
     "name": "stdout",
     "output_type": "stream",
     "text": [
      "Самыми непопулярными жанрами оказались:\n"
     ]
    },
    {
     "data": {
      "text/html": [
       "<div>\n",
       "<style scoped>\n",
       "    .dataframe tbody tr th:only-of-type {\n",
       "        vertical-align: middle;\n",
       "    }\n",
       "\n",
       "    .dataframe tbody tr th {\n",
       "        vertical-align: top;\n",
       "    }\n",
       "\n",
       "    .dataframe thead th {\n",
       "        text-align: right;\n",
       "    }\n",
       "</style>\n",
       "<table border=\"1\" class=\"dataframe\">\n",
       "  <thead>\n",
       "    <tr style=\"text-align: right;\">\n",
       "      <th></th>\n",
       "      <th>sum_sales</th>\n",
       "    </tr>\n",
       "    <tr>\n",
       "      <th>genre</th>\n",
       "      <th></th>\n",
       "    </tr>\n",
       "  </thead>\n",
       "  <tbody>\n",
       "    <tr>\n",
       "      <td>Simulation</td>\n",
       "      <td>21.76</td>\n",
       "    </tr>\n",
       "    <tr>\n",
       "      <td>Strategy</td>\n",
       "      <td>10.08</td>\n",
       "    </tr>\n",
       "    <tr>\n",
       "      <td>Puzzle</td>\n",
       "      <td>3.17</td>\n",
       "    </tr>\n",
       "  </tbody>\n",
       "</table>\n",
       "</div>"
      ],
      "text/plain": [
       "            sum_sales\n",
       "genre                \n",
       "Simulation      21.76\n",
       "Strategy        10.08\n",
       "Puzzle           3.17"
      ]
     },
     "metadata": {},
     "output_type": "display_data"
    }
   ],
   "source": [
    "data_genres = data_actual.pivot_table(index='genre', values='sum_sales', aggfunc='sum').sort_values( # создаём сводную таблицу\n",
    "    by='sum_sales', ascending=False)          # по жанрам игр за актуальный период, сортируем таблицу по убыванию\n",
    "print('Самыми популярными жанрами являются:') \n",
    "display(data_genres.head(3))           # выводим топ-3 жанра\n",
    "print('Самыми непопулярными жанрами оказались:')\n",
    "display(data_genres.tail(3))           # выводим 3 жанра в хвосте популярности"
   ]
  },
  {
   "cell_type": "markdown",
   "id": "c7a2d908",
   "metadata": {},
   "source": [
    "**Вывод**\n",
    "\n",
    "Как показывают данные, люди предпочитают динамичные игры. Игры спокойные и требующие умственного напряжения плетутся в конце топа.  "
   ]
  },
  {
   "cell_type": "markdown",
   "id": "7e313af4",
   "metadata": {},
   "source": [
    "## Портрет пользователя каждого региона"
   ]
  },
  {
   "cell_type": "markdown",
   "id": "53a9c8ca",
   "metadata": {},
   "source": [
    "В начале исследования портретов будут приведены данные отдельно по регионам, а затем приведены совмещённые данные для удобства анализа."
   ]
  },
  {
   "cell_type": "markdown",
   "id": "9f54361b",
   "metadata": {},
   "source": [
    "### Регион NA"
   ]
  },
  {
   "cell_type": "markdown",
   "id": "7298dda3",
   "metadata": {},
   "source": [
    "<div class=\"alert alert-warning\">\n",
    "\n",
    "**⚠️Комментарий ревьюера**\n",
    "\n",
    "В целом хорошо справился с построением портретов пользователя для каждого сегмента. Но бы посоветовал сделать его не отдельно для каждого региона, а наоборот отдельно по каждому параметру, но по регионам вместе. Так регионы будет легче друг с другом сравнивать. Например на одном графке можно сразу же показать топ 5 платформ каждого региона. Или не не графике, а таблицей</div>"
   ]
  },
  {
   "cell_type": "markdown",
   "id": "3b4d1097",
   "metadata": {},
   "source": [
    "<div class=\"alert alert-block alert-info\">\n",
    "\n",
    "Да, у меня как раз далее приводятся графики для каждого параметра, совмещённые по регионам. </div>"
   ]
  },
  {
   "cell_type": "code",
   "execution_count": 26,
   "id": "195311e6",
   "metadata": {},
   "outputs": [
    {
     "data": {
      "text/html": [
       "<div>\n",
       "<style scoped>\n",
       "    .dataframe tbody tr th:only-of-type {\n",
       "        vertical-align: middle;\n",
       "    }\n",
       "\n",
       "    .dataframe tbody tr th {\n",
       "        vertical-align: top;\n",
       "    }\n",
       "\n",
       "    .dataframe thead th {\n",
       "        text-align: right;\n",
       "    }\n",
       "</style>\n",
       "<table border=\"1\" class=\"dataframe\">\n",
       "  <thead>\n",
       "    <tr style=\"text-align: right;\">\n",
       "      <th></th>\n",
       "      <th>platform</th>\n",
       "      <th>na_sales</th>\n",
       "    </tr>\n",
       "  </thead>\n",
       "  <tbody>\n",
       "    <tr>\n",
       "      <td>0</td>\n",
       "      <td>PS4</td>\n",
       "      <td>108.74</td>\n",
       "    </tr>\n",
       "    <tr>\n",
       "      <td>1</td>\n",
       "      <td>XOne</td>\n",
       "      <td>93.12</td>\n",
       "    </tr>\n",
       "    <tr>\n",
       "      <td>2</td>\n",
       "      <td>X360</td>\n",
       "      <td>81.66</td>\n",
       "    </tr>\n",
       "    <tr>\n",
       "      <td>3</td>\n",
       "      <td>PS3</td>\n",
       "      <td>63.50</td>\n",
       "    </tr>\n",
       "    <tr>\n",
       "      <td>4</td>\n",
       "      <td>3DS</td>\n",
       "      <td>38.20</td>\n",
       "    </tr>\n",
       "  </tbody>\n",
       "</table>\n",
       "</div>"
      ],
      "text/plain": [
       "  platform  na_sales\n",
       "0      PS4    108.74\n",
       "1     XOne     93.12\n",
       "2     X360     81.66\n",
       "3      PS3     63.50\n",
       "4      3DS     38.20"
      ]
     },
     "metadata": {},
     "output_type": "display_data"
    },
    {
     "data": {
      "text/html": [
       "<div>\n",
       "<style scoped>\n",
       "    .dataframe tbody tr th:only-of-type {\n",
       "        vertical-align: middle;\n",
       "    }\n",
       "\n",
       "    .dataframe tbody tr th {\n",
       "        vertical-align: top;\n",
       "    }\n",
       "\n",
       "    .dataframe thead th {\n",
       "        text-align: right;\n",
       "    }\n",
       "</style>\n",
       "<table border=\"1\" class=\"dataframe\">\n",
       "  <thead>\n",
       "    <tr style=\"text-align: right;\">\n",
       "      <th></th>\n",
       "      <th>genre</th>\n",
       "      <th>na_sales</th>\n",
       "    </tr>\n",
       "  </thead>\n",
       "  <tbody>\n",
       "    <tr>\n",
       "      <td>0</td>\n",
       "      <td>Action</td>\n",
       "      <td>126.07</td>\n",
       "    </tr>\n",
       "    <tr>\n",
       "      <td>1</td>\n",
       "      <td>Shooter</td>\n",
       "      <td>109.74</td>\n",
       "    </tr>\n",
       "    <tr>\n",
       "      <td>2</td>\n",
       "      <td>Sports</td>\n",
       "      <td>65.27</td>\n",
       "    </tr>\n",
       "    <tr>\n",
       "      <td>3</td>\n",
       "      <td>Role-Playing</td>\n",
       "      <td>46.40</td>\n",
       "    </tr>\n",
       "    <tr>\n",
       "      <td>4</td>\n",
       "      <td>Misc</td>\n",
       "      <td>27.49</td>\n",
       "    </tr>\n",
       "  </tbody>\n",
       "</table>\n",
       "</div>"
      ],
      "text/plain": [
       "          genre  na_sales\n",
       "0        Action    126.07\n",
       "1       Shooter    109.74\n",
       "2        Sports     65.27\n",
       "3  Role-Playing     46.40\n",
       "4          Misc     27.49"
      ]
     },
     "metadata": {},
     "output_type": "display_data"
    },
    {
     "data": {
      "text/plain": [
       "Text(0.5, 1.0, 'Barplot of sum_sales for different ratings')"
      ]
     },
     "execution_count": 26,
     "metadata": {},
     "output_type": "execute_result"
    },
    {
     "data": {
      "image/png": "[encoded data removed]",
      "text/plain": [
       "<Figure size 432x288 with 1 Axes>"
      ]
     },
     "metadata": {
      "needs_background": "light"
     },
     "output_type": "display_data"
    }
   ],
   "source": [
    "data_top5_na = data_actual.pivot_table(index = 'platform', values = 'na_sales' , aggfunc='sum').sort_values( # создаём сводную\n",
    "    by = 'na_sales', ascending = False).head().reset_index()             # таблицу продаж в СА по платфомам, берём первые 5\n",
    "# строк и переиндексируем их\n",
    "display(data_top5_na)  # вывод топ-5 платформ в СА\n",
    "genres_top5_na = data_actual.pivot_table(index='genre', values='na_sales', aggfunc = 'sum').sort_values( # создаём сводную\n",
    "    by = 'na_sales', ascending = False).head().reset_index()            # таблицу продаж в СА по жанрам, берём первые 5 строк\n",
    "# и переиндексируем их\n",
    "display(genres_top5_na) # вывод топ-5 жанров в СА\n",
    "rating_na = data_actual.pivot_table(                     # создаём сводную таблицу продаж игр за актуальный период по рейтигу\n",
    "    index = 'rating', values='na_sales', aggfunc='sum') # \n",
    "rating_na.plot(kind='bar', grid=True) # вывод диаграммы\n",
    "plt.ylabel(\"sum_sales\")\n",
    "plt.title(\"Barplot of sum_sales for different ratings\")"
   ]
  },
  {
   "cell_type": "markdown",
   "id": "b00b30bc",
   "metadata": {},
   "source": [
    "### Регион EU"
   ]
  },
  {
   "cell_type": "code",
   "execution_count": 27,
   "id": "bb11e209",
   "metadata": {},
   "outputs": [
    {
     "name": "stdout",
     "output_type": "stream",
     "text": [
      "Самые популярные платформы в Европе\n"
     ]
    },
    {
     "data": {
      "text/html": [
       "<div>\n",
       "<style scoped>\n",
       "    .dataframe tbody tr th:only-of-type {\n",
       "        vertical-align: middle;\n",
       "    }\n",
       "\n",
       "    .dataframe tbody tr th {\n",
       "        vertical-align: top;\n",
       "    }\n",
       "\n",
       "    .dataframe thead th {\n",
       "        text-align: right;\n",
       "    }\n",
       "</style>\n",
       "<table border=\"1\" class=\"dataframe\">\n",
       "  <thead>\n",
       "    <tr style=\"text-align: right;\">\n",
       "      <th></th>\n",
       "      <th>platform</th>\n",
       "      <th>eu_sales</th>\n",
       "    </tr>\n",
       "  </thead>\n",
       "  <tbody>\n",
       "    <tr>\n",
       "      <td>0</td>\n",
       "      <td>PS4</td>\n",
       "      <td>141.09</td>\n",
       "    </tr>\n",
       "    <tr>\n",
       "      <td>1</td>\n",
       "      <td>PS3</td>\n",
       "      <td>67.81</td>\n",
       "    </tr>\n",
       "    <tr>\n",
       "      <td>2</td>\n",
       "      <td>XOne</td>\n",
       "      <td>51.59</td>\n",
       "    </tr>\n",
       "    <tr>\n",
       "      <td>3</td>\n",
       "      <td>X360</td>\n",
       "      <td>42.52</td>\n",
       "    </tr>\n",
       "    <tr>\n",
       "      <td>4</td>\n",
       "      <td>3DS</td>\n",
       "      <td>30.96</td>\n",
       "    </tr>\n",
       "  </tbody>\n",
       "</table>\n",
       "</div>"
      ],
      "text/plain": [
       "  platform  eu_sales\n",
       "0      PS4    141.09\n",
       "1      PS3     67.81\n",
       "2     XOne     51.59\n",
       "3     X360     42.52\n",
       "4      3DS     30.96"
      ]
     },
     "metadata": {},
     "output_type": "display_data"
    },
    {
     "name": "stdout",
     "output_type": "stream",
     "text": [
      "Самые популярные жанры в Европе\n"
     ]
    },
    {
     "data": {
      "text/html": [
       "<div>\n",
       "<style scoped>\n",
       "    .dataframe tbody tr th:only-of-type {\n",
       "        vertical-align: middle;\n",
       "    }\n",
       "\n",
       "    .dataframe tbody tr th {\n",
       "        vertical-align: top;\n",
       "    }\n",
       "\n",
       "    .dataframe thead th {\n",
       "        text-align: right;\n",
       "    }\n",
       "</style>\n",
       "<table border=\"1\" class=\"dataframe\">\n",
       "  <thead>\n",
       "    <tr style=\"text-align: right;\">\n",
       "      <th></th>\n",
       "      <th>genre</th>\n",
       "      <th>eu_sales</th>\n",
       "    </tr>\n",
       "  </thead>\n",
       "  <tbody>\n",
       "    <tr>\n",
       "      <td>0</td>\n",
       "      <td>Action</td>\n",
       "      <td>118.36</td>\n",
       "    </tr>\n",
       "    <tr>\n",
       "      <td>1</td>\n",
       "      <td>Shooter</td>\n",
       "      <td>87.86</td>\n",
       "    </tr>\n",
       "    <tr>\n",
       "      <td>2</td>\n",
       "      <td>Sports</td>\n",
       "      <td>60.52</td>\n",
       "    </tr>\n",
       "    <tr>\n",
       "      <td>3</td>\n",
       "      <td>Role-Playing</td>\n",
       "      <td>36.97</td>\n",
       "    </tr>\n",
       "    <tr>\n",
       "      <td>4</td>\n",
       "      <td>Racing</td>\n",
       "      <td>20.19</td>\n",
       "    </tr>\n",
       "  </tbody>\n",
       "</table>\n",
       "</div>"
      ],
      "text/plain": [
       "          genre  eu_sales\n",
       "0        Action    118.36\n",
       "1       Shooter     87.86\n",
       "2        Sports     60.52\n",
       "3  Role-Playing     36.97\n",
       "4        Racing     20.19"
      ]
     },
     "metadata": {},
     "output_type": "display_data"
    },
    {
     "data": {
      "text/plain": [
       "Text(0.5, 1.0, 'Barplot of sum_sales for different ratings')"
      ]
     },
     "execution_count": 27,
     "metadata": {},
     "output_type": "execute_result"
    },
    {
     "data": {
      "image/png": "[encoded data removed]",
      "text/plain": [
       "<Figure size 432x288 with 1 Axes>"
      ]
     },
     "metadata": {
      "needs_background": "light"
     },
     "output_type": "display_data"
    }
   ],
   "source": [
    "data_top5_eu = data_actual.pivot_table(index = 'platform', values = 'eu_sales' , aggfunc='sum').sort_values( # создаём сводную\n",
    "    by = 'eu_sales', ascending = False).head().reset_index()              # таблицу продаж в Европе по платфомам, берём первые 5\n",
    "# строк и переиндексируем их\n",
    "print('Самые популярные платформы в Европе') \n",
    "display(data_top5_eu) # вывод топ-5 платформ в Европе\n",
    "genres_top5_eu = data_actual.pivot_table(index = 'genre', values = 'eu_sales' , aggfunc='sum').sort_values( # создаём сводную\n",
    "    by = 'eu_sales', ascending = False).head().reset_index()        # таблицу продаж в СА по жанрам, берём первые 5 строк\n",
    "# и переиндексируем их\n",
    "print('Самые популярные жанры в Европе')\n",
    "display(genres_top5_eu) # вывод топ-5 жанров в Европе\n",
    "rating_eu = data_actual.pivot_table( # создаём сводную таблицу продаж игр за актуальный период по рейтигу\n",
    "    index = 'rating', values='eu_sales', aggfunc='sum')\n",
    "#ax = rating_eu.plot(kind='bar') \n",
    "rating_eu.plot(kind='bar', grid=True) # вывод диаграммы\n",
    "plt.ylabel(\"sum_sales\")\n",
    "plt.title(\"Barplot of sum_sales for different ratings\")"
   ]
  },
  {
   "cell_type": "markdown",
   "id": "3738ed60",
   "metadata": {},
   "source": [
    "### Регион JP"
   ]
  },
  {
   "cell_type": "code",
   "execution_count": 28,
   "id": "fff75009",
   "metadata": {},
   "outputs": [
    {
     "data": {
      "text/plain": [
       "'Самые популярные платформы в Японии'"
      ]
     },
     "metadata": {},
     "output_type": "display_data"
    },
    {
     "data": {
      "text/html": [
       "<div>\n",
       "<style scoped>\n",
       "    .dataframe tbody tr th:only-of-type {\n",
       "        vertical-align: middle;\n",
       "    }\n",
       "\n",
       "    .dataframe tbody tr th {\n",
       "        vertical-align: top;\n",
       "    }\n",
       "\n",
       "    .dataframe thead th {\n",
       "        text-align: right;\n",
       "    }\n",
       "</style>\n",
       "<table border=\"1\" class=\"dataframe\">\n",
       "  <thead>\n",
       "    <tr style=\"text-align: right;\">\n",
       "      <th></th>\n",
       "      <th>platform</th>\n",
       "      <th>jp_sales</th>\n",
       "    </tr>\n",
       "  </thead>\n",
       "  <tbody>\n",
       "    <tr>\n",
       "      <td>0</td>\n",
       "      <td>3DS</td>\n",
       "      <td>67.81</td>\n",
       "    </tr>\n",
       "    <tr>\n",
       "      <td>1</td>\n",
       "      <td>PS3</td>\n",
       "      <td>23.35</td>\n",
       "    </tr>\n",
       "    <tr>\n",
       "      <td>2</td>\n",
       "      <td>PSV</td>\n",
       "      <td>18.59</td>\n",
       "    </tr>\n",
       "    <tr>\n",
       "      <td>3</td>\n",
       "      <td>PS4</td>\n",
       "      <td>15.96</td>\n",
       "    </tr>\n",
       "    <tr>\n",
       "      <td>4</td>\n",
       "      <td>WiiU</td>\n",
       "      <td>10.88</td>\n",
       "    </tr>\n",
       "  </tbody>\n",
       "</table>\n",
       "</div>"
      ],
      "text/plain": [
       "  platform  jp_sales\n",
       "0      3DS     67.81\n",
       "1      PS3     23.35\n",
       "2      PSV     18.59\n",
       "3      PS4     15.96\n",
       "4     WiiU     10.88"
      ]
     },
     "metadata": {},
     "output_type": "display_data"
    },
    {
     "name": "stdout",
     "output_type": "stream",
     "text": [
      "Самые популярные жанры в Японии\n"
     ]
    },
    {
     "data": {
      "text/html": [
       "<div>\n",
       "<style scoped>\n",
       "    .dataframe tbody tr th:only-of-type {\n",
       "        vertical-align: middle;\n",
       "    }\n",
       "\n",
       "    .dataframe tbody tr th {\n",
       "        vertical-align: top;\n",
       "    }\n",
       "\n",
       "    .dataframe thead th {\n",
       "        text-align: right;\n",
       "    }\n",
       "</style>\n",
       "<table border=\"1\" class=\"dataframe\">\n",
       "  <thead>\n",
       "    <tr style=\"text-align: right;\">\n",
       "      <th></th>\n",
       "      <th>genre</th>\n",
       "      <th>jp_sales</th>\n",
       "    </tr>\n",
       "  </thead>\n",
       "  <tbody>\n",
       "    <tr>\n",
       "      <td>0</td>\n",
       "      <td>Role-Playing</td>\n",
       "      <td>51.04</td>\n",
       "    </tr>\n",
       "    <tr>\n",
       "      <td>1</td>\n",
       "      <td>Action</td>\n",
       "      <td>40.49</td>\n",
       "    </tr>\n",
       "    <tr>\n",
       "      <td>2</td>\n",
       "      <td>Misc</td>\n",
       "      <td>9.44</td>\n",
       "    </tr>\n",
       "    <tr>\n",
       "      <td>3</td>\n",
       "      <td>Fighting</td>\n",
       "      <td>7.65</td>\n",
       "    </tr>\n",
       "    <tr>\n",
       "      <td>4</td>\n",
       "      <td>Shooter</td>\n",
       "      <td>6.61</td>\n",
       "    </tr>\n",
       "  </tbody>\n",
       "</table>\n",
       "</div>"
      ],
      "text/plain": [
       "          genre  jp_sales\n",
       "0  Role-Playing     51.04\n",
       "1        Action     40.49\n",
       "2          Misc      9.44\n",
       "3      Fighting      7.65\n",
       "4       Shooter      6.61"
      ]
     },
     "metadata": {},
     "output_type": "display_data"
    },
    {
     "data": {
      "text/plain": [
       "Text(0.5, 1.0, 'Barplot of sum_sales for different ratings')"
      ]
     },
     "execution_count": 28,
     "metadata": {},
     "output_type": "execute_result"
    },
    {
     "data": {
      "image/png": "[encoded data removed]",
      "text/plain": [
       "<Figure size 432x288 with 1 Axes>"
      ]
     },
     "metadata": {
      "needs_background": "light"
     },
     "output_type": "display_data"
    }
   ],
   "source": [
    "data_top5_jp = data_actual.pivot_table(index = 'platform', values = 'jp_sales' , aggfunc='sum').sort_values( # создаём сводную\n",
    "    by = 'jp_sales', ascending = False).head().reset_index()  # таблицу продаж в Японии по платфомам, берём первые 5\n",
    "# строк и переиндексируем их\n",
    "display('Самые популярные платформы в Японии', data_top5_jp) # вывод топ-5 платформ в Японии\n",
    "print('Самые популярные жанры в Японии') # вывод топ-5 жанров в Японии\n",
    "genres_top5_jp = data_actual.pivot_table(index = 'genre', values = 'jp_sales' , aggfunc='sum').sort_values( # создаём сводную\n",
    "    by = 'jp_sales', ascending = False).head().reset_index() # таблицу продаж в Японии по жанрам, берём первые 5 строк\n",
    "# и переиндексируем их\n",
    "display(genres_top5_jp)\n",
    "rating_jp = data_actual.pivot_table( # создаём сводную таблицу продаж игр за актуальный период по рейтигу\n",
    "    index = 'rating', values='jp_sales', aggfunc='sum')\n",
    "rating_jp.plot(kind = 'bar', grid=True) # вывод диаграммы\n",
    "plt.ylabel(\"sum_sales\")\n",
    "plt.title(\"Barplot of sum_sales for different ratings\")"
   ]
  },
  {
   "cell_type": "markdown",
   "id": "ff19708e",
   "metadata": {},
   "source": [
    "<div class=\"alert alert-danger\">\n",
    "\n",
    "**❌Комментарий ревьюера**\n",
    "\n",
    "В ячейке ниже увы код упал с ошибкой `AttributeError: 'Rectangle' object has no property 'ylabel'` Пожалуйста, внеси исправления и присылай работу на повторную проверку. \n",
    "</div>"
   ]
  },
  {
   "cell_type": "markdown",
   "id": "fd8ea420",
   "metadata": {},
   "source": [
    "<div class=\"alert alert-block alert-info\">\n",
    "\n",
    "Теперь всё работает </div>"
   ]
  },
  {
   "cell_type": "code",
   "execution_count": 29,
   "id": "a2bebfcc",
   "metadata": {},
   "outputs": [
    {
     "data": {
      "image/png": "[encoded data removed]",
      "text/plain": [
       "<Figure size 432x288 with 1 Axes>"
      ]
     },
     "metadata": {
      "needs_background": "light"
     },
     "output_type": "display_data"
    },
    {
     "data": {
      "image/png": "[encoded data removed]",
      "text/plain": [
       "<Figure size 432x288 with 1 Axes>"
      ]
     },
     "metadata": {
      "needs_background": "light"
     },
     "output_type": "display_data"
    },
    {
     "data": {
      "image/png": "[encoded data removed]",
      "text/plain": [
       "<Figure size 432x288 with 1 Axes>"
      ]
     },
     "metadata": {
      "needs_background": "light"
     },
     "output_type": "display_data"
    }
   ],
   "source": [
    "data_top5_na_eu = data_top5_na.merge(data_top5_eu, on='platform',  how='outer')        # объединяем датафреймы в один\n",
    "data_top5_na_eu_jp = data_top5_na_eu.merge(data_top5_jp, on='platform',  how='outer')  #\n",
    "data_top5_na_eu_jp.plot(x='platform', kind='bar', grid=True)\n",
    "plt.ylabel(\"sum_sales\")\n",
    "plt.title(\"Barplot of sum_sales for different platforms\")\n",
    "plt.show()\n",
    "genres_top5_na_eu = genres_top5_na.merge(genres_top5_eu, on='genre',  how='outer')         # объединяем датафреймы в один\n",
    "genres_top5_na_eu_jp = genres_top5_na_eu.merge(genres_top5_jp, on='genre',  how='outer')   #\n",
    "genres_top5_na_eu_jp.plot(x='genre', kind='bar', grid=True)\n",
    "plt.ylabel(\"sum_sales\")\n",
    "plt.title(\"Barplot of sum_sales for different genres\")\n",
    "plt.show()\n",
    "rating_na_eu_jp = rating_na.join([rating_eu, rating_jp])         # объединяем series в один датафрейм\n",
    "rating_na_eu_jp.plot(kind='bar', grid=True)\n",
    "plt.ylabel(\"sum_sales\")\n",
    "plt.title(\"Barplot of sum_sales for different ratings\")\n",
    "plt.show()"
   ]
  },
  {
   "cell_type": "markdown",
   "id": "559dc33a",
   "metadata": {},
   "source": [
    "<div class=\"alert alert-success\">\n",
    "\n",
    "**✅Комментарий ревьюера В2**\n",
    "\n",
    "Хорошо, исправления принял 👍 Так стало намного нагляднее</div>"
   ]
  },
  {
   "cell_type": "markdown",
   "id": "69d46662",
   "metadata": {},
   "source": [
    "**Вывод по 3 регионам**\n",
    "\n"
   ]
  },
  {
   "cell_type": "markdown",
   "id": "d89989fd",
   "metadata": {},
   "source": [
    "Платформы:\n",
    "\n",
    "Распределение по платформам показало, что рынок Северной Америки похож на рынок Европы. Отличия есть, например, в Европе, по сравнению с Америкой, более популярны игры на PS4 и PS3, а в Америке, по сравнению с Европой, рынок XBox 360 и XBox One более развит. Рынок же Японии сильно отличается. Во-первых он меньше по понятным причинам, во вторых на нём популярны карманные игровые приставки. Единственными пересечением всех трёх рынков являются приставки PS3, Wii и 3DS.\n",
    "\n",
    "Жанры:\n",
    "\n",
    "В топе игр тоже заметна схожесть рынка Северной Америки и Европы: 4 из 5 популярных жанров повторяются. Отличия лишь в том, что в Европе любят гонки, а в Северной Америке жанр Misc. А вот рынок Японии опять отличился: здесь не любят шутеры, зато предпочитают ролевые игры, Action и Fighting. Все три рынка объединяет любовь к Action и ролевым играм.\n",
    "\n",
    "Рейтинг ESRB:\n",
    "\n",
    "Как показывает диаграмма, взаимосвязь между рейтингом и продажами в регионах немного разная. Так, например, в Японии суммарные продажи по рейтингам распределены раномерно, просадки есть только у рейтина E10+. В Северной Америке и Европе есть рейтинги фавориты, так рейтинг M является самым прибыльным. В Европе также как и в СА прибыльными являются игры с рейтингом E и M. Отличия в показателях рейтингов, возможно, связаны с тем, что игры с рейтингом M насыщены зрелищными сценами, а как мы выяснили, самыми популярными жанрами являются жанры с подобными сценами. Все 3 региона объединяет популярность игр с рейтингом E."
   ]
  },
  {
   "cell_type": "markdown",
   "id": "d9427d0c",
   "metadata": {},
   "source": [
    "## Проверка гипотез"
   ]
  },
  {
   "cell_type": "markdown",
   "id": "4d0cd2da",
   "metadata": {},
   "source": [
    " ### Гипотеза 1. Средние пользовательские рейтинги платформ Xbox One и PC одинаковые"
   ]
  },
  {
   "cell_type": "markdown",
   "id": "a8c5aa4e",
   "metadata": {},
   "source": [
    "Нулевая гипотеза - средние пользовательские рейтинги платформ Xbox One и PC одинаковые. Альтернативная гипотеза - средние пользовательские рейтинги разные.\n",
    "\n",
    "Так как будет использован t-test, проверим размеры выборок."
   ]
  },
  {
   "cell_type": "code",
   "execution_count": 30,
   "id": "a3fbefbb",
   "metadata": {},
   "outputs": [
    {
     "name": "stdout",
     "output_type": "stream",
     "text": [
      "Количество игр платформы XBox One: 182\n",
      "Количество платформы PC: 157\n",
      "Дисперсия значений для платформы PC: 2.978796705748712\n",
      "Дисперсия значений для платформы XOne: 1.8965188383045526\n"
     ]
    }
   ],
   "source": [
    "data_actual_X_one = data_actual.query('platform == \"XOne\"')['user_score'].dropna() # создаём Series c пользовательскими оценками\n",
    "# Xbox One без пропусков\n",
    "data_actual_PC = data_actual.query('platform == \"PC\"')['user_score'].dropna() # создаём Series c пользовательскими оценками\n",
    "# PC без пропусков\n",
    "print(\"Количество игр платформы XBox One:\", len(data_actual_X_one))\n",
    "print(\"Количество платформы PC:\", len(data_actual_PC))\n",
    "print('Дисперсия значений для платформы PC:', np.var(data_actual_PC))\n",
    "print('Дисперсия значений для платформы XOne:',np.var(data_actual_X_one))"
   ]
  },
  {
   "cell_type": "markdown",
   "id": "36f5aef7",
   "metadata": {},
   "source": [
    "Хоть размеры выборок отличаются, не сильно, но вычисленные дисперсии отличаются значительно, поэтому для t-testа необходимо указать, что дисперсии выборок разные."
   ]
  },
  {
   "cell_type": "markdown",
   "id": "2c882081",
   "metadata": {},
   "source": [
    "<div class=\"alert alert-success\">\n",
    "\n",
    "**✅Комментарий ревьюера В2**\n",
    "\n",
    "Гипотезы сфрмулировал верно. Здорово, что использовал параметрв `equal_var`</div>"
   ]
  },
  {
   "cell_type": "code",
   "execution_count": 31,
   "id": "babff6c4",
   "metadata": {},
   "outputs": [
    {
     "name": "stdout",
     "output_type": "stream",
     "text": [
      "p-значение:  0.13888973874685429\n",
      "Не получилось отвергнуть нулевую гипотезу\n",
      "Cредний пользовательский рейтинг PC: 6.26624203821656\n",
      "Cредний пользовательский рейтинг Xbox One: 6.521428571428572\n"
     ]
    },
    {
     "data": {
      "image/png": "[encoded data removed]",
      "text/plain": [
       "<Figure size 432x288 with 1 Axes>"
      ]
     },
     "metadata": {
      "needs_background": "light"
     },
     "output_type": "display_data"
    }
   ],
   "source": [
    "alpha = 0.05   # устанавливаем пороговое значение в 5%\n",
    "\n",
    "\n",
    "\n",
    "results = st.ttest_ind(                                  # проводим t-тест для двух выборок\n",
    "    data_actual_X_one,                                   #\n",
    "    data_actual_PC, equal_var=False)                     # с разной дисперсией\n",
    "print('p-значение: ', results.pvalue)                    # выводим p-value на экран\n",
    "if results.pvalue < alpha:                               # сравниваем p-value с пороговым значением\n",
    "    print(\"Отвергаем нулевую гипотезу\")\n",
    "else:\n",
    "    print(\"Не получилось отвергнуть нулевую гипотезу\")\n",
    "data_actual_PC.plot(kind='hist',bins=20, label='PC', legend=True)\n",
    "data_actual_X_one.plot(kind='hist',bins=20, label='XOne',  alpha=0.7, legend=True)\n",
    "plt.xlabel(\"Пользовательский рейтинг\")\n",
    "plt.ylabel(\"Количество игр\")\n",
    "plt.title(\"Распределение игр по пользовательскому рейтингу\")\n",
    "print('Cредний пользовательский рейтинг PC:', data_actual_PC.mean())\n",
    "print('Cредний пользовательский рейтинг Xbox One:', data_actual_X_one.mean())\n",
    "\n",
    "\n"
   ]
  },
  {
   "cell_type": "markdown",
   "id": "3865628f",
   "metadata": {},
   "source": [
    "**Вывод**\n",
    "\n",
    "Нулевая гипотеза оказалась правдоподобной. Действительно, средние пользовательские рейтинги платформ Xbox One и PC с большой долей вероятности одинаковые."
   ]
  },
  {
   "cell_type": "markdown",
   "id": "02444b02",
   "metadata": {},
   "source": [
    "### Гипотеза 2. Средние пользовательские рейтинги жанров Action и Sports разные."
   ]
  },
  {
   "cell_type": "markdown",
   "id": "730eaa34",
   "metadata": {},
   "source": [
    "Нулевая гипотеза - средние пользовательские рейтинги жанров Action и Sports одинаковые. Альтернативная гипотеза - средние пользовательские рейтинги разные.\n",
    "\n",
    "Для начала проверим размеры выборок."
   ]
  },
  {
   "cell_type": "markdown",
   "id": "23e7becc",
   "metadata": {},
   "source": [
    "<div class=\"alert alert-success\">\n",
    "\n",
    "**✅Комментарий ревьюера В2**\n",
    "\n",
    "Гипотезы сфрмулировал верно. Здорово, что использовал параметрв `equal_var`</div>"
   ]
  },
  {
   "cell_type": "code",
   "execution_count": 32,
   "id": "bf6c9927",
   "metadata": {},
   "outputs": [
    {
     "name": "stdout",
     "output_type": "stream",
     "text": [
      "Количество игр в жанре Action: 391\n",
      "Количество игр в жанре Sports: 160\n"
     ]
    }
   ],
   "source": [
    "data_actual_action = data_actual.query('genre == \"Action\"')['user_score'].dropna()\n",
    "data_actual_sports = data_actual.query('genre == \"Sports\"')['user_score'].dropna()\n",
    "print('Количество игр в жанре Action:', len(data_actual_action))\n",
    "print('Количество игр в жанре Sports:', len(data_actual_sports))\n",
    "\n"
   ]
  },
  {
   "cell_type": "markdown",
   "id": "9579e710",
   "metadata": {},
   "source": [
    "\n",
    "\n",
    "Для проведения t-testа необходимо указать, что дисперсии выборок разные, так как их размеры не одинаковы. "
   ]
  },
  {
   "cell_type": "code",
   "execution_count": 33,
   "id": "386ef669",
   "metadata": {},
   "outputs": [
    {
     "name": "stdout",
     "output_type": "stream",
     "text": [
      "p-значение:  1.6948835429264077e-20\n",
      "Отвергаем нулевую гипотезу\n",
      "Средняя оценка пользователей для жанра Action: 6.833248081841432\n",
      "Средняя оценка пользователей для жанра Sports: 5.238124999999999\n"
     ]
    },
    {
     "data": {
      "text/plain": [
       "Text(0.5, 1.0, 'Распределение игр по пользовательскому рейтингу')"
      ]
     },
     "execution_count": 33,
     "metadata": {},
     "output_type": "execute_result"
    },
    {
     "data": {
      "image/png": "[encoded data removed]",
      "text/plain": [
       "<Figure size 432x288 with 1 Axes>"
      ]
     },
     "metadata": {
      "needs_background": "light"
     },
     "output_type": "display_data"
    }
   ],
   "source": [
    "alpha = 0.05    # устанавливаем пороговое значение в 5%\n",
    "\n",
    "results = st.ttest_ind(                                  # проводим t-тест для двух выборок\n",
    "    data_actual_action,                                  #\n",
    "    data_actual_sports, equal_var=False)                 # с разной дисперсией\n",
    "\n",
    "print('p-значение: ', results.pvalue)                    # выводим p-value на экран\n",
    "\n",
    "if results.pvalue < alpha:                               # сравниваем p-value с пороговым значением\n",
    "    print(\"Отвергаем нулевую гипотезу\")\n",
    "else:\n",
    "    print(\"Не получилось отвергнуть нулевую гипотезу\")\n",
    "print('Средняя оценка пользователей для жанра Action:', data_actual_action.mean())\n",
    "print('Средняя оценка пользователей для жанра Sports:', data_actual_sports.mean())\n",
    "data_actual_sports.plot(kind='hist',bins=20, label='Sports', legend=True)\n",
    "data_actual_action.plot(kind='hist',bins=20, alpha=0.7, label='Action', legend=True)\n",
    "plt.xlabel(\"Пользовательский рейтинг\")\n",
    "plt.ylabel(\"Количество игр\")\n",
    "plt.title(\"Распределение игр по пользовательскому рейтингу\")"
   ]
  },
  {
   "cell_type": "markdown",
   "id": "f2b8c312",
   "metadata": {},
   "source": [
    "**Вывод**\n",
    "\n",
    "Результаты говорят о том, что нулевая гипотеза с большой долей вероятности не подтвержается. Это означает, что скорее всего, средние пользовательские рейтинги игр жанра Action и Sports разные."
   ]
  },
  {
   "cell_type": "markdown",
   "id": "8dc0a568",
   "metadata": {},
   "source": [
    "## Общий вывод"
   ]
  },
  {
   "cell_type": "markdown",
   "id": "7ff7ddb7",
   "metadata": {},
   "source": [
    "В ходе анализа рынка игр я руководствовался принципом, что заполнять пропуски средним или медианным значением не стоит, если это не мешает проведению вычислений. Были отдельно рассмотрены пропуски в названиях игр, пропуски заменены на значение \"Unknown game\", были рассмотрены пропуски в годах выхода, часть из которых удалось восстановить из информации о годах выхода на других платформах. Значение 'tbd' в оценках пользователей заменено на более привычное Nan. \n",
    "\n",
    "Для проведения последующего анализа к датафрейму был добавлен столбец с продажами по всем регионам.\n",
    "\n",
    "График зависимости выхода игр по годам показал, что развитие этой индустрии началось около 1993 года. Распределения количества игр по годам внутри самых популярных платформ за всё время имеют схожую картину: рост, стагнация, падение. Вычисленный актуальный период платформ составил 4 года. Соответственно для 2017 года актуальными данными являются игры, вышедшие после 2013 года.\n",
    "\n",
    "Список платформ, лидирующих по продажам за актуальный период:\n",
    "- PS3, X360, WiiU, PS4, 3DS, XOne, PC\n",
    "\n",
    "Все они показали падение продаж по результатам 2016 года. Перспективными были выбраны PS4, XOne, WiiU, PC потому что их продажи за актуальный период не представляли собой монотонное падение от года году. Этим платформам удавалось показывать рост. \n",
    "\n",
    "При построении ящика с усами для перспективных платформ было выяснено, что много игр являются провальными, для более правильной оценки перспектив от провальных игр пришлось избавиться. Ящик с усами указал на перспективность PS4, поскольку для неё медианное значение оказалось выше.\n",
    "\n",
    "Для рассмотрения влияния оценок критиков и пользователей на продажи была выбрана PS4. Корреляция оценок критиков и продаж оказалась значительной: 0,41. А вот корреляция оценок пользователей и продаж стремится к 0. Графики рассеивания подтверждают вычисления. \n",
    "\n",
    "Для других платформ взаимосвязь между оценками критиков и продажами оказалась не такой значительной: 0,28. Корреляция оценок пользователей и продаж также стремится к 0. Как уже было сказано, высокая корреляция у PS4 объясняется популярностью этой платформы, к ней приковано внимание публики и критиков. Отсутствие влияния оценок пользователей на продажи указывает на то, что в отличие от критика, пользователь не может сильно влиять на покупки другого пользователя (Схема: Петя сказал Васе, купи вот эту крутую игру, реализуется редко).\n",
    "\n",
    "Продажи игр по жанрам показали популярность динамичных жанров Action и Shooter и непопулярность спокойных и интеллекуальных жанров \"Пазлы\", \"Стратегии\"\n",
    "\n",
    "Что же касается портрета пользователей по регионам, то подробный вывод приведён в соответствующем разделе. Главный итог: рынки СА и Европы похожи, в Японии есть своя специфика: популярность портативных игровых платформ и не такая высокая популярность игр с рейтингом M, как в Европе или СА.\n",
    "\n",
    "Проверка двух гипотез  с помощью t-testa показала, что: \n",
    "- C вероятностью 14% средние пользовательские рейтинги платформ Xbox One и PC одинаковые.\n",
    "- C огромной долей вероятности средние пользовательские рейтинги жанров Action и Sports разные."
   ]
  },
  {
   "cell_type": "markdown",
   "id": "68ed2bd7",
   "metadata": {},
   "source": [
    "<div class=\"alert alert-success\">\n",
    "\n",
    "**✅Комментарий ревьюера В2**\n",
    "\n",
    "Супер, исправления принял. Все сделал отлично. С выводами тоже согласен. Успехов тебе в дальнейшей учебе</div>"
   ]
  },
  {
   "cell_type": "markdown",
   "id": "59732a8a",
   "metadata": {},
   "source": [
    "**Чек лист**\n",
    "\n",
    "- [x]  открыты файлы\n",
    "- [x]  файлы изучены (выведены первые строки, метод info())\n",
    "- [x]  заменены названия столбцов\n",
    "- [x]  изменены типы данных\n",
    "- [x]  определены пропущенные значения\n",
    "- [x]  объяснено, почему пропуски заполнены определённым образом или почему это не сделано\n",
    "- [x]  объяснены возможные причины пропусков\n",
    "- [x]  исправлены ошибки\n",
    "- [x]  обращено внимание на аббревиатуру 'tbd' в столбце с оценкой пользователей\n",
    "- [x]  посчитаны суммарные продажи во всех регионах для каждой игры\n",
    "- [x]  построен график распредения количества выхода игр по годам \n",
    "- [x]  рассмотрено, как менялись продажи внутри самых популярных платформ за всё время\n",
    "- [x]  определён характерный срок жизни платформы, он же актуальный период\n",
    "- [x]  для дальнейшего анализа выбраны данные только за актуальный период\n",
    "- [x]  определены платформы лидеры за актуальный период, определена динамика их продаж\n",
    "- [x]  определено как влияют на продажи внутри одной популярной платформы отзывы пользователей и критиков\n",
    "- [x]  определено как влияют на продажи внутри других платформ отзывы пользователей и критиков\n",
    "- [x]  определены популярные и непопулярные жанры игр\n",
    "- [x]  составлены портреты пользователя каждого из трёх регионов (NA, EU, JP). Параметры портретов соотнесены между собой\n",
    "- [x]  выполнена проверка гипотезы: \"Средние пользовательские рейтинги платформ Xbox One и PC одинаковые.\"\n",
    "- [x]  выполнена проверка гипотезы: \"Средние пользовательские рейтинги жанров Action и Sports (англ. «спортивные соревнования») разные.\"\n",
    "- [x]  есть пояснения с формулировкой гипотез и пояснения какой критерий использовался для проверки.\n",
    "- [x]  в каждом этапе есть выводы\n",
    "- [x]  есть общий вывод"
   ]
  },
  {
   "cell_type": "markdown",
   "id": "bb5e8c3a",
   "metadata": {},
   "source": []
  }
 ],
 "metadata": {
  "ExecuteTimeLog": [
   {
    "duration": 113,
    "start_time": "2022-03-07T11:47:34.733Z"
   },
   {
    "duration": 1952,
    "start_time": "2022-03-07T11:47:32.898Z"
   },
   {
    "duration": 1948,
    "start_time": "2022-03-07T11:47:32.904Z"
   },
   {
    "duration": 1946,
    "start_time": "2022-03-07T11:47:32.907Z"
   },
   {
    "duration": 1944,
    "start_time": "2022-03-07T11:47:32.910Z"
   },
   {
    "duration": 1943,
    "start_time": "2022-03-07T11:47:32.913Z"
   },
   {
    "duration": 1939,
    "start_time": "2022-03-07T11:47:32.918Z"
   },
   {
    "duration": 1939,
    "start_time": "2022-03-07T11:47:32.920Z"
   },
   {
    "duration": 1938,
    "start_time": "2022-03-07T11:47:32.922Z"
   },
   {
    "duration": 1937,
    "start_time": "2022-03-07T11:47:32.925Z"
   },
   {
    "duration": 1936,
    "start_time": "2022-03-07T11:47:32.927Z"
   },
   {
    "duration": 1934,
    "start_time": "2022-03-07T11:47:32.930Z"
   },
   {
    "duration": 1934,
    "start_time": "2022-03-07T11:47:32.932Z"
   },
   {
    "duration": 1933,
    "start_time": "2022-03-07T11:47:32.935Z"
   },
   {
    "duration": 1928,
    "start_time": "2022-03-07T11:47:32.941Z"
   },
   {
    "duration": 1926,
    "start_time": "2022-03-07T11:47:32.944Z"
   },
   {
    "duration": 1826,
    "start_time": "2022-03-07T11:47:33.047Z"
   },
   {
    "duration": 1824,
    "start_time": "2022-03-07T11:47:33.050Z"
   },
   {
    "duration": 1823,
    "start_time": "2022-03-07T11:47:33.052Z"
   },
   {
    "duration": 1822,
    "start_time": "2022-03-07T11:47:33.055Z"
   },
   {
    "duration": 1822,
    "start_time": "2022-03-07T11:47:33.057Z"
   },
   {
    "duration": 1821,
    "start_time": "2022-03-07T11:47:33.059Z"
   },
   {
    "duration": 1819,
    "start_time": "2022-03-07T11:47:33.063Z"
   },
   {
    "duration": 1818,
    "start_time": "2022-03-07T11:47:33.065Z"
   },
   {
    "duration": 1818,
    "start_time": "2022-03-07T11:47:33.067Z"
   },
   {
    "duration": 1817,
    "start_time": "2022-03-07T11:47:33.069Z"
   },
   {
    "duration": 1816,
    "start_time": "2022-03-07T11:47:33.071Z"
   },
   {
    "duration": 1817,
    "start_time": "2022-03-07T11:47:33.073Z"
   },
   {
    "duration": 1770,
    "start_time": "2022-03-07T11:47:33.121Z"
   },
   {
    "duration": 1769,
    "start_time": "2022-03-07T11:47:33.123Z"
   },
   {
    "duration": 1769,
    "start_time": "2022-03-07T11:47:33.124Z"
   },
   {
    "duration": 1769,
    "start_time": "2022-03-07T11:47:33.126Z"
   },
   {
    "duration": 1768,
    "start_time": "2022-03-07T11:47:33.128Z"
   },
   {
    "duration": 1768,
    "start_time": "2022-03-07T11:47:33.129Z"
   },
   {
    "duration": 98,
    "start_time": "2022-03-07T11:47:41.251Z"
   },
   {
    "duration": 1350,
    "start_time": "2022-03-07T11:47:58.790Z"
   },
   {
    "duration": 2009,
    "start_time": "2022-03-07T11:48:00.143Z"
   },
   {
    "duration": 1869,
    "start_time": "2022-03-07T11:48:00.287Z"
   },
   {
    "duration": 1868,
    "start_time": "2022-03-07T11:48:00.290Z"
   },
   {
    "duration": 1862,
    "start_time": "2022-03-07T11:48:00.297Z"
   },
   {
    "duration": 1861,
    "start_time": "2022-03-07T11:48:00.300Z"
   },
   {
    "duration": 1860,
    "start_time": "2022-03-07T11:48:00.302Z"
   },
   {
    "duration": 1856,
    "start_time": "2022-03-07T11:48:00.308Z"
   },
   {
    "duration": 1855,
    "start_time": "2022-03-07T11:48:00.311Z"
   },
   {
    "duration": 1854,
    "start_time": "2022-03-07T11:48:00.313Z"
   },
   {
    "duration": 1800,
    "start_time": "2022-03-07T11:48:00.368Z"
   },
   {
    "duration": 1795,
    "start_time": "2022-03-07T11:48:00.374Z"
   },
   {
    "duration": 1794,
    "start_time": "2022-03-07T11:48:00.377Z"
   },
   {
    "duration": 1793,
    "start_time": "2022-03-07T11:48:00.379Z"
   },
   {
    "duration": 1792,
    "start_time": "2022-03-07T11:48:00.381Z"
   },
   {
    "duration": 1792,
    "start_time": "2022-03-07T11:48:00.383Z"
   },
   {
    "duration": 1791,
    "start_time": "2022-03-07T11:48:00.385Z"
   },
   {
    "duration": 1791,
    "start_time": "2022-03-07T11:48:00.387Z"
   },
   {
    "duration": 1790,
    "start_time": "2022-03-07T11:48:00.389Z"
   },
   {
    "duration": 1789,
    "start_time": "2022-03-07T11:48:00.391Z"
   },
   {
    "duration": 1788,
    "start_time": "2022-03-07T11:48:00.393Z"
   },
   {
    "duration": 1787,
    "start_time": "2022-03-07T11:48:00.395Z"
   },
   {
    "duration": 1787,
    "start_time": "2022-03-07T11:48:00.397Z"
   },
   {
    "duration": 1786,
    "start_time": "2022-03-07T11:48:00.399Z"
   },
   {
    "duration": 1785,
    "start_time": "2022-03-07T11:48:00.401Z"
   },
   {
    "duration": 1785,
    "start_time": "2022-03-07T11:48:00.403Z"
   },
   {
    "duration": 1784,
    "start_time": "2022-03-07T11:48:00.405Z"
   },
   {
    "duration": 1784,
    "start_time": "2022-03-07T11:48:00.406Z"
   },
   {
    "duration": 1783,
    "start_time": "2022-03-07T11:48:00.408Z"
   },
   {
    "duration": 1783,
    "start_time": "2022-03-07T11:48:00.410Z"
   },
   {
    "duration": 1783,
    "start_time": "2022-03-07T11:48:00.411Z"
   },
   {
    "duration": 1782,
    "start_time": "2022-03-07T11:48:00.413Z"
   },
   {
    "duration": 1782,
    "start_time": "2022-03-07T11:48:00.415Z"
   },
   {
    "duration": 1863,
    "start_time": "2022-03-07T11:48:18.954Z"
   },
   {
    "duration": 1402,
    "start_time": "2022-03-07T11:48:31.443Z"
   },
   {
    "duration": 81,
    "start_time": "2022-03-07T11:48:32.848Z"
   },
   {
    "duration": 44,
    "start_time": "2022-03-07T11:48:32.934Z"
   },
   {
    "duration": 43,
    "start_time": "2022-03-07T11:48:32.982Z"
   },
   {
    "duration": 23,
    "start_time": "2022-03-07T11:48:33.029Z"
   },
   {
    "duration": 9,
    "start_time": "2022-03-07T11:48:33.075Z"
   },
   {
    "duration": 42,
    "start_time": "2022-03-07T11:48:33.087Z"
   },
   {
    "duration": 19,
    "start_time": "2022-03-07T11:48:33.134Z"
   },
   {
    "duration": 2257,
    "start_time": "2022-03-07T11:48:33.173Z"
   },
   {
    "duration": 41,
    "start_time": "2022-03-07T11:48:35.432Z"
   },
   {
    "duration": 326,
    "start_time": "2022-03-07T11:48:35.475Z"
   },
   {
    "duration": 18,
    "start_time": "2022-03-07T11:48:35.804Z"
   },
   {
    "duration": 49,
    "start_time": "2022-03-07T11:48:35.824Z"
   },
   {
    "duration": 1472,
    "start_time": "2022-03-07T11:48:35.875Z"
   },
   {
    "duration": 33,
    "start_time": "2022-03-07T11:48:37.350Z"
   },
   {
    "duration": 21,
    "start_time": "2022-03-07T11:48:37.385Z"
   },
   {
    "duration": 20,
    "start_time": "2022-03-07T11:48:37.409Z"
   },
   {
    "duration": 56,
    "start_time": "2022-03-07T11:48:37.431Z"
   },
   {
    "duration": 2102,
    "start_time": "2022-03-07T11:48:37.489Z"
   },
   {
    "duration": 245,
    "start_time": "2022-03-07T11:48:39.593Z"
   },
   {
    "duration": 1085,
    "start_time": "2022-03-07T11:48:39.841Z"
   },
   {
    "duration": 617,
    "start_time": "2022-03-07T11:48:40.928Z"
   },
   {
    "duration": 429,
    "start_time": "2022-03-07T11:48:41.550Z"
   },
   {
    "duration": 29,
    "start_time": "2022-03-07T11:48:41.983Z"
   },
   {
    "duration": 62,
    "start_time": "2022-03-07T11:48:42.015Z"
   },
   {
    "duration": 336,
    "start_time": "2022-03-07T11:48:42.080Z"
   },
   {
    "duration": 331,
    "start_time": "2022-03-07T11:48:42.419Z"
   },
   {
    "duration": 392,
    "start_time": "2022-03-07T11:48:42.753Z"
   },
   {
    "duration": 550,
    "start_time": "2022-03-07T11:48:43.147Z"
   },
   {
    "duration": 1955,
    "start_time": "2022-03-07T11:48:41.744Z"
   },
   {
    "duration": 1954,
    "start_time": "2022-03-07T11:48:41.747Z"
   },
   {
    "duration": 1952,
    "start_time": "2022-03-07T11:48:41.750Z"
   },
   {
    "duration": 1951,
    "start_time": "2022-03-07T11:48:41.753Z"
   },
   {
    "duration": 75,
    "start_time": "2022-03-07T11:50:15.405Z"
   },
   {
    "duration": 1114,
    "start_time": "2022-03-07T12:12:58.233Z"
   },
   {
    "duration": 57,
    "start_time": "2022-03-07T12:12:59.350Z"
   },
   {
    "duration": 16,
    "start_time": "2022-03-07T12:12:59.409Z"
   },
   {
    "duration": 33,
    "start_time": "2022-03-07T12:12:59.427Z"
   },
   {
    "duration": 15,
    "start_time": "2022-03-07T12:12:59.462Z"
   },
   {
    "duration": 5,
    "start_time": "2022-03-07T12:12:59.479Z"
   },
   {
    "duration": 15,
    "start_time": "2022-03-07T12:12:59.485Z"
   },
   {
    "duration": 11,
    "start_time": "2022-03-07T12:12:59.502Z"
   },
   {
    "duration": 1383,
    "start_time": "2022-03-07T12:12:59.515Z"
   },
   {
    "duration": 14,
    "start_time": "2022-03-07T12:13:00.900Z"
   },
   {
    "duration": 231,
    "start_time": "2022-03-07T12:13:00.916Z"
   },
   {
    "duration": 20,
    "start_time": "2022-03-07T12:13:01.149Z"
   },
   {
    "duration": 14,
    "start_time": "2022-03-07T12:13:01.170Z"
   },
   {
    "duration": 1029,
    "start_time": "2022-03-07T12:13:01.186Z"
   },
   {
    "duration": 17,
    "start_time": "2022-03-07T12:13:02.217Z"
   },
   {
    "duration": 25,
    "start_time": "2022-03-07T12:13:02.236Z"
   },
   {
    "duration": 15,
    "start_time": "2022-03-07T12:13:02.263Z"
   },
   {
    "duration": 18,
    "start_time": "2022-03-07T12:13:02.280Z"
   },
   {
    "duration": 1368,
    "start_time": "2022-03-07T12:13:02.300Z"
   },
   {
    "duration": 163,
    "start_time": "2022-03-07T12:13:03.670Z"
   },
   {
    "duration": 755,
    "start_time": "2022-03-07T12:13:03.835Z"
   },
   {
    "duration": 454,
    "start_time": "2022-03-07T12:13:04.591Z"
   },
   {
    "duration": 316,
    "start_time": "2022-03-07T12:13:05.048Z"
   },
   {
    "duration": 18,
    "start_time": "2022-03-07T12:13:05.366Z"
   },
   {
    "duration": 18,
    "start_time": "2022-03-07T12:13:05.386Z"
   },
   {
    "duration": 229,
    "start_time": "2022-03-07T12:13:05.406Z"
   },
   {
    "duration": 210,
    "start_time": "2022-03-07T12:13:05.636Z"
   },
   {
    "duration": 223,
    "start_time": "2022-03-07T12:13:05.848Z"
   },
   {
    "duration": 387,
    "start_time": "2022-03-07T12:13:06.072Z"
   },
   {
    "duration": -946,
    "start_time": "2022-03-07T12:13:07.407Z"
   },
   {
    "duration": -950,
    "start_time": "2022-03-07T12:13:07.412Z"
   },
   {
    "duration": -956,
    "start_time": "2022-03-07T12:13:07.418Z"
   },
   {
    "duration": -970,
    "start_time": "2022-03-07T12:13:07.433Z"
   },
   {
    "duration": 372,
    "start_time": "2022-03-07T12:17:49.921Z"
   },
   {
    "duration": 362,
    "start_time": "2022-03-07T12:18:02.418Z"
   },
   {
    "duration": 360,
    "start_time": "2022-03-07T12:19:16.835Z"
   },
   {
    "duration": 722,
    "start_time": "2022-03-07T12:19:51.463Z"
   },
   {
    "duration": 377,
    "start_time": "2022-03-07T12:20:14.965Z"
   },
   {
    "duration": 4567,
    "start_time": "2022-03-07T12:20:39.827Z"
   },
   {
    "duration": 687,
    "start_time": "2022-03-07T12:21:47.561Z"
   },
   {
    "duration": 682,
    "start_time": "2022-03-07T12:28:41.979Z"
   },
   {
    "duration": 3,
    "start_time": "2022-03-07T12:32:19.747Z"
   },
   {
    "duration": 50,
    "start_time": "2022-03-07T12:32:19.753Z"
   },
   {
    "duration": 17,
    "start_time": "2022-03-07T12:32:19.805Z"
   },
   {
    "duration": 42,
    "start_time": "2022-03-07T12:32:19.824Z"
   },
   {
    "duration": 14,
    "start_time": "2022-03-07T12:32:19.869Z"
   },
   {
    "duration": 6,
    "start_time": "2022-03-07T12:32:19.885Z"
   },
   {
    "duration": 19,
    "start_time": "2022-03-07T12:32:19.892Z"
   },
   {
    "duration": 11,
    "start_time": "2022-03-07T12:32:19.912Z"
   },
   {
    "duration": 1412,
    "start_time": "2022-03-07T12:32:19.958Z"
   },
   {
    "duration": 16,
    "start_time": "2022-03-07T12:32:21.372Z"
   },
   {
    "duration": 233,
    "start_time": "2022-03-07T12:32:21.390Z"
   },
   {
    "duration": 14,
    "start_time": "2022-03-07T12:32:21.625Z"
   },
   {
    "duration": 29,
    "start_time": "2022-03-07T12:32:21.641Z"
   },
   {
    "duration": 1089,
    "start_time": "2022-03-07T12:32:21.671Z"
   },
   {
    "duration": 16,
    "start_time": "2022-03-07T12:32:22.762Z"
   },
   {
    "duration": 13,
    "start_time": "2022-03-07T12:32:22.780Z"
   },
   {
    "duration": 13,
    "start_time": "2022-03-07T12:32:22.794Z"
   },
   {
    "duration": 18,
    "start_time": "2022-03-07T12:32:22.809Z"
   },
   {
    "duration": 1471,
    "start_time": "2022-03-07T12:32:22.829Z"
   },
   {
    "duration": 169,
    "start_time": "2022-03-07T12:32:24.302Z"
   },
   {
    "duration": 569,
    "start_time": "2022-03-07T12:32:24.473Z"
   },
   {
    "duration": 453,
    "start_time": "2022-03-07T12:32:25.044Z"
   },
   {
    "duration": 285,
    "start_time": "2022-03-07T12:32:25.498Z"
   },
   {
    "duration": 18,
    "start_time": "2022-03-07T12:32:25.786Z"
   },
   {
    "duration": 19,
    "start_time": "2022-03-07T12:32:25.805Z"
   },
   {
    "duration": 320,
    "start_time": "2022-03-07T12:32:25.825Z"
   },
   {
    "duration": 215,
    "start_time": "2022-03-07T12:32:26.147Z"
   },
   {
    "duration": 228,
    "start_time": "2022-03-07T12:32:26.364Z"
   },
   {
    "duration": 699,
    "start_time": "2022-03-07T12:32:26.594Z"
   },
   {
    "duration": 10,
    "start_time": "2022-03-07T12:32:27.294Z"
   },
   {
    "duration": 279,
    "start_time": "2022-03-07T12:32:27.306Z"
   },
   {
    "duration": 11,
    "start_time": "2022-03-07T12:32:27.587Z"
   },
   {
    "duration": 279,
    "start_time": "2022-03-07T12:32:27.600Z"
   },
   {
    "duration": 194,
    "start_time": "2022-03-07T12:34:12.946Z"
   },
   {
    "duration": 276,
    "start_time": "2022-03-07T12:35:07.452Z"
   },
   {
    "duration": 191,
    "start_time": "2022-03-07T12:35:47.900Z"
   },
   {
    "duration": 311,
    "start_time": "2022-03-07T12:37:20.022Z"
   },
   {
    "duration": 239,
    "start_time": "2022-03-07T12:37:37.398Z"
   },
   {
    "duration": 984,
    "start_time": "2022-03-07T12:43:04.189Z"
   },
   {
    "duration": 222,
    "start_time": "2022-03-07T12:44:55.394Z"
   },
   {
    "duration": 212,
    "start_time": "2022-03-07T12:45:46.720Z"
   },
   {
    "duration": 1056,
    "start_time": "2022-03-07T12:45:52.505Z"
   },
   {
    "duration": 1147,
    "start_time": "2022-03-07T12:46:14.512Z"
   },
   {
    "duration": 1025,
    "start_time": "2022-03-07T12:46:33.647Z"
   },
   {
    "duration": 1066,
    "start_time": "2022-03-07T12:47:18.749Z"
   },
   {
    "duration": 19,
    "start_time": "2022-03-07T12:53:48.700Z"
   },
   {
    "duration": 61,
    "start_time": "2022-03-07T12:54:21.511Z"
   },
   {
    "duration": 19,
    "start_time": "2022-03-07T12:54:27.577Z"
   },
   {
    "duration": 17,
    "start_time": "2022-03-07T12:54:37.096Z"
   },
   {
    "duration": 18,
    "start_time": "2022-03-07T12:54:59.701Z"
   },
   {
    "duration": 3,
    "start_time": "2022-03-07T12:55:43.796Z"
   },
   {
    "duration": 48,
    "start_time": "2022-03-07T12:55:43.802Z"
   },
   {
    "duration": 17,
    "start_time": "2022-03-07T12:55:43.852Z"
   },
   {
    "duration": 20,
    "start_time": "2022-03-07T12:55:43.871Z"
   },
   {
    "duration": 13,
    "start_time": "2022-03-07T12:55:43.892Z"
   },
   {
    "duration": 5,
    "start_time": "2022-03-07T12:55:43.907Z"
   },
   {
    "duration": 15,
    "start_time": "2022-03-07T12:55:43.913Z"
   },
   {
    "duration": 34,
    "start_time": "2022-03-07T12:55:43.930Z"
   },
   {
    "duration": 1435,
    "start_time": "2022-03-07T12:55:43.967Z"
   },
   {
    "duration": 16,
    "start_time": "2022-03-07T12:55:45.404Z"
   },
   {
    "duration": 249,
    "start_time": "2022-03-07T12:55:45.422Z"
   },
   {
    "duration": 14,
    "start_time": "2022-03-07T12:55:45.673Z"
   },
   {
    "duration": 17,
    "start_time": "2022-03-07T12:55:45.689Z"
   },
   {
    "duration": 1197,
    "start_time": "2022-03-07T12:55:45.708Z"
   },
   {
    "duration": 18,
    "start_time": "2022-03-07T12:55:46.907Z"
   },
   {
    "duration": 20,
    "start_time": "2022-03-07T12:55:46.928Z"
   },
   {
    "duration": 17,
    "start_time": "2022-03-07T12:55:46.958Z"
   },
   {
    "duration": 24,
    "start_time": "2022-03-07T12:55:46.977Z"
   },
   {
    "duration": 1380,
    "start_time": "2022-03-07T12:55:47.004Z"
   },
   {
    "duration": 149,
    "start_time": "2022-03-07T12:55:48.385Z"
   },
   {
    "duration": 588,
    "start_time": "2022-03-07T12:55:48.536Z"
   },
   {
    "duration": 439,
    "start_time": "2022-03-07T12:55:49.125Z"
   },
   {
    "duration": 302,
    "start_time": "2022-03-07T12:55:49.566Z"
   },
   {
    "duration": 16,
    "start_time": "2022-03-07T12:55:49.870Z"
   },
   {
    "duration": 25,
    "start_time": "2022-03-07T12:55:49.888Z"
   },
   {
    "duration": 223,
    "start_time": "2022-03-07T12:55:49.915Z"
   },
   {
    "duration": 212,
    "start_time": "2022-03-07T12:55:50.139Z"
   },
   {
    "duration": 220,
    "start_time": "2022-03-07T12:55:50.353Z"
   },
   {
    "duration": 792,
    "start_time": "2022-03-07T12:55:50.574Z"
   },
   {
    "duration": 10,
    "start_time": "2022-03-07T12:55:51.367Z"
   },
   {
    "duration": 291,
    "start_time": "2022-03-07T12:55:51.379Z"
   },
   {
    "duration": 10,
    "start_time": "2022-03-07T12:55:51.672Z"
   },
   {
    "duration": 280,
    "start_time": "2022-03-07T12:55:51.684Z"
   },
   {
    "duration": 1373,
    "start_time": "2022-03-07T13:21:43.788Z"
   },
   {
    "duration": 1606,
    "start_time": "2022-03-07T13:31:31.040Z"
   },
   {
    "duration": 595,
    "start_time": "2022-03-07T13:32:50.520Z"
   },
   {
    "duration": 759,
    "start_time": "2022-03-07T13:33:53.109Z"
   },
   {
    "duration": 824,
    "start_time": "2022-03-07T13:34:31.811Z"
   },
   {
    "duration": 788,
    "start_time": "2022-03-07T13:35:16.922Z"
   },
   {
    "duration": 806,
    "start_time": "2022-03-07T13:35:30.183Z"
   },
   {
    "duration": 763,
    "start_time": "2022-03-07T13:35:58.711Z"
   },
   {
    "duration": 209,
    "start_time": "2022-03-07T13:37:15.187Z"
   },
   {
    "duration": 13,
    "start_time": "2022-03-07T13:37:44.586Z"
   },
   {
    "duration": 744,
    "start_time": "2022-03-07T13:38:12.912Z"
   },
   {
    "duration": 763,
    "start_time": "2022-03-07T13:38:40.280Z"
   },
   {
    "duration": 985,
    "start_time": "2022-03-07T13:40:29.400Z"
   },
   {
    "duration": 1043,
    "start_time": "2022-03-07T13:41:31.437Z"
   },
   {
    "duration": 1040,
    "start_time": "2022-03-07T13:42:57.619Z"
   },
   {
    "duration": 1023,
    "start_time": "2022-03-07T13:44:06.223Z"
   },
   {
    "duration": 1275,
    "start_time": "2022-03-07T13:44:41.158Z"
   },
   {
    "duration": 978,
    "start_time": "2022-03-07T13:44:47.118Z"
   },
   {
    "duration": 998,
    "start_time": "2022-03-07T13:47:13.982Z"
   },
   {
    "duration": 1075,
    "start_time": "2022-03-07T13:47:21.557Z"
   },
   {
    "duration": 1021,
    "start_time": "2022-03-07T13:47:33.701Z"
   },
   {
    "duration": 197,
    "start_time": "2022-03-07T13:57:46.388Z"
   },
   {
    "duration": 231,
    "start_time": "2022-03-07T13:58:12.560Z"
   },
   {
    "duration": 207,
    "start_time": "2022-03-07T13:58:50.917Z"
   },
   {
    "duration": 211,
    "start_time": "2022-03-07T13:59:21.080Z"
   },
   {
    "duration": 210,
    "start_time": "2022-03-07T13:59:38.420Z"
   },
   {
    "duration": 223,
    "start_time": "2022-03-07T14:00:01.146Z"
   },
   {
    "duration": 227,
    "start_time": "2022-03-07T14:00:32.560Z"
   },
   {
    "duration": 648,
    "start_time": "2022-03-07T14:02:02.812Z"
   },
   {
    "duration": 803,
    "start_time": "2022-03-07T14:02:25.204Z"
   },
   {
    "duration": 708,
    "start_time": "2022-03-07T14:04:20.753Z"
   },
   {
    "duration": 724,
    "start_time": "2022-03-07T14:22:27.666Z"
   },
   {
    "duration": 434,
    "start_time": "2022-03-07T14:26:41.251Z"
   },
   {
    "duration": 280,
    "start_time": "2022-03-07T14:26:46.623Z"
   },
   {
    "duration": 269,
    "start_time": "2022-03-07T14:27:22.755Z"
   },
   {
    "duration": 270,
    "start_time": "2022-03-07T14:29:19.399Z"
   },
   {
    "duration": 579,
    "start_time": "2022-03-07T14:31:49.150Z"
   },
   {
    "duration": 307,
    "start_time": "2022-03-07T14:32:15.342Z"
   },
   {
    "duration": 301,
    "start_time": "2022-03-07T14:33:31.394Z"
   },
   {
    "duration": 300,
    "start_time": "2022-03-07T14:34:01.171Z"
   },
   {
    "duration": 79,
    "start_time": "2022-03-07T14:35:36.919Z"
   },
   {
    "duration": 313,
    "start_time": "2022-03-07T14:35:40.955Z"
   },
   {
    "duration": 305,
    "start_time": "2022-03-07T14:36:13.875Z"
   },
   {
    "duration": 16,
    "start_time": "2022-03-07T14:46:19.200Z"
   },
   {
    "duration": 218,
    "start_time": "2022-03-07T14:47:43.756Z"
   },
   {
    "duration": 11,
    "start_time": "2022-03-07T14:47:50.451Z"
   },
   {
    "duration": 10,
    "start_time": "2022-03-07T14:48:06.020Z"
   },
   {
    "duration": 11,
    "start_time": "2022-03-07T14:48:58.833Z"
   },
   {
    "duration": 198,
    "start_time": "2022-03-07T14:54:07.937Z"
   },
   {
    "duration": 183,
    "start_time": "2022-03-07T14:54:17.953Z"
   },
   {
    "duration": 25,
    "start_time": "2022-03-07T14:54:34.968Z"
   },
   {
    "duration": 327,
    "start_time": "2022-03-07T14:55:24.304Z"
   },
   {
    "duration": 4,
    "start_time": "2022-03-07T14:59:58.375Z"
   },
   {
    "duration": 49,
    "start_time": "2022-03-07T14:59:58.381Z"
   },
   {
    "duration": 17,
    "start_time": "2022-03-07T14:59:58.432Z"
   },
   {
    "duration": 26,
    "start_time": "2022-03-07T14:59:58.450Z"
   },
   {
    "duration": 14,
    "start_time": "2022-03-07T14:59:58.477Z"
   },
   {
    "duration": 5,
    "start_time": "2022-03-07T14:59:58.493Z"
   },
   {
    "duration": 15,
    "start_time": "2022-03-07T14:59:58.500Z"
   },
   {
    "duration": 42,
    "start_time": "2022-03-07T14:59:58.517Z"
   },
   {
    "duration": 1539,
    "start_time": "2022-03-07T14:59:58.561Z"
   },
   {
    "duration": 16,
    "start_time": "2022-03-07T15:00:00.102Z"
   },
   {
    "duration": 245,
    "start_time": "2022-03-07T15:00:00.120Z"
   },
   {
    "duration": 13,
    "start_time": "2022-03-07T15:00:00.366Z"
   },
   {
    "duration": 14,
    "start_time": "2022-03-07T15:00:00.381Z"
   },
   {
    "duration": 1123,
    "start_time": "2022-03-07T15:00:00.397Z"
   },
   {
    "duration": 19,
    "start_time": "2022-03-07T15:00:01.522Z"
   },
   {
    "duration": 27,
    "start_time": "2022-03-07T15:00:01.543Z"
   },
   {
    "duration": 13,
    "start_time": "2022-03-07T15:00:01.572Z"
   },
   {
    "duration": 29,
    "start_time": "2022-03-07T15:00:01.587Z"
   },
   {
    "duration": 1692,
    "start_time": "2022-03-07T15:00:01.618Z"
   },
   {
    "duration": 149,
    "start_time": "2022-03-07T15:00:03.313Z"
   },
   {
    "duration": 1010,
    "start_time": "2022-03-07T15:00:03.464Z"
   },
   {
    "duration": 477,
    "start_time": "2022-03-07T15:00:04.476Z"
   },
   {
    "duration": 328,
    "start_time": "2022-03-07T15:00:04.959Z"
   },
   {
    "duration": 18,
    "start_time": "2022-03-07T15:00:05.289Z"
   },
   {
    "duration": 392,
    "start_time": "2022-03-07T15:00:05.309Z"
   },
   {
    "duration": 272,
    "start_time": "2022-03-07T15:00:05.703Z"
   },
   {
    "duration": 287,
    "start_time": "2022-03-07T15:00:05.978Z"
   },
   {
    "duration": 260,
    "start_time": "2022-03-07T15:00:06.267Z"
   },
   {
    "duration": 795,
    "start_time": "2022-03-07T15:00:06.529Z"
   },
   {
    "duration": 11,
    "start_time": "2022-03-07T15:00:07.326Z"
   },
   {
    "duration": 363,
    "start_time": "2022-03-07T15:00:07.338Z"
   },
   {
    "duration": 11,
    "start_time": "2022-03-07T15:00:07.705Z"
   },
   {
    "duration": 501,
    "start_time": "2022-03-07T15:00:07.718Z"
   },
   {
    "duration": 11,
    "start_time": "2022-03-07T15:00:46.593Z"
   },
   {
    "duration": 13,
    "start_time": "2022-03-07T15:01:12.939Z"
   },
   {
    "duration": 3,
    "start_time": "2022-03-07T15:07:54.540Z"
   },
   {
    "duration": 3,
    "start_time": "2022-03-07T15:08:32.178Z"
   },
   {
    "duration": 5,
    "start_time": "2022-03-07T15:15:27.762Z"
   },
   {
    "duration": 75,
    "start_time": "2022-03-07T15:16:17.200Z"
   },
   {
    "duration": 12,
    "start_time": "2022-03-07T15:16:23.279Z"
   },
   {
    "duration": 14,
    "start_time": "2022-03-07T15:16:54.727Z"
   },
   {
    "duration": 299,
    "start_time": "2022-03-07T15:21:39.976Z"
   },
   {
    "duration": 19,
    "start_time": "2022-03-07T15:21:48.449Z"
   },
   {
    "duration": 3,
    "start_time": "2022-03-07T15:22:06.242Z"
   },
   {
    "duration": 54,
    "start_time": "2022-03-07T15:22:06.249Z"
   },
   {
    "duration": 19,
    "start_time": "2022-03-07T15:22:06.305Z"
   },
   {
    "duration": 43,
    "start_time": "2022-03-07T15:22:06.326Z"
   },
   {
    "duration": 14,
    "start_time": "2022-03-07T15:22:06.371Z"
   },
   {
    "duration": 4,
    "start_time": "2022-03-07T15:22:06.387Z"
   },
   {
    "duration": 16,
    "start_time": "2022-03-07T15:22:06.393Z"
   },
   {
    "duration": 11,
    "start_time": "2022-03-07T15:22:06.410Z"
   },
   {
    "duration": 1542,
    "start_time": "2022-03-07T15:22:06.423Z"
   },
   {
    "duration": 15,
    "start_time": "2022-03-07T15:22:07.967Z"
   },
   {
    "duration": 241,
    "start_time": "2022-03-07T15:22:07.984Z"
   },
   {
    "duration": 13,
    "start_time": "2022-03-07T15:22:08.227Z"
   },
   {
    "duration": 27,
    "start_time": "2022-03-07T15:22:08.241Z"
   },
   {
    "duration": 1063,
    "start_time": "2022-03-07T15:22:08.270Z"
   },
   {
    "duration": 24,
    "start_time": "2022-03-07T15:22:09.335Z"
   },
   {
    "duration": 13,
    "start_time": "2022-03-07T15:22:09.361Z"
   },
   {
    "duration": 15,
    "start_time": "2022-03-07T15:22:09.376Z"
   },
   {
    "duration": 16,
    "start_time": "2022-03-07T15:22:09.393Z"
   },
   {
    "duration": 1509,
    "start_time": "2022-03-07T15:22:09.411Z"
   },
   {
    "duration": 156,
    "start_time": "2022-03-07T15:22:10.922Z"
   },
   {
    "duration": 1033,
    "start_time": "2022-03-07T15:22:11.079Z"
   },
   {
    "duration": 447,
    "start_time": "2022-03-07T15:22:12.113Z"
   },
   {
    "duration": 303,
    "start_time": "2022-03-07T15:22:12.561Z"
   },
   {
    "duration": 17,
    "start_time": "2022-03-07T15:22:12.866Z"
   },
   {
    "duration": 19,
    "start_time": "2022-03-07T15:22:12.884Z"
   },
   {
    "duration": 270,
    "start_time": "2022-03-07T15:22:12.904Z"
   },
   {
    "duration": 234,
    "start_time": "2022-03-07T15:22:13.175Z"
   },
   {
    "duration": 253,
    "start_time": "2022-03-07T15:22:13.410Z"
   },
   {
    "duration": 922,
    "start_time": "2022-03-07T15:22:13.665Z"
   },
   {
    "duration": 12,
    "start_time": "2022-03-07T15:22:14.589Z"
   },
   {
    "duration": 333,
    "start_time": "2022-03-07T15:22:14.602Z"
   },
   {
    "duration": 10,
    "start_time": "2022-03-07T15:22:14.937Z"
   },
   {
    "duration": 360,
    "start_time": "2022-03-07T15:22:14.949Z"
   },
   {
    "duration": 1222,
    "start_time": "2022-03-07T20:58:32.079Z"
   },
   {
    "duration": 72,
    "start_time": "2022-03-07T20:58:33.303Z"
   },
   {
    "duration": 25,
    "start_time": "2022-03-07T20:58:33.378Z"
   },
   {
    "duration": 52,
    "start_time": "2022-03-07T20:58:33.405Z"
   },
   {
    "duration": 21,
    "start_time": "2022-03-07T20:58:33.460Z"
   },
   {
    "duration": 8,
    "start_time": "2022-03-07T20:58:33.483Z"
   },
   {
    "duration": 60,
    "start_time": "2022-03-07T20:58:33.494Z"
   },
   {
    "duration": 16,
    "start_time": "2022-03-07T20:58:33.559Z"
   },
   {
    "duration": 2030,
    "start_time": "2022-03-07T20:58:33.579Z"
   },
   {
    "duration": 22,
    "start_time": "2022-03-07T20:58:35.611Z"
   },
   {
    "duration": 329,
    "start_time": "2022-03-07T20:58:35.651Z"
   },
   {
    "duration": 17,
    "start_time": "2022-03-07T20:58:35.982Z"
   },
   {
    "duration": 20,
    "start_time": "2022-03-07T20:58:36.001Z"
   },
   {
    "duration": 1528,
    "start_time": "2022-03-07T20:58:36.023Z"
   },
   {
    "duration": 25,
    "start_time": "2022-03-07T20:58:37.553Z"
   },
   {
    "duration": 23,
    "start_time": "2022-03-07T20:58:37.581Z"
   },
   {
    "duration": 18,
    "start_time": "2022-03-07T20:58:37.606Z"
   },
   {
    "duration": 23,
    "start_time": "2022-03-07T20:58:37.651Z"
   },
   {
    "duration": 2264,
    "start_time": "2022-03-07T20:58:37.676Z"
   },
   {
    "duration": 215,
    "start_time": "2022-03-07T20:58:39.943Z"
   },
   {
    "duration": 1437,
    "start_time": "2022-03-07T20:58:40.160Z"
   },
   {
    "duration": 637,
    "start_time": "2022-03-07T20:58:41.599Z"
   },
   {
    "duration": 388,
    "start_time": "2022-03-07T20:58:42.241Z"
   },
   {
    "duration": 34,
    "start_time": "2022-03-07T20:58:42.632Z"
   },
   {
    "duration": 27,
    "start_time": "2022-03-07T20:58:42.669Z"
   },
   {
    "duration": 331,
    "start_time": "2022-03-07T20:58:42.698Z"
   },
   {
    "duration": 329,
    "start_time": "2022-03-07T20:58:43.031Z"
   },
   {
    "duration": 327,
    "start_time": "2022-03-07T20:58:43.363Z"
   },
   {
    "duration": 1014,
    "start_time": "2022-03-07T20:58:43.693Z"
   },
   {
    "duration": 14,
    "start_time": "2022-03-07T20:58:44.709Z"
   },
   {
    "duration": 584,
    "start_time": "2022-03-07T20:58:44.726Z"
   },
   {
    "duration": 18,
    "start_time": "2022-03-07T20:58:45.313Z"
   },
   {
    "duration": 468,
    "start_time": "2022-03-07T20:58:45.351Z"
   }
  ],
  "kernelspec": {
   "display_name": "Python 3 (ipykernel)",
   "language": "python",
   "name": "python3"
  },
  "language_info": {
   "codemirror_mode": {
    "name": "ipython",
    "version": 3
   },
   "file_extension": ".py",
   "mimetype": "text/x-python",
   "name": "python",
   "nbconvert_exporter": "python",
   "pygments_lexer": "ipython3",
   "version": "3.9.5"
  },
  "toc": {
   "base_numbering": 1,
   "nav_menu": {},
   "number_sections": true,
   "sideBar": true,
   "skip_h1_title": true,
   "title_cell": "Table of Contents",
   "title_sidebar": "Contents",
   "toc_cell": false,
   "toc_position": {
    "height": "calc(100% - 180px)",
    "left": "10px",
    "top": "150px",
    "width": "308.797px"
   },
   "toc_section_display": true,
   "toc_window_display": true
  }
 },
 "nbformat": 4,
 "nbformat_minor": 5
}
