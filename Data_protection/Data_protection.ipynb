{
 "cells": [
  {
   "cell_type": "markdown",
   "metadata": {
    "toc": true
   },
   "source": [
    "<h1>Содержание<span class=\"tocSkip\"></span></h1>\n",
    "<div class=\"toc\"><ul class=\"toc-item\"><li><span><a href=\"#Загрузка-данных\" data-toc-modified-id=\"Загрузка-данных-1\"><span class=\"toc-item-num\">1&nbsp;&nbsp;</span>Загрузка данных</a></span><ul class=\"toc-item\"><li><span><a href=\"#Переименование-признаков\" data-toc-modified-id=\"Переименование-признаков-1.1\"><span class=\"toc-item-num\">1.1&nbsp;&nbsp;</span>Переименование признаков</a></span></li></ul></li><li><span><a href=\"#Умножение-матриц\" data-toc-modified-id=\"Умножение-матриц-2\"><span class=\"toc-item-num\">2&nbsp;&nbsp;</span>Умножение матриц</a></span><ul class=\"toc-item\"><li><span><a href=\"#Определение-качества-модели-при-нешифрованных-данных\" data-toc-modified-id=\"Определение-качества-модели-при-нешифрованных-данных-2.1\"><span class=\"toc-item-num\">2.1&nbsp;&nbsp;</span>Определение качества модели при нешифрованных данных</a></span></li><li><span><a href=\"#Определение-качества-модели-после-умножения-признаков-на-обратимую-матрицу\" data-toc-modified-id=\"Определение-качества-модели-после-умножения-признаков-на-обратимую-матрицу-2.2\"><span class=\"toc-item-num\">2.2&nbsp;&nbsp;</span>Определение качества модели после умножения признаков на обратимую матрицу</a></span></li></ul></li><li><span><a href=\"#Алгоритм-преобразования\" data-toc-modified-id=\"Алгоритм-преобразования-3\"><span class=\"toc-item-num\">3&nbsp;&nbsp;</span>Алгоритм преобразования</a></span></li><li><span><a href=\"#Проверка-алгоритма\" data-toc-modified-id=\"Проверка-алгоритма-4\"><span class=\"toc-item-num\">4&nbsp;&nbsp;</span>Проверка алгоритма</a></span><ul class=\"toc-item\"><li><span><a href=\"#Создание-&quot;ключей&quot;\" data-toc-modified-id=\"Создание-&quot;ключей&quot;-4.1\"><span class=\"toc-item-num\">4.1&nbsp;&nbsp;</span>Создание \"ключей\"</a></span></li><li><span><a href=\"#Кодирование-информации\" data-toc-modified-id=\"Кодирование-информации-4.2\"><span class=\"toc-item-num\">4.2&nbsp;&nbsp;</span>Кодирование информации</a></span></li><li><span><a href=\"#Обучение-модели\" data-toc-modified-id=\"Обучение-модели-4.3\"><span class=\"toc-item-num\">4.3&nbsp;&nbsp;</span>Обучение модели</a></span></li><li><span><a href=\"#Общий-вывод\" data-toc-modified-id=\"Общий-вывод-4.4\"><span class=\"toc-item-num\">4.4&nbsp;&nbsp;</span>Общий вывод</a></span></li></ul></li><li><span><a href=\"#Чек-лист-проверки\" data-toc-modified-id=\"Чек-лист-проверки-5\"><span class=\"toc-item-num\">5&nbsp;&nbsp;</span>Чек-лист проверки</a></span></li></ul></div>"
   ]
  },
  {
   "cell_type": "markdown",
   "metadata": {},
   "source": [
    "# Описание проекта"
   ]
  },
  {
   "cell_type": "markdown",
   "metadata": {},
   "source": [
    "Необходимо защитить данные путём разработки такого метода преобразования данных, чтобы по ним было сложно восстановить персональную информацию. Корректность работы должна быть обоснована.\n",
    "\n",
    "Защита данных не должна сказываться на качестве моделей машинного обучения. "
   ]
  },
  {
   "cell_type": "code",
   "execution_count": 1,
   "metadata": {},
   "outputs": [],
   "source": [
    "import pandas as pd\n",
    "import numpy as np\n",
    "from matplotlib import pyplot as plt\n",
    "from sklearn.model_selection import train_test_split\n",
    "from sklearn.linear_model import LinearRegression\n",
    "from sklearn.metrics import r2_score , mean_squared_error"
   ]
  },
  {
   "cell_type": "markdown",
   "metadata": {},
   "source": [
    "## Загрузка данных"
   ]
  },
  {
   "cell_type": "code",
   "execution_count": 22,
   "metadata": {},
   "outputs": [],
   "source": [
    "data = pd.read_csv('...')   # загрузка датафрейма"
   ]
  },
  {
   "cell_type": "code",
   "execution_count": 23,
   "metadata": {},
   "outputs": [
    {
     "name": "stdout",
     "output_type": "stream",
     "text": [
      "<class 'pandas.core.frame.DataFrame'>\n",
      "RangeIndex: 5000 entries, 0 to 4999\n",
      "Data columns (total 5 columns):\n",
      " #   Column             Non-Null Count  Dtype  \n",
      "---  ------             --------------  -----  \n",
      " 0   Пол                5000 non-null   int64  \n",
      " 1   Возраст            5000 non-null   float64\n",
      " 2   Зарплата           5000 non-null   float64\n",
      " 3   Члены семьи        5000 non-null   int64  \n",
      " 4   Страховые выплаты  5000 non-null   int64  \n",
      "dtypes: float64(2), int64(3)\n",
      "memory usage: 195.4 KB\n"
     ]
    }
   ],
   "source": [
    "data.info()               # вывод информации о датафрейме"
   ]
  },
  {
   "cell_type": "markdown",
   "metadata": {},
   "source": [
    "**Вывод**\n",
    "\n",
    "Пропуски отсутствуют и тип данных у всех признаков верный. "
   ]
  },
  {
   "cell_type": "markdown",
   "metadata": {},
   "source": [
    "### Переименование признаков"
   ]
  },
  {
   "cell_type": "markdown",
   "metadata": {},
   "source": [
    "Для лучшего восприятия решено было оставить названия признаков кириллицей, однако пробелы в названиях необходимо убрать, поскольку с пробелами возникают проблемы при вызове методов (в часности метод .query()). "
   ]
  },
  {
   "cell_type": "code",
   "execution_count": 24,
   "metadata": {},
   "outputs": [],
   "source": [
    "data = data.rename(columns={'Страховые выплаты': 'Страховые_выплаты', 'Члены семьи': 'Члены_семьи'}) # переименование опреде-\n",
    "# лённых столбцов"
   ]
  },
  {
   "cell_type": "markdown",
   "metadata": {},
   "source": [
    "## Умножение матриц"
   ]
  },
  {
   "cell_type": "markdown",
   "metadata": {},
   "source": [
    "### Определение качества модели при нешифрованных данных"
   ]
  },
  {
   "cell_type": "code",
   "execution_count": 25,
   "metadata": {},
   "outputs": [
    {
     "name": "stdout",
     "output_type": "stream",
     "text": [
      "Параметры модели регресcии: [ 1.79258369e-02  3.57228278e-02 -5.46000708e-07 -1.26186590e-02]\n",
      "R2 модели регресии на валидационной выборке:  0.43522757127026546\n"
     ]
    }
   ],
   "source": [
    "features = data.drop('Страховые_выплаты', axis=1)                              # признаки\n",
    "target = data['Страховые_выплаты']                                             # целевой признак\n",
    "features_train, features_valid, target_train, target_valid = train_test_split( # разбиение на обучающую и валидационную выборку\n",
    "    features, target, test_size=0.25, random_state=12345)\n",
    "model = LinearRegression()                                                     # выбираем модель линейной регрессии\n",
    "model.fit(features_train, target_train)                                        # обучаем на обучающей выборке\n",
    "predictions = model.predict(features_valid)                                    # строим предсказания по признакам валидационной\n",
    "# выборки\n",
    "print(f'Параметры модели регресcии: {model.coef_}')   # выводим коэффициенты при признаках в функции линейной регрессии\n",
    "print('R2 модели регресии на валидационной выборке: ', r2_score(target_valid, predictions))"
   ]
  },
  {
   "cell_type": "markdown",
   "metadata": {},
   "source": [
    "### Определение качества модели после умножения признаков на обратимую матрицу"
   ]
  },
  {
   "cell_type": "code",
   "execution_count": 26,
   "metadata": {},
   "outputs": [
    {
     "name": "stdout",
     "output_type": "stream",
     "text": [
      "Параметры модели регрессии, умноженные на обратимую матрицу [ 1.79258369e-02  3.57228278e-02 -5.46000708e-07 -1.26186590e-02]\n",
      "R2 модели регрессии на валидационной выборке после умножения на обратим. матр:  0.4352275712704624\n"
     ]
    }
   ],
   "source": [
    "vector = np.random.normal(3, 3, size=(features.shape[1], features.shape[1]))   # создание квадратной матрицы, заполненной по\n",
    "# нормальному распределению с дисперсией и мат. ожиданием, равными 3\n",
    "np.linalg.inv(vector)                                                          # проверка матрицы на обратимость\n",
    "\n",
    "new_features = features.dot(vector)                                            # умножение признаков на обратимую матрицу\n",
    "new_features.columns = features.columns                                        # перенос названий признаков в новый датафрейм\n",
    "target = data['Страховые_выплаты']\n",
    "\n",
    "features_train, features_valid, target_train, target_valid = train_test_split( # разбиение новых признаков и целевого признака  \n",
    "    new_features, target, test_size=0.25, random_state=12345)                # на обучающую и валидационную выборкт\n",
    "model = LinearRegression()                                                   # выбираем модель линейной регрессии\n",
    "model.fit(features_train, target_train)                                      # обучаем на обучающей преобразованной выборке\n",
    "print(f'Параметры модели регрессии, умноженные на обратимую матрицу {vector.dot(np.array((model.coef_)))}')\n",
    "predictions = model.predict(features_valid)  # строим предсказания по признакам валидационной выборки\n",
    "print('R2 модели регрессии на валидационной выборке после умножения на обратим. матр: ', r2_score(target_valid, predictions))\n"
   ]
  },
  {
   "cell_type": "code",
   "execution_count": 31,
   "metadata": {},
   "outputs": [
    {
     "data": {
      "text/plain": [
       "array([[ 2.38056244e+14,  8.19273190e+13,  2.30924398e+13,\n",
       "        -1.73860647e+14],\n",
       "       [ 8.19273190e+13,  2.81953790e+13,  7.94728845e+12,\n",
       "        -5.98343412e+13],\n",
       "       [ 2.30924398e+13,  7.94728845e+12,  2.24006220e+12,\n",
       "        -1.68652003e+13],\n",
       "       [-1.73860647e+14, -5.98343412e+13, -1.68652003e+13,\n",
       "         1.26976436e+14]])"
      ]
     },
     "metadata": {},
     "output_type": "display_data"
    }
   ],
   "source": [
    "display(vector.T.dot(features.T).dot(features).dot(vector))"
   ]
  },
  {
   "cell_type": "markdown",
   "metadata": {},
   "source": [
    "**Вывод**\n",
    "\n",
    "Качество линейной регрессии не изменяется после умножения признаков на обратимую матрицу $A$. Параметры модели в преобразованной задаче и исходной связаны следующим соотношением:\n",
    "$$\n",
    "w = Aw'\n",
    "$$"
   ]
  },
  {
   "cell_type": "markdown",
   "metadata": {},
   "source": [
    "**Обоснование:** Запишем формулу обучения с учётом умножения на обратимую матрицу $A$:\n",
    "$$\n",
    "w' = ((XA)^T (XA))^{-1} (XA)^T y\n",
    "$$\n",
    "Раскрываем скобки:\n",
    "$$\n",
    "w' = (A^T X^T XA)^{-1} (A^T X^T) y = (A^T (X^T X) A)^{-1} (A^T X^T) y = \n",
    "$$\n",
    "\n",
    "$$\n",
    "=A^{-1} (A^T (X^T X))^{-1}(A^T X^T) y = A^{-1} (X^T X)^{-1}\\underline{(A^T)^{-1}A^T} X^Ty = A^{-1} (X^T X)^{-1}X^Ty = A^{-1}w\n",
    "$$\n",
    "\n",
    "\n",
    "\n",
    "\n",
    "Здесь мы использовали следующие выражения:\n",
    "$$\n",
    "(XA)^T = A^T X^T\n",
    "$$\n",
    "\n",
    "$$\n",
    "(A^T)^{-1}A^T = E\n",
    "$$\n",
    "В итоге получим, что:\n",
    "$$\n",
    "w= Aw'\n",
    "$$"
   ]
  },
  {
   "cell_type": "markdown",
   "metadata": {},
   "source": [
    "## Алгоритм преобразования"
   ]
  },
  {
   "cell_type": "markdown",
   "metadata": {},
   "source": [
    "Как было показано ранее, хорошим способом кодировки, при котором качество предсказаний не изменяется, является умножение матрицы признаков на обратимую матрицу. \n",
    "\n",
    "Что касается вектора целевого признака, то его тоже можно замаскировать: прибавить ко всему вектору случайное число и умножить на случайное число. Метрика R2 к такой операции не чувствительна."
   ]
  },
  {
   "cell_type": "markdown",
   "metadata": {},
   "source": [
    "**Алгоритм**\n",
    "\n",
    "\n",
    "1. Тот, кто должен скрыть личную информацию создаёт обратимую $A$ матрицу и два случайных числа ${a,b}$ и хранит их у себя. Матрица $A$ должна быть заполнена случайно сгенерированными числами.\n",
    "\n",
    "2. Умножаем матрицу признаков на $A$ и получаем преобразованную матрицу признаков $X'$. Прибавляем к целевому признаку $y$ число $a$, а затем умножаем на $b$, получаем преобразованный целевой признак $y'$.\n",
    "\n",
    "3. Проводим обучение с новой матрицей признаков. Делаем предсказания целевого признака $y'$.\n",
    "\n",
    "4. Предсказания и величину метрики передаём хранителю \"ключей\". Он делает обратные операции с целевым признаком и числами ${a,b}$ и получает реальные значения предсказанного целевого признака.\n",
    "   "
   ]
  },
  {
   "cell_type": "markdown",
   "metadata": {},
   "source": [
    "**Обоснование**\n",
    "\n",
    "Обоснование, почему умножение признаков на обратимую матрицу не влияет на точность предсказания описано в предыдущем пункте.\n",
    "\n",
    "Обоснование, почему простые операции прибавления числа и умножения на число исходного целевого признака не влияют на качество модели кроется в определении метрики, за которой мы следим.\n",
    "\n",
    "Если мы прибавляем число к целевому признаку, то после обучения модели параметр регрессии $w_0$ увеличится на это число и итоговые предсказания также увеличатся на это число. Метрика R2 определяется как:\n",
    "\n",
    "$$\n",
    "R2 = 1 - MSE_{модели}/MSE_{среднего}\n",
    "$$\n",
    "\n",
    "А MSE, в свою очередь представляется:\n",
    "$$\n",
    "MSE = \\frac{\\sum{(Предсказание\\:модели - правильный\\:ответ)^2}}{Количество\\:объектов}\n",
    "$$\n",
    "\n",
    "Поскольку и правильный ответ и предсказания смещены на одну и ту же величину качество предсказания не меняется.\n",
    "\n",
    "Что касается умножения целевого признака на число $b$, то это приводит к умножению всех коэффициентов линейной регрессии на это число. Соответственно и предсказания будут отличаться в $b$ раз. Из определения MSE видно, что эта метрика вырастет в $b^2$ раз, а вот метрика R2 останется прежней, ведь если $MSE_{модели}$ будет завышено в $b^2$ раз, то и $MSE_{среднего}$ тоже завысится в $b^2$ раз."
   ]
  },
  {
   "cell_type": "markdown",
   "metadata": {},
   "source": [
    "## Проверка алгоритма"
   ]
  },
  {
   "cell_type": "markdown",
   "metadata": {},
   "source": [
    "### Создание \"ключей\""
   ]
  },
  {
   "cell_type": "code",
   "execution_count": 28,
   "metadata": {},
   "outputs": [],
   "source": [
    "matrix = np.random.normal(3, 3, size=(features.shape[1], features.shape[1])) # создание квадратной матрицы, заполненной по\n",
    "# нормальному распределению с дисперсией и мат. ожиданием, равными 3\n",
    "np.linalg.inv(matrix)                                                # проверка матрицы на обратимость\n",
    "[a,b] = [np.random.rand(1) - 0.5,np.random.rand(1) - 0.5]            # создание случайных чисел а и b"
   ]
  },
  {
   "cell_type": "markdown",
   "metadata": {},
   "source": [
    "### Кодирование информации"
   ]
  },
  {
   "cell_type": "code",
   "execution_count": 29,
   "metadata": {},
   "outputs": [
    {
     "name": "stdout",
     "output_type": "stream",
     "text": [
      "Преобразованные признаки:\n"
     ]
    },
    {
     "data": {
      "text/html": [
       "<div>\n",
       "<style scoped>\n",
       "    .dataframe tbody tr th:only-of-type {\n",
       "        vertical-align: middle;\n",
       "    }\n",
       "\n",
       "    .dataframe tbody tr th {\n",
       "        vertical-align: top;\n",
       "    }\n",
       "\n",
       "    .dataframe thead th {\n",
       "        text-align: right;\n",
       "    }\n",
       "</style>\n",
       "<table border=\"1\" class=\"dataframe\">\n",
       "  <thead>\n",
       "    <tr style=\"text-align: right;\">\n",
       "      <th></th>\n",
       "      <th>Пол</th>\n",
       "      <th>Возраст</th>\n",
       "      <th>Зарплата</th>\n",
       "      <th>Члены_семьи</th>\n",
       "    </tr>\n",
       "  </thead>\n",
       "  <tbody>\n",
       "    <tr>\n",
       "      <th>0</th>\n",
       "      <td>98752.706242</td>\n",
       "      <td>-13739.294907</td>\n",
       "      <td>-74513.632112</td>\n",
       "      <td>58484.892246</td>\n",
       "    </tr>\n",
       "    <tr>\n",
       "      <th>1</th>\n",
       "      <td>75720.686897</td>\n",
       "      <td>-10497.451094</td>\n",
       "      <td>-57039.772526</td>\n",
       "      <td>44863.514434</td>\n",
       "    </tr>\n",
       "    <tr>\n",
       "      <th>2</th>\n",
       "      <td>41859.779819</td>\n",
       "      <td>-5797.639719</td>\n",
       "      <td>-31510.813472</td>\n",
       "      <td>24805.277323</td>\n",
       "    </tr>\n",
       "    <tr>\n",
       "      <th>3</th>\n",
       "      <td>82958.748277</td>\n",
       "      <td>-11571.305980</td>\n",
       "      <td>-62689.576282</td>\n",
       "      <td>49116.869442</td>\n",
       "    </tr>\n",
       "    <tr>\n",
       "      <th>4</th>\n",
       "      <td>51996.504535</td>\n",
       "      <td>-7219.783889</td>\n",
       "      <td>-39188.667545</td>\n",
       "      <td>30800.922534</td>\n",
       "    </tr>\n",
       "  </tbody>\n",
       "</table>\n",
       "</div>"
      ],
      "text/plain": [
       "            Пол       Возраст      Зарплата   Члены_семьи\n",
       "0  98752.706242 -13739.294907 -74513.632112  58484.892246\n",
       "1  75720.686897 -10497.451094 -57039.772526  44863.514434\n",
       "2  41859.779819  -5797.639719 -31510.813472  24805.277323\n",
       "3  82958.748277 -11571.305980 -62689.576282  49116.869442\n",
       "4  51996.504535  -7219.783889 -39188.667545  30800.922534"
      ]
     },
     "metadata": {},
     "output_type": "display_data"
    },
    {
     "name": "stdout",
     "output_type": "stream",
     "text": [
      "Преобразованный целевой признак:\n"
     ]
    },
    {
     "data": {
      "text/plain": [
       "0   -0.177370\n",
       "1    0.207097\n",
       "2   -0.177370\n",
       "3   -0.177370\n",
       "4   -0.177370\n",
       "Name: Страховые_выплаты, dtype: float64"
      ]
     },
     "metadata": {},
     "output_type": "display_data"
    },
    {
     "name": "stdout",
     "output_type": "stream",
     "text": [
      "Закодированное распределение по полам:\n"
     ]
    },
    {
     "data": {
      "text/plain": [
       "<AxesSubplot:>"
      ]
     },
     "execution_count": 29,
     "metadata": {},
     "output_type": "execute_result"
    },
    {
     "data": {
      "image/png": "[encoded data removed]",
      "text/plain": [
       "<Figure size 432x288 with 1 Axes>"
      ]
     },
     "metadata": {
      "needs_background": "light"
     },
     "output_type": "display_data"
    }
   ],
   "source": [
    "new_features = features.dot(matrix)                                 # умножение признаков на обратимую матрицу\n",
    "new_features.columns = features.columns                             # перенос названий признаков в новый датафрейм\n",
    "new_target = ((data['Страховые_выплаты']) + a) * b                  # кодирование целевого признака\n",
    "print('Преобразованные признаки:')\n",
    "display(new_features.head())\n",
    "print('Преобразованный целевой признак:')\n",
    "display(new_target.head())\n",
    "print('Закодированное распределение по полам:')\n",
    "new_features['Пол'].hist()"
   ]
  },
  {
   "cell_type": "markdown",
   "metadata": {},
   "source": [
    "**Вывод**\n",
    "\n",
    "Данные закодированы, из распределения по полам и не догадаешься, что это за признак, однако, видно, что в качестве \"ключа\" использовалось нормальное распределение."
   ]
  },
  {
   "cell_type": "markdown",
   "metadata": {},
   "source": [
    "### Обучение модели"
   ]
  },
  {
   "cell_type": "code",
   "execution_count": 30,
   "metadata": {},
   "outputs": [
    {
     "name": "stdout",
     "output_type": "stream",
     "text": [
      "                        До преобразования\n",
      "R2 модели регрессии на валидационной выборке до преобразования:  0.43522757127026546\n",
      "MSE модели регрессии на валидационной выборке до преобразования:  0.11660517472525592\n",
      "Параметры модели регрессии: [ 1.79258369e-02  3.57228278e-02 -5.46000708e-07 -1.26186590e-02]\n",
      "Сдвиг модели регрессии: -0.9321366751690725\n",
      "Предсказания: [0.17494798 0.80523476 0.45599281 ... 0.3129923  0.34926113 0.7886826 ]\n",
      "\n",
      "                        После преобразования\n",
      "R2 модели регрессии на валидационной выборке после преобразования:  0.43522757127024403\n",
      "MSE модели регрессии на валидационной выборке после преобразования:  0.017235943319824597\n",
      "Параметры модели регрессии: [-0.00056405 -0.00291607  0.00249332  0.0034535 ]\n",
      "Сдвиг модели регрессии: -0.5357454969258062\n",
      "Предсказания: [-0.11010843  0.13221579 -0.00205607 ... -0.05703499 -0.04309084\n",
      "  0.12585204]\n",
      "\n",
      "                        После раскодировки\n",
      "Параметры модели регрессии: [ 1.79258369e-02  3.57228278e-02 -5.46000708e-07 -1.26186590e-02]\n",
      "Сдвиг модели регрессии: [-0.93213668]\n",
      "Предсказания: [0.17494798 0.80523476 0.45599281 ... 0.3129923  0.34926113 0.7886826 ]\n"
     ]
    }
   ],
   "source": [
    "features = data.drop('Страховые_выплаты', axis=1)                            # исходные признаки\n",
    "target = data['Страховые_выплаты']                                           # исходный целевой признак\n",
    "features_train, features_valid, target_train, target_valid = train_test_split(   # разбиение исходного датафрейма на обуч.\n",
    "    features, target, test_size=0.25, random_state=12345)                         # валидационную выборки\n",
    "model = LinearRegression()                                                   # модель линейной регрессии\n",
    "model.fit(features_train, target_train)                                      # обучение\n",
    "predictions = model.predict(features_valid)                                  # построение предсказаний\n",
    "print('                        До преобразования')\n",
    "print('R2 модели регрессии на валидационной выборке до преобразования: ', r2_score(target_valid, predictions))\n",
    "print('MSE модели регрессии на валидационной выборке до преобразования: ', mean_squared_error(target_valid, predictions))\n",
    "print(f'Параметры модели регрессии: {model.coef_}')\n",
    "print(f'Сдвиг модели регрессии: {model.intercept_}')\n",
    "print(f'Предсказания: {predictions}')\n",
    "print()\n",
    "\n",
    "features_train, features_valid, target_train, target_valid = train_test_split(   # разбиение преобразованного датафрейма на \n",
    "    new_features, new_target, test_size=0.25, random_state=12345)                # обуч. и валид. выборки\n",
    "model = LinearRegression()                                                       # модель линейной регрессии\n",
    "model.fit(features_train, target_train)                                          # обучение\n",
    "predictions = model.predict(features_valid)                                      # построение предсказаний\n",
    "print('                        После преобразования')\n",
    "print('R2 модели регрессии на валидационной выборке после преобразования: ', r2_score(target_valid, predictions))\n",
    "print('MSE модели регрессии на валидационной выборке после преобразования: ', mean_squared_error(target_valid, predictions))\n",
    "print(f'Параметры модели регрессии: {(np.array((model.coef_)))}')\n",
    "print(f'Сдвиг модели регрессии: {model.intercept_}')                            # вывод смещения модели\n",
    "print(f'Предсказания: {predictions}')                                           # вывод предсказаний модели в закодированном \n",
    "# виде\n",
    "print()\n",
    "\n",
    "print('                        После раскодировки')\n",
    "print(f'Параметры модели регрессии: {matrix.dot(np.array((model.coef_)))/b}')  # вывод коэффицентов при признаках в функции\n",
    "#  регрессии после раскодирования\n",
    "print(f'Сдвиг модели регрессии: {model.intercept_/b - a}')                     # вывод смещения модели после раскодирования\n",
    "print(f'Предсказания: {predictions/b - a}')                                    # вывод предсказаний модели после раскодирования\n"
   ]
  },
  {
   "cell_type": "markdown",
   "metadata": {},
   "source": [
    "**Вывод**\n",
    "\n",
    "Качество предсказаний после указанных преобразований не изменилось (метрика R2)."
   ]
  },
  {
   "cell_type": "markdown",
   "metadata": {},
   "source": [
    "### Общий вывод\n",
    "\n",
    "Задача состояла в преобразовании персональной информации с помощью матричных операций. В качестве персональной информации выступали признаки, которые впоследствие используются при построении модели МО. Исходя из формулы линейной регрессии, было доказано, что умножение матрицы признаков на обратимую матрицу $A$ не влияет на качество предсказаний, сами предсказания при этом тоже не меняются.\n",
    "\n",
    "Это свойство было взято за основу алгоритма шифрования персональных данных. Алгоритм дополнен преобразованием целевого признака. В итоге для шифрования признаков используется обратимая матрица $A$, а для целевого признака - два числа ${a,b}$.\n",
    "\n",
    "Проверка алгоритма показала, что качество предсказаний (метрика $R2$) не меняется после преобразования. Знание двух чисел ${a,b}$ позволяет впоследствие восстановить целевой признак. Если же нас интересовала другая метрика качества, то принцип кодировки целевого признака пришлось бы изменить."
   ]
  },
  {
   "cell_type": "markdown",
   "metadata": {},
   "source": [
    "## Чек-лист проверки"
   ]
  },
  {
   "cell_type": "markdown",
   "metadata": {},
   "source": [
    "Поставьте 'x' в выполненных пунктах. Далее нажмите Shift+Enter."
   ]
  },
  {
   "cell_type": "markdown",
   "metadata": {},
   "source": [
    "- [x]  Jupyter Notebook открыт\n",
    "- [x]  Весь код выполняется без ошибок\n",
    "- [x]  Ячейки с кодом расположены в порядке исполнения\n",
    "- [x]  Выполнен шаг 1: данные загружены\n",
    "- [x]  Выполнен шаг 2: получен ответ на вопрос об умножении матриц\n",
    "    - [ ]  Указан правильный вариант ответа\n",
    "    - [x]  Вариант обоснован\n",
    "- [x]  Выполнен шаг 3: предложен алгоритм преобразования\n",
    "    - [x]  Алгоритм описан\n",
    "    - [x]  Алгоритм обоснован\n",
    "- [x]  Выполнен шаг 4: алгоритм проверен\n",
    "    - [x]  Алгоритм реализован\n",
    "    - [x]  Проведено сравнение качества моделей до и после преобразования"
   ]
  }
 ],
 "metadata": {
  "ExecuteTimeLog": [
   {
    "duration": 77,
    "start_time": "2022-05-03T10:46:39.900Z"
   },
   {
    "duration": 671,
    "start_time": "2022-05-03T10:46:42.635Z"
   },
   {
    "duration": 18,
    "start_time": "2022-05-03T10:47:00.128Z"
   },
   {
    "duration": 18,
    "start_time": "2022-05-03T10:47:11.097Z"
   },
   {
    "duration": 34,
    "start_time": "2022-05-03T10:47:23.338Z"
   },
   {
    "duration": 47,
    "start_time": "2022-05-03T10:48:25.718Z"
   },
   {
    "duration": 9,
    "start_time": "2022-05-03T10:49:33.088Z"
   },
   {
    "duration": 4,
    "start_time": "2022-05-03T10:49:36.539Z"
   },
   {
    "duration": 7,
    "start_time": "2022-05-03T10:49:39.019Z"
   },
   {
    "duration": 9,
    "start_time": "2022-05-03T10:50:13.993Z"
   },
   {
    "duration": 5,
    "start_time": "2022-05-03T10:51:05.942Z"
   },
   {
    "duration": 5,
    "start_time": "2022-05-03T10:51:15.087Z"
   },
   {
    "duration": 11,
    "start_time": "2022-05-03T10:51:20.190Z"
   },
   {
    "duration": 9,
    "start_time": "2022-05-03T10:54:48.732Z"
   },
   {
    "duration": 8,
    "start_time": "2022-05-03T10:55:00.346Z"
   },
   {
    "duration": 6,
    "start_time": "2022-05-03T10:55:16.202Z"
   },
   {
    "duration": 17,
    "start_time": "2022-05-03T10:56:01.208Z"
   },
   {
    "duration": 13,
    "start_time": "2022-05-03T10:56:24.015Z"
   },
   {
    "duration": 20,
    "start_time": "2022-05-03T10:56:41.854Z"
   },
   {
    "duration": 12,
    "start_time": "2022-05-03T11:49:40.429Z"
   },
   {
    "duration": 437,
    "start_time": "2022-05-03T11:50:11.157Z"
   },
   {
    "duration": 5,
    "start_time": "2022-05-03T11:51:02.961Z"
   },
   {
    "duration": 6,
    "start_time": "2022-05-03T11:51:33.351Z"
   },
   {
    "duration": 8,
    "start_time": "2022-05-03T11:51:51.118Z"
   },
   {
    "duration": 18,
    "start_time": "2022-05-03T11:51:54.374Z"
   },
   {
    "duration": 14,
    "start_time": "2022-05-03T11:56:22.302Z"
   },
   {
    "duration": 115,
    "start_time": "2022-05-03T11:56:29.135Z"
   },
   {
    "duration": 10,
    "start_time": "2022-05-03T11:58:01.292Z"
   },
   {
    "duration": 14,
    "start_time": "2022-05-03T11:58:07.140Z"
   },
   {
    "duration": 5,
    "start_time": "2022-05-03T11:58:18.972Z"
   },
   {
    "duration": 4,
    "start_time": "2022-05-03T11:58:24.746Z"
   },
   {
    "duration": 4,
    "start_time": "2022-05-03T11:58:31.874Z"
   },
   {
    "duration": 5,
    "start_time": "2022-05-03T11:58:35.736Z"
   },
   {
    "duration": 5,
    "start_time": "2022-05-03T11:58:40.528Z"
   },
   {
    "duration": 5,
    "start_time": "2022-05-03T12:01:53.075Z"
   },
   {
    "duration": 5,
    "start_time": "2022-05-03T12:02:03.713Z"
   },
   {
    "duration": 104,
    "start_time": "2022-05-03T12:02:20.454Z"
   },
   {
    "duration": 8,
    "start_time": "2022-05-03T12:02:31.462Z"
   },
   {
    "duration": 25181,
    "start_time": "2022-05-03T12:05:19.430Z"
   },
   {
    "duration": 8,
    "start_time": "2022-05-09T06:27:53.090Z"
   },
   {
    "duration": 9,
    "start_time": "2022-05-09T06:28:13.332Z"
   },
   {
    "duration": 9,
    "start_time": "2022-05-09T06:28:28.355Z"
   },
   {
    "duration": 9,
    "start_time": "2022-05-09T06:28:39.427Z"
   },
   {
    "duration": 9,
    "start_time": "2022-05-09T06:28:46.251Z"
   },
   {
    "duration": 9,
    "start_time": "2022-05-09T06:28:58.217Z"
   },
   {
    "duration": 15,
    "start_time": "2022-05-09T06:29:19.281Z"
   },
   {
    "duration": 10,
    "start_time": "2022-05-09T06:40:27.203Z"
   },
   {
    "duration": 4,
    "start_time": "2022-05-09T06:40:32.379Z"
   },
   {
    "duration": 16,
    "start_time": "2022-05-09T06:40:32.384Z"
   },
   {
    "duration": 10,
    "start_time": "2022-05-09T06:40:32.401Z"
   },
   {
    "duration": 10,
    "start_time": "2022-05-09T06:40:32.413Z"
   },
   {
    "duration": 19,
    "start_time": "2022-05-09T06:40:32.425Z"
   },
   {
    "duration": 37,
    "start_time": "2022-05-09T06:40:32.445Z"
   },
   {
    "duration": 90,
    "start_time": "2022-05-09T06:40:32.485Z"
   },
   {
    "duration": 4,
    "start_time": "2022-05-09T06:40:32.578Z"
   },
   {
    "duration": 332,
    "start_time": "2022-05-09T06:40:32.584Z"
   },
   {
    "duration": 26,
    "start_time": "2022-05-09T06:40:32.918Z"
   },
   {
    "duration": 7,
    "start_time": "2022-05-09T06:43:29.904Z"
   }
  ],
  "kernelspec": {
   "display_name": "Python 3 (ipykernel)",
   "language": "python",
   "name": "python3"
  },
  "language_info": {
   "codemirror_mode": {
    "name": "ipython",
    "version": 3
   },
   "file_extension": ".py",
   "mimetype": "text/x-python",
   "name": "python",
   "nbconvert_exporter": "python",
   "pygments_lexer": "ipython3",
   "version": "3.9.7"
  },
  "toc": {
   "base_numbering": 1,
   "nav_menu": {},
   "number_sections": true,
   "sideBar": true,
   "skip_h1_title": true,
   "title_cell": "Содержание",
   "title_sidebar": "Contents",
   "toc_cell": true,
   "toc_position": {},
   "toc_section_display": true,
   "toc_window_display": true
  }
 },
 "nbformat": 4,
 "nbformat_minor": 2
}
