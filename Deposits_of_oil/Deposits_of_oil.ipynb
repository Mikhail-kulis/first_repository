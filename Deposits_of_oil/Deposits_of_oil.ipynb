{
 "cells": [
  {
   "cell_type": "markdown",
   "metadata": {},
   "source": [
    "# Описание проекта"
   ]
  },
  {
   "cell_type": "markdown",
   "metadata": {},
   "source": [
    "\n",
    "\n",
    "Предоставлены пробы нефти в трёх регионах: в каждом 10 000 месторождений, где измерили качество нефти и объём её запасов. Постройте модель машинного обучения, которая поможет определить регион, где добыча принесёт наибольшую прибыль. Проанализируйте возможную прибыль и риски техникой *Bootstrap.*\n",
    "\n",
    "Шаги для выбора локации:\n",
    "\n",
    "- В избранном регионе ищут месторождения, для каждого определяют значения признаков;\n",
    "- Строят модель и оценивают объём запасов;\n",
    "- Выбирают месторождения с самым высокими оценками значений. Количество месторождений зависит от бюджета компании и стоимости разработки одной скважины;\n",
    "- Прибыль равна суммарной прибыли отобранных месторождений."
   ]
  },
  {
   "cell_type": "markdown",
   "metadata": {},
   "source": [
    "## Загрузка и подготовка данных"
   ]
  },
  {
   "cell_type": "code",
   "execution_count": 25,
   "metadata": {},
   "outputs": [
    {
     "name": "stdout",
     "output_type": "stream",
     "text": [
      "Requirement already satisfied: sweetviz in f:\\anaconda\\lib\\site-packages (2.1.3)\n",
      "Requirement already satisfied: jinja2>=2.11.1 in f:\\anaconda\\lib\\site-packages (from sweetviz) (2.11.3)\n",
      "Requirement already satisfied: importlib-resources>=1.2.0 in f:\\anaconda\\lib\\site-packages (from sweetviz) (5.7.1)\n",
      "Requirement already satisfied: numpy>=1.16.0 in f:\\anaconda\\lib\\site-packages (from sweetviz) (1.20.3)\n",
      "Requirement already satisfied: tqdm>=4.43.0 in f:\\anaconda\\lib\\site-packages (from sweetviz) (4.62.3)\n",
      "Requirement already satisfied: matplotlib>=3.1.3 in f:\\anaconda\\lib\\site-packages (from sweetviz) (3.4.3)\n",
      "Requirement already satisfied: scipy>=1.3.2 in f:\\anaconda\\lib\\site-packages (from sweetviz) (1.7.1)\n",
      "Requirement already satisfied: pandas!=1.0.0,!=1.0.1,!=1.0.2,>=0.25.3 in f:\\anaconda\\lib\\site-packages (from sweetviz) (1.3.4)\n",
      "Requirement already satisfied: zipp>=3.1.0 in f:\\anaconda\\lib\\site-packages (from importlib-resources>=1.2.0->sweetviz) (3.6.0)\n",
      "Requirement already satisfied: MarkupSafe>=0.23 in f:\\anaconda\\lib\\site-packages (from jinja2>=2.11.1->sweetviz) (1.1.1)\n",
      "Requirement already satisfied: pyparsing>=2.2.1 in f:\\anaconda\\lib\\site-packages (from matplotlib>=3.1.3->sweetviz) (3.0.4)\n",
      "Requirement already satisfied: pillow>=6.2.0 in f:\\anaconda\\lib\\site-packages (from matplotlib>=3.1.3->sweetviz) (8.4.0)\n",
      "Requirement already satisfied: cycler>=0.10 in f:\\anaconda\\lib\\site-packages (from matplotlib>=3.1.3->sweetviz) (0.10.0)\n",
      "Requirement already satisfied: kiwisolver>=1.0.1 in f:\\anaconda\\lib\\site-packages (from matplotlib>=3.1.3->sweetviz) (1.3.1)\n",
      "Requirement already satisfied: python-dateutil>=2.7 in f:\\anaconda\\lib\\site-packages (from matplotlib>=3.1.3->sweetviz) (2.8.2)\n",
      "Requirement already satisfied: six in f:\\anaconda\\lib\\site-packages (from cycler>=0.10->matplotlib>=3.1.3->sweetviz) (1.16.0)\n",
      "Requirement already satisfied: pytz>=2017.3 in f:\\anaconda\\lib\\site-packages (from pandas!=1.0.0,!=1.0.1,!=1.0.2,>=0.25.3->sweetviz) (2021.3)\n",
      "Requirement already satisfied: colorama in f:\\anaconda\\lib\\site-packages (from tqdm>=4.43.0->sweetviz) (0.4.4)\n",
      "Note: you may need to restart the kernel to use updated packages.\n"
     ]
    }
   ],
   "source": [
    "pip install sweetviz"
   ]
  },
  {
   "cell_type": "markdown",
   "metadata": {},
   "source": [
    "### Импорт библиотек"
   ]
  },
  {
   "cell_type": "code",
   "execution_count": 26,
   "metadata": {},
   "outputs": [],
   "source": [
    "import pandas as pd\n",
    "import numpy as np\n",
    "from sklearn.model_selection import train_test_split \n",
    "from sklearn.linear_model import LinearRegression         # импорт модели линейной регрессии\n",
    "from sklearn.metrics import mean_squared_error, r2_score\n",
    "from scipy import stats as st\n",
    "import matplotlib.pyplot as plt                           # импорт библиотеки для работы с графиками\n",
    "from sklearn.preprocessing import StandardScaler\n",
    "import sweetviz as sv"
   ]
  },
  {
   "cell_type": "markdown",
   "metadata": {},
   "source": [
    "### Чтение файлов "
   ]
  },
  {
   "cell_type": "code",
   "execution_count": 27,
   "metadata": {},
   "outputs": [],
   "source": [
    "data_0 = pd.read_csv('...') #\n",
    "data_1 = pd.read_csv('...') #   чтение трёх датафреймов и запись их под тремя переменными\n",
    "data_2 = pd.read_csv('...') #"
   ]
  },
  {
   "cell_type": "markdown",
   "metadata": {},
   "source": [
    "### Поиск пропусков, неверных типов данных, дубликов"
   ]
  },
  {
   "cell_type": "code",
   "execution_count": 28,
   "metadata": {},
   "outputs": [
    {
     "name": "stdout",
     "output_type": "stream",
     "text": [
      "<class 'pandas.core.frame.DataFrame'>\n",
      "RangeIndex: 100000 entries, 0 to 99999\n",
      "Data columns (total 5 columns):\n",
      " #   Column   Non-Null Count   Dtype  \n",
      "---  ------   --------------   -----  \n",
      " 0   id       100000 non-null  object \n",
      " 1   f0       100000 non-null  float64\n",
      " 2   f1       100000 non-null  float64\n",
      " 3   f2       100000 non-null  float64\n",
      " 4   product  100000 non-null  float64\n",
      "dtypes: float64(4), object(1)\n",
      "memory usage: 3.8+ MB\n",
      "<class 'pandas.core.frame.DataFrame'>\n",
      "RangeIndex: 100000 entries, 0 to 99999\n",
      "Data columns (total 5 columns):\n",
      " #   Column   Non-Null Count   Dtype  \n",
      "---  ------   --------------   -----  \n",
      " 0   id       100000 non-null  object \n",
      " 1   f0       100000 non-null  float64\n",
      " 2   f1       100000 non-null  float64\n",
      " 3   f2       100000 non-null  float64\n",
      " 4   product  100000 non-null  float64\n",
      "dtypes: float64(4), object(1)\n",
      "memory usage: 3.8+ MB\n",
      "<class 'pandas.core.frame.DataFrame'>\n",
      "RangeIndex: 100000 entries, 0 to 99999\n",
      "Data columns (total 5 columns):\n",
      " #   Column   Non-Null Count   Dtype  \n",
      "---  ------   --------------   -----  \n",
      " 0   id       100000 non-null  object \n",
      " 1   f0       100000 non-null  float64\n",
      " 2   f1       100000 non-null  float64\n",
      " 3   f2       100000 non-null  float64\n",
      " 4   product  100000 non-null  float64\n",
      "dtypes: float64(4), object(1)\n",
      "memory usage: 3.8+ MB\n"
     ]
    }
   ],
   "source": [
    "data_0.info() #\n",
    "data_1.info() #    вывод информации о трёх датафреймах\n",
    "data_2.info() #"
   ]
  },
  {
   "cell_type": "markdown",
   "metadata": {},
   "source": [
    "**Вывод**\n",
    "\n",
    "Пропусков в датафреймах нет, все данные имеют нужный тип данных."
   ]
  },
  {
   "cell_type": "code",
   "execution_count": 29,
   "metadata": {},
   "outputs": [
    {
     "data": {
      "text/html": [
       "<div>\n",
       "<style scoped>\n",
       "    .dataframe tbody tr th:only-of-type {\n",
       "        vertical-align: middle;\n",
       "    }\n",
       "\n",
       "    .dataframe tbody tr th {\n",
       "        vertical-align: top;\n",
       "    }\n",
       "\n",
       "    .dataframe thead th {\n",
       "        text-align: right;\n",
       "    }\n",
       "</style>\n",
       "<table border=\"1\" class=\"dataframe\">\n",
       "  <thead>\n",
       "    <tr style=\"text-align: right;\">\n",
       "      <th></th>\n",
       "      <th>id</th>\n",
       "      <th>f0</th>\n",
       "      <th>f1</th>\n",
       "      <th>f2</th>\n",
       "      <th>product</th>\n",
       "    </tr>\n",
       "  </thead>\n",
       "  <tbody>\n",
       "    <tr>\n",
       "      <th>0</th>\n",
       "      <td>txEyH</td>\n",
       "      <td>0.705745</td>\n",
       "      <td>-0.497823</td>\n",
       "      <td>1.221170</td>\n",
       "      <td>105.280062</td>\n",
       "    </tr>\n",
       "    <tr>\n",
       "      <th>1</th>\n",
       "      <td>2acmU</td>\n",
       "      <td>1.334711</td>\n",
       "      <td>-0.340164</td>\n",
       "      <td>4.365080</td>\n",
       "      <td>73.037750</td>\n",
       "    </tr>\n",
       "    <tr>\n",
       "      <th>2</th>\n",
       "      <td>409Wp</td>\n",
       "      <td>1.022732</td>\n",
       "      <td>0.151990</td>\n",
       "      <td>1.419926</td>\n",
       "      <td>85.265647</td>\n",
       "    </tr>\n",
       "    <tr>\n",
       "      <th>3</th>\n",
       "      <td>iJLyR</td>\n",
       "      <td>-0.032172</td>\n",
       "      <td>0.139033</td>\n",
       "      <td>2.978566</td>\n",
       "      <td>168.620776</td>\n",
       "    </tr>\n",
       "    <tr>\n",
       "      <th>4</th>\n",
       "      <td>Xdl7t</td>\n",
       "      <td>1.988431</td>\n",
       "      <td>0.155413</td>\n",
       "      <td>4.751769</td>\n",
       "      <td>154.036647</td>\n",
       "    </tr>\n",
       "  </tbody>\n",
       "</table>\n",
       "</div>"
      ],
      "text/plain": [
       "      id        f0        f1        f2     product\n",
       "0  txEyH  0.705745 -0.497823  1.221170  105.280062\n",
       "1  2acmU  1.334711 -0.340164  4.365080   73.037750\n",
       "2  409Wp  1.022732  0.151990  1.419926   85.265647\n",
       "3  iJLyR -0.032172  0.139033  2.978566  168.620776\n",
       "4  Xdl7t  1.988431  0.155413  4.751769  154.036647"
      ]
     },
     "metadata": {},
     "output_type": "display_data"
    },
    {
     "data": {
      "text/html": [
       "<div>\n",
       "<style scoped>\n",
       "    .dataframe tbody tr th:only-of-type {\n",
       "        vertical-align: middle;\n",
       "    }\n",
       "\n",
       "    .dataframe tbody tr th {\n",
       "        vertical-align: top;\n",
       "    }\n",
       "\n",
       "    .dataframe thead th {\n",
       "        text-align: right;\n",
       "    }\n",
       "</style>\n",
       "<table border=\"1\" class=\"dataframe\">\n",
       "  <thead>\n",
       "    <tr style=\"text-align: right;\">\n",
       "      <th></th>\n",
       "      <th>id</th>\n",
       "      <th>f0</th>\n",
       "      <th>f1</th>\n",
       "      <th>f2</th>\n",
       "      <th>product</th>\n",
       "    </tr>\n",
       "  </thead>\n",
       "  <tbody>\n",
       "    <tr>\n",
       "      <th>0</th>\n",
       "      <td>kBEdx</td>\n",
       "      <td>-15.001348</td>\n",
       "      <td>-8.276000</td>\n",
       "      <td>-0.005876</td>\n",
       "      <td>3.179103</td>\n",
       "    </tr>\n",
       "    <tr>\n",
       "      <th>1</th>\n",
       "      <td>62mP7</td>\n",
       "      <td>14.272088</td>\n",
       "      <td>-3.475083</td>\n",
       "      <td>0.999183</td>\n",
       "      <td>26.953261</td>\n",
       "    </tr>\n",
       "    <tr>\n",
       "      <th>2</th>\n",
       "      <td>vyE1P</td>\n",
       "      <td>6.263187</td>\n",
       "      <td>-5.948386</td>\n",
       "      <td>5.001160</td>\n",
       "      <td>134.766305</td>\n",
       "    </tr>\n",
       "    <tr>\n",
       "      <th>3</th>\n",
       "      <td>KcrkZ</td>\n",
       "      <td>-13.081196</td>\n",
       "      <td>-11.506057</td>\n",
       "      <td>4.999415</td>\n",
       "      <td>137.945408</td>\n",
       "    </tr>\n",
       "    <tr>\n",
       "      <th>4</th>\n",
       "      <td>AHL4O</td>\n",
       "      <td>12.702195</td>\n",
       "      <td>-8.147433</td>\n",
       "      <td>5.004363</td>\n",
       "      <td>134.766305</td>\n",
       "    </tr>\n",
       "  </tbody>\n",
       "</table>\n",
       "</div>"
      ],
      "text/plain": [
       "      id         f0         f1        f2     product\n",
       "0  kBEdx -15.001348  -8.276000 -0.005876    3.179103\n",
       "1  62mP7  14.272088  -3.475083  0.999183   26.953261\n",
       "2  vyE1P   6.263187  -5.948386  5.001160  134.766305\n",
       "3  KcrkZ -13.081196 -11.506057  4.999415  137.945408\n",
       "4  AHL4O  12.702195  -8.147433  5.004363  134.766305"
      ]
     },
     "metadata": {},
     "output_type": "display_data"
    },
    {
     "data": {
      "text/html": [
       "<div>\n",
       "<style scoped>\n",
       "    .dataframe tbody tr th:only-of-type {\n",
       "        vertical-align: middle;\n",
       "    }\n",
       "\n",
       "    .dataframe tbody tr th {\n",
       "        vertical-align: top;\n",
       "    }\n",
       "\n",
       "    .dataframe thead th {\n",
       "        text-align: right;\n",
       "    }\n",
       "</style>\n",
       "<table border=\"1\" class=\"dataframe\">\n",
       "  <thead>\n",
       "    <tr style=\"text-align: right;\">\n",
       "      <th></th>\n",
       "      <th>id</th>\n",
       "      <th>f0</th>\n",
       "      <th>f1</th>\n",
       "      <th>f2</th>\n",
       "      <th>product</th>\n",
       "    </tr>\n",
       "  </thead>\n",
       "  <tbody>\n",
       "    <tr>\n",
       "      <th>0</th>\n",
       "      <td>fwXo0</td>\n",
       "      <td>-1.146987</td>\n",
       "      <td>0.963328</td>\n",
       "      <td>-0.828965</td>\n",
       "      <td>27.758673</td>\n",
       "    </tr>\n",
       "    <tr>\n",
       "      <th>1</th>\n",
       "      <td>WJtFt</td>\n",
       "      <td>0.262778</td>\n",
       "      <td>0.269839</td>\n",
       "      <td>-2.530187</td>\n",
       "      <td>56.069697</td>\n",
       "    </tr>\n",
       "    <tr>\n",
       "      <th>2</th>\n",
       "      <td>ovLUW</td>\n",
       "      <td>0.194587</td>\n",
       "      <td>0.289035</td>\n",
       "      <td>-5.586433</td>\n",
       "      <td>62.871910</td>\n",
       "    </tr>\n",
       "    <tr>\n",
       "      <th>3</th>\n",
       "      <td>q6cA6</td>\n",
       "      <td>2.236060</td>\n",
       "      <td>-0.553760</td>\n",
       "      <td>0.930038</td>\n",
       "      <td>114.572842</td>\n",
       "    </tr>\n",
       "    <tr>\n",
       "      <th>4</th>\n",
       "      <td>WPMUX</td>\n",
       "      <td>-0.515993</td>\n",
       "      <td>1.716266</td>\n",
       "      <td>5.899011</td>\n",
       "      <td>149.600746</td>\n",
       "    </tr>\n",
       "  </tbody>\n",
       "</table>\n",
       "</div>"
      ],
      "text/plain": [
       "      id        f0        f1        f2     product\n",
       "0  fwXo0 -1.146987  0.963328 -0.828965   27.758673\n",
       "1  WJtFt  0.262778  0.269839 -2.530187   56.069697\n",
       "2  ovLUW  0.194587  0.289035 -5.586433   62.871910\n",
       "3  q6cA6  2.236060 -0.553760  0.930038  114.572842\n",
       "4  WPMUX -0.515993  1.716266  5.899011  149.600746"
      ]
     },
     "execution_count": 29,
     "metadata": {},
     "output_type": "execute_result"
    }
   ],
   "source": [
    "display(data_0.head())        #\n",
    "display(data_1.head())        # вывод первых 5 строк 3 датафремов\n",
    "data_2.head()                 #"
   ]
  },
  {
   "cell_type": "markdown",
   "metadata": {},
   "source": [
    "**Вывод**\n",
    "\n",
    "Как видно из датафреймов, столбец id - всего лишь символьное обозначение скважины и для прогнозирования добычи не интересно."
   ]
  },
  {
   "cell_type": "code",
   "execution_count": 30,
   "metadata": {},
   "outputs": [
    {
     "name": "stdout",
     "output_type": "stream",
     "text": [
      "[False]\n",
      "[False]\n",
      "[False]\n"
     ]
    }
   ],
   "source": [
    "print(data_0.duplicated().unique())  #\n",
    "print(data_1.duplicated().unique())  #  поиск дубликатов в 3 датафреймах\n",
    "print(data_2.duplicated().unique())  #"
   ]
  },
  {
   "cell_type": "markdown",
   "metadata": {},
   "source": [
    "**Вывод**\n",
    "\n",
    "Дубликаты отсутствуют."
   ]
  },
  {
   "cell_type": "markdown",
   "metadata": {},
   "source": [
    "### Обоснование масштабирования"
   ]
  },
  {
   "cell_type": "code",
   "execution_count": 31,
   "metadata": {},
   "outputs": [
    {
     "name": "stdout",
     "output_type": "stream",
     "text": [
      "f0     3.770936\n",
      "f1     2.191988\n",
      "f2    28.092118\n",
      "dtype: float64\n",
      "\n",
      "f0    61.031331\n",
      "f1    45.092661\n",
      "f2     5.037865\n",
      "dtype: float64\n"
     ]
    },
    {
     "data": {
      "text/plain": [
       "f0    15.998266\n",
       "f1    14.928821\n",
       "f2    28.709737\n",
       "dtype: float64"
      ]
     },
     "execution_count": 31,
     "metadata": {},
     "output_type": "execute_result"
    }
   ],
   "source": [
    "print(data_0[['f0','f1','f2']].max()-data_0[['f0','f1','f2']].min())\n",
    "print()\n",
    "print(data_1[['f0','f1','f2']].max()-data_1[['f0','f1','f2']].min())\n",
    "data_2[['f0','f1','f2']].max()-data_2[['f0','f1','f2']].min()"
   ]
  },
  {
   "cell_type": "markdown",
   "metadata": {},
   "source": [
    "**Вывод**\n",
    "\n",
    "В 2 из 3 датафреймов размах признаков отличается на порядок. Есть необходимость масштабирования при использовании некоторых моделей. В нашем случае будет использоваться простая модель линейной регресии, которая должна быть нечувствительна к разным масштабам, мы это и проверим."
   ]
  },
  {
   "cell_type": "markdown",
   "metadata": {},
   "source": [
    "**Вывод по разделу**\n",
    "\n",
    "Как и заявлялость, в каждом датафрейме информация о 10000 потенциальных скважин. Предоставленные данные не содержат ошибок. Некоторые признаки в датафрейме различаются на порядок, это необходимо иметь ввиду."
   ]
  },
  {
   "cell_type": "code",
   "execution_count": 32,
   "metadata": {},
   "outputs": [
    {
     "data": {
      "application/vnd.jupyter.widget-view+json": {
       "model_id": "32e4d00cea034304987aaef6e5800fee",
       "version_major": 2,
       "version_minor": 0
      },
      "text/plain": [
       "                                             |                                             | [  0%]   00:00 ->…"
      ]
     },
     "metadata": {},
     "output_type": "display_data"
    },
    {
     "data": {
      "application/vnd.jupyter.widget-view+json": {
       "model_id": "ede5a2a9b7724795acd17811484b4e99",
       "version_major": 2,
       "version_minor": 0
      },
      "text/plain": [
       "                                             |                                             | [  0%]   00:00 ->…"
      ]
     },
     "metadata": {},
     "output_type": "display_data"
    },
    {
     "data": {
      "application/vnd.jupyter.widget-view+json": {
       "model_id": "02871894e74e4d41aeb6ff21542d8bb1",
       "version_major": 2,
       "version_minor": 0
      },
      "text/plain": [
       "                                             |                                             | [  0%]   00:00 ->…"
      ]
     },
     "metadata": {},
     "output_type": "display_data"
    }
   ],
   "source": [
    "\n",
    "report_0 = sv.analyze([data_0, \"Регион 0\"])\n",
    "report_1 = sv.analyze([data_1, \"Регион 1\"])\n",
    "report_2 = sv.analyze([data_2, \"Регион 2\"])"
   ]
  },
  {
   "cell_type": "code",
   "execution_count": 33,
   "metadata": {
    "scrolled": true
   },
   "outputs": [
    {
     "name": "stdout",
     "output_type": "stream",
     "text": [
      "Report common analysis_0.html was generated! NOTEBOOK/COLAB USERS: the web browser MAY not pop up, regardless, the report IS saved in your notebook/colab files.\n",
      "Report common analysis_1.html was generated! NOTEBOOK/COLAB USERS: the web browser MAY not pop up, regardless, the report IS saved in your notebook/colab files.\n",
      "Report common analysis_2.html was generated! NOTEBOOK/COLAB USERS: the web browser MAY not pop up, regardless, the report IS saved in your notebook/colab files.\n"
     ]
    }
   ],
   "source": [
    "report_0.show_html('common analysis_0.html')\n",
    "report_1.show_html('common analysis_1.html')\n",
    "report_2.show_html('common analysis_2.html')"
   ]
  },
  {
   "cell_type": "markdown",
   "metadata": {},
   "source": [
    "**Вывод**\n",
    "\n",
    "В данных встречаются повторяющиеся id скважин с разными значениями потенциальных запасов нефти, необходимо уточнить у источника датафреймов, почему так получилось."
   ]
  },
  {
   "cell_type": "markdown",
   "metadata": {},
   "source": [
    "## Обучение и проверка модели"
   ]
  },
  {
   "cell_type": "markdown",
   "metadata": {},
   "source": [
    "### Модель для региона 0"
   ]
  },
  {
   "cell_type": "code",
   "execution_count": 34,
   "metadata": {},
   "outputs": [
    {
     "name": "stdout",
     "output_type": "stream",
     "text": [
      "РЕГИОН 0\n",
      "Результаты при масштабировании\n",
      "Cредний запас предсказанного сырья: 92.59256778438008\n",
      "RMSE модели линейной регрессии на валидационной выборке: 37.5794217150813 тыс. баррелей\n",
      "R2 модели линейной регрессии на валидационной выборке: 0.27994321524487786\n",
      "\n",
      "Результаты без масштабирования\n",
      "Cредний запас предсказанного сырья: 92.59256778438008\n",
      "RMSE модели линейной регрессии на валидационной выборке: 37.5794217150813 тыс. баррелей\n",
      "R2 модели линейной регрессии на валидационной выборке: 0.27994321524487786\n"
     ]
    }
   ],
   "source": [
    "features_0 = data_0.drop(['id', 'product'], axis=1)               # извлечение признаков (id - не нужный нам признак)\n",
    "target_0 = data_0['product']                                      # извлечение целевого признака\n",
    "features_train_0, features_valid_0, target_train_0, target_valid_0 = train_test_split(   # разбиение признаков на выборки (обу\n",
    "    features_0, target_0, test_size=0.25, random_state=12345)                            # обучающую и валидационную в соотно\n",
    "                                                                                         # шении 25:75\n",
    "numeric = ['f0','f1','f2']                                        # выделяем названия числовых признаков для масштабирования\n",
    "\n",
    "scaler = StandardScaler()                                         # определяем метод масштабирования под новой переменной\n",
    "scaler.fit(features_train_0[numeric])                             # определяем параметры масштабирования (среднее, дисперсию)\n",
    "\n",
    "features_train_0_scaled = scaler.transform(features_train_0[numeric])           # выполняем масштабирование на тестовой выборке\n",
    "features_valid_0_scaled = scaler.transform(features_valid_0[numeric])           # выполняем масштабирование на валид. выборке\n",
    "\n",
    "\n",
    "\n",
    "model = LinearRegression()                                       # определяем метод МО (линейная регрессия) под новой переменной\n",
    "model.fit(features_train_0_scaled, target_train_0)               # обучаем модель на обучающей выборке с масштабированием\n",
    "predictions_valid_0 = pd.Series(model.predict(features_valid_0_scaled))# получаем предсказания модели на валидационной выборке с мас\n",
    "# штабированием\n",
    "result = mean_squared_error(target_valid_0, predictions_valid_0) ** 0.5   # вычисляем среднеквадратичное отклонение \n",
    "print(\"РЕГИОН 0\")\n",
    "print(\"Результаты при масштабировании\")\n",
    "print(\"Cредний запас предсказанного сырья:\", predictions_valid_0.mean())\n",
    "print(f\"RMSE модели линейной регрессии на валидационной выборке: {result} тыс. баррелей\", )\n",
    "print(\"R2 модели линейной регрессии на валидационной выборке:\", r2_score(target_valid_0, predictions_valid_0))\n",
    "\n",
    "model.fit(features_train_0, target_train_0)                     # обучаем модель на обучающей выборке\n",
    "predictions_valid_0 = pd.Series(model.predict(features_valid_0))           # получаем предсказания модели на валидационной выборке\n",
    "result = mean_squared_error(target_valid_0, predictions_valid_0) ** 0.5\n",
    "print()\n",
    "print(\"Результаты без масштабирования\")\n",
    "print(\"Cредний запас предсказанного сырья:\", predictions_valid_0.mean())\n",
    "print(f\"RMSE модели линейной регрессии на валидационной выборке: {result} тыс. баррелей\", )\n",
    "print(\"R2 модели линейной регрессии на валидационной выборке:\", r2_score(target_valid_0, predictions_valid_0))"
   ]
  },
  {
   "cell_type": "markdown",
   "metadata": {},
   "source": [
    "**Вывод**\n",
    "\n",
    "В нашем случае масштабирование не влияет на предсказания модели линейной регрессии.\n",
    "\n",
    "Что же касается самих результатов, то среднеквадратичное отклонение существенно, но согласно метрике R2 наша модель научилась предсказывать результаты лучше, чем простая модель заполнения средним значением.   "
   ]
  },
  {
   "cell_type": "markdown",
   "metadata": {},
   "source": [
    "### Модель для региона 1"
   ]
  },
  {
   "cell_type": "code",
   "execution_count": 37,
   "metadata": {},
   "outputs": [
    {
     "name": "stdout",
     "output_type": "stream",
     "text": [
      "РЕГИОН 1\n",
      "Cредний запас предсказанного сырья: 68.72854689544577\n",
      "RMSE модели линейной регрессии на валидационной выборке: 0.8930992867756166 тыс. баррелей\n",
      "R2 модели линейной регрессии на валидационной выборке: 0.9996233978805127\n"
     ]
    }
   ],
   "source": [
    "# Комментарии -- см. подраздел \"Модель для региона 0\"\n",
    "features_1 = data_1.drop(['id', 'product'], axis=1)                                  \n",
    "target_1 = data_1['product']                                                       \n",
    "features_train_1, features_valid_1, target_train_1, target_valid_1 = train_test_split(\n",
    "    features_1, target_1, test_size=0.25, random_state=12345)\n",
    "\n",
    "model = LinearRegression()\n",
    "model.fit(features_train_1, target_train_1)\n",
    "predictions_valid_1 = pd.Series(model.predict(features_valid_1))\n",
    "result = mean_squared_error(target_valid_1, predictions_valid_1) ** 0.5\n",
    "print(\"РЕГИОН 1\")\n",
    "print(\"Cредний запас предсказанного сырья:\", predictions_valid_1.mean())\n",
    "print(f\"RMSE модели линейной регрессии на валидационной выборке: {result} тыс. баррелей\", )\n",
    "print(\"R2 модели линейной регрессии на валидационной выборке:\", r2_score(target_valid_1, predictions_valid_1))"
   ]
  },
  {
   "cell_type": "markdown",
   "metadata": {},
   "source": [
    "**Вывод**\n",
    "\n",
    "Регион 1 оказался легко прогнозируемым, но менее богатым по нефти. Величина R2 говорит, что среднеквадратичное отклонениие крайне мало, по сравнению со средним запасом предсказанного сырья. "
   ]
  },
  {
   "cell_type": "code",
   "execution_count": 38,
   "metadata": {},
   "outputs": [
    {
     "name": "stdout",
     "output_type": "stream",
     "text": [
      "РЕГИОН 0\n",
      "РЕГИОН 1\n",
      "РЕГИОН 2\n",
      "Cредний запас предсказанного сырья: 94.96504596800492\n",
      "RMSE модели линейной регрессии на валидационной выборке: 40.02970873393434\n",
      "R2 модели линейной регрессии на валидационной выборке: 0.20524758386040443\n"
     ]
    }
   ],
   "source": [
    "# Комментарии -- см. подраздел \"Модель для региона 0\"\n",
    "features_2 = data_2.drop(['id', 'product'], axis=1)# извлеките признаки \n",
    "target_2 = data_2['product'] # извлеките целевой признак\n",
    "features_train_2, features_valid_2, target_train_2, target_valid_2 = train_test_split(\n",
    "    features_2, target_2, test_size=0.25, random_state=12345)\n",
    "\n",
    "model = LinearRegression()\n",
    "model.fit(features_train_2, target_train_2)\n",
    "predictions_valid_2 = model.predict(features_valid_2) # получите предсказания модели на валидационной выборке\n",
    "result = mean_squared_error(target_valid_2, predictions_valid_2) ** 0.5\n",
    "for i in range(0,3):\n",
    "    print(f\"РЕГИОН {i}\")\n",
    "print(\"Cредний запас предсказанного сырья:\", predictions_valid_2.mean())\n",
    "print(\"RMSE модели линейной регрессии на валидационной выборке:\", result)\n",
    "print(\"R2 модели линейной регрессии на валидационной выборке:\", r2_score(target_valid_2, predictions_valid_2))"
   ]
  },
  {
   "cell_type": "code",
   "execution_count": null,
   "metadata": {},
   "outputs": [],
   "source": [
    "pd.concat([pd.Series(predictions_valid_0), pd.Series(predictions_valid_1)], axis=1)"
   ]
  },
  {
   "cell_type": "markdown",
   "metadata": {},
   "source": [
    "**Вывод**\n",
    "\n",
    "Среднеквадратичное отклонение по порядку величины совпадает со средним запасом, но R2 говорит, что модель всё-таки лучше простого заполнения средним."
   ]
  },
  {
   "cell_type": "markdown",
   "metadata": {},
   "source": [
    "## Подготовка к расчёту прибыли"
   ]
  },
  {
   "cell_type": "markdown",
   "metadata": {},
   "source": [
    "Модель мы обучили и проверили на валидационной выборке, для дальнейших расчётов логично использовать всю выборку целиком. Для этого необходимо получить предсказания на обучающей выборке, а затем объединить с предсказаниями на валидационной. "
   ]
  },
  {
   "cell_type": "code",
   "execution_count": 39,
   "metadata": {},
   "outputs": [],
   "source": [
    "# Регион 0\n",
    "predictions_train_0 = model.predict(features_train_0)           # строим предсказания на обучающей выборке\n",
    "predictions_train_0 = pd.Series(predictions_train_0)            # приводим предсказания к типу Series\n",
    "predictions_train_0.index = target_train_0.index                # индексируем предсказания согласно индексам целевого признака\n",
    "predictions_valid_0 = pd.Series(predictions_valid_0)            # приводим предсказания к типу Series\n",
    "predictions_valid_0.index = target_valid_0.index                # индексируем предсказания согласно индексам целевого признака\n",
    "predictions_0 = pd.concat([predictions_train_0, predictions_valid_0]).sort_index() # склеиваем два Series, производим сортиров\n",
    "# ку по индексам\n",
    "\n",
    "# Регион 1\n",
    "# Комментаии для региона 1 аналогичны комментариям региона 0\n",
    "predictions_train_1 = model.predict(features_train_1)\n",
    "predictions_train_1 = pd.Series(predictions_train_1)\n",
    "predictions_train_1.index = target_train_1.index\n",
    "predictions_valid_1 = pd.Series(predictions_valid_1)\n",
    "predictions_valid_1.index = target_valid_1.index\n",
    "predictions_1 = pd.concat([predictions_train_1, predictions_valid_1]).sort_index()\n",
    "\n",
    "# Регион 2\n",
    "# Комментаии для региона 2 аналогичны комментариям региона 0\n",
    "predictions_train_2 = model.predict(features_train_2)\n",
    "predictions_train_2 = pd.Series(predictions_train_2)\n",
    "predictions_train_2.index = target_train_2.index\n",
    "predictions_valid_2 = pd.Series(predictions_valid_2)\n",
    "predictions_valid_2.index = target_valid_2.index\n",
    "predictions_2 = pd.concat([predictions_train_2, predictions_valid_2]).sort_index()"
   ]
  },
  {
   "cell_type": "code",
   "execution_count": 40,
   "metadata": {},
   "outputs": [
    {
     "name": "stdout",
     "output_type": "stream",
     "text": [
      "Расходы на скважину: 50000000.0 рублей\n",
      "Достаточный объём сырья c одной скважины: 111.111111 тыс. баррелей\n"
     ]
    }
   ],
   "source": [
    "Expenses = 10 ** 10 / 200                             # расходы на скважину = бюждет / кол-во скважин\n",
    "Oil_enough = round(Expenses / 450000 , 6)             # граница безубыточности соотв. доходы = расходы\n",
    "print(f\"Расходы на скважину: {Expenses} рублей\" )\n",
    "print(f\"Достаточный объём сырья c одной скважины: {Oil_enough} тыс. баррелей\")"
   ]
  },
  {
   "cell_type": "code",
   "execution_count": 41,
   "metadata": {},
   "outputs": [
    {
     "name": "stdout",
     "output_type": "stream",
     "text": [
      "Cредний запас предсказанного сырья в регионе 0: 94.46306345376044\n"
     ]
    },
    {
     "data": {
      "image/png": "[encoded data removed]",
      "text/plain": [
       "<Figure size 600x400 with 1 Axes>"
      ]
     },
     "metadata": {},
     "output_type": "display_data"
    },
    {
     "name": "stdout",
     "output_type": "stream",
     "text": [
      "Cредний запас предсказанного сырья в регионе 1: 88.62677963817423\n"
     ]
    },
    {
     "data": {
      "image/png": "[encoded data removed]",
      "text/plain": [
       "<Figure size 600x400 with 1 Axes>"
      ]
     },
     "metadata": {},
     "output_type": "display_data"
    },
    {
     "name": "stdout",
     "output_type": "stream",
     "text": [
      "Cредний запас предсказанного сырья в регионе 2: 95.02020328978843\n"
     ]
    },
    {
     "data": {
      "image/png": "[encoded data removed]",
      "text/plain": [
       "<Figure size 600x400 with 1 Axes>"
      ]
     },
     "metadata": {},
     "output_type": "display_data"
    }
   ],
   "source": [
    "print(\"Cредний запас предсказанного сырья в регионе 0:\", predictions_0.mean())\n",
    "predictions_0.hist()\n",
    "plt.title('Регион 0')\n",
    "plt.show()\n",
    "print(\"Cредний запас предсказанного сырья в регионе 1:\", predictions_1.mean())\n",
    "predictions_1.hist()\n",
    "plt.title('Регион 1')\n",
    "plt.show()\n",
    "print(\"Cредний запас предсказанного сырья в регионе 2:\", predictions_2.mean())\n",
    "predictions_2.hist()\n",
    "plt.title('Регион 2')\n",
    "plt.show()"
   ]
  },
  {
   "cell_type": "markdown",
   "metadata": {},
   "source": [
    "**Вывод**\n",
    "\n",
    "Средние запасы сырья меньше чем заветные 111 тыс. баррелей во всех трёх регионах, но на помощь нам должна прийти функция отбора 200 наиболее богатых скважин. Построенные распределения по кол-ву запасов указывают на то, что во втором регионе возможны проблемы с окупаемостью - распределение сильно скошено влево, в сторону небольших объёмов добычи."
   ]
  },
  {
   "cell_type": "markdown",
   "metadata": {},
   "source": [
    "### Функция для расчёта прибыли по выбранным скважинам и предсказаниям"
   ]
  },
  {
   "cell_type": "code",
   "execution_count": 42,
   "metadata": {},
   "outputs": [],
   "source": [
    "def calculation(predictions, targets):   \n",
    "    predictions_sorted = predictions.sort_values(ascending=False).head(200)   # сортируем поданные на вход предсказания,\n",
    "# выбираем первые 200 скважин по кол-ву запасов нефти\n",
    "    sum_extraction = sum(targets[predictions_sorted.index])             # считаем реальные суммарные запасы нефти \n",
    "# в этих скважинах (для этого следим, чтобы индексы предсказаний совпадали с индексами целевого признака)\n",
    "    profit = round(sum_extraction * 450000 - 10 ** 10 , 2)    # считаем и округляем прибыль\n",
    "    return profit        # подаём прибыль на выход функции"
   ]
  },
  {
   "cell_type": "markdown",
   "metadata": {},
   "source": [
    "## Расчёт прибыли и рисков "
   ]
  },
  {
   "cell_type": "markdown",
   "metadata": {},
   "source": [
    "### Регион 0 "
   ]
  },
  {
   "cell_type": "code",
   "execution_count": 43,
   "metadata": {},
   "outputs": [
    {
     "name": "stdout",
     "output_type": "stream",
     "text": [
      "Нижняя граница 95% доверительного интервала: -182771754.63\n",
      "Верхняя граница 95% доверительного интервала: 928832198.61\n",
      "Риски убытков в регионе значителен и составляет: 9.6%\n",
      "Средняя прибыль составляет: 361876808.49 руб\n"
     ]
    },
    {
     "data": {
      "image/png": "[encoded data removed]",
      "text/plain": [
       "<Figure size 600x400 with 1 Axes>"
      ]
     },
     "metadata": {},
     "output_type": "display_data"
    }
   ],
   "source": [
    "state = np.random.RandomState(12345)\n",
    "values = []\n",
    "for i in range(1000):\n",
    "    target_subsample = target_0.sample(frac=500/len(target_0), replace=True, random_state=state) # организуем Bootstrap\n",
    "    pred_subsample = predictions_0[target_subsample.index] # выбираем случайным образом 500 скажин, берём соотв. предсказания\n",
    "    values.append(calculation(pred_subsample, target_subsample))# вызываем функцию подсчёта прибыли, записываем \n",
    "# получившуюся прибыль\n",
    "values = pd.Series(values)                                 # переводим наше распределение в тип Series \n",
    "lower = values.quantile(0.025)                             # нижняя граница доверительного интервала \n",
    "upper = values.quantile(0.975)                             # верхняя граница доверительного интервала\n",
    "print(f'Нижняя граница 95% доверительного интервала: {round(lower,2)}')\n",
    "print(f'Верхняя граница 95% доверительного интервала: {round(upper,2)}')\n",
    "\n",
    "values.hist()\n",
    "\n",
    "alpha = .025                                       # Критическая погрешность в 2,5%\n",
    "p_value = len(values[values < 0])/len(values)      # Доля убыточных предсказаний\n",
    "if (p_value < alpha) and (values.mean() > 0):\n",
    "    print(f'Риски убытков в регионе приемлемы и составляют: {p_value * 100}%')\n",
    "else:\n",
    "    print(f'Риски убытков в регионе значителен и составляет: {p_value * 100}%')\n",
    "print(f'Средняя прибыль составляет: {round(values.mean(),2)} руб')"
   ]
  },
  {
   "cell_type": "markdown",
   "metadata": {},
   "source": [
    "### Регион 1"
   ]
  },
  {
   "cell_type": "code",
   "execution_count": 44,
   "metadata": {},
   "outputs": [
    {
     "name": "stdout",
     "output_type": "stream",
     "text": [
      "Нижняя граница 95% доверительного интервала: 47919656.58\n",
      "Верхняя граница 95% доверительного интервала: 877499046.25\n",
      "Риски убытков в регионе приемлемы и составляют: 1.8%\n",
      "Средняя прибыль составляет: 467524955.79 руб\n"
     ]
    },
    {
     "data": {
      "image/png": "[encoded data removed]",
      "text/plain": [
       "<Figure size 600x400 with 1 Axes>"
      ]
     },
     "metadata": {},
     "output_type": "display_data"
    }
   ],
   "source": [
    "state = np.random.RandomState(12345)\n",
    "values = []\n",
    "for i in range(1000):\n",
    "    target_subsample = target_1.sample(frac=500/len(target_1), replace=True, random_state=state)  # организуем Bootstrap\n",
    "    pred_subsample = predictions_1[target_subsample.index] # выбираем случайным образом 500 скажин, берём соотв. предсказания\n",
    "    values.append(calculation(pred_subsample, target_subsample))# вызываем функцию подсчёта прибыли, записываем \n",
    "# получившуюся прибыль\n",
    "values = pd.Series(values)                                 # переводим наше распределение в тип Series \n",
    "lower = values.quantile(0.025)                             # нижняя граница доверительного интервала\n",
    "upper = values.quantile(0.975)                             # верхняя граница доверительного интервала\n",
    "print(f'Нижняя граница 95% доверительного интервала: {round(lower,2)}')\n",
    "print(f'Верхняя граница 95% доверительного интервала: {round(upper,2)}')\n",
    "values.hist()\n",
    "\n",
    "alpha = .025                                       # Критическая погрешность в 2,5%\n",
    "p_value = len(values[values < 0])/len(values)      # Доля убыточных предсказаний\n",
    "if (p_value < alpha) and (values.mean() > 0):\n",
    "    print(f'Риски убытков в регионе приемлемы и составляют: {round(p_value * 100,2)}%')\n",
    "else:\n",
    "    print(f'Риски убытков в регионе значителен и составляет: {round(p_value * 100,2)} %')\n",
    "print(f'Средняя прибыль составляет: {round(values.mean(),2)} руб')"
   ]
  },
  {
   "cell_type": "markdown",
   "metadata": {},
   "source": [
    "### Регион 2 "
   ]
  },
  {
   "cell_type": "code",
   "execution_count": 45,
   "metadata": {},
   "outputs": [
    {
     "name": "stdout",
     "output_type": "stream",
     "text": [
      "Нижняя граница 95% доверительного интервала: -158184644.99\n",
      "Верхняя граница 95% доверительного интервала: 971736212.73\n",
      "Риски убытков в регионе значителен и составляет: 7.9%\n",
      "Средняя прибыль составляет: 424457434.73 руб\n"
     ]
    },
    {
     "data": {
      "image/png": "[encoded data removed]",
      "text/plain": [
       "<Figure size 600x400 with 1 Axes>"
      ]
     },
     "metadata": {},
     "output_type": "display_data"
    }
   ],
   "source": [
    "state = np.random.RandomState(12345)\n",
    "values = []\n",
    "for i in range(1000):        # создаём цикл для 1000 выборок\n",
    "    target_subsample = target_2.sample(frac=500/len(target_2), replace=True, random_state=state) # организуем Bootstrap\n",
    "    pred_subsample = predictions_2[target_subsample.index] # выбираем случайным образом 500 скажин, берём соотв. предсказания\n",
    "    values.append(calculation(pred_subsample, target_subsample))# вызываем функцию подсчёта прибыли, записываем получившуюся \n",
    "# прибыль\n",
    "values = pd.Series(values)                                                # переводим наше распределение в тип Series \n",
    "lower = values.quantile(0.025)                                            # нижняя граница доверительного интервала\n",
    "upper = values.quantile(0.975)                                            # верхняя граница доверительного интервала\n",
    "print(f'Нижняя граница 95% доверительного интервала: {round(lower,2)}')\n",
    "print(f'Верхняя граница 95% доверительного интервала: {round(upper,2)}')\n",
    "values.hist()\n",
    "\n",
    "alpha = .025                                           # Критическая погрешность в 2,5%                                     \n",
    "p_value = (values < 0).mean()          # Доля убыточных предсказаний\n",
    "if (p_value < alpha) and (values.mean() > 0):\n",
    "    print(f'Риски убытков в регионе приемлемы и составляют: {p_value * 100}%')\n",
    "else:\n",
    "    print(f'Риски убытков в регионе значителен и составляет: {p_value * 100}%')\n",
    "print(f'Средняя прибыль составляет: {round(values.mean(),2)} руб')"
   ]
  },
  {
   "cell_type": "code",
   "execution_count": 46,
   "metadata": {},
   "outputs": [
    {
     "data": {
      "text/plain": [
       "0      False\n",
       "1      False\n",
       "2      False\n",
       "3      False\n",
       "4       True\n",
       "       ...  \n",
       "995    False\n",
       "996    False\n",
       "997    False\n",
       "998    False\n",
       "999    False\n",
       "Length: 1000, dtype: bool"
      ]
     },
     "execution_count": 46,
     "metadata": {},
     "output_type": "execute_result"
    }
   ],
   "source": []
  },
  {
   "cell_type": "markdown",
   "metadata": {},
   "source": [
    "**Вывод**\n",
    "\n",
    "Регион 0 и 2 с большой долей вероятности окажется убыточными (9.6% и 7.9% соответственно). Регион 1 с достаточной долей вероятности окажется прибыльным (98.2%), кроме того он обладает наибольшей средней прибылью."
   ]
  },
  {
   "cell_type": "markdown",
   "metadata": {},
   "source": [
    "## Общий вывод\n",
    "\n",
    "В ходе анализа трёх потенциальных регионов для разработки месторождений в качестве признаков использовались \"f0\", \"f1\" и \"f2\", которые имели разный масштаб в регионах. Для того, чтобы убедиться в отсутствии разного масштаба на работу модели линейной регрессии признаки были отмасштабированны и сохранены под другими переменными.\n",
    "\n",
    "После разделения выборки на валидационную и обучающую, после обучения модели и её проверки на валидационной выборке, результаты с масштабированием и без масштабирования получились одинкаовыми.\n",
    "\n",
    "Что же касается самого качества предсказаний, то 0 и 2 регионы оказались не так предсказуемы как 1 регион, величина R2: \n",
    "- в регионе 0: 0.27994321524487786\n",
    "- в регионе 1: 0.9996233978805127\n",
    "- в регионе 2: 0.20524758386040443\n",
    "\n",
    "В то же время, регионы 0 и 2 оказались богаче по количеству нефти:\n",
    " - средний запас в регионе 0: 92.59256778438035\n",
    " - средний запас в регионе 1: 68.728546895446\n",
    " - средний запас в регионе 2: 94.96504596800492\n",
    " \n",
    "Безубыточной скважиной оказалась скважина, которая приносит более 111.11 тыс. баррелей нефти. Как видно, средние запасы в регионе меньше этой цифры, но это не проблема, ведь надо выбрать 200 самых лучших, которые приносят больше 111.11 тыс. баррелей.\n",
    "\n",
    "Для выбора 200 лучших скважин была написана специальная функция, которая в итоге, возвращает прибыль с выбранных скважин.\n",
    "\n",
    "Поскольку у нас есть ограничение на количество иссследуемых скважин (их всего 500 из 10000), то для поиска распределения прибыли была организована методика Bootstrap на 1000 выборок. Были определены такие величины как 95% доверительный интервал:\n",
    "  - в регионе 0: {-182771754.63; 928832198.61}\n",
    "  - в регионе 1: {47919656.58; 877499046.25} \n",
    "  - в регионе 2: {-158184644.99; 971736212.73}\n",
    "\n",
    "  \n",
    "  Средняя прибыль:\n",
    "  - в регионе 0: 361876808.49 руб\n",
    "  - в регионе 1: 467524955.79 руб\n",
    "  - в регионе 2: 424457434.73 руб\n",
    "  \n",
    "  Вероятность убытков:\n",
    "  - в регионе 0: 9.6%\n",
    "  - в регионе 1: 1.8%\n",
    "  - в регионе 2: 7.9%\n",
    "  \n",
    "На основе получившихся данных к разработке рекомендуется регион 1, несмотря на тот факт, что средние запасы нефти тут ниже. Свою роль сыграло высокое качество предсказаний для региона 1.\n",
    "  "
   ]
  },
  {
   "cell_type": "markdown",
   "metadata": {},
   "source": [
    "## Чек-лист готовности проекта"
   ]
  },
  {
   "cell_type": "markdown",
   "metadata": {},
   "source": [
    "Поставьте 'x' в выполненных пунктах. Далее нажмите Shift+Enter."
   ]
  },
  {
   "cell_type": "markdown",
   "metadata": {},
   "source": [
    "- [x]  Jupyter Notebook открыт\n",
    "- [x]  Весь код выполняется без ошибок\n",
    "- [x]  Ячейки с кодом расположены в порядке исполнения\n",
    "- [x]  Выполнен шаг 1: данные подготовлены\n",
    "- [x]  Выполнен шаг 2: модели обучены и проверены\n",
    "    - [x]  Данные корректно разбиты на обучающую и валидационную выборки\n",
    "    - [x]  Модели обучены, предсказания сделаны\n",
    "    - [x]  Предсказания и правильные ответы на валидационной выборке сохранены\n",
    "    - [x]  На экране напечатаны результаты\n",
    "    - [x]  Сделаны выводы\n",
    "- [x]  Выполнен шаг 3: проведена подготовка к расчёту прибыли\n",
    "    - [x]  Для всех ключевых значений созданы константы Python\n",
    "    - [x]  Посчитано минимальное среднее количество продукта в месторождениях региона, достаточное для разработки\n",
    "    - [x]  По предыдущему пункту сделаны выводы\n",
    "    - [x]  Написана функция расчёта прибыли\n",
    "- [x]  Выполнен шаг 4: посчитаны риски и прибыль\n",
    "    - [x]  Проведена процедура *Bootstrap*\n",
    "    - [x]  Все параметры бутстрепа соответствуют условию\n",
    "    - [x]  Найдены все нужные величины\n",
    "    - [x]  Предложен регион для разработки месторождения\n",
    "    - [x]  Выбор региона обоснован"
   ]
  },
  {
   "cell_type": "code",
   "execution_count": null,
   "metadata": {},
   "outputs": [],
   "source": []
  }
 ],
 "metadata": {
  "ExecuteTimeLog": [
   {
    "duration": 390,
    "start_time": "2022-04-07T12:30:22.781Z"
   },
   {
    "duration": 357,
    "start_time": "2022-04-07T12:30:24.460Z"
   },
   {
    "duration": 15,
    "start_time": "2022-04-07T12:30:47.714Z"
   },
   {
    "duration": 30,
    "start_time": "2022-04-07T12:31:09.383Z"
   },
   {
    "duration": 40,
    "start_time": "2022-04-07T12:31:53.505Z"
   },
   {
    "duration": 14,
    "start_time": "2022-04-07T12:32:32.238Z"
   },
   {
    "duration": 18,
    "start_time": "2022-04-07T12:32:55.146Z"
   },
   {
    "duration": 59,
    "start_time": "2022-04-07T12:34:37.409Z"
   },
   {
    "duration": 7,
    "start_time": "2022-04-07T12:34:44.848Z"
   },
   {
    "duration": 7,
    "start_time": "2022-04-07T12:34:48.952Z"
   },
   {
    "duration": 41,
    "start_time": "2022-04-07T12:35:13.991Z"
   },
   {
    "duration": 42,
    "start_time": "2022-04-07T12:35:23.686Z"
   },
   {
    "duration": 111,
    "start_time": "2022-04-07T12:35:57.085Z"
   },
   {
    "duration": 119,
    "start_time": "2022-04-07T12:36:21.364Z"
   },
   {
    "duration": 112,
    "start_time": "2022-04-07T12:36:28.499Z"
   },
   {
    "duration": 2672,
    "start_time": "2022-04-07T12:39:00.370Z"
   },
   {
    "duration": 37,
    "start_time": "2022-04-07T12:39:32.827Z"
   },
   {
    "duration": 17,
    "start_time": "2022-04-07T12:40:42.119Z"
   },
   {
    "duration": 20,
    "start_time": "2022-04-07T12:45:48.581Z"
   },
   {
    "duration": 24,
    "start_time": "2022-04-07T12:46:04.904Z"
   },
   {
    "duration": 1084,
    "start_time": "2022-04-07T14:46:05.699Z"
   },
   {
    "duration": 288,
    "start_time": "2022-04-07T14:46:06.785Z"
   },
   {
    "duration": 29,
    "start_time": "2022-04-07T14:46:07.074Z"
   },
   {
    "duration": 35,
    "start_time": "2022-04-07T14:46:07.105Z"
   },
   {
    "duration": 109,
    "start_time": "2022-04-07T14:46:07.141Z"
   },
   {
    "duration": 16,
    "start_time": "2022-04-07T14:46:07.251Z"
   },
   {
    "duration": 244,
    "start_time": "2022-04-07T14:53:56.848Z"
   },
   {
    "duration": 4,
    "start_time": "2022-04-07T14:54:01.784Z"
   },
   {
    "duration": 315,
    "start_time": "2022-04-07T14:54:01.790Z"
   },
   {
    "duration": 39,
    "start_time": "2022-04-07T14:54:02.107Z"
   },
   {
    "duration": 18,
    "start_time": "2022-04-07T14:54:02.148Z"
   },
   {
    "duration": 128,
    "start_time": "2022-04-07T14:54:02.167Z"
   },
   {
    "duration": 41,
    "start_time": "2022-04-07T14:54:02.296Z"
   },
   {
    "duration": 23,
    "start_time": "2022-04-07T14:54:21.325Z"
   },
   {
    "duration": 20,
    "start_time": "2022-04-07T15:31:53.896Z"
   },
   {
    "duration": 21,
    "start_time": "2022-04-07T15:32:44.625Z"
   },
   {
    "duration": 20,
    "start_time": "2022-04-07T15:33:13.752Z"
   },
   {
    "duration": 81,
    "start_time": "2022-04-07T15:39:00.355Z"
   },
   {
    "duration": 3,
    "start_time": "2022-04-07T15:39:24.454Z"
   },
   {
    "duration": 44,
    "start_time": "2022-04-07T15:39:28.886Z"
   },
   {
    "duration": 22,
    "start_time": "2022-04-07T15:39:43.269Z"
   },
   {
    "duration": 7,
    "start_time": "2022-04-07T15:46:16.044Z"
   },
   {
    "duration": 152,
    "start_time": "2022-04-07T15:49:22.446Z"
   },
   {
    "duration": 3,
    "start_time": "2022-04-07T15:50:40.753Z"
   },
   {
    "duration": 8,
    "start_time": "2022-04-07T15:51:11.605Z"
   },
   {
    "duration": 3,
    "start_time": "2022-04-07T15:51:46.195Z"
   },
   {
    "duration": 9,
    "start_time": "2022-04-07T15:51:50.411Z"
   },
   {
    "duration": 4,
    "start_time": "2022-04-07T15:52:59.051Z"
   },
   {
    "duration": 3,
    "start_time": "2022-04-07T15:53:05.445Z"
   },
   {
    "duration": 4,
    "start_time": "2022-04-07T15:53:14.208Z"
   },
   {
    "duration": 25,
    "start_time": "2022-04-07T15:54:24.251Z"
   },
   {
    "duration": 21,
    "start_time": "2022-04-07T15:54:27.364Z"
   },
   {
    "duration": 21,
    "start_time": "2022-04-07T15:55:39.289Z"
   },
   {
    "duration": 1067,
    "start_time": "2022-04-07T15:56:58.758Z"
   },
   {
    "duration": 96,
    "start_time": "2022-04-07T15:56:59.827Z"
   },
   {
    "duration": 0,
    "start_time": "2022-04-07T15:56:59.925Z"
   },
   {
    "duration": 0,
    "start_time": "2022-04-07T15:56:59.926Z"
   },
   {
    "duration": 3,
    "start_time": "2022-04-07T15:57:17.447Z"
   },
   {
    "duration": 4,
    "start_time": "2022-04-07T15:57:25.434Z"
   },
   {
    "duration": 333,
    "start_time": "2022-04-07T15:57:25.440Z"
   },
   {
    "duration": 29,
    "start_time": "2022-04-07T15:57:25.775Z"
   },
   {
    "duration": 49,
    "start_time": "2022-04-07T15:57:25.806Z"
   },
   {
    "duration": 122,
    "start_time": "2022-04-07T15:57:30.826Z"
   },
   {
    "duration": 51,
    "start_time": "2022-04-07T15:57:36.713Z"
   },
   {
    "duration": 4,
    "start_time": "2022-04-07T16:08:54.010Z"
   },
   {
    "duration": 3,
    "start_time": "2022-04-07T16:09:23.176Z"
   },
   {
    "duration": 10,
    "start_time": "2022-04-07T16:10:38.248Z"
   },
   {
    "duration": 3,
    "start_time": "2022-04-07T16:10:50.404Z"
   },
   {
    "duration": 3,
    "start_time": "2022-04-07T16:11:16.987Z"
   },
   {
    "duration": 8,
    "start_time": "2022-04-07T16:11:56.504Z"
   },
   {
    "duration": 7,
    "start_time": "2022-04-07T16:12:28.992Z"
   },
   {
    "duration": 6,
    "start_time": "2022-04-07T16:13:16.283Z"
   },
   {
    "duration": 3,
    "start_time": "2022-04-07T16:13:33.613Z"
   },
   {
    "duration": 12,
    "start_time": "2022-04-07T16:14:43.931Z"
   },
   {
    "duration": 5,
    "start_time": "2022-04-07T16:14:59.792Z"
   },
   {
    "duration": 5,
    "start_time": "2022-04-07T16:15:18.519Z"
   },
   {
    "duration": 6,
    "start_time": "2022-04-07T16:16:37.700Z"
   },
   {
    "duration": 5,
    "start_time": "2022-04-07T16:17:11.763Z"
   },
   {
    "duration": 6,
    "start_time": "2022-04-07T16:21:00.636Z"
   },
   {
    "duration": 5,
    "start_time": "2022-04-07T16:22:07.205Z"
   },
   {
    "duration": 14,
    "start_time": "2022-04-07T16:22:21.812Z"
   },
   {
    "duration": 5,
    "start_time": "2022-04-07T16:22:25.573Z"
   },
   {
    "duration": 5,
    "start_time": "2022-04-07T16:22:49.762Z"
   },
   {
    "duration": 7,
    "start_time": "2022-04-07T16:22:56.362Z"
   },
   {
    "duration": 8,
    "start_time": "2022-04-07T16:23:29.216Z"
   },
   {
    "duration": 4,
    "start_time": "2022-04-11T17:33:20.782Z"
   },
   {
    "duration": 5,
    "start_time": "2022-04-11T17:33:27.953Z"
   },
   {
    "duration": 119,
    "start_time": "2022-04-11T17:33:34.522Z"
   },
   {
    "duration": 114,
    "start_time": "2022-04-11T17:33:37.948Z"
   },
   {
    "duration": 9,
    "start_time": "2022-04-11T17:33:45.072Z"
   },
   {
    "duration": 1634,
    "start_time": "2022-04-12T14:58:26.823Z"
   },
   {
    "duration": 327,
    "start_time": "2022-04-12T14:58:28.459Z"
   },
   {
    "duration": 35,
    "start_time": "2022-04-12T14:58:28.787Z"
   },
   {
    "duration": 24,
    "start_time": "2022-04-12T14:58:28.824Z"
   },
   {
    "duration": 141,
    "start_time": "2022-04-12T14:58:28.849Z"
   },
   {
    "duration": 22,
    "start_time": "2022-04-12T14:58:28.991Z"
   },
   {
    "duration": 261,
    "start_time": "2022-04-12T14:58:29.015Z"
   },
   {
    "duration": 120,
    "start_time": "2022-04-12T14:58:29.279Z"
   },
   {
    "duration": 187,
    "start_time": "2022-04-12T14:58:29.401Z"
   },
   {
    "duration": 486,
    "start_time": "2022-04-12T14:58:29.592Z"
   },
   {
    "duration": 195,
    "start_time": "2022-04-12T14:58:30.080Z"
   },
   {
    "duration": 0,
    "start_time": "2022-04-12T14:58:30.277Z"
   },
   {
    "duration": 0,
    "start_time": "2022-04-12T14:58:30.279Z"
   },
   {
    "duration": 0,
    "start_time": "2022-04-12T14:58:30.280Z"
   },
   {
    "duration": 0,
    "start_time": "2022-04-12T14:58:30.281Z"
   },
   {
    "duration": 0,
    "start_time": "2022-04-12T14:58:30.282Z"
   },
   {
    "duration": 4,
    "start_time": "2022-04-12T14:58:58.223Z"
   },
   {
    "duration": 117,
    "start_time": "2022-04-12T14:59:30.902Z"
   },
   {
    "duration": 3,
    "start_time": "2022-04-12T15:04:15.471Z"
   },
   {
    "duration": 742,
    "start_time": "2022-04-12T15:04:22.770Z"
   },
   {
    "duration": 19,
    "start_time": "2022-04-12T15:04:46.049Z"
   },
   {
    "duration": 4,
    "start_time": "2022-04-12T15:06:16.342Z"
   },
   {
    "duration": 1124,
    "start_time": "2022-04-12T15:06:19.902Z"
   },
   {
    "duration": 14,
    "start_time": "2022-04-12T15:06:28.068Z"
   },
   {
    "duration": 1131,
    "start_time": "2022-04-12T15:06:48.276Z"
   },
   {
    "duration": 1073,
    "start_time": "2022-04-12T15:07:52.034Z"
   },
   {
    "duration": 1061,
    "start_time": "2022-04-12T15:17:30.363Z"
   },
   {
    "duration": 1103,
    "start_time": "2022-04-12T15:17:54.198Z"
   },
   {
    "duration": 1398,
    "start_time": "2022-04-12T15:18:09.898Z"
   },
   {
    "duration": 339,
    "start_time": "2022-04-12T15:18:11.298Z"
   },
   {
    "duration": 41,
    "start_time": "2022-04-12T15:18:11.639Z"
   },
   {
    "duration": 24,
    "start_time": "2022-04-12T15:18:11.682Z"
   },
   {
    "duration": 141,
    "start_time": "2022-04-12T15:18:11.708Z"
   },
   {
    "duration": 33,
    "start_time": "2022-04-12T15:18:11.851Z"
   },
   {
    "duration": 290,
    "start_time": "2022-04-12T15:18:11.886Z"
   },
   {
    "duration": 121,
    "start_time": "2022-04-12T15:18:12.178Z"
   },
   {
    "duration": 186,
    "start_time": "2022-04-12T15:18:12.302Z"
   },
   {
    "duration": 579,
    "start_time": "2022-04-12T15:18:12.494Z"
   },
   {
    "duration": 4,
    "start_time": "2022-04-12T15:18:13.075Z"
   },
   {
    "duration": 441,
    "start_time": "2022-04-12T15:18:13.080Z"
   },
   {
    "duration": 3,
    "start_time": "2022-04-12T15:18:13.523Z"
   },
   {
    "duration": 1067,
    "start_time": "2022-04-12T15:18:13.528Z"
   },
   {
    "duration": 1084,
    "start_time": "2022-04-12T15:18:14.597Z"
   },
   {
    "duration": 1059,
    "start_time": "2022-04-12T15:18:15.682Z"
   },
   {
    "duration": 1109,
    "start_time": "2022-04-12T15:18:37.313Z"
   },
   {
    "duration": 1056,
    "start_time": "2022-04-12T15:19:57.534Z"
   },
   {
    "duration": 1046,
    "start_time": "2022-04-12T15:20:25.580Z"
   },
   {
    "duration": 1041,
    "start_time": "2022-04-12T15:20:58.859Z"
   },
   {
    "duration": 1067,
    "start_time": "2022-04-12T15:21:32.954Z"
   },
   {
    "duration": 1043,
    "start_time": "2022-04-12T15:30:46.397Z"
   }
  ],
  "kernelspec": {
   "display_name": "Python 3 (ipykernel)",
   "language": "python",
   "name": "python3"
  },
  "language_info": {
   "codemirror_mode": {
    "name": "ipython",
    "version": 3
   },
   "file_extension": ".py",
   "mimetype": "text/x-python",
   "name": "python",
   "nbconvert_exporter": "python",
   "pygments_lexer": "ipython3",
   "version": "3.9.7"
  },
  "toc": {
   "base_numbering": 1,
   "nav_menu": {},
   "number_sections": true,
   "sideBar": true,
   "skip_h1_title": true,
   "title_cell": "Table of Contents",
   "title_sidebar": "Contents",
   "toc_cell": false,
   "toc_position": {},
   "toc_section_display": true,
   "toc_window_display": false
  }
 },
 "nbformat": 4,
 "nbformat_minor": 2
}
