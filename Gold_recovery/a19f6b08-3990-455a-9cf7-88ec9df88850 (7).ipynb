{
 "cells": [
  {
   "cell_type": "markdown",
   "metadata": {},
   "source": [
    "# Комментарий ревьюера\n",
    "<div class=\"alert alert-block alert-info\">\n",
    "Привет, Михаил! Меня зовут Анвар Ганиев, и я буду проверять твой проект. Предлагаю общаться на «ты» :) Но если это не удобно - дай знать, и мы перейдем на \"вы\". Моя основная цель — не указать на совершенные тобою ошибки, а поделиться своим опытом и помочь тебе стать data scientist'ом.\n",
    "\n",
    "Видно, что ты старался, делая проект. Все ключевые этапы в работе выполнены, так что в целом справиться с задачей тебе удалось. Есть ещё несколько аспектов, которые требуют твоего внимания. Комментарии по ним помечены <span style='color:Red'> красным цветом  </span>. Комментарии я буду оставлять под ячейками, к которым они относятся. А еще писать в заголовке v{номер версии}, чтобы знать, при какой проверке, я их оставлял. После их доработки проект будет принят. Осталось совсем немного, буду ждать твою работу на повторное ревью 🙂\n",
    "\n",
    "<span style='color:Green'> Зелёным цветом </span> отмечены удачные и элегантные решения, на которые можно опираться в будущих проектах. <span style='color:Gold'> Жёлтым цветом </span>выделено то, что в следующий раз можно сделать по-другому. Ты можешь учесть эти комментарии при выполнении будущих заданий или доработать проект сейчас (однако это не обязательно).\n",
    "\n",
    "Давай работать над проектом в диалоге: если ты что-то меняешь в проекте по моим рекомендациям — пиши об этом. Выбери для своих комментариев какой-то заметный цвет, так мне будет легче отследить изменения. Пожалуйста, не перемещай, не изменяй и не удаляй мои комментарии. Всё это поможет выполнить повторную проверку твоего проекта оперативнее\n",
    "</div>"
   ]
  },
  {
   "cell_type": "markdown",
   "metadata": {
    "toc": true
   },
   "source": [
    "<h1>Содержание<span class=\"tocSkip\"></span></h1>\n",
    "<div class=\"toc\"><ul class=\"toc-item\"><li><span><a href=\"#Подготовка-данных\" data-toc-modified-id=\"Подготовка-данных-1\"><span class=\"toc-item-num\">1&nbsp;&nbsp;</span>Подготовка данных</a></span><ul class=\"toc-item\"><li><span><a href=\"#Импорт-библиотек\" data-toc-modified-id=\"Импорт-библиотек-1.1\"><span class=\"toc-item-num\">1.1&nbsp;&nbsp;</span>Импорт библиотек</a></span></li><li><span><a href=\"#-Комментарий-ревьюера-v1\" data-toc-modified-id=\"-Комментарий-ревьюера-v1-1.2\"><span class=\"toc-item-num\">1.2&nbsp;&nbsp;</span> Комментарий ревьюера v1</a></span></li><li><span><a href=\"#Приведение-данных-к-нужному-типу\" data-toc-modified-id=\"Приведение-данных-к-нужному-типу-1.3\"><span class=\"toc-item-num\">1.3&nbsp;&nbsp;</span>Приведение данных к нужному типу</a></span></li><li><span><a href=\"#Проверка-правильности-указанной-эффективности\" data-toc-modified-id=\"Проверка-правильности-указанной-эффективности-1.4\"><span class=\"toc-item-num\">1.4&nbsp;&nbsp;</span>Проверка правильности указанной эффективности</a></span></li><li><span><a href=\"#-Комментарий-ревьюера-v1\" data-toc-modified-id=\"-Комментарий-ревьюера-v1-1.5\"><span class=\"toc-item-num\">1.5&nbsp;&nbsp;</span> Комментарий ревьюера v1</a></span></li><li><span><a href=\"#Признаки,-отсутствующие-в-тестовой-выборке\" data-toc-modified-id=\"Признаки,-отсутствующие-в-тестовой-выборке-1.6\"><span class=\"toc-item-num\">1.6&nbsp;&nbsp;</span>Признаки, отсутствующие в тестовой выборке</a></span></li><li><span><a href=\"#Заполнение-пропусков\" data-toc-modified-id=\"Заполнение-пропусков-1.7\"><span class=\"toc-item-num\">1.7&nbsp;&nbsp;</span>Заполнение пропусков</a></span></li><li><span><a href=\"#-Комментарий-ревьюера-v1\" data-toc-modified-id=\"-Комментарий-ревьюера-v1-1.8\"><span class=\"toc-item-num\">1.8&nbsp;&nbsp;</span> Комментарий ревьюера v1</a></span></li></ul></li><li><span><a href=\"#Анализ-данных\" data-toc-modified-id=\"Анализ-данных-2\"><span class=\"toc-item-num\">2&nbsp;&nbsp;</span>Анализ данных</a></span><ul class=\"toc-item\"><li><span><a href=\"#-Комментарий-ревьюера-v1\" data-toc-modified-id=\"-Комментарий-ревьюера-v1-2.1\"><span class=\"toc-item-num\">2.1&nbsp;&nbsp;</span> Комментарий ревьюера v1</a></span></li><li><span><a href=\"#Проверка-распределений-гранул-сырья\" data-toc-modified-id=\"Проверка-распределений-гранул-сырья-2.2\"><span class=\"toc-item-num\">2.2&nbsp;&nbsp;</span>Проверка распределений гранул сырья</a></span></li><li><span><a href=\"#-Комментарий-ревьюера-v1\" data-toc-modified-id=\"-Комментарий-ревьюера-v1-2.3\"><span class=\"toc-item-num\">2.3&nbsp;&nbsp;</span> Комментарий ревьюера v1</a></span></li><li><span><a href=\"#-Комментарий-ревьюера-v1\" data-toc-modified-id=\"-Комментарий-ревьюера-v1-2.4\"><span class=\"toc-item-num\">2.4&nbsp;&nbsp;</span> Комментарий ревьюера v1</a></span></li></ul></li><li><span><a href=\"#Исследование-поведения-суммарной-концентрации-всех-веществ\" data-toc-modified-id=\"Исследование-поведения-суммарной-концентрации-всех-веществ-3\"><span class=\"toc-item-num\">3&nbsp;&nbsp;</span>Исследование поведения суммарной концентрации всех веществ</a></span><ul class=\"toc-item\"><li><span><a href=\"#Удаление-артефактов\" data-toc-modified-id=\"Удаление-артефактов-3.1\"><span class=\"toc-item-num\">3.1&nbsp;&nbsp;</span>Удаление артефактов</a></span></li><li><span><a href=\"#-Комментарий-ревьюера-v1\" data-toc-modified-id=\"-Комментарий-ревьюера-v1-3.2\"><span class=\"toc-item-num\">3.2&nbsp;&nbsp;</span> Комментарий ревьюера v1</a></span></li></ul></li><li><span><a href=\"#Модель\" data-toc-modified-id=\"Модель-4\"><span class=\"toc-item-num\">4&nbsp;&nbsp;</span>Модель</a></span><ul class=\"toc-item\"><li><span><a href=\"#Функция-для-расчёта-sMAPE\" data-toc-modified-id=\"Функция-для-расчёта-sMAPE-4.1\"><span class=\"toc-item-num\">4.1&nbsp;&nbsp;</span>Функция для расчёта sMAPE</a></span></li><li><span><a href=\"#-Комментарий-ревьюера-v1\" data-toc-modified-id=\"-Комментарий-ревьюера-v1-4.2\"><span class=\"toc-item-num\">4.2&nbsp;&nbsp;</span> Комментарий ревьюера v1</a></span></li><li><span><a href=\"#-Комментарий-ревьюера-v1\" data-toc-modified-id=\"-Комментарий-ревьюера-v1-4.3\"><span class=\"toc-item-num\">4.3&nbsp;&nbsp;</span> Комментарий ревьюера v1</a></span></li><li><span><a href=\"#-Комментарий-ревьюера-v1\" data-toc-modified-id=\"-Комментарий-ревьюера-v1-4.4\"><span class=\"toc-item-num\">4.4&nbsp;&nbsp;</span> Комментарий ревьюера v1</a></span></li><li><span><a href=\"#Обучение-лучших-моделей\" data-toc-modified-id=\"Обучение-лучших-моделей-4.5\"><span class=\"toc-item-num\">4.5&nbsp;&nbsp;</span>Обучение лучших моделей</a></span></li><li><span><a href=\"#Тестирование-модели-и-подсчёт-итоговой-метрики\" data-toc-modified-id=\"Тестирование-модели-и-подсчёт-итоговой-метрики-4.6\"><span class=\"toc-item-num\">4.6&nbsp;&nbsp;</span>Тестирование модели и подсчёт итоговой метрики</a></span></li><li><span><a href=\"#-Комментарий-ревьюера-v1\" data-toc-modified-id=\"-Комментарий-ревьюера-v1-4.7\"><span class=\"toc-item-num\">4.7&nbsp;&nbsp;</span> Комментарий ревьюера v1</a></span></li></ul></li><li><span><a href=\"#Итоговый-вывод\" data-toc-modified-id=\"Итоговый-вывод-5\"><span class=\"toc-item-num\">5&nbsp;&nbsp;</span>Итоговый вывод</a></span><ul class=\"toc-item\"><li><span><a href=\"#-Комментарий-ревьюера-v1\" data-toc-modified-id=\"-Комментарий-ревьюера-v1-5.1\"><span class=\"toc-item-num\">5.1&nbsp;&nbsp;</span> Комментарий ревьюера v1</a></span></li></ul></li><li><span><a href=\"#Чек-лист-готовности-проекта\" data-toc-modified-id=\"Чек-лист-готовности-проекта-6\"><span class=\"toc-item-num\">6&nbsp;&nbsp;</span>Чек-лист готовности проекта</a></span><ul class=\"toc-item\"><li><span><a href=\"#-Итоговый-комментарий\" data-toc-modified-id=\"-Итоговый-комментарий-6.1\"><span class=\"toc-item-num\">6.1&nbsp;&nbsp;</span> Итоговый комментарий</a></span></li></ul></li></ul></div>"
   ]
  },
  {
   "cell_type": "markdown",
   "metadata": {},
   "source": [
    "# Восстановление золота из руды"
   ]
  },
  {
   "cell_type": "markdown",
   "metadata": {},
   "source": [
    "Подготовьте прототип модели машинного обучения для «Цифры». Компания разрабатывает решения для эффективной работы промышленных предприятий.\n",
    "\n",
    "Модель должна предсказать коэффициент восстановления золота из золотосодержащей руды. Используйте данные с параметрами добычи и очистки. \n",
    "\n",
    "Модель поможет оптимизировать производство, чтобы не запускать предприятие с убыточными характеристиками.\n",
    "\n",
    "Вам нужно:\n",
    "\n",
    "1. Подготовить данные;\n",
    "2. Провести исследовательский анализ данных;\n",
    "3. Построить и обучить модель.\n",
    "\n",
    "Чтобы выполнить проект, обращайтесь к библиотекам *pandas*, *matplotlib* и *sklearn.* Вам поможет их документация."
   ]
  },
  {
   "cell_type": "markdown",
   "metadata": {},
   "source": [
    "## Подготовка данных"
   ]
  },
  {
   "cell_type": "markdown",
   "metadata": {},
   "source": [
    "### Импорт библиотек"
   ]
  },
  {
   "cell_type": "code",
   "execution_count": 1,
   "metadata": {},
   "outputs": [],
   "source": [
    "import pandas as pd                 \n",
    "import numpy as np\n",
    "import matplotlib.pyplot as plt\n",
    "import math                                          # импорт библиотеки math\n",
    "from sklearn.metrics import mean_absolute_error      # импорт метода вычисления МАЕ\n",
    "from scipy import stats as st\n",
    "from sklearn.model_selection import train_test_split, cross_val_predict, cross_validate # импорт методов разбиения на выборки\n",
    "# и кросс-валидации\n",
    "from sklearn.tree import DecisionTreeRegressor\n",
    "from sklearn.ensemble import RandomForestRegressor\n",
    "from sklearn.linear_model import LinearRegression\n",
    "from sklearn.dummy import DummyRegressor"
   ]
  },
  {
   "cell_type": "markdown",
   "metadata": {},
   "source": [
    "<div class=\"alert alert-success\"> ✅ \n",
    "<h3> Комментарий ревьюера v1</h3>\n",
    "\n",
    "Здорово, что все импорты находятся в одной ячейке. Если хочешь сделать ещё лучше, соблюдай стандарт PEP-8 =)\n",
    "Ссылка для ознакомления: https://pythonworld.ru/osnovy/pep-8-rukovodstvo-po-napisaniyu-koda-na-python.html#section-8\n"
   ]
  },
  {
   "cell_type": "code",
   "execution_count": 3,
   "metadata": {},
   "outputs": [],
   "source": [
    "train = pd.read_csv('gold_recovery_train_new.csv')   # чтение обучающей выборки\n",
    "test = pd.read_csv('gold_recovery_test_new.csv')     # чтение тестовой выборки\n",
    "data = pd.read_csv('gold_recovery_full_new.csv')     # чтение исходных данных"
   ]
  },
  {
   "cell_type": "code",
   "execution_count": 4,
   "metadata": {},
   "outputs": [
    {
     "name": "stdout",
     "output_type": "stream",
     "text": [
      "<class 'pandas.core.frame.DataFrame'>\n",
      "RangeIndex: 5290 entries, 0 to 5289\n",
      "Data columns (total 53 columns):\n",
      " #   Column                                      Non-Null Count  Dtype  \n",
      "---  ------                                      --------------  -----  \n",
      " 0   date                                        5290 non-null   object \n",
      " 1   primary_cleaner.input.sulfate               5286 non-null   float64\n",
      " 2   primary_cleaner.input.depressant            5285 non-null   float64\n",
      " 3   primary_cleaner.input.feed_size             5290 non-null   float64\n",
      " 4   primary_cleaner.input.xanthate              5286 non-null   float64\n",
      " 5   primary_cleaner.state.floatbank8_a_air      5290 non-null   float64\n",
      " 6   primary_cleaner.state.floatbank8_a_level    5290 non-null   float64\n",
      " 7   primary_cleaner.state.floatbank8_b_air      5290 non-null   float64\n",
      " 8   primary_cleaner.state.floatbank8_b_level    5290 non-null   float64\n",
      " 9   primary_cleaner.state.floatbank8_c_air      5290 non-null   float64\n",
      " 10  primary_cleaner.state.floatbank8_c_level    5290 non-null   float64\n",
      " 11  primary_cleaner.state.floatbank8_d_air      5290 non-null   float64\n",
      " 12  primary_cleaner.state.floatbank8_d_level    5290 non-null   float64\n",
      " 13  rougher.input.feed_ag                       5290 non-null   float64\n",
      " 14  rougher.input.feed_pb                       5290 non-null   float64\n",
      " 15  rougher.input.feed_rate                     5287 non-null   float64\n",
      " 16  rougher.input.feed_size                     5289 non-null   float64\n",
      " 17  rougher.input.feed_sol                      5269 non-null   float64\n",
      " 18  rougher.input.feed_au                       5290 non-null   float64\n",
      " 19  rougher.input.floatbank10_sulfate           5285 non-null   float64\n",
      " 20  rougher.input.floatbank10_xanthate          5290 non-null   float64\n",
      " 21  rougher.input.floatbank11_sulfate           5282 non-null   float64\n",
      " 22  rougher.input.floatbank11_xanthate          5265 non-null   float64\n",
      " 23  rougher.state.floatbank10_a_air             5290 non-null   float64\n",
      " 24  rougher.state.floatbank10_a_level           5290 non-null   float64\n",
      " 25  rougher.state.floatbank10_b_air             5290 non-null   float64\n",
      " 26  rougher.state.floatbank10_b_level           5290 non-null   float64\n",
      " 27  rougher.state.floatbank10_c_air             5290 non-null   float64\n",
      " 28  rougher.state.floatbank10_c_level           5290 non-null   float64\n",
      " 29  rougher.state.floatbank10_d_air             5290 non-null   float64\n",
      " 30  rougher.state.floatbank10_d_level           5290 non-null   float64\n",
      " 31  rougher.state.floatbank10_e_air             5290 non-null   float64\n",
      " 32  rougher.state.floatbank10_e_level           5290 non-null   float64\n",
      " 33  rougher.state.floatbank10_f_air             5290 non-null   float64\n",
      " 34  rougher.state.floatbank10_f_level           5290 non-null   float64\n",
      " 35  secondary_cleaner.state.floatbank2_a_air    5287 non-null   float64\n",
      " 36  secondary_cleaner.state.floatbank2_a_level  5290 non-null   float64\n",
      " 37  secondary_cleaner.state.floatbank2_b_air    5288 non-null   float64\n",
      " 38  secondary_cleaner.state.floatbank2_b_level  5290 non-null   float64\n",
      " 39  secondary_cleaner.state.floatbank3_a_air    5281 non-null   float64\n",
      " 40  secondary_cleaner.state.floatbank3_a_level  5290 non-null   float64\n",
      " 41  secondary_cleaner.state.floatbank3_b_air    5290 non-null   float64\n",
      " 42  secondary_cleaner.state.floatbank3_b_level  5290 non-null   float64\n",
      " 43  secondary_cleaner.state.floatbank4_a_air    5290 non-null   float64\n",
      " 44  secondary_cleaner.state.floatbank4_a_level  5290 non-null   float64\n",
      " 45  secondary_cleaner.state.floatbank4_b_air    5290 non-null   float64\n",
      " 46  secondary_cleaner.state.floatbank4_b_level  5290 non-null   float64\n",
      " 47  secondary_cleaner.state.floatbank5_a_air    5290 non-null   float64\n",
      " 48  secondary_cleaner.state.floatbank5_a_level  5290 non-null   float64\n",
      " 49  secondary_cleaner.state.floatbank5_b_air    5290 non-null   float64\n",
      " 50  secondary_cleaner.state.floatbank5_b_level  5290 non-null   float64\n",
      " 51  secondary_cleaner.state.floatbank6_a_air    5290 non-null   float64\n",
      " 52  secondary_cleaner.state.floatbank6_a_level  5290 non-null   float64\n",
      "dtypes: float64(52), object(1)\n",
      "memory usage: 2.1+ MB\n"
     ]
    }
   ],
   "source": [
    "test.info()                                          # вывод информации об обучающей выборке"
   ]
  },
  {
   "cell_type": "markdown",
   "metadata": {},
   "source": [
    "**Вывод**\n",
    "\n",
    "Тестовая выборка содержит незначительное число пропусков."
   ]
  },
  {
   "cell_type": "code",
   "execution_count": 7,
   "metadata": {},
   "outputs": [],
   "source": [
    "data['rougher.input.feed_size'].to_csv('Sorting')                                   # вывод информации об обучающей выборке"
   ]
  },
  {
   "cell_type": "code",
   "execution_count": 10,
   "metadata": {},
   "outputs": [
    {
     "data": {
      "text/html": [
       "<div>\n",
       "<style scoped>\n",
       "    .dataframe tbody tr th:only-of-type {\n",
       "        vertical-align: middle;\n",
       "    }\n",
       "\n",
       "    .dataframe tbody tr th {\n",
       "        vertical-align: top;\n",
       "    }\n",
       "\n",
       "    .dataframe thead th {\n",
       "        text-align: right;\n",
       "    }\n",
       "</style>\n",
       "<table border=\"1\" class=\"dataframe\">\n",
       "  <thead>\n",
       "    <tr style=\"text-align: right;\">\n",
       "      <th></th>\n",
       "      <th>Unnamed: 0</th>\n",
       "      <th>rougher.input.feed_size</th>\n",
       "    </tr>\n",
       "  </thead>\n",
       "  <tbody>\n",
       "    <tr>\n",
       "      <th>0</th>\n",
       "      <td>0</td>\n",
       "      <td>55.486599</td>\n",
       "    </tr>\n",
       "    <tr>\n",
       "      <th>1</th>\n",
       "      <td>1</td>\n",
       "      <td>57.278666</td>\n",
       "    </tr>\n",
       "    <tr>\n",
       "      <th>2</th>\n",
       "      <td>2</td>\n",
       "      <td>57.510649</td>\n",
       "    </tr>\n",
       "    <tr>\n",
       "      <th>3</th>\n",
       "      <td>3</td>\n",
       "      <td>57.792734</td>\n",
       "    </tr>\n",
       "    <tr>\n",
       "      <th>4</th>\n",
       "      <td>4</td>\n",
       "      <td>56.047189</td>\n",
       "    </tr>\n",
       "    <tr>\n",
       "      <th>...</th>\n",
       "      <td>...</td>\n",
       "      <td>...</td>\n",
       "    </tr>\n",
       "    <tr>\n",
       "      <th>19434</th>\n",
       "      <td>19434</td>\n",
       "      <td>85.718304</td>\n",
       "    </tr>\n",
       "    <tr>\n",
       "      <th>19435</th>\n",
       "      <td>19435</td>\n",
       "      <td>119.499241</td>\n",
       "    </tr>\n",
       "    <tr>\n",
       "      <th>19436</th>\n",
       "      <td>19436</td>\n",
       "      <td>122.262690</td>\n",
       "    </tr>\n",
       "    <tr>\n",
       "      <th>19437</th>\n",
       "      <td>19437</td>\n",
       "      <td>123.742430</td>\n",
       "    </tr>\n",
       "    <tr>\n",
       "      <th>19438</th>\n",
       "      <td>19438</td>\n",
       "      <td>94.544358</td>\n",
       "    </tr>\n",
       "  </tbody>\n",
       "</table>\n",
       "<p>19439 rows × 2 columns</p>\n",
       "</div>"
      ],
      "text/plain": [
       "       Unnamed: 0  rougher.input.feed_size\n",
       "0               0                55.486599\n",
       "1               1                57.278666\n",
       "2               2                57.510649\n",
       "3               3                57.792734\n",
       "4               4                56.047189\n",
       "...           ...                      ...\n",
       "19434       19434                85.718304\n",
       "19435       19435               119.499241\n",
       "19436       19436               122.262690\n",
       "19437       19437               123.742430\n",
       "19438       19438                94.544358\n",
       "\n",
       "[19439 rows x 2 columns]"
      ]
     },
     "metadata": {},
     "output_type": "display_data"
    }
   ],
   "source": [
    "file = pd.read_csv('Sorting')\n",
    "display(file)"
   ]
  },
  {
   "cell_type": "markdown",
   "metadata": {},
   "source": [
    "**Вывод**\n",
    "\n",
    "Обучающая выборка содержит параметры с большим числом пропусков, например secondary_cleaner.output.tail_sol и др."
   ]
  },
  {
   "cell_type": "code",
   "execution_count": 5,
   "metadata": {},
   "outputs": [
    {
     "name": "stdout",
     "output_type": "stream",
     "text": [
      "<class 'pandas.core.frame.DataFrame'>\n",
      "RangeIndex: 19439 entries, 0 to 19438\n",
      "Data columns (total 87 columns):\n",
      " #   Column                                              Non-Null Count  Dtype  \n",
      "---  ------                                              --------------  -----  \n",
      " 0   date                                                19439 non-null  object \n",
      " 1   final.output.concentrate_ag                         19438 non-null  float64\n",
      " 2   final.output.concentrate_pb                         19438 non-null  float64\n",
      " 3   final.output.concentrate_sol                        19228 non-null  float64\n",
      " 4   final.output.concentrate_au                         19439 non-null  float64\n",
      " 5   final.output.recovery                               19439 non-null  float64\n",
      " 6   final.output.tail_ag                                19438 non-null  float64\n",
      " 7   final.output.tail_pb                                19338 non-null  float64\n",
      " 8   final.output.tail_sol                               19433 non-null  float64\n",
      " 9   final.output.tail_au                                19439 non-null  float64\n",
      " 10  primary_cleaner.input.sulfate                       19415 non-null  float64\n",
      " 11  primary_cleaner.input.depressant                    19402 non-null  float64\n",
      " 12  primary_cleaner.input.feed_size                     19439 non-null  float64\n",
      " 13  primary_cleaner.input.xanthate                      19335 non-null  float64\n",
      " 14  primary_cleaner.output.concentrate_ag               19439 non-null  float64\n",
      " 15  primary_cleaner.output.concentrate_pb               19323 non-null  float64\n",
      " 16  primary_cleaner.output.concentrate_sol              19069 non-null  float64\n",
      " 17  primary_cleaner.output.concentrate_au               19439 non-null  float64\n",
      " 18  primary_cleaner.output.tail_ag                      19435 non-null  float64\n",
      " 19  primary_cleaner.output.tail_pb                      19418 non-null  float64\n",
      " 20  primary_cleaner.output.tail_sol                     19377 non-null  float64\n",
      " 21  primary_cleaner.output.tail_au                      19439 non-null  float64\n",
      " 22  primary_cleaner.state.floatbank8_a_air              19435 non-null  float64\n",
      " 23  primary_cleaner.state.floatbank8_a_level            19438 non-null  float64\n",
      " 24  primary_cleaner.state.floatbank8_b_air              19435 non-null  float64\n",
      " 25  primary_cleaner.state.floatbank8_b_level            19438 non-null  float64\n",
      " 26  primary_cleaner.state.floatbank8_c_air              19437 non-null  float64\n",
      " 27  primary_cleaner.state.floatbank8_c_level            19438 non-null  float64\n",
      " 28  primary_cleaner.state.floatbank8_d_air              19436 non-null  float64\n",
      " 29  primary_cleaner.state.floatbank8_d_level            19438 non-null  float64\n",
      " 30  rougher.calculation.sulfate_to_au_concentrate       19437 non-null  float64\n",
      " 31  rougher.calculation.floatbank10_sulfate_to_au_feed  19437 non-null  float64\n",
      " 32  rougher.calculation.floatbank11_sulfate_to_au_feed  19437 non-null  float64\n",
      " 33  rougher.calculation.au_pb_ratio                     19439 non-null  float64\n",
      " 34  rougher.input.feed_ag                               19439 non-null  float64\n",
      " 35  rougher.input.feed_pb                               19339 non-null  float64\n",
      " 36  rougher.input.feed_rate                             19428 non-null  float64\n",
      " 37  rougher.input.feed_size                             19294 non-null  float64\n",
      " 38  rougher.input.feed_sol                              19340 non-null  float64\n",
      " 39  rougher.input.feed_au                               19439 non-null  float64\n",
      " 40  rougher.input.floatbank10_sulfate                   19405 non-null  float64\n",
      " 41  rougher.input.floatbank10_xanthate                  19431 non-null  float64\n",
      " 42  rougher.input.floatbank11_sulfate                   19395 non-null  float64\n",
      " 43  rougher.input.floatbank11_xanthate                  18986 non-null  float64\n",
      " 44  rougher.output.concentrate_ag                       19439 non-null  float64\n",
      " 45  rougher.output.concentrate_pb                       19439 non-null  float64\n",
      " 46  rougher.output.concentrate_sol                      19416 non-null  float64\n",
      " 47  rougher.output.concentrate_au                       19439 non-null  float64\n",
      " 48  rougher.output.recovery                             19439 non-null  float64\n",
      " 49  rougher.output.tail_ag                              19438 non-null  float64\n",
      " 50  rougher.output.tail_pb                              19439 non-null  float64\n",
      " 51  rougher.output.tail_sol                             19439 non-null  float64\n",
      " 52  rougher.output.tail_au                              19439 non-null  float64\n",
      " 53  rougher.state.floatbank10_a_air                     19438 non-null  float64\n",
      " 54  rougher.state.floatbank10_a_level                   19438 non-null  float64\n",
      " 55  rougher.state.floatbank10_b_air                     19438 non-null  float64\n",
      " 56  rougher.state.floatbank10_b_level                   19438 non-null  float64\n",
      " 57  rougher.state.floatbank10_c_air                     19438 non-null  float64\n",
      " 58  rougher.state.floatbank10_c_level                   19438 non-null  float64\n",
      " 59  rougher.state.floatbank10_d_air                     19439 non-null  float64\n",
      " 60  rougher.state.floatbank10_d_level                   19439 non-null  float64\n",
      " 61  rougher.state.floatbank10_e_air                     19003 non-null  float64\n",
      " 62  rougher.state.floatbank10_e_level                   19439 non-null  float64\n",
      " 63  rougher.state.floatbank10_f_air                     19439 non-null  float64\n",
      " 64  rougher.state.floatbank10_f_level                   19439 non-null  float64\n",
      " 65  secondary_cleaner.output.tail_ag                    19437 non-null  float64\n",
      " 66  secondary_cleaner.output.tail_pb                    19427 non-null  float64\n",
      " 67  secondary_cleaner.output.tail_sol                   17691 non-null  float64\n",
      " 68  secondary_cleaner.output.tail_au                    19439 non-null  float64\n",
      " 69  secondary_cleaner.state.floatbank2_a_air            19219 non-null  float64\n",
      " 70  secondary_cleaner.state.floatbank2_a_level          19438 non-null  float64\n",
      " 71  secondary_cleaner.state.floatbank2_b_air            19416 non-null  float64\n",
      " 72  secondary_cleaner.state.floatbank2_b_level          19438 non-null  float64\n",
      " 73  secondary_cleaner.state.floatbank3_a_air            19426 non-null  float64\n",
      " 74  secondary_cleaner.state.floatbank3_a_level          19438 non-null  float64\n",
      " 75  secondary_cleaner.state.floatbank3_b_air            19438 non-null  float64\n",
      " 76  secondary_cleaner.state.floatbank3_b_level          19438 non-null  float64\n",
      " 77  secondary_cleaner.state.floatbank4_a_air            19433 non-null  float64\n",
      " 78  secondary_cleaner.state.floatbank4_a_level          19438 non-null  float64\n",
      " 79  secondary_cleaner.state.floatbank4_b_air            19438 non-null  float64\n",
      " 80  secondary_cleaner.state.floatbank4_b_level          19438 non-null  float64\n",
      " 81  secondary_cleaner.state.floatbank5_a_air            19438 non-null  float64\n",
      " 82  secondary_cleaner.state.floatbank5_a_level          19438 non-null  float64\n",
      " 83  secondary_cleaner.state.floatbank5_b_air            19438 non-null  float64\n",
      " 84  secondary_cleaner.state.floatbank5_b_level          19438 non-null  float64\n",
      " 85  secondary_cleaner.state.floatbank6_a_air            19437 non-null  float64\n",
      " 86  secondary_cleaner.state.floatbank6_a_level          19438 non-null  float64\n",
      "dtypes: float64(86), object(1)\n",
      "memory usage: 12.9+ MB\n"
     ]
    }
   ],
   "source": [
    "data.info()                             # вывод информации об исходных данных"
   ]
  },
  {
   "cell_type": "markdown",
   "metadata": {},
   "source": [
    "**Вывод**\n",
    "\n",
    "Исходные данные тоже содержат параметры, в которых много пропусков.\n",
    "\n",
    "Кроме того, дата во всех датафреймах имеет тип object, что не есть хорошо, необходимо исправить тип данных на datetime. Также обнаружено, что датафрейм с тестовой выборкой содержит усечённое число признаков."
   ]
  },
  {
   "cell_type": "markdown",
   "metadata": {},
   "source": [
    "### Приведение данных к нужному типу"
   ]
  },
  {
   "cell_type": "code",
   "execution_count": 6,
   "metadata": {},
   "outputs": [
    {
     "name": "stdout",
     "output_type": "stream",
     "text": [
      "<class 'pandas.core.frame.DataFrame'>\n",
      "RangeIndex: 14149 entries, 0 to 14148\n",
      "Columns: 87 entries, date to secondary_cleaner.state.floatbank6_a_level\n",
      "dtypes: datetime64[ns](1), float64(86)\n",
      "memory usage: 9.4 MB\n"
     ]
    }
   ],
   "source": [
    "train['date'] = pd.to_datetime(                           #\n",
    "    train['date'], format='%Y-%m-%d %H:%M:%S')            #\n",
    "data['date'] = pd.to_datetime(                            #    приведение признака 'date' к формату datetime\n",
    "    data['date'], format='%Y-%m-%d %H:%M:%S')             #               во всех трёх датафреймах\n",
    "test['date'] = pd.to_datetime(                            #\n",
    "    test['date'], format='%Y-%m-%d %H:%M:%S')             #\n",
    "train.info(verbose=False)                                 #"
   ]
  },
  {
   "cell_type": "markdown",
   "metadata": {},
   "source": [
    "### Проверка правильности указанной эффективности"
   ]
  },
  {
   "cell_type": "code",
   "execution_count": 7,
   "metadata": {
    "scrolled": true
   },
   "outputs": [
    {
     "name": "stdout",
     "output_type": "stream",
     "text": [
      "МАЕ указанной и посчитанной эффективности после флотации: 9.73512347450521e-15\n"
     ]
    }
   ],
   "source": [
    "recovery = train['rougher.output.concentrate_au'] * (train['rougher.input.feed_au'] -                              # расчёт эфф-\n",
    "                                                    train['rougher.output.tail_au']) / (                           # ективности\n",
    "train['rougher.input.feed_au'] * (train['rougher.output.concentrate_au'] - train['rougher.output.tail_au'])) * 100 # флотации\n",
    "\n",
    "MAE = mean_absolute_error(train['rougher.output.recovery'], recovery)        # МАЕ между посчитанной и указанной эффективности\n",
    "print(f\"МАЕ указанной и посчитанной эффективности после флотации: {MAE}\")"
   ]
  },
  {
   "cell_type": "markdown",
   "metadata": {},
   "source": [
    "**Вывод**\n",
    "\n",
    "Указанная эффективность рассчитана верно, ведь МАЕ практически 0."
   ]
  },
  {
   "cell_type": "markdown",
   "metadata": {},
   "source": [
    "<div class=\"alert alert-success\"> ✅ \n",
    "<h3> Комментарий ревьюера v1</h3>\n",
    "\n",
    "\n",
    "Верно, полученное значение оказалось в достаточной степени маленьким, чтобы можно было утверждать о правильности рассчёта.\n"
   ]
  },
  {
   "cell_type": "markdown",
   "metadata": {},
   "source": [
    "### Признаки, отсутствующие в тестовой выборке"
   ]
  },
  {
   "cell_type": "code",
   "execution_count": 8,
   "metadata": {},
   "outputs": [
    {
     "name": "stdout",
     "output_type": "stream",
     "text": [
      "<class 'pandas.core.frame.DataFrame'>\n",
      "RangeIndex: 14149 entries, 0 to 14148\n",
      "Data columns (total 34 columns):\n",
      " #   Column                                              Non-Null Count  Dtype  \n",
      "---  ------                                              --------------  -----  \n",
      " 0   final.output.concentrate_ag                         14148 non-null  float64\n",
      " 1   final.output.concentrate_au                         14149 non-null  float64\n",
      " 2   final.output.concentrate_pb                         14148 non-null  float64\n",
      " 3   final.output.concentrate_sol                        13938 non-null  float64\n",
      " 4   final.output.recovery                               14149 non-null  float64\n",
      " 5   final.output.tail_ag                                14149 non-null  float64\n",
      " 6   final.output.tail_au                                14149 non-null  float64\n",
      " 7   final.output.tail_pb                                14049 non-null  float64\n",
      " 8   final.output.tail_sol                               14144 non-null  float64\n",
      " 9   primary_cleaner.output.concentrate_ag               14149 non-null  float64\n",
      " 10  primary_cleaner.output.concentrate_au               14149 non-null  float64\n",
      " 11  primary_cleaner.output.concentrate_pb               14063 non-null  float64\n",
      " 12  primary_cleaner.output.concentrate_sol              13863 non-null  float64\n",
      " 13  primary_cleaner.output.tail_ag                      14148 non-null  float64\n",
      " 14  primary_cleaner.output.tail_au                      14149 non-null  float64\n",
      " 15  primary_cleaner.output.tail_pb                      14134 non-null  float64\n",
      " 16  primary_cleaner.output.tail_sol                     14103 non-null  float64\n",
      " 17  rougher.calculation.au_pb_ratio                     14149 non-null  float64\n",
      " 18  rougher.calculation.floatbank10_sulfate_to_au_feed  14148 non-null  float64\n",
      " 19  rougher.calculation.floatbank11_sulfate_to_au_feed  14148 non-null  float64\n",
      " 20  rougher.calculation.sulfate_to_au_concentrate       14148 non-null  float64\n",
      " 21  rougher.output.concentrate_ag                       14149 non-null  float64\n",
      " 22  rougher.output.concentrate_au                       14149 non-null  float64\n",
      " 23  rougher.output.concentrate_pb                       14149 non-null  float64\n",
      " 24  rougher.output.concentrate_sol                      14127 non-null  float64\n",
      " 25  rougher.output.recovery                             14149 non-null  float64\n",
      " 26  rougher.output.tail_ag                              14148 non-null  float64\n",
      " 27  rougher.output.tail_au                              14149 non-null  float64\n",
      " 28  rougher.output.tail_pb                              14149 non-null  float64\n",
      " 29  rougher.output.tail_sol                             14149 non-null  float64\n",
      " 30  secondary_cleaner.output.tail_ag                    14147 non-null  float64\n",
      " 31  secondary_cleaner.output.tail_au                    14149 non-null  float64\n",
      " 32  secondary_cleaner.output.tail_pb                    14139 non-null  float64\n",
      " 33  secondary_cleaner.output.tail_sol                   12544 non-null  float64\n",
      "dtypes: float64(34)\n",
      "memory usage: 3.7 MB\n"
     ]
    }
   ],
   "source": [
    "no_columns = pd.Series(test.columns.symmetric_difference(train.columns))  # список отсутствующих колонок в тестовой выборке\n",
    "train[no_columns].info()                                                  # признаки в этих колонках в обучающей выборке"
   ]
  },
  {
   "cell_type": "markdown",
   "metadata": {},
   "source": [
    "**Вывод**\n",
    "\n",
    "Видно, что в тестовой выборке отсутствует много признаков, в том числе и целевой rougher.output.recovery. Все эти данные относятся к типу float. Необходимо удалить из обучающей выборки эти признаки, чтобы тест проходил правильно. Целевые признаки будут взяты из исходных данных."
   ]
  },
  {
   "cell_type": "markdown",
   "metadata": {},
   "source": [
    "Добавим целевые признаки в тестовую выборку."
   ]
  },
  {
   "cell_type": "code",
   "execution_count": 9,
   "metadata": {},
   "outputs": [
    {
     "data": {
      "text/html": [
       "<div>\n",
       "<style scoped>\n",
       "    .dataframe tbody tr th:only-of-type {\n",
       "        vertical-align: middle;\n",
       "    }\n",
       "\n",
       "    .dataframe tbody tr th {\n",
       "        vertical-align: top;\n",
       "    }\n",
       "\n",
       "    .dataframe thead th {\n",
       "        text-align: right;\n",
       "    }\n",
       "</style>\n",
       "<table border=\"1\" class=\"dataframe\">\n",
       "  <thead>\n",
       "    <tr style=\"text-align: right;\">\n",
       "      <th></th>\n",
       "      <th>date</th>\n",
       "      <th>primary_cleaner.input.sulfate</th>\n",
       "      <th>primary_cleaner.input.depressant</th>\n",
       "      <th>primary_cleaner.input.feed_size</th>\n",
       "      <th>primary_cleaner.input.xanthate</th>\n",
       "      <th>primary_cleaner.state.floatbank8_a_air</th>\n",
       "      <th>primary_cleaner.state.floatbank8_a_level</th>\n",
       "      <th>primary_cleaner.state.floatbank8_b_air</th>\n",
       "      <th>primary_cleaner.state.floatbank8_b_level</th>\n",
       "      <th>primary_cleaner.state.floatbank8_c_air</th>\n",
       "      <th>...</th>\n",
       "      <th>secondary_cleaner.state.floatbank4_b_air</th>\n",
       "      <th>secondary_cleaner.state.floatbank4_b_level</th>\n",
       "      <th>secondary_cleaner.state.floatbank5_a_air</th>\n",
       "      <th>secondary_cleaner.state.floatbank5_a_level</th>\n",
       "      <th>secondary_cleaner.state.floatbank5_b_air</th>\n",
       "      <th>secondary_cleaner.state.floatbank5_b_level</th>\n",
       "      <th>secondary_cleaner.state.floatbank6_a_air</th>\n",
       "      <th>secondary_cleaner.state.floatbank6_a_level</th>\n",
       "      <th>rougher.output.recovery</th>\n",
       "      <th>final.output.recovery</th>\n",
       "    </tr>\n",
       "  </thead>\n",
       "  <tbody>\n",
       "    <tr>\n",
       "      <th>0</th>\n",
       "      <td>2016-09-01 00:59:59</td>\n",
       "      <td>210.800909</td>\n",
       "      <td>14.993118</td>\n",
       "      <td>8.080000</td>\n",
       "      <td>1.005021</td>\n",
       "      <td>1398.981301</td>\n",
       "      <td>-500.225577</td>\n",
       "      <td>1399.144926</td>\n",
       "      <td>-499.919735</td>\n",
       "      <td>1400.102998</td>\n",
       "      <td>...</td>\n",
       "      <td>8.016656</td>\n",
       "      <td>-501.289139</td>\n",
       "      <td>7.946562</td>\n",
       "      <td>-432.317850</td>\n",
       "      <td>4.872511</td>\n",
       "      <td>-500.037437</td>\n",
       "      <td>26.705889</td>\n",
       "      <td>-499.709414</td>\n",
       "      <td>89.993421</td>\n",
       "      <td>70.273583</td>\n",
       "    </tr>\n",
       "    <tr>\n",
       "      <th>1</th>\n",
       "      <td>2016-09-01 01:59:59</td>\n",
       "      <td>215.392455</td>\n",
       "      <td>14.987471</td>\n",
       "      <td>8.080000</td>\n",
       "      <td>0.990469</td>\n",
       "      <td>1398.777912</td>\n",
       "      <td>-500.057435</td>\n",
       "      <td>1398.055362</td>\n",
       "      <td>-499.778182</td>\n",
       "      <td>1396.151033</td>\n",
       "      <td>...</td>\n",
       "      <td>8.130979</td>\n",
       "      <td>-499.634209</td>\n",
       "      <td>7.958270</td>\n",
       "      <td>-525.839648</td>\n",
       "      <td>4.878850</td>\n",
       "      <td>-500.162375</td>\n",
       "      <td>25.019940</td>\n",
       "      <td>-499.819438</td>\n",
       "      <td>88.089657</td>\n",
       "      <td>68.910432</td>\n",
       "    </tr>\n",
       "    <tr>\n",
       "      <th>2</th>\n",
       "      <td>2016-09-01 02:59:59</td>\n",
       "      <td>215.259946</td>\n",
       "      <td>12.884934</td>\n",
       "      <td>7.786667</td>\n",
       "      <td>0.996043</td>\n",
       "      <td>1398.493666</td>\n",
       "      <td>-500.868360</td>\n",
       "      <td>1398.860436</td>\n",
       "      <td>-499.764529</td>\n",
       "      <td>1398.075709</td>\n",
       "      <td>...</td>\n",
       "      <td>8.096893</td>\n",
       "      <td>-500.827423</td>\n",
       "      <td>8.071056</td>\n",
       "      <td>-500.801673</td>\n",
       "      <td>4.905125</td>\n",
       "      <td>-499.828510</td>\n",
       "      <td>24.994862</td>\n",
       "      <td>-500.622559</td>\n",
       "      <td>88.412756</td>\n",
       "      <td>68.143213</td>\n",
       "    </tr>\n",
       "    <tr>\n",
       "      <th>3</th>\n",
       "      <td>2016-09-01 03:59:59</td>\n",
       "      <td>215.336236</td>\n",
       "      <td>12.006805</td>\n",
       "      <td>7.640000</td>\n",
       "      <td>0.863514</td>\n",
       "      <td>1399.618111</td>\n",
       "      <td>-498.863574</td>\n",
       "      <td>1397.440120</td>\n",
       "      <td>-499.211024</td>\n",
       "      <td>1400.129303</td>\n",
       "      <td>...</td>\n",
       "      <td>8.074946</td>\n",
       "      <td>-499.474407</td>\n",
       "      <td>7.897085</td>\n",
       "      <td>-500.868509</td>\n",
       "      <td>4.931400</td>\n",
       "      <td>-499.963623</td>\n",
       "      <td>24.948919</td>\n",
       "      <td>-498.709987</td>\n",
       "      <td>87.360133</td>\n",
       "      <td>67.776393</td>\n",
       "    </tr>\n",
       "    <tr>\n",
       "      <th>4</th>\n",
       "      <td>2016-09-01 04:59:59</td>\n",
       "      <td>199.099327</td>\n",
       "      <td>10.682530</td>\n",
       "      <td>7.530000</td>\n",
       "      <td>0.805575</td>\n",
       "      <td>1401.268123</td>\n",
       "      <td>-500.808305</td>\n",
       "      <td>1398.128818</td>\n",
       "      <td>-499.504543</td>\n",
       "      <td>1402.172226</td>\n",
       "      <td>...</td>\n",
       "      <td>8.054678</td>\n",
       "      <td>-500.397500</td>\n",
       "      <td>8.107890</td>\n",
       "      <td>-509.526725</td>\n",
       "      <td>4.957674</td>\n",
       "      <td>-500.360026</td>\n",
       "      <td>25.003331</td>\n",
       "      <td>-500.856333</td>\n",
       "      <td>83.236367</td>\n",
       "      <td>61.467078</td>\n",
       "    </tr>\n",
       "  </tbody>\n",
       "</table>\n",
       "<p>5 rows × 55 columns</p>\n",
       "</div>"
      ],
      "text/plain": [
       "                 date  primary_cleaner.input.sulfate  \\\n",
       "0 2016-09-01 00:59:59                     210.800909   \n",
       "1 2016-09-01 01:59:59                     215.392455   \n",
       "2 2016-09-01 02:59:59                     215.259946   \n",
       "3 2016-09-01 03:59:59                     215.336236   \n",
       "4 2016-09-01 04:59:59                     199.099327   \n",
       "\n",
       "   primary_cleaner.input.depressant  primary_cleaner.input.feed_size  \\\n",
       "0                         14.993118                         8.080000   \n",
       "1                         14.987471                         8.080000   \n",
       "2                         12.884934                         7.786667   \n",
       "3                         12.006805                         7.640000   \n",
       "4                         10.682530                         7.530000   \n",
       "\n",
       "   primary_cleaner.input.xanthate  primary_cleaner.state.floatbank8_a_air  \\\n",
       "0                        1.005021                             1398.981301   \n",
       "1                        0.990469                             1398.777912   \n",
       "2                        0.996043                             1398.493666   \n",
       "3                        0.863514                             1399.618111   \n",
       "4                        0.805575                             1401.268123   \n",
       "\n",
       "   primary_cleaner.state.floatbank8_a_level  \\\n",
       "0                               -500.225577   \n",
       "1                               -500.057435   \n",
       "2                               -500.868360   \n",
       "3                               -498.863574   \n",
       "4                               -500.808305   \n",
       "\n",
       "   primary_cleaner.state.floatbank8_b_air  \\\n",
       "0                             1399.144926   \n",
       "1                             1398.055362   \n",
       "2                             1398.860436   \n",
       "3                             1397.440120   \n",
       "4                             1398.128818   \n",
       "\n",
       "   primary_cleaner.state.floatbank8_b_level  \\\n",
       "0                               -499.919735   \n",
       "1                               -499.778182   \n",
       "2                               -499.764529   \n",
       "3                               -499.211024   \n",
       "4                               -499.504543   \n",
       "\n",
       "   primary_cleaner.state.floatbank8_c_air  ...  \\\n",
       "0                             1400.102998  ...   \n",
       "1                             1396.151033  ...   \n",
       "2                             1398.075709  ...   \n",
       "3                             1400.129303  ...   \n",
       "4                             1402.172226  ...   \n",
       "\n",
       "   secondary_cleaner.state.floatbank4_b_air  \\\n",
       "0                                  8.016656   \n",
       "1                                  8.130979   \n",
       "2                                  8.096893   \n",
       "3                                  8.074946   \n",
       "4                                  8.054678   \n",
       "\n",
       "   secondary_cleaner.state.floatbank4_b_level  \\\n",
       "0                                 -501.289139   \n",
       "1                                 -499.634209   \n",
       "2                                 -500.827423   \n",
       "3                                 -499.474407   \n",
       "4                                 -500.397500   \n",
       "\n",
       "   secondary_cleaner.state.floatbank5_a_air  \\\n",
       "0                                  7.946562   \n",
       "1                                  7.958270   \n",
       "2                                  8.071056   \n",
       "3                                  7.897085   \n",
       "4                                  8.107890   \n",
       "\n",
       "   secondary_cleaner.state.floatbank5_a_level  \\\n",
       "0                                 -432.317850   \n",
       "1                                 -525.839648   \n",
       "2                                 -500.801673   \n",
       "3                                 -500.868509   \n",
       "4                                 -509.526725   \n",
       "\n",
       "   secondary_cleaner.state.floatbank5_b_air  \\\n",
       "0                                  4.872511   \n",
       "1                                  4.878850   \n",
       "2                                  4.905125   \n",
       "3                                  4.931400   \n",
       "4                                  4.957674   \n",
       "\n",
       "   secondary_cleaner.state.floatbank5_b_level  \\\n",
       "0                                 -500.037437   \n",
       "1                                 -500.162375   \n",
       "2                                 -499.828510   \n",
       "3                                 -499.963623   \n",
       "4                                 -500.360026   \n",
       "\n",
       "   secondary_cleaner.state.floatbank6_a_air  \\\n",
       "0                                 26.705889   \n",
       "1                                 25.019940   \n",
       "2                                 24.994862   \n",
       "3                                 24.948919   \n",
       "4                                 25.003331   \n",
       "\n",
       "   secondary_cleaner.state.floatbank6_a_level  rougher.output.recovery  \\\n",
       "0                                 -499.709414                89.993421   \n",
       "1                                 -499.819438                88.089657   \n",
       "2                                 -500.622559                88.412756   \n",
       "3                                 -498.709987                87.360133   \n",
       "4                                 -500.856333                83.236367   \n",
       "\n",
       "   final.output.recovery  \n",
       "0              70.273583  \n",
       "1              68.910432  \n",
       "2              68.143213  \n",
       "3              67.776393  \n",
       "4              61.467078  \n",
       "\n",
       "[5 rows x 55 columns]"
      ]
     },
     "execution_count": 9,
     "metadata": {},
     "output_type": "execute_result"
    }
   ],
   "source": [
    "test_date = test['date']              # создадим переменную с датами из тестовой выборки\n",
    "test['rougher.output.recovery'] = data.query('date in @test_date')['rougher.output.recovery'].reset_index(drop = True) # срез из\n",
    "# исходных данных по датам из тестовой выборки и признаку эффективности флотации добавляем в тестовую выборку\n",
    "test['final.output.recovery'] = data.query('date in @test_date')['final.output.recovery'].reset_index(drop = True) # срез из\n",
    "# исходных данных по датам из тестовой выборки и признаку финальной эффективности добавляем в тестовую выборку\n",
    "test.head()"
   ]
  },
  {
   "cell_type": "markdown",
   "metadata": {},
   "source": [
    "Удалим из обучающей вборки признаки, отсутствующие в тестовой для правильного теста будущей модели."
   ]
  },
  {
   "cell_type": "code",
   "execution_count": 10,
   "metadata": {},
   "outputs": [
    {
     "name": "stdout",
     "output_type": "stream",
     "text": [
      "Размеры обучающей выборки: (14149, 55)\n",
      "Размеры тестовой выборки: (5290, 55)\n"
     ]
    }
   ],
   "source": [
    "no_columns = pd.Series(test.columns.symmetric_difference(train.columns)) # список отсутствующих колонок в тестовой выборке\n",
    "train = train.drop(no_columns, axis = 1)            # удаление этих колонок в обучающей выборке\n",
    "print(f'Размеры обучающей выборки: {train.shape}') \n",
    "print(f'Размеры тестовой выборки: {test.shape}')\n"
   ]
  },
  {
   "cell_type": "markdown",
   "metadata": {},
   "source": [
    "**Вывод**\n",
    "\n",
    "Теперь обучающая и тестовая выборки имеют одинаковое число признаков."
   ]
  },
  {
   "cell_type": "markdown",
   "metadata": {},
   "source": [
    "### Заполнение пропусков"
   ]
  },
  {
   "cell_type": "markdown",
   "metadata": {},
   "source": [
    "Заполнять пропуски будем исходя из того факта, что измерения, проведённые в близкие времена должны быть похожи, поэтому в датафрейме, отсортированном по дате пропуск можно восстановить по соседним значениям.\n"
   ]
  },
  {
   "cell_type": "code",
   "execution_count": 11,
   "metadata": {},
   "outputs": [
    {
     "name": "stdout",
     "output_type": "stream",
     "text": [
      "<class 'pandas.core.frame.DataFrame'>\n",
      "RangeIndex: 19439 entries, 0 to 19438\n",
      "Columns: 56 entries, index to final.output.recovery\n",
      "dtypes: datetime64[ns](1), float64(54), int64(1)\n",
      "memory usage: 8.3 MB\n"
     ]
    }
   ],
   "source": [
    "test_train = pd.concat([test,train]).sort_values(by='date').reset_index() # объединение тестовой и обучающей выборки для запол\n",
    "# нения пропусков, поскольку нам необходимы данные с последовательным измененением времени при движении по датафрейму\n",
    "test_train.info(verbose=False)"
   ]
  },
  {
   "cell_type": "code",
   "execution_count": 12,
   "metadata": {},
   "outputs": [
    {
     "name": "stdout",
     "output_type": "stream",
     "text": [
      "<class 'pandas.core.frame.DataFrame'>\n",
      "RangeIndex: 19439 entries, 0 to 19438\n",
      "Data columns (total 56 columns):\n",
      " #   Column                                      Non-Null Count  Dtype         \n",
      "---  ------                                      --------------  -----         \n",
      " 0   index                                       19439 non-null  int64         \n",
      " 1   date                                        19439 non-null  datetime64[ns]\n",
      " 2   primary_cleaner.input.sulfate               19439 non-null  float64       \n",
      " 3   primary_cleaner.input.depressant            19439 non-null  float64       \n",
      " 4   primary_cleaner.input.feed_size             19439 non-null  float64       \n",
      " 5   primary_cleaner.input.xanthate              19439 non-null  float64       \n",
      " 6   primary_cleaner.state.floatbank8_a_air      19439 non-null  float64       \n",
      " 7   primary_cleaner.state.floatbank8_a_level    19439 non-null  float64       \n",
      " 8   primary_cleaner.state.floatbank8_b_air      19439 non-null  float64       \n",
      " 9   primary_cleaner.state.floatbank8_b_level    19439 non-null  float64       \n",
      " 10  primary_cleaner.state.floatbank8_c_air      19439 non-null  float64       \n",
      " 11  primary_cleaner.state.floatbank8_c_level    19439 non-null  float64       \n",
      " 12  primary_cleaner.state.floatbank8_d_air      19439 non-null  float64       \n",
      " 13  primary_cleaner.state.floatbank8_d_level    19439 non-null  float64       \n",
      " 14  rougher.input.feed_ag                       19439 non-null  float64       \n",
      " 15  rougher.input.feed_pb                       19439 non-null  float64       \n",
      " 16  rougher.input.feed_rate                     19439 non-null  float64       \n",
      " 17  rougher.input.feed_size                     19439 non-null  float64       \n",
      " 18  rougher.input.feed_sol                      19439 non-null  float64       \n",
      " 19  rougher.input.feed_au                       19439 non-null  float64       \n",
      " 20  rougher.input.floatbank10_sulfate           19439 non-null  float64       \n",
      " 21  rougher.input.floatbank10_xanthate          19439 non-null  float64       \n",
      " 22  rougher.input.floatbank11_sulfate           19439 non-null  float64       \n",
      " 23  rougher.input.floatbank11_xanthate          19439 non-null  float64       \n",
      " 24  rougher.state.floatbank10_a_air             19439 non-null  float64       \n",
      " 25  rougher.state.floatbank10_a_level           19439 non-null  float64       \n",
      " 26  rougher.state.floatbank10_b_air             19439 non-null  float64       \n",
      " 27  rougher.state.floatbank10_b_level           19439 non-null  float64       \n",
      " 28  rougher.state.floatbank10_c_air             19439 non-null  float64       \n",
      " 29  rougher.state.floatbank10_c_level           19439 non-null  float64       \n",
      " 30  rougher.state.floatbank10_d_air             19439 non-null  float64       \n",
      " 31  rougher.state.floatbank10_d_level           19439 non-null  float64       \n",
      " 32  rougher.state.floatbank10_e_air             19439 non-null  float64       \n",
      " 33  rougher.state.floatbank10_e_level           19439 non-null  float64       \n",
      " 34  rougher.state.floatbank10_f_air             19439 non-null  float64       \n",
      " 35  rougher.state.floatbank10_f_level           19439 non-null  float64       \n",
      " 36  secondary_cleaner.state.floatbank2_a_air    19439 non-null  float64       \n",
      " 37  secondary_cleaner.state.floatbank2_a_level  19439 non-null  float64       \n",
      " 38  secondary_cleaner.state.floatbank2_b_air    19439 non-null  float64       \n",
      " 39  secondary_cleaner.state.floatbank2_b_level  19439 non-null  float64       \n",
      " 40  secondary_cleaner.state.floatbank3_a_air    19439 non-null  float64       \n",
      " 41  secondary_cleaner.state.floatbank3_a_level  19439 non-null  float64       \n",
      " 42  secondary_cleaner.state.floatbank3_b_air    19439 non-null  float64       \n",
      " 43  secondary_cleaner.state.floatbank3_b_level  19439 non-null  float64       \n",
      " 44  secondary_cleaner.state.floatbank4_a_air    19439 non-null  float64       \n",
      " 45  secondary_cleaner.state.floatbank4_a_level  19439 non-null  float64       \n",
      " 46  secondary_cleaner.state.floatbank4_b_air    19439 non-null  float64       \n",
      " 47  secondary_cleaner.state.floatbank4_b_level  19439 non-null  float64       \n",
      " 48  secondary_cleaner.state.floatbank5_a_air    19439 non-null  float64       \n",
      " 49  secondary_cleaner.state.floatbank5_a_level  19439 non-null  float64       \n",
      " 50  secondary_cleaner.state.floatbank5_b_air    19439 non-null  float64       \n",
      " 51  secondary_cleaner.state.floatbank5_b_level  19439 non-null  float64       \n",
      " 52  secondary_cleaner.state.floatbank6_a_air    19439 non-null  float64       \n",
      " 53  secondary_cleaner.state.floatbank6_a_level  19439 non-null  float64       \n",
      " 54  rougher.output.recovery                     19439 non-null  float64       \n",
      " 55  final.output.recovery                       19439 non-null  float64       \n",
      "dtypes: datetime64[ns](1), float64(54), int64(1)\n",
      "memory usage: 8.3 MB\n"
     ]
    }
   ],
   "source": [
    "test_train = test_train.fillna(method='ffill') # заполняем пропуски предыдущим значением признака\n",
    "test_train.info()"
   ]
  },
  {
   "cell_type": "markdown",
   "metadata": {},
   "source": [
    "<div class=\"alert alert-warning\"> ⚠️\n",
    "<h3> Комментарий ревьюера v1</h3>\n",
    "\n",
    "Все верно, но тут можно было воспользоваться готовым методом fillna(method='ffill') и немного сэкономить время и облегчить код.\n"
   ]
  },
  {
   "cell_type": "markdown",
   "metadata": {},
   "source": [
    "<div class=\"alert alert-block alert-info\">\n",
    "\n",
    "Действительно, так оказалось проще. </div>"
   ]
  },
  {
   "cell_type": "code",
   "execution_count": 13,
   "metadata": {},
   "outputs": [
    {
     "data": {
      "text/html": [
       "<div>\n",
       "<style scoped>\n",
       "    .dataframe tbody tr th:only-of-type {\n",
       "        vertical-align: middle;\n",
       "    }\n",
       "\n",
       "    .dataframe tbody tr th {\n",
       "        vertical-align: top;\n",
       "    }\n",
       "\n",
       "    .dataframe thead th {\n",
       "        text-align: right;\n",
       "    }\n",
       "</style>\n",
       "<table border=\"1\" class=\"dataframe\">\n",
       "  <thead>\n",
       "    <tr style=\"text-align: right;\">\n",
       "      <th></th>\n",
       "      <th>date</th>\n",
       "      <th>primary_cleaner.input.sulfate</th>\n",
       "      <th>primary_cleaner.input.depressant</th>\n",
       "      <th>primary_cleaner.input.feed_size</th>\n",
       "      <th>primary_cleaner.input.xanthate</th>\n",
       "      <th>primary_cleaner.state.floatbank8_a_air</th>\n",
       "      <th>primary_cleaner.state.floatbank8_a_level</th>\n",
       "      <th>primary_cleaner.state.floatbank8_b_air</th>\n",
       "      <th>primary_cleaner.state.floatbank8_b_level</th>\n",
       "      <th>primary_cleaner.state.floatbank8_c_air</th>\n",
       "      <th>...</th>\n",
       "      <th>secondary_cleaner.state.floatbank4_b_air</th>\n",
       "      <th>secondary_cleaner.state.floatbank4_b_level</th>\n",
       "      <th>secondary_cleaner.state.floatbank5_a_air</th>\n",
       "      <th>secondary_cleaner.state.floatbank5_a_level</th>\n",
       "      <th>secondary_cleaner.state.floatbank5_b_air</th>\n",
       "      <th>secondary_cleaner.state.floatbank5_b_level</th>\n",
       "      <th>secondary_cleaner.state.floatbank6_a_air</th>\n",
       "      <th>secondary_cleaner.state.floatbank6_a_level</th>\n",
       "      <th>rougher.output.recovery</th>\n",
       "      <th>final.output.recovery</th>\n",
       "    </tr>\n",
       "  </thead>\n",
       "  <tbody>\n",
       "    <tr>\n",
       "      <th>0</th>\n",
       "      <td>2016-09-01 00:59:59</td>\n",
       "      <td>210.800909</td>\n",
       "      <td>14.993118</td>\n",
       "      <td>8.080000</td>\n",
       "      <td>1.005021</td>\n",
       "      <td>1398.981301</td>\n",
       "      <td>-500.225577</td>\n",
       "      <td>1399.144926</td>\n",
       "      <td>-499.919735</td>\n",
       "      <td>1400.102998</td>\n",
       "      <td>...</td>\n",
       "      <td>8.016656</td>\n",
       "      <td>-501.289139</td>\n",
       "      <td>7.946562</td>\n",
       "      <td>-432.317850</td>\n",
       "      <td>4.872511</td>\n",
       "      <td>-500.037437</td>\n",
       "      <td>26.705889</td>\n",
       "      <td>-499.709414</td>\n",
       "      <td>89.993421</td>\n",
       "      <td>70.273583</td>\n",
       "    </tr>\n",
       "    <tr>\n",
       "      <th>1</th>\n",
       "      <td>2016-09-01 01:59:59</td>\n",
       "      <td>215.392455</td>\n",
       "      <td>14.987471</td>\n",
       "      <td>8.080000</td>\n",
       "      <td>0.990469</td>\n",
       "      <td>1398.777912</td>\n",
       "      <td>-500.057435</td>\n",
       "      <td>1398.055362</td>\n",
       "      <td>-499.778182</td>\n",
       "      <td>1396.151033</td>\n",
       "      <td>...</td>\n",
       "      <td>8.130979</td>\n",
       "      <td>-499.634209</td>\n",
       "      <td>7.958270</td>\n",
       "      <td>-525.839648</td>\n",
       "      <td>4.878850</td>\n",
       "      <td>-500.162375</td>\n",
       "      <td>25.019940</td>\n",
       "      <td>-499.819438</td>\n",
       "      <td>88.089657</td>\n",
       "      <td>68.910432</td>\n",
       "    </tr>\n",
       "    <tr>\n",
       "      <th>2</th>\n",
       "      <td>2016-09-01 02:59:59</td>\n",
       "      <td>215.259946</td>\n",
       "      <td>12.884934</td>\n",
       "      <td>7.786667</td>\n",
       "      <td>0.996043</td>\n",
       "      <td>1398.493666</td>\n",
       "      <td>-500.868360</td>\n",
       "      <td>1398.860436</td>\n",
       "      <td>-499.764529</td>\n",
       "      <td>1398.075709</td>\n",
       "      <td>...</td>\n",
       "      <td>8.096893</td>\n",
       "      <td>-500.827423</td>\n",
       "      <td>8.071056</td>\n",
       "      <td>-500.801673</td>\n",
       "      <td>4.905125</td>\n",
       "      <td>-499.828510</td>\n",
       "      <td>24.994862</td>\n",
       "      <td>-500.622559</td>\n",
       "      <td>88.412756</td>\n",
       "      <td>68.143213</td>\n",
       "    </tr>\n",
       "    <tr>\n",
       "      <th>3</th>\n",
       "      <td>2016-09-01 03:59:59</td>\n",
       "      <td>215.336236</td>\n",
       "      <td>12.006805</td>\n",
       "      <td>7.640000</td>\n",
       "      <td>0.863514</td>\n",
       "      <td>1399.618111</td>\n",
       "      <td>-498.863574</td>\n",
       "      <td>1397.440120</td>\n",
       "      <td>-499.211024</td>\n",
       "      <td>1400.129303</td>\n",
       "      <td>...</td>\n",
       "      <td>8.074946</td>\n",
       "      <td>-499.474407</td>\n",
       "      <td>7.897085</td>\n",
       "      <td>-500.868509</td>\n",
       "      <td>4.931400</td>\n",
       "      <td>-499.963623</td>\n",
       "      <td>24.948919</td>\n",
       "      <td>-498.709987</td>\n",
       "      <td>87.360133</td>\n",
       "      <td>67.776393</td>\n",
       "    </tr>\n",
       "    <tr>\n",
       "      <th>4</th>\n",
       "      <td>2016-09-01 04:59:59</td>\n",
       "      <td>199.099327</td>\n",
       "      <td>10.682530</td>\n",
       "      <td>7.530000</td>\n",
       "      <td>0.805575</td>\n",
       "      <td>1401.268123</td>\n",
       "      <td>-500.808305</td>\n",
       "      <td>1398.128818</td>\n",
       "      <td>-499.504543</td>\n",
       "      <td>1402.172226</td>\n",
       "      <td>...</td>\n",
       "      <td>8.054678</td>\n",
       "      <td>-500.397500</td>\n",
       "      <td>8.107890</td>\n",
       "      <td>-509.526725</td>\n",
       "      <td>4.957674</td>\n",
       "      <td>-500.360026</td>\n",
       "      <td>25.003331</td>\n",
       "      <td>-500.856333</td>\n",
       "      <td>83.236367</td>\n",
       "      <td>61.467078</td>\n",
       "    </tr>\n",
       "  </tbody>\n",
       "</table>\n",
       "<p>5 rows × 55 columns</p>\n",
       "</div>"
      ],
      "text/plain": [
       "                 date  primary_cleaner.input.sulfate  \\\n",
       "0 2016-09-01 00:59:59                     210.800909   \n",
       "1 2016-09-01 01:59:59                     215.392455   \n",
       "2 2016-09-01 02:59:59                     215.259946   \n",
       "3 2016-09-01 03:59:59                     215.336236   \n",
       "4 2016-09-01 04:59:59                     199.099327   \n",
       "\n",
       "   primary_cleaner.input.depressant  primary_cleaner.input.feed_size  \\\n",
       "0                         14.993118                         8.080000   \n",
       "1                         14.987471                         8.080000   \n",
       "2                         12.884934                         7.786667   \n",
       "3                         12.006805                         7.640000   \n",
       "4                         10.682530                         7.530000   \n",
       "\n",
       "   primary_cleaner.input.xanthate  primary_cleaner.state.floatbank8_a_air  \\\n",
       "0                        1.005021                             1398.981301   \n",
       "1                        0.990469                             1398.777912   \n",
       "2                        0.996043                             1398.493666   \n",
       "3                        0.863514                             1399.618111   \n",
       "4                        0.805575                             1401.268123   \n",
       "\n",
       "   primary_cleaner.state.floatbank8_a_level  \\\n",
       "0                               -500.225577   \n",
       "1                               -500.057435   \n",
       "2                               -500.868360   \n",
       "3                               -498.863574   \n",
       "4                               -500.808305   \n",
       "\n",
       "   primary_cleaner.state.floatbank8_b_air  \\\n",
       "0                             1399.144926   \n",
       "1                             1398.055362   \n",
       "2                             1398.860436   \n",
       "3                             1397.440120   \n",
       "4                             1398.128818   \n",
       "\n",
       "   primary_cleaner.state.floatbank8_b_level  \\\n",
       "0                               -499.919735   \n",
       "1                               -499.778182   \n",
       "2                               -499.764529   \n",
       "3                               -499.211024   \n",
       "4                               -499.504543   \n",
       "\n",
       "   primary_cleaner.state.floatbank8_c_air  ...  \\\n",
       "0                             1400.102998  ...   \n",
       "1                             1396.151033  ...   \n",
       "2                             1398.075709  ...   \n",
       "3                             1400.129303  ...   \n",
       "4                             1402.172226  ...   \n",
       "\n",
       "   secondary_cleaner.state.floatbank4_b_air  \\\n",
       "0                                  8.016656   \n",
       "1                                  8.130979   \n",
       "2                                  8.096893   \n",
       "3                                  8.074946   \n",
       "4                                  8.054678   \n",
       "\n",
       "   secondary_cleaner.state.floatbank4_b_level  \\\n",
       "0                                 -501.289139   \n",
       "1                                 -499.634209   \n",
       "2                                 -500.827423   \n",
       "3                                 -499.474407   \n",
       "4                                 -500.397500   \n",
       "\n",
       "   secondary_cleaner.state.floatbank5_a_air  \\\n",
       "0                                  7.946562   \n",
       "1                                  7.958270   \n",
       "2                                  8.071056   \n",
       "3                                  7.897085   \n",
       "4                                  8.107890   \n",
       "\n",
       "   secondary_cleaner.state.floatbank5_a_level  \\\n",
       "0                                 -432.317850   \n",
       "1                                 -525.839648   \n",
       "2                                 -500.801673   \n",
       "3                                 -500.868509   \n",
       "4                                 -509.526725   \n",
       "\n",
       "   secondary_cleaner.state.floatbank5_b_air  \\\n",
       "0                                  4.872511   \n",
       "1                                  4.878850   \n",
       "2                                  4.905125   \n",
       "3                                  4.931400   \n",
       "4                                  4.957674   \n",
       "\n",
       "   secondary_cleaner.state.floatbank5_b_level  \\\n",
       "0                                 -500.037437   \n",
       "1                                 -500.162375   \n",
       "2                                 -499.828510   \n",
       "3                                 -499.963623   \n",
       "4                                 -500.360026   \n",
       "\n",
       "   secondary_cleaner.state.floatbank6_a_air  \\\n",
       "0                                 26.705889   \n",
       "1                                 25.019940   \n",
       "2                                 24.994862   \n",
       "3                                 24.948919   \n",
       "4                                 25.003331   \n",
       "\n",
       "   secondary_cleaner.state.floatbank6_a_level  rougher.output.recovery  \\\n",
       "0                                 -499.709414                89.993421   \n",
       "1                                 -499.819438                88.089657   \n",
       "2                                 -500.622559                88.412756   \n",
       "3                                 -498.709987                87.360133   \n",
       "4                                 -500.856333                83.236367   \n",
       "\n",
       "   final.output.recovery  \n",
       "0              70.273583  \n",
       "1              68.910432  \n",
       "2              68.143213  \n",
       "3              67.776393  \n",
       "4              61.467078  \n",
       "\n",
       "[5 rows x 55 columns]"
      ]
     },
     "metadata": {},
     "output_type": "display_data"
    },
    {
     "data": {
      "text/html": [
       "<div>\n",
       "<style scoped>\n",
       "    .dataframe tbody tr th:only-of-type {\n",
       "        vertical-align: middle;\n",
       "    }\n",
       "\n",
       "    .dataframe tbody tr th {\n",
       "        vertical-align: top;\n",
       "    }\n",
       "\n",
       "    .dataframe thead th {\n",
       "        text-align: right;\n",
       "    }\n",
       "</style>\n",
       "<table border=\"1\" class=\"dataframe\">\n",
       "  <thead>\n",
       "    <tr style=\"text-align: right;\">\n",
       "      <th></th>\n",
       "      <th>date</th>\n",
       "      <th>primary_cleaner.input.sulfate</th>\n",
       "      <th>primary_cleaner.input.depressant</th>\n",
       "      <th>primary_cleaner.input.feed_size</th>\n",
       "      <th>primary_cleaner.input.xanthate</th>\n",
       "      <th>primary_cleaner.state.floatbank8_a_air</th>\n",
       "      <th>primary_cleaner.state.floatbank8_a_level</th>\n",
       "      <th>primary_cleaner.state.floatbank8_b_air</th>\n",
       "      <th>primary_cleaner.state.floatbank8_b_level</th>\n",
       "      <th>primary_cleaner.state.floatbank8_c_air</th>\n",
       "      <th>...</th>\n",
       "      <th>secondary_cleaner.state.floatbank4_b_air</th>\n",
       "      <th>secondary_cleaner.state.floatbank4_b_level</th>\n",
       "      <th>secondary_cleaner.state.floatbank5_a_air</th>\n",
       "      <th>secondary_cleaner.state.floatbank5_a_level</th>\n",
       "      <th>secondary_cleaner.state.floatbank5_b_air</th>\n",
       "      <th>secondary_cleaner.state.floatbank5_b_level</th>\n",
       "      <th>secondary_cleaner.state.floatbank6_a_air</th>\n",
       "      <th>secondary_cleaner.state.floatbank6_a_level</th>\n",
       "      <th>rougher.output.recovery</th>\n",
       "      <th>final.output.recovery</th>\n",
       "    </tr>\n",
       "  </thead>\n",
       "  <tbody>\n",
       "    <tr>\n",
       "      <th>0</th>\n",
       "      <td>2016-01-15 00:00:00</td>\n",
       "      <td>127.092003</td>\n",
       "      <td>10.128295</td>\n",
       "      <td>7.25</td>\n",
       "      <td>0.988759</td>\n",
       "      <td>1549.775757</td>\n",
       "      <td>-498.912140</td>\n",
       "      <td>1551.434204</td>\n",
       "      <td>-516.403442</td>\n",
       "      <td>1549.873901</td>\n",
       "      <td>...</td>\n",
       "      <td>12.099931</td>\n",
       "      <td>-504.715942</td>\n",
       "      <td>9.925633</td>\n",
       "      <td>-498.310211</td>\n",
       "      <td>8.079666</td>\n",
       "      <td>-500.470978</td>\n",
       "      <td>14.151341</td>\n",
       "      <td>-605.841980</td>\n",
       "      <td>87.107763</td>\n",
       "      <td>70.541216</td>\n",
       "    </tr>\n",
       "    <tr>\n",
       "      <th>1</th>\n",
       "      <td>2016-01-15 01:00:00</td>\n",
       "      <td>125.629232</td>\n",
       "      <td>10.296251</td>\n",
       "      <td>7.25</td>\n",
       "      <td>1.002663</td>\n",
       "      <td>1576.166671</td>\n",
       "      <td>-500.904965</td>\n",
       "      <td>1575.950626</td>\n",
       "      <td>-499.865889</td>\n",
       "      <td>1575.994189</td>\n",
       "      <td>...</td>\n",
       "      <td>11.950531</td>\n",
       "      <td>-501.331529</td>\n",
       "      <td>10.039245</td>\n",
       "      <td>-500.169983</td>\n",
       "      <td>7.984757</td>\n",
       "      <td>-500.582168</td>\n",
       "      <td>13.998353</td>\n",
       "      <td>-599.787184</td>\n",
       "      <td>86.843261</td>\n",
       "      <td>69.266198</td>\n",
       "    </tr>\n",
       "    <tr>\n",
       "      <th>2</th>\n",
       "      <td>2016-01-15 02:00:00</td>\n",
       "      <td>123.819808</td>\n",
       "      <td>11.316280</td>\n",
       "      <td>7.25</td>\n",
       "      <td>0.991265</td>\n",
       "      <td>1601.556163</td>\n",
       "      <td>-499.997791</td>\n",
       "      <td>1600.386685</td>\n",
       "      <td>-500.607762</td>\n",
       "      <td>1602.003542</td>\n",
       "      <td>...</td>\n",
       "      <td>11.912783</td>\n",
       "      <td>-501.133383</td>\n",
       "      <td>10.070913</td>\n",
       "      <td>-500.129135</td>\n",
       "      <td>8.013877</td>\n",
       "      <td>-500.517572</td>\n",
       "      <td>14.028663</td>\n",
       "      <td>-601.427363</td>\n",
       "      <td>86.842308</td>\n",
       "      <td>68.116445</td>\n",
       "    </tr>\n",
       "    <tr>\n",
       "      <th>3</th>\n",
       "      <td>2016-01-15 03:00:00</td>\n",
       "      <td>122.270188</td>\n",
       "      <td>11.322140</td>\n",
       "      <td>7.25</td>\n",
       "      <td>0.996739</td>\n",
       "      <td>1599.968720</td>\n",
       "      <td>-500.951778</td>\n",
       "      <td>1600.659236</td>\n",
       "      <td>-499.677094</td>\n",
       "      <td>1600.304144</td>\n",
       "      <td>...</td>\n",
       "      <td>11.999550</td>\n",
       "      <td>-501.193686</td>\n",
       "      <td>9.970366</td>\n",
       "      <td>-499.201640</td>\n",
       "      <td>7.977324</td>\n",
       "      <td>-500.255908</td>\n",
       "      <td>14.005551</td>\n",
       "      <td>-599.996129</td>\n",
       "      <td>87.226430</td>\n",
       "      <td>68.347543</td>\n",
       "    </tr>\n",
       "    <tr>\n",
       "      <th>4</th>\n",
       "      <td>2016-01-15 04:00:00</td>\n",
       "      <td>117.988169</td>\n",
       "      <td>11.913613</td>\n",
       "      <td>7.25</td>\n",
       "      <td>1.009869</td>\n",
       "      <td>1601.339707</td>\n",
       "      <td>-498.975456</td>\n",
       "      <td>1601.437854</td>\n",
       "      <td>-500.323246</td>\n",
       "      <td>1599.581894</td>\n",
       "      <td>...</td>\n",
       "      <td>11.953070</td>\n",
       "      <td>-501.053894</td>\n",
       "      <td>9.925709</td>\n",
       "      <td>-501.686727</td>\n",
       "      <td>7.894242</td>\n",
       "      <td>-500.356035</td>\n",
       "      <td>13.996647</td>\n",
       "      <td>-601.496691</td>\n",
       "      <td>86.688794</td>\n",
       "      <td>66.927016</td>\n",
       "    </tr>\n",
       "  </tbody>\n",
       "</table>\n",
       "<p>5 rows × 55 columns</p>\n",
       "</div>"
      ],
      "text/plain": [
       "                 date  primary_cleaner.input.sulfate  \\\n",
       "0 2016-01-15 00:00:00                     127.092003   \n",
       "1 2016-01-15 01:00:00                     125.629232   \n",
       "2 2016-01-15 02:00:00                     123.819808   \n",
       "3 2016-01-15 03:00:00                     122.270188   \n",
       "4 2016-01-15 04:00:00                     117.988169   \n",
       "\n",
       "   primary_cleaner.input.depressant  primary_cleaner.input.feed_size  \\\n",
       "0                         10.128295                             7.25   \n",
       "1                         10.296251                             7.25   \n",
       "2                         11.316280                             7.25   \n",
       "3                         11.322140                             7.25   \n",
       "4                         11.913613                             7.25   \n",
       "\n",
       "   primary_cleaner.input.xanthate  primary_cleaner.state.floatbank8_a_air  \\\n",
       "0                        0.988759                             1549.775757   \n",
       "1                        1.002663                             1576.166671   \n",
       "2                        0.991265                             1601.556163   \n",
       "3                        0.996739                             1599.968720   \n",
       "4                        1.009869                             1601.339707   \n",
       "\n",
       "   primary_cleaner.state.floatbank8_a_level  \\\n",
       "0                               -498.912140   \n",
       "1                               -500.904965   \n",
       "2                               -499.997791   \n",
       "3                               -500.951778   \n",
       "4                               -498.975456   \n",
       "\n",
       "   primary_cleaner.state.floatbank8_b_air  \\\n",
       "0                             1551.434204   \n",
       "1                             1575.950626   \n",
       "2                             1600.386685   \n",
       "3                             1600.659236   \n",
       "4                             1601.437854   \n",
       "\n",
       "   primary_cleaner.state.floatbank8_b_level  \\\n",
       "0                               -516.403442   \n",
       "1                               -499.865889   \n",
       "2                               -500.607762   \n",
       "3                               -499.677094   \n",
       "4                               -500.323246   \n",
       "\n",
       "   primary_cleaner.state.floatbank8_c_air  ...  \\\n",
       "0                             1549.873901  ...   \n",
       "1                             1575.994189  ...   \n",
       "2                             1602.003542  ...   \n",
       "3                             1600.304144  ...   \n",
       "4                             1599.581894  ...   \n",
       "\n",
       "   secondary_cleaner.state.floatbank4_b_air  \\\n",
       "0                                 12.099931   \n",
       "1                                 11.950531   \n",
       "2                                 11.912783   \n",
       "3                                 11.999550   \n",
       "4                                 11.953070   \n",
       "\n",
       "   secondary_cleaner.state.floatbank4_b_level  \\\n",
       "0                                 -504.715942   \n",
       "1                                 -501.331529   \n",
       "2                                 -501.133383   \n",
       "3                                 -501.193686   \n",
       "4                                 -501.053894   \n",
       "\n",
       "   secondary_cleaner.state.floatbank5_a_air  \\\n",
       "0                                  9.925633   \n",
       "1                                 10.039245   \n",
       "2                                 10.070913   \n",
       "3                                  9.970366   \n",
       "4                                  9.925709   \n",
       "\n",
       "   secondary_cleaner.state.floatbank5_a_level  \\\n",
       "0                                 -498.310211   \n",
       "1                                 -500.169983   \n",
       "2                                 -500.129135   \n",
       "3                                 -499.201640   \n",
       "4                                 -501.686727   \n",
       "\n",
       "   secondary_cleaner.state.floatbank5_b_air  \\\n",
       "0                                  8.079666   \n",
       "1                                  7.984757   \n",
       "2                                  8.013877   \n",
       "3                                  7.977324   \n",
       "4                                  7.894242   \n",
       "\n",
       "   secondary_cleaner.state.floatbank5_b_level  \\\n",
       "0                                 -500.470978   \n",
       "1                                 -500.582168   \n",
       "2                                 -500.517572   \n",
       "3                                 -500.255908   \n",
       "4                                 -500.356035   \n",
       "\n",
       "   secondary_cleaner.state.floatbank6_a_air  \\\n",
       "0                                 14.151341   \n",
       "1                                 13.998353   \n",
       "2                                 14.028663   \n",
       "3                                 14.005551   \n",
       "4                                 13.996647   \n",
       "\n",
       "   secondary_cleaner.state.floatbank6_a_level  rougher.output.recovery  \\\n",
       "0                                 -605.841980                87.107763   \n",
       "1                                 -599.787184                86.843261   \n",
       "2                                 -601.427363                86.842308   \n",
       "3                                 -599.996129                87.226430   \n",
       "4                                 -601.496691                86.688794   \n",
       "\n",
       "   final.output.recovery  \n",
       "0              70.541216  \n",
       "1              69.266198  \n",
       "2              68.116445  \n",
       "3              68.347543  \n",
       "4              66.927016  \n",
       "\n",
       "[5 rows x 55 columns]"
      ]
     },
     "execution_count": 13,
     "metadata": {},
     "output_type": "execute_result"
    }
   ],
   "source": [
    "test_date = test['date']         # создадим переменную с датами из тестовой выборки\n",
    "train_date = train['date']       # создадим переменную с датами из обучающей выборки\n",
    "\n",
    "test =  test_train.query('date in @test_date').reset_index(drop=True).drop('index',axis=1)  # делаем срез по тем датам, \n",
    "# которые есть в тестовой выборке\n",
    "train = test_train.query('date in @train_date').reset_index(drop=True).drop('index',axis=1) # делаем срез по тем датам, \n",
    "# которые есть в обучающей выборке\n",
    "display(test.head())\n",
    "train.head()"
   ]
  },
  {
   "cell_type": "markdown",
   "metadata": {},
   "source": [
    "## Анализ данных"
   ]
  },
  {
   "cell_type": "code",
   "execution_count": 14,
   "metadata": {},
   "outputs": [
    {
     "data": {
      "image/png": "[encoded data removed]",
      "text/plain": [
       "<Figure size 432x288 with 1 Axes>"
      ]
     },
     "metadata": {
      "needs_background": "light"
     },
     "output_type": "display_data"
    },
    {
     "data": {
      "image/png": "[encoded data removed]",
      "text/plain": [
       "<Figure size 432x288 with 1 Axes>"
      ]
     },
     "metadata": {
      "needs_background": "light"
     },
     "output_type": "display_data"
    },
    {
     "data": {
      "image/png": "[encoded data removed]",
      "text/plain": [
       "<Figure size 432x288 with 1 Axes>"
      ]
     },
     "metadata": {
      "needs_background": "light"
     },
     "output_type": "display_data"
    }
   ],
   "source": [
    "def concentration(metal):                                      # функция подсчёта средней концентрации\n",
    "    concentr = []\n",
    "    for i in  data.columns:                                    # цикл по всем признакам\n",
    "        if 'concentrate_'+metal in i or 'feed_'+metal  in i:   # если признак содержит в названии концентрацию\n",
    "                                                               # и связан с выбранным металлом, то \n",
    "            concentr.append(data[i].mean())        # считаем среднюю концентрацию \n",
    "            \n",
    "    \n",
    "    a = pd.Series(concentr, index=[3,2,0,1]).sort_index() # располагаем концентрации в порядке технологического процесса\n",
    "    a.index = ['Сырьё','Черновой конц.','Конц. после 1 очистки', 'Конц. после 2 очистки']\n",
    "\n",
    "    return a\n",
    "\n",
    "plt.title(\"Золото\")\n",
    "concentration('au').plot(kind='bar').set_ylabel(\"Концентрация\")\n",
    "plt.show()\n",
    "plt.title(\"Серебро\")\n",
    "concentration('ag').plot(kind='bar').set_ylabel(\"Концентрация\")\n",
    "plt.show()\n",
    "plt.title(\"Свинец\")\n",
    "concentration('pb').plot(kind='bar').set_ylabel(\"Концентрация\")\n",
    "plt.show()"
   ]
  },
  {
   "cell_type": "markdown",
   "metadata": {},
   "source": [
    "**Вывод**\n",
    "\n",
    "По мере прохождения технологических циклов концентрация золота увеличивается, серебра - меняется не монотонно, свинца - растёт."
   ]
  },
  {
   "cell_type": "markdown",
   "metadata": {},
   "source": [
    "<div class=\"alert alert-success\"> ✅ \n",
    "<h3> Комментарий ревьюера v1</h3>\n",
    "\n",
    "Хороший способ визуализации"
   ]
  },
  {
   "cell_type": "markdown",
   "metadata": {},
   "source": [
    "### Проверка распределений гранул сырья"
   ]
  },
  {
   "cell_type": "code",
   "execution_count": 15,
   "metadata": {
    "scrolled": true
   },
   "outputs": [
    {
     "data": {
      "text/plain": [
       "<AxesSubplot:>"
      ]
     },
     "execution_count": 15,
     "metadata": {},
     "output_type": "execute_result"
    },
    {
     "data": {
      "image/png": "[encoded data removed]",
      "text/plain": [
       "<Figure size 432x288 with 1 Axes>"
      ]
     },
     "metadata": {
      "needs_background": "light"
     },
     "output_type": "display_data"
    }
   ],
   "source": [
    "train['rougher.input.feed_size'].hist(bins=100, range = (0,200),  density=True) # распределение гранул сырья в обучающей выборке\n",
    "test['rougher.input.feed_size'].hist(bins=100, range = (0,200), density=True) # распределение гранул сырья в тестовой выборке"
   ]
  },
  {
   "cell_type": "markdown",
   "metadata": {},
   "source": [
    "<div class=\"alert alert-warning\"> ⚠️\n",
    "<h3> Комментарий ревьюера v1</h3>\n",
    "\n",
    "Было бы корректнее строить гистограммы не с абсолютными значениями, а с относительными, так как количество данных в train/test датасетах отличается. Например, с помощью sns.distplot или же просто добавить `density=True` в параметры `plt.hist()`.\n",
    "\n"
   ]
  },
  {
   "cell_type": "markdown",
   "metadata": {},
   "source": [
    "<div class=\"alert alert-block alert-info\">\n",
    "\n",
    "Исправил. </div>"
   ]
  },
  {
   "cell_type": "markdown",
   "metadata": {},
   "source": [
    "Выдвигаем гипотезу H0, что распределения похожи. H1 - распределения отличаются."
   ]
  },
  {
   "cell_type": "code",
   "execution_count": 16,
   "metadata": {},
   "outputs": [
    {
     "name": "stdout",
     "output_type": "stream",
     "text": [
      "p-значение:  5.1997046130555955e-213\n",
      "Отвергаем нулевую гипотезу\n"
     ]
    }
   ],
   "source": [
    "alpha = 0.05  # пороговое значение устанавливаем на 5% \n",
    "\n",
    "feed_size_train = train['rougher.input.feed_size']       \n",
    "feed_size_test = test['rougher.input.feed_size']\n",
    "\n",
    "results = st.ks_2samp(feed_size_train,feed_size_test)     # критерий Колмогорова-Смирнова\n",
    "\n",
    "\n",
    "print('p-значение: ', results.pvalue)                    # выводим p-value на экран\n",
    "\n",
    "if results.pvalue < alpha:                               # сравниваем p-value с пороговым значением\n",
    "    print(\"Отвергаем нулевую гипотезу\")\n",
    "else:\n",
    "    print(\"Не получилось отвергнуть нулевую гипотезу\")"
   ]
  },
  {
   "cell_type": "markdown",
   "metadata": {},
   "source": [
    "**Вывод**\n",
    "\n",
    "Подозрения о том, что распределения отличаются подтвердились и критерием Колмогорова-Смирнова. Поэтому правильней, чтобы обучение и проверка модели проходили на других выборках. Но поскольку наша задача, всё-таки, использовать уже готовые выборки, придётся смириться с грядущей ошибкой в оценке."
   ]
  },
  {
   "cell_type": "markdown",
   "metadata": {},
   "source": [
    "<div class=\"alert alert-success\"> ✅ \n",
    "<h3> Комментарий ревьюера v1</h3>\n",
    "\n",
    "Ага, придется так работать =( Но выводы ты сделал верные. Я бы в таком случае попросил заказчиков прислать новые нормальные данные, если есть на это время и деньги"
   ]
  },
  {
   "cell_type": "markdown",
   "metadata": {},
   "source": [
    "## Исследование поведения суммарной концентрации всех веществ"
   ]
  },
  {
   "cell_type": "markdown",
   "metadata": {},
   "source": [
    "Поскольку в тестовой выборке представлены не все параметры, которые нужны для расчёта суммарной концентрации, то считать её мы будем из исходных данных."
   ]
  },
  {
   "cell_type": "code",
   "execution_count": 17,
   "metadata": {},
   "outputs": [
    {
     "name": "stdout",
     "output_type": "stream",
     "text": [
      "Средняя концентрация всех веществ сырья 57.4079259232796\n",
      "Средняя концентрация всех веществ чернового концентрата 47.97903743949381\n",
      "Средняя концентрация всех веществ готового концентрата 68.72756159662546\n"
     ]
    },
    {
     "data": {
      "image/png": "[encoded data removed]",
      "text/plain": [
       "<Figure size 432x288 with 1 Axes>"
      ]
     },
     "metadata": {
      "needs_background": "light"
     },
     "output_type": "display_data"
    }
   ],
   "source": [
    "sum_concentration_1 = data['rougher.input.feed_ag'] + data['rougher.input.feed_au'] + \\\n",
    "data['rougher.input.feed_pb'] + data['rougher.input.feed_sol']               # расчёт суммарной концентрации в сырье\n",
    "sum_concentration_1.hist(bins=100, range = (0,100))                                              # построение гистограммы\n",
    "print(f'Средняя концентрация всех веществ сырья {sum_concentration_1.mean()}')                   \n",
    "\n",
    "\n",
    "sum_concentration_2 = data['rougher.output.concentrate_ag'] + data['rougher.output.concentrate_ag'] + \\\n",
    "data['rougher.output.concentrate_ag'] + data['rougher.output.concentrate_ag']         # расчёт суммарной концентрации в \n",
    "# черновом концентрате\n",
    "sum_concentration_2.hist(bins=100, range = (0,100))\n",
    "print(f'Средняя концентрация всех веществ чернового концентрата {sum_concentration_2.mean()}')\n",
    "\n",
    "sum_concentration = data['final.output.concentrate_ag'] + data['final.output.concentrate_au'] + \\\n",
    "data['final.output.concentrate_pb'] + data['final.output.concentrate_sol']   # расчёт суммарной концентрации в финальном \n",
    "# концентрате\n",
    "sum_concentration.hist(bins=100, range = (0,100))\n",
    "plt.legend(['Сырьё', 'Черновой концентрат','Готовый концентрат'])                               # создание легенды\n",
    "print(f'Средняя концентрация всех веществ готового концентрата {sum_concentration.mean()}')\n",
    "\n",
    "data['sum_concentration_feed'] = sum_concentration_1                #\n",
    "data['sum_concentration_rougher'] = sum_concentration_2             #   добавление этих новых метрик в исходные данные\n",
    "data['sum_concentration_final'] = sum_concentration                 #\n",
    "\n"
   ]
  },
  {
   "cell_type": "markdown",
   "metadata": {},
   "source": [
    "**Вывод**\n",
    "\n",
    "Из графика видно, что распределения концентраций всех веществ по трём стадиям сильно различаются. Самый узкий пик (самый малый разброс) имеет распределение концентрации готового сырья. Самый большой разброс имеет распределение концентраций чернового концентрата. Средняя концентрация веществ после флотации падает, а после двух этапов очистки - растёт.\n",
    "\n",
    "В распределениях обнаружены артефакты в виде длинных хвостов, соответствующих малым значениям концентрации или вообще нулевым значениям. Такие данные нужно удалить из рассмотрения. Границей адекватного значения концетрации было выбрано значение 20%, поскольку большая часть всех распределений лежит правее этой цифры. "
   ]
  },
  {
   "cell_type": "markdown",
   "metadata": {},
   "source": [
    "### Удаление артефактов"
   ]
  },
  {
   "cell_type": "markdown",
   "metadata": {},
   "source": [
    "Вначале, удалим лишние данные из исходных данных."
   ]
  },
  {
   "cell_type": "code",
   "execution_count": 18,
   "metadata": {},
   "outputs": [
    {
     "data": {
      "text/plain": [
       "<AxesSubplot:>"
      ]
     },
     "execution_count": 18,
     "metadata": {},
     "output_type": "execute_result"
    },
    {
     "data": {
      "image/png": "[encoded data removed]",
      "text/plain": [
       "<Figure size 432x288 with 1 Axes>"
      ]
     },
     "metadata": {
      "needs_background": "light"
     },
     "output_type": "display_data"
    }
   ],
   "source": [
    "data = data.query('sum_concentration_feed > 20 and sum_concentration_rougher > 20 and sum_concentration_final > 20') # убираем\n",
    "# данные в исходных данных, где параметры суммарной концентрации явно занижены\n",
    "data['sum_concentration_feed'].hist(bins=100, range = (0,100))       #\n",
    "data['sum_concentration_rougher'].hist(bins=100, range = (0,100))    # проверяем обрезку\n",
    "data['sum_concentration_final'].hist(bins=100, range = (0,100))      #"
   ]
  },
  {
   "cell_type": "code",
   "execution_count": 19,
   "metadata": {},
   "outputs": [
    {
     "name": "stdout",
     "output_type": "stream",
     "text": [
      "Размеры тестовой выборки до обрезки:(5290, 55) и после: (5117, 55)\n",
      "Размеры обучающей выборки до обрезки: (13350, 55) и после: (13350, 55)\n"
     ]
    }
   ],
   "source": [
    "good_date = data['date']      # создадим переменную, в которую положим дату объектов после обрезки\n",
    "test_before = test\n",
    "train_before = train\n",
    "test = test.query('date in @good_date').reset_index(drop=True)   # выберем в тестовой выборке только те\n",
    "# объекты, которые присутствуют в исходных данных после удаления артефактов\n",
    "train = train.query('date in @good_date').reset_index(drop=True) # выберем в обучающей выборке только те\n",
    "# объекты, которые присутствуют в исходных данных после удаления артефактов\n",
    "print(f'Размеры тестовой выборки до обрезки:{test_before.shape} и после: {test.shape}')\n",
    "print(f'Размеры обучающей выборки до обрезки: {train.shape} и после: {train.shape}')\n"
   ]
  },
  {
   "cell_type": "markdown",
   "metadata": {},
   "source": [
    "**Вывод**\n",
    "\n",
    "Все объекты с сильно заниженными значениями суммарной концентрации попали в тестовую выборку. Мы их из рассмотрения убрали."
   ]
  },
  {
   "cell_type": "markdown",
   "metadata": {},
   "source": [
    "<div class=\"alert alert-success\"> ✅ \n",
    "<h3> Комментарий ревьюера v1</h3>\n",
    "\n",
    "Все верно, такие выбросы маловероятны, лучше их убрать.\n",
    "\n"
   ]
  },
  {
   "cell_type": "markdown",
   "metadata": {},
   "source": [
    "## Модель"
   ]
  },
  {
   "cell_type": "markdown",
   "metadata": {},
   "source": [
    "### Функция для расчёта sMAPE"
   ]
  },
  {
   "cell_type": "markdown",
   "metadata": {},
   "source": [
    "Из определения метрики видно, что в случае равенства 0 предсказанной величины и целевого признака возникает неопределённость 0/0. Это необходимо учитывать в расчёте."
   ]
  },
  {
   "cell_type": "code",
   "execution_count": 20,
   "metadata": {},
   "outputs": [],
   "source": [
    "def sMAPE(predictions,target):\n",
    "    for i in predictions.index:                          # цикл по всем предсказаниям\n",
    "        if predictions[i] == 0 and target[i] == 0:       # если возникает неопределённость 0/0, \n",
    "            predictions = predictions.drop(i)            # то убираем объект из рассмотрения\n",
    "            target = target.drop(i)                      #\n",
    "    quality = 1/len(predictions) * sum(abs(predictions-target)/((abs(predictions)+abs(target))/2))*100  # вычисдяем величину\n",
    "# sMAPE по указанной формуле\n",
    "    return quality\n",
    "    "
   ]
  },
  {
   "cell_type": "markdown",
   "metadata": {},
   "source": [
    "<div class=\"alert alert-warning\"> ⚠️\n",
    "<h3> Комментарий ревьюера v1</h3>\n",
    "\n",
    "Верная формула, но если уж писать слова на английском, то лучше сразу правильно (извини моего внутреннего душнилу, но он не смог это пропустить) - quality\n"
   ]
  },
  {
   "cell_type": "markdown",
   "metadata": {},
   "source": [
    "<div class=\"alert alert-block alert-info\">\n",
    "\n",
    "Грамотность повысилась. </div>"
   ]
  },
  {
   "cell_type": "code",
   "execution_count": 21,
   "metadata": {},
   "outputs": [
    {
     "name": "stdout",
     "output_type": "stream",
     "text": [
      "sMAPE прогноза эффективности обогащения чернового концентрата в модели лин. регрессии: 6.055588951934338 %\n",
      "sMAPE прогноза эффективности обогащения чернового концентрата в модели решающего дерева: 6.4463730339233845 %\n",
      "Лучшая глубина решающего дерева 5\n",
      "sMAPE прогноза эффективности обогащения чернового концентрата в модели случайного леса: 7.165141932776206 %\n",
      "Лучшая глубина случайного леса: 4\n"
     ]
    }
   ],
   "source": [
    "features = train.drop(['date','final.output.recovery','rougher.output.recovery'], axis=1) # выделяем признаки\n",
    "target_rougher = train['rougher.output.recovery']                # выделяем первый целевой признак\n",
    "\n",
    "model_1 = LinearRegression()\n",
    "\n",
    "predictions = pd.Series(cross_val_predict(model_1, features, target_rougher, cv=10), index=target_rougher.index) # получаем \n",
    "# предсказания после кросс-валидации по 10 блокам\n",
    "\n",
    "\n",
    "print(f\"sMAPE прогноза эффективности обогащения чернового концентрата в модели лин. регрессии: \\\n",
    "{sMAPE(predictions, target_rougher)} %\")\n",
    "\n",
    "metrics_best = 100                         # делаем начальное значение метрики наихудшим       \n",
    "for depth in range(1,8):                   # цикл по глубине модели\n",
    "    model_2 = DecisionTreeRegressor(random_state=12345, max_depth=depth)    # модель решающего дерева \n",
    "    predictions = pd.Series(cross_val_predict(model_2, features, target_rougher, cv=10), index=target_rougher.index) # получаем \n",
    "# предсказания после кросс-валидации по 10 блокам\n",
    "    metrics = sMAPE(predictions, target_rougher)        # применение функции sMAPE и получение соотв. метрики\n",
    "    if metrics < metrics_best:      #\n",
    "        metrics_best = metrics      # поиск в теле цикла лучшей метрики и лучшего гиперпараметра глубины\n",
    "        best_depth = depth          #\n",
    "print(f\"sMAPE прогноза эффективности обогащения чернового концентрата в модели решающего дерева: {metrics_best} %\")\n",
    "print(f'Лучшая глубина решающего дерева {best_depth}')\n",
    "\n",
    "metrics_best = 100                         # делаем начальное значение метрики наихудшим\n",
    "for depth in range(1,8):\n",
    "    model_3 = RandomForestRegressor(random_state=12345, max_depth=depth)\n",
    "    predictions = pd.Series(cross_val_predict(model_3, features, target_rougher, cv=2), index=target_rougher.index) # получаем \n",
    "# предсказания после кросс-валидации по 2 блокам\n",
    "    metrics = sMAPE(predictions, target_rougher)       # применение функции sMAPE и получение соотв. метрики\n",
    "    if metrics < metrics_best:      #\n",
    "        metrics_best = metrics      # поиск в теле цикла лучшей метрики и лучшего гиперпараметра глубины\n",
    "        best_depth = depth          #\n",
    "\n",
    "print(f\"sMAPE прогноза эффективности обогащения чернового концентрата в модели случайного леса: {metrics_best} %\")\n",
    "print(f'Лучшая глубина случайного леса: {best_depth}')"
   ]
  },
  {
   "cell_type": "markdown",
   "metadata": {},
   "source": [
    "<div class=\"alert alert-warning\"> ⚠️\n",
    "\n",
    "<h3> Комментарий ревьюера v1</h3>\n",
    "\n",
    "Для линейной регрессии лучше масштабировать признаки, хотя конкретно в этой задаче, насколько я помню, это особо ничего не поменяет.\n",
    "\n",
    "Масштабирование в основном нужно в алгоритмах, основанных на \"расстоянии между признаками\" (Евклидово расстояние). И еще нейронные сети требуют масштабирования для быстрой сходимости. Случайный лес - это модель, основанная на дереве, и, следовательно, не требует масштабирования объектов. Этот алгоритм требует разбиения на разделы, даже если ты применишь нормализацию, то в целом результат будет таким же.\n"
   ]
  },
  {
   "cell_type": "markdown",
   "metadata": {},
   "source": [
    "<div class=\"alert alert-warning\"> ⚠️\n",
    "\n",
    "<h3> Комментарий ревьюера v1</h3>\n",
    "\n",
    "\n",
    "\n",
    "Я бы для такой задачки еще использовал catboost. Советую почитать-поразбираться, как эта штука запускается. Примерно так же, как рандом форест, на самом деле. И еще он может \"съесть\" категориальные фичи (например, страну и тп). Оставлю ссылочку на статью на Хабре:\n",
    "https://habr.com/ru/company/otus/blog/527554/\n",
    "\n",
    "Еще можно попробовать регрессионые модели с регуляризацией: Ridge, Lasso. Они отличаются только тем, что у одной модели L1, а у второй L2 регуляризация.\n",
    "\n"
   ]
  },
  {
   "cell_type": "markdown",
   "metadata": {},
   "source": [
    "<div class=\"alert alert-block alert-info\">\n",
    "\n",
    "Будет шпаргалкой в дальнейшем, спасибо за инфу. </div>"
   ]
  },
  {
   "cell_type": "code",
   "execution_count": 22,
   "metadata": {},
   "outputs": [
    {
     "name": "stdout",
     "output_type": "stream",
     "text": [
      "sMAPE прогноза эффективности обогащения финального концентрата в модели лин. регрессии: 9.402442361926115 %\n",
      "sMAPE прогноза эффективности обогащения финального концентрата в модели решающего дерева: 8.695208292593007 %\n",
      "Лучшая глубина решающего дерева 5\n",
      "sMAPE прогноза эффективности обогащения финального концентрата в модели случайного леса: 9.294714573633048 %\n",
      "Лучшая глубина случайного леса: 2\n"
     ]
    }
   ],
   "source": [
    "target_final = train['final.output.recovery']                # выделяем второй целевой признак\n",
    "\n",
    "predictions = pd.Series(cross_val_predict(model_1, features, target_final, cv=10), index=target_final.index) # получаем \n",
    "# предсказания после кросс-валидации по 10 блокам\n",
    "print(f\"sMAPE прогноза эффективности обогащения финального концентрата в модели лин. регрессии: {sMAPE(predictions, target_final)} %\")\n",
    "\n",
    "metrics_best = 100                 # делаем начальное значение метрики наихудшим \n",
    "for depth in range(1,8):\n",
    "    model_2 = DecisionTreeRegressor(random_state=12345, max_depth=depth)\n",
    "    predictions = pd.Series(cross_val_predict(model_2, features, target_final, cv=10), index=target_final.index) # получаем \n",
    "# предсказания после кросс-валидации по 10 блокам\n",
    "    metrics = sMAPE(predictions, target_final)     # применение функции sMAPE и получение соотв. метрики\n",
    "    if metrics < metrics_best:      #\n",
    "        metrics_best = metrics      # поиск в теле цикла лучшей метрики и лучшего гиперпараметра глубины\n",
    "        best_depth = depth          #\n",
    "print(f\"sMAPE прогноза эффективности обогащения финального концентрата в модели решающего дерева: {metrics_best} %\")\n",
    "print(f'Лучшая глубина решающего дерева {best_depth}')\n",
    "\n",
    "metrics_best = 100                  # делаем начальное значение метрики наихудшим\n",
    "for depth in range(1,6):\n",
    "    model_3 = RandomForestRegressor(random_state=12345, max_depth=depth)\n",
    "    predictions = pd.Series(cross_val_predict(model_3, features, target_final, cv=2), index=target_final.index) # получаем \n",
    "# предсказания после кросс-валидации по 2 блокам\n",
    "    metrics = sMAPE(predictions, target_rougher)  # применение функции sMAPE и получение соотв. метрики\n",
    "    if metrics < metrics_best:      #\n",
    "        metrics_best = metrics      # поиск в теле цикла лучшей метрики и лучшего гиперпараметра глубины\n",
    "        best_depth = depth          #\n",
    "print(f\"sMAPE прогноза эффективности обогащения финального концентрата в модели случайного леса: {sMAPE(predictions, target_final)} %\")\n",
    "print(f'Лучшая глубина случайного леса: {best_depth}')"
   ]
  },
  {
   "cell_type": "markdown",
   "metadata": {},
   "source": [
    "**Вывод**\n",
    "\n",
    "В случае с прогнозом эффективности обогащения чернового концентрата лучшую метрику показывет модель линейной регрессии. Если же говорить о прогнозе эффективности обогащения финального концентрата, то здесь победителем стало решающее дерево с глубиной 5."
   ]
  },
  {
   "cell_type": "markdown",
   "metadata": {},
   "source": [
    "### Обучение лучших моделей"
   ]
  },
  {
   "cell_type": "code",
   "execution_count": 23,
   "metadata": {},
   "outputs": [
    {
     "data": {
      "text/plain": [
       "DecisionTreeRegressor(max_depth=5, random_state=12345)"
      ]
     },
     "execution_count": 23,
     "metadata": {},
     "output_type": "execute_result"
    }
   ],
   "source": [
    "best_model_1 = LinearRegression()\n",
    "best_model_1.fit(features, target_rougher)  # обучение на всей обучающей выборке с первым целевым признаком\n",
    "\n",
    "best_model_2 = DecisionTreeRegressor(random_state=12345, max_depth=5)  # модель решающего дерева с глубиной 5\n",
    "best_model_2.fit(features, target_final)    # обучение на всей обучающей выборке со вторым целевым признаком"
   ]
  },
  {
   "cell_type": "markdown",
   "metadata": {},
   "source": [
    "### Тестирование модели и подсчёт итоговой метрики"
   ]
  },
  {
   "cell_type": "code",
   "execution_count": 24,
   "metadata": {},
   "outputs": [
    {
     "name": "stdout",
     "output_type": "stream",
     "text": [
      "Итоговая sMAPE: 7.441581725408767 %\n",
      "Для dummy-модели итоговая sMAPE: 7.423807177386261 %\n"
     ]
    }
   ],
   "source": [
    "test_null =  test.dropna()\n",
    "\n",
    "features_test = test_null.drop(['date','final.output.recovery','rougher.output.recovery'], axis=1) # выделяем признаки\n",
    "target_test = test_null['rougher.output.recovery']                # выделяем первый целевой признак\n",
    "\n",
    "\n",
    "predictions = pd.Series(best_model_1.predict(features_test), index = target_test.index)\n",
    "sMAPE_rougher = sMAPE(predictions, target_test)                   # применение функции sMAPE и получение соотв. метрики\n",
    "\n",
    "\n",
    "\n",
    "target_test = test_null['final.output.recovery']                  # выделяем второй целевой признак\n",
    "\n",
    "\n",
    "predictions = pd.Series(best_model_2.predict(features_test), index = target_test.index)\n",
    "sMAPE_final = sMAPE(predictions, target_test)                     # применение функции sMAPE и получение соотв. метрики\n",
    "result = 0.25 * sMAPE_rougher + 0.75 * sMAPE_final                # расчёт sMAPE по указанной формуле\n",
    "print(f'Итоговая sMAPE: {result} %')\n",
    "\n",
    "\n",
    "target_test = test_null['rougher.output.recovery']                # выделяем первый целевой признак\n",
    "dummy_regr_1 = DummyRegressor()\n",
    "dummy_regr_1.fit(features, target_rougher)\n",
    "predictions_dummy_1 = pd.Series(dummy_regr_1.predict(features_test), index = target_test.index)\n",
    "sMAPE_rougher = sMAPE(predictions_dummy_1, target_test)\n",
    "\n",
    "target_test = test_null['final.output.recovery']                  # выделяем второй целевой признак\n",
    "dummy_regr_2 = DummyRegressor()\n",
    "dummy_regr_2.fit(features, target_final)\n",
    "predictions_dummy_2 = pd.Series(dummy_regr_2.predict(features_test), index = target_test.index)\n",
    "sMAPE_final = sMAPE(predictions_dummy_2, target_test)\n",
    "result_dummy = 0.25 * sMAPE_rougher + 0.75 * sMAPE_final                # расчёт sMAPE по указанной формуле\n",
    "print(f'Для dummy-модели итоговая sMAPE: {result_dummy} %')\n"
   ]
  },
  {
   "cell_type": "markdown",
   "metadata": {},
   "source": [
    "<div class=\"alert alert-warning\"> ⚠️\n",
    "<h3> Комментарий ревьюера v1</h3>\n",
    "\n",
    "Желательно сравнить с константной моделью, например с DummyRegressor. Из одного значения метрики не ясно6 насколько адекватны предсказания моделей\n"
   ]
  },
  {
   "cell_type": "markdown",
   "metadata": {},
   "source": [
    "<div class=\"alert alert-block alert-info\">\n",
    "\n",
    "Оказалось, что построенные модели работает хуже, чем простое заполнение средним.</div>"
   ]
  },
  {
   "cell_type": "markdown",
   "metadata": {},
   "source": [
    "## Итоговый вывод\n",
    "\n",
    "В ходе подготовки данных к построению модели была преобразована дата к нужному типу данных, из обучающей выборки удалены признаки, не встречающиеся в тестовой. Благодаря условию, что признаки двух объектов, полученных за близкое время, имеют близкие значения, был реализован метод восстановления пропусков: при встрече с пропуском берётся значение признака прошлого объекта.\n",
    "\n",
    "Анализ концетраций трёх металлов показал, что по мере прохождения технологического цикла, концентрация золота и свинца растёт, а концентрация серебра ведёт себя не монотонно.\n",
    "\n",
    "Проверка распределения размеров гранул сырья в тестовой и обучающей выборке с помощью применения критерия Колмогорова-Смирнова завершилась выводом: разбиение исходных данных было выполнено не оптимально, распределения отличаются (p-значение:  5.2e-213). Но сама форма распределений похожа. Конечно же, верней было бы провести переразбивку на две выборки, но у нас была задача отработать предсказания на конкретной выборке. \n",
    "\n",
    "Расчёт суммарной концентрации всех веществ на трёх этапах очистки и построение соответсвтующих распределений показали наличия артефактов: нулевых или очень малых значений суммарной концентрации (< 20%). От объектов с такими значениями нам пришлось избавиться. \n",
    "\n",
    "Для расчёта нашей метрики sMAPE была написана соответствующая функция, учитывающая возможность возникновения неопределённости 0/0.\n",
    "\n",
    "\n",
    "После проведения кросс-валидации для трёх различных моделей, оказалось, что для предсказаний двух метрик оптимальными оказались две разные модели. Для эффективности обогащения чернового концентрата - линейная регрессия (sMAPE = 6.0556 %), а для финального концентрата - решающее дерево с глубиной 5 (sMAPE = 8.695 %)\n",
    "\n",
    "Итоговое значение метрики sMAPE составило: 7.442 %"
   ]
  },
  {
   "cell_type": "markdown",
   "metadata": {},
   "source": [
    "<div class=\"alert alert-success\"> ✅ \n",
    "<h3> Комментарий ревьюера v1</h3>\n",
    "\n",
    "Хороший вывод!"
   ]
  },
  {
   "cell_type": "markdown",
   "metadata": {},
   "source": [
    "## Чек-лист готовности проекта"
   ]
  },
  {
   "cell_type": "markdown",
   "metadata": {},
   "source": [
    "- [x]  Jupyter Notebook открыт\n",
    "- [x]  Весь код выполняется без ошибок\n",
    "- [x]  Ячейки с кодом расположены в порядке выполнения\n",
    "- [x]  Выполнен шаг 1: данные подготовлены\n",
    "    - [x]  Проверена формула вычисления эффективности обогащения\n",
    "    - [x]  Проанализированы признаки, недоступные в тестовой выборке\n",
    "    - [x]  Проведена предобработка данных\n",
    "- [x]  Выполнен шаг 2: данные проанализированы\n",
    "    - [x]  Исследовано изменение концентрации элементов на каждом этапе\n",
    "    - [x]  Проанализированы распределения размеров гранул на обучающей и тестовой выборках\n",
    "    - [x]  Исследованы суммарные концентрации\n",
    "- [x]  Выполнен шаг 3: построена модель прогнозирования\n",
    "    - [x]  Написана функция для вычисления итогового *sMAPE*\n",
    "    - [x]  Обучено и проверено несколько моделей\n",
    "    - [x]  Выбрана лучшая модель, её качество проверено на тестовой выборке"
   ]
  },
  {
   "cell_type": "markdown",
   "metadata": {},
   "source": [
    "<div class=\"alert alert-block alert-info\">\n",
    "<h3> Итоговый комментарий</h3>\n",
    "\n",
    "Большое спасибо за проделанную работу. Видно, что приложено много усилий. Выводы и рассуждения получились содержательными, их было интересно читать. Работа в целом и каждый шаг в отдельности сделаны хорошо. Я оставил несколько советов, надеюсь они будут учтены в будущих проектах. Проект может быть зачтен, но я его отправлю назад, чтобы у тебя была возможность задать вопросы и внести правки, при желании. Однако, ты можешь просто вернуть проект в таком же виде, и я его зачту.\n"
   ]
  }
 ],
 "metadata": {
  "ExecuteTimeLog": [
   {
    "duration": 43797,
    "start_time": "2022-04-18T13:20:07.015Z"
   },
   {
    "duration": 42,
    "start_time": "2022-04-18T13:25:07.709Z"
   },
   {
    "duration": 468,
    "start_time": "2022-04-18T13:25:10.051Z"
   },
   {
    "duration": 26,
    "start_time": "2022-04-18T13:25:12.083Z"
   },
   {
    "duration": 649,
    "start_time": "2022-04-18T13:25:29.522Z"
   },
   {
    "duration": 17,
    "start_time": "2022-04-18T13:25:44.074Z"
   },
   {
    "duration": 45,
    "start_time": "2022-04-18T13:26:53.830Z"
   },
   {
    "duration": 16,
    "start_time": "2022-04-18T13:27:20.765Z"
   },
   {
    "duration": 22,
    "start_time": "2022-04-18T13:27:55.541Z"
   },
   {
    "duration": 5,
    "start_time": "2022-04-18T13:41:56.218Z"
   },
   {
    "duration": 14,
    "start_time": "2022-04-18T13:43:55.934Z"
   },
   {
    "duration": 5,
    "start_time": "2022-04-18T13:54:02.447Z"
   },
   {
    "duration": 5,
    "start_time": "2022-04-18T13:54:55.803Z"
   },
   {
    "duration": 8,
    "start_time": "2022-04-18T13:55:05.470Z"
   },
   {
    "duration": 7,
    "start_time": "2022-04-18T13:55:15.638Z"
   },
   {
    "duration": 9,
    "start_time": "2022-04-18T13:57:11.561Z"
   },
   {
    "duration": 623,
    "start_time": "2022-04-18T13:58:40.684Z"
   },
   {
    "duration": 58,
    "start_time": "2022-04-18T14:00:10.265Z"
   },
   {
    "duration": 19,
    "start_time": "2022-04-18T14:01:20.300Z"
   },
   {
    "duration": 7,
    "start_time": "2022-04-18T14:01:23.567Z"
   },
   {
    "duration": 123,
    "start_time": "2022-04-18T14:02:32.298Z"
   },
   {
    "duration": 136,
    "start_time": "2022-04-18T14:03:13.711Z"
   },
   {
    "duration": 128,
    "start_time": "2022-04-18T14:03:17.463Z"
   },
   {
    "duration": 8,
    "start_time": "2022-04-18T14:03:53.623Z"
   },
   {
    "duration": 6,
    "start_time": "2022-04-18T14:04:07.172Z"
   },
   {
    "duration": 5,
    "start_time": "2022-04-18T14:09:18.518Z"
   },
   {
    "duration": 4,
    "start_time": "2022-04-18T14:11:20.098Z"
   },
   {
    "duration": 3,
    "start_time": "2022-04-18T14:11:35.519Z"
   },
   {
    "duration": 13,
    "start_time": "2022-04-18T14:11:53.182Z"
   },
   {
    "duration": 4,
    "start_time": "2022-04-18T14:12:53.288Z"
   },
   {
    "duration": 4,
    "start_time": "2022-04-18T14:13:20.483Z"
   },
   {
    "duration": 11,
    "start_time": "2022-04-18T14:13:34.474Z"
   },
   {
    "duration": 16,
    "start_time": "2022-04-18T14:14:10.098Z"
   },
   {
    "duration": 5,
    "start_time": "2022-04-18T14:14:24.401Z"
   },
   {
    "duration": 8,
    "start_time": "2022-04-18T14:14:35.999Z"
   },
   {
    "duration": 6,
    "start_time": "2022-04-18T14:17:34.671Z"
   },
   {
    "duration": 5,
    "start_time": "2022-04-18T14:18:40.084Z"
   },
   {
    "duration": 6,
    "start_time": "2022-04-18T14:19:07.970Z"
   },
   {
    "duration": 4,
    "start_time": "2022-04-18T14:21:10.277Z"
   },
   {
    "duration": 28,
    "start_time": "2022-04-18T14:24:29.612Z"
   },
   {
    "duration": 15,
    "start_time": "2022-04-18T14:24:38.170Z"
   },
   {
    "duration": 2588,
    "start_time": "2022-04-18T15:06:08.506Z"
   },
   {
    "duration": 10,
    "start_time": "2022-04-18T15:16:49.336Z"
   },
   {
    "duration": 8,
    "start_time": "2022-04-18T15:17:25.980Z"
   },
   {
    "duration": 4,
    "start_time": "2022-04-18T15:17:33.570Z"
   },
   {
    "duration": 10,
    "start_time": "2022-04-18T15:18:04.474Z"
   },
   {
    "duration": 4,
    "start_time": "2022-04-18T15:18:17.984Z"
   },
   {
    "duration": 11,
    "start_time": "2022-04-18T15:18:52.127Z"
   },
   {
    "duration": 4,
    "start_time": "2022-04-18T15:19:10.878Z"
   },
   {
    "duration": 3,
    "start_time": "2022-04-18T15:21:09.097Z"
   },
   {
    "duration": 4,
    "start_time": "2022-04-18T15:21:27.496Z"
   },
   {
    "duration": 119,
    "start_time": "2022-04-18T15:22:25.142Z"
   },
   {
    "duration": 120,
    "start_time": "2022-04-18T15:22:46.244Z"
   },
   {
    "duration": 114,
    "start_time": "2022-04-18T15:22:53.795Z"
   },
   {
    "duration": 115,
    "start_time": "2022-04-18T15:23:34.378Z"
   },
   {
    "duration": 7,
    "start_time": "2022-04-18T15:24:31.751Z"
   },
   {
    "duration": 4,
    "start_time": "2022-04-18T15:30:36.489Z"
   },
   {
    "duration": 4,
    "start_time": "2022-04-18T15:30:51.117Z"
   },
   {
    "duration": 4,
    "start_time": "2022-04-18T15:31:20.181Z"
   },
   {
    "duration": 8,
    "start_time": "2022-04-18T15:32:03.795Z"
   },
   {
    "duration": 12,
    "start_time": "2022-04-18T15:32:16.809Z"
   },
   {
    "duration": 7,
    "start_time": "2022-04-18T15:33:07.440Z"
   },
   {
    "duration": 8,
    "start_time": "2022-04-18T15:33:44.862Z"
   },
   {
    "duration": 7,
    "start_time": "2022-04-18T15:37:52.873Z"
   },
   {
    "duration": 7,
    "start_time": "2022-04-18T15:38:33.384Z"
   },
   {
    "duration": 11,
    "start_time": "2022-04-18T15:40:31.779Z"
   },
   {
    "duration": 8,
    "start_time": "2022-04-18T15:40:41.281Z"
   },
   {
    "duration": 9,
    "start_time": "2022-04-18T15:40:52.272Z"
   },
   {
    "duration": 8,
    "start_time": "2022-04-18T15:41:05.225Z"
   },
   {
    "duration": 14,
    "start_time": "2022-04-18T15:43:52.296Z"
   },
   {
    "duration": 16,
    "start_time": "2022-04-18T15:44:39.685Z"
   },
   {
    "duration": 8,
    "start_time": "2022-04-18T15:45:54.092Z"
   },
   {
    "duration": 12,
    "start_time": "2022-04-18T15:46:10.508Z"
   },
   {
    "duration": 10,
    "start_time": "2022-04-18T15:46:47.464Z"
   },
   {
    "duration": 13,
    "start_time": "2022-04-18T15:48:29.972Z"
   },
   {
    "duration": 17,
    "start_time": "2022-04-18T15:48:51.577Z"
   },
   {
    "duration": 17,
    "start_time": "2022-04-18T15:49:18.033Z"
   },
   {
    "duration": 12,
    "start_time": "2022-04-18T15:49:26.348Z"
   },
   {
    "duration": 502,
    "start_time": "2022-04-18T15:49:32.879Z"
   },
   {
    "duration": 114,
    "start_time": "2022-04-18T15:50:14.222Z"
   },
   {
    "duration": 101,
    "start_time": "2022-04-18T15:51:36.883Z"
   },
   {
    "duration": 134,
    "start_time": "2022-04-18T15:51:50.794Z"
   },
   {
    "duration": 190,
    "start_time": "2022-04-18T15:52:16.078Z"
   },
   {
    "duration": 101,
    "start_time": "2022-04-18T15:52:36.661Z"
   },
   {
    "duration": 3,
    "start_time": "2022-04-18T15:53:38.380Z"
   },
   {
    "duration": 260,
    "start_time": "2022-04-18T15:53:43.308Z"
   },
   {
    "duration": 267,
    "start_time": "2022-04-18T15:53:53.748Z"
   },
   {
    "duration": 1499,
    "start_time": "2022-04-19T13:34:25.484Z"
   },
   {
    "duration": 96,
    "start_time": "2022-04-19T13:36:15.971Z"
   },
   {
    "duration": 3,
    "start_time": "2022-04-19T13:36:20.304Z"
   },
   {
    "duration": 619,
    "start_time": "2022-04-19T13:36:20.309Z"
   },
   {
    "duration": 27,
    "start_time": "2022-04-19T13:36:20.930Z"
   },
   {
    "duration": 1404,
    "start_time": "2022-04-19T13:36:27.689Z"
   },
   {
    "duration": 22,
    "start_time": "2022-04-19T13:38:16.617Z"
   },
   {
    "duration": 25,
    "start_time": "2022-04-19T13:38:22.387Z"
   },
   {
    "duration": 23,
    "start_time": "2022-04-19T13:38:29.469Z"
   },
   {
    "duration": 1528,
    "start_time": "2022-04-19T13:39:35.164Z"
   },
   {
    "duration": 1605,
    "start_time": "2022-04-19T13:39:58.761Z"
   },
   {
    "duration": 6,
    "start_time": "2022-04-19T13:40:12.064Z"
   },
   {
    "duration": 27,
    "start_time": "2022-04-19T13:40:27.727Z"
   },
   {
    "duration": 23,
    "start_time": "2022-04-19T13:40:33.755Z"
   },
   {
    "duration": 19,
    "start_time": "2022-04-19T13:41:15.893Z"
   },
   {
    "duration": 28,
    "start_time": "2022-04-19T13:41:24.500Z"
   },
   {
    "duration": 30,
    "start_time": "2022-04-19T13:41:39.403Z"
   },
   {
    "duration": 30,
    "start_time": "2022-04-19T14:02:04.450Z"
   },
   {
    "duration": 83,
    "start_time": "2022-04-19T14:02:17.225Z"
   },
   {
    "duration": 23,
    "start_time": "2022-04-19T14:02:28.878Z"
   },
   {
    "duration": 19,
    "start_time": "2022-04-19T14:03:00.471Z"
   },
   {
    "duration": 20,
    "start_time": "2022-04-19T14:06:02.127Z"
   },
   {
    "duration": 13,
    "start_time": "2022-04-19T14:06:14.845Z"
   },
   {
    "duration": 13,
    "start_time": "2022-04-19T14:06:23.709Z"
   },
   {
    "duration": 267,
    "start_time": "2022-04-19T14:06:28.525Z"
   },
   {
    "duration": 284,
    "start_time": "2022-04-19T14:06:34.620Z"
   },
   {
    "duration": 13,
    "start_time": "2022-04-19T14:11:46.121Z"
   },
   {
    "duration": 295,
    "start_time": "2022-04-19T14:16:44.569Z"
   },
   {
    "duration": 306,
    "start_time": "2022-04-19T14:17:04.719Z"
   },
   {
    "duration": 385,
    "start_time": "2022-04-19T14:17:26.783Z"
   },
   {
    "duration": 506,
    "start_time": "2022-04-19T14:17:43.406Z"
   },
   {
    "duration": 614,
    "start_time": "2022-04-19T14:25:42.276Z"
   },
   {
    "duration": 507,
    "start_time": "2022-04-19T14:26:44.901Z"
   },
   {
    "duration": 320,
    "start_time": "2022-04-19T14:30:37.522Z"
   },
   {
    "duration": 3,
    "start_time": "2022-04-19T14:32:44.860Z"
   },
   {
    "duration": 5,
    "start_time": "2022-04-19T14:32:52.179Z"
   },
   {
    "duration": 6,
    "start_time": "2022-04-19T14:35:00.134Z"
   },
   {
    "duration": 6,
    "start_time": "2022-04-19T14:35:14.013Z"
   },
   {
    "duration": 7,
    "start_time": "2022-04-19T14:36:06.572Z"
   },
   {
    "duration": 10,
    "start_time": "2022-04-19T14:36:12.266Z"
   },
   {
    "duration": 6,
    "start_time": "2022-04-19T14:37:56.597Z"
   },
   {
    "duration": 7,
    "start_time": "2022-04-19T14:38:21.732Z"
   },
   {
    "duration": 2447,
    "start_time": "2022-04-19T14:39:13.610Z"
   },
   {
    "duration": 2398,
    "start_time": "2022-04-19T14:40:13.560Z"
   },
   {
    "duration": 2079,
    "start_time": "2022-04-19T14:41:08.077Z"
   },
   {
    "duration": 6,
    "start_time": "2022-04-19T14:41:28.772Z"
   },
   {
    "duration": 7,
    "start_time": "2022-04-19T14:54:55.075Z"
   },
   {
    "duration": 11,
    "start_time": "2022-04-19T14:55:04.213Z"
   },
   {
    "duration": 9,
    "start_time": "2022-04-19T14:56:09.826Z"
   },
   {
    "duration": 7,
    "start_time": "2022-04-19T14:59:17.487Z"
   },
   {
    "duration": 113,
    "start_time": "2022-04-19T14:59:30.025Z"
   },
   {
    "duration": 104,
    "start_time": "2022-04-19T15:00:47.806Z"
   },
   {
    "duration": 262,
    "start_time": "2022-04-19T15:02:06.995Z"
   },
   {
    "duration": 98,
    "start_time": "2022-04-19T15:04:23.100Z"
   },
   {
    "duration": 22,
    "start_time": "2022-04-19T16:13:12.098Z"
   },
   {
    "duration": 9,
    "start_time": "2022-04-19T16:13:50.870Z"
   },
   {
    "duration": 3,
    "start_time": "2022-04-19T16:13:56.366Z"
   },
   {
    "duration": 615,
    "start_time": "2022-04-19T16:13:58.396Z"
   },
   {
    "duration": 9,
    "start_time": "2022-04-19T16:14:03.045Z"
   },
   {
    "duration": 3,
    "start_time": "2022-04-19T16:14:12.653Z"
   },
   {
    "duration": 4,
    "start_time": "2022-04-19T16:14:29.218Z"
   },
   {
    "duration": 18,
    "start_time": "2022-04-19T16:14:39.890Z"
   }
  ],
  "kernelspec": {
   "display_name": "Python 3 (ipykernel)",
   "language": "python",
   "name": "python3"
  },
  "language_info": {
   "codemirror_mode": {
    "name": "ipython",
    "version": 3
   },
   "file_extension": ".py",
   "mimetype": "text/x-python",
   "name": "python",
   "nbconvert_exporter": "python",
   "pygments_lexer": "ipython3",
   "version": "3.9.7"
  },
  "toc": {
   "base_numbering": 1,
   "nav_menu": {},
   "number_sections": true,
   "sideBar": true,
   "skip_h1_title": true,
   "title_cell": "Содержание",
   "title_sidebar": "Contents",
   "toc_cell": true,
   "toc_position": {},
   "toc_section_display": true,
   "toc_window_display": true
  }
 },
 "nbformat": 4,
 "nbformat_minor": 2
}
