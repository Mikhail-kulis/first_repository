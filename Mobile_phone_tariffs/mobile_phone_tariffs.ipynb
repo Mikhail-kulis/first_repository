{
 "cells": [
  {
   "cell_type": "markdown",
   "metadata": {},
   "source": [
    "Привет, Михаил!\n",
    "\n",
    "Меня зовут Вячеслав Погорелый, и я буду проводить ревью твоего первого проекта. \n",
    "\n",
    "Предлагаю перейти на \"ты\", если не против)\n",
    "\n",
    "Но если это не удобно - дай знать, и мы перейдем на \"вы\". Моя главная задача — не находить сделанные тобою ошибки, а передать свой опыт и помочь тебе стать аналитиком данных.\n",
    "\n",
    "Я отметил комментарии и замечания разным цветом далее по тексту markdown:\n",
    "\n",
    "---    \n",
    "<div class=\"alert alert-block alert-danger\">\n",
    "    \n",
    "### Ошибка\n",
    "    \n",
    "Критическое замечание, которые следует исправить.\n",
    "</div> \n",
    "    \n",
    "---\n",
    "    \n",
    "<div class=\"alert alert-block alert-warning\">\n",
    "    \n",
    "### Совет\n",
    "    \n",
    "Замечание\\совет на будущее.\n",
    "</div>\n",
    "    \n",
    "---\n",
    "    \n",
    "<div class=\"alert alert-block alert-success\">\n",
    "    \n",
    "### Успех\n",
    "    \n",
    "Когда всё сделано правильно.\n",
    "</div>\n",
    "    \n",
    "    \n",
    "    \n",
    "Будет здорово, если для ответов ты выберешь любой **<font color=\"maroon\">читабельный и заметный цвет</font>**, так мне будет проще все проверить.\n",
    "\n",
    "\n",
    "При доработке проекта попрошу тебя сохранить и не видоизменять заметки ревьюера, это осложняет повторную проверку."
   ]
  },
  {
   "cell_type": "markdown",
   "metadata": {},
   "source": [
    "<div class=\"alert alert-block alert-success\">\n",
    "    \n",
    "## Итоговый комментарии от ревьюера:\n",
    "    \n",
    "#### Успех \n",
    "\n",
    "Забегая вперед, скажу, что проект получился отличным. У тебя есть хорошая база, которая позволяет мастерски делать предобработку данных, объединять таблицы и строить графики. Ты здорово описываешь каждое действие. Я не сомневаюсь, что из тебя получится хороший аналитик.\n",
    "    \n",
    "    \n",
    "В проекте пару небольших несколько замечаний. Уверен, учесть их в работе тебе не составит труда. Буду ждать доработанный проект. Удачи!\n",
    "</div>"
   ]
  },
  {
   "cell_type": "markdown",
   "metadata": {},
   "source": [
    "<div class=\"alert alert-block alert-success\">\n",
    "    \n",
    "## Итоговый комментарии от ревьюера ver.2\n",
    "    \n",
    "#### Успех \n",
    "\n",
    "Ты отлично постарался и все исправил. Еще раз отмечу, очень замечательный проект получился. \n",
    "</div>"
   ]
  },
  {
   "cell_type": "markdown",
   "metadata": {},
   "source": [
    "## Подключение библиотек"
   ]
  },
  {
   "cell_type": "code",
   "execution_count": 64,
   "metadata": {},
   "outputs": [],
   "source": [
    "import pandas as pd                                              # импорт библитек pandas \n",
    "import numpy as np                                               #        и numpy\n",
    "from scipy import stats as st                                    # импорт библитеки scipy.stats\n",
    "import math                                                      # импорт библитеки math\n",
    "import warnings                                                  # импорт службы warnings\n",
    "warnings.simplefilter(\"ignore\")                                  # игнорируем предупреждения"
   ]
  },
  {
   "cell_type": "markdown",
   "metadata": {},
   "source": [
    "<div class=\"alert alert-block alert-success\">\n",
    " \n",
    "### Комментарий ревьюера\n",
    "    \n",
    "#### Успех\n",
    "    \n",
    "Очень симпатично выполнен импорт библиотек. Еще отдельная благодарность за то, что отключены предупреждения. \n",
    "</div>"
   ]
  },
  {
   "cell_type": "markdown",
   "metadata": {},
   "source": [
    "## Обзор данных"
   ]
  },
  {
   "cell_type": "code",
   "execution_count": 65,
   "metadata": {},
   "outputs": [
    {
     "name": "stdout",
     "output_type": "stream",
     "text": [
      "Звонки\n"
     ]
    },
    {
     "data": {
      "text/html": [
       "<div>\n",
       "<style scoped>\n",
       "    .dataframe tbody tr th:only-of-type {\n",
       "        vertical-align: middle;\n",
       "    }\n",
       "\n",
       "    .dataframe tbody tr th {\n",
       "        vertical-align: top;\n",
       "    }\n",
       "\n",
       "    .dataframe thead th {\n",
       "        text-align: right;\n",
       "    }\n",
       "</style>\n",
       "<table border=\"1\" class=\"dataframe\">\n",
       "  <thead>\n",
       "    <tr style=\"text-align: right;\">\n",
       "      <th></th>\n",
       "      <th>id</th>\n",
       "      <th>call_date</th>\n",
       "      <th>duration</th>\n",
       "      <th>user_id</th>\n",
       "    </tr>\n",
       "  </thead>\n",
       "  <tbody>\n",
       "    <tr>\n",
       "      <td>0</td>\n",
       "      <td>1000_0</td>\n",
       "      <td>2018-07-25</td>\n",
       "      <td>0.00</td>\n",
       "      <td>1000</td>\n",
       "    </tr>\n",
       "    <tr>\n",
       "      <td>1</td>\n",
       "      <td>1000_1</td>\n",
       "      <td>2018-08-17</td>\n",
       "      <td>0.00</td>\n",
       "      <td>1000</td>\n",
       "    </tr>\n",
       "    <tr>\n",
       "      <td>2</td>\n",
       "      <td>1000_2</td>\n",
       "      <td>2018-06-11</td>\n",
       "      <td>2.85</td>\n",
       "      <td>1000</td>\n",
       "    </tr>\n",
       "    <tr>\n",
       "      <td>3</td>\n",
       "      <td>1000_3</td>\n",
       "      <td>2018-09-21</td>\n",
       "      <td>13.80</td>\n",
       "      <td>1000</td>\n",
       "    </tr>\n",
       "    <tr>\n",
       "      <td>4</td>\n",
       "      <td>1000_4</td>\n",
       "      <td>2018-12-15</td>\n",
       "      <td>5.18</td>\n",
       "      <td>1000</td>\n",
       "    </tr>\n",
       "  </tbody>\n",
       "</table>\n",
       "</div>"
      ],
      "text/plain": [
       "       id   call_date  duration  user_id\n",
       "0  1000_0  2018-07-25      0.00     1000\n",
       "1  1000_1  2018-08-17      0.00     1000\n",
       "2  1000_2  2018-06-11      2.85     1000\n",
       "3  1000_3  2018-09-21     13.80     1000\n",
       "4  1000_4  2018-12-15      5.18     1000"
      ]
     },
     "metadata": {},
     "output_type": "display_data"
    },
    {
     "name": "stdout",
     "output_type": "stream",
     "text": [
      "Интернет\n"
     ]
    },
    {
     "data": {
      "text/html": [
       "<div>\n",
       "<style scoped>\n",
       "    .dataframe tbody tr th:only-of-type {\n",
       "        vertical-align: middle;\n",
       "    }\n",
       "\n",
       "    .dataframe tbody tr th {\n",
       "        vertical-align: top;\n",
       "    }\n",
       "\n",
       "    .dataframe thead th {\n",
       "        text-align: right;\n",
       "    }\n",
       "</style>\n",
       "<table border=\"1\" class=\"dataframe\">\n",
       "  <thead>\n",
       "    <tr style=\"text-align: right;\">\n",
       "      <th></th>\n",
       "      <th>id</th>\n",
       "      <th>mb_used</th>\n",
       "      <th>session_date</th>\n",
       "      <th>user_id</th>\n",
       "    </tr>\n",
       "  </thead>\n",
       "  <tbody>\n",
       "    <tr>\n",
       "      <td>0</td>\n",
       "      <td>1000_0</td>\n",
       "      <td>112.95</td>\n",
       "      <td>2018-11-25</td>\n",
       "      <td>1000</td>\n",
       "    </tr>\n",
       "    <tr>\n",
       "      <td>1</td>\n",
       "      <td>1000_1</td>\n",
       "      <td>1052.81</td>\n",
       "      <td>2018-09-07</td>\n",
       "      <td>1000</td>\n",
       "    </tr>\n",
       "    <tr>\n",
       "      <td>2</td>\n",
       "      <td>1000_2</td>\n",
       "      <td>1197.26</td>\n",
       "      <td>2018-06-25</td>\n",
       "      <td>1000</td>\n",
       "    </tr>\n",
       "    <tr>\n",
       "      <td>3</td>\n",
       "      <td>1000_3</td>\n",
       "      <td>550.27</td>\n",
       "      <td>2018-08-22</td>\n",
       "      <td>1000</td>\n",
       "    </tr>\n",
       "    <tr>\n",
       "      <td>4</td>\n",
       "      <td>1000_4</td>\n",
       "      <td>302.56</td>\n",
       "      <td>2018-09-24</td>\n",
       "      <td>1000</td>\n",
       "    </tr>\n",
       "  </tbody>\n",
       "</table>\n",
       "</div>"
      ],
      "text/plain": [
       "       id  mb_used session_date  user_id\n",
       "0  1000_0   112.95   2018-11-25     1000\n",
       "1  1000_1  1052.81   2018-09-07     1000\n",
       "2  1000_2  1197.26   2018-06-25     1000\n",
       "3  1000_3   550.27   2018-08-22     1000\n",
       "4  1000_4   302.56   2018-09-24     1000"
      ]
     },
     "metadata": {},
     "output_type": "display_data"
    },
    {
     "name": "stdout",
     "output_type": "stream",
     "text": [
      "Сообщения\n"
     ]
    },
    {
     "data": {
      "text/html": [
       "<div>\n",
       "<style scoped>\n",
       "    .dataframe tbody tr th:only-of-type {\n",
       "        vertical-align: middle;\n",
       "    }\n",
       "\n",
       "    .dataframe tbody tr th {\n",
       "        vertical-align: top;\n",
       "    }\n",
       "\n",
       "    .dataframe thead th {\n",
       "        text-align: right;\n",
       "    }\n",
       "</style>\n",
       "<table border=\"1\" class=\"dataframe\">\n",
       "  <thead>\n",
       "    <tr style=\"text-align: right;\">\n",
       "      <th></th>\n",
       "      <th>id</th>\n",
       "      <th>message_date</th>\n",
       "      <th>user_id</th>\n",
       "    </tr>\n",
       "  </thead>\n",
       "  <tbody>\n",
       "    <tr>\n",
       "      <td>0</td>\n",
       "      <td>1000_0</td>\n",
       "      <td>2018-06-27</td>\n",
       "      <td>1000</td>\n",
       "    </tr>\n",
       "    <tr>\n",
       "      <td>1</td>\n",
       "      <td>1000_1</td>\n",
       "      <td>2018-10-08</td>\n",
       "      <td>1000</td>\n",
       "    </tr>\n",
       "    <tr>\n",
       "      <td>2</td>\n",
       "      <td>1000_2</td>\n",
       "      <td>2018-08-04</td>\n",
       "      <td>1000</td>\n",
       "    </tr>\n",
       "    <tr>\n",
       "      <td>3</td>\n",
       "      <td>1000_3</td>\n",
       "      <td>2018-06-16</td>\n",
       "      <td>1000</td>\n",
       "    </tr>\n",
       "    <tr>\n",
       "      <td>4</td>\n",
       "      <td>1000_4</td>\n",
       "      <td>2018-12-05</td>\n",
       "      <td>1000</td>\n",
       "    </tr>\n",
       "  </tbody>\n",
       "</table>\n",
       "</div>"
      ],
      "text/plain": [
       "       id message_date  user_id\n",
       "0  1000_0   2018-06-27     1000\n",
       "1  1000_1   2018-10-08     1000\n",
       "2  1000_2   2018-08-04     1000\n",
       "3  1000_3   2018-06-16     1000\n",
       "4  1000_4   2018-12-05     1000"
      ]
     },
     "execution_count": 65,
     "metadata": {},
     "output_type": "execute_result"
    }
   ],
   "source": [
    "calls = pd.read_csv('/datasets/calls.csv')                       # читаем и записываем датафреймы с данными о\n",
    "internet = pd.read_csv('/datasets/internet.csv', index_col=0)    # звонках, траффике интернета,\n",
    "messages = pd.read_csv('/datasets/messages.csv')                 #    СМС-ках\n",
    "print('Звонки')\n",
    "display(calls.head())\n",
    "print('Интернет')\n",
    "display(internet.head())\n",
    "print('Сообщения')\n",
    "messages.head()"
   ]
  },
  {
   "cell_type": "markdown",
   "metadata": {},
   "source": [
    "**Вывод**\n",
    "\n",
    "Данные прочитались верно, с разделителями вопросов не было."
   ]
  },
  {
   "cell_type": "markdown",
   "metadata": {},
   "source": [
    "<div class=\"alert alert-block alert-warning\">\n",
    " \n",
    "### Комментарий ревьюера\n",
    "    \n",
    "#### Совет\n",
    "    \n",
    "Отличная идея. Лишний столбец можно удалить.\n",
    "    \n",
    "Unnamed: 0 возникает, когда данные сохраняют с указанием индекса pd.DataFrame().to_csv(..., index=column). Если при чтении указать этот столбец pd.read_csv(..., index_col=0) - данные сразу прочитаются корректно.\n",
    "</div>"
   ]
  },
  {
   "cell_type": "markdown",
   "metadata": {},
   "source": [
    "<div class=\"alert alert-block alert-success\">\n",
    " \n",
    "### Комментарий ревьюера ver.2\n",
    "    \n",
    "#### Успех\n",
    "    \n",
    "Здорово\n",
    "</div>"
   ]
  },
  {
   "cell_type": "markdown",
   "metadata": {},
   "source": [
    "<div class=\"alert alert-block alert-info\">\n",
    "\n",
    "Исправлено."
   ]
  },
  {
   "cell_type": "code",
   "execution_count": 66,
   "metadata": {},
   "outputs": [
    {
     "name": "stdout",
     "output_type": "stream",
     "text": [
      "Пользователи\n"
     ]
    },
    {
     "data": {
      "text/html": [
       "<div>\n",
       "<style scoped>\n",
       "    .dataframe tbody tr th:only-of-type {\n",
       "        vertical-align: middle;\n",
       "    }\n",
       "\n",
       "    .dataframe tbody tr th {\n",
       "        vertical-align: top;\n",
       "    }\n",
       "\n",
       "    .dataframe thead th {\n",
       "        text-align: right;\n",
       "    }\n",
       "</style>\n",
       "<table border=\"1\" class=\"dataframe\">\n",
       "  <thead>\n",
       "    <tr style=\"text-align: right;\">\n",
       "      <th></th>\n",
       "      <th>user_id</th>\n",
       "      <th>age</th>\n",
       "      <th>churn_date</th>\n",
       "      <th>city</th>\n",
       "      <th>first_name</th>\n",
       "      <th>last_name</th>\n",
       "      <th>reg_date</th>\n",
       "      <th>tariff</th>\n",
       "    </tr>\n",
       "  </thead>\n",
       "  <tbody>\n",
       "    <tr>\n",
       "      <td>0</td>\n",
       "      <td>1000</td>\n",
       "      <td>52</td>\n",
       "      <td>NaN</td>\n",
       "      <td>Краснодар</td>\n",
       "      <td>Рафаил</td>\n",
       "      <td>Верещагин</td>\n",
       "      <td>2018-05-25</td>\n",
       "      <td>ultra</td>\n",
       "    </tr>\n",
       "    <tr>\n",
       "      <td>1</td>\n",
       "      <td>1001</td>\n",
       "      <td>41</td>\n",
       "      <td>NaN</td>\n",
       "      <td>Москва</td>\n",
       "      <td>Иван</td>\n",
       "      <td>Ежов</td>\n",
       "      <td>2018-11-01</td>\n",
       "      <td>smart</td>\n",
       "    </tr>\n",
       "    <tr>\n",
       "      <td>2</td>\n",
       "      <td>1002</td>\n",
       "      <td>59</td>\n",
       "      <td>NaN</td>\n",
       "      <td>Стерлитамак</td>\n",
       "      <td>Евгений</td>\n",
       "      <td>Абрамович</td>\n",
       "      <td>2018-06-17</td>\n",
       "      <td>smart</td>\n",
       "    </tr>\n",
       "    <tr>\n",
       "      <td>3</td>\n",
       "      <td>1003</td>\n",
       "      <td>23</td>\n",
       "      <td>NaN</td>\n",
       "      <td>Москва</td>\n",
       "      <td>Белла</td>\n",
       "      <td>Белякова</td>\n",
       "      <td>2018-08-17</td>\n",
       "      <td>ultra</td>\n",
       "    </tr>\n",
       "    <tr>\n",
       "      <td>4</td>\n",
       "      <td>1004</td>\n",
       "      <td>68</td>\n",
       "      <td>NaN</td>\n",
       "      <td>Новокузнецк</td>\n",
       "      <td>Татьяна</td>\n",
       "      <td>Авдеенко</td>\n",
       "      <td>2018-05-14</td>\n",
       "      <td>ultra</td>\n",
       "    </tr>\n",
       "  </tbody>\n",
       "</table>\n",
       "</div>"
      ],
      "text/plain": [
       "   user_id  age churn_date         city first_name  last_name    reg_date  \\\n",
       "0     1000   52        NaN    Краснодар     Рафаил  Верещагин  2018-05-25   \n",
       "1     1001   41        NaN       Москва       Иван       Ежов  2018-11-01   \n",
       "2     1002   59        NaN  Стерлитамак    Евгений  Абрамович  2018-06-17   \n",
       "3     1003   23        NaN       Москва      Белла   Белякова  2018-08-17   \n",
       "4     1004   68        NaN  Новокузнецк    Татьяна   Авдеенко  2018-05-14   \n",
       "\n",
       "  tariff  \n",
       "0  ultra  \n",
       "1  smart  \n",
       "2  smart  \n",
       "3  ultra  \n",
       "4  ultra  "
      ]
     },
     "metadata": {},
     "output_type": "display_data"
    },
    {
     "name": "stdout",
     "output_type": "stream",
     "text": [
      "Тарифы\n"
     ]
    },
    {
     "data": {
      "text/html": [
       "<div>\n",
       "<style scoped>\n",
       "    .dataframe tbody tr th:only-of-type {\n",
       "        vertical-align: middle;\n",
       "    }\n",
       "\n",
       "    .dataframe tbody tr th {\n",
       "        vertical-align: top;\n",
       "    }\n",
       "\n",
       "    .dataframe thead th {\n",
       "        text-align: right;\n",
       "    }\n",
       "</style>\n",
       "<table border=\"1\" class=\"dataframe\">\n",
       "  <thead>\n",
       "    <tr style=\"text-align: right;\">\n",
       "      <th></th>\n",
       "      <th>messages_included</th>\n",
       "      <th>mb_per_month_included</th>\n",
       "      <th>minutes_included</th>\n",
       "      <th>rub_monthly_fee</th>\n",
       "      <th>rub_per_gb</th>\n",
       "      <th>rub_per_message</th>\n",
       "      <th>rub_per_minute</th>\n",
       "      <th>tariff_name</th>\n",
       "    </tr>\n",
       "  </thead>\n",
       "  <tbody>\n",
       "    <tr>\n",
       "      <td>0</td>\n",
       "      <td>50</td>\n",
       "      <td>15360</td>\n",
       "      <td>500</td>\n",
       "      <td>550</td>\n",
       "      <td>200</td>\n",
       "      <td>3</td>\n",
       "      <td>3</td>\n",
       "      <td>smart</td>\n",
       "    </tr>\n",
       "    <tr>\n",
       "      <td>1</td>\n",
       "      <td>1000</td>\n",
       "      <td>30720</td>\n",
       "      <td>3000</td>\n",
       "      <td>1950</td>\n",
       "      <td>150</td>\n",
       "      <td>1</td>\n",
       "      <td>1</td>\n",
       "      <td>ultra</td>\n",
       "    </tr>\n",
       "  </tbody>\n",
       "</table>\n",
       "</div>"
      ],
      "text/plain": [
       "   messages_included  mb_per_month_included  minutes_included  \\\n",
       "0                 50                  15360               500   \n",
       "1               1000                  30720              3000   \n",
       "\n",
       "   rub_monthly_fee  rub_per_gb  rub_per_message  rub_per_minute tariff_name  \n",
       "0              550         200                3               3       smart  \n",
       "1             1950         150                1               1       ultra  "
      ]
     },
     "execution_count": 66,
     "metadata": {},
     "output_type": "execute_result"
    }
   ],
   "source": [
    "tariffs = pd.read_csv('/datasets/tariffs.csv')                # читаем и записываем датафреймы с данными о\n",
    "users = pd.read_csv('/datasets/users.csv')                    # тарифах и пользователях\n",
    "print('Пользователи')\n",
    "display(users.head())\n",
    "print('Тарифы')\n",
    "tariffs.head()\n"
   ]
  },
  {
   "cell_type": "markdown",
   "metadata": {},
   "source": [
    "**Вывод**\n",
    "\n",
    "Данные о тарифах и пользователях прочитались как надо. Уже видны пропуски в одном столбце в датафрейме о пользователях."
   ]
  },
  {
   "cell_type": "markdown",
   "metadata": {},
   "source": [
    "<div class=\"alert alert-block alert-success\">\n",
    " \n",
    "### Комментарий ревьюера\n",
    "    \n",
    "#### Успех\n",
    "    \n",
    "Все так и есть. Можно приступать дальше. \n",
    "</div>"
   ]
  },
  {
   "cell_type": "markdown",
   "metadata": {},
   "source": [
    "## Предобработка данных"
   ]
  },
  {
   "cell_type": "markdown",
   "metadata": {},
   "source": [
    "### Поиск пропусков и дубликатов"
   ]
  },
  {
   "cell_type": "code",
   "execution_count": 67,
   "metadata": {},
   "outputs": [
    {
     "name": "stdout",
     "output_type": "stream",
     "text": [
      "<class 'pandas.core.frame.DataFrame'>\n",
      "RangeIndex: 202607 entries, 0 to 202606\n",
      "Data columns (total 4 columns):\n",
      "id           202607 non-null object\n",
      "call_date    202607 non-null object\n",
      "duration     202607 non-null float64\n",
      "user_id      202607 non-null int64\n",
      "dtypes: float64(1), int64(1), object(2)\n",
      "memory usage: 6.2+ MB\n",
      "Дубликатов нет\n"
     ]
    }
   ],
   "source": [
    "calls.info()\n",
    "if calls.duplicated().unique() == False:         # Проверка на дубликаты\n",
    "    print('Дубликатов нет')"
   ]
  },
  {
   "cell_type": "markdown",
   "metadata": {},
   "source": [
    "**Вывод**\n",
    "\n",
    "Дата звонка должна иметь тип datetime, длительность звонка должна быть округлена до минут и приведена к типу int, пропусков, к счастью, нет, как и дубликатов."
   ]
  },
  {
   "cell_type": "code",
   "execution_count": 68,
   "metadata": {},
   "outputs": [
    {
     "name": "stdout",
     "output_type": "stream",
     "text": [
      "<class 'pandas.core.frame.DataFrame'>\n",
      "Int64Index: 149396 entries, 0 to 149395\n",
      "Data columns (total 4 columns):\n",
      "id              149396 non-null object\n",
      "mb_used         149396 non-null float64\n",
      "session_date    149396 non-null object\n",
      "user_id         149396 non-null int64\n",
      "dtypes: float64(1), int64(1), object(2)\n",
      "memory usage: 5.7+ MB\n",
      "Дубликатов нет\n"
     ]
    }
   ],
   "source": [
    "internet.info()\n",
    "if internet.duplicated().unique() == False:        # Проверка на дубликаты\n",
    "    print('Дубликатов нет')"
   ]
  },
  {
   "cell_type": "markdown",
   "metadata": {},
   "source": [
    "<div class=\"alert alert-block alert-success\">\n",
    " \n",
    "### Комментарий ревьюера\n",
    "    \n",
    "#### Успех\n",
    "    \n",
    "Красивый и хороший метод проверки на дубликаты. \n",
    "</div>"
   ]
  },
  {
   "cell_type": "markdown",
   "metadata": {},
   "source": [
    "**Вывод**\n",
    "\n",
    "Пропусков в данных о траффике нет, дубликатов тоже, но тип данных о дате сессии необходимо поменять на datetime."
   ]
  },
  {
   "cell_type": "code",
   "execution_count": 69,
   "metadata": {},
   "outputs": [
    {
     "name": "stdout",
     "output_type": "stream",
     "text": [
      "<class 'pandas.core.frame.DataFrame'>\n",
      "RangeIndex: 123036 entries, 0 to 123035\n",
      "Data columns (total 3 columns):\n",
      "id              123036 non-null object\n",
      "message_date    123036 non-null object\n",
      "user_id         123036 non-null int64\n",
      "dtypes: int64(1), object(2)\n",
      "memory usage: 2.8+ MB\n",
      "Дубликатов нет\n"
     ]
    }
   ],
   "source": [
    "messages.info()\n",
    "if messages.duplicated().unique() == False:      # Проверка на дубликаты\n",
    "    print('Дубликатов нет')"
   ]
  },
  {
   "cell_type": "markdown",
   "metadata": {},
   "source": [
    "**Вывод**\n",
    "\n",
    "В данных о сообщениях пропуски не наблюдаются, дубликаты отсутствуют, но тип данных о дате сообщения придётся поменять."
   ]
  },
  {
   "cell_type": "markdown",
   "metadata": {},
   "source": [
    "<div class=\"alert alert-block alert-success\">\n",
    " \n",
    "### Комментарий ревьюера\n",
    "    \n",
    "#### Успех\n",
    "    \n",
    "Здесь тоже все отлично. \n",
    "</div>"
   ]
  },
  {
   "cell_type": "code",
   "execution_count": 70,
   "metadata": {},
   "outputs": [
    {
     "name": "stdout",
     "output_type": "stream",
     "text": [
      "<class 'pandas.core.frame.DataFrame'>\n",
      "RangeIndex: 2 entries, 0 to 1\n",
      "Data columns (total 8 columns):\n",
      "messages_included        2 non-null int64\n",
      "mb_per_month_included    2 non-null int64\n",
      "minutes_included         2 non-null int64\n",
      "rub_monthly_fee          2 non-null int64\n",
      "rub_per_gb               2 non-null int64\n",
      "rub_per_message          2 non-null int64\n",
      "rub_per_minute           2 non-null int64\n",
      "tariff_name              2 non-null object\n",
      "dtypes: int64(7), object(1)\n",
      "memory usage: 256.0+ bytes\n"
     ]
    }
   ],
   "source": [
    "tariffs.info()"
   ]
  },
  {
   "cell_type": "markdown",
   "metadata": {},
   "source": [
    "**Вывод**\n",
    "\n",
    "Данные о тарифах имеют нужный тип и пропуски отсутствуют."
   ]
  },
  {
   "cell_type": "code",
   "execution_count": 71,
   "metadata": {},
   "outputs": [
    {
     "name": "stdout",
     "output_type": "stream",
     "text": [
      "<class 'pandas.core.frame.DataFrame'>\n",
      "RangeIndex: 500 entries, 0 to 499\n",
      "Data columns (total 8 columns):\n",
      "user_id       500 non-null int64\n",
      "age           500 non-null int64\n",
      "churn_date    38 non-null object\n",
      "city          500 non-null object\n",
      "first_name    500 non-null object\n",
      "last_name     500 non-null object\n",
      "reg_date      500 non-null object\n",
      "tariff        500 non-null object\n",
      "dtypes: int64(2), object(6)\n",
      "memory usage: 31.4+ KB\n",
      "Дубликатов нет\n"
     ]
    }
   ],
   "source": [
    "users.info()\n",
    "if users.duplicated().unique() == False:          # Проверка на дубликаты\n",
    "    print('Дубликатов нет')"
   ]
  },
  {
   "cell_type": "markdown",
   "metadata": {},
   "source": [
    "В данных о пользователях есть пропуски в дате прекращения пользованием тарифа, пропуск говорит, что тариф ещё действовал при выгрузке данных. Над этими пропусками проводить операции не целесообразно. Типы данных в этом датафрейме верные."
   ]
  },
  {
   "cell_type": "markdown",
   "metadata": {},
   "source": [
    "<div class=\"alert alert-block alert-success\">\n",
    " \n",
    "### Комментарий ревьюера\n",
    "    \n",
    "#### Успех\n",
    "    \n",
    "Да, полностью с тобой согласен. \n",
    "</div>"
   ]
  },
  {
   "cell_type": "markdown",
   "metadata": {},
   "source": [
    "### Приведение данных к нужному типу"
   ]
  },
  {
   "cell_type": "code",
   "execution_count": 72,
   "metadata": {},
   "outputs": [
    {
     "name": "stdout",
     "output_type": "stream",
     "text": [
      "<class 'pandas.core.frame.DataFrame'>\n",
      "RangeIndex: 202607 entries, 0 to 202606\n",
      "Data columns (total 4 columns):\n",
      "id           202607 non-null object\n",
      "call_date    202607 non-null datetime64[ns]\n",
      "duration     202607 non-null int64\n",
      "user_id      202607 non-null int64\n",
      "dtypes: datetime64[ns](1), int64(2), object(1)\n",
      "memory usage: 6.2+ MB\n"
     ]
    }
   ],
   "source": [
    "calls['call_date'] = pd.to_datetime(                                       # переводим значения даты звонка в datetime\n",
    "    calls['call_date'], format='%Y-%m-%d')\n",
    "calls['duration'] = np.ceil(calls['duration']).astype('int')         # округляем время разговора по правилам кампании\n",
    "calls.info()"
   ]
  },
  {
   "cell_type": "markdown",
   "metadata": {},
   "source": [
    "<div class=\"alert alert-block alert-warning\">\n",
    " \n",
    "### Комментарий ревьюера\n",
    "    \n",
    "#### Совет\n",
    "    \n",
    "Ты делаешь округление np.ceil с помощью apply - это не оптимальный способ. Дело в том, что np.ceil не нуждается в apply, т.к. может работать сразу со всем столбцом.\n",
    "</div>"
   ]
  },
  {
   "cell_type": "markdown",
   "metadata": {},
   "source": [
    "<div class=\"alert alert-block alert-success\">\n",
    " \n",
    "### Комментарий ревьюера ver.2\n",
    "    \n",
    "#### Успех\n",
    "    \n",
    "Так даже лучше:)\n",
    "</div>"
   ]
  },
  {
   "cell_type": "markdown",
   "metadata": {},
   "source": [
    "<div class=\"alert alert-block alert-info\">\n",
    "\n",
    "Метод apply убрал."
   ]
  },
  {
   "cell_type": "code",
   "execution_count": 73,
   "metadata": {},
   "outputs": [
    {
     "name": "stdout",
     "output_type": "stream",
     "text": [
      "Ненужного столбца уже нет\n"
     ]
    },
    {
     "data": {
      "text/html": [
       "<div>\n",
       "<style scoped>\n",
       "    .dataframe tbody tr th:only-of-type {\n",
       "        vertical-align: middle;\n",
       "    }\n",
       "\n",
       "    .dataframe tbody tr th {\n",
       "        vertical-align: top;\n",
       "    }\n",
       "\n",
       "    .dataframe thead th {\n",
       "        text-align: right;\n",
       "    }\n",
       "</style>\n",
       "<table border=\"1\" class=\"dataframe\">\n",
       "  <thead>\n",
       "    <tr style=\"text-align: right;\">\n",
       "      <th></th>\n",
       "      <th>id</th>\n",
       "      <th>mb_used</th>\n",
       "      <th>session_date</th>\n",
       "      <th>user_id</th>\n",
       "    </tr>\n",
       "  </thead>\n",
       "  <tbody>\n",
       "    <tr>\n",
       "      <td>0</td>\n",
       "      <td>1000_0</td>\n",
       "      <td>112.95</td>\n",
       "      <td>2018-11-25</td>\n",
       "      <td>1000</td>\n",
       "    </tr>\n",
       "    <tr>\n",
       "      <td>1</td>\n",
       "      <td>1000_1</td>\n",
       "      <td>1052.81</td>\n",
       "      <td>2018-09-07</td>\n",
       "      <td>1000</td>\n",
       "    </tr>\n",
       "    <tr>\n",
       "      <td>2</td>\n",
       "      <td>1000_2</td>\n",
       "      <td>1197.26</td>\n",
       "      <td>2018-06-25</td>\n",
       "      <td>1000</td>\n",
       "    </tr>\n",
       "    <tr>\n",
       "      <td>3</td>\n",
       "      <td>1000_3</td>\n",
       "      <td>550.27</td>\n",
       "      <td>2018-08-22</td>\n",
       "      <td>1000</td>\n",
       "    </tr>\n",
       "    <tr>\n",
       "      <td>4</td>\n",
       "      <td>1000_4</td>\n",
       "      <td>302.56</td>\n",
       "      <td>2018-09-24</td>\n",
       "      <td>1000</td>\n",
       "    </tr>\n",
       "  </tbody>\n",
       "</table>\n",
       "</div>"
      ],
      "text/plain": [
       "       id  mb_used session_date  user_id\n",
       "0  1000_0   112.95   2018-11-25     1000\n",
       "1  1000_1  1052.81   2018-09-07     1000\n",
       "2  1000_2  1197.26   2018-06-25     1000\n",
       "3  1000_3   550.27   2018-08-22     1000\n",
       "4  1000_4   302.56   2018-09-24     1000"
      ]
     },
     "execution_count": 73,
     "metadata": {},
     "output_type": "execute_result"
    }
   ],
   "source": [
    "try:\n",
    "    internet.pop('Unnamed: 0')                                                  # удаление избыточного столбца\n",
    "except:\n",
    "    print('Ненужного столбца уже нет')\n",
    "    \n",
    "internet['session_date'] = pd.to_datetime(                         # переводим значения даты сессий в datetime\n",
    "    internet['session_date'], format='%Y-%m-%d')\n",
    "internet.head()"
   ]
  },
  {
   "cell_type": "code",
   "execution_count": 74,
   "metadata": {},
   "outputs": [
    {
     "name": "stdout",
     "output_type": "stream",
     "text": [
      "<class 'pandas.core.frame.DataFrame'>\n",
      "RangeIndex: 123036 entries, 0 to 123035\n",
      "Data columns (total 3 columns):\n",
      "id              123036 non-null object\n",
      "message_date    123036 non-null datetime64[ns]\n",
      "user_id         123036 non-null int64\n",
      "dtypes: datetime64[ns](1), int64(1), object(1)\n",
      "memory usage: 2.8+ MB\n"
     ]
    }
   ],
   "source": [
    "messages['message_date'] = pd.to_datetime(                         # переводим значения даты отправки сообщения в datetime\n",
    "    messages['message_date'], format='%Y-%m-%d')\n",
    "messages.info()"
   ]
  },
  {
   "cell_type": "code",
   "execution_count": 75,
   "metadata": {},
   "outputs": [],
   "source": [
    "users['reg_date'] = pd.to_datetime(                         # переводим значения даты регистрации в datetime\n",
    "    users['reg_date'], format='%Y-%m-%d')\n"
   ]
  },
  {
   "cell_type": "markdown",
   "metadata": {},
   "source": [
    "**Вывод**\n",
    "\n",
    "Самой часто встречающейся ошибкой был неправильный тип данных даты, кроме того пришлось удалить ненужный столбец и округлить время разговора по правилам кампании. "
   ]
  },
  {
   "cell_type": "markdown",
   "metadata": {},
   "source": [
    "<div class=\"alert alert-block alert-success\">\n",
    " \n",
    "### Комментарий ревьюера\n",
    "    \n",
    "#### Успех\n",
    "    \n",
    "Очень хорошо поработал с датой. Молодец.\n",
    "</div>"
   ]
  },
  {
   "cell_type": "markdown",
   "metadata": {},
   "source": [
    "### Вычисление дополнительных величин"
   ]
  },
  {
   "cell_type": "markdown",
   "metadata": {},
   "source": [
    "Переведём траффик интернета в ГБ:"
   ]
  },
  {
   "cell_type": "code",
   "execution_count": 76,
   "metadata": {},
   "outputs": [
    {
     "data": {
      "text/html": [
       "<div>\n",
       "<style scoped>\n",
       "    .dataframe tbody tr th:only-of-type {\n",
       "        vertical-align: middle;\n",
       "    }\n",
       "\n",
       "    .dataframe tbody tr th {\n",
       "        vertical-align: top;\n",
       "    }\n",
       "\n",
       "    .dataframe thead th {\n",
       "        text-align: right;\n",
       "    }\n",
       "</style>\n",
       "<table border=\"1\" class=\"dataframe\">\n",
       "  <thead>\n",
       "    <tr style=\"text-align: right;\">\n",
       "      <th></th>\n",
       "      <th>id</th>\n",
       "      <th>gb_used</th>\n",
       "      <th>session_date</th>\n",
       "      <th>user_id</th>\n",
       "    </tr>\n",
       "  </thead>\n",
       "  <tbody>\n",
       "    <tr>\n",
       "      <td>0</td>\n",
       "      <td>1000_0</td>\n",
       "      <td>0.110303</td>\n",
       "      <td>2018-11-25</td>\n",
       "      <td>1000</td>\n",
       "    </tr>\n",
       "    <tr>\n",
       "      <td>1</td>\n",
       "      <td>1000_1</td>\n",
       "      <td>1.028135</td>\n",
       "      <td>2018-09-07</td>\n",
       "      <td>1000</td>\n",
       "    </tr>\n",
       "    <tr>\n",
       "      <td>2</td>\n",
       "      <td>1000_2</td>\n",
       "      <td>1.169199</td>\n",
       "      <td>2018-06-25</td>\n",
       "      <td>1000</td>\n",
       "    </tr>\n",
       "    <tr>\n",
       "      <td>3</td>\n",
       "      <td>1000_3</td>\n",
       "      <td>0.537373</td>\n",
       "      <td>2018-08-22</td>\n",
       "      <td>1000</td>\n",
       "    </tr>\n",
       "    <tr>\n",
       "      <td>4</td>\n",
       "      <td>1000_4</td>\n",
       "      <td>0.295469</td>\n",
       "      <td>2018-09-24</td>\n",
       "      <td>1000</td>\n",
       "    </tr>\n",
       "  </tbody>\n",
       "</table>\n",
       "</div>"
      ],
      "text/plain": [
       "       id   gb_used session_date  user_id\n",
       "0  1000_0  0.110303   2018-11-25     1000\n",
       "1  1000_1  1.028135   2018-09-07     1000\n",
       "2  1000_2  1.169199   2018-06-25     1000\n",
       "3  1000_3  0.537373   2018-08-22     1000\n",
       "4  1000_4  0.295469   2018-09-24     1000"
      ]
     },
     "execution_count": 76,
     "metadata": {},
     "output_type": "execute_result"
    }
   ],
   "source": [
    "                \n",
    "try:                                                                \n",
    "    internet['mb_used'] = internet['mb_used'] / 1024                # переводим МБ в ГБ \n",
    "    internet.rename(columns={'mb_used': 'gb_used'}, inplace=True)   # незабываем переименовать столбец\n",
    "except:\n",
    "    print('МБ уже переведены в ГБ')\n",
    "internet.head()"
   ]
  },
  {
   "cell_type": "code",
   "execution_count": 77,
   "metadata": {},
   "outputs": [
    {
     "data": {
      "text/html": [
       "<div>\n",
       "<style scoped>\n",
       "    .dataframe tbody tr th:only-of-type {\n",
       "        vertical-align: middle;\n",
       "    }\n",
       "\n",
       "    .dataframe tbody tr th {\n",
       "        vertical-align: top;\n",
       "    }\n",
       "\n",
       "    .dataframe thead th {\n",
       "        text-align: right;\n",
       "    }\n",
       "</style>\n",
       "<table border=\"1\" class=\"dataframe\">\n",
       "  <thead>\n",
       "    <tr style=\"text-align: right;\">\n",
       "      <th></th>\n",
       "      <th>user_id</th>\n",
       "      <th>month</th>\n",
       "      <th>number_of_calls</th>\n",
       "      <th>number_of_minutes</th>\n",
       "      <th>number_of_messages</th>\n",
       "      <th>number_of_gb</th>\n",
       "    </tr>\n",
       "  </thead>\n",
       "  <tbody>\n",
       "    <tr>\n",
       "      <td>0</td>\n",
       "      <td>1000</td>\n",
       "      <td>5</td>\n",
       "      <td>22.0</td>\n",
       "      <td>159.0</td>\n",
       "      <td>22.0</td>\n",
       "      <td>2.200674</td>\n",
       "    </tr>\n",
       "    <tr>\n",
       "      <td>1</td>\n",
       "      <td>1000</td>\n",
       "      <td>6</td>\n",
       "      <td>43.0</td>\n",
       "      <td>172.0</td>\n",
       "      <td>60.0</td>\n",
       "      <td>22.689229</td>\n",
       "    </tr>\n",
       "    <tr>\n",
       "      <td>2</td>\n",
       "      <td>1000</td>\n",
       "      <td>7</td>\n",
       "      <td>47.0</td>\n",
       "      <td>340.0</td>\n",
       "      <td>75.0</td>\n",
       "      <td>13.675430</td>\n",
       "    </tr>\n",
       "    <tr>\n",
       "      <td>3</td>\n",
       "      <td>1000</td>\n",
       "      <td>8</td>\n",
       "      <td>52.0</td>\n",
       "      <td>408.0</td>\n",
       "      <td>81.0</td>\n",
       "      <td>13.726494</td>\n",
       "    </tr>\n",
       "    <tr>\n",
       "      <td>4</td>\n",
       "      <td>1000</td>\n",
       "      <td>9</td>\n",
       "      <td>58.0</td>\n",
       "      <td>466.0</td>\n",
       "      <td>57.0</td>\n",
       "      <td>14.227451</td>\n",
       "    </tr>\n",
       "    <tr>\n",
       "      <td>...</td>\n",
       "      <td>...</td>\n",
       "      <td>...</td>\n",
       "      <td>...</td>\n",
       "      <td>...</td>\n",
       "      <td>...</td>\n",
       "      <td>...</td>\n",
       "    </tr>\n",
       "    <tr>\n",
       "      <td>3209</td>\n",
       "      <td>1498</td>\n",
       "      <td>10</td>\n",
       "      <td>41.0</td>\n",
       "      <td>247.0</td>\n",
       "      <td>42.0</td>\n",
       "      <td>20.097031</td>\n",
       "    </tr>\n",
       "    <tr>\n",
       "      <td>3210</td>\n",
       "      <td>1499</td>\n",
       "      <td>9</td>\n",
       "      <td>9.0</td>\n",
       "      <td>70.0</td>\n",
       "      <td>11.0</td>\n",
       "      <td>1.802490</td>\n",
       "    </tr>\n",
       "    <tr>\n",
       "      <td>3211</td>\n",
       "      <td>1499</td>\n",
       "      <td>10</td>\n",
       "      <td>68.0</td>\n",
       "      <td>449.0</td>\n",
       "      <td>48.0</td>\n",
       "      <td>17.371592</td>\n",
       "    </tr>\n",
       "    <tr>\n",
       "      <td>3212</td>\n",
       "      <td>1499</td>\n",
       "      <td>11</td>\n",
       "      <td>74.0</td>\n",
       "      <td>612.0</td>\n",
       "      <td>59.0</td>\n",
       "      <td>17.542295</td>\n",
       "    </tr>\n",
       "    <tr>\n",
       "      <td>3213</td>\n",
       "      <td>1499</td>\n",
       "      <td>12</td>\n",
       "      <td>69.0</td>\n",
       "      <td>492.0</td>\n",
       "      <td>66.0</td>\n",
       "      <td>12.749590</td>\n",
       "    </tr>\n",
       "  </tbody>\n",
       "</table>\n",
       "<p>3214 rows × 6 columns</p>\n",
       "</div>"
      ],
      "text/plain": [
       "      user_id  month  number_of_calls  number_of_minutes  number_of_messages  \\\n",
       "0        1000      5             22.0              159.0                22.0   \n",
       "1        1000      6             43.0              172.0                60.0   \n",
       "2        1000      7             47.0              340.0                75.0   \n",
       "3        1000      8             52.0              408.0                81.0   \n",
       "4        1000      9             58.0              466.0                57.0   \n",
       "...       ...    ...              ...                ...                 ...   \n",
       "3209     1498     10             41.0              247.0                42.0   \n",
       "3210     1499      9              9.0               70.0                11.0   \n",
       "3211     1499     10             68.0              449.0                48.0   \n",
       "3212     1499     11             74.0              612.0                59.0   \n",
       "3213     1499     12             69.0              492.0                66.0   \n",
       "\n",
       "      number_of_gb  \n",
       "0         2.200674  \n",
       "1        22.689229  \n",
       "2        13.675430  \n",
       "3        13.726494  \n",
       "4        14.227451  \n",
       "...            ...  \n",
       "3209     20.097031  \n",
       "3210      1.802490  \n",
       "3211     17.371592  \n",
       "3212     17.542295  \n",
       "3213     12.749590  \n",
       "\n",
       "[3214 rows x 6 columns]"
      ]
     },
     "metadata": {},
     "output_type": "display_data"
    }
   ],
   "source": [
    "calls['month'] = calls['call_date'].dt.month                   # добавляем столбцы с месяцем оказания услуги в датафреймы\n",
    "messages['month'] = messages['message_date'].dt.month          # звонков, СМС \n",
    "internet['month'] = internet['session_date'].dt.month          #   и интернета\n",
    "\n",
    "\n",
    "number_of_calls = calls.pivot_table(index=['user_id','month'], values='id', aggfunc='count') # сводная таблица количества звон-\n",
    "number_of_calls.columns = ['number_of_calls']                  # ков по пользователям и месяцам\n",
    "\n",
    "number_of_messages = messages.pivot_table(index=['user_id','month'], values='id', aggfunc='count') # сводная таблица количества\n",
    "number_of_messages.columns = ['number_of_messages']            # сообщений по пользователям и месяцам\n",
    "\n",
    "number_of_gb = internet.pivot_table(index=['user_id','month'], values='gb_used', aggfunc='sum') # сводная таблица количества\n",
    "number_of_gb.columns = ['number_of_gb']                        # траффика интернета по пользователям и месяцам\n",
    "\n",
    "number_of_minutes = calls.pivot_table(index=['user_id','month'], values='duration', aggfunc='sum') # сводная таблица минут \n",
    "number_of_minutes.columns = ['number_of_minutes']              # раговора пользователям и месяцам\n",
    "\n",
    "\n",
    "services_value = number_of_calls.join([number_of_minutes,number_of_messages,number_of_gb], how='outer') # объединяем сводные\n",
    "                                                            # таблицы\n",
    "services_value = services_value.fillna(0)                   # если человек чем-то не пользовался - ставим 0 \n",
    "services_value = services_value.reset_index()               # избавляемся от мультииндекса\n",
    "display(services_value)\n",
    "\n"
   ]
  },
  {
   "cell_type": "markdown",
   "metadata": {},
   "source": [
    "<div class=\"alert alert-block alert-success\">\n",
    " \n",
    "### Комментарий ревьюера\n",
    "    \n",
    "#### Успех\n",
    "    \n",
    "Объединение прошло отлично. Все данные на месте и группировка сделаан правильно. \n",
    "</div>"
   ]
  },
  {
   "cell_type": "code",
   "execution_count": 78,
   "metadata": {},
   "outputs": [
    {
     "data": {
      "text/html": [
       "<div>\n",
       "<style scoped>\n",
       "    .dataframe tbody tr th:only-of-type {\n",
       "        vertical-align: middle;\n",
       "    }\n",
       "\n",
       "    .dataframe tbody tr th {\n",
       "        vertical-align: top;\n",
       "    }\n",
       "\n",
       "    .dataframe thead th {\n",
       "        text-align: right;\n",
       "    }\n",
       "</style>\n",
       "<table border=\"1\" class=\"dataframe\">\n",
       "  <thead>\n",
       "    <tr style=\"text-align: right;\">\n",
       "      <th></th>\n",
       "      <th>user_id</th>\n",
       "      <th>month</th>\n",
       "      <th>number_of_calls</th>\n",
       "      <th>number_of_minutes</th>\n",
       "      <th>number_of_messages</th>\n",
       "      <th>number_of_gb</th>\n",
       "      <th>money</th>\n",
       "      <th>tarif_id</th>\n",
       "    </tr>\n",
       "  </thead>\n",
       "  <tbody>\n",
       "    <tr>\n",
       "      <td>0</td>\n",
       "      <td>1000</td>\n",
       "      <td>5</td>\n",
       "      <td>22.0</td>\n",
       "      <td>159.0</td>\n",
       "      <td>22.0</td>\n",
       "      <td>2.200674</td>\n",
       "      <td>1950.0</td>\n",
       "      <td>1</td>\n",
       "    </tr>\n",
       "    <tr>\n",
       "      <td>1</td>\n",
       "      <td>1000</td>\n",
       "      <td>6</td>\n",
       "      <td>43.0</td>\n",
       "      <td>172.0</td>\n",
       "      <td>60.0</td>\n",
       "      <td>22.689229</td>\n",
       "      <td>1950.0</td>\n",
       "      <td>1</td>\n",
       "    </tr>\n",
       "    <tr>\n",
       "      <td>2</td>\n",
       "      <td>1000</td>\n",
       "      <td>7</td>\n",
       "      <td>47.0</td>\n",
       "      <td>340.0</td>\n",
       "      <td>75.0</td>\n",
       "      <td>13.675430</td>\n",
       "      <td>1950.0</td>\n",
       "      <td>1</td>\n",
       "    </tr>\n",
       "    <tr>\n",
       "      <td>3</td>\n",
       "      <td>1000</td>\n",
       "      <td>8</td>\n",
       "      <td>52.0</td>\n",
       "      <td>408.0</td>\n",
       "      <td>81.0</td>\n",
       "      <td>13.726494</td>\n",
       "      <td>1950.0</td>\n",
       "      <td>1</td>\n",
       "    </tr>\n",
       "    <tr>\n",
       "      <td>4</td>\n",
       "      <td>1000</td>\n",
       "      <td>9</td>\n",
       "      <td>58.0</td>\n",
       "      <td>466.0</td>\n",
       "      <td>57.0</td>\n",
       "      <td>14.227451</td>\n",
       "      <td>1950.0</td>\n",
       "      <td>1</td>\n",
       "    </tr>\n",
       "    <tr>\n",
       "      <td>...</td>\n",
       "      <td>...</td>\n",
       "      <td>...</td>\n",
       "      <td>...</td>\n",
       "      <td>...</td>\n",
       "      <td>...</td>\n",
       "      <td>...</td>\n",
       "      <td>...</td>\n",
       "      <td>...</td>\n",
       "    </tr>\n",
       "    <tr>\n",
       "      <td>3209</td>\n",
       "      <td>1498</td>\n",
       "      <td>10</td>\n",
       "      <td>41.0</td>\n",
       "      <td>247.0</td>\n",
       "      <td>42.0</td>\n",
       "      <td>20.097031</td>\n",
       "      <td>1750.0</td>\n",
       "      <td>0</td>\n",
       "    </tr>\n",
       "    <tr>\n",
       "      <td>3210</td>\n",
       "      <td>1499</td>\n",
       "      <td>9</td>\n",
       "      <td>9.0</td>\n",
       "      <td>70.0</td>\n",
       "      <td>11.0</td>\n",
       "      <td>1.802490</td>\n",
       "      <td>550.0</td>\n",
       "      <td>0</td>\n",
       "    </tr>\n",
       "    <tr>\n",
       "      <td>3211</td>\n",
       "      <td>1499</td>\n",
       "      <td>10</td>\n",
       "      <td>68.0</td>\n",
       "      <td>449.0</td>\n",
       "      <td>48.0</td>\n",
       "      <td>17.371592</td>\n",
       "      <td>1150.0</td>\n",
       "      <td>0</td>\n",
       "    </tr>\n",
       "    <tr>\n",
       "      <td>3212</td>\n",
       "      <td>1499</td>\n",
       "      <td>11</td>\n",
       "      <td>74.0</td>\n",
       "      <td>612.0</td>\n",
       "      <td>59.0</td>\n",
       "      <td>17.542295</td>\n",
       "      <td>1513.0</td>\n",
       "      <td>0</td>\n",
       "    </tr>\n",
       "    <tr>\n",
       "      <td>3213</td>\n",
       "      <td>1499</td>\n",
       "      <td>12</td>\n",
       "      <td>69.0</td>\n",
       "      <td>492.0</td>\n",
       "      <td>66.0</td>\n",
       "      <td>12.749590</td>\n",
       "      <td>598.0</td>\n",
       "      <td>0</td>\n",
       "    </tr>\n",
       "  </tbody>\n",
       "</table>\n",
       "<p>3214 rows × 8 columns</p>\n",
       "</div>"
      ],
      "text/plain": [
       "      user_id  month  number_of_calls  number_of_minutes  number_of_messages  \\\n",
       "0        1000      5             22.0              159.0                22.0   \n",
       "1        1000      6             43.0              172.0                60.0   \n",
       "2        1000      7             47.0              340.0                75.0   \n",
       "3        1000      8             52.0              408.0                81.0   \n",
       "4        1000      9             58.0              466.0                57.0   \n",
       "...       ...    ...              ...                ...                 ...   \n",
       "3209     1498     10             41.0              247.0                42.0   \n",
       "3210     1499      9              9.0               70.0                11.0   \n",
       "3211     1499     10             68.0              449.0                48.0   \n",
       "3212     1499     11             74.0              612.0                59.0   \n",
       "3213     1499     12             69.0              492.0                66.0   \n",
       "\n",
       "      number_of_gb   money  tarif_id  \n",
       "0         2.200674  1950.0         1  \n",
       "1        22.689229  1950.0         1  \n",
       "2        13.675430  1950.0         1  \n",
       "3        13.726494  1950.0         1  \n",
       "4        14.227451  1950.0         1  \n",
       "...            ...     ...       ...  \n",
       "3209     20.097031  1750.0         0  \n",
       "3210      1.802490   550.0         0  \n",
       "3211     17.371592  1150.0         0  \n",
       "3212     17.542295  1513.0         0  \n",
       "3213     12.749590   598.0         0  \n",
       "\n",
       "[3214 rows x 8 columns]"
      ]
     },
     "metadata": {},
     "output_type": "display_data"
    },
    {
     "name": "stdout",
     "output_type": "stream",
     "text": [
      "Количество активных пользователей: 498\n",
      "Неактивные пользователи:\n"
     ]
    },
    {
     "data": {
      "text/html": [
       "<div>\n",
       "<style scoped>\n",
       "    .dataframe tbody tr th:only-of-type {\n",
       "        vertical-align: middle;\n",
       "    }\n",
       "\n",
       "    .dataframe tbody tr th {\n",
       "        vertical-align: top;\n",
       "    }\n",
       "\n",
       "    .dataframe thead th {\n",
       "        text-align: right;\n",
       "    }\n",
       "</style>\n",
       "<table border=\"1\" class=\"dataframe\">\n",
       "  <thead>\n",
       "    <tr style=\"text-align: right;\">\n",
       "      <th></th>\n",
       "      <th>user_id</th>\n",
       "      <th>age</th>\n",
       "      <th>churn_date</th>\n",
       "      <th>city</th>\n",
       "      <th>first_name</th>\n",
       "      <th>last_name</th>\n",
       "      <th>reg_date</th>\n",
       "      <th>tariff</th>\n",
       "    </tr>\n",
       "  </thead>\n",
       "  <tbody>\n",
       "    <tr>\n",
       "      <td>128</td>\n",
       "      <td>1128</td>\n",
       "      <td>51</td>\n",
       "      <td>2018-12-23</td>\n",
       "      <td>Волжский</td>\n",
       "      <td>Ксения</td>\n",
       "      <td>Агаева</td>\n",
       "      <td>2018-12-15</td>\n",
       "      <td>ultra</td>\n",
       "    </tr>\n",
       "    <tr>\n",
       "      <td>371</td>\n",
       "      <td>1371</td>\n",
       "      <td>50</td>\n",
       "      <td>2018-12-30</td>\n",
       "      <td>Омск</td>\n",
       "      <td>Ириней</td>\n",
       "      <td>Трофимов</td>\n",
       "      <td>2018-12-25</td>\n",
       "      <td>smart</td>\n",
       "    </tr>\n",
       "  </tbody>\n",
       "</table>\n",
       "</div>"
      ],
      "text/plain": [
       "     user_id  age  churn_date      city first_name last_name   reg_date tariff\n",
       "128     1128   51  2018-12-23  Волжский     Ксения    Агаева 2018-12-15  ultra\n",
       "371     1371   50  2018-12-30      Омск     Ириней  Трофимов 2018-12-25  smart"
      ]
     },
     "execution_count": 78,
     "metadata": {},
     "output_type": "execute_result"
    }
   ],
   "source": [
    "money = []                       # создание пустых строк: - сюда мы будем записывать помесячную выручку с клиентов\n",
    "tarif_id = []                    #                        - сюда мы будем записывать id тарифа (0 или 1)\n",
    "\n",
    "\n",
    "for i in range(len(services_value['number_of_gb'])):        # запускаем цикл по всем активным пользователям\n",
    "    b = users['tariff'][users['user_id'] == services_value['user_id'][i]].values # берём тариф, которым пользуется клиент\n",
    "   \n",
    "    if b == tariffs['tariff_name'][1]:                      # если это тариф ультра:\n",
    "        tarif_id.append(1)                                  #   присваиваем id тарифу\n",
    "###############################################################################################################################        \n",
    "        money.append(                                                                                         \n",
    "            ((services_value['number_of_minutes'][i] - tariffs['minutes_included'][1]) \n",
    "             + abs(services_value['number_of_minutes'][i] - tariffs['minutes_included'][1])) / 2 * tariffs['rub_per_minute'][1]\n",
    "            + (services_value['number_of_messages'][i] - tariffs['messages_included'][1]\n",
    "            + abs(services_value['number_of_messages'][i] - tariffs['messages_included'][1]))/ 2 * tariffs['rub_per_message'][1]\n",
    "            + math.ceil(((services_value['number_of_gb'][i] - tariffs['mb_per_month_included'][1]/1024\n",
    "            + abs(services_value['number_of_gb'][i] - tariffs['mb_per_month_included'][1]/1024))/2)) \n",
    "            * tariffs['rub_per_gb'][1] + tariffs['rub_monthly_fee'][1]            \n",
    "        )\n",
    "# Считаем месячную выручку для пользователей с тарифом ультра.Здесь конструкция с abs и делением на 2 позволяет получать 0,\n",
    "# если лимит не исчерпан. math.ceil() и деление на 1024 позволяет получать Гб сверх лимита\n",
    "###############################################################################################################################        \n",
    "    else:\n",
    "        tarif_id.append(0)\n",
    "        money.append(\n",
    "            ((services_value['number_of_minutes'][i] - tariffs['minutes_included'][0]) \n",
    "             + abs(services_value['number_of_minutes'][i] - tariffs['minutes_included'][0])) / 2 * tariffs['rub_per_minute'][0] \n",
    "            + (services_value['number_of_messages'][i] - tariffs['messages_included'][0]\n",
    "            + abs(services_value['number_of_messages'][i] - tariffs['messages_included'][0]))/2 * tariffs['rub_per_message'][0]\n",
    "           + math.ceil((services_value['number_of_gb'][i] - tariffs['mb_per_month_included'][0]/1024\n",
    "            + abs(services_value['number_of_gb'][i] - tariffs['mb_per_month_included'][0]/1024))/2) * tariffs['rub_per_gb'][0] \n",
    "            + tariffs['rub_monthly_fee'][0]\n",
    "        )\n",
    "# Считаем месячную выручку для пользователей с тарифом смарт. Конструкции те же, что и для тарифа ultra.        \n",
    "###############################################################################################################################            \n",
    "\n",
    "services_value['money'] = money                  # добавляем столбцы с выручкой\n",
    "services_value['tarif_id'] = tarif_id            #     и id тарифа в датафрейм\n",
    "display(services_value)\n",
    "\n",
    "print('Количество активных пользователей:',len(services_value['user_id'].unique()))  # проверка числа активных пользователей\n",
    "                                                        # активный, значит, воспользовался хоть раз какой-либо услугой\n",
    "id_of_payers = services_value['user_id'].unique()       # сохраняем список активных пользователей\n",
    "id_of_users = users['user_id'].values                   # сохраняем список всех пользователей\n",
    "id_subscribers = []                                     # пустой список - сюда запишем неактивных пользовалей\n",
    "for user in id_of_users:                           # ищем в цикле неактивных среди всех пользователей \n",
    "    if user not in id_of_payers:\n",
    "        id_subscribers.append(user)                # записываем из в список id_subscribers\n",
    "print('Неактивные пользователи:')\n",
    "users.query('user_id in @id_subscribers')\n"
   ]
  },
  {
   "cell_type": "markdown",
   "metadata": {},
   "source": [
    "<div class=\"alert alert-block alert-danger\">\n",
    " \n",
    "### Комментарий ревьюера\n",
    "    \n",
    "#### Ошибка\n",
    "    \n",
    "Все идеально, кроме одного. Нужно столбец по расходу интернета в ГБ перевести. Мы же все же деньги берем за целые ГБ.\n",
    "</div>"
   ]
  },
  {
   "cell_type": "markdown",
   "metadata": {},
   "source": [
    "<div class=\"alert alert-block alert-info\">\n",
    "\n",
    "Оплошность исправил, расходы траффика теперь в ГБ."
   ]
  },
  {
   "cell_type": "markdown",
   "metadata": {},
   "source": [
    "<div class=\"alert alert-block alert-success\">\n",
    " \n",
    "### Комментарий ревьюера ver.2\n",
    "    \n",
    "#### Успех\n",
    "    \n",
    "Да, теперь все верно выходит.\n",
    "</div>"
   ]
  },
  {
   "cell_type": "markdown",
   "metadata": {},
   "source": [
    "**Вывод**\n",
    "\n",
    "В ходе вычисления для каждого клиента:\n",
    "- количества сделанных звонков и израсходованных минут разговора по месяцам;\n",
    "- количество отправленных сообщений по месяцам;\n",
    "- объем израсходованного интернет-трафика по месяцам;\n",
    "- помесячную выручку с каждого пользователя\n",
    "\n",
    "пришлось создавать сводные таблицы из разных датафреймов, а потом объединить их в один датафрейм. \n",
    "\n",
    "Что касается неактивных пользователей, то их оказалось всего двое, при этом они подключили и отключили тариф в одном и том же месяце, считаю, что брать абонентскую плату с них не стоит и в статистику включать их не нужно."
   ]
  },
  {
   "cell_type": "markdown",
   "metadata": {},
   "source": [
    "## Анализ данных"
   ]
  },
  {
   "cell_type": "markdown",
   "metadata": {},
   "source": [
    "### Анализ числа звонков"
   ]
  },
  {
   "cell_type": "code",
   "execution_count": 79,
   "metadata": {},
   "outputs": [
    {
     "name": "stdout",
     "output_type": "stream",
     "text": [
      "Среднее число звонков в месяц по тарифу smart: 58.65204535147392\n",
      "Дисперсия числа звонков в месяц по тарифу smart: 402.5094134109296\n",
      "Cтандартное отклонение числа звонков в месяц по тарифу smart: 20.062637249647157\n",
      "Среднее число звонков в месяц по тарифу ultra: 73.4381006006006\n",
      "Дисперсия числа звонков в месяц по тарифу ultra: 1528.876824015739\n",
      "Cтандартное отклонение числа звонков в месяц по тарифу ultra: 39.100854517717885\n"
     ]
    },
    {
     "data": {
      "image/png": "[encoded data removed]",
      "text/plain": [
       "<Figure size 432x288 with 1 Axes>"
      ]
     },
     "metadata": {
      "needs_background": "light"
     },
     "output_type": "display_data"
    }
   ],
   "source": [
    "####Cоздание сводной таблицы со средними показателями выручки, количества звонков, сообщений и траффика##############\n",
    "services_pivot = services_value.pivot_table(index=['user_id','tarif_id'], values=['number_of_calls','number_of_gb', #\n",
    "                                                                'number_of_messages','money'], aggfunc='mean')      #\n",
    "services_pivot.columns = ['money_mn','number_of_calls_mn','number_of_gb_mn', 'number_of_messages_mn']               #\n",
    "#####################################################################################################################\n",
    "\n",
    "services_pivot = services_pivot.reset_index() # производим переиндексацию           \n",
    "############################   Тариф Смарт   ################################################################################\n",
    "ax = services_pivot.query('tarif_id == 0').plot(kind='hist', y='number_of_calls_mn',        #строим гистограмму\n",
    "                                           bins=15, label='Тариф Смарт', range=(0,180))\n",
    "print('Среднее число звонков в месяц по тарифу smart:',services_pivot.query(           # берём среднее число звонков\n",
    "    'tarif_id == 0')['number_of_calls_mn'].describe()[1])                              # из метода describe\n",
    "dispertion_smart = np.var(services_pivot.query('tarif_id == 0')['number_of_calls_mn']) # определяем дисперсию\n",
    "print('Дисперсия числа звонков в месяц по тарифу smart:',dispertion_smart)\n",
    "standard_deviation_smart = np.sqrt(dispertion_smart)                                   # считаем стандартное отклонение\n",
    "print('Cтандартное отклонение числа звонков в месяц по тарифу smart:',standard_deviation_smart)\n",
    "############################   Тариф Ультра    ################################################################################\n",
    "services_pivot.query('tarif_id == 1').plot(kind='hist', y='number_of_calls_mn',         #строим гистограмму\n",
    "                                           bins=15, label='Тариф Ультра', range=(0,180) , ax=ax, alpha=0.7)\n",
    "print('Среднее число звонков в месяц по тарифу ultra:',services_pivot.query(            # берём среднее число звонков \n",
    "    'tarif_id == 1')['number_of_calls_mn'].describe()[1])                               # из метода describe\n",
    "dispertion_ultra = np.var(services_pivot.query('tarif_id == 1')['number_of_calls_mn'])  # определяем дисперсию\n",
    "print('Дисперсия числа звонков в месяц по тарифу ultra:',dispertion_ultra)\n",
    "standard_deviation_ultra = np.sqrt(dispertion_ultra)                                    # считаем стандартное отклонение\n",
    "print('Cтандартное отклонение числа звонков в месяц по тарифу ultra:',standard_deviation_ultra)\n"
   ]
  },
  {
   "cell_type": "markdown",
   "metadata": {},
   "source": [
    "<div class=\"alert alert-block alert-warning\">\n",
    " \n",
    "### Комментарий ревьюера\n",
    "    \n",
    "#### Совет\n",
    "    \n",
    "Отлично. Было бы только лучше, если бы ты два разных тарифа на одном графике показал. Так бы нам проще было увидеть разницу. \n",
    "</div>"
   ]
  },
  {
   "cell_type": "markdown",
   "metadata": {},
   "source": [
    "<div class=\"alert alert-block alert-info\">\n",
    "\n",
    "Графики теперь на одном рисунке."
   ]
  },
  {
   "cell_type": "markdown",
   "metadata": {},
   "source": [
    "<div class=\"alert alert-block alert-success\">\n",
    " \n",
    "### Комментарий ревьюера ver.2\n",
    "    \n",
    "#### Успех\n",
    "    \n",
    "Теперь нам удобнее видеть разницу \n",
    "</div>"
   ]
  },
  {
   "cell_type": "markdown",
   "metadata": {},
   "source": [
    "**Вывод**\n",
    "Получившиеся распределения стремятся к нормальному. "
   ]
  },
  {
   "cell_type": "markdown",
   "metadata": {},
   "source": [
    "### Анализ числа сообщений"
   ]
  },
  {
   "cell_type": "code",
   "execution_count": 80,
   "metadata": {},
   "outputs": [
    {
     "name": "stdout",
     "output_type": "stream",
     "text": [
      "Среднее число СМС в месяц по тарифу smart: 32\n",
      "Дисперсия числа СМС в месяц по тарифу smart: 700\n",
      "Cтандартное отклонение числа СМС в месяц по тарифу smart: 26\n",
      "Среднее число СМС в месяц по тарифу ultra: 54\n",
      "Дисперсия числа СМС в месяц по тарифу ultra: 2135\n",
      "Cтандартное отклонение числа СМС в месяц по тарифу ultra: 46\n"
     ]
    },
    {
     "data": {
      "image/png": "[encoded data removed]",
      "text/plain": [
       "<Figure size 432x288 with 1 Axes>"
      ]
     },
     "metadata": {
      "needs_background": "light"
     },
     "output_type": "display_data"
    }
   ],
   "source": [
    "########################   Тариф Смарт    ###################################################################################\n",
    "ax = services_pivot.query('tarif_id == 0').plot(kind='hist', y='number_of_messages_mn',            #строим гистограмму\n",
    "                                           bins=15, label='Тариф Смарт', range=(0,180))       \n",
    "print('Среднее число СМС в месяц по тарифу smart:',int(services_pivot.query(                  # берём среднее число звонков                        \n",
    "    'tarif_id == 0')['number_of_messages_mn'].describe()[1]))                                 # из метода describe\n",
    "dispertion_smart = np.var(services_pivot.query('tarif_id == 0')['number_of_messages_mn'])     # определяем дисперсию\n",
    "print('Дисперсия числа СМС в месяц по тарифу smart:',int(dispertion_smart))\n",
    "standard_deviation_smart = np.sqrt(dispertion_smart)                                          # считаем стандартное отклонение\n",
    "print('Cтандартное отклонение числа СМС в месяц по тарифу smart:',int(standard_deviation_smart))\n",
    "#######################    Тариф Ультра   ##################################################################################\n",
    "services_pivot.query('tarif_id == 1').plot(kind='hist', y='number_of_messages_mn',            #строим гистограмму\n",
    "                                           bins=15, label='Тариф Ультра', range=(0,180), ax=ax, alpha=0.7)      \n",
    "\n",
    "print('Среднее число СМС в месяц по тарифу ultra:',int(services_pivot.query(                  # берём среднее число звонков\n",
    "    'tarif_id == 1')['number_of_messages_mn'].describe()[1]))                                 # из метода describe\n",
    "dispertion_ultra = np.var(services_pivot.query('tarif_id == 1')['number_of_messages_mn'])     # определяем дисперсию\n",
    "print('Дисперсия числа СМС в месяц по тарифу ultra:',int(dispertion_ultra))\n",
    "standard_deviation_ultra = np.sqrt(dispertion_ultra)                                          # считаем стандартное отклонение\n",
    "print('Cтандартное отклонение числа СМС в месяц по тарифу ultra:',int(standard_deviation_ultra))"
   ]
  },
  {
   "cell_type": "markdown",
   "metadata": {},
   "source": [
    "**Вывод**\n",
    "\n",
    "Распределение в обоих случаях получилось пуассоновским. Для обоих тарифов оказалось, что многие пользователи редко пользуются СМС. Видимо, всё дело в мессенджерах, теперь СМС никому особо не нужны. "
   ]
  },
  {
   "cell_type": "markdown",
   "metadata": {},
   "source": [
    "<div class=\"alert alert-block alert-warning\">\n",
    " \n",
    "### Комментарий ревьюера\n",
    "    \n",
    "#### Совет\n",
    "    \n",
    "Здесь аналогично. Все идеально, но общий график был бы удобнее. \n",
    "</div>"
   ]
  },
  {
   "cell_type": "markdown",
   "metadata": {},
   "source": [
    "<div class=\"alert alert-block alert-info\">\n",
    "\n",
    "Графики теперь на одном рисунке."
   ]
  },
  {
   "cell_type": "markdown",
   "metadata": {},
   "source": [
    "<div class=\"alert alert-block alert-success\">\n",
    " \n",
    "### Комментарий ревьюера ver.2\n",
    "    \n",
    "#### Успех\n",
    "    \n",
    "Тоже хорошо \n",
    "</div>"
   ]
  },
  {
   "cell_type": "markdown",
   "metadata": {},
   "source": [
    "### Анализ траффика интернета"
   ]
  },
  {
   "cell_type": "code",
   "execution_count": 81,
   "metadata": {},
   "outputs": [
    {
     "name": "stdout",
     "output_type": "stream",
     "text": [
      "Среднее кол-во МБ интернета в месяц по тарифу smart: 15\n",
      "Дисперсия кол-ва ГБ интернета в месяц по тарифу smart: 12\n",
      "Cтандартное отклонение кол-ва ГБ интернета в месяц по тарифу smart: 3\n",
      "Среднее кол-во ГБ интернета в месяц по тарифу ultra: 19\n",
      "Дисперсия кол-ва ГБ интернета в месяц по тарифу ultra: 65\n",
      "Cтандартное отклонение кол-ва ГБ интернета в месяц по тарифу ultra: 8\n"
     ]
    },
    {
     "data": {
      "image/png": "[encoded data removed]",
      "text/plain": [
       "<Figure size 432x288 with 1 Axes>"
      ]
     },
     "metadata": {
      "needs_background": "light"
     },
     "output_type": "display_data"
    }
   ],
   "source": [
    "########################   Тариф Смарт    ###################################################################################\n",
    "ax = services_pivot.query('tarif_id == 0').plot(kind='hist', y='number_of_gb_mn', bins=15,              #строим гистограмму\n",
    "                                           label='Тариф Смарт', range=(0,40))\n",
    "\n",
    "print('Среднее кол-во МБ интернета в месяц по тарифу smart:',int(services_pivot.query(             # берём среднее число звонков\n",
    "    'tarif_id == 0')['number_of_gb_mn'].describe()[1]))                                            # из метода describe\n",
    "dispertion_smart = np.var(services_pivot.query('tarif_id == 0')['number_of_gb_mn'])                # определяем дисперсию\n",
    "print('Дисперсия кол-ва ГБ интернета в месяц по тарифу smart:',int(dispertion_smart))\n",
    "standard_deviation_smart = np.sqrt(dispertion_smart)                                              # считаем стандартное отклонение\n",
    "print('Cтандартное отклонение кол-ва ГБ интернета в месяц по тарифу smart:',int(standard_deviation_smart))\n",
    "########################   Тариф Ультра    ###################################################################################\n",
    "services_pivot.query('tarif_id == 1').plot(kind='hist', y='number_of_gb_mn', bins=15,             #строим гистограмму\n",
    "                                           label='Тариф Ультра',  range=(0,40),ax=ax, alpha = 0.7)\n",
    "\n",
    "print('Среднее кол-во ГБ интернета в месяц по тарифу ultra:',int(services_pivot.query(            # берём среднее число звонков\n",
    "    'tarif_id == 1')['number_of_gb_mn'].describe()[1]))                                           # из метода describe\n",
    "dispertion_ultra = np.var(services_pivot.query('tarif_id == 1')['number_of_gb_mn'])               # определяем дисперсию\n",
    "print('Дисперсия кол-ва ГБ интернета в месяц по тарифу ultra:',int(dispertion_ultra))\n",
    "standard_deviation_ultra = np.sqrt(dispertion_ultra)                                             # считаем стандартное отклонение\n",
    "print('Cтандартное отклонение кол-ва ГБ интернета в месяц по тарифу ultra:',int(standard_deviation_ultra))"
   ]
  },
  {
   "cell_type": "markdown",
   "metadata": {},
   "source": [
    "**Вывод**\n",
    "\n",
    "Распределение траффика интернета стремится к нормальному. Как и в случае со звонками абоненты тарифа 'ультра' более разношёрстны (дисперсия больше, чем у абонентов 'смарта')"
   ]
  },
  {
   "cell_type": "markdown",
   "metadata": {},
   "source": [
    "<div class=\"alert alert-block alert-danger\">\n",
    " \n",
    "### Комментарий ревьюера\n",
    "    \n",
    "#### Ошибка\n",
    "    \n",
    "Как я говорил ранее, нужно расход рассматривать по количеству Гб.\n",
    "</div>"
   ]
  },
  {
   "cell_type": "markdown",
   "metadata": {},
   "source": [
    "<div class=\"alert alert-block alert-info\">\n",
    "\n",
    "Теперь по оси x отложены ГБ."
   ]
  },
  {
   "cell_type": "markdown",
   "metadata": {},
   "source": [
    "<div class=\"alert alert-block alert-success\">\n",
    " \n",
    "### Комментарий ревьюера ver.2\n",
    "    \n",
    "#### Успех\n",
    "    \n",
    "Идеально получилось \n",
    "</div>"
   ]
  },
  {
   "cell_type": "markdown",
   "metadata": {},
   "source": [
    "## Проверка гипотез"
   ]
  },
  {
   "cell_type": "markdown",
   "metadata": {},
   "source": [
    "### Cредняя выручка пользователей тарифов «Ультра» и «Смарт» различаются"
   ]
  },
  {
   "cell_type": "markdown",
   "metadata": {},
   "source": [
    "Необходимо проверить гипотезу о равенстве средних двух генеральных совокупностей (1 - пользователи тарифа \"Ультра\", 2 - пользователи тарифа \"Смарт\"). Наша задача сфомировать выборки из этих предоставленных данных.\n",
    "\n",
    "Ho - средняя выручка пользователей тарифов «Ультра» и «Смарт» одинаковы. H1 - средняя выручка пользователей тарифов «Ультра» и «Смарт» отличаются (двусторонняя альтернативная гипотеза).\n",
    "\n",
    "Так как будет использован t-test, то предварительно определим размеры двух выборок. "
   ]
  },
  {
   "cell_type": "markdown",
   "metadata": {},
   "source": [
    "<div class=\"alert alert-block alert-success\">\n",
    " \n",
    "### Комментарий ревьюера\n",
    "    \n",
    "#### Успех\n",
    "    \n",
    "Гипотезы верно сформированы. Можем приступать дальше. \n",
    "</div>"
   ]
  },
  {
   "cell_type": "code",
   "execution_count": 82,
   "metadata": {},
   "outputs": [
    {
     "name": "stdout",
     "output_type": "stream",
     "text": [
      "Размер выборки с тарифом \"smart\": 350.0\n",
      "Размер выборки с тарифом \"smart\": 148.0\n"
     ]
    }
   ],
   "source": [
    "print('Размер выборки с тарифом \"smart\":', services_pivot.query(\n",
    "    'tarif_id == 0')['money_mn'].describe()[0])\n",
    "print('Размер выборки с тарифом \"smart\":', services_pivot.query(\n",
    "    'tarif_id == 1')['money_mn'].describe()[0])"
   ]
  },
  {
   "cell_type": "markdown",
   "metadata": {},
   "source": [
    "Размеры выборок неравны, логично предположить, что и дисперсии тоже."
   ]
  },
  {
   "cell_type": "code",
   "execution_count": 83,
   "metadata": {},
   "outputs": [
    {
     "name": "stdout",
     "output_type": "stream",
     "text": [
      "p-значение:  2.084961899583595e-59\n",
      "Отвергаем нулевую гипотезу\n",
      "Средняя выручка по тарифу «Ультра»: 2086\n",
      "Средняя выручка по тарифу «Смарт»: 1324\n"
     ]
    }
   ],
   "source": [
    "alpha = 0.05  # пороговое значение устанавливаем на 5%\n",
    "\n",
    "results = st.ttest_ind(                                                #\n",
    "    services_pivot.query('tarif_id == 1')['money_mn'],                 #  проводим t-test для двух сформированных выборок\n",
    "    services_pivot.query('tarif_id == 0')['money_mn'], equal_var=False)#  дисперсию выборок считаем неодинаковой\n",
    "\n",
    "print('p-значение: ', results.pvalue)                   # выводим p-value на экран\n",
    "\n",
    "if results.pvalue < alpha:                              # сравниваем p-value с пороговым значением\n",
    "    print(\"Отвергаем нулевую гипотезу\")\n",
    "else:\n",
    "    print(\"Не получилось отвергнуть нулевую гипотезу\")\n",
    "\n",
    "print('Средняя выручка по тарифу «Ультра»:', int(services_pivot.query('tarif_id == 1')['money_mn'].mean()))    \n",
    "\n",
    "print('Средняя выручка по тарифу «Смарт»:', int(services_pivot.query('tarif_id == 0')['money_mn'].mean()))"
   ]
  },
  {
   "cell_type": "markdown",
   "metadata": {},
   "source": [
    "**Вывод**\n",
    "\n",
    "Действительно, скорее всего средняя выручка пользователей тарифов «Ультра» и «Смарт» различаются, и, судя по средним величинам, \"Ультра\" - более выгодный тариф."
   ]
  },
  {
   "cell_type": "markdown",
   "metadata": {},
   "source": [
    "<div class=\"alert alert-block alert-success\">\n",
    " \n",
    "### Комментарий ревьюера\n",
    "    \n",
    "#### Успех\n",
    "    \n",
    "Полностью согласен. \n",
    "</div>"
   ]
  },
  {
   "cell_type": "markdown",
   "metadata": {},
   "source": [
    "### Cредняя выручка пользователей из Москвы отличается от выручки пользователей из других регионов"
   ]
  },
  {
   "cell_type": "markdown",
   "metadata": {},
   "source": [
    "Необходимо проверить гипотезу о равенстве средних двух генеральных совокупностей (1 - пользователи из Москвы, 2 - пользователи из других городов). Наша задача сфомировать выборки из этих представленных данных.\n",
    "\n",
    "Ho - средняя выручка пользователей из Москвы не отличается от выручки пользователей в других регионах. H1 - средняя выручка пользователей Москвы и пользователей из других регионов отличаются (двусторонняя альтернативная гипотеза). \n",
    "\n",
    "Сравним размеры двух выборок "
   ]
  },
  {
   "cell_type": "code",
   "execution_count": 84,
   "metadata": {},
   "outputs": [
    {
     "data": {
      "text/html": [
       "<div>\n",
       "<style scoped>\n",
       "    .dataframe tbody tr th:only-of-type {\n",
       "        vertical-align: middle;\n",
       "    }\n",
       "\n",
       "    .dataframe tbody tr th {\n",
       "        vertical-align: top;\n",
       "    }\n",
       "\n",
       "    .dataframe thead th {\n",
       "        text-align: right;\n",
       "    }\n",
       "</style>\n",
       "<table border=\"1\" class=\"dataframe\">\n",
       "  <thead>\n",
       "    <tr style=\"text-align: right;\">\n",
       "      <th></th>\n",
       "      <th>user_id</th>\n",
       "      <th>tarif_id</th>\n",
       "      <th>money_mn</th>\n",
       "      <th>number_of_calls_mn</th>\n",
       "      <th>number_of_gb_mn</th>\n",
       "      <th>number_of_messages_mn</th>\n",
       "    </tr>\n",
       "  </thead>\n",
       "  <tbody>\n",
       "    <tr>\n",
       "      <td>1</td>\n",
       "      <td>1001</td>\n",
       "      <td>0</td>\n",
       "      <td>850.000000</td>\n",
       "      <td>61.0</td>\n",
       "      <td>15.852539</td>\n",
       "      <td>0.0</td>\n",
       "    </tr>\n",
       "    <tr>\n",
       "      <td>3</td>\n",
       "      <td>1003</td>\n",
       "      <td>1</td>\n",
       "      <td>1950.000000</td>\n",
       "      <td>104.0</td>\n",
       "      <td>11.187625</td>\n",
       "      <td>76.0</td>\n",
       "    </tr>\n",
       "    <tr>\n",
       "      <td>7</td>\n",
       "      <td>1007</td>\n",
       "      <td>0</td>\n",
       "      <td>913.444444</td>\n",
       "      <td>68.0</td>\n",
       "      <td>14.282299</td>\n",
       "      <td>25.0</td>\n",
       "    </tr>\n",
       "    <tr>\n",
       "      <td>31</td>\n",
       "      <td>1031</td>\n",
       "      <td>0</td>\n",
       "      <td>890.500000</td>\n",
       "      <td>81.0</td>\n",
       "      <td>10.294663</td>\n",
       "      <td>26.0</td>\n",
       "    </tr>\n",
       "    <tr>\n",
       "      <td>33</td>\n",
       "      <td>1033</td>\n",
       "      <td>0</td>\n",
       "      <td>1914.000000</td>\n",
       "      <td>52.0</td>\n",
       "      <td>20.410885</td>\n",
       "      <td>69.0</td>\n",
       "    </tr>\n",
       "    <tr>\n",
       "      <td>...</td>\n",
       "      <td>...</td>\n",
       "      <td>...</td>\n",
       "      <td>...</td>\n",
       "      <td>...</td>\n",
       "      <td>...</td>\n",
       "      <td>...</td>\n",
       "    </tr>\n",
       "    <tr>\n",
       "      <td>451</td>\n",
       "      <td>1453</td>\n",
       "      <td>1</td>\n",
       "      <td>1950.000000</td>\n",
       "      <td>120.0</td>\n",
       "      <td>22.939827</td>\n",
       "      <td>58.0</td>\n",
       "    </tr>\n",
       "    <tr>\n",
       "      <td>459</td>\n",
       "      <td>1461</td>\n",
       "      <td>1</td>\n",
       "      <td>1950.000000</td>\n",
       "      <td>71.0</td>\n",
       "      <td>16.801108</td>\n",
       "      <td>50.0</td>\n",
       "    </tr>\n",
       "    <tr>\n",
       "      <td>474</td>\n",
       "      <td>1476</td>\n",
       "      <td>1</td>\n",
       "      <td>1950.000000</td>\n",
       "      <td>61.0</td>\n",
       "      <td>16.307065</td>\n",
       "      <td>5.0</td>\n",
       "    </tr>\n",
       "    <tr>\n",
       "      <td>479</td>\n",
       "      <td>1481</td>\n",
       "      <td>0</td>\n",
       "      <td>1150.000000</td>\n",
       "      <td>40.0</td>\n",
       "      <td>16.459368</td>\n",
       "      <td>19.0</td>\n",
       "    </tr>\n",
       "    <tr>\n",
       "      <td>488</td>\n",
       "      <td>1490</td>\n",
       "      <td>0</td>\n",
       "      <td>1087.333333</td>\n",
       "      <td>43.0</td>\n",
       "      <td>16.553848</td>\n",
       "      <td>47.0</td>\n",
       "    </tr>\n",
       "  </tbody>\n",
       "</table>\n",
       "<p>99 rows × 6 columns</p>\n",
       "</div>"
      ],
      "text/plain": [
       "     user_id  tarif_id     money_mn  number_of_calls_mn  number_of_gb_mn  \\\n",
       "1       1001         0   850.000000                61.0        15.852539   \n",
       "3       1003         1  1950.000000               104.0        11.187625   \n",
       "7       1007         0   913.444444                68.0        14.282299   \n",
       "31      1031         0   890.500000                81.0        10.294663   \n",
       "33      1033         0  1914.000000                52.0        20.410885   \n",
       "..       ...       ...          ...                 ...              ...   \n",
       "451     1453         1  1950.000000               120.0        22.939827   \n",
       "459     1461         1  1950.000000                71.0        16.801108   \n",
       "474     1476         1  1950.000000                61.0        16.307065   \n",
       "479     1481         0  1150.000000                40.0        16.459368   \n",
       "488     1490         0  1087.333333                43.0        16.553848   \n",
       "\n",
       "     number_of_messages_mn  \n",
       "1                      0.0  \n",
       "3                     76.0  \n",
       "7                     25.0  \n",
       "31                    26.0  \n",
       "33                    69.0  \n",
       "..                     ...  \n",
       "451                   58.0  \n",
       "459                   50.0  \n",
       "474                    5.0  \n",
       "479                   19.0  \n",
       "488                   47.0  \n",
       "\n",
       "[99 rows x 6 columns]"
      ]
     },
     "metadata": {},
     "output_type": "display_data"
    },
    {
     "data": {
      "text/html": [
       "<div>\n",
       "<style scoped>\n",
       "    .dataframe tbody tr th:only-of-type {\n",
       "        vertical-align: middle;\n",
       "    }\n",
       "\n",
       "    .dataframe tbody tr th {\n",
       "        vertical-align: top;\n",
       "    }\n",
       "\n",
       "    .dataframe thead th {\n",
       "        text-align: right;\n",
       "    }\n",
       "</style>\n",
       "<table border=\"1\" class=\"dataframe\">\n",
       "  <thead>\n",
       "    <tr style=\"text-align: right;\">\n",
       "      <th></th>\n",
       "      <th>user_id</th>\n",
       "      <th>tarif_id</th>\n",
       "      <th>money_mn</th>\n",
       "      <th>number_of_calls_mn</th>\n",
       "      <th>number_of_gb_mn</th>\n",
       "      <th>number_of_messages_mn</th>\n",
       "    </tr>\n",
       "  </thead>\n",
       "  <tbody>\n",
       "    <tr>\n",
       "      <td>0</td>\n",
       "      <td>1000</td>\n",
       "      <td>1</td>\n",
       "      <td>1950.000000</td>\n",
       "      <td>46.0</td>\n",
       "      <td>13.109413</td>\n",
       "      <td>62.0</td>\n",
       "    </tr>\n",
       "    <tr>\n",
       "      <td>2</td>\n",
       "      <td>1002</td>\n",
       "      <td>0</td>\n",
       "      <td>1035.714286</td>\n",
       "      <td>31.0</td>\n",
       "      <td>16.188131</td>\n",
       "      <td>10.0</td>\n",
       "    </tr>\n",
       "    <tr>\n",
       "      <td>4</td>\n",
       "      <td>1004</td>\n",
       "      <td>1</td>\n",
       "      <td>1950.000000</td>\n",
       "      <td>22.0</td>\n",
       "      <td>18.193296</td>\n",
       "      <td>149.0</td>\n",
       "    </tr>\n",
       "    <tr>\n",
       "      <td>5</td>\n",
       "      <td>1005</td>\n",
       "      <td>0</td>\n",
       "      <td>827.000000</td>\n",
       "      <td>74.0</td>\n",
       "      <td>8.112574</td>\n",
       "      <td>46.0</td>\n",
       "    </tr>\n",
       "    <tr>\n",
       "      <td>6</td>\n",
       "      <td>1006</td>\n",
       "      <td>0</td>\n",
       "      <td>931.818182</td>\n",
       "      <td>46.0</td>\n",
       "      <td>14.576421</td>\n",
       "      <td>0.0</td>\n",
       "    </tr>\n",
       "    <tr>\n",
       "      <td>...</td>\n",
       "      <td>...</td>\n",
       "      <td>...</td>\n",
       "      <td>...</td>\n",
       "      <td>...</td>\n",
       "      <td>...</td>\n",
       "      <td>...</td>\n",
       "    </tr>\n",
       "    <tr>\n",
       "      <td>493</td>\n",
       "      <td>1495</td>\n",
       "      <td>1</td>\n",
       "      <td>2310.000000</td>\n",
       "      <td>113.0</td>\n",
       "      <td>24.884875</td>\n",
       "      <td>68.0</td>\n",
       "    </tr>\n",
       "    <tr>\n",
       "      <td>494</td>\n",
       "      <td>1496</td>\n",
       "      <td>0</td>\n",
       "      <td>2362.583333</td>\n",
       "      <td>69.0</td>\n",
       "      <td>22.049340</td>\n",
       "      <td>39.0</td>\n",
       "    </tr>\n",
       "    <tr>\n",
       "      <td>495</td>\n",
       "      <td>1497</td>\n",
       "      <td>0</td>\n",
       "      <td>928.333333</td>\n",
       "      <td>67.0</td>\n",
       "      <td>14.835602</td>\n",
       "      <td>17.0</td>\n",
       "    </tr>\n",
       "    <tr>\n",
       "      <td>496</td>\n",
       "      <td>1498</td>\n",
       "      <td>0</td>\n",
       "      <td>1659.000000</td>\n",
       "      <td>45.0</td>\n",
       "      <td>18.170220</td>\n",
       "      <td>42.0</td>\n",
       "    </tr>\n",
       "    <tr>\n",
       "      <td>497</td>\n",
       "      <td>1499</td>\n",
       "      <td>0</td>\n",
       "      <td>952.750000</td>\n",
       "      <td>55.0</td>\n",
       "      <td>12.366492</td>\n",
       "      <td>46.0</td>\n",
       "    </tr>\n",
       "  </tbody>\n",
       "</table>\n",
       "<p>399 rows × 6 columns</p>\n",
       "</div>"
      ],
      "text/plain": [
       "     user_id  tarif_id     money_mn  number_of_calls_mn  number_of_gb_mn  \\\n",
       "0       1000         1  1950.000000                46.0        13.109413   \n",
       "2       1002         0  1035.714286                31.0        16.188131   \n",
       "4       1004         1  1950.000000                22.0        18.193296   \n",
       "5       1005         0   827.000000                74.0         8.112574   \n",
       "6       1006         0   931.818182                46.0        14.576421   \n",
       "..       ...       ...          ...                 ...              ...   \n",
       "493     1495         1  2310.000000               113.0        24.884875   \n",
       "494     1496         0  2362.583333                69.0        22.049340   \n",
       "495     1497         0   928.333333                67.0        14.835602   \n",
       "496     1498         0  1659.000000                45.0        18.170220   \n",
       "497     1499         0   952.750000                55.0        12.366492   \n",
       "\n",
       "     number_of_messages_mn  \n",
       "0                     62.0  \n",
       "2                     10.0  \n",
       "4                    149.0  \n",
       "5                     46.0  \n",
       "6                      0.0  \n",
       "..                     ...  \n",
       "493                   68.0  \n",
       "494                   39.0  \n",
       "495                   17.0  \n",
       "496                   42.0  \n",
       "497                   46.0  \n",
       "\n",
       "[399 rows x 6 columns]"
      ]
     },
     "metadata": {},
     "output_type": "display_data"
    }
   ],
   "source": [
    "moskvich = users.query('city == \"Москва\"')['user_id']                  #\n",
    "services_pivot_moscow = services_pivot.query('user_id in @moskvich')   # создаём выборку из москвичей\n",
    "display(services_pivot_moscow)                                         #\n",
    "\n",
    "village = users.query('city != \"Москва\"')['user_id']                   #\n",
    "services_pivot_village = services_pivot.query('user_id in @village')   # создаём выборку из жителей других городов\n",
    "display(services_pivot_village)                                        #"
   ]
  },
  {
   "cell_type": "markdown",
   "metadata": {},
   "source": [
    "Из размеров двух датафреймов следует, что выборки не равны. Следовательно, считаем, что дисперсии тоже будут отличаться. "
   ]
  },
  {
   "cell_type": "code",
   "execution_count": 85,
   "metadata": {},
   "outputs": [
    {
     "name": "stdout",
     "output_type": "stream",
     "text": [
      "p-значение:  0.3443090581027025\n",
      "Не получилось отвергнуть нулевую гипотезу\n"
     ]
    },
    {
     "data": {
      "text/plain": [
       "<matplotlib.axes._subplots.AxesSubplot at 0x7f7089000f10>"
      ]
     },
     "execution_count": 85,
     "metadata": {},
     "output_type": "execute_result"
    },
    {
     "data": {
      "image/png": "[encoded data removed]",
      "text/plain": [
       "<Figure size 432x288 with 1 Axes>"
      ]
     },
     "metadata": {
      "needs_background": "light"
     },
     "output_type": "display_data"
    },
    {
     "data": {
      "image/png": "[encoded data removed]",
      "text/plain": [
       "<Figure size 432x288 with 1 Axes>"
      ]
     },
     "metadata": {
      "needs_background": "light"
     },
     "output_type": "display_data"
    }
   ],
   "source": [
    "alpha = 0.05  # пороговое значение устанавливаем на 5% \n",
    "\n",
    "results = st.ttest_ind(                                  # проводим t-тест для двух выборок\n",
    "    services_pivot_moscow['money_mn'],                   #\n",
    "    services_pivot_village['money_mn'], equal_var=False) # с разной дисперсией\n",
    "\n",
    "print('p-значение: ', results.pvalue)                    # выводим p-value на экран\n",
    "\n",
    "if results.pvalue < alpha:                               # сравниваем p-value с пороговым значением\n",
    "    print(\"Отвергаем нулевую гипотезу\")\n",
    "else:\n",
    "    print(\"Не получилось отвергнуть нулевую гипотезу\")\n",
    "services_pivot_moscow.plot(kind='hist', y='money_mn', bins=20, label='moskvich', range=(500,4500))      # создаём гистограммы\n",
    "services_pivot_village.plot(kind='hist', y='money_mn', bins=20, label='village', range=(500,4500))      #"
   ]
  },
  {
   "cell_type": "markdown",
   "metadata": {},
   "source": [
    "**Вывод**\n",
    "\n",
    "Оказалось, что вероятность того, что пользователи-москвичи приносят такую же прибыль, что и жители других городов существенна. Построенная гистограмма для двух распределений также показывает сходство двух выборок."
   ]
  },
  {
   "cell_type": "markdown",
   "metadata": {},
   "source": [
    "<div class=\"alert alert-block alert-success\">\n",
    " \n",
    "### Комментарий ревьюера\n",
    "    \n",
    "#### Успех\n",
    "    \n",
    "Превосходный результат. Ты вновь показал достаточно высокий уровень владения материалом.  \n",
    "</div>"
   ]
  },
  {
   "cell_type": "markdown",
   "metadata": {},
   "source": [
    "## Общий вывод"
   ]
  },
  {
   "cell_type": "markdown",
   "metadata": {},
   "source": [
    " В ходе анализа тарифных планов на выборке из 500 человек пришлось поработать с данными из разных датафреймов. Была проведена проверка данных на пропуски, дубликаты и ошибки.\n",
    " \n",
    " В ходе исправления ошибок были изменены типы данных, удалён неинформативный столбец в одном из датафреймов.\n",
    " \n",
    " Для проверки гипотез были предварительно рассчитаны для каждого пользователя:\n",
    "- количество сделанных звонков и израсходованных минут разговора по месяцам\n",
    "- количество отправленных сообщений по месяцам\n",
    "- объем израсходованного интернет-трафика по месяцам\n",
    "- помесячная выручка\n",
    " \n",
    "Для каждого тарифа были посчитаны средние показатели каждого клиента. Также определена дисперсия  и стандартное отклонение. Показатели звонков и интернета имеют распределения близкие к нормальным. Распределение для сообщений оказалось Пуассоновским с максимумом около 0. Сделано предположение, что всему виной месенджеры и СМС-ки потеряли популярность.\n",
    "\n",
    "Были проверены две гипотезы:\n",
    "    \n",
    "    1. Cредняя выручка пользователей тарифов «Ультра» и «Смарт» различаются \n",
    "    2. Cредняя выручка пользователей из Москвы отличается от выручки пользователей из других регионов\n",
    "    \n",
    "В первом случае, действительно, с большой долей вероятности это утверждение верно и средние величины указывают на большую выручку по тарифу Ультра. Во втором случае нельзя утверждать, что выручка в Москве отличается от выручки в других городах. "
   ]
  },
  {
   "cell_type": "markdown",
   "metadata": {},
   "source": [
    "<div class=\"alert alert-block alert-success\">\n",
    "    \n",
    "## Итоговый комментарии от ревьюера:\n",
    "    \n",
    "#### Успех \n",
    "\n",
    "Очень подробный и информативный вывод. Главное, что в нем есть ответ на основной вопрос. Единственный момент, что можно добавить информацию по средним расходам. \n",
    "</div>"
   ]
  },
  {
   "cell_type": "markdown",
   "metadata": {},
   "source": [
    "<div class=\"alert alert-block alert-info\">\n",
    "\n",
    "## Итоговый комментарии от ревьюера:\n",
    "    \n",
    "#### Успех\n",
    "\n",
    "Проект выполнен прекрасно. Я вижу, что ты умеешь пользоваться оптимальными методиками для предобработки данных. Понравилось, что работа у тебя имеет свою структуру и ее приятно проверять. Ты владеешь достаточно высоким уровнем написания кода. Самое главное, что я вижу у тебя понимание статистических методов. Это тебе очень пригодится в будущем.\n",
    "\n",
    "В проекте осталось пару небольших замечений:\n",
    "    \n",
    "* Требуется перевести столбец расходов по Интернету в ГБ.\n",
    "* Необходимо построить график по расходам в ГБ.\n",
    "       \n",
    "Еще я оставил рекомендации. Очень надеюсь, что ты учтешь их в этом и последующих проектах.\n",
    "    \n",
    "Жду проект после доработки. Уверен, ты справишься.\n",
    "</div>"
   ]
  },
  {
   "cell_type": "markdown",
   "metadata": {},
   "source": [
    "<div class=\"alert alert-block alert-success\">\n",
    "    \n",
    "## Итоговый комментарии от ревьюера ver.2\n",
    "    \n",
    "#### Успех \n",
    "\n",
    "Вот теперь идеальнейший проект. Огромное спасибо за то, что быстро все исправил и воспользовался рекомендациями. \n",
    "    \n",
    "Проект я принимаю ижелаю успехов в дальнейшей учебе. \n",
    "</div>"
   ]
  },
  {
   "cell_type": "markdown",
   "metadata": {},
   "source": [
    "**Чек лист**\n",
    "\n",
    "- [x]  открыты файлы\n",
    "- [x]  файлы изучены (выведены первые строки, метод info())\n",
    "- [x]  определены пропущенные значения\n",
    "- [x]  есть пояснение, какие пропущенные значения обнаружены\n",
    "- [x]  исправлены ошибки\n",
    "- [x]  изменены типы данных\n",
    "- [x]  есть пояснение, в каких столбцах изменены типы и почему\n",
    "- [x]  посчитано для каждого пользователя: количество сделанных звонков и израсходованных минут разговора по месяцам\n",
    "- [x]  посчитано для каждого пользователя: количество отправленных сообщений по месяцам\n",
    "- [x]  посчитано для каждого пользователя: объем израсходованного интернет-трафика по месяцам\n",
    "- [x]  посчитана помесячная выручка с каждого пользователя\n",
    "- [x]  выполнено задание: \"Опишите поведение клиентов оператора, исходя из выборки. Сколько минут разговора, сколько сообщений и какой объём интернет-трафика требуется пользователям каждого тарифа в месяц? Посчитайте среднее количество, дисперсию и стандартное отклонение. Постройте гистограммы. Опишите распределения.\"\n",
    "- [x]  выполнена проверка гипотезы: \"Средняя выручка пользователей тарифов «Ультра» и «Смарт» различаются.\"\n",
    "- [x]  выполнена проверка гипотезы: \"средняя выручка пользователей из Москвы отличается от выручки пользователей из других регионов.\"\n",
    "- [x]  есть пояснения с формулировкой гипотез и пояснения какой критерий использовался для проверки.\n",
    "- [x]  в каждом этапе есть выводы\n",
    "- [x]  есть общий вывод"
   ]
  },
  {
   "cell_type": "markdown",
   "metadata": {},
   "source": []
  }
 ],
 "metadata": {
  "ExecuteTimeLog": [
   {
    "duration": 324,
    "start_time": "2022-02-12T03:31:29.783Z"
   },
   {
    "duration": 708,
    "start_time": "2022-02-12T03:31:35.093Z"
   },
   {
    "duration": 220,
    "start_time": "2022-02-12T03:31:37.277Z"
   },
   {
    "duration": 210,
    "start_time": "2022-02-12T03:33:01.783Z"
   },
   {
    "duration": 227,
    "start_time": "2022-02-12T03:33:23.289Z"
   },
   {
    "duration": 98,
    "start_time": "2022-02-12T03:35:00.885Z"
   },
   {
    "duration": 494,
    "start_time": "2022-02-12T03:35:16.884Z"
   },
   {
    "duration": 440,
    "start_time": "2022-02-12T03:37:34.662Z"
   },
   {
    "duration": 260,
    "start_time": "2022-02-12T03:37:51.340Z"
   },
   {
    "duration": 282,
    "start_time": "2022-02-12T03:38:12.212Z"
   },
   {
    "duration": 204,
    "start_time": "2022-02-12T03:44:28.715Z"
   },
   {
    "duration": 214,
    "start_time": "2022-02-12T03:44:34.601Z"
   },
   {
    "duration": 224,
    "start_time": "2022-02-12T03:46:07.957Z"
   },
   {
    "duration": 322,
    "start_time": "2022-02-12T03:50:59.948Z"
   },
   {
    "duration": 183,
    "start_time": "2022-02-12T03:54:45.992Z"
   },
   {
    "duration": 26,
    "start_time": "2022-02-12T03:57:09.166Z"
   },
   {
    "duration": 10,
    "start_time": "2022-02-12T03:59:02.032Z"
   },
   {
    "duration": 18,
    "start_time": "2022-02-12T04:00:22.421Z"
   },
   {
    "duration": 382,
    "start_time": "2022-02-12T04:03:31.504Z"
   },
   {
    "duration": 301,
    "start_time": "2022-02-12T04:13:40.774Z"
   },
   {
    "duration": 677,
    "start_time": "2022-02-12T04:13:47.666Z"
   },
   {
    "duration": 633,
    "start_time": "2022-02-12T04:13:49.692Z"
   },
   {
    "duration": 413,
    "start_time": "2022-02-12T04:14:23.787Z"
   },
   {
    "duration": 46,
    "start_time": "2022-02-12T04:25:32.957Z"
   },
   {
    "duration": 247,
    "start_time": "2022-02-12T04:25:51.679Z"
   },
   {
    "duration": 468,
    "start_time": "2022-02-12T04:25:59.431Z"
   },
   {
    "duration": 44,
    "start_time": "2022-02-12T04:26:05.047Z"
   },
   {
    "duration": 22,
    "start_time": "2022-02-12T04:26:08.777Z"
   },
   {
    "duration": 9,
    "start_time": "2022-02-12T04:28:07.799Z"
   },
   {
    "duration": 9,
    "start_time": "2022-02-12T04:29:32.534Z"
   },
   {
    "duration": 485,
    "start_time": "2022-02-12T04:38:30.542Z"
   },
   {
    "duration": 462,
    "start_time": "2022-02-12T04:38:38.108Z"
   },
   {
    "duration": 469,
    "start_time": "2022-02-12T04:40:32.481Z"
   },
   {
    "duration": 94,
    "start_time": "2022-02-12T04:42:36.422Z"
   },
   {
    "duration": 38,
    "start_time": "2022-02-12T04:49:14.040Z"
   },
   {
    "duration": 23,
    "start_time": "2022-02-12T04:49:32.260Z"
   },
   {
    "duration": 19,
    "start_time": "2022-02-12T04:49:40.009Z"
   },
   {
    "duration": 13,
    "start_time": "2022-02-12T04:51:20.906Z"
   },
   {
    "duration": 4,
    "start_time": "2022-02-12T04:54:14.493Z"
   },
   {
    "duration": 90,
    "start_time": "2022-02-12T04:54:46.636Z"
   },
   {
    "duration": 276,
    "start_time": "2022-02-12T04:54:53.764Z"
   },
   {
    "duration": 300,
    "start_time": "2022-02-12T04:57:17.371Z"
   },
   {
    "duration": 3,
    "start_time": "2022-02-12T04:57:22.964Z"
   },
   {
    "duration": 13,
    "start_time": "2022-02-12T04:57:26.309Z"
   },
   {
    "duration": 11,
    "start_time": "2022-02-12T04:59:13.852Z"
   },
   {
    "duration": 26,
    "start_time": "2022-02-12T04:59:45.128Z"
   },
   {
    "duration": 256,
    "start_time": "2022-02-12T05:00:09.482Z"
   },
   {
    "duration": 29,
    "start_time": "2022-02-12T05:00:34.517Z"
   },
   {
    "duration": 462,
    "start_time": "2022-02-12T05:01:20.182Z"
   },
   {
    "duration": 523,
    "start_time": "2022-02-12T05:02:35.711Z"
   },
   {
    "duration": 491,
    "start_time": "2022-02-12T05:03:58.921Z"
   },
   {
    "duration": 467,
    "start_time": "2022-02-12T05:04:16.930Z"
   },
   {
    "duration": 23,
    "start_time": "2022-02-12T05:08:17.587Z"
   },
   {
    "duration": 6321,
    "start_time": "2022-02-12T05:47:52.349Z"
   },
   {
    "duration": 3,
    "start_time": "2022-02-12T05:48:22.028Z"
   },
   {
    "duration": 464,
    "start_time": "2022-02-12T05:48:22.034Z"
   },
   {
    "duration": 50,
    "start_time": "2022-02-12T05:48:22.501Z"
   },
   {
    "duration": 26,
    "start_time": "2022-02-12T05:48:22.554Z"
   },
   {
    "duration": 22,
    "start_time": "2022-02-12T05:48:22.582Z"
   },
   {
    "duration": 20,
    "start_time": "2022-02-12T05:48:22.632Z"
   },
   {
    "duration": 7,
    "start_time": "2022-02-12T05:48:22.655Z"
   },
   {
    "duration": 10,
    "start_time": "2022-02-12T05:48:22.666Z"
   },
   {
    "duration": 89,
    "start_time": "2022-02-12T05:48:22.679Z"
   },
   {
    "duration": 29,
    "start_time": "2022-02-12T05:48:22.770Z"
   },
   {
    "duration": 5908,
    "start_time": "2022-02-12T05:49:05.983Z"
   },
   {
    "duration": 16,
    "start_time": "2022-02-12T05:51:04.940Z"
   },
   {
    "duration": 18,
    "start_time": "2022-02-12T05:52:17.354Z"
   },
   {
    "duration": 15,
    "start_time": "2022-02-12T05:52:35.950Z"
   },
   {
    "duration": 19,
    "start_time": "2022-02-12T05:53:07.916Z"
   },
   {
    "duration": 97,
    "start_time": "2022-02-12T05:55:09.946Z"
   },
   {
    "duration": 15,
    "start_time": "2022-02-12T05:55:19.174Z"
   },
   {
    "duration": 38,
    "start_time": "2022-02-12T05:57:41.068Z"
   },
   {
    "duration": 4,
    "start_time": "2022-02-12T05:57:52.206Z"
   },
   {
    "duration": 471,
    "start_time": "2022-02-12T05:57:52.213Z"
   },
   {
    "duration": 45,
    "start_time": "2022-02-12T05:57:52.687Z"
   },
   {
    "duration": 26,
    "start_time": "2022-02-12T05:57:52.735Z"
   },
   {
    "duration": 22,
    "start_time": "2022-02-12T05:57:52.763Z"
   },
   {
    "duration": 17,
    "start_time": "2022-02-12T05:57:52.788Z"
   },
   {
    "duration": 8,
    "start_time": "2022-02-12T05:57:52.808Z"
   },
   {
    "duration": 9,
    "start_time": "2022-02-12T05:57:52.832Z"
   },
   {
    "duration": 61,
    "start_time": "2022-02-12T05:57:52.843Z"
   },
   {
    "duration": 45,
    "start_time": "2022-02-12T05:57:52.906Z"
   },
   {
    "duration": 5941,
    "start_time": "2022-02-12T06:00:39.019Z"
   },
   {
    "duration": 34,
    "start_time": "2022-02-12T06:01:22.734Z"
   },
   {
    "duration": 20,
    "start_time": "2022-02-12T06:01:32.992Z"
   },
   {
    "duration": 6,
    "start_time": "2022-02-12T06:03:08.876Z"
   },
   {
    "duration": 11,
    "start_time": "2022-02-12T06:03:28.087Z"
   },
   {
    "duration": 4,
    "start_time": "2022-02-12T06:09:20.862Z"
   },
   {
    "duration": 5,
    "start_time": "2022-02-12T06:09:29.821Z"
   },
   {
    "duration": 5,
    "start_time": "2022-02-12T06:09:43.832Z"
   },
   {
    "duration": 21,
    "start_time": "2022-02-12T06:12:31.149Z"
   },
   {
    "duration": 23,
    "start_time": "2022-02-12T06:12:59.705Z"
   },
   {
    "duration": 250,
    "start_time": "2022-02-12T06:15:41.982Z"
   },
   {
    "duration": 30,
    "start_time": "2022-02-12T06:16:01.932Z"
   },
   {
    "duration": 99,
    "start_time": "2022-02-12T06:18:21.958Z"
   },
   {
    "duration": 77,
    "start_time": "2022-02-12T06:18:29.741Z"
   },
   {
    "duration": 91,
    "start_time": "2022-02-12T06:18:37.365Z"
   },
   {
    "duration": 255,
    "start_time": "2022-02-12T06:18:44.843Z"
   },
   {
    "duration": 241,
    "start_time": "2022-02-12T06:18:55.987Z"
   },
   {
    "duration": 8,
    "start_time": "2022-02-12T06:19:05.404Z"
   },
   {
    "duration": 33,
    "start_time": "2022-02-12T06:20:22.895Z"
   },
   {
    "duration": 29,
    "start_time": "2022-02-12T06:21:26.273Z"
   },
   {
    "duration": 31,
    "start_time": "2022-02-12T06:22:15.907Z"
   },
   {
    "duration": 2964,
    "start_time": "2022-02-12T06:22:43.738Z"
   },
   {
    "duration": 434,
    "start_time": "2022-02-12T06:25:56.359Z"
   },
   {
    "duration": 357,
    "start_time": "2022-02-12T06:27:30.236Z"
   },
   {
    "duration": 40,
    "start_time": "2022-02-12T06:27:40.803Z"
   },
   {
    "duration": 39,
    "start_time": "2022-02-12T06:27:53.319Z"
   },
   {
    "duration": 374,
    "start_time": "2022-02-12T06:28:32.760Z"
   },
   {
    "duration": 66,
    "start_time": "2022-02-12T06:28:44.977Z"
   },
   {
    "duration": 41,
    "start_time": "2022-02-12T06:30:01.873Z"
   },
   {
    "duration": 420,
    "start_time": "2022-02-12T06:30:20.547Z"
   },
   {
    "duration": 1320,
    "start_time": "2022-02-12T06:31:03.787Z"
   },
   {
    "duration": 1381,
    "start_time": "2022-02-12T06:33:00.044Z"
   },
   {
    "duration": 61,
    "start_time": "2022-02-12T06:38:27.805Z"
   },
   {
    "duration": 62,
    "start_time": "2022-02-12T06:40:48.501Z"
   },
   {
    "duration": 4,
    "start_time": "2022-02-12T06:40:57.135Z"
   },
   {
    "duration": 473,
    "start_time": "2022-02-12T06:40:57.142Z"
   },
   {
    "duration": 57,
    "start_time": "2022-02-12T06:40:57.618Z"
   },
   {
    "duration": 25,
    "start_time": "2022-02-12T06:40:57.678Z"
   },
   {
    "duration": 35,
    "start_time": "2022-02-12T06:40:57.706Z"
   },
   {
    "duration": 19,
    "start_time": "2022-02-12T06:40:57.743Z"
   },
   {
    "duration": 9,
    "start_time": "2022-02-12T06:40:57.765Z"
   },
   {
    "duration": 16,
    "start_time": "2022-02-12T06:40:57.777Z"
   },
   {
    "duration": 89,
    "start_time": "2022-02-12T06:40:57.795Z"
   },
   {
    "duration": 54,
    "start_time": "2022-02-12T06:40:57.887Z"
   },
   {
    "duration": 37,
    "start_time": "2022-02-12T06:40:57.943Z"
   },
   {
    "duration": 12,
    "start_time": "2022-02-12T06:40:57.982Z"
   },
   {
    "duration": 110,
    "start_time": "2022-02-12T06:40:57.997Z"
   },
   {
    "duration": 55,
    "start_time": "2022-02-12T06:42:01.740Z"
   },
   {
    "duration": 4,
    "start_time": "2022-02-12T06:42:11.181Z"
   },
   {
    "duration": 457,
    "start_time": "2022-02-12T06:42:11.187Z"
   },
   {
    "duration": 47,
    "start_time": "2022-02-12T06:42:11.647Z"
   },
   {
    "duration": 42,
    "start_time": "2022-02-12T06:42:11.697Z"
   },
   {
    "duration": 23,
    "start_time": "2022-02-12T06:42:11.742Z"
   },
   {
    "duration": 18,
    "start_time": "2022-02-12T06:42:11.767Z"
   },
   {
    "duration": 10,
    "start_time": "2022-02-12T06:42:11.787Z"
   },
   {
    "duration": 43,
    "start_time": "2022-02-12T06:42:11.799Z"
   },
   {
    "duration": 57,
    "start_time": "2022-02-12T06:42:11.845Z"
   },
   {
    "duration": 61,
    "start_time": "2022-02-12T06:42:11.905Z"
   },
   {
    "duration": 37,
    "start_time": "2022-02-12T06:42:11.969Z"
   },
   {
    "duration": 35,
    "start_time": "2022-02-12T06:42:12.008Z"
   },
   {
    "duration": 95,
    "start_time": "2022-02-12T06:42:12.045Z"
   },
   {
    "duration": 6309,
    "start_time": "2022-02-12T06:42:57.832Z"
   },
   {
    "duration": 5880,
    "start_time": "2022-02-12T06:43:16.591Z"
   },
   {
    "duration": 41,
    "start_time": "2022-02-12T06:43:36.089Z"
   },
   {
    "duration": 282,
    "start_time": "2022-02-12T06:43:56.133Z"
   },
   {
    "duration": 43,
    "start_time": "2022-02-12T06:44:34.127Z"
   },
   {
    "duration": 44,
    "start_time": "2022-02-12T06:44:39.733Z"
   },
   {
    "duration": 44,
    "start_time": "2022-02-12T06:44:43.141Z"
   },
   {
    "duration": 40,
    "start_time": "2022-02-12T06:45:15.096Z"
   },
   {
    "duration": 667,
    "start_time": "2022-02-12T10:39:59.991Z"
   },
   {
    "duration": 420,
    "start_time": "2022-02-12T10:40:00.660Z"
   },
   {
    "duration": 37,
    "start_time": "2022-02-12T10:40:01.082Z"
   },
   {
    "duration": 23,
    "start_time": "2022-02-12T10:40:01.121Z"
   },
   {
    "duration": 19,
    "start_time": "2022-02-12T10:40:01.146Z"
   },
   {
    "duration": 28,
    "start_time": "2022-02-12T10:40:01.167Z"
   },
   {
    "duration": 23,
    "start_time": "2022-02-12T10:40:01.196Z"
   },
   {
    "duration": 26,
    "start_time": "2022-02-12T10:40:01.222Z"
   },
   {
    "duration": 69,
    "start_time": "2022-02-12T10:40:01.250Z"
   },
   {
    "duration": 30,
    "start_time": "2022-02-12T10:40:01.321Z"
   },
   {
    "duration": 26,
    "start_time": "2022-02-12T10:40:01.353Z"
   },
   {
    "duration": 9,
    "start_time": "2022-02-12T10:40:01.381Z"
   },
   {
    "duration": 76,
    "start_time": "2022-02-12T10:40:01.392Z"
   },
   {
    "duration": 61,
    "start_time": "2022-02-12T10:42:40.436Z"
   },
   {
    "duration": 62,
    "start_time": "2022-02-12T10:43:20.574Z"
   },
   {
    "duration": 64,
    "start_time": "2022-02-12T10:43:43.713Z"
   },
   {
    "duration": 3,
    "start_time": "2022-02-12T10:43:46.276Z"
   },
   {
    "duration": 354,
    "start_time": "2022-02-12T10:43:46.281Z"
   },
   {
    "duration": 36,
    "start_time": "2022-02-12T10:43:46.637Z"
   },
   {
    "duration": 23,
    "start_time": "2022-02-12T10:43:46.675Z"
   },
   {
    "duration": 24,
    "start_time": "2022-02-12T10:43:46.700Z"
   },
   {
    "duration": 14,
    "start_time": "2022-02-12T10:43:46.726Z"
   },
   {
    "duration": 5,
    "start_time": "2022-02-12T10:43:46.742Z"
   },
   {
    "duration": 7,
    "start_time": "2022-02-12T10:43:46.749Z"
   },
   {
    "duration": 68,
    "start_time": "2022-02-12T10:43:46.758Z"
   },
   {
    "duration": 27,
    "start_time": "2022-02-12T10:43:46.828Z"
   },
   {
    "duration": 24,
    "start_time": "2022-02-12T10:43:46.857Z"
   },
   {
    "duration": 7,
    "start_time": "2022-02-12T10:43:46.883Z"
   },
   {
    "duration": 80,
    "start_time": "2022-02-12T10:43:46.892Z"
   },
   {
    "duration": 5,
    "start_time": "2022-02-12T10:49:55.963Z"
   },
   {
    "duration": 4,
    "start_time": "2022-02-12T10:50:16.754Z"
   },
   {
    "duration": 35,
    "start_time": "2022-02-12T10:54:51.569Z"
   },
   {
    "duration": 86,
    "start_time": "2022-02-12T10:55:36.547Z"
   },
   {
    "duration": 67,
    "start_time": "2022-02-12T10:55:53.169Z"
   },
   {
    "duration": 81,
    "start_time": "2022-02-12T10:58:41.150Z"
   },
   {
    "duration": 87,
    "start_time": "2022-02-12T11:00:01.855Z"
   },
   {
    "duration": 73,
    "start_time": "2022-02-12T11:00:51.404Z"
   },
   {
    "duration": 77,
    "start_time": "2022-02-12T11:01:08.987Z"
   },
   {
    "duration": 105,
    "start_time": "2022-02-12T11:01:16.802Z"
   },
   {
    "duration": 75,
    "start_time": "2022-02-12T11:01:22.986Z"
   },
   {
    "duration": 1288,
    "start_time": "2022-02-12T11:01:35.473Z"
   },
   {
    "duration": 69,
    "start_time": "2022-02-12T11:02:02.499Z"
   },
   {
    "duration": 69,
    "start_time": "2022-02-12T11:02:32.631Z"
   },
   {
    "duration": 81,
    "start_time": "2022-02-12T11:02:39.127Z"
   },
   {
    "duration": 112,
    "start_time": "2022-02-12T11:05:19.531Z"
   },
   {
    "duration": 161,
    "start_time": "2022-02-12T11:07:57.340Z"
   },
   {
    "duration": 379,
    "start_time": "2022-02-12T11:08:59.165Z"
   },
   {
    "duration": 125,
    "start_time": "2022-02-12T11:09:58.319Z"
   },
   {
    "duration": 380,
    "start_time": "2022-02-12T11:12:48.092Z"
   },
   {
    "duration": 303,
    "start_time": "2022-02-12T11:13:43.752Z"
   },
   {
    "duration": 19,
    "start_time": "2022-02-12T11:14:23.534Z"
   },
   {
    "duration": 156,
    "start_time": "2022-02-12T11:14:34.805Z"
   },
   {
    "duration": 164,
    "start_time": "2022-02-12T11:14:55.989Z"
   },
   {
    "duration": 15,
    "start_time": "2022-02-12T11:15:37.067Z"
   },
   {
    "duration": 3,
    "start_time": "2022-02-12T11:15:45.344Z"
   },
   {
    "duration": 386,
    "start_time": "2022-02-12T11:15:45.348Z"
   },
   {
    "duration": 59,
    "start_time": "2022-02-12T11:15:45.738Z"
   },
   {
    "duration": 49,
    "start_time": "2022-02-12T11:15:45.800Z"
   },
   {
    "duration": 28,
    "start_time": "2022-02-12T11:15:45.851Z"
   },
   {
    "duration": 41,
    "start_time": "2022-02-12T11:15:45.881Z"
   },
   {
    "duration": 8,
    "start_time": "2022-02-12T11:15:45.924Z"
   },
   {
    "duration": 11,
    "start_time": "2022-02-12T11:15:45.934Z"
   },
   {
    "duration": 46,
    "start_time": "2022-02-12T11:15:45.947Z"
   },
   {
    "duration": 30,
    "start_time": "2022-02-12T11:15:49.273Z"
   },
   {
    "duration": 286,
    "start_time": "2022-02-12T11:15:59.641Z"
   },
   {
    "duration": 3,
    "start_time": "2022-02-12T11:16:10.753Z"
   },
   {
    "duration": 383,
    "start_time": "2022-02-12T11:16:10.758Z"
   },
   {
    "duration": 36,
    "start_time": "2022-02-12T11:16:11.143Z"
   },
   {
    "duration": 23,
    "start_time": "2022-02-12T11:16:11.182Z"
   },
   {
    "duration": 18,
    "start_time": "2022-02-12T11:16:11.219Z"
   },
   {
    "duration": 19,
    "start_time": "2022-02-12T11:16:11.238Z"
   },
   {
    "duration": 9,
    "start_time": "2022-02-12T11:16:11.259Z"
   },
   {
    "duration": 9,
    "start_time": "2022-02-12T11:16:11.270Z"
   },
   {
    "duration": 69,
    "start_time": "2022-02-12T11:16:11.280Z"
   },
   {
    "duration": 41,
    "start_time": "2022-02-12T11:16:11.351Z"
   },
   {
    "duration": 54,
    "start_time": "2022-02-12T11:16:11.394Z"
   },
   {
    "duration": 8,
    "start_time": "2022-02-12T11:16:11.450Z"
   },
   {
    "duration": 211,
    "start_time": "2022-02-12T11:16:11.459Z"
   },
   {
    "duration": 6,
    "start_time": "2022-02-12T11:16:11.672Z"
   },
   {
    "duration": 154,
    "start_time": "2022-02-12T11:16:28.824Z"
   },
   {
    "duration": 178,
    "start_time": "2022-02-12T11:16:58.000Z"
   },
   {
    "duration": 196,
    "start_time": "2022-02-12T11:17:26.550Z"
   },
   {
    "duration": 7598,
    "start_time": "2022-02-12T11:28:17.892Z"
   },
   {
    "duration": 144,
    "start_time": "2022-02-12T11:28:46.543Z"
   },
   {
    "duration": 141,
    "start_time": "2022-02-12T11:29:05.556Z"
   },
   {
    "duration": 190,
    "start_time": "2022-02-12T11:30:34.536Z"
   },
   {
    "duration": 164,
    "start_time": "2022-02-12T11:31:15.878Z"
   },
   {
    "duration": 89,
    "start_time": "2022-02-12T11:32:34.796Z"
   },
   {
    "duration": 152,
    "start_time": "2022-02-12T11:33:52.183Z"
   },
   {
    "duration": 151,
    "start_time": "2022-02-12T11:34:07.839Z"
   },
   {
    "duration": 185,
    "start_time": "2022-02-12T11:34:52.860Z"
   },
   {
    "duration": 153,
    "start_time": "2022-02-12T11:35:27.003Z"
   },
   {
    "duration": 157,
    "start_time": "2022-02-12T11:35:57.081Z"
   },
   {
    "duration": 148,
    "start_time": "2022-02-12T11:37:15.469Z"
   },
   {
    "duration": 191,
    "start_time": "2022-02-12T11:37:40.227Z"
   },
   {
    "duration": 149,
    "start_time": "2022-02-12T11:38:25.226Z"
   },
   {
    "duration": 148,
    "start_time": "2022-02-12T11:39:03.625Z"
   },
   {
    "duration": 156,
    "start_time": "2022-02-12T11:40:21.245Z"
   },
   {
    "duration": 459,
    "start_time": "2022-02-12T11:40:30.372Z"
   },
   {
    "duration": 7983,
    "start_time": "2022-02-12T11:42:42.269Z"
   },
   {
    "duration": 7380,
    "start_time": "2022-02-12T11:43:16.861Z"
   },
   {
    "duration": 520,
    "start_time": "2022-02-12T11:43:35.979Z"
   },
   {
    "duration": 6833,
    "start_time": "2022-02-12T11:45:50.447Z"
   },
   {
    "duration": 5689,
    "start_time": "2022-02-12T11:46:23.356Z"
   },
   {
    "duration": 157,
    "start_time": "2022-02-12T11:46:38.707Z"
   },
   {
    "duration": 152,
    "start_time": "2022-02-12T11:52:21.084Z"
   },
   {
    "duration": 93,
    "start_time": "2022-02-12T11:52:34.642Z"
   },
   {
    "duration": 136,
    "start_time": "2022-02-12T11:52:44.169Z"
   },
   {
    "duration": 200,
    "start_time": "2022-02-12T11:53:00.176Z"
   },
   {
    "duration": 148,
    "start_time": "2022-02-12T11:53:17.200Z"
   },
   {
    "duration": 158,
    "start_time": "2022-02-12T11:53:23.376Z"
   },
   {
    "duration": 155,
    "start_time": "2022-02-12T11:53:48.502Z"
   },
   {
    "duration": 263,
    "start_time": "2022-02-12T11:53:56.222Z"
   },
   {
    "duration": 11,
    "start_time": "2022-02-12T12:01:51.647Z"
   },
   {
    "duration": 8,
    "start_time": "2022-02-12T12:02:15.517Z"
   },
   {
    "duration": 8,
    "start_time": "2022-02-12T12:02:20.014Z"
   },
   {
    "duration": 10,
    "start_time": "2022-02-12T12:02:25.013Z"
   },
   {
    "duration": 155,
    "start_time": "2022-02-12T12:07:10.329Z"
   },
   {
    "duration": 11,
    "start_time": "2022-02-12T12:15:58.975Z"
   },
   {
    "duration": 98,
    "start_time": "2022-02-12T12:19:30.621Z"
   },
   {
    "duration": 519,
    "start_time": "2022-02-12T12:19:55.284Z"
   },
   {
    "duration": 11125,
    "start_time": "2022-02-12T12:20:20.219Z"
   },
   {
    "duration": 4381,
    "start_time": "2022-02-12T12:21:06.155Z"
   },
   {
    "duration": 87,
    "start_time": "2022-02-12T12:22:29.406Z"
   },
   {
    "duration": 148,
    "start_time": "2022-02-12T12:22:35.748Z"
   },
   {
    "duration": 151,
    "start_time": "2022-02-12T12:22:43.769Z"
   },
   {
    "duration": 465,
    "start_time": "2022-02-12T12:24:16.008Z"
   },
   {
    "duration": 193,
    "start_time": "2022-02-12T12:25:02.647Z"
   },
   {
    "duration": 1374,
    "start_time": "2022-02-12T12:25:50.907Z"
   },
   {
    "duration": 413,
    "start_time": "2022-02-12T12:26:06.947Z"
   },
   {
    "duration": 6817,
    "start_time": "2022-02-12T12:28:45.731Z"
   },
   {
    "duration": 174,
    "start_time": "2022-02-12T12:30:35.871Z"
   },
   {
    "duration": 222,
    "start_time": "2022-02-12T12:32:11.018Z"
   },
   {
    "duration": 286,
    "start_time": "2022-02-12T12:36:20.999Z"
   },
   {
    "duration": 158,
    "start_time": "2022-02-12T12:36:40.542Z"
   },
   {
    "duration": 196,
    "start_time": "2022-02-12T12:37:06.389Z"
   },
   {
    "duration": 159,
    "start_time": "2022-02-12T12:38:05.730Z"
   },
   {
    "duration": 177,
    "start_time": "2022-02-12T12:39:22.583Z"
   },
   {
    "duration": 164,
    "start_time": "2022-02-12T12:39:42.230Z"
   },
   {
    "duration": 3,
    "start_time": "2022-02-12T12:39:48.435Z"
   },
   {
    "duration": 365,
    "start_time": "2022-02-12T12:39:48.440Z"
   },
   {
    "duration": 33,
    "start_time": "2022-02-12T12:39:48.819Z"
   },
   {
    "duration": 20,
    "start_time": "2022-02-12T12:39:48.854Z"
   },
   {
    "duration": 20,
    "start_time": "2022-02-12T12:39:48.876Z"
   },
   {
    "duration": 24,
    "start_time": "2022-02-12T12:39:48.898Z"
   },
   {
    "duration": 6,
    "start_time": "2022-02-12T12:39:48.925Z"
   },
   {
    "duration": 20,
    "start_time": "2022-02-12T12:39:48.934Z"
   },
   {
    "duration": 49,
    "start_time": "2022-02-12T12:39:48.956Z"
   },
   {
    "duration": 28,
    "start_time": "2022-02-12T12:39:49.019Z"
   },
   {
    "duration": 24,
    "start_time": "2022-02-12T12:39:49.049Z"
   },
   {
    "duration": 8,
    "start_time": "2022-02-12T12:39:49.074Z"
   },
   {
    "duration": 224,
    "start_time": "2022-02-12T12:39:51.164Z"
   },
   {
    "duration": 252,
    "start_time": "2022-02-12T12:40:00.781Z"
   },
   {
    "duration": 3,
    "start_time": "2022-02-12T12:40:11.942Z"
   },
   {
    "duration": 416,
    "start_time": "2022-02-12T12:40:11.947Z"
   },
   {
    "duration": 37,
    "start_time": "2022-02-12T12:40:12.365Z"
   },
   {
    "duration": 25,
    "start_time": "2022-02-12T12:40:12.404Z"
   },
   {
    "duration": 20,
    "start_time": "2022-02-12T12:40:12.431Z"
   },
   {
    "duration": 15,
    "start_time": "2022-02-12T12:40:12.452Z"
   },
   {
    "duration": 10,
    "start_time": "2022-02-12T12:40:12.470Z"
   },
   {
    "duration": 38,
    "start_time": "2022-02-12T12:40:12.482Z"
   },
   {
    "duration": 58,
    "start_time": "2022-02-12T12:40:12.521Z"
   },
   {
    "duration": 39,
    "start_time": "2022-02-12T12:40:12.580Z"
   },
   {
    "duration": 28,
    "start_time": "2022-02-12T12:40:12.621Z"
   },
   {
    "duration": 12,
    "start_time": "2022-02-12T12:40:12.651Z"
   },
   {
    "duration": 276,
    "start_time": "2022-02-12T12:40:12.665Z"
   },
   {
    "duration": 5,
    "start_time": "2022-02-12T12:40:12.943Z"
   },
   {
    "duration": 195,
    "start_time": "2022-02-12T12:40:41.891Z"
   },
   {
    "duration": 218,
    "start_time": "2022-02-12T12:40:58.313Z"
   },
   {
    "duration": 3,
    "start_time": "2022-02-12T12:41:13.047Z"
   },
   {
    "duration": 383,
    "start_time": "2022-02-12T12:41:13.052Z"
   },
   {
    "duration": 36,
    "start_time": "2022-02-12T12:41:13.437Z"
   },
   {
    "duration": 20,
    "start_time": "2022-02-12T12:41:13.475Z"
   },
   {
    "duration": 26,
    "start_time": "2022-02-12T12:41:13.497Z"
   },
   {
    "duration": 14,
    "start_time": "2022-02-12T12:41:13.525Z"
   },
   {
    "duration": 6,
    "start_time": "2022-02-12T12:41:13.541Z"
   },
   {
    "duration": 13,
    "start_time": "2022-02-12T12:41:13.548Z"
   },
   {
    "duration": 69,
    "start_time": "2022-02-12T12:41:13.563Z"
   },
   {
    "duration": 30,
    "start_time": "2022-02-12T12:41:13.633Z"
   },
   {
    "duration": 26,
    "start_time": "2022-02-12T12:41:13.665Z"
   },
   {
    "duration": 30,
    "start_time": "2022-02-12T12:41:13.693Z"
   },
   {
    "duration": 184,
    "start_time": "2022-02-12T12:41:15.976Z"
   },
   {
    "duration": 396,
    "start_time": "2022-02-12T12:42:03.742Z"
   },
   {
    "duration": 428,
    "start_time": "2022-02-12T12:42:22.262Z"
   },
   {
    "duration": 526,
    "start_time": "2022-02-12T12:42:44.251Z"
   },
   {
    "duration": 425,
    "start_time": "2022-02-12T12:43:10.875Z"
   },
   {
    "duration": 414,
    "start_time": "2022-02-12T12:44:37.583Z"
   },
   {
    "duration": 193,
    "start_time": "2022-02-12T12:49:18.378Z"
   },
   {
    "duration": 165,
    "start_time": "2022-02-12T12:50:39.949Z"
   },
   {
    "duration": 152,
    "start_time": "2022-02-12T12:54:14.803Z"
   },
   {
    "duration": 174,
    "start_time": "2022-02-12T12:54:49.410Z"
   },
   {
    "duration": 158,
    "start_time": "2022-02-12T12:55:07.297Z"
   },
   {
    "duration": 9,
    "start_time": "2022-02-12T13:08:02.067Z"
   },
   {
    "duration": 6,
    "start_time": "2022-02-12T13:08:15.883Z"
   },
   {
    "duration": 6680,
    "start_time": "2022-02-12T13:08:42.987Z"
   },
   {
    "duration": 7057,
    "start_time": "2022-02-12T13:09:09.938Z"
   },
   {
    "duration": 7826,
    "start_time": "2022-02-12T13:09:46.152Z"
   },
   {
    "duration": 164,
    "start_time": "2022-02-12T13:10:43.080Z"
   },
   {
    "duration": 3284,
    "start_time": "2022-02-12T13:12:04.176Z"
   },
   {
    "duration": 3429,
    "start_time": "2022-02-12T13:12:58.766Z"
   },
   {
    "duration": 3,
    "start_time": "2022-02-12T13:13:10.349Z"
   },
   {
    "duration": 3146,
    "start_time": "2022-02-12T13:13:15.205Z"
   },
   {
    "duration": 3015,
    "start_time": "2022-02-12T13:13:41.068Z"
   },
   {
    "duration": 3097,
    "start_time": "2022-02-12T13:14:55.129Z"
   },
   {
    "duration": 12,
    "start_time": "2022-02-12T13:15:23.006Z"
   },
   {
    "duration": 17,
    "start_time": "2022-02-12T13:15:31.622Z"
   },
   {
    "duration": 8,
    "start_time": "2022-02-12T13:15:40.798Z"
   },
   {
    "duration": 490,
    "start_time": "2022-02-12T13:17:17.642Z"
   },
   {
    "duration": 408,
    "start_time": "2022-02-12T13:18:43.206Z"
   },
   {
    "duration": 411,
    "start_time": "2022-02-12T13:19:12.108Z"
   },
   {
    "duration": 464,
    "start_time": "2022-02-12T13:21:40.518Z"
   },
   {
    "duration": 418,
    "start_time": "2022-02-12T13:23:50.600Z"
   },
   {
    "duration": 428,
    "start_time": "2022-02-12T13:24:07.550Z"
   },
   {
    "duration": 422,
    "start_time": "2022-02-12T13:24:20.629Z"
   },
   {
    "duration": 202,
    "start_time": "2022-02-12T13:25:04.660Z"
   },
   {
    "duration": 154,
    "start_time": "2022-02-12T13:25:14.738Z"
   },
   {
    "duration": 153,
    "start_time": "2022-02-12T13:25:22.226Z"
   },
   {
    "duration": 161,
    "start_time": "2022-02-12T13:26:20.440Z"
   },
   {
    "duration": 158,
    "start_time": "2022-02-12T13:27:32.381Z"
   },
   {
    "duration": 197,
    "start_time": "2022-02-12T13:28:53.489Z"
   },
   {
    "duration": 3413,
    "start_time": "2022-02-12T13:29:26.631Z"
   },
   {
    "duration": 3132,
    "start_time": "2022-02-12T13:30:12.846Z"
   },
   {
    "duration": 3211,
    "start_time": "2022-02-12T13:30:24.925Z"
   },
   {
    "duration": 3184,
    "start_time": "2022-02-12T13:31:41.817Z"
   },
   {
    "duration": 3118,
    "start_time": "2022-02-12T13:32:54.174Z"
   },
   {
    "duration": 3637,
    "start_time": "2022-02-12T13:35:23.217Z"
   },
   {
    "duration": 3639,
    "start_time": "2022-02-12T13:35:52.947Z"
   },
   {
    "duration": 4117,
    "start_time": "2022-02-12T13:36:03.689Z"
   },
   {
    "duration": 3355,
    "start_time": "2022-02-12T13:36:22.408Z"
   },
   {
    "duration": 3935,
    "start_time": "2022-02-12T13:40:54.744Z"
   },
   {
    "duration": 3370,
    "start_time": "2022-02-12T13:41:57.837Z"
   },
   {
    "duration": 3416,
    "start_time": "2022-02-12T13:43:04.451Z"
   },
   {
    "duration": 3517,
    "start_time": "2022-02-12T13:44:20.654Z"
   },
   {
    "duration": 473,
    "start_time": "2022-02-12T13:52:15.399Z"
   },
   {
    "duration": 3516,
    "start_time": "2022-02-12T13:52:39.654Z"
   },
   {
    "duration": 3,
    "start_time": "2022-02-12T13:59:11.802Z"
   },
   {
    "duration": 3835,
    "start_time": "2022-02-12T13:59:34.922Z"
   },
   {
    "duration": 3309,
    "start_time": "2022-02-12T13:59:52.538Z"
   },
   {
    "duration": 3383,
    "start_time": "2022-02-12T14:00:59.294Z"
   },
   {
    "duration": 3591,
    "start_time": "2022-02-12T14:02:18.611Z"
   },
   {
    "duration": 3695,
    "start_time": "2022-02-12T14:12:55.430Z"
   },
   {
    "duration": 124,
    "start_time": "2022-02-12T14:14:32.529Z"
   },
   {
    "duration": 3981,
    "start_time": "2022-02-12T14:14:51.600Z"
   },
   {
    "duration": 3862,
    "start_time": "2022-02-12T14:15:47.604Z"
   },
   {
    "duration": 98,
    "start_time": "2022-02-12T14:18:01.775Z"
   },
   {
    "duration": 86,
    "start_time": "2022-02-12T14:18:35.340Z"
   },
   {
    "duration": 93,
    "start_time": "2022-02-12T14:19:11.907Z"
   },
   {
    "duration": 92,
    "start_time": "2022-02-12T14:19:24.226Z"
   },
   {
    "duration": 113,
    "start_time": "2022-02-12T14:19:35.729Z"
   },
   {
    "duration": 99,
    "start_time": "2022-02-12T14:19:48.985Z"
   },
   {
    "duration": 3950,
    "start_time": "2022-02-12T14:20:05.730Z"
   },
   {
    "duration": 3927,
    "start_time": "2022-02-12T14:20:44.367Z"
   },
   {
    "duration": 97,
    "start_time": "2022-02-12T14:22:36.082Z"
   },
   {
    "duration": 7497,
    "start_time": "2022-02-12T14:22:59.168Z"
   },
   {
    "duration": 4102,
    "start_time": "2022-02-12T14:23:45.382Z"
   },
   {
    "duration": 4035,
    "start_time": "2022-02-12T14:24:37.244Z"
   },
   {
    "duration": 4730,
    "start_time": "2022-02-12T14:26:20.088Z"
   },
   {
    "duration": 4784,
    "start_time": "2022-02-12T14:27:26.268Z"
   },
   {
    "duration": 4667,
    "start_time": "2022-02-12T14:29:11.311Z"
   },
   {
    "duration": 4714,
    "start_time": "2022-02-12T14:30:42.709Z"
   },
   {
    "duration": 4928,
    "start_time": "2022-02-12T14:31:02.098Z"
   },
   {
    "duration": 4725,
    "start_time": "2022-02-12T14:31:26.145Z"
   },
   {
    "duration": 11,
    "start_time": "2022-02-12T14:31:57.247Z"
   },
   {
    "duration": 17,
    "start_time": "2022-02-12T14:34:27.951Z"
   },
   {
    "duration": 15,
    "start_time": "2022-02-12T14:35:44.804Z"
   },
   {
    "duration": 4750,
    "start_time": "2022-02-12T14:39:27.251Z"
   },
   {
    "duration": 5402,
    "start_time": "2022-02-12T14:49:48.207Z"
   },
   {
    "duration": 6600,
    "start_time": "2022-02-12T14:53:54.538Z"
   },
   {
    "duration": 5534,
    "start_time": "2022-02-12T14:55:00.839Z"
   },
   {
    "duration": 5561,
    "start_time": "2022-02-12T14:58:49.011Z"
   },
   {
    "duration": 780,
    "start_time": "2022-02-12T15:00:45.630Z"
   },
   {
    "duration": 505,
    "start_time": "2022-02-12T15:01:14.789Z"
   },
   {
    "duration": 535,
    "start_time": "2022-02-12T15:01:24.164Z"
   },
   {
    "duration": 5733,
    "start_time": "2022-02-12T15:02:06.010Z"
   },
   {
    "duration": 5702,
    "start_time": "2022-02-12T15:02:26.649Z"
   },
   {
    "duration": 431,
    "start_time": "2022-02-12T15:03:12.768Z"
   },
   {
    "duration": 5600,
    "start_time": "2022-02-12T15:03:56.414Z"
   },
   {
    "duration": 5580,
    "start_time": "2022-02-12T15:06:01.047Z"
   },
   {
    "duration": 5650,
    "start_time": "2022-02-12T15:06:30.359Z"
   },
   {
    "duration": 5478,
    "start_time": "2022-02-12T15:06:49.965Z"
   },
   {
    "duration": 5973,
    "start_time": "2022-02-12T15:07:33.332Z"
   },
   {
    "duration": 6022,
    "start_time": "2022-02-12T15:08:27.576Z"
   },
   {
    "duration": 22,
    "start_time": "2022-02-12T15:08:47.814Z"
   },
   {
    "duration": 9,
    "start_time": "2022-02-12T15:09:16.285Z"
   },
   {
    "duration": 3,
    "start_time": "2022-02-12T15:09:26.999Z"
   },
   {
    "duration": 371,
    "start_time": "2022-02-12T15:09:27.004Z"
   },
   {
    "duration": 44,
    "start_time": "2022-02-12T15:09:46.516Z"
   },
   {
    "duration": 395,
    "start_time": "2022-02-12T15:10:09.972Z"
   },
   {
    "duration": 309,
    "start_time": "2022-02-12T15:10:21.090Z"
   },
   {
    "duration": 3,
    "start_time": "2022-02-12T15:10:24.225Z"
   },
   {
    "duration": 387,
    "start_time": "2022-02-12T15:10:24.230Z"
   },
   {
    "duration": 33,
    "start_time": "2022-02-12T15:10:24.619Z"
   },
   {
    "duration": 7,
    "start_time": "2022-02-12T15:10:24.655Z"
   },
   {
    "duration": 26,
    "start_time": "2022-02-12T15:10:24.664Z"
   },
   {
    "duration": 15,
    "start_time": "2022-02-12T15:10:24.692Z"
   },
   {
    "duration": 8,
    "start_time": "2022-02-12T15:10:24.719Z"
   },
   {
    "duration": 24,
    "start_time": "2022-02-12T15:10:24.729Z"
   },
   {
    "duration": 43,
    "start_time": "2022-02-12T15:10:24.755Z"
   },
   {
    "duration": 47,
    "start_time": "2022-02-12T15:10:24.800Z"
   },
   {
    "duration": 24,
    "start_time": "2022-02-12T15:10:24.849Z"
   },
   {
    "duration": 7,
    "start_time": "2022-02-12T15:10:24.875Z"
   },
   {
    "duration": 6312,
    "start_time": "2022-02-12T15:10:24.884Z"
   },
   {
    "duration": 5717,
    "start_time": "2022-02-12T15:11:13.944Z"
   },
   {
    "duration": 5817,
    "start_time": "2022-02-12T15:11:28.559Z"
   },
   {
    "duration": 5937,
    "start_time": "2022-02-12T15:11:56.070Z"
   },
   {
    "duration": 5653,
    "start_time": "2022-02-12T15:13:40.531Z"
   },
   {
    "duration": 5581,
    "start_time": "2022-02-12T15:13:57.552Z"
   },
   {
    "duration": 5632,
    "start_time": "2022-02-12T15:14:14.880Z"
   },
   {
    "duration": 1731,
    "start_time": "2022-02-12T15:14:54.070Z"
   },
   {
    "duration": 6054,
    "start_time": "2022-02-12T15:16:36.706Z"
   },
   {
    "duration": 5720,
    "start_time": "2022-02-12T15:17:52.526Z"
   },
   {
    "duration": 1770,
    "start_time": "2022-02-12T15:18:22.356Z"
   },
   {
    "duration": 1778,
    "start_time": "2022-02-12T15:19:27.209Z"
   },
   {
    "duration": 5747,
    "start_time": "2022-02-12T15:19:44.665Z"
   },
   {
    "duration": 6192,
    "start_time": "2022-02-12T15:20:33.279Z"
   },
   {
    "duration": 1785,
    "start_time": "2022-02-12T15:20:47.285Z"
   },
   {
    "duration": 1931,
    "start_time": "2022-02-12T15:24:40.762Z"
   },
   {
    "duration": 1751,
    "start_time": "2022-02-12T15:24:52.114Z"
   },
   {
    "duration": 1847,
    "start_time": "2022-02-12T15:26:54.053Z"
   },
   {
    "duration": 5922,
    "start_time": "2022-02-12T15:27:09.516Z"
   },
   {
    "duration": 5673,
    "start_time": "2022-02-12T15:27:19.787Z"
   },
   {
    "duration": 1963,
    "start_time": "2022-02-12T15:28:49.150Z"
   },
   {
    "duration": 93,
    "start_time": "2022-02-12T15:32:28.373Z"
   },
   {
    "duration": 6019,
    "start_time": "2022-02-12T15:32:39.980Z"
   },
   {
    "duration": 446,
    "start_time": "2022-02-12T15:33:56.377Z"
   },
   {
    "duration": 5771,
    "start_time": "2022-02-12T15:34:27.328Z"
   },
   {
    "duration": 5695,
    "start_time": "2022-02-12T15:51:30.887Z"
   },
   {
    "duration": 111,
    "start_time": "2022-02-12T16:00:50.812Z"
   },
   {
    "duration": 1472,
    "start_time": "2022-02-12T16:01:33.075Z"
   },
   {
    "duration": 1405,
    "start_time": "2022-02-12T16:02:56.527Z"
   },
   {
    "duration": 1466,
    "start_time": "2022-02-12T16:04:03.260Z"
   },
   {
    "duration": 1438,
    "start_time": "2022-02-12T16:04:31.082Z"
   },
   {
    "duration": 3,
    "start_time": "2022-02-12T16:06:17.101Z"
   },
   {
    "duration": 403,
    "start_time": "2022-02-12T16:06:17.106Z"
   },
   {
    "duration": 35,
    "start_time": "2022-02-12T16:06:17.510Z"
   },
   {
    "duration": 7,
    "start_time": "2022-02-12T16:06:17.547Z"
   },
   {
    "duration": 20,
    "start_time": "2022-02-12T16:06:17.556Z"
   },
   {
    "duration": 16,
    "start_time": "2022-02-12T16:06:17.578Z"
   },
   {
    "duration": 8,
    "start_time": "2022-02-12T16:06:17.619Z"
   },
   {
    "duration": 12,
    "start_time": "2022-02-12T16:06:17.629Z"
   },
   {
    "duration": 48,
    "start_time": "2022-02-12T16:06:17.642Z"
   },
   {
    "duration": 52,
    "start_time": "2022-02-12T16:06:17.692Z"
   },
   {
    "duration": 25,
    "start_time": "2022-02-12T16:06:17.746Z"
   },
   {
    "duration": 8,
    "start_time": "2022-02-12T16:06:17.773Z"
   },
   {
    "duration": 1490,
    "start_time": "2022-02-12T16:06:17.782Z"
   },
   {
    "duration": -910,
    "start_time": "2022-02-12T16:06:20.184Z"
   },
   {
    "duration": 1377,
    "start_time": "2022-02-12T16:06:46.659Z"
   },
   {
    "duration": 12161,
    "start_time": "2022-02-12T16:11:16.246Z"
   },
   {
    "duration": 15769,
    "start_time": "2022-02-12T16:12:05.545Z"
   },
   {
    "duration": 8827,
    "start_time": "2022-02-12T16:15:40.181Z"
   },
   {
    "duration": 9366,
    "start_time": "2022-02-12T16:16:48.448Z"
   },
   {
    "duration": 1423,
    "start_time": "2022-02-12T16:17:29.285Z"
   },
   {
    "duration": 1477,
    "start_time": "2022-02-12T16:18:49.403Z"
   },
   {
    "duration": 9053,
    "start_time": "2022-02-12T16:19:19.977Z"
   },
   {
    "duration": 8867,
    "start_time": "2022-02-12T16:21:05.435Z"
   },
   {
    "duration": 1573,
    "start_time": "2022-02-12T16:22:21.712Z"
   },
   {
    "duration": 1749,
    "start_time": "2022-02-12T16:26:51.315Z"
   },
   {
    "duration": 1377,
    "start_time": "2022-02-12T16:27:50.410Z"
   },
   {
    "duration": 1547,
    "start_time": "2022-02-12T16:28:36.766Z"
   },
   {
    "duration": 425,
    "start_time": "2022-02-12T16:29:51.315Z"
   },
   {
    "duration": 438,
    "start_time": "2022-02-12T16:30:30.833Z"
   },
   {
    "duration": 1459,
    "start_time": "2022-02-12T16:31:25.239Z"
   },
   {
    "duration": 90,
    "start_time": "2022-02-12T16:59:22.932Z"
   },
   {
    "duration": 5872,
    "start_time": "2022-02-12T17:00:02.881Z"
   },
   {
    "duration": 6526,
    "start_time": "2022-02-12T17:00:12.005Z"
   },
   {
    "duration": 6588,
    "start_time": "2022-02-12T17:00:22.692Z"
   },
   {
    "duration": 1542,
    "start_time": "2022-02-12T17:00:59.050Z"
   },
   {
    "duration": 1462,
    "start_time": "2022-02-12T17:01:20.490Z"
   },
   {
    "duration": 6950,
    "start_time": "2022-02-12T17:01:33.234Z"
   },
   {
    "duration": 1529,
    "start_time": "2022-02-12T17:02:08.335Z"
   },
   {
    "duration": 1807,
    "start_time": "2022-02-12T17:02:29.991Z"
   },
   {
    "duration": 1608,
    "start_time": "2022-02-12T17:02:42.598Z"
   },
   {
    "duration": 1499,
    "start_time": "2022-02-12T17:02:53.219Z"
   },
   {
    "duration": 7929,
    "start_time": "2022-02-12T17:03:04.772Z"
   },
   {
    "duration": 1675,
    "start_time": "2022-02-12T17:03:14.539Z"
   },
   {
    "duration": 7136,
    "start_time": "2022-02-12T17:03:30.171Z"
   },
   {
    "duration": 7629,
    "start_time": "2022-02-12T17:03:40.595Z"
   },
   {
    "duration": 1721,
    "start_time": "2022-02-12T17:03:49.186Z"
   },
   {
    "duration": 1704,
    "start_time": "2022-02-12T17:04:01.281Z"
   },
   {
    "duration": 7250,
    "start_time": "2022-02-12T17:04:10.332Z"
   },
   {
    "duration": 1664,
    "start_time": "2022-02-12T17:04:29.639Z"
   },
   {
    "duration": 7518,
    "start_time": "2022-02-12T17:04:42.149Z"
   },
   {
    "duration": 7132,
    "start_time": "2022-02-12T17:05:43.268Z"
   },
   {
    "duration": 11317,
    "start_time": "2022-02-12T17:07:23.896Z"
   },
   {
    "duration": 6834,
    "start_time": "2022-02-12T17:08:41.844Z"
   },
   {
    "duration": 6910,
    "start_time": "2022-02-12T17:09:02.739Z"
   },
   {
    "duration": 10537,
    "start_time": "2022-02-12T17:09:49.274Z"
   },
   {
    "duration": 7134,
    "start_time": "2022-02-12T17:13:11.456Z"
   },
   {
    "duration": 6954,
    "start_time": "2022-02-12T17:34:44.730Z"
   },
   {
    "duration": 6632,
    "start_time": "2022-02-12T17:36:45.678Z"
   },
   {
    "duration": 6771,
    "start_time": "2022-02-12T17:36:58.468Z"
   },
   {
    "duration": 6715,
    "start_time": "2022-02-12T17:40:16.211Z"
   },
   {
    "duration": 6921,
    "start_time": "2022-02-12T17:40:28.658Z"
   },
   {
    "duration": 6782,
    "start_time": "2022-02-12T17:41:43.991Z"
   },
   {
    "duration": 446,
    "start_time": "2022-02-12T17:43:10.322Z"
   },
   {
    "duration": 421,
    "start_time": "2022-02-12T17:43:26.457Z"
   },
   {
    "duration": 475,
    "start_time": "2022-02-12T17:44:01.176Z"
   },
   {
    "duration": 160,
    "start_time": "2022-02-12T17:44:44.830Z"
   },
   {
    "duration": 157,
    "start_time": "2022-02-12T17:44:56.933Z"
   },
   {
    "duration": 1107,
    "start_time": "2022-02-13T03:35:11.345Z"
   },
   {
    "duration": 349,
    "start_time": "2022-02-13T03:35:12.454Z"
   },
   {
    "duration": 81,
    "start_time": "2022-02-13T03:35:12.805Z"
   },
   {
    "duration": 6,
    "start_time": "2022-02-13T03:35:12.888Z"
   },
   {
    "duration": 16,
    "start_time": "2022-02-13T03:35:12.896Z"
   },
   {
    "duration": 12,
    "start_time": "2022-02-13T03:35:12.913Z"
   },
   {
    "duration": 6,
    "start_time": "2022-02-13T03:35:12.927Z"
   },
   {
    "duration": 8,
    "start_time": "2022-02-13T03:35:12.935Z"
   },
   {
    "duration": 44,
    "start_time": "2022-02-13T03:35:12.945Z"
   },
   {
    "duration": 47,
    "start_time": "2022-02-13T03:35:12.991Z"
   },
   {
    "duration": 24,
    "start_time": "2022-02-13T03:35:13.039Z"
   },
   {
    "duration": 6,
    "start_time": "2022-02-13T03:35:13.064Z"
   },
   {
    "duration": 833,
    "start_time": "2022-02-13T03:35:13.072Z"
   },
   {
    "duration": -260,
    "start_time": "2022-02-13T03:35:14.167Z"
   },
   {
    "duration": 3343,
    "start_time": "2022-02-13T03:36:47.326Z"
   },
   {
    "duration": 3275,
    "start_time": "2022-02-13T03:37:17.399Z"
   },
   {
    "duration": 112,
    "start_time": "2022-02-13T03:38:06.518Z"
   },
   {
    "duration": 1543,
    "start_time": "2022-02-13T03:38:21.884Z"
   },
   {
    "duration": 1482,
    "start_time": "2022-02-13T03:38:58.099Z"
   },
   {
    "duration": 1467,
    "start_time": "2022-02-13T03:39:11.938Z"
   },
   {
    "duration": 1471,
    "start_time": "2022-02-13T03:39:20.001Z"
   },
   {
    "duration": 3259,
    "start_time": "2022-02-13T03:39:38.698Z"
   },
   {
    "duration": 333,
    "start_time": "2022-02-13T03:51:41.094Z"
   },
   {
    "duration": 313,
    "start_time": "2022-02-13T03:53:13.530Z"
   },
   {
    "duration": 3,
    "start_time": "2022-02-13T03:55:42.699Z"
   },
   {
    "duration": 3,
    "start_time": "2022-02-13T03:56:05.913Z"
   },
   {
    "duration": 341,
    "start_time": "2022-02-13T03:56:05.918Z"
   },
   {
    "duration": 71,
    "start_time": "2022-02-13T03:56:06.261Z"
   },
   {
    "duration": 7,
    "start_time": "2022-02-13T03:56:06.333Z"
   },
   {
    "duration": 35,
    "start_time": "2022-02-13T03:56:06.341Z"
   },
   {
    "duration": 12,
    "start_time": "2022-02-13T03:56:06.378Z"
   },
   {
    "duration": 6,
    "start_time": "2022-02-13T03:56:06.392Z"
   },
   {
    "duration": 9,
    "start_time": "2022-02-13T03:56:06.400Z"
   },
   {
    "duration": 43,
    "start_time": "2022-02-13T03:56:06.410Z"
   },
   {
    "duration": 27,
    "start_time": "2022-02-13T03:56:06.455Z"
   },
   {
    "duration": 22,
    "start_time": "2022-02-13T03:56:06.484Z"
   },
   {
    "duration": 24,
    "start_time": "2022-02-13T03:56:06.507Z"
   },
   {
    "duration": 3255,
    "start_time": "2022-02-13T03:56:06.533Z"
   },
   {
    "duration": 3,
    "start_time": "2022-02-13T03:56:09.790Z"
   },
   {
    "duration": 3,
    "start_time": "2022-02-13T03:56:16.585Z"
   },
   {
    "duration": 4,
    "start_time": "2022-02-13T03:56:37.535Z"
   },
   {
    "duration": 4,
    "start_time": "2022-02-13T03:57:46.684Z"
   },
   {
    "duration": 3,
    "start_time": "2022-02-13T03:58:11.227Z"
   },
   {
    "duration": 3329,
    "start_time": "2022-02-13T03:58:55.514Z"
   },
   {
    "duration": 3302,
    "start_time": "2022-02-13T04:00:07.759Z"
   },
   {
    "duration": 3390,
    "start_time": "2022-02-13T04:07:53.921Z"
   },
   {
    "duration": 3432,
    "start_time": "2022-02-13T04:08:28.919Z"
   },
   {
    "duration": 3355,
    "start_time": "2022-02-13T04:10:29.381Z"
   },
   {
    "duration": 3352,
    "start_time": "2022-02-13T04:11:16.576Z"
   },
   {
    "duration": 3524,
    "start_time": "2022-02-13T04:11:37.886Z"
   },
   {
    "duration": 3384,
    "start_time": "2022-02-13T04:12:25.752Z"
   },
   {
    "duration": 3,
    "start_time": "2022-02-13T04:12:36.117Z"
   },
   {
    "duration": 392,
    "start_time": "2022-02-13T04:12:36.123Z"
   },
   {
    "duration": 83,
    "start_time": "2022-02-13T04:12:36.517Z"
   },
   {
    "duration": 6,
    "start_time": "2022-02-13T04:12:36.602Z"
   },
   {
    "duration": 18,
    "start_time": "2022-02-13T04:12:36.609Z"
   },
   {
    "duration": 11,
    "start_time": "2022-02-13T04:12:36.629Z"
   },
   {
    "duration": 7,
    "start_time": "2022-02-13T04:12:36.642Z"
   },
   {
    "duration": 9,
    "start_time": "2022-02-13T04:12:36.651Z"
   },
   {
    "duration": 38,
    "start_time": "2022-02-13T04:12:36.661Z"
   },
   {
    "duration": 48,
    "start_time": "2022-02-13T04:12:36.701Z"
   },
   {
    "duration": 21,
    "start_time": "2022-02-13T04:12:36.751Z"
   },
   {
    "duration": 7,
    "start_time": "2022-02-13T04:12:36.773Z"
   },
   {
    "duration": 3516,
    "start_time": "2022-02-13T04:12:36.782Z"
   },
   {
    "duration": 3,
    "start_time": "2022-02-13T04:12:40.300Z"
   },
   {
    "duration": 3453,
    "start_time": "2022-02-13T04:13:43.034Z"
   },
   {
    "duration": 3306,
    "start_time": "2022-02-13T04:14:21.303Z"
   },
   {
    "duration": 3307,
    "start_time": "2022-02-13T04:15:08.558Z"
   },
   {
    "duration": 3316,
    "start_time": "2022-02-13T04:16:39.624Z"
   },
   {
    "duration": 3479,
    "start_time": "2022-02-13T04:16:58.048Z"
   },
   {
    "duration": 3450,
    "start_time": "2022-02-13T04:17:19.759Z"
   },
   {
    "duration": 11254,
    "start_time": "2022-02-13T04:17:48.524Z"
   },
   {
    "duration": 541,
    "start_time": "2022-02-13T04:18:21.059Z"
   },
   {
    "duration": 5519,
    "start_time": "2022-02-13T04:18:55.667Z"
   },
   {
    "duration": 3376,
    "start_time": "2022-02-13T04:20:04.781Z"
   },
   {
    "duration": 3374,
    "start_time": "2022-02-13T04:20:38.332Z"
   },
   {
    "duration": 3529,
    "start_time": "2022-02-13T04:20:59.916Z"
   },
   {
    "duration": 11624,
    "start_time": "2022-02-13T04:21:25.235Z"
   },
   {
    "duration": 3585,
    "start_time": "2022-02-13T04:21:56.705Z"
   },
   {
    "duration": 3434,
    "start_time": "2022-02-13T04:22:41.271Z"
   },
   {
    "duration": 3452,
    "start_time": "2022-02-13T04:22:59.042Z"
   },
   {
    "duration": 3220,
    "start_time": "2022-02-13T04:31:07.744Z"
   },
   {
    "duration": 3233,
    "start_time": "2022-02-13T04:31:29.118Z"
   },
   {
    "duration": 3233,
    "start_time": "2022-02-13T04:32:10.413Z"
   },
   {
    "duration": 321,
    "start_time": "2022-02-13T04:38:06.171Z"
   },
   {
    "duration": 11,
    "start_time": "2022-02-13T04:38:19.794Z"
   },
   {
    "duration": 16,
    "start_time": "2022-02-13T04:40:05.942Z"
   },
   {
    "duration": 312,
    "start_time": "2022-02-13T04:41:26.606Z"
   },
   {
    "duration": 18,
    "start_time": "2022-02-13T04:41:42.416Z"
   },
   {
    "duration": 18,
    "start_time": "2022-02-13T04:42:29.606Z"
   },
   {
    "duration": 19,
    "start_time": "2022-02-13T04:45:14.071Z"
   },
   {
    "duration": 20,
    "start_time": "2022-02-13T04:46:04.852Z"
   },
   {
    "duration": 14,
    "start_time": "2022-02-13T04:46:26.172Z"
   },
   {
    "duration": 15,
    "start_time": "2022-02-13T04:46:46.682Z"
   },
   {
    "duration": 18,
    "start_time": "2022-02-13T04:46:53.242Z"
   },
   {
    "duration": 13,
    "start_time": "2022-02-13T04:47:27.608Z"
   },
   {
    "duration": 18,
    "start_time": "2022-02-13T04:47:45.966Z"
   },
   {
    "duration": 19,
    "start_time": "2022-02-13T04:48:07.399Z"
   },
   {
    "duration": 613,
    "start_time": "2022-02-13T04:49:16.324Z"
   },
   {
    "duration": 169,
    "start_time": "2022-02-13T04:49:38.507Z"
   },
   {
    "duration": 322,
    "start_time": "2022-02-13T04:50:29.153Z"
   },
   {
    "duration": 387,
    "start_time": "2022-02-13T04:51:08.127Z"
   },
   {
    "duration": 339,
    "start_time": "2022-02-13T04:51:29.269Z"
   },
   {
    "duration": 354,
    "start_time": "2022-02-13T04:53:23.619Z"
   },
   {
    "duration": 407,
    "start_time": "2022-02-13T04:53:39.863Z"
   },
   {
    "duration": 351,
    "start_time": "2022-02-13T04:54:13.094Z"
   },
   {
    "duration": 351,
    "start_time": "2022-02-13T04:54:33.101Z"
   },
   {
    "duration": 357,
    "start_time": "2022-02-13T04:54:41.580Z"
   },
   {
    "duration": 418,
    "start_time": "2022-02-13T04:56:16.009Z"
   },
   {
    "duration": 432,
    "start_time": "2022-02-13T04:59:30.879Z"
   },
   {
    "duration": 373,
    "start_time": "2022-02-13T05:00:27.268Z"
   },
   {
    "duration": 357,
    "start_time": "2022-02-13T05:01:20.346Z"
   },
   {
    "duration": 356,
    "start_time": "2022-02-13T05:02:18.511Z"
   },
   {
    "duration": 352,
    "start_time": "2022-02-13T05:04:20.042Z"
   },
   {
    "duration": 365,
    "start_time": "2022-02-13T05:04:53.415Z"
   },
   {
    "duration": 449,
    "start_time": "2022-02-13T05:05:26.479Z"
   },
   {
    "duration": 363,
    "start_time": "2022-02-13T05:05:44.397Z"
   },
   {
    "duration": 363,
    "start_time": "2022-02-13T05:07:23.648Z"
   },
   {
    "duration": 364,
    "start_time": "2022-02-13T05:07:50.608Z"
   },
   {
    "duration": 353,
    "start_time": "2022-02-13T05:08:08.463Z"
   },
   {
    "duration": 452,
    "start_time": "2022-02-13T05:08:39.325Z"
   },
   {
    "duration": 376,
    "start_time": "2022-02-13T05:13:56.478Z"
   },
   {
    "duration": 357,
    "start_time": "2022-02-13T05:17:00.193Z"
   },
   {
    "duration": 325,
    "start_time": "2022-02-13T05:18:56.688Z"
   },
   {
    "duration": 21,
    "start_time": "2022-02-13T05:19:23.601Z"
   },
   {
    "duration": 19,
    "start_time": "2022-02-13T05:19:48.501Z"
   },
   {
    "duration": 448,
    "start_time": "2022-02-13T05:20:17.012Z"
   },
   {
    "duration": 361,
    "start_time": "2022-02-13T05:20:22.134Z"
   },
   {
    "duration": 372,
    "start_time": "2022-02-13T05:24:34.688Z"
   },
   {
    "duration": 319,
    "start_time": "2022-02-13T09:57:03.362Z"
   },
   {
    "duration": 655,
    "start_time": "2022-02-13T09:57:11.388Z"
   },
   {
    "duration": 408,
    "start_time": "2022-02-13T09:57:12.044Z"
   },
   {
    "duration": 65,
    "start_time": "2022-02-13T09:57:12.455Z"
   },
   {
    "duration": 9,
    "start_time": "2022-02-13T09:57:12.523Z"
   },
   {
    "duration": 22,
    "start_time": "2022-02-13T09:57:12.534Z"
   },
   {
    "duration": 41,
    "start_time": "2022-02-13T09:57:12.558Z"
   },
   {
    "duration": 8,
    "start_time": "2022-02-13T09:57:12.601Z"
   },
   {
    "duration": 14,
    "start_time": "2022-02-13T09:57:12.612Z"
   },
   {
    "duration": 71,
    "start_time": "2022-02-13T09:57:12.628Z"
   },
   {
    "duration": 39,
    "start_time": "2022-02-13T09:57:12.701Z"
   },
   {
    "duration": 28,
    "start_time": "2022-02-13T09:57:12.742Z"
   },
   {
    "duration": 32,
    "start_time": "2022-02-13T09:57:12.771Z"
   },
   {
    "duration": 3803,
    "start_time": "2022-02-13T09:57:12.805Z"
   },
   {
    "duration": 643,
    "start_time": "2022-02-13T09:57:16.610Z"
   },
   {
    "duration": 526,
    "start_time": "2022-02-13T09:57:17.255Z"
   },
   {
    "duration": 515,
    "start_time": "2022-02-13T09:57:17.783Z"
   },
   {
    "duration": 9,
    "start_time": "2022-02-13T09:57:18.300Z"
   },
   {
    "duration": 11,
    "start_time": "2022-02-13T09:57:37.884Z"
   },
   {
    "duration": 10,
    "start_time": "2022-02-13T09:58:29.044Z"
   },
   {
    "duration": 14,
    "start_time": "2022-02-13T09:58:39.617Z"
   },
   {
    "duration": 17,
    "start_time": "2022-02-13T10:00:17.157Z"
   },
   {
    "duration": 6601,
    "start_time": "2022-02-13T10:02:12.063Z"
   },
   {
    "duration": 270,
    "start_time": "2022-02-13T10:02:33.302Z"
   },
   {
    "duration": 14,
    "start_time": "2022-02-13T10:04:02.754Z"
   },
   {
    "duration": 380,
    "start_time": "2022-02-13T12:24:19.160Z"
   },
   {
    "duration": 660,
    "start_time": "2022-02-13T12:24:23.115Z"
   },
   {
    "duration": 425,
    "start_time": "2022-02-13T12:24:23.777Z"
   },
   {
    "duration": 65,
    "start_time": "2022-02-13T12:24:24.205Z"
   },
   {
    "duration": 9,
    "start_time": "2022-02-13T12:24:24.272Z"
   },
   {
    "duration": 26,
    "start_time": "2022-02-13T12:24:24.283Z"
   },
   {
    "duration": 18,
    "start_time": "2022-02-13T12:24:24.311Z"
   },
   {
    "duration": 10,
    "start_time": "2022-02-13T12:24:24.332Z"
   },
   {
    "duration": 13,
    "start_time": "2022-02-13T12:24:24.345Z"
   },
   {
    "duration": 85,
    "start_time": "2022-02-13T12:24:24.360Z"
   },
   {
    "duration": 57,
    "start_time": "2022-02-13T12:24:24.447Z"
   },
   {
    "duration": 29,
    "start_time": "2022-02-13T12:24:24.506Z"
   },
   {
    "duration": 8,
    "start_time": "2022-02-13T12:24:24.536Z"
   },
   {
    "duration": 4054,
    "start_time": "2022-02-13T12:24:24.546Z"
   },
   {
    "duration": 682,
    "start_time": "2022-02-13T12:24:28.602Z"
   },
   {
    "duration": 545,
    "start_time": "2022-02-13T12:24:29.285Z"
   },
   {
    "duration": 536,
    "start_time": "2022-02-13T12:24:29.832Z"
   },
   {
    "duration": 14,
    "start_time": "2022-02-13T12:24:30.370Z"
   },
   {
    "duration": 316,
    "start_time": "2022-02-13T12:30:41.480Z"
   },
   {
    "duration": 446,
    "start_time": "2022-02-13T12:31:33.440Z"
   },
   {
    "duration": 315,
    "start_time": "2022-02-13T12:31:38.137Z"
   },
   {
    "duration": 10,
    "start_time": "2022-02-13T12:32:28.648Z"
   },
   {
    "duration": 10,
    "start_time": "2022-02-13T12:33:41.355Z"
   },
   {
    "duration": 385,
    "start_time": "2022-02-13T12:39:04.941Z"
   },
   {
    "duration": 10,
    "start_time": "2022-02-13T12:39:18.619Z"
   },
   {
    "duration": 6623,
    "start_time": "2022-02-13T12:42:48.240Z"
   },
   {
    "duration": 7436,
    "start_time": "2022-02-13T12:43:54.685Z"
   },
   {
    "duration": 14,
    "start_time": "2022-02-13T12:50:25.710Z"
   },
   {
    "duration": 1074,
    "start_time": "2022-02-13T12:51:53.666Z"
   },
   {
    "duration": 534,
    "start_time": "2022-02-13T12:52:03.717Z"
   },
   {
    "duration": 1090,
    "start_time": "2022-02-13T12:54:31.558Z"
   },
   {
    "duration": 534,
    "start_time": "2022-02-13T12:54:48.973Z"
   },
   {
    "duration": 524,
    "start_time": "2022-02-13T12:55:31.061Z"
   },
   {
    "duration": 529,
    "start_time": "2022-02-13T12:56:17.209Z"
   },
   {
    "duration": 7319,
    "start_time": "2022-02-13T12:57:57.140Z"
   },
   {
    "duration": 521,
    "start_time": "2022-02-13T12:58:21.524Z"
   },
   {
    "duration": 17,
    "start_time": "2022-02-13T12:58:56.497Z"
   },
   {
    "duration": 11,
    "start_time": "2022-02-13T12:59:24.810Z"
   },
   {
    "duration": 18,
    "start_time": "2022-02-13T13:06:45.197Z"
   },
   {
    "duration": 97,
    "start_time": "2022-02-13T13:09:58.450Z"
   },
   {
    "duration": 85,
    "start_time": "2022-02-13T13:10:18.272Z"
   },
   {
    "duration": 5,
    "start_time": "2022-02-13T13:10:39.944Z"
   },
   {
    "duration": 280,
    "start_time": "2022-02-13T13:11:26.261Z"
   },
   {
    "duration": 10,
    "start_time": "2022-02-13T13:11:52.628Z"
   },
   {
    "duration": 10,
    "start_time": "2022-02-13T13:12:36.502Z"
   },
   {
    "duration": 17,
    "start_time": "2022-02-13T13:13:45.681Z"
   },
   {
    "duration": 15,
    "start_time": "2022-02-13T13:14:09.977Z"
   },
   {
    "duration": 85,
    "start_time": "2022-02-13T13:14:27.983Z"
   },
   {
    "duration": 23,
    "start_time": "2022-02-13T13:15:06.461Z"
   },
   {
    "duration": 31,
    "start_time": "2022-02-13T13:17:24.408Z"
   },
   {
    "duration": 31,
    "start_time": "2022-02-13T13:20:43.164Z"
   },
   {
    "duration": 6,
    "start_time": "2022-02-13T13:21:45.694Z"
   },
   {
    "duration": 228,
    "start_time": "2022-02-13T13:23:48.383Z"
   },
   {
    "duration": 538,
    "start_time": "2022-02-13T13:24:09.199Z"
   },
   {
    "duration": 96,
    "start_time": "2022-02-14T12:26:39.300Z"
   },
   {
    "duration": 1257,
    "start_time": "2022-02-14T12:26:51.412Z"
   },
   {
    "duration": 500,
    "start_time": "2022-02-14T12:26:52.671Z"
   },
   {
    "duration": 44,
    "start_time": "2022-02-14T12:26:53.174Z"
   },
   {
    "duration": 33,
    "start_time": "2022-02-14T12:26:53.221Z"
   },
   {
    "duration": 22,
    "start_time": "2022-02-14T12:26:53.256Z"
   },
   {
    "duration": 18,
    "start_time": "2022-02-14T12:26:53.280Z"
   },
   {
    "duration": 11,
    "start_time": "2022-02-14T12:26:53.301Z"
   },
   {
    "duration": 15,
    "start_time": "2022-02-14T12:26:53.349Z"
   },
   {
    "duration": 91,
    "start_time": "2022-02-14T12:26:53.367Z"
   },
   {
    "duration": 47,
    "start_time": "2022-02-14T12:26:53.461Z"
   },
   {
    "duration": 56,
    "start_time": "2022-02-14T12:26:53.510Z"
   },
   {
    "duration": 11,
    "start_time": "2022-02-14T12:26:53.568Z"
   },
   {
    "duration": 6171,
    "start_time": "2022-02-14T12:26:53.581Z"
   },
   {
    "duration": 808,
    "start_time": "2022-02-14T12:26:59.754Z"
   },
   {
    "duration": 712,
    "start_time": "2022-02-14T12:27:00.564Z"
   },
   {
    "duration": 771,
    "start_time": "2022-02-14T12:27:01.278Z"
   },
   {
    "duration": 21,
    "start_time": "2022-02-14T12:27:02.051Z"
   },
   {
    "duration": 12,
    "start_time": "2022-02-14T12:27:02.074Z"
   },
   {
    "duration": 79,
    "start_time": "2022-02-14T12:27:02.089Z"
   },
   {
    "duration": 628,
    "start_time": "2022-02-14T12:27:02.171Z"
   },
   {
    "duration": 112,
    "start_time": "2022-02-14T12:27:02.802Z"
   },
   {
    "duration": 21,
    "start_time": "2022-02-14T12:37:40.131Z"
   },
   {
    "duration": 9,
    "start_time": "2022-02-14T12:38:50.621Z"
   },
   {
    "duration": 21,
    "start_time": "2022-02-14T12:40:03.160Z"
   },
   {
    "duration": 10,
    "start_time": "2022-02-14T12:43:53.274Z"
   },
   {
    "duration": 15068,
    "start_time": "2022-02-14T13:22:38.277Z"
   },
   {
    "duration": 6597,
    "start_time": "2022-02-14T13:23:06.992Z"
   },
   {
    "duration": 6957,
    "start_time": "2022-02-14T13:23:42.670Z"
   },
   {
    "duration": 6953,
    "start_time": "2022-02-14T13:28:11.225Z"
   },
   {
    "duration": 6633,
    "start_time": "2022-02-14T13:28:36.056Z"
   },
   {
    "duration": 11,
    "start_time": "2022-02-14T13:34:36.143Z"
   },
   {
    "duration": 11,
    "start_time": "2022-02-14T13:38:02.917Z"
   },
   {
    "duration": 6269,
    "start_time": "2022-02-14T13:39:28.747Z"
   },
   {
    "duration": 506,
    "start_time": "2022-02-14T14:21:15.911Z"
   },
   {
    "duration": 502,
    "start_time": "2022-02-14T14:23:26.471Z"
   },
   {
    "duration": 6,
    "start_time": "2022-02-14T14:23:49.876Z"
   },
   {
    "duration": 6398,
    "start_time": "2022-02-14T14:25:09.337Z"
   },
   {
    "duration": 6999,
    "start_time": "2022-02-14T14:27:55.281Z"
   },
   {
    "duration": 111,
    "start_time": "2022-02-14T14:29:10.309Z"
   },
   {
    "duration": 6957,
    "start_time": "2022-02-14T14:29:18.748Z"
   },
   {
    "duration": 6768,
    "start_time": "2022-02-14T14:29:52.315Z"
   },
   {
    "duration": 6427,
    "start_time": "2022-02-14T14:33:15.857Z"
   },
   {
    "duration": 1359,
    "start_time": "2022-02-14T14:33:49.768Z"
   },
   {
    "duration": 6371,
    "start_time": "2022-02-14T14:34:24.166Z"
   },
   {
    "duration": 7098,
    "start_time": "2022-02-14T14:35:21.108Z"
   },
   {
    "duration": 8402,
    "start_time": "2022-02-14T14:35:59.001Z"
   },
   {
    "duration": 6675,
    "start_time": "2022-02-14T14:36:28.001Z"
   },
   {
    "duration": 6830,
    "start_time": "2022-02-14T14:37:17.381Z"
   },
   {
    "duration": 1396,
    "start_time": "2022-02-14T14:37:38.981Z"
   },
   {
    "duration": 6724,
    "start_time": "2022-02-14T14:40:09.153Z"
   },
   {
    "duration": 10290,
    "start_time": "2022-02-14T14:40:46.364Z"
   },
   {
    "duration": 117,
    "start_time": "2022-02-14T14:42:53.873Z"
   },
   {
    "duration": 135,
    "start_time": "2022-02-14T14:43:11.661Z"
   },
   {
    "duration": 7114,
    "start_time": "2022-02-14T14:44:07.939Z"
   },
   {
    "duration": 189,
    "start_time": "2022-02-14T14:44:39.121Z"
   },
   {
    "duration": 139,
    "start_time": "2022-02-14T14:46:15.024Z"
   },
   {
    "duration": 6441,
    "start_time": "2022-02-14T14:46:32.811Z"
   },
   {
    "duration": 6774,
    "start_time": "2022-02-14T14:48:09.836Z"
   },
   {
    "duration": 6610,
    "start_time": "2022-02-14T14:50:01.738Z"
   },
   {
    "duration": 7187,
    "start_time": "2022-02-14T14:50:45.223Z"
   },
   {
    "duration": 6535,
    "start_time": "2022-02-14T14:51:17.502Z"
   },
   {
    "duration": 9382,
    "start_time": "2022-02-14T14:52:38.603Z"
   },
   {
    "duration": 6673,
    "start_time": "2022-02-14T14:53:07.488Z"
   },
   {
    "duration": 7545,
    "start_time": "2022-02-14T14:53:48.071Z"
   },
   {
    "duration": 15779,
    "start_time": "2022-02-14T14:54:09.111Z"
   },
   {
    "duration": 14320,
    "start_time": "2022-02-14T14:54:44.965Z"
   },
   {
    "duration": 15206,
    "start_time": "2022-02-14T14:55:14.740Z"
   },
   {
    "duration": 6932,
    "start_time": "2022-02-14T14:55:38.466Z"
   },
   {
    "duration": 7107,
    "start_time": "2022-02-14T14:56:17.376Z"
   },
   {
    "duration": 6632,
    "start_time": "2022-02-14T15:00:12.661Z"
   },
   {
    "duration": 6574,
    "start_time": "2022-02-14T15:00:50.685Z"
   },
   {
    "duration": 6560,
    "start_time": "2022-02-14T15:02:39.400Z"
   },
   {
    "duration": 6491,
    "start_time": "2022-02-14T15:04:18.530Z"
   },
   {
    "duration": 6827,
    "start_time": "2022-02-14T15:06:02.824Z"
   },
   {
    "duration": 6469,
    "start_time": "2022-02-14T15:06:23.780Z"
   },
   {
    "duration": 6513,
    "start_time": "2022-02-14T15:12:16.192Z"
   },
   {
    "duration": 6374,
    "start_time": "2022-02-14T15:13:04.345Z"
   },
   {
    "duration": 7012,
    "start_time": "2022-02-14T15:15:00.192Z"
   },
   {
    "duration": 6281,
    "start_time": "2022-02-14T15:19:05.640Z"
   },
   {
    "duration": 6495,
    "start_time": "2022-02-14T15:20:06.096Z"
   },
   {
    "duration": 6700,
    "start_time": "2022-02-14T15:20:51.276Z"
   },
   {
    "duration": 6905,
    "start_time": "2022-02-14T15:22:09.927Z"
   },
   {
    "duration": 7278,
    "start_time": "2022-02-14T15:29:23.112Z"
   },
   {
    "duration": 114,
    "start_time": "2022-02-14T15:29:58.001Z"
   },
   {
    "duration": 6879,
    "start_time": "2022-02-14T15:30:24.848Z"
   },
   {
    "duration": 6444,
    "start_time": "2022-02-14T15:31:17.006Z"
   },
   {
    "duration": 6406,
    "start_time": "2022-02-14T15:31:35.333Z"
   },
   {
    "duration": 6438,
    "start_time": "2022-02-14T15:31:53.389Z"
   },
   {
    "duration": 6421,
    "start_time": "2022-02-14T15:35:38.861Z"
   },
   {
    "duration": 6204,
    "start_time": "2022-02-14T15:36:17.665Z"
   },
   {
    "duration": 6342,
    "start_time": "2022-02-14T15:37:02.974Z"
   },
   {
    "duration": 5,
    "start_time": "2022-02-14T15:38:03.123Z"
   },
   {
    "duration": 519,
    "start_time": "2022-02-14T15:38:03.131Z"
   },
   {
    "duration": 48,
    "start_time": "2022-02-14T15:38:03.653Z"
   },
   {
    "duration": 48,
    "start_time": "2022-02-14T15:38:03.705Z"
   },
   {
    "duration": 24,
    "start_time": "2022-02-14T15:38:03.757Z"
   },
   {
    "duration": 25,
    "start_time": "2022-02-14T15:38:03.784Z"
   },
   {
    "duration": 38,
    "start_time": "2022-02-14T15:38:03.812Z"
   },
   {
    "duration": 17,
    "start_time": "2022-02-14T15:38:03.853Z"
   },
   {
    "duration": 89,
    "start_time": "2022-02-14T15:38:03.874Z"
   },
   {
    "duration": 41,
    "start_time": "2022-02-14T15:38:03.967Z"
   },
   {
    "duration": 59,
    "start_time": "2022-02-14T15:38:04.011Z"
   },
   {
    "duration": 5,
    "start_time": "2022-02-14T15:38:04.073Z"
   },
   {
    "duration": 6770,
    "start_time": "2022-02-14T15:38:04.081Z"
   },
   {
    "duration": 1023,
    "start_time": "2022-02-14T15:38:10.854Z"
   },
   {
    "duration": 895,
    "start_time": "2022-02-14T15:38:11.880Z"
   },
   {
    "duration": 747,
    "start_time": "2022-02-14T15:38:12.778Z"
   },
   {
    "duration": 29,
    "start_time": "2022-02-14T15:38:13.528Z"
   },
   {
    "duration": 15,
    "start_time": "2022-02-14T15:38:13.560Z"
   },
   {
    "duration": 74,
    "start_time": "2022-02-14T15:38:13.578Z"
   },
   {
    "duration": 669,
    "start_time": "2022-02-14T15:38:13.654Z"
   },
   {
    "duration": 6710,
    "start_time": "2022-02-14T16:10:12.652Z"
   },
   {
    "duration": 6433,
    "start_time": "2022-02-14T16:19:18.727Z"
   },
   {
    "duration": 6870,
    "start_time": "2022-02-14T16:27:32.552Z"
   },
   {
    "duration": 306,
    "start_time": "2022-02-14T16:33:33.217Z"
   },
   {
    "duration": 19,
    "start_time": "2022-02-14T16:34:41.554Z"
   },
   {
    "duration": 15,
    "start_time": "2022-02-14T16:34:59.089Z"
   },
   {
    "duration": 101,
    "start_time": "2022-02-14T16:36:52.060Z"
   },
   {
    "duration": 13,
    "start_time": "2022-02-14T16:37:00.763Z"
   },
   {
    "duration": 63,
    "start_time": "2022-02-14T16:37:21.268Z"
   },
   {
    "duration": 65,
    "start_time": "2022-02-14T16:37:46.289Z"
   },
   {
    "duration": 119,
    "start_time": "2022-02-14T16:38:13.744Z"
   },
   {
    "duration": 98,
    "start_time": "2022-02-14T17:14:24.401Z"
   },
   {
    "duration": 96,
    "start_time": "2022-02-14T17:14:37.701Z"
   },
   {
    "duration": 20,
    "start_time": "2022-02-14T17:14:44.285Z"
   },
   {
    "duration": 43,
    "start_time": "2022-02-14T17:18:08.702Z"
   },
   {
    "duration": 1221,
    "start_time": "2022-02-23T10:55:45.258Z"
   },
   {
    "duration": 927,
    "start_time": "2022-02-23T10:55:51.635Z"
   },
   {
    "duration": 2205,
    "start_time": "2022-02-23T10:55:54.958Z"
   },
   {
    "duration": 369,
    "start_time": "2022-02-23T10:57:02.280Z"
   },
   {
    "duration": 90,
    "start_time": "2022-02-23T10:58:02.477Z"
   },
   {
    "duration": 95,
    "start_time": "2022-02-23T11:00:47.614Z"
   },
   {
    "duration": 44,
    "start_time": "2022-02-23T11:01:23.387Z"
   },
   {
    "duration": 297,
    "start_time": "2022-02-23T11:01:40.974Z"
   },
   {
    "duration": 336,
    "start_time": "2022-02-23T11:02:14.185Z"
   },
   {
    "duration": 21,
    "start_time": "2022-02-23T11:02:24.809Z"
   },
   {
    "duration": 25,
    "start_time": "2022-02-23T11:02:43.096Z"
   },
   {
    "duration": 354,
    "start_time": "2022-02-23T11:03:50.577Z"
   },
   {
    "duration": 67,
    "start_time": "2022-02-23T11:04:28.411Z"
   },
   {
    "duration": 26,
    "start_time": "2022-02-23T11:04:52.618Z"
   },
   {
    "duration": 3,
    "start_time": "2022-02-23T11:05:06.263Z"
   },
   {
    "duration": 344,
    "start_time": "2022-02-23T11:05:06.269Z"
   },
   {
    "duration": 52,
    "start_time": "2022-02-23T11:05:06.615Z"
   },
   {
    "duration": 90,
    "start_time": "2022-02-23T11:05:06.669Z"
   },
   {
    "duration": 47,
    "start_time": "2022-02-23T11:05:06.762Z"
   },
   {
    "duration": 54,
    "start_time": "2022-02-23T11:05:06.811Z"
   },
   {
    "duration": 6,
    "start_time": "2022-02-23T11:05:06.866Z"
   },
   {
    "duration": 10,
    "start_time": "2022-02-23T11:05:06.873Z"
   },
   {
    "duration": 46,
    "start_time": "2022-02-23T11:05:09.248Z"
   },
   {
    "duration": 352,
    "start_time": "2022-02-23T11:05:37.577Z"
   },
   {
    "duration": 107,
    "start_time": "2022-02-23T11:14:15.143Z"
   },
   {
    "duration": 16,
    "start_time": "2022-02-23T11:16:05.233Z"
   },
   {
    "duration": 7583,
    "start_time": "2022-02-23T11:16:18.386Z"
   },
   {
    "duration": 121,
    "start_time": "2022-02-23T11:17:46.709Z"
   },
   {
    "duration": 5,
    "start_time": "2022-02-23T11:18:18.692Z"
   },
   {
    "duration": 7353,
    "start_time": "2022-02-23T11:18:22.595Z"
   },
   {
    "duration": 11,
    "start_time": "2022-02-23T11:18:49.250Z"
   },
   {
    "duration": 10,
    "start_time": "2022-02-23T11:20:05.967Z"
   },
   {
    "duration": 306,
    "start_time": "2022-02-23T11:20:54.708Z"
   },
   {
    "duration": 3,
    "start_time": "2022-02-23T11:21:43.031Z"
   },
   {
    "duration": 354,
    "start_time": "2022-02-23T11:21:43.037Z"
   },
   {
    "duration": 69,
    "start_time": "2022-02-23T11:21:43.392Z"
   },
   {
    "duration": 93,
    "start_time": "2022-02-23T11:21:43.463Z"
   },
   {
    "duration": 46,
    "start_time": "2022-02-23T11:21:43.558Z"
   },
   {
    "duration": 60,
    "start_time": "2022-02-23T11:21:43.605Z"
   },
   {
    "duration": 6,
    "start_time": "2022-02-23T11:21:43.667Z"
   },
   {
    "duration": 20,
    "start_time": "2022-02-23T11:21:43.674Z"
   },
   {
    "duration": 57,
    "start_time": "2022-02-23T11:21:43.696Z"
   },
   {
    "duration": 26,
    "start_time": "2022-02-23T11:21:43.755Z"
   },
   {
    "duration": 23,
    "start_time": "2022-02-23T11:21:43.782Z"
   },
   {
    "duration": 4,
    "start_time": "2022-02-23T11:21:43.806Z"
   },
   {
    "duration": 30,
    "start_time": "2022-02-23T11:21:43.812Z"
   },
   {
    "duration": 218,
    "start_time": "2022-02-23T11:21:47.754Z"
   },
   {
    "duration": 3648,
    "start_time": "2022-02-23T11:29:01.700Z"
   },
   {
    "duration": 490,
    "start_time": "2022-02-23T11:31:20.479Z"
   },
   {
    "duration": 368,
    "start_time": "2022-02-23T11:31:57.551Z"
   },
   {
    "duration": 8504,
    "start_time": "2022-02-23T11:33:02.076Z"
   },
   {
    "duration": 410,
    "start_time": "2022-02-23T11:33:48.834Z"
   },
   {
    "duration": 394,
    "start_time": "2022-02-23T11:34:10.817Z"
   },
   {
    "duration": 14,
    "start_time": "2022-02-23T11:35:56.038Z"
   },
   {
    "duration": 13,
    "start_time": "2022-02-23T11:35:59.168Z"
   },
   {
    "duration": 27,
    "start_time": "2022-02-23T11:36:03.475Z"
   },
   {
    "duration": 394,
    "start_time": "2022-02-23T11:36:11.210Z"
   },
   {
    "duration": 406,
    "start_time": "2022-02-23T11:37:08.248Z"
   },
   {
    "duration": 247,
    "start_time": "2022-02-23T11:39:45.793Z"
   },
   {
    "duration": 247,
    "start_time": "2022-02-23T11:40:32.609Z"
   },
   {
    "duration": 305,
    "start_time": "2022-02-23T11:41:13.524Z"
   },
   {
    "duration": 263,
    "start_time": "2022-02-23T11:42:24.393Z"
   },
   {
    "duration": 258,
    "start_time": "2022-02-23T11:43:00.976Z"
   },
   {
    "duration": 4,
    "start_time": "2022-02-23T11:43:53.324Z"
   },
   {
    "duration": 372,
    "start_time": "2022-02-23T11:43:53.330Z"
   },
   {
    "duration": 62,
    "start_time": "2022-02-23T11:43:53.704Z"
   },
   {
    "duration": 100,
    "start_time": "2022-02-23T11:43:53.768Z"
   },
   {
    "duration": 49,
    "start_time": "2022-02-23T11:43:53.870Z"
   },
   {
    "duration": 56,
    "start_time": "2022-02-23T11:43:53.921Z"
   },
   {
    "duration": 7,
    "start_time": "2022-02-23T11:43:53.979Z"
   },
   {
    "duration": 24,
    "start_time": "2022-02-23T11:43:53.988Z"
   },
   {
    "duration": 53,
    "start_time": "2022-02-23T11:43:54.014Z"
   },
   {
    "duration": 26,
    "start_time": "2022-02-23T11:43:54.069Z"
   },
   {
    "duration": 36,
    "start_time": "2022-02-23T11:43:54.096Z"
   },
   {
    "duration": 4,
    "start_time": "2022-02-23T11:43:54.133Z"
   },
   {
    "duration": 25,
    "start_time": "2022-02-23T11:43:54.139Z"
   },
   {
    "duration": 169,
    "start_time": "2022-02-23T11:43:54.166Z"
   },
   {
    "duration": 3448,
    "start_time": "2022-02-23T11:43:54.337Z"
   },
   {
    "duration": 268,
    "start_time": "2022-02-23T11:43:57.786Z"
   },
   {
    "duration": 246,
    "start_time": "2022-02-23T11:43:58.055Z"
   },
   {
    "duration": 253,
    "start_time": "2022-02-23T11:43:58.303Z"
   },
   {
    "duration": 12,
    "start_time": "2022-02-23T11:43:58.558Z"
   },
   {
    "duration": 34,
    "start_time": "2022-02-23T11:43:58.572Z"
   },
   {
    "duration": 56,
    "start_time": "2022-02-23T11:43:58.608Z"
   },
   {
    "duration": 456,
    "start_time": "2022-02-23T11:43:58.666Z"
   }
  ],
  "kernelspec": {
   "display_name": "Python 3 (ipykernel)",
   "language": "python",
   "name": "python3"
  },
  "language_info": {
   "codemirror_mode": {
    "name": "ipython",
    "version": 3
   },
   "file_extension": ".py",
   "mimetype": "text/x-python",
   "name": "python",
   "nbconvert_exporter": "python",
   "pygments_lexer": "ipython3",
   "version": "3.9.5"
  },
  "toc": {
   "base_numbering": 1,
   "nav_menu": {},
   "number_sections": true,
   "sideBar": true,
   "skip_h1_title": true,
   "title_cell": "Table of Contents",
   "title_sidebar": "Contents",
   "toc_cell": false,
   "toc_position": {},
   "toc_section_display": true,
   "toc_window_display": true
  }
 },
 "nbformat": 4,
 "nbformat_minor": 2
}
