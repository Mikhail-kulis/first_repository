{
 "cells": [
  {
   "cell_type": "markdown",
   "metadata": {},
   "source": [
    "# Содержание\n",
    "1. [Описание проекта](#Описание-проекта)\n",
    "2. [Обзор данных](#Обзор-данных)\n",
    "3. [Предобработка данных](#Предобработка-данных)  \n",
    "    3.1 [Стиль заголовков](#Стиль-заголовков)  \n",
    "    3.2 [Пропуски значений](#Пропуски-значений)  \n",
    "    3.3 [Дубликаты](#Дубликаты)\n",
    "4. [Проверка гипотез](#Проверка-гипотез)  \n",
    "    4.1 [Сравнение поведения пользователей двух столиц](#Сравнение-поведения-пользователей-двух-столиц)  \n",
    "    4.2 [Музыка в начале и в конце недели](#Музыка-в-начале-и-в-конце-недели)  \n",
    "    4.3 [Жанровые предпочтения в Москве и Петербурге](#Жанровые-предпочтения-в-Москве-и-Петербурге)\n",
    "5. [Итоги исследования](#Итоги-исследования)"
   ]
  },
  {
   "cell_type": "markdown",
   "metadata": {
    "id": "E0vqbgi9ay0H"
   },
   "source": [
    "## Описание проекта"
   ]
  },
  {
   "cell_type": "markdown",
   "metadata": {
    "id": "VUC88oWjTJw2"
   },
   "source": [
    "\n",
    "\n",
    "Цель проекта - исследовать три гипотезы: \n",
    "1. Активность пользователей зависит от дня недели. Причём в Москве и Петербурге это проявляется по-разному.\n",
    "2. В понедельник утром в Москве преобладают одни жанры, а в Петербурге — другие. Так же и вечером пятницы преобладают разные жанры — в зависимости от города. \n",
    "3. Москва и Петербург предпочитают разные жанры музыки. В Москве чаще слушают поп-музыку, в Петербурге — русский рэп.\n",
    "\n",
    " \n",
    "Задачи:\n",
    " 1. Обзор данных.\n",
    " 2. Предобработка данных.\n",
    " 3. Проверка гипотез."
   ]
  },
  {
   "cell_type": "markdown",
   "metadata": {
    "id": "Ml1hmfXC_Zcs"
   },
   "source": [
    "## Обзор данных"
   ]
  },
  {
   "cell_type": "code",
   "execution_count": 1,
   "metadata": {
    "id": "AXN7PHPN_Zcs"
   },
   "outputs": [],
   "source": [
    "import pandas as pd            # импорт библиотеки pandas"
   ]
  },
  {
   "cell_type": "code",
   "execution_count": 8,
   "metadata": {
    "id": "fFVu7vqh_Zct"
   },
   "outputs": [],
   "source": [
    "df = pd.read_csv('...')        #  чтение файла с данными\n",
    "df.to_csv('...')               #  и сохранение в df"
   ]
  },
  {
   "cell_type": "code",
   "execution_count": 6,
   "metadata": {
    "id": "oWTVX3gW_Zct"
   },
   "outputs": [
    {
     "data": {
      "text/html": [
       "<div>\n",
       "<style scoped>\n",
       "    .dataframe tbody tr th:only-of-type {\n",
       "        vertical-align: middle;\n",
       "    }\n",
       "\n",
       "    .dataframe tbody tr th {\n",
       "        vertical-align: top;\n",
       "    }\n",
       "\n",
       "    .dataframe thead th {\n",
       "        text-align: right;\n",
       "    }\n",
       "</style>\n",
       "<table border=\"1\" class=\"dataframe\">\n",
       "  <thead>\n",
       "    <tr style=\"text-align: right;\">\n",
       "      <th></th>\n",
       "      <th>userID</th>\n",
       "      <th>Track</th>\n",
       "      <th>artist</th>\n",
       "      <th>genre</th>\n",
       "      <th>City</th>\n",
       "      <th>time</th>\n",
       "      <th>Day</th>\n",
       "    </tr>\n",
       "  </thead>\n",
       "  <tbody>\n",
       "    <tr>\n",
       "      <td>0</td>\n",
       "      <td>FFB692EC</td>\n",
       "      <td>Kamigata To Boots</td>\n",
       "      <td>The Mass Missile</td>\n",
       "      <td>rock</td>\n",
       "      <td>Saint-Petersburg</td>\n",
       "      <td>20:28:33</td>\n",
       "      <td>Wednesday</td>\n",
       "    </tr>\n",
       "    <tr>\n",
       "      <td>1</td>\n",
       "      <td>55204538</td>\n",
       "      <td>Delayed Because of Accident</td>\n",
       "      <td>Andreas Rönnberg</td>\n",
       "      <td>rock</td>\n",
       "      <td>Moscow</td>\n",
       "      <td>14:07:09</td>\n",
       "      <td>Friday</td>\n",
       "    </tr>\n",
       "    <tr>\n",
       "      <td>2</td>\n",
       "      <td>20EC38</td>\n",
       "      <td>Funiculì funiculà</td>\n",
       "      <td>Mario Lanza</td>\n",
       "      <td>pop</td>\n",
       "      <td>Saint-Petersburg</td>\n",
       "      <td>20:58:07</td>\n",
       "      <td>Wednesday</td>\n",
       "    </tr>\n",
       "    <tr>\n",
       "      <td>3</td>\n",
       "      <td>A3DD03C9</td>\n",
       "      <td>Dragons in the Sunset</td>\n",
       "      <td>Fire + Ice</td>\n",
       "      <td>folk</td>\n",
       "      <td>Saint-Petersburg</td>\n",
       "      <td>08:37:09</td>\n",
       "      <td>Monday</td>\n",
       "    </tr>\n",
       "    <tr>\n",
       "      <td>4</td>\n",
       "      <td>E2DC1FAE</td>\n",
       "      <td>Soul People</td>\n",
       "      <td>Space Echo</td>\n",
       "      <td>dance</td>\n",
       "      <td>Moscow</td>\n",
       "      <td>08:34:34</td>\n",
       "      <td>Monday</td>\n",
       "    </tr>\n",
       "    <tr>\n",
       "      <td>5</td>\n",
       "      <td>842029A1</td>\n",
       "      <td>Преданная</td>\n",
       "      <td>IMPERVTOR</td>\n",
       "      <td>rusrap</td>\n",
       "      <td>Saint-Petersburg</td>\n",
       "      <td>13:09:41</td>\n",
       "      <td>Friday</td>\n",
       "    </tr>\n",
       "    <tr>\n",
       "      <td>6</td>\n",
       "      <td>4CB90AA5</td>\n",
       "      <td>True</td>\n",
       "      <td>Roman Messer</td>\n",
       "      <td>dance</td>\n",
       "      <td>Moscow</td>\n",
       "      <td>13:00:07</td>\n",
       "      <td>Wednesday</td>\n",
       "    </tr>\n",
       "    <tr>\n",
       "      <td>7</td>\n",
       "      <td>F03E1C1F</td>\n",
       "      <td>Feeling This Way</td>\n",
       "      <td>Polina Griffith</td>\n",
       "      <td>dance</td>\n",
       "      <td>Moscow</td>\n",
       "      <td>20:47:49</td>\n",
       "      <td>Wednesday</td>\n",
       "    </tr>\n",
       "    <tr>\n",
       "      <td>8</td>\n",
       "      <td>8FA1D3BE</td>\n",
       "      <td>И вновь продолжается бой</td>\n",
       "      <td>NaN</td>\n",
       "      <td>ruspop</td>\n",
       "      <td>Moscow</td>\n",
       "      <td>09:17:40</td>\n",
       "      <td>Friday</td>\n",
       "    </tr>\n",
       "    <tr>\n",
       "      <td>9</td>\n",
       "      <td>E772D5C0</td>\n",
       "      <td>Pessimist</td>\n",
       "      <td>NaN</td>\n",
       "      <td>dance</td>\n",
       "      <td>Saint-Petersburg</td>\n",
       "      <td>21:20:49</td>\n",
       "      <td>Wednesday</td>\n",
       "    </tr>\n",
       "  </tbody>\n",
       "</table>\n",
       "</div>"
      ],
      "text/plain": [
       "     userID                        Track            artist   genre  \\\n",
       "0  FFB692EC            Kamigata To Boots  The Mass Missile    rock   \n",
       "1  55204538  Delayed Because of Accident  Andreas Rönnberg    rock   \n",
       "2    20EC38            Funiculì funiculà       Mario Lanza     pop   \n",
       "3  A3DD03C9        Dragons in the Sunset        Fire + Ice    folk   \n",
       "4  E2DC1FAE                  Soul People        Space Echo   dance   \n",
       "5  842029A1                    Преданная         IMPERVTOR  rusrap   \n",
       "6  4CB90AA5                         True      Roman Messer   dance   \n",
       "7  F03E1C1F             Feeling This Way   Polina Griffith   dance   \n",
       "8  8FA1D3BE     И вновь продолжается бой               NaN  ruspop   \n",
       "9  E772D5C0                    Pessimist               NaN   dance   \n",
       "\n",
       "             City        time        Day  \n",
       "0  Saint-Petersburg  20:28:33  Wednesday  \n",
       "1            Moscow  14:07:09     Friday  \n",
       "2  Saint-Petersburg  20:58:07  Wednesday  \n",
       "3  Saint-Petersburg  08:37:09     Monday  \n",
       "4            Moscow  08:34:34     Monday  \n",
       "5  Saint-Petersburg  13:09:41     Friday  \n",
       "6            Moscow  13:00:07  Wednesday  \n",
       "7            Moscow  20:47:49  Wednesday  \n",
       "8            Moscow  09:17:40     Friday  \n",
       "9  Saint-Petersburg  21:20:49  Wednesday  "
      ]
     },
     "execution_count": 6,
     "metadata": {},
     "output_type": "execute_result"
    }
   ],
   "source": [
    "df.head(10)                    # получение первых 10 строк таблицы df"
   ]
  },
  {
   "cell_type": "code",
   "execution_count": 4,
   "metadata": {
    "id": "DSf2kIb-_Zct"
   },
   "outputs": [
    {
     "name": "stdout",
     "output_type": "stream",
     "text": [
      "<class 'pandas.core.frame.DataFrame'>\n",
      "RangeIndex: 65079 entries, 0 to 65078\n",
      "Data columns (total 7 columns):\n",
      "  userID    65079 non-null object\n",
      "Track       63848 non-null object\n",
      "artist      57876 non-null object\n",
      "genre       63881 non-null object\n",
      "  City      65079 non-null object\n",
      "time        65079 non-null object\n",
      "Day         65079 non-null object\n",
      "dtypes: object(7)\n",
      "memory usage: 3.5+ MB\n"
     ]
    }
   ],
   "source": [
    "df.info()                       # получение общей информации о данных в таблице df"
   ]
  },
  {
   "cell_type": "markdown",
   "metadata": {
    "id": "MCB6-dXG_Zct"
   },
   "source": [
    "**Выводы**\n",
    "\n",
    "В каждой строке таблицы — данные о прослушанном треке. Часть колонок описывает саму композицию: название, исполнителя и жанр. Остальные данные рассказывают о пользователе: из какого он города, когда он слушал музыку. \n",
    "\n",
    "Предварительно можно утверждать, что, данных достаточно для проверки гипотез. Но встречаются пропуски в данных, а в названиях колонок — расхождения с хорошим стилем."
   ]
  },
  {
   "cell_type": "markdown",
   "metadata": {
    "id": "SjYF6Ub9_Zct"
   },
   "source": [
    "## Предобработка данных"
   ]
  },
  {
   "cell_type": "markdown",
   "metadata": {
    "id": "dIaKXr29_Zct"
   },
   "source": [
    "### Стиль заголовков"
   ]
  },
  {
   "cell_type": "code",
   "execution_count": 5,
   "metadata": {
    "id": "oKOTdF_Q_Zct"
   },
   "outputs": [
    {
     "data": {
      "text/plain": [
       "Index(['  userID', 'Track', 'artist', 'genre', '  City  ', 'time', 'Day'], dtype='object')"
      ]
     },
     "execution_count": 5,
     "metadata": {},
     "output_type": "execute_result"
    }
   ],
   "source": [
    "df.columns # перечень названий столбцов таблицы df"
   ]
  },
  {
   "cell_type": "code",
   "execution_count": 6,
   "metadata": {
    "id": "ISlFqs5y_Zct"
   },
   "outputs": [],
   "source": [
    "df = df.rename(columns={'  userID':'user_id','Track':'track','  City  ':'city','Day':'day'}) # переименование столбцов"
   ]
  },
  {
   "cell_type": "code",
   "execution_count": 7,
   "metadata": {
    "id": "d4NOAmTW_Zct"
   },
   "outputs": [
    {
     "data": {
      "text/plain": [
       "Index(['user_id', 'track', 'artist', 'genre', 'city', 'time', 'day'], dtype='object')"
      ]
     },
     "execution_count": 7,
     "metadata": {},
     "output_type": "execute_result"
    }
   ],
   "source": [
    "df.columns # проверка результатов - перечень названий столбцов"
   ]
  },
  {
   "cell_type": "markdown",
   "metadata": {
    "id": "5ISfbcfY_Zct"
   },
   "source": [
    "### Пропуски значений"
   ]
  },
  {
   "cell_type": "code",
   "execution_count": 8,
   "metadata": {
    "id": "RskX29qr_Zct"
   },
   "outputs": [
    {
     "data": {
      "text/plain": [
       "user_id       0\n",
       "track      1231\n",
       "artist     7203\n",
       "genre      1198\n",
       "city          0\n",
       "time          0\n",
       "day           0\n",
       "dtype: int64"
      ]
     },
     "execution_count": 8,
     "metadata": {},
     "output_type": "execute_result"
    }
   ],
   "source": [
    "df.isna().sum()# подсчёт пропусков"
   ]
  },
  {
   "cell_type": "code",
   "execution_count": 9,
   "metadata": {
    "id": "KplB5qWs_Zct"
   },
   "outputs": [],
   "source": [
    "columns_to_replace = ['track', 'artist', 'genre']\n",
    "for column in columns_to_replace:\n",
    "    df[column] = df[column].fillna('unknown') # перебор названий столбцов в цикле и замена пропущенных значений на 'unknown'"
   ]
  },
  {
   "cell_type": "code",
   "execution_count": 10,
   "metadata": {
    "id": "Tq4nYRX4_Zct"
   },
   "outputs": [
    {
     "data": {
      "text/plain": [
       "user_id    0\n",
       "track      0\n",
       "artist     0\n",
       "genre      0\n",
       "city       0\n",
       "time       0\n",
       "day        0\n",
       "dtype: int64"
      ]
     },
     "execution_count": 10,
     "metadata": {},
     "output_type": "execute_result"
    }
   ],
   "source": [
    "df.isna().sum() # подсчёт пропусков"
   ]
  },
  {
   "cell_type": "markdown",
   "metadata": {
    "id": "BWKRtBJ3_Zct"
   },
   "source": [
    "### Дубликаты"
   ]
  },
  {
   "cell_type": "code",
   "execution_count": 11,
   "metadata": {
    "id": "36eES_S0_Zct"
   },
   "outputs": [
    {
     "data": {
      "text/plain": [
       "3826"
      ]
     },
     "execution_count": 11,
     "metadata": {},
     "output_type": "execute_result"
    }
   ],
   "source": [
    "df.duplicated().sum() # подсчёт явных дубликатов"
   ]
  },
  {
   "cell_type": "code",
   "execution_count": 12,
   "metadata": {
    "id": "exFHq6tt_Zct"
   },
   "outputs": [],
   "source": [
    "df = df.drop_duplicates().reset_index(drop=True) # удаление явных дубликатов (с удалением старых индексов и формированием новых)"
   ]
  },
  {
   "cell_type": "code",
   "execution_count": 13,
   "metadata": {
    "id": "-8PuNWQ0_Zct"
   },
   "outputs": [
    {
     "data": {
      "text/plain": [
       "0"
      ]
     },
     "execution_count": 13,
     "metadata": {},
     "output_type": "execute_result"
    }
   ],
   "source": [
    "df.duplicated().sum() # проверка на отсутствие дубликатов"
   ]
  },
  {
   "cell_type": "code",
   "execution_count": 14,
   "metadata": {
    "id": "JIUcqzZN_Zct"
   },
   "outputs": [
    {
     "data": {
      "text/plain": [
       "array(['acid', 'acoustic', 'action', 'adult', 'africa', 'afrikaans',\n",
       "       'alternative', 'alternativepunk', 'ambient', 'americana',\n",
       "       'animated', 'anime', 'arabesk', 'arabic', 'arena',\n",
       "       'argentinetango', 'art', 'audiobook', 'author', 'avantgarde',\n",
       "       'axé', 'baile', 'balkan', 'beats', 'bigroom', 'black', 'bluegrass',\n",
       "       'blues', 'bollywood', 'bossa', 'brazilian', 'breakbeat', 'breaks',\n",
       "       'broadway', 'cantautori', 'cantopop', 'canzone', 'caribbean',\n",
       "       'caucasian', 'celtic', 'chamber', 'chanson', 'children', 'chill',\n",
       "       'chinese', 'choral', 'christian', 'christmas', 'classical',\n",
       "       'classicmetal', 'club', 'colombian', 'comedy', 'conjazz',\n",
       "       'contemporary', 'country', 'cuban', 'dance', 'dancehall',\n",
       "       'dancepop', 'dark', 'death', 'deep', 'deutschrock', 'deutschspr',\n",
       "       'dirty', 'disco', 'dnb', 'documentary', 'downbeat', 'downtempo',\n",
       "       'drum', 'dub', 'dubstep', 'eastern', 'easy', 'electronic',\n",
       "       'electropop', 'emo', 'entehno', 'epicmetal', 'estrada', 'ethnic',\n",
       "       'eurofolk', 'european', 'experimental', 'extrememetal', 'fado',\n",
       "       'fairytail', 'film', 'fitness', 'flamenco', 'folk', 'folklore',\n",
       "       'folkmetal', 'folkrock', 'folktronica', 'forró', 'frankreich',\n",
       "       'französisch', 'french', 'funk', 'future', 'gangsta', 'garage',\n",
       "       'german', 'ghazal', 'gitarre', 'glitch', 'gospel', 'gothic',\n",
       "       'grime', 'grunge', 'gypsy', 'handsup', \"hard'n'heavy\", 'hardcore',\n",
       "       'hardstyle', 'hardtechno', 'hip', 'hip-hop', 'hiphop',\n",
       "       'historisch', 'holiday', 'hop', 'horror', 'house', 'hymn', 'idm',\n",
       "       'independent', 'indian', 'indie', 'indipop', 'industrial',\n",
       "       'inspirational', 'instrumental', 'international', 'irish', 'jam',\n",
       "       'japanese', 'jazz', 'jewish', 'jpop', 'jungle', 'k-pop',\n",
       "       'karadeniz', 'karaoke', 'kayokyoku', 'korean', 'laiko', 'latin',\n",
       "       'latino', 'leftfield', 'local', 'lounge', 'loungeelectronic',\n",
       "       'lovers', 'malaysian', 'mandopop', 'marschmusik', 'meditative',\n",
       "       'mediterranean', 'melodic', 'metal', 'metalcore', 'mexican',\n",
       "       'middle', 'minimal', 'miscellaneous', 'modern', 'mood', 'mpb',\n",
       "       'muslim', 'native', 'neoklassik', 'neue', 'new', 'newage',\n",
       "       'newwave', 'nu', 'nujazz', 'numetal', 'oceania', 'old', 'opera',\n",
       "       'orchestral', 'other', 'piano', 'podcasts', 'pop', 'popdance',\n",
       "       'popelectronic', 'popeurodance', 'poprussian', 'post',\n",
       "       'posthardcore', 'postrock', 'power', 'progmetal', 'progressive',\n",
       "       'psychedelic', 'punjabi', 'punk', 'quebecois', 'ragga', 'ram',\n",
       "       'rancheras', 'rap', 'rave', 'reggae', 'reggaeton', 'regional',\n",
       "       'relax', 'religious', 'retro', 'rhythm', 'rnb', 'rnr', 'rock',\n",
       "       'rockabilly', 'rockalternative', 'rockindie', 'rockother',\n",
       "       'romance', 'roots', 'ruspop', 'rusrap', 'rusrock', 'russian',\n",
       "       'salsa', 'samba', 'scenic', 'schlager', 'self', 'sertanejo',\n",
       "       'shanson', 'shoegazing', 'showtunes', 'singer', 'ska', 'skarock',\n",
       "       'slow', 'smooth', 'soft', 'soul', 'soulful', 'sound', 'soundtrack',\n",
       "       'southern', 'specialty', 'speech', 'spiritual', 'sport',\n",
       "       'stonerrock', 'surf', 'swing', 'synthpop', 'synthrock',\n",
       "       'sängerportrait', 'tango', 'tanzorchester', 'taraftar', 'tatar',\n",
       "       'tech', 'techno', 'teen', 'thrash', 'top', 'traditional',\n",
       "       'tradjazz', 'trance', 'tribal', 'trip', 'triphop', 'tropical',\n",
       "       'türk', 'türkçe', 'ukrrock', 'unknown', 'urban', 'uzbek',\n",
       "       'variété', 'vi', 'videogame', 'vocal', 'western', 'world',\n",
       "       'worldbeat', 'ïîï', 'электроника'], dtype=object)"
      ]
     },
     "execution_count": 14,
     "metadata": {},
     "output_type": "execute_result"
    }
   ],
   "source": [
    "df['genre'].sort_values().unique() # Просмотр уникальных названий жанров"
   ]
  },
  {
   "cell_type": "code",
   "execution_count": 15,
   "metadata": {
    "id": "ErNDkmns_Zct"
   },
   "outputs": [],
   "source": [
    "def replace_wrong_genres(wrong_genres,correct_genre): # Функция для замены неявных дубликатов\n",
    "    for wrong_genre in wrong_genres:\n",
    "        df['genre'] = df['genre'].replace(wrong_genres, correct_genre) \n",
    "    "
   ]
  },
  {
   "cell_type": "code",
   "execution_count": 16,
   "metadata": {
    "id": "YN5i2hpmSo09"
   },
   "outputs": [],
   "source": [
    "replace_wrong_genres(['hip', 'hop', 'hip-hop'],'hiphop') # Устранение неявных дубликатов"
   ]
  },
  {
   "cell_type": "code",
   "execution_count": 17,
   "metadata": {
    "id": "wvixALnFG15m"
   },
   "outputs": [
    {
     "data": {
      "text/plain": [
       "array(['acid', 'acoustic', 'action', 'adult', 'africa', 'afrikaans',\n",
       "       'alternative', 'alternativepunk', 'ambient', 'americana',\n",
       "       'animated', 'anime', 'arabesk', 'arabic', 'arena',\n",
       "       'argentinetango', 'art', 'audiobook', 'author', 'avantgarde',\n",
       "       'axé', 'baile', 'balkan', 'beats', 'bigroom', 'black', 'bluegrass',\n",
       "       'blues', 'bollywood', 'bossa', 'brazilian', 'breakbeat', 'breaks',\n",
       "       'broadway', 'cantautori', 'cantopop', 'canzone', 'caribbean',\n",
       "       'caucasian', 'celtic', 'chamber', 'chanson', 'children', 'chill',\n",
       "       'chinese', 'choral', 'christian', 'christmas', 'classical',\n",
       "       'classicmetal', 'club', 'colombian', 'comedy', 'conjazz',\n",
       "       'contemporary', 'country', 'cuban', 'dance', 'dancehall',\n",
       "       'dancepop', 'dark', 'death', 'deep', 'deutschrock', 'deutschspr',\n",
       "       'dirty', 'disco', 'dnb', 'documentary', 'downbeat', 'downtempo',\n",
       "       'drum', 'dub', 'dubstep', 'eastern', 'easy', 'electronic',\n",
       "       'electropop', 'emo', 'entehno', 'epicmetal', 'estrada', 'ethnic',\n",
       "       'eurofolk', 'european', 'experimental', 'extrememetal', 'fado',\n",
       "       'fairytail', 'film', 'fitness', 'flamenco', 'folk', 'folklore',\n",
       "       'folkmetal', 'folkrock', 'folktronica', 'forró', 'frankreich',\n",
       "       'französisch', 'french', 'funk', 'future', 'gangsta', 'garage',\n",
       "       'german', 'ghazal', 'gitarre', 'glitch', 'gospel', 'gothic',\n",
       "       'grime', 'grunge', 'gypsy', 'handsup', \"hard'n'heavy\", 'hardcore',\n",
       "       'hardstyle', 'hardtechno', 'hiphop', 'historisch', 'holiday',\n",
       "       'horror', 'house', 'hymn', 'idm', 'independent', 'indian', 'indie',\n",
       "       'indipop', 'industrial', 'inspirational', 'instrumental',\n",
       "       'international', 'irish', 'jam', 'japanese', 'jazz', 'jewish',\n",
       "       'jpop', 'jungle', 'k-pop', 'karadeniz', 'karaoke', 'kayokyoku',\n",
       "       'korean', 'laiko', 'latin', 'latino', 'leftfield', 'local',\n",
       "       'lounge', 'loungeelectronic', 'lovers', 'malaysian', 'mandopop',\n",
       "       'marschmusik', 'meditative', 'mediterranean', 'melodic', 'metal',\n",
       "       'metalcore', 'mexican', 'middle', 'minimal', 'miscellaneous',\n",
       "       'modern', 'mood', 'mpb', 'muslim', 'native', 'neoklassik', 'neue',\n",
       "       'new', 'newage', 'newwave', 'nu', 'nujazz', 'numetal', 'oceania',\n",
       "       'old', 'opera', 'orchestral', 'other', 'piano', 'podcasts', 'pop',\n",
       "       'popdance', 'popelectronic', 'popeurodance', 'poprussian', 'post',\n",
       "       'posthardcore', 'postrock', 'power', 'progmetal', 'progressive',\n",
       "       'psychedelic', 'punjabi', 'punk', 'quebecois', 'ragga', 'ram',\n",
       "       'rancheras', 'rap', 'rave', 'reggae', 'reggaeton', 'regional',\n",
       "       'relax', 'religious', 'retro', 'rhythm', 'rnb', 'rnr', 'rock',\n",
       "       'rockabilly', 'rockalternative', 'rockindie', 'rockother',\n",
       "       'romance', 'roots', 'ruspop', 'rusrap', 'rusrock', 'russian',\n",
       "       'salsa', 'samba', 'scenic', 'schlager', 'self', 'sertanejo',\n",
       "       'shanson', 'shoegazing', 'showtunes', 'singer', 'ska', 'skarock',\n",
       "       'slow', 'smooth', 'soft', 'soul', 'soulful', 'sound', 'soundtrack',\n",
       "       'southern', 'specialty', 'speech', 'spiritual', 'sport',\n",
       "       'stonerrock', 'surf', 'swing', 'synthpop', 'synthrock',\n",
       "       'sängerportrait', 'tango', 'tanzorchester', 'taraftar', 'tatar',\n",
       "       'tech', 'techno', 'teen', 'thrash', 'top', 'traditional',\n",
       "       'tradjazz', 'trance', 'tribal', 'trip', 'triphop', 'tropical',\n",
       "       'türk', 'türkçe', 'ukrrock', 'unknown', 'urban', 'uzbek',\n",
       "       'variété', 'vi', 'videogame', 'vocal', 'western', 'world',\n",
       "       'worldbeat', 'ïîï', 'электроника'], dtype=object)"
      ]
     },
     "execution_count": 17,
     "metadata": {},
     "output_type": "execute_result"
    }
   ],
   "source": [
    "genre_column = df['genre']\n",
    "genre_column = genre_column.sort_values() # Проверка на неявные дубликаты\n",
    "genre_column.unique() "
   ]
  },
  {
   "cell_type": "markdown",
   "metadata": {
    "id": "jz6a9-7HQUDd"
   },
   "source": [
    "**Выводы**\n",
    "\n",
    "Предобработка обнаружила три проблемы в данных:\n",
    "\n",
    "- нарушения в стиле заголовков,\n",
    "- пропущенные значения,\n",
    "- дубликаты — явные и неявные."
   ]
  },
  {
   "cell_type": "markdown",
   "metadata": {
    "id": "WttZHXH0SqKk"
   },
   "source": [
    "## Проверка гипотез"
   ]
  },
  {
   "cell_type": "markdown",
   "metadata": {
    "id": "Im936VVi_Zcu"
   },
   "source": [
    "### Сравнение поведения пользователей двух столиц"
   ]
  },
  {
   "cell_type": "markdown",
   "metadata": {
    "id": "nwt_MuaL_Zcu"
   },
   "source": [
    "Первая гипотеза утверждает, что пользователи по-разному слушают музыку в Москве и Санкт-Петербурге. Выполним проверку этого предположения по данным о трёх днях недели — понедельнике, среде и пятнице. "
   ]
  },
  {
   "cell_type": "code",
   "execution_count": 18,
   "metadata": {
    "id": "0_Qs96oh_Zcu"
   },
   "outputs": [
    {
     "data": {
      "text/plain": [
       "city\n",
       "Moscow              42741\n",
       "Saint-Petersburg    18512\n",
       "Name: city, dtype: int64"
      ]
     },
     "execution_count": 18,
     "metadata": {},
     "output_type": "execute_result"
    }
   ],
   "source": [
    "df.groupby('city')['city'].count() # Подсчёт прослушиваний в каждом городе"
   ]
  },
  {
   "cell_type": "markdown",
   "metadata": {
    "id": "dzli3w8o_Zcu"
   },
   "source": [
    "В Москве прослушиваний больше, чем в Петербурге. Из этого не следует, что московские пользователи чаще слушают музыку. Просто самих пользователей в Москве больше."
   ]
  },
  {
   "cell_type": "code",
   "execution_count": 19,
   "metadata": {
    "id": "uZMKjiJz_Zcu"
   },
   "outputs": [
    {
     "data": {
      "text/plain": [
       "day\n",
       "Friday       21840\n",
       "Monday       21354\n",
       "Wednesday    18059\n",
       "Name: day, dtype: int64"
      ]
     },
     "execution_count": 19,
     "metadata": {},
     "output_type": "execute_result"
    }
   ],
   "source": [
    "df.groupby('day')['day'].count() # Подсчёт прослушиваний в каждый из трёх дней"
   ]
  },
  {
   "cell_type": "markdown",
   "metadata": {
    "id": "cC2tNrlL_Zcu"
   },
   "source": [
    "В среднем пользователи из двух городов менее активны по средам. Но картина может измениться, если рассмотреть каждый город в отдельности."
   ]
  },
  {
   "cell_type": "code",
   "execution_count": 20,
   "metadata": {
    "id": "Nz3GdQB1_Zcu"
   },
   "outputs": [],
   "source": [
    "# <создание функции number_tracks()>\n",
    "def number_tracks(day, city): # Объявляется функция с двумя параметрами: day, city.\n",
    "    track_list = df[df['day'] == day]                   # В переменной track_list сохраняются те строки таблицы df, для которых\n",
    "    track_list = track_list[track_list['city'] == city] # значение в столбце 'day' равно параметру day и одновременно значение\n",
    "                                                        # в столбце 'city' равно параметру city (используйте последовательную фильтрацию\n",
    "                                                        # с помощью логической индексации).\n",
    "\n",
    "    track_list_count = track_list['user_id'].count() # В переменной track_list_count сохраняется число значений столбца 'user_id',\n",
    "                                                     # рассчитанное методом count() для таблицы track_list.\n",
    "        \n",
    "    return track_list_count # Функция возвращает число - значение track_list_count.\n",
    "\n",
    "# Функция для подсчёта прослушиваний для конкретного города и дня.\n",
    "# С помощью последовательной фильтрации с логической индексацией она \n",
    "# сначала получит из исходной таблицы строки с нужным днём,\n",
    "# затем из результата отфильтрует строки с нужным городом,\n",
    "# методом count() посчитает количество значений в колонке user_id. \n",
    "# Это количество функция вернёт в качестве результата"
   ]
  },
  {
   "cell_type": "code",
   "execution_count": 21,
   "metadata": {
    "id": "rJcRATNQ_Zcu"
   },
   "outputs": [
    {
     "data": {
      "text/plain": [
       "15740"
      ]
     },
     "execution_count": 21,
     "metadata": {},
     "output_type": "execute_result"
    }
   ],
   "source": [
    "number_tracks('Monday','Moscow') # количество прослушиваний в Москве по понедельникам"
   ]
  },
  {
   "cell_type": "code",
   "execution_count": 22,
   "metadata": {
    "id": "hq_ncZ5T_Zcu"
   },
   "outputs": [
    {
     "data": {
      "text/plain": [
       "5614"
      ]
     },
     "execution_count": 22,
     "metadata": {},
     "output_type": "execute_result"
    }
   ],
   "source": [
    "number_tracks('Monday','Saint-Petersburg') # количество прослушиваний в Санкт-Петербурге по понедельникам"
   ]
  },
  {
   "cell_type": "code",
   "execution_count": 23,
   "metadata": {
    "id": "_NTy2VPU_Zcu"
   },
   "outputs": [
    {
     "data": {
      "text/plain": [
       "11056"
      ]
     },
     "execution_count": 23,
     "metadata": {},
     "output_type": "execute_result"
    }
   ],
   "source": [
    "number_tracks('Wednesday','Moscow') # количество прослушиваний в Москве по средам"
   ]
  },
  {
   "cell_type": "code",
   "execution_count": 24,
   "metadata": {
    "id": "j2y3TAwo_Zcu"
   },
   "outputs": [
    {
     "data": {
      "text/plain": [
       "7003"
      ]
     },
     "execution_count": 24,
     "metadata": {},
     "output_type": "execute_result"
    }
   ],
   "source": [
    "number_tracks('Wednesday','Saint-Petersburg') # количество прослушиваний в Санкт-Петербурге по средам"
   ]
  },
  {
   "cell_type": "code",
   "execution_count": 25,
   "metadata": {
    "id": "vYDw5u_K_Zcu"
   },
   "outputs": [
    {
     "data": {
      "text/plain": [
       "15945"
      ]
     },
     "execution_count": 25,
     "metadata": {},
     "output_type": "execute_result"
    }
   ],
   "source": [
    "number_tracks('Friday','Moscow') # количество прослушиваний в Москве по пятницам"
   ]
  },
  {
   "cell_type": "code",
   "execution_count": 26,
   "metadata": {
    "id": "8_yzFtW3_Zcu"
   },
   "outputs": [
    {
     "data": {
      "text/plain": [
       "5895"
      ]
     },
     "execution_count": 26,
     "metadata": {},
     "output_type": "execute_result"
    }
   ],
   "source": [
    "number_tracks('Friday','Saint-Petersburg')# количество прослушиваний в Санкт-Петербурге по пятницам"
   ]
  },
  {
   "cell_type": "code",
   "execution_count": 27,
   "metadata": {
    "id": "APAcLpOr_Zcu"
   },
   "outputs": [
    {
     "data": {
      "text/html": [
       "<div>\n",
       "<style scoped>\n",
       "    .dataframe tbody tr th:only-of-type {\n",
       "        vertical-align: middle;\n",
       "    }\n",
       "\n",
       "    .dataframe tbody tr th {\n",
       "        vertical-align: top;\n",
       "    }\n",
       "\n",
       "    .dataframe thead th {\n",
       "        text-align: right;\n",
       "    }\n",
       "</style>\n",
       "<table border=\"1\" class=\"dataframe\">\n",
       "  <thead>\n",
       "    <tr style=\"text-align: right;\">\n",
       "      <th></th>\n",
       "      <th>city</th>\n",
       "      <th>monday</th>\n",
       "      <th>wednesday</th>\n",
       "      <th>friday</th>\n",
       "    </tr>\n",
       "  </thead>\n",
       "  <tbody>\n",
       "    <tr>\n",
       "      <td>0</td>\n",
       "      <td>Moscow</td>\n",
       "      <td>15740</td>\n",
       "      <td>11056</td>\n",
       "      <td>15945</td>\n",
       "    </tr>\n",
       "    <tr>\n",
       "      <td>1</td>\n",
       "      <td>Saint-Petersburg</td>\n",
       "      <td>5614</td>\n",
       "      <td>7003</td>\n",
       "      <td>5895</td>\n",
       "    </tr>\n",
       "  </tbody>\n",
       "</table>\n",
       "</div>"
      ],
      "text/plain": [
       "               city  monday  wednesday  friday\n",
       "0            Moscow   15740      11056   15945\n",
       "1  Saint-Petersburg    5614       7003    5895"
      ]
     },
     "execution_count": 27,
     "metadata": {},
     "output_type": "execute_result"
    }
   ],
   "source": [
    "data = [['Moscow', number_tracks('Monday','Moscow'), number_tracks('Wednesday','Moscow'), number_tracks('Friday','Moscow')],\n",
    "       ['Saint-Petersburg', number_tracks('Monday','Saint-Petersburg'), number_tracks('Wednesday','Saint-Petersburg'), number_tracks('Friday','Saint-Petersburg')]]\n",
    "columns = ['city', 'monday', 'wednesday', 'friday']\n",
    "pd.DataFrame(data = data, columns = columns) # Таблица с результатами"
   ]
  },
  {
   "cell_type": "markdown",
   "metadata": {
    "id": "-EgPIHYu_Zcu"
   },
   "source": [
    "**Выводы**\n",
    "\n",
    "Данные показывают разницу поведения пользователей:\n",
    "\n",
    "- В Москве пик прослушиваний приходится на понедельник и пятницу, а в среду заметен спад.\n",
    "- В Петербурге, наоборот, больше слушают музыку по средам. Активность в понедельник и пятницу здесь почти в равной мере уступает среде.\n",
    "\n",
    "Значит, данные говорят в пользу первой гипотезы."
   ]
  },
  {
   "cell_type": "markdown",
   "metadata": {
    "id": "atZAxtq4_Zcu"
   },
   "source": [
    "### Музыка в начале и в конце недели"
   ]
  },
  {
   "cell_type": "markdown",
   "metadata": {
    "id": "eXrQqXFH_Zcu"
   },
   "source": [
    "Согласно второй гипотезе, утром в понедельник в Москве преобладают одни жанры, а в Петербурге — другие. Так же и вечером пятницы преобладают разные жанры — в зависимости от города."
   ]
  },
  {
   "cell_type": "code",
   "execution_count": 28,
   "metadata": {
    "id": "qeaFfM_P_Zcu"
   },
   "outputs": [],
   "source": [
    "moscow_general = df[df['city'] == 'Moscow'] # получение таблицы moscow_general из тех строк таблицы df, \n",
    "                                            # для которых значение в столбце 'city' равно 'Moscow'\n"
   ]
  },
  {
   "cell_type": "code",
   "execution_count": 29,
   "metadata": {
    "id": "ORaVRKto_Zcu"
   },
   "outputs": [],
   "source": [
    "spb_general = df[df['city'] == 'Saint-Petersburg'] # получение таблицы spb_general из тех строк таблицы df,\n",
    "                                                   # для которых значение в столбце 'city' равно 'Saint-Petersburg'\n"
   ]
  },
  {
   "cell_type": "code",
   "execution_count": 30,
   "metadata": {
    "id": "laJT9BYl_Zcu"
   },
   "outputs": [],
   "source": [
    "                                             # Объявление функции genre_weekday() с параметрами table, day, time1, time2,\n",
    "def genre_weekday(table, day, time1, time2): # которая возвращает информацию о самых популярных жанрах в указанный день в\n",
    "                                             # заданное время:\n",
    "            \n",
    "    genre_df = table[table['day'] == day]         # 1) в переменную genre_df сохраняются те строки переданного датафрейма table, для\n",
    "    genre_df = genre_df[genre_df['time'] > time1] #    которых одновременно:\n",
    "    genre_df = genre_df[genre_df['time'] < time2] #    - значение в столбце day равно значению аргумента day\n",
    "                                              #    - значение в столбце time больше значения аргумента time1\n",
    "                                              #    - значение в столбце time меньше значения аргумента time2\n",
    "                                              #    Используйте последовательную фильтрацию с помощью логической индексации.\n",
    "\n",
    "    genre_df_count = genre_df.groupby('genre')['genre'].count() # 2) сгруппировать датафрейм genre_df по столбцу genre, взять один из его\n",
    "                                                                #    столбцов и посчитать методом count() количество записей для каждого из\n",
    "                                                                #    присутствующих жанров, получившийся Series записать в переменную\n",
    "                                                                #    genre_df_count\n",
    "\n",
    "    genre_df_sorted = genre_df_count.sort_values(ascending = False) # 3) отсортировать genre_df_count по убыванию встречаемости и сохранить\n",
    "                                                                    #    в переменную genre_df_sorted\n",
    "        \n",
    "    return genre_df_sorted.head(10) # 4) вернуть Series из 10 первых значений genre_df_sorted, это будут топ-10\n",
    "                                    #    популярных жанров (в указанный день, в заданное время)"
   ]
  },
  {
   "cell_type": "code",
   "execution_count": 31,
   "metadata": {
    "id": "yz7itPUQ_Zcu"
   },
   "outputs": [
    {
     "data": {
      "text/plain": [
       "genre\n",
       "pop            781\n",
       "dance          549\n",
       "electronic     480\n",
       "rock           474\n",
       "hiphop         286\n",
       "ruspop         186\n",
       "world          181\n",
       "rusrap         175\n",
       "alternative    164\n",
       "unknown        161\n",
       "Name: genre, dtype: int64"
      ]
     },
     "execution_count": 31,
     "metadata": {},
     "output_type": "execute_result"
    }
   ],
   "source": [
    "genre_weekday(moscow_general, 'Monday', '07:00', '11:00') # вызов функции для утра понедельника в Москве (вместо df — таблица moscow_general)\n",
    "                                                          # объекты, хранящие время, являются строками и сравниваются как строки\n",
    "                                                          # пример вызова: genre_weekday(moscow_general, 'Monday', '07:00', '11:00')"
   ]
  },
  {
   "cell_type": "code",
   "execution_count": 32,
   "metadata": {
    "id": "kwUcHPdy_Zcu"
   },
   "outputs": [
    {
     "data": {
      "text/plain": [
       "genre\n",
       "pop            218\n",
       "dance          182\n",
       "rock           162\n",
       "electronic     147\n",
       "hiphop          80\n",
       "ruspop          64\n",
       "alternative     58\n",
       "rusrap          55\n",
       "jazz            44\n",
       "classical       40\n",
       "Name: genre, dtype: int64"
      ]
     },
     "execution_count": 32,
     "metadata": {},
     "output_type": "execute_result"
    }
   ],
   "source": [
    "genre_weekday(spb_general, 'Monday', '07:00', '11:00') # вызов функции для утра понедельника в Петербурге (вместо df — таблица spb_general)"
   ]
  },
  {
   "cell_type": "code",
   "execution_count": 33,
   "metadata": {
    "id": "EzXVRE1o_Zcu"
   },
   "outputs": [
    {
     "data": {
      "text/plain": [
       "genre\n",
       "pop            713\n",
       "rock           517\n",
       "dance          495\n",
       "electronic     482\n",
       "hiphop         273\n",
       "world          208\n",
       "ruspop         170\n",
       "alternative    163\n",
       "classical      163\n",
       "rusrap         142\n",
       "Name: genre, dtype: int64"
      ]
     },
     "execution_count": 33,
     "metadata": {},
     "output_type": "execute_result"
    }
   ],
   "source": [
    "genre_weekday(moscow_general, 'Friday', '17:00', '23:00') # вызов функции для вечера пятницы в Москве"
   ]
  },
  {
   "cell_type": "code",
   "execution_count": 34,
   "metadata": {
    "id": "JZaEKu5v_Zcu"
   },
   "outputs": [
    {
     "data": {
      "text/plain": [
       "genre\n",
       "pop            256\n",
       "rock           216\n",
       "electronic     216\n",
       "dance          210\n",
       "hiphop          97\n",
       "alternative     63\n",
       "jazz            61\n",
       "classical       60\n",
       "rusrap          59\n",
       "world           54\n",
       "Name: genre, dtype: int64"
      ]
     },
     "execution_count": 34,
     "metadata": {},
     "output_type": "execute_result"
    }
   ],
   "source": [
    "genre_weekday(spb_general, 'Friday', '17:00', '23:00') # вызов функции для вечера пятницы в Петербурге"
   ]
  },
  {
   "cell_type": "markdown",
   "metadata": {
    "id": "wrCe4MNX_Zcu"
   },
   "source": [
    "**Выводы**\n",
    "\n",
    "Если сравнить топ-10 жанров в понедельник утром, можно сделать такие выводы:\n",
    "\n",
    "1. В Москве и Петербурге слушают похожую музыку. Единственное отличие — в московский рейтинг вошёл жанр “world”, а в петербургский — джаз и классика.\n",
    "\n",
    "2. В Москве пропущенных значений оказалось так много, что значение `'unknown'` заняло десятое место среди самых популярных жанров. Значит, пропущенные значения занимают существенную долю в данных и угрожают достоверности исследования.\n",
    "\n",
    "Вечер пятницы не меняет эту картину. Некоторые жанры поднимаются немного выше, другие спускаются, но в целом топ-10 остаётся тем же самым.\n",
    "\n",
    "Таким образом, вторая гипотеза подтвердилась лишь частично:\n",
    "* Пользователи слушают похожую музыку в начале недели и в конце.\n",
    "* Разница между Москвой и Петербургом не слишком выражена. В Москве чаще слушают русскую популярную музыку, в Петербурге — джаз.\n",
    "\n",
    "Однако пропуски в данных ставят под сомнение этот результат. В Москве их так много, что рейтинг топ-10 мог бы выглядеть иначе, если бы не утерянные  данные о жанрах."
   ]
  },
  {
   "cell_type": "markdown",
   "metadata": {
    "id": "JolODAqr_Zcu"
   },
   "source": [
    "### Жанровые предпочтения в Москве и Петербурге\n",
    "\n",
    "Гипотеза: Петербург — столица рэпа, музыку этого жанра там слушают чаще, чем в Москве.  А Москва — город контрастов, в котором, тем не менее, преобладает поп-музыка."
   ]
  },
  {
   "cell_type": "code",
   "execution_count": 35,
   "metadata": {
    "id": "r19lIPke_Zcu"
   },
   "outputs": [],
   "source": [
    "moscow_genres = moscow_general.groupby('genre')['genre'].count().sort_values(ascending = False) # одной строкой: группировка таблицы moscow_general по столбцу 'genre', \n",
    "                                                                                                # подсчёт числа значений 'genre' в этой группировке методом count(), \n",
    "                                                                                                # сортировка получившегося Series в порядке убывания и сохранение в moscow_genres"
   ]
  },
  {
   "cell_type": "code",
   "execution_count": 36,
   "metadata": {
    "id": "WhCSooF8_Zcv"
   },
   "outputs": [
    {
     "data": {
      "text/plain": [
       "genre\n",
       "pop            5892\n",
       "dance          4435\n",
       "rock           3965\n",
       "electronic     3786\n",
       "hiphop         2096\n",
       "classical      1616\n",
       "world          1432\n",
       "alternative    1379\n",
       "ruspop         1372\n",
       "rusrap         1161\n",
       "Name: genre, dtype: int64"
      ]
     },
     "execution_count": 36,
     "metadata": {},
     "output_type": "execute_result"
    }
   ],
   "source": [
    "moscow_genres.head(10) # просмотр первых 10 строк moscow_genres"
   ]
  },
  {
   "cell_type": "code",
   "execution_count": 37,
   "metadata": {
    "id": "gluLIpE7_Zcv"
   },
   "outputs": [],
   "source": [
    "spb_genres = spb_general.groupby('genre')['genre'].count().sort_values(ascending = False) # одной строкой: группировка таблицы spb_general по столбцу 'genre', \n",
    "                                                                                          # подсчёт числа значений 'genre' в этой группировке методом count(), \n",
    "                                                                                          # сортировка получившегося Series в порядке убывания и сохранение в spb_genres"
   ]
  },
  {
   "cell_type": "code",
   "execution_count": 38,
   "metadata": {
    "id": "uaGJHjVU_Zcv"
   },
   "outputs": [
    {
     "data": {
      "text/plain": [
       "genre\n",
       "pop            2431\n",
       "dance          1932\n",
       "rock           1879\n",
       "electronic     1736\n",
       "hiphop          960\n",
       "alternative     649\n",
       "classical       646\n",
       "rusrap          564\n",
       "ruspop          538\n",
       "world           515\n",
       "Name: genre, dtype: int64"
      ]
     },
     "execution_count": 38,
     "metadata": {},
     "output_type": "execute_result"
    }
   ],
   "source": [
    "spb_genres.head(10) # просмотр первых 10 строк spb_genres"
   ]
  },
  {
   "cell_type": "markdown",
   "metadata": {
    "id": "RY51YJYu_Zcv"
   },
   "source": [
    "**Выводы**"
   ]
  },
  {
   "cell_type": "markdown",
   "metadata": {
    "id": "nVhnJEm__Zcv"
   },
   "source": [
    "Гипотеза частично подтвердилась:\n",
    "* Поп-музыка — самый популярный жанр в Москве, как и предполагала гипотеза. Более того, в топ-10 жанров встречается близкий жанр — русская популярная музыка.\n",
    "* Вопреки ожиданиям, рэп одинаково популярен в Москве и Петербурге. \n"
   ]
  },
  {
   "cell_type": "markdown",
   "metadata": {
    "id": "ykKQ0N65_Zcv"
   },
   "source": [
    "## Итоги исследования"
   ]
  },
  {
   "cell_type": "markdown",
   "metadata": {
    "id": "tjUwbHb3_Zcv"
   },
   "source": [
    "Были проверены три гипотезы и установлено, что:\n",
    "\n",
    "1. День недели по-разному влияет на активность пользователей в Москве и Петербурге. \n",
    "\n",
    "Первая гипотеза полностью подтвердилась.\n",
    "\n",
    "2. Музыкальные предпочтения не сильно меняются в течение недели — будь то Москва или Петербург. Небольшие различия заметны в начале недели, по понедельникам:\n",
    "* в Москве слушают музыку жанра “world”,\n",
    "* в Петербурге — джаз и классику.\n",
    "\n",
    "Таким образом, вторая гипотеза подтвердилась лишь отчасти. Этот результат мог оказаться иным, если бы не пропуски в данных.\n",
    "\n",
    "3. Во вкусах пользователей Москвы и Петербурга больше общего чем различий. Вопреки ожиданиям, предпочтения жанров в Петербурге напоминают московские.\n",
    "\n",
    "Третья гипотеза не подтвердилась. Если различия в предпочтениях и существуют, на основной массе пользователей они незаметны."
   ]
  }
 ],
 "metadata": {
  "ExecuteTimeLog": [
   {
    "duration": 529,
    "start_time": "2021-12-23T17:03:29.445Z"
   },
   {
    "duration": 138,
    "start_time": "2021-12-23T17:04:44.823Z"
   },
   {
    "duration": 20,
    "start_time": "2021-12-23T17:05:31.364Z"
   },
   {
    "duration": 33,
    "start_time": "2021-12-23T17:06:14.273Z"
   },
   {
    "duration": 25,
    "start_time": "2021-12-23T17:06:48.127Z"
   },
   {
    "duration": 23,
    "start_time": "2021-12-23T17:07:02.992Z"
   },
   {
    "duration": 25,
    "start_time": "2021-12-23T17:10:54.013Z"
   },
   {
    "duration": 24,
    "start_time": "2021-12-23T17:10:57.370Z"
   },
   {
    "duration": 5,
    "start_time": "2021-12-23T17:16:13.464Z"
   },
   {
    "duration": 85,
    "start_time": "2021-12-24T13:56:24.054Z"
   },
   {
    "duration": 435,
    "start_time": "2021-12-24T13:56:43.052Z"
   },
   {
    "duration": 620,
    "start_time": "2021-12-24T13:57:12.382Z"
   },
   {
    "duration": 133,
    "start_time": "2021-12-24T13:57:15.685Z"
   },
   {
    "duration": 18,
    "start_time": "2021-12-24T13:57:18.666Z"
   },
   {
    "duration": 26,
    "start_time": "2021-12-24T13:57:22.296Z"
   },
   {
    "duration": 4,
    "start_time": "2021-12-24T13:57:26.933Z"
   },
   {
    "duration": 29,
    "start_time": "2021-12-24T13:57:30.070Z"
   },
   {
    "duration": 4,
    "start_time": "2021-12-24T13:57:54.677Z"
   },
   {
    "duration": 19,
    "start_time": "2021-12-24T13:58:13.141Z"
   },
   {
    "duration": 17,
    "start_time": "2021-12-24T13:58:15.940Z"
   },
   {
    "duration": 4,
    "start_time": "2021-12-24T13:58:18.683Z"
   },
   {
    "duration": 25,
    "start_time": "2021-12-24T14:00:07.949Z"
   },
   {
    "duration": 267,
    "start_time": "2021-12-24T14:00:22.868Z"
   },
   {
    "duration": 24,
    "start_time": "2021-12-24T14:00:37.076Z"
   },
   {
    "duration": 15,
    "start_time": "2021-12-24T14:07:44.942Z"
   },
   {
    "duration": 23,
    "start_time": "2021-12-24T14:07:49.469Z"
   },
   {
    "duration": 18,
    "start_time": "2021-12-24T14:10:08.125Z"
   },
   {
    "duration": 25,
    "start_time": "2021-12-24T14:10:11.969Z"
   },
   {
    "duration": 277,
    "start_time": "2021-12-24T14:10:39.999Z"
   },
   {
    "duration": 271,
    "start_time": "2021-12-24T14:11:00.427Z"
   },
   {
    "duration": 56,
    "start_time": "2021-12-24T14:12:35.679Z"
   },
   {
    "duration": 280,
    "start_time": "2021-12-24T14:17:57.235Z"
   },
   {
    "duration": 65,
    "start_time": "2021-12-24T14:18:10.000Z"
   },
   {
    "duration": 66,
    "start_time": "2021-12-24T14:18:20.958Z"
   },
   {
    "duration": 8,
    "start_time": "2021-12-24T14:20:25.370Z"
   },
   {
    "duration": 3,
    "start_time": "2021-12-24T14:21:27.446Z"
   },
   {
    "duration": 289,
    "start_time": "2021-12-24T14:22:06.348Z"
   },
   {
    "duration": 266,
    "start_time": "2021-12-24T14:22:22.662Z"
   },
   {
    "duration": 6,
    "start_time": "2021-12-24T14:22:48.733Z"
   },
   {
    "duration": 46,
    "start_time": "2021-12-24T14:25:58.560Z"
   },
   {
    "duration": 39,
    "start_time": "2021-12-24T14:26:40.167Z"
   },
   {
    "duration": 40,
    "start_time": "2021-12-24T14:26:42.793Z"
   },
   {
    "duration": 41,
    "start_time": "2021-12-24T14:26:57.689Z"
   },
   {
    "duration": 4,
    "start_time": "2021-12-24T14:40:43.404Z"
   },
   {
    "duration": 508,
    "start_time": "2021-12-24T14:41:45.704Z"
   },
   {
    "duration": 436,
    "start_time": "2021-12-24T16:18:45.205Z"
   },
   {
    "duration": 4,
    "start_time": "2021-12-24T16:18:52.781Z"
   },
   {
    "duration": 565,
    "start_time": "2021-12-24T16:18:57.776Z"
   },
   {
    "duration": 716,
    "start_time": "2021-12-24T16:19:25.318Z"
   },
   {
    "duration": 192,
    "start_time": "2021-12-24T16:19:28.502Z"
   },
   {
    "duration": 29,
    "start_time": "2021-12-24T16:19:30.547Z"
   },
   {
    "duration": 34,
    "start_time": "2021-12-24T16:19:32.814Z"
   },
   {
    "duration": 6,
    "start_time": "2021-12-24T16:19:36.990Z"
   },
   {
    "duration": 31,
    "start_time": "2021-12-24T16:19:39.854Z"
   },
   {
    "duration": 5,
    "start_time": "2021-12-24T16:19:41.862Z"
   },
   {
    "duration": 30,
    "start_time": "2021-12-24T16:19:44.286Z"
   },
   {
    "duration": 23,
    "start_time": "2021-12-24T16:19:47.405Z"
   },
   {
    "duration": 31,
    "start_time": "2021-12-24T16:19:50.245Z"
   },
   {
    "duration": 100,
    "start_time": "2021-12-24T16:19:53.430Z"
   },
   {
    "duration": 103,
    "start_time": "2021-12-24T16:19:55.229Z"
   },
   {
    "duration": 81,
    "start_time": "2021-12-24T16:19:57.300Z"
   },
   {
    "duration": 59,
    "start_time": "2021-12-24T16:19:59.381Z"
   },
   {
    "duration": 5,
    "start_time": "2021-12-24T16:20:02.718Z"
   },
   {
    "duration": 33,
    "start_time": "2021-12-24T16:20:05.684Z"
   },
   {
    "duration": 287,
    "start_time": "2021-12-24T16:21:05.890Z"
   },
   {
    "duration": 532,
    "start_time": "2021-12-24T16:21:52.297Z"
   },
   {
    "duration": 262,
    "start_time": "2021-12-24T16:22:30.488Z"
   },
   {
    "duration": 4,
    "start_time": "2021-12-24T16:22:40.334Z"
   },
   {
    "duration": 1864,
    "start_time": "2021-12-24T16:22:43.221Z"
   },
   {
    "duration": 17,
    "start_time": "2021-12-24T16:22:45.088Z"
   },
   {
    "duration": 31,
    "start_time": "2021-12-24T16:22:48.692Z"
   },
   {
    "duration": 6,
    "start_time": "2021-12-24T16:22:52.717Z"
   },
   {
    "duration": 28,
    "start_time": "2021-12-24T16:22:55.228Z"
   },
   {
    "duration": 5,
    "start_time": "2021-12-24T16:22:57.757Z"
   },
   {
    "duration": 31,
    "start_time": "2021-12-24T16:23:00.597Z"
   },
   {
    "duration": 23,
    "start_time": "2021-12-24T16:23:05.372Z"
   },
   {
    "duration": 31,
    "start_time": "2021-12-24T16:23:08.764Z"
   },
   {
    "duration": 86,
    "start_time": "2021-12-24T16:23:12.063Z"
   },
   {
    "duration": 92,
    "start_time": "2021-12-24T16:23:14.572Z"
   },
   {
    "duration": 77,
    "start_time": "2021-12-24T16:23:17.835Z"
   },
   {
    "duration": 61,
    "start_time": "2021-12-24T16:23:22.732Z"
   },
   {
    "duration": 4,
    "start_time": "2021-12-24T16:23:35.099Z"
   },
   {
    "duration": 286,
    "start_time": "2021-12-24T16:23:37.851Z"
   },
   {
    "duration": 3,
    "start_time": "2021-12-24T16:24:36.804Z"
   },
   {
    "duration": 187,
    "start_time": "2021-12-24T16:24:36.810Z"
   },
   {
    "duration": 16,
    "start_time": "2021-12-24T16:24:37.000Z"
   },
   {
    "duration": 52,
    "start_time": "2021-12-24T16:24:37.020Z"
   },
   {
    "duration": 10,
    "start_time": "2021-12-24T16:24:37.075Z"
   },
   {
    "duration": 32,
    "start_time": "2021-12-24T16:24:37.088Z"
   },
   {
    "duration": 5,
    "start_time": "2021-12-24T16:24:37.124Z"
   },
   {
    "duration": 60,
    "start_time": "2021-12-24T16:24:37.132Z"
   },
   {
    "duration": 39,
    "start_time": "2021-12-24T16:24:37.195Z"
   },
   {
    "duration": 62,
    "start_time": "2021-12-24T16:24:37.237Z"
   },
   {
    "duration": 104,
    "start_time": "2021-12-24T16:24:37.302Z"
   },
   {
    "duration": 104,
    "start_time": "2021-12-24T16:24:37.408Z"
   },
   {
    "duration": 86,
    "start_time": "2021-12-24T16:24:37.515Z"
   },
   {
    "duration": 73,
    "start_time": "2021-12-24T16:24:37.603Z"
   },
   {
    "duration": 4,
    "start_time": "2021-12-24T16:24:37.678Z"
   },
   {
    "duration": 30,
    "start_time": "2021-12-24T16:26:09.803Z"
   },
   {
    "duration": 36,
    "start_time": "2021-12-24T16:26:32.339Z"
   },
   {
    "duration": 63,
    "start_time": "2021-12-24T16:26:54.699Z"
   },
   {
    "duration": 15,
    "start_time": "2021-12-24T16:39:22.304Z"
   },
   {
    "duration": 48,
    "start_time": "2021-12-24T16:39:35.806Z"
   },
   {
    "duration": 18,
    "start_time": "2021-12-24T16:40:07.993Z"
   },
   {
    "duration": 280,
    "start_time": "2021-12-24T16:42:03.487Z"
   },
   {
    "duration": 13,
    "start_time": "2021-12-24T16:42:10.583Z"
   },
   {
    "duration": 6,
    "start_time": "2021-12-24T16:53:05.161Z"
   },
   {
    "duration": 24,
    "start_time": "2021-12-24T16:53:59.628Z"
   },
   {
    "duration": 22,
    "start_time": "2021-12-24T16:54:29.291Z"
   },
   {
    "duration": 23,
    "start_time": "2021-12-24T16:55:08.601Z"
   },
   {
    "duration": 20,
    "start_time": "2021-12-24T16:55:24.745Z"
   },
   {
    "duration": 23,
    "start_time": "2021-12-24T16:56:18.941Z"
   },
   {
    "duration": 21,
    "start_time": "2021-12-24T16:56:21.878Z"
   },
   {
    "duration": 347,
    "start_time": "2021-12-24T17:05:16.316Z"
   },
   {
    "duration": 98,
    "start_time": "2021-12-24T17:06:13.339Z"
   },
   {
    "duration": 16,
    "start_time": "2021-12-24T17:13:18.635Z"
   },
   {
    "duration": 31,
    "start_time": "2021-12-24T17:14:27.859Z"
   },
   {
    "duration": 26,
    "start_time": "2021-12-24T17:14:46.167Z"
   },
   {
    "duration": 5,
    "start_time": "2021-12-24T17:30:32.068Z"
   },
   {
    "duration": 26,
    "start_time": "2021-12-24T17:31:40.319Z"
   },
   {
    "duration": 7,
    "start_time": "2021-12-24T17:32:17.937Z"
   },
   {
    "duration": 26,
    "start_time": "2021-12-24T17:32:20.963Z"
   },
   {
    "duration": 18,
    "start_time": "2021-12-24T17:32:48.843Z"
   },
   {
    "duration": 23,
    "start_time": "2021-12-24T17:33:28.209Z"
   },
   {
    "duration": 17,
    "start_time": "2021-12-24T17:33:46.337Z"
   },
   {
    "duration": 15,
    "start_time": "2021-12-24T17:40:47.682Z"
   },
   {
    "duration": 11,
    "start_time": "2021-12-24T17:41:29.143Z"
   },
   {
    "duration": 7,
    "start_time": "2021-12-24T17:41:51.929Z"
   },
   {
    "duration": 9,
    "start_time": "2021-12-24T17:42:49.694Z"
   },
   {
    "duration": 8,
    "start_time": "2021-12-24T17:43:02.725Z"
   },
   {
    "duration": 775,
    "start_time": "2021-12-26T05:25:25.022Z"
   },
   {
    "duration": 178,
    "start_time": "2021-12-26T05:25:31.570Z"
   },
   {
    "duration": 25,
    "start_time": "2021-12-26T05:25:37.935Z"
   },
   {
    "duration": 33,
    "start_time": "2021-12-26T05:25:45.615Z"
   },
   {
    "duration": 6,
    "start_time": "2021-12-26T05:25:54.023Z"
   },
   {
    "duration": 28,
    "start_time": "2021-12-26T05:30:07.631Z"
   },
   {
    "duration": 6,
    "start_time": "2021-12-26T05:30:11.049Z"
   },
   {
    "duration": 34,
    "start_time": "2021-12-26T05:30:14.515Z"
   },
   {
    "duration": 22,
    "start_time": "2021-12-26T05:30:32.867Z"
   },
   {
    "duration": 30,
    "start_time": "2021-12-26T05:30:37.744Z"
   },
   {
    "duration": 117,
    "start_time": "2021-12-26T05:30:42.930Z"
   },
   {
    "duration": 98,
    "start_time": "2021-12-26T05:30:52.320Z"
   },
   {
    "duration": 80,
    "start_time": "2021-12-26T05:31:00.288Z"
   },
   {
    "duration": 61,
    "start_time": "2021-12-26T05:31:18.152Z"
   },
   {
    "duration": 4,
    "start_time": "2021-12-26T05:31:50.821Z"
   },
   {
    "duration": 21,
    "start_time": "2021-12-26T05:31:59.681Z"
   },
   {
    "duration": 59,
    "start_time": "2021-12-26T05:32:04.404Z"
   },
   {
    "duration": 13,
    "start_time": "2021-12-26T05:32:32.796Z"
   },
   {
    "duration": 15,
    "start_time": "2021-12-26T05:32:49.794Z"
   },
   {
    "duration": 5,
    "start_time": "2021-12-26T05:33:32.393Z"
   },
   {
    "duration": 24,
    "start_time": "2021-12-26T05:33:36.625Z"
   },
   {
    "duration": 21,
    "start_time": "2021-12-26T05:33:40.014Z"
   },
   {
    "duration": 19,
    "start_time": "2021-12-26T05:33:44.944Z"
   },
   {
    "duration": 19,
    "start_time": "2021-12-26T05:33:45.959Z"
   },
   {
    "duration": 22,
    "start_time": "2021-12-26T05:33:46.801Z"
   },
   {
    "duration": 19,
    "start_time": "2021-12-26T05:33:47.730Z"
   },
   {
    "duration": 90,
    "start_time": "2021-12-26T05:35:10.891Z"
   },
   {
    "duration": 15,
    "start_time": "2021-12-26T05:35:20.781Z"
   },
   {
    "duration": 12,
    "start_time": "2021-12-26T05:35:33.126Z"
   },
   {
    "duration": 6,
    "start_time": "2021-12-26T05:37:14.486Z"
   },
   {
    "duration": 25,
    "start_time": "2021-12-26T05:37:45.061Z"
   },
   {
    "duration": 18,
    "start_time": "2021-12-26T05:37:47.324Z"
   },
   {
    "duration": 23,
    "start_time": "2021-12-26T05:37:52.724Z"
   },
   {
    "duration": 16,
    "start_time": "2021-12-26T05:37:56.252Z"
   },
   {
    "duration": 11,
    "start_time": "2021-12-26T05:38:09.363Z"
   },
   {
    "duration": 8,
    "start_time": "2021-12-26T05:38:12.851Z"
   },
   {
    "duration": 422,
    "start_time": "2021-12-26T05:38:23.899Z"
   },
   {
    "duration": 9,
    "start_time": "2021-12-26T05:38:30.890Z"
   },
   {
    "duration": 6,
    "start_time": "2021-12-26T05:38:33.911Z"
   },
   {
    "duration": 512,
    "start_time": "2021-12-27T04:36:55.475Z"
   },
   {
    "duration": 126,
    "start_time": "2021-12-27T04:36:55.989Z"
   },
   {
    "duration": 23,
    "start_time": "2021-12-27T04:36:56.117Z"
   },
   {
    "duration": 22,
    "start_time": "2021-12-27T04:36:56.142Z"
   },
   {
    "duration": 8,
    "start_time": "2021-12-27T04:36:56.165Z"
   },
   {
    "duration": 23,
    "start_time": "2021-12-27T04:36:56.175Z"
   },
   {
    "duration": 3,
    "start_time": "2021-12-27T04:36:56.200Z"
   },
   {
    "duration": 35,
    "start_time": "2021-12-27T04:36:56.204Z"
   },
   {
    "duration": 14,
    "start_time": "2021-12-27T04:36:56.242Z"
   },
   {
    "duration": 20,
    "start_time": "2021-12-27T04:36:56.258Z"
   },
   {
    "duration": 68,
    "start_time": "2021-12-27T04:36:56.279Z"
   },
   {
    "duration": 58,
    "start_time": "2021-12-27T04:36:56.348Z"
   },
   {
    "duration": 57,
    "start_time": "2021-12-27T04:36:56.408Z"
   },
   {
    "duration": 38,
    "start_time": "2021-12-27T04:36:56.466Z"
   },
   {
    "duration": 3,
    "start_time": "2021-12-27T04:36:56.505Z"
   },
   {
    "duration": 29,
    "start_time": "2021-12-27T04:36:56.510Z"
   },
   {
    "duration": 37,
    "start_time": "2021-12-27T04:36:56.540Z"
   },
   {
    "duration": 9,
    "start_time": "2021-12-27T04:36:56.578Z"
   },
   {
    "duration": 9,
    "start_time": "2021-12-27T04:36:56.589Z"
   },
   {
    "duration": 28,
    "start_time": "2021-12-27T04:36:56.599Z"
   },
   {
    "duration": 15,
    "start_time": "2021-12-27T04:36:56.629Z"
   },
   {
    "duration": 12,
    "start_time": "2021-12-27T04:36:56.645Z"
   },
   {
    "duration": 13,
    "start_time": "2021-12-27T04:36:56.658Z"
   },
   {
    "duration": 11,
    "start_time": "2021-12-27T04:36:56.672Z"
   },
   {
    "duration": 44,
    "start_time": "2021-12-27T04:36:56.685Z"
   },
   {
    "duration": 12,
    "start_time": "2021-12-27T04:36:56.731Z"
   },
   {
    "duration": 59,
    "start_time": "2021-12-27T04:36:56.746Z"
   },
   {
    "duration": 21,
    "start_time": "2021-12-27T04:36:56.806Z"
   },
   {
    "duration": 8,
    "start_time": "2021-12-27T04:36:56.829Z"
   },
   {
    "duration": 7,
    "start_time": "2021-12-27T04:36:56.839Z"
   },
   {
    "duration": 23,
    "start_time": "2021-12-27T04:36:56.848Z"
   },
   {
    "duration": 11,
    "start_time": "2021-12-27T04:36:56.873Z"
   },
   {
    "duration": 15,
    "start_time": "2021-12-27T04:36:56.885Z"
   },
   {
    "duration": 37,
    "start_time": "2021-12-27T04:36:56.901Z"
   },
   {
    "duration": 7,
    "start_time": "2021-12-27T04:36:56.939Z"
   },
   {
    "duration": 5,
    "start_time": "2021-12-27T04:36:56.947Z"
   },
   {
    "duration": 8,
    "start_time": "2021-12-27T04:36:56.953Z"
   },
   {
    "duration": 4,
    "start_time": "2021-12-27T04:36:56.962Z"
   },
   {
    "duration": 337,
    "start_time": "2021-12-27T13:35:51.641Z"
   },
   {
    "duration": 84,
    "start_time": "2021-12-27T13:35:56.635Z"
   },
   {
    "duration": 1031,
    "start_time": "2021-12-27T13:36:12.237Z"
   },
   {
    "duration": 331,
    "start_time": "2021-12-27T13:36:16.379Z"
   },
   {
    "duration": 186,
    "start_time": "2021-12-27T13:36:19.386Z"
   },
   {
    "duration": 35,
    "start_time": "2021-12-27T13:36:21.362Z"
   },
   {
    "duration": 17,
    "start_time": "2021-12-27T13:39:47.795Z"
   },
   {
    "duration": 67,
    "start_time": "2021-12-27T13:41:42.245Z"
   },
   {
    "duration": 99,
    "start_time": "2021-12-27T13:41:51.339Z"
   },
   {
    "duration": 635,
    "start_time": "2021-12-27T20:13:36.826Z"
   },
   {
    "duration": 217,
    "start_time": "2021-12-27T20:13:37.463Z"
   },
   {
    "duration": 17,
    "start_time": "2021-12-27T20:13:37.682Z"
   },
   {
    "duration": 25,
    "start_time": "2021-12-27T20:13:37.701Z"
   },
   {
    "duration": 4,
    "start_time": "2021-12-27T20:13:37.728Z"
   },
   {
    "duration": 24,
    "start_time": "2021-12-27T20:13:37.734Z"
   },
   {
    "duration": 31,
    "start_time": "2021-12-27T20:13:37.760Z"
   },
   {
    "duration": 40,
    "start_time": "2021-12-27T20:13:37.794Z"
   },
   {
    "duration": 18,
    "start_time": "2021-12-27T20:13:37.837Z"
   },
   {
    "duration": 45,
    "start_time": "2021-12-27T20:13:37.858Z"
   },
   {
    "duration": 108,
    "start_time": "2021-12-27T20:13:37.907Z"
   },
   {
    "duration": 104,
    "start_time": "2021-12-27T20:13:38.017Z"
   },
   {
    "duration": 57,
    "start_time": "2021-12-27T20:13:38.124Z"
   },
   {
    "duration": 54,
    "start_time": "2021-12-27T20:13:38.183Z"
   },
   {
    "duration": 3,
    "start_time": "2021-12-27T20:13:38.239Z"
   },
   {
    "duration": 17,
    "start_time": "2021-12-27T20:13:38.245Z"
   },
   {
    "duration": 66,
    "start_time": "2021-12-27T20:13:38.264Z"
   },
   {
    "duration": 11,
    "start_time": "2021-12-27T20:13:38.331Z"
   },
   {
    "duration": 9,
    "start_time": "2021-12-27T20:13:38.344Z"
   },
   {
    "duration": 4,
    "start_time": "2021-12-27T20:13:38.355Z"
   },
   {
    "duration": 44,
    "start_time": "2021-12-27T20:13:38.360Z"
   },
   {
    "duration": 16,
    "start_time": "2021-12-27T20:13:38.405Z"
   },
   {
    "duration": 19,
    "start_time": "2021-12-27T20:13:38.423Z"
   },
   {
    "duration": 49,
    "start_time": "2021-12-27T20:13:38.444Z"
   },
   {
    "duration": 23,
    "start_time": "2021-12-27T20:13:38.495Z"
   },
   {
    "duration": 25,
    "start_time": "2021-12-27T20:13:38.520Z"
   },
   {
    "duration": 110,
    "start_time": "2021-12-27T20:13:38.548Z"
   },
   {
    "duration": 15,
    "start_time": "2021-12-27T20:13:38.660Z"
   },
   {
    "duration": 24,
    "start_time": "2021-12-27T20:13:38.677Z"
   },
   {
    "duration": 8,
    "start_time": "2021-12-27T20:13:38.704Z"
   },
   {
    "duration": 31,
    "start_time": "2021-12-27T20:13:38.714Z"
   },
   {
    "duration": 13,
    "start_time": "2021-12-27T20:13:38.749Z"
   },
   {
    "duration": 45,
    "start_time": "2021-12-27T20:13:38.763Z"
   },
   {
    "duration": 13,
    "start_time": "2021-12-27T20:13:38.810Z"
   },
   {
    "duration": 10,
    "start_time": "2021-12-27T20:13:38.825Z"
   },
   {
    "duration": 5,
    "start_time": "2021-12-27T20:13:38.836Z"
   },
   {
    "duration": 10,
    "start_time": "2021-12-27T20:13:38.843Z"
   },
   {
    "duration": 40,
    "start_time": "2021-12-27T20:13:38.854Z"
   },
   {
    "duration": 593,
    "start_time": "2022-01-06T12:55:59.930Z"
   },
   {
    "duration": 835,
    "start_time": "2022-01-06T12:56:03.676Z"
   },
   {
    "duration": 25,
    "start_time": "2022-01-06T12:56:07.003Z"
   },
   {
    "duration": 746,
    "start_time": "2022-01-06T12:56:58.571Z"
   },
   {
    "duration": 646,
    "start_time": "2022-01-06T12:57:25.457Z"
   },
   {
    "duration": 10,
    "start_time": "2022-01-06T13:00:55.650Z"
   },
   {
    "duration": 1306,
    "start_time": "2022-01-06T13:02:07.690Z"
   },
   {
    "duration": 1199,
    "start_time": "2022-01-06T13:03:14.911Z"
   }
  ],
  "colab": {
   "collapsed_sections": [
    "E0vqbgi9ay0H",
    "VUC88oWjTJw2"
   ],
   "name": "yandex_music_project_2021.2.ipynb",
   "provenance": []
  },
  "kernelspec": {
   "display_name": "Python 3 (ipykernel)",
   "language": "python",
   "name": "python3"
  },
  "language_info": {
   "codemirror_mode": {
    "name": "ipython",
    "version": 3
   },
   "file_extension": ".py",
   "mimetype": "text/x-python",
   "name": "python",
   "nbconvert_exporter": "python",
   "pygments_lexer": "ipython3",
   "version": "3.9.7"
  },
  "toc": {
   "base_numbering": 1,
   "nav_menu": {},
   "number_sections": true,
   "sideBar": true,
   "skip_h1_title": true,
   "title_cell": "Table of Contents",
   "title_sidebar": "Contents",
   "toc_cell": false,
   "toc_position": {
    "height": "calc(100% - 180px)",
    "left": "10px",
    "top": "150px",
    "width": "399.797px"
   },
   "toc_section_display": true,
   "toc_window_display": true
  }
 },
 "nbformat": 4,
 "nbformat_minor": 1
}
