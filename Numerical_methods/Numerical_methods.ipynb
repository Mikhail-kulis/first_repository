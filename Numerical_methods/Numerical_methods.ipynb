{
 "cells": [
  {
   "cell_type": "markdown",
   "metadata": {},
   "source": [
    "## Описание проекта"
   ]
  },
  {
   "cell_type": "markdown",
   "metadata": {},
   "source": [
    "Необходимо построить модель для определения стоимости автомобиля исходя из его параметров. \n",
    "\n",
    "Заказчику важны:\n",
    "\n",
    "- качество предсказания;\n",
    "- скорость предсказания;\n",
    "- время обучения."
   ]
  },
  {
   "cell_type": "markdown",
   "metadata": {},
   "source": [
    "## Подготовка данных"
   ]
  },
  {
   "cell_type": "markdown",
   "metadata": {},
   "source": [
    "### Подключение библиотек"
   ]
  },
  {
   "cell_type": "code",
   "execution_count": 81,
   "metadata": {},
   "outputs": [],
   "source": [
    "import pandas as pd\n",
    "import numpy as np\n",
    "from sklearn.model_selection import train_test_split\n",
    "import lightgbm as ltb\n",
    "import matplotlib.pyplot as plt\n",
    "from sklearn.ensemble import RandomForestRegressor\n",
    "from sklearn.linear_model import LinearRegression\n",
    "from sklearn.preprocessing import StandardScaler \n",
    "from sklearn.metrics import mean_squared_error\n",
    "from sklearn import preprocessing\n",
    "import warnings                                                  # импорт службы warnings\n",
    "warnings.simplefilter(\"ignore\")                                  # игнорируем предупреждения\n",
    "from tqdm import tqdm\n",
    "tqdm.pandas()"
   ]
  },
  {
   "cell_type": "markdown",
   "metadata": {},
   "source": [
    "### Чтение данных"
   ]
  },
  {
   "cell_type": "code",
   "execution_count": 82,
   "metadata": {},
   "outputs": [],
   "source": [
    "data = pd.read_csv('...')         "
   ]
  },
  {
   "cell_type": "markdown",
   "metadata": {},
   "source": [
    "### Знакомство с датафреймом"
   ]
  },
  {
   "cell_type": "code",
   "execution_count": 83,
   "metadata": {},
   "outputs": [
    {
     "name": "stdout",
     "output_type": "stream",
     "text": [
      "<class 'pandas.core.frame.DataFrame'>\n",
      "RangeIndex: 354369 entries, 0 to 354368\n",
      "Data columns (total 16 columns):\n",
      " #   Column             Non-Null Count   Dtype \n",
      "---  ------             --------------   ----- \n",
      " 0   DateCrawled        354369 non-null  object\n",
      " 1   Price              354369 non-null  int64 \n",
      " 2   VehicleType        316879 non-null  object\n",
      " 3   RegistrationYear   354369 non-null  int64 \n",
      " 4   Gearbox            334536 non-null  object\n",
      " 5   Power              354369 non-null  int64 \n",
      " 6   Model              334664 non-null  object\n",
      " 7   Kilometer          354369 non-null  int64 \n",
      " 8   RegistrationMonth  354369 non-null  int64 \n",
      " 9   FuelType           321474 non-null  object\n",
      " 10  Brand              354369 non-null  object\n",
      " 11  NotRepaired        283215 non-null  object\n",
      " 12  DateCreated        354369 non-null  object\n",
      " 13  NumberOfPictures   354369 non-null  int64 \n",
      " 14  PostalCode         354369 non-null  int64 \n",
      " 15  LastSeen           354369 non-null  object\n",
      "dtypes: int64(7), object(9)\n",
      "memory usage: 43.3+ MB\n"
     ]
    }
   ],
   "source": [
    "data.info() "
   ]
  },
  {
   "cell_type": "code",
   "execution_count": 84,
   "metadata": {},
   "outputs": [
    {
     "data": {
      "text/html": [
       "<div>\n",
       "<style scoped>\n",
       "    .dataframe tbody tr th:only-of-type {\n",
       "        vertical-align: middle;\n",
       "    }\n",
       "\n",
       "    .dataframe tbody tr th {\n",
       "        vertical-align: top;\n",
       "    }\n",
       "\n",
       "    .dataframe thead th {\n",
       "        text-align: right;\n",
       "    }\n",
       "</style>\n",
       "<table border=\"1\" class=\"dataframe\">\n",
       "  <thead>\n",
       "    <tr style=\"text-align: right;\">\n",
       "      <th></th>\n",
       "      <th>DateCrawled</th>\n",
       "      <th>Price</th>\n",
       "      <th>VehicleType</th>\n",
       "      <th>RegistrationYear</th>\n",
       "      <th>Gearbox</th>\n",
       "      <th>Power</th>\n",
       "      <th>Model</th>\n",
       "      <th>Kilometer</th>\n",
       "      <th>RegistrationMonth</th>\n",
       "      <th>FuelType</th>\n",
       "      <th>Brand</th>\n",
       "      <th>NotRepaired</th>\n",
       "      <th>DateCreated</th>\n",
       "      <th>NumberOfPictures</th>\n",
       "      <th>PostalCode</th>\n",
       "      <th>LastSeen</th>\n",
       "    </tr>\n",
       "  </thead>\n",
       "  <tbody>\n",
       "    <tr>\n",
       "      <th>0</th>\n",
       "      <td>2016-03-24 11:52:17</td>\n",
       "      <td>480</td>\n",
       "      <td>NaN</td>\n",
       "      <td>1993</td>\n",
       "      <td>manual</td>\n",
       "      <td>0</td>\n",
       "      <td>golf</td>\n",
       "      <td>150000</td>\n",
       "      <td>0</td>\n",
       "      <td>petrol</td>\n",
       "      <td>volkswagen</td>\n",
       "      <td>NaN</td>\n",
       "      <td>2016-03-24 00:00:00</td>\n",
       "      <td>0</td>\n",
       "      <td>70435</td>\n",
       "      <td>2016-04-07 03:16:57</td>\n",
       "    </tr>\n",
       "    <tr>\n",
       "      <th>1</th>\n",
       "      <td>2016-03-24 10:58:45</td>\n",
       "      <td>18300</td>\n",
       "      <td>coupe</td>\n",
       "      <td>2011</td>\n",
       "      <td>manual</td>\n",
       "      <td>190</td>\n",
       "      <td>NaN</td>\n",
       "      <td>125000</td>\n",
       "      <td>5</td>\n",
       "      <td>gasoline</td>\n",
       "      <td>audi</td>\n",
       "      <td>yes</td>\n",
       "      <td>2016-03-24 00:00:00</td>\n",
       "      <td>0</td>\n",
       "      <td>66954</td>\n",
       "      <td>2016-04-07 01:46:50</td>\n",
       "    </tr>\n",
       "    <tr>\n",
       "      <th>2</th>\n",
       "      <td>2016-03-14 12:52:21</td>\n",
       "      <td>9800</td>\n",
       "      <td>suv</td>\n",
       "      <td>2004</td>\n",
       "      <td>auto</td>\n",
       "      <td>163</td>\n",
       "      <td>grand</td>\n",
       "      <td>125000</td>\n",
       "      <td>8</td>\n",
       "      <td>gasoline</td>\n",
       "      <td>jeep</td>\n",
       "      <td>NaN</td>\n",
       "      <td>2016-03-14 00:00:00</td>\n",
       "      <td>0</td>\n",
       "      <td>90480</td>\n",
       "      <td>2016-04-05 12:47:46</td>\n",
       "    </tr>\n",
       "    <tr>\n",
       "      <th>3</th>\n",
       "      <td>2016-03-17 16:54:04</td>\n",
       "      <td>1500</td>\n",
       "      <td>small</td>\n",
       "      <td>2001</td>\n",
       "      <td>manual</td>\n",
       "      <td>75</td>\n",
       "      <td>golf</td>\n",
       "      <td>150000</td>\n",
       "      <td>6</td>\n",
       "      <td>petrol</td>\n",
       "      <td>volkswagen</td>\n",
       "      <td>no</td>\n",
       "      <td>2016-03-17 00:00:00</td>\n",
       "      <td>0</td>\n",
       "      <td>91074</td>\n",
       "      <td>2016-03-17 17:40:17</td>\n",
       "    </tr>\n",
       "    <tr>\n",
       "      <th>4</th>\n",
       "      <td>2016-03-31 17:25:20</td>\n",
       "      <td>3600</td>\n",
       "      <td>small</td>\n",
       "      <td>2008</td>\n",
       "      <td>manual</td>\n",
       "      <td>69</td>\n",
       "      <td>fabia</td>\n",
       "      <td>90000</td>\n",
       "      <td>7</td>\n",
       "      <td>gasoline</td>\n",
       "      <td>skoda</td>\n",
       "      <td>no</td>\n",
       "      <td>2016-03-31 00:00:00</td>\n",
       "      <td>0</td>\n",
       "      <td>60437</td>\n",
       "      <td>2016-04-06 10:17:21</td>\n",
       "    </tr>\n",
       "  </tbody>\n",
       "</table>\n",
       "</div>"
      ],
      "text/plain": [
       "           DateCrawled  Price VehicleType  RegistrationYear Gearbox  Power  \\\n",
       "0  2016-03-24 11:52:17    480         NaN              1993  manual      0   \n",
       "1  2016-03-24 10:58:45  18300       coupe              2011  manual    190   \n",
       "2  2016-03-14 12:52:21   9800         suv              2004    auto    163   \n",
       "3  2016-03-17 16:54:04   1500       small              2001  manual     75   \n",
       "4  2016-03-31 17:25:20   3600       small              2008  manual     69   \n",
       "\n",
       "   Model  Kilometer  RegistrationMonth  FuelType       Brand NotRepaired  \\\n",
       "0   golf     150000                  0    petrol  volkswagen         NaN   \n",
       "1    NaN     125000                  5  gasoline        audi         yes   \n",
       "2  grand     125000                  8  gasoline        jeep         NaN   \n",
       "3   golf     150000                  6    petrol  volkswagen          no   \n",
       "4  fabia      90000                  7  gasoline       skoda          no   \n",
       "\n",
       "           DateCreated  NumberOfPictures  PostalCode             LastSeen  \n",
       "0  2016-03-24 00:00:00                 0       70435  2016-04-07 03:16:57  \n",
       "1  2016-03-24 00:00:00                 0       66954  2016-04-07 01:46:50  \n",
       "2  2016-03-14 00:00:00                 0       90480  2016-04-05 12:47:46  \n",
       "3  2016-03-17 00:00:00                 0       91074  2016-03-17 17:40:17  \n",
       "4  2016-03-31 00:00:00                 0       60437  2016-04-06 10:17:21  "
      ]
     },
     "execution_count": 84,
     "metadata": {},
     "output_type": "execute_result"
    }
   ],
   "source": [
    "data.head()                 # вывод на экран первые 5 строк"
   ]
  },
  {
   "cell_type": "markdown",
   "metadata": {},
   "source": [
    "**Вывод**\n",
    "\n",
    "Некоторые столбцы с данными содержат пропуски и имеют тип object. Кроме того, данные содержат параметры которые нельзя отнести к признакам, влияющим на итоговую цену:\n",
    "\n",
    "- DateCreated — дата создания анкеты, \n",
    "- DateCrawled — дата скачивания анкеты из базы, \n",
    "- NumberOfPictures — количество фотографий автомобиля, \n",
    "- PostalCode — почтовый индекс владельца анкеты (пользователя), \n",
    "- LastSeen — дата последней активности пользователя, \n",
    "- RegistrationMonth — месяц регистрации автомобиля.\n",
    "\n",
    "Кроме того, формат названия признаков не соответсвует принятому. "
   ]
  },
  {
   "cell_type": "markdown",
   "metadata": {},
   "source": [
    "### Переименование столбцов"
   ]
  },
  {
   "cell_type": "code",
   "execution_count": 85,
   "metadata": {},
   "outputs": [
    {
     "data": {
      "text/html": [
       "<div>\n",
       "<style scoped>\n",
       "    .dataframe tbody tr th:only-of-type {\n",
       "        vertical-align: middle;\n",
       "    }\n",
       "\n",
       "    .dataframe tbody tr th {\n",
       "        vertical-align: top;\n",
       "    }\n",
       "\n",
       "    .dataframe thead th {\n",
       "        text-align: right;\n",
       "    }\n",
       "</style>\n",
       "<table border=\"1\" class=\"dataframe\">\n",
       "  <thead>\n",
       "    <tr style=\"text-align: right;\">\n",
       "      <th></th>\n",
       "      <th>date_crawled</th>\n",
       "      <th>price</th>\n",
       "      <th>vehicle_type</th>\n",
       "      <th>registration_year</th>\n",
       "      <th>gearbox</th>\n",
       "      <th>power</th>\n",
       "      <th>model</th>\n",
       "      <th>kilometer</th>\n",
       "      <th>registration_month</th>\n",
       "      <th>fuel_type</th>\n",
       "      <th>brand</th>\n",
       "      <th>not_repaired</th>\n",
       "      <th>date_created</th>\n",
       "      <th>number_of_pictures</th>\n",
       "      <th>postal_code</th>\n",
       "      <th>last_seen</th>\n",
       "    </tr>\n",
       "  </thead>\n",
       "  <tbody>\n",
       "    <tr>\n",
       "      <th>0</th>\n",
       "      <td>2016-03-24 11:52:17</td>\n",
       "      <td>480</td>\n",
       "      <td>NaN</td>\n",
       "      <td>1993</td>\n",
       "      <td>manual</td>\n",
       "      <td>0</td>\n",
       "      <td>golf</td>\n",
       "      <td>150000</td>\n",
       "      <td>0</td>\n",
       "      <td>petrol</td>\n",
       "      <td>volkswagen</td>\n",
       "      <td>NaN</td>\n",
       "      <td>2016-03-24 00:00:00</td>\n",
       "      <td>0</td>\n",
       "      <td>70435</td>\n",
       "      <td>2016-04-07 03:16:57</td>\n",
       "    </tr>\n",
       "    <tr>\n",
       "      <th>1</th>\n",
       "      <td>2016-03-24 10:58:45</td>\n",
       "      <td>18300</td>\n",
       "      <td>coupe</td>\n",
       "      <td>2011</td>\n",
       "      <td>manual</td>\n",
       "      <td>190</td>\n",
       "      <td>NaN</td>\n",
       "      <td>125000</td>\n",
       "      <td>5</td>\n",
       "      <td>gasoline</td>\n",
       "      <td>audi</td>\n",
       "      <td>yes</td>\n",
       "      <td>2016-03-24 00:00:00</td>\n",
       "      <td>0</td>\n",
       "      <td>66954</td>\n",
       "      <td>2016-04-07 01:46:50</td>\n",
       "    </tr>\n",
       "    <tr>\n",
       "      <th>2</th>\n",
       "      <td>2016-03-14 12:52:21</td>\n",
       "      <td>9800</td>\n",
       "      <td>suv</td>\n",
       "      <td>2004</td>\n",
       "      <td>auto</td>\n",
       "      <td>163</td>\n",
       "      <td>grand</td>\n",
       "      <td>125000</td>\n",
       "      <td>8</td>\n",
       "      <td>gasoline</td>\n",
       "      <td>jeep</td>\n",
       "      <td>NaN</td>\n",
       "      <td>2016-03-14 00:00:00</td>\n",
       "      <td>0</td>\n",
       "      <td>90480</td>\n",
       "      <td>2016-04-05 12:47:46</td>\n",
       "    </tr>\n",
       "    <tr>\n",
       "      <th>3</th>\n",
       "      <td>2016-03-17 16:54:04</td>\n",
       "      <td>1500</td>\n",
       "      <td>small</td>\n",
       "      <td>2001</td>\n",
       "      <td>manual</td>\n",
       "      <td>75</td>\n",
       "      <td>golf</td>\n",
       "      <td>150000</td>\n",
       "      <td>6</td>\n",
       "      <td>petrol</td>\n",
       "      <td>volkswagen</td>\n",
       "      <td>no</td>\n",
       "      <td>2016-03-17 00:00:00</td>\n",
       "      <td>0</td>\n",
       "      <td>91074</td>\n",
       "      <td>2016-03-17 17:40:17</td>\n",
       "    </tr>\n",
       "    <tr>\n",
       "      <th>4</th>\n",
       "      <td>2016-03-31 17:25:20</td>\n",
       "      <td>3600</td>\n",
       "      <td>small</td>\n",
       "      <td>2008</td>\n",
       "      <td>manual</td>\n",
       "      <td>69</td>\n",
       "      <td>fabia</td>\n",
       "      <td>90000</td>\n",
       "      <td>7</td>\n",
       "      <td>gasoline</td>\n",
       "      <td>skoda</td>\n",
       "      <td>no</td>\n",
       "      <td>2016-03-31 00:00:00</td>\n",
       "      <td>0</td>\n",
       "      <td>60437</td>\n",
       "      <td>2016-04-06 10:17:21</td>\n",
       "    </tr>\n",
       "  </tbody>\n",
       "</table>\n",
       "</div>"
      ],
      "text/plain": [
       "          date_crawled  price vehicle_type  registration_year gearbox  power  \\\n",
       "0  2016-03-24 11:52:17    480          NaN               1993  manual      0   \n",
       "1  2016-03-24 10:58:45  18300        coupe               2011  manual    190   \n",
       "2  2016-03-14 12:52:21   9800          suv               2004    auto    163   \n",
       "3  2016-03-17 16:54:04   1500        small               2001  manual     75   \n",
       "4  2016-03-31 17:25:20   3600        small               2008  manual     69   \n",
       "\n",
       "   model  kilometer  registration_month fuel_type       brand not_repaired  \\\n",
       "0   golf     150000                   0    petrol  volkswagen          NaN   \n",
       "1    NaN     125000                   5  gasoline        audi          yes   \n",
       "2  grand     125000                   8  gasoline        jeep          NaN   \n",
       "3   golf     150000                   6    petrol  volkswagen           no   \n",
       "4  fabia      90000                   7  gasoline       skoda           no   \n",
       "\n",
       "          date_created  number_of_pictures  postal_code            last_seen  \n",
       "0  2016-03-24 00:00:00                   0        70435  2016-04-07 03:16:57  \n",
       "1  2016-03-24 00:00:00                   0        66954  2016-04-07 01:46:50  \n",
       "2  2016-03-14 00:00:00                   0        90480  2016-04-05 12:47:46  \n",
       "3  2016-03-17 00:00:00                   0        91074  2016-03-17 17:40:17  \n",
       "4  2016-03-31 00:00:00                   0        60437  2016-04-06 10:17:21  "
      ]
     },
     "execution_count": 85,
     "metadata": {},
     "output_type": "execute_result"
    }
   ],
   "source": [
    "data.rename(columns={'DateCrawled': 'date_crawled','Price': 'price', 'VehicleType': 'vehicle_type',\n",
    "                    'RegistrationYear': 'registration_year', 'Gearbox':'gearbox', 'Power': 'power',\n",
    "                    'Model':'model', 'Kilometer': 'kilometer', 'RegistrationMonth': 'registration_month',\n",
    "                    'FuelType':'fuel_type', 'Brand':'brand', 'NotRepaired': 'not_repaired', 'DateCreated':\n",
    "                     'date_created', 'NumberOfPictures':'number_of_pictures', 'PostalCode': 'postal_code',\n",
    "                    'LastSeen':'last_seen'}, inplace=True)\n",
    "data.head()   # проверка переименования        "
   ]
  },
  {
   "cell_type": "markdown",
   "metadata": {},
   "source": [
    "### Фильтрация некорректных значений"
   ]
  },
  {
   "cell_type": "markdown",
   "metadata": {},
   "source": [
    "В датафрейме присутствуют данные с некорректными значениями признаков, например, год регистрации автомобиля превышает нынешний, аналогично с мощностью двигателя: кто-то продаёт ТС с 20000 л.с. - слишком мощно для земных колесниц."
   ]
  },
  {
   "cell_type": "markdown",
   "metadata": {},
   "source": [
    "**Ошибки в дате регистрации автомобиля**"
   ]
  },
  {
   "cell_type": "code",
   "execution_count": 86,
   "metadata": {},
   "outputs": [],
   "source": [
    "data = data[data['registration_year'] > 1920]   # делаем срез по годам регистрации, превышающим время начала распространения \n",
    "                                                # авто"
   ]
  },
  {
   "cell_type": "code",
   "execution_count": 87,
   "metadata": {},
   "outputs": [],
   "source": [
    "data['date_crawled'] = pd.to_datetime(data['date_crawled'], format = '%Y-%m-%d %H:%M:%S')\n",
    "\n",
    "data = data[data['registration_year'] <= data['date_crawled'].dt.year.max()]  # делаем срез по годам регистрации, \n",
    "# не превышающим последний год загрузки данных"
   ]
  },
  {
   "cell_type": "code",
   "execution_count": 88,
   "metadata": {},
   "outputs": [
    {
     "data": {
      "text/plain": [
       "<AxesSubplot:>"
      ]
     },
     "execution_count": 88,
     "metadata": {},
     "output_type": "execute_result"
    },
    {
     "data": {
      "image/png": "[encoded data removed]",
      "text/plain": [
       "<Figure size 432x288 with 1 Axes>"
      ]
     },
     "metadata": {
      "needs_background": "light"
     },
     "output_type": "display_data"
    }
   ],
   "source": [
    "data.boxplot('registration_year') # проверка фильтрации ошибок в году регистрации "
   ]
  },
  {
   "cell_type": "markdown",
   "metadata": {},
   "source": [
    "**Вывод**\n",
    "\n",
    "Медианное значение близко к началу 2000-х, а третий квартиль к 2007..."
   ]
  },
  {
   "cell_type": "markdown",
   "metadata": {},
   "source": [
    "**Ошибки в мощности двигателя автомобиля**"
   ]
  },
  {
   "cell_type": "code",
   "execution_count": 89,
   "metadata": {},
   "outputs": [],
   "source": [
    "data = data[data['power'] <= 1700] # делаем срез по мощностям двигателя, не превышающим макс. мощность самого крутого суперкара\n",
    "data = data[data['power'] > 10]    # делаем срез по мощностям двигателя, превышающим мин. мощность драндулета"
   ]
  },
  {
   "cell_type": "code",
   "execution_count": 90,
   "metadata": {},
   "outputs": [
    {
     "data": {
      "text/plain": [
       "<AxesSubplot:>"
      ]
     },
     "execution_count": 90,
     "metadata": {},
     "output_type": "execute_result"
    },
    {
     "data": {
      "image/png": "[encoded data removed]",
      "text/plain": [
       "<Figure size 432x288 with 1 Axes>"
      ]
     },
     "metadata": {
      "needs_background": "light"
     },
     "output_type": "display_data"
    }
   ],
   "source": [
    "data.boxplot('power') # проверка фильтрации ошибок в мощности двигателя"
   ]
  },
  {
   "cell_type": "markdown",
   "metadata": {},
   "source": [
    "**Вывод**\n",
    "\n",
    "Медианное значение мощности близка к 140 л.с., похоже на правду."
   ]
  },
  {
   "cell_type": "code",
   "execution_count": 91,
   "metadata": {},
   "outputs": [
    {
     "data": {
      "text/plain": [
       "array([[<AxesSubplot:title={'center':'price'}>]], dtype=object)"
      ]
     },
     "execution_count": 91,
     "metadata": {},
     "output_type": "execute_result"
    },
    {
     "data": {
      "image/png": "[encoded data removed]",
      "text/plain": [
       "<Figure size 432x288 with 1 Axes>"
      ]
     },
     "metadata": {
      "needs_background": "light"
     },
     "output_type": "display_data"
    }
   ],
   "source": [
    "data.hist('price',bins = 20)"
   ]
  },
  {
   "cell_type": "markdown",
   "metadata": {},
   "source": [
    "Видим, что около максимальное количество предложений находятся около 0, изучим эту область поподробнее.  "
   ]
  },
  {
   "cell_type": "code",
   "execution_count": 92,
   "metadata": {},
   "outputs": [
    {
     "data": {
      "text/plain": [
       "array([[<AxesSubplot:title={'center':'price'}>]], dtype=object)"
      ]
     },
     "execution_count": 92,
     "metadata": {},
     "output_type": "execute_result"
    },
    {
     "data": {
      "image/png": "[encoded data removed]",
      "text/plain": [
       "<Figure size 432x288 with 1 Axes>"
      ]
     },
     "metadata": {
      "needs_background": "light"
     },
     "output_type": "display_data"
    }
   ],
   "source": [
    "data.hist('price',bins = 20, range = (0,100))"
   ]
  },
  {
   "cell_type": "markdown",
   "metadata": {},
   "source": [
    "Оказывается, что в выборке присутствуют авто с нулевой стоимостью. Отфильтруем их."
   ]
  },
  {
   "cell_type": "code",
   "execution_count": 93,
   "metadata": {},
   "outputs": [
    {
     "data": {
      "text/plain": [
       "array([[<AxesSubplot:title={'center':'price'}>]], dtype=object)"
      ]
     },
     "execution_count": 93,
     "metadata": {},
     "output_type": "execute_result"
    },
    {
     "data": {
      "image/png": "[encoded data removed]",
      "text/plain": [
       "<Figure size 432x288 with 1 Axes>"
      ]
     },
     "metadata": {
      "needs_background": "light"
     },
     "output_type": "display_data"
    }
   ],
   "source": [
    "data = data[data['price'] > 5]\n",
    "data.hist('price',bins = 200, range = (0, 20000))"
   ]
  },
  {
   "cell_type": "markdown",
   "metadata": {},
   "source": [
    "<div class=\"alert alert-info\"> <b>Комментарий студента:</b> \n",
    "    \n",
    "**Вывод**\n",
    "\n",
    "Распределение стало похожим на Пуассоновское, что близко к реальной ситуации."
   ]
  },
  {
   "cell_type": "code",
   "execution_count": 94,
   "metadata": {},
   "outputs": [
    {
     "name": "stdout",
     "output_type": "stream",
     "text": [
      "<class 'pandas.core.frame.DataFrame'>\n",
      "Int64Index: 295858 entries, 1 to 354368\n",
      "Data columns (total 16 columns):\n",
      " #   Column              Non-Null Count   Dtype         \n",
      "---  ------              --------------   -----         \n",
      " 0   date_crawled        295858 non-null  datetime64[ns]\n",
      " 1   price               295858 non-null  int64         \n",
      " 2   vehicle_type        284943 non-null  object        \n",
      " 3   registration_year   295858 non-null  int64         \n",
      " 4   gearbox             290525 non-null  object        \n",
      " 5   power               295858 non-null  int64         \n",
      " 6   model               284868 non-null  object        \n",
      " 7   kilometer           295858 non-null  int64         \n",
      " 8   registration_month  295858 non-null  int64         \n",
      " 9   fuel_type           280416 non-null  object        \n",
      " 10  brand               295858 non-null  object        \n",
      " 11  not_repaired        253136 non-null  object        \n",
      " 12  date_created        295858 non-null  object        \n",
      " 13  number_of_pictures  295858 non-null  int64         \n",
      " 14  postal_code         295858 non-null  int64         \n",
      " 15  last_seen           295858 non-null  object        \n",
      "dtypes: datetime64[ns](1), int64(7), object(8)\n",
      "memory usage: 38.4+ MB\n"
     ]
    }
   ],
   "source": [
    "data.info()                       # проверка кол-ва объектов после фильтрации"
   ]
  },
  {
   "cell_type": "markdown",
   "metadata": {},
   "source": [
    "### Обработка пропусков"
   ]
  },
  {
   "cell_type": "markdown",
   "metadata": {},
   "source": [
    "В данных всё ещё много пропусков в признаках, однако все эти пропуски находятся в категориальных признаках. Эти признаки мы должны перевести в числовой тип данных. Последующий способ перевода подразумевает перевод пропусков в отдельную категорию."
   ]
  },
  {
   "cell_type": "markdown",
   "metadata": {},
   "source": [
    "### Перевод категориальных признаков в числовой тип данных"
   ]
  },
  {
   "cell_type": "code",
   "execution_count": 95,
   "metadata": {},
   "outputs": [
    {
     "name": "stdout",
     "output_type": "stream",
     "text": [
      "<class 'pandas.core.frame.DataFrame'>\n",
      "Int64Index: 295858 entries, 1 to 354368\n",
      "Data columns (total 16 columns):\n",
      " #   Column              Non-Null Count   Dtype         \n",
      "---  ------              --------------   -----         \n",
      " 0   date_crawled        295858 non-null  datetime64[ns]\n",
      " 1   price               295858 non-null  int64         \n",
      " 2   vehicle_type        295858 non-null  int32         \n",
      " 3   registration_year   295858 non-null  int64         \n",
      " 4   gearbox             295858 non-null  int32         \n",
      " 5   power               295858 non-null  int64         \n",
      " 6   model               295858 non-null  int32         \n",
      " 7   kilometer           295858 non-null  int64         \n",
      " 8   registration_month  295858 non-null  int64         \n",
      " 9   fuel_type           295858 non-null  int32         \n",
      " 10  brand               295858 non-null  int32         \n",
      " 11  not_repaired        295858 non-null  int32         \n",
      " 12  date_created        295858 non-null  object        \n",
      " 13  number_of_pictures  295858 non-null  int64         \n",
      " 14  postal_code         295858 non-null  int64         \n",
      " 15  last_seen           295858 non-null  object        \n",
      "dtypes: datetime64[ns](1), int32(6), int64(7), object(2)\n",
      "memory usage: 31.6+ MB\n"
     ]
    }
   ],
   "source": [
    "lbl = preprocessing.LabelEncoder()              \n",
    "\n",
    "data['vehicle_type'] = lbl.fit_transform(data['vehicle_type'].astype(str)) #\n",
    "data['gearbox'] = lbl.fit_transform(data['gearbox'].astype(str))           # перевод категориальных признаков с типом данных\n",
    "data['model'] = lbl.fit_transform(data['model'].astype(str))               # object в числовой тип данных. Каждому уникальному\n",
    "data['fuel_type'] = lbl.fit_transform(data['fuel_type'].astype(str))       # значению категориального признака ставится в соот-\n",
    "data['brand'] = lbl.fit_transform(data['brand'].astype(str))               # ветствие число.\n",
    "data['not_repaired'] = lbl.fit_transform(data['not_repaired'].astype(str)) #\n",
    "\n",
    "data.info()                        # проверка изменения типа категориальных данных"
   ]
  },
  {
   "cell_type": "markdown",
   "metadata": {},
   "source": [
    "**Вывод**\n",
    "\n",
    "Все категориальные признаки переведены в числовой формат. Признаки принимают значение от 0 до N, где N - число исходных уникальных значений категориальных признаков. Кроме того, такая кодировка позволяет решить проблему с пропусками: она их определяет в отдельную категорию."
   ]
  },
  {
   "cell_type": "markdown",
   "metadata": {},
   "source": [
    "## Обучение моделей"
   ]
  },
  {
   "cell_type": "markdown",
   "metadata": {},
   "source": [
    "### Разделение исходных данных на выборки"
   ]
  },
  {
   "cell_type": "code",
   "execution_count": 96,
   "metadata": {},
   "outputs": [],
   "source": [
    "data_train_valid, data_test = train_test_split(                  #  разделяем данные на тестовую выборку и оставшуюся                                 \n",
    "    data, test_size=0.2, random_state=12345)                     #\n",
    "\n",
    "features_test = data_test.drop(                                                                                        #                                       #\n",
    "        ['price','date_created','date_crawled','number_of_pictures', 'postal_code','last_seen', 'registration_month'], #\n",
    "        axis=1)                                                                                                        #\n",
    "target_test = data_test.price                                                                                          #\n",
    "#  выделили целевой признак и признаки в тестовой выборке, выделяем только те признаки, что по логике влияют на цену авто   \n",
    "\n",
    "#######################################################################################################################\n",
    "features_train, features_valid, target_train, target_valid = train_test_split(                                        # \n",
    "    data_train_valid.drop(                                                                                                        #\n",
    "        ['price','date_created','date_crawled','number_of_pictures', 'postal_code','last_seen', 'registration_month'],# \n",
    "        axis=1), data_train_valid.price, test_size=0.25, random_state=12345)                                                      #\n",
    "#######################################################################################################################\n",
    "# создаём из оставшейся выборки - обучающую и валидационную, выделяем только те признаки, что по логике влияют на цену \n",
    "# авто, выделяем целевой признак"
   ]
  },
  {
   "cell_type": "markdown",
   "metadata": {},
   "source": [
    "### Масштабирование признаков"
   ]
  },
  {
   "cell_type": "code",
   "execution_count": 97,
   "metadata": {},
   "outputs": [],
   "source": [
    "scaler = StandardScaler()\n",
    "scaler.fit(features_train)                        # обучаем стандартизатор, он вычисляет дисперсию и среднее и использует их\n",
    "                                                  # при масштабировании\n",
    "features_train = scaler.transform(features_train) # масштабируем признаки обучающей выборки\n",
    "features_valid = scaler.transform(features_valid) # масштабируем признаки валидационной выборки"
   ]
  },
  {
   "cell_type": "markdown",
   "metadata": {},
   "source": [
    "### Модель LGBM"
   ]
  },
  {
   "cell_type": "code",
   "execution_count": 98,
   "metadata": {},
   "outputs": [
    {
     "name": "stdout",
     "output_type": "stream",
     "text": [
      "Корень среднего квадратического отклонения: 1699.5553584450204\n"
     ]
    }
   ],
   "source": [
    "model_LGBM = ltb.LGBMRegressor(random_state='12345')            # выбор модели с гиперпараметром random_state\n",
    "\n",
    "model_LGBM.fit(features_train, target_train)                    # обучение модели\n",
    "\n",
    "pred_valid = model_LGBM.predict(features_valid)                 # построение предсказаний\n",
    "RMSE = (mean_squared_error(target_valid, pred_valid)) ** 0.5    # вычисление RMSE\n",
    "print('Корень среднего квадратического отклонения:', RMSE)"
   ]
  },
  {
   "cell_type": "markdown",
   "metadata": {},
   "source": [
    "### LGBM c изменённой глубиной дерева"
   ]
  },
  {
   "cell_type": "markdown",
   "metadata": {},
   "source": [
    "По умолчанию в модели нет ограничений на глубину дерева, попробуем это исправить и посмотреть, как это скажется на точности."
   ]
  },
  {
   "cell_type": "code",
   "execution_count": 99,
   "metadata": {},
   "outputs": [
    {
     "name": "stdout",
     "output_type": "stream",
     "text": [
      "Корень среднего квадратического отклонения для глубины дерева 13: 1699.031527057152\n"
     ]
    }
   ],
   "source": [
    "RMSE_best = 10000\n",
    "for depth in range(1,16):\n",
    "    model_LGBM_depth = ltb.LGBMRegressor(max_depth = depth, random_state='12345')\n",
    "\n",
    "    model_LGBM_depth.fit(features_train, target_train)\n",
    "\n",
    "    pred_valid = model_LGBM_depth.predict(features_valid)\n",
    "    RMSE = (mean_squared_error(target_valid, pred_valid)) ** 0.5\n",
    "    if RMSE < RMSE_best:\n",
    "        model_LGBM_depth_best = model_LGBM_depth\n",
    "        best_depth = depth\n",
    "        RMSE_best = RMSE\n",
    "print(f'Корень среднего квадратического отклонения для глубины дерева {best_depth}:', RMSE_best)"
   ]
  },
  {
   "cell_type": "markdown",
   "metadata": {},
   "source": [
    "**Вывод**\n",
    "\n",
    "Метрика качества улучшилась при ограничении глубины дерева, видимо модель по умолчанию сильно разрастается в глубину."
   ]
  },
  {
   "cell_type": "markdown",
   "metadata": {},
   "source": [
    "### LGBM c изменённой глубиной дерева и количеством листьев\n"
   ]
  },
  {
   "cell_type": "code",
   "execution_count": 100,
   "metadata": {},
   "outputs": [
    {
     "name": "stdout",
     "output_type": "stream",
     "text": [
      "Корень среднего квадратического отклонения с макс. количеством листьев 1009: 1552.005298968338\n"
     ]
    }
   ],
   "source": [
    "RMSE_best = 10000\n",
    "for leaves in range(1000,1010):\n",
    "    model_LGBM_depth_leaves = ltb.LGBMRegressor(max_depth=13, num_leaves = leaves, random_state='12345')\n",
    "\n",
    "    model_LGBM_depth_leaves.fit(features_train, target_train)\n",
    "\n",
    "    pred_valid = model_LGBM_depth_leaves.predict(features_valid)\n",
    "    RMSE = (mean_squared_error(target_valid, pred_valid)) ** 0.5\n",
    "    if RMSE < RMSE_best:\n",
    "        model_LGBM_depth_leaves_best = model_LGBM_depth_leaves\n",
    "        best_leaves = leaves\n",
    "        RMSE_best = RMSE\n",
    "print(f'Корень среднего квадратического отклонения с макс. количеством листьев {best_leaves}:', RMSE_best)"
   ]
  },
  {
   "cell_type": "markdown",
   "metadata": {},
   "source": [
    "### LGBM c изменённой глубиной дерева, количеством  листьев и скоростью обучения"
   ]
  },
  {
   "cell_type": "code",
   "execution_count": 101,
   "metadata": {},
   "outputs": [
    {
     "name": "stdout",
     "output_type": "stream",
     "text": [
      "Корень среднего квадратического отклонения со скоростью обучения 0.15000000000000002: 1551.5652026349126\n"
     ]
    }
   ],
   "source": [
    "RMSE_best = 10000\n",
    "for rate in np.arange(0.05,1,0.05):\n",
    "    model_LGBM_depth_rate = ltb.LGBMRegressor(max_depth=13, num_leaves = 1009, learning_rate = rate, random_state='12345')\n",
    "\n",
    "    model_LGBM_depth_rate.fit(features_train, target_train)\n",
    "\n",
    "    pred_valid = model_LGBM_depth_rate.predict(features_valid)\n",
    "    RMSE = (mean_squared_error(target_valid, pred_valid)) ** 0.5\n",
    "    if RMSE < RMSE_best:\n",
    "        model_LGBM_depth_rate_best = model_LGBM_depth_rate\n",
    "        best_rate = rate\n",
    "        RMSE_best = RMSE\n",
    "print(f'Корень среднего квадратического отклонения со скоростью обучения {best_rate}:', RMSE_best)\n"
   ]
  },
  {
   "cell_type": "markdown",
   "metadata": {},
   "source": [
    "### Заполнение простым средним"
   ]
  },
  {
   "cell_type": "code",
   "execution_count": 102,
   "metadata": {},
   "outputs": [
    {
     "name": "stdout",
     "output_type": "stream",
     "text": [
      "Корень среднего квадратического отклонения: 4604.371279787227\n"
     ]
    }
   ],
   "source": [
    "mean = target_train.mean()\n",
    "pred_valid = np.ones(len(target_valid)) * mean\n",
    "RMSE = (mean_squared_error(target_valid, pred_valid)) ** 0.5\n",
    "print('Корень среднего квадратического отклонения:', RMSE)"
   ]
  },
  {
   "cell_type": "markdown",
   "metadata": {},
   "source": [
    "### Модель случайного леса"
   ]
  },
  {
   "cell_type": "code",
   "execution_count": 103,
   "metadata": {},
   "outputs": [
    {
     "name": "stdout",
     "output_type": "stream",
     "text": [
      "Корень среднего квадратического отклонения: 1605.5662822787483\n"
     ]
    }
   ],
   "source": [
    "model_forest = RandomForestRegressor(random_state=12345)\n",
    "model_forest.fit(features_train, target_train)\n",
    "pred_valid = model_forest.predict(features_valid)\n",
    "RMSE = (mean_squared_error(target_valid, pred_valid)) ** 0.5\n",
    "print('Корень среднего квадратического отклонения:', RMSE)"
   ]
  },
  {
   "cell_type": "markdown",
   "metadata": {},
   "source": [
    "### Модель линейной регрессии"
   ]
  },
  {
   "cell_type": "code",
   "execution_count": 104,
   "metadata": {},
   "outputs": [
    {
     "name": "stdout",
     "output_type": "stream",
     "text": [
      "Корень среднего квадратического отклонения: 3158.7199930863912\n"
     ]
    }
   ],
   "source": [
    "model_regression = LinearRegression()\n",
    "model_regression.fit(features_train, target_train)\n",
    "pred_valid = model_regression.predict(features_valid) \n",
    "RMSE = (mean_squared_error(target_valid, pred_valid)) ** 0.5\n",
    "print('Корень среднего квадратического отклонения:', RMSE)"
   ]
  },
  {
   "cell_type": "markdown",
   "metadata": {},
   "source": [
    "## Анализ моделей"
   ]
  },
  {
   "cell_type": "markdown",
   "metadata": {},
   "source": [
    "### Модель LGBM"
   ]
  },
  {
   "cell_type": "code",
   "execution_count": 105,
   "metadata": {},
   "outputs": [
    {
     "name": "stdout",
     "output_type": "stream",
     "text": [
      "Wall time: 992 ms\n"
     ]
    },
    {
     "data": {
      "text/plain": [
       "LGBMRegressor(random_state='12345')"
      ]
     },
     "execution_count": 105,
     "metadata": {},
     "output_type": "execute_result"
    }
   ],
   "source": [
    "%%time                                       \n",
    "# вычисление времени исполнения кода\n",
    "\n",
    "model_LGBM.fit(features_train, target_train)"
   ]
  },
  {
   "cell_type": "code",
   "execution_count": 106,
   "metadata": {},
   "outputs": [
    {
     "name": "stdout",
     "output_type": "stream",
     "text": [
      "Wall time: 168 ms\n"
     ]
    }
   ],
   "source": [
    "%%time\n",
    "\n",
    "pred_valid = model_LGBM.predict(features_valid)"
   ]
  },
  {
   "cell_type": "markdown",
   "metadata": {},
   "source": [
    "### Модель LGBM с изменённой глубиной дерева"
   ]
  },
  {
   "cell_type": "code",
   "execution_count": 107,
   "metadata": {},
   "outputs": [
    {
     "name": "stdout",
     "output_type": "stream",
     "text": [
      "Wall time: 916 ms\n"
     ]
    },
    {
     "data": {
      "text/plain": [
       "LGBMRegressor(max_depth=13, random_state='12345')"
      ]
     },
     "execution_count": 107,
     "metadata": {},
     "output_type": "execute_result"
    }
   ],
   "source": [
    "%%time\n",
    "\n",
    "model_LGBM_depth_best.fit(features_train, target_train)"
   ]
  },
  {
   "cell_type": "code",
   "execution_count": 108,
   "metadata": {},
   "outputs": [
    {
     "name": "stdout",
     "output_type": "stream",
     "text": [
      "Wall time: 164 ms\n"
     ]
    }
   ],
   "source": [
    "%%time\n",
    "\n",
    "pred_valid = model_LGBM_depth_best.predict(features_valid)"
   ]
  },
  {
   "cell_type": "markdown",
   "metadata": {},
   "source": [
    "### LGBM c изменённой глубиной дерева и количеством листьев"
   ]
  },
  {
   "cell_type": "code",
   "execution_count": 109,
   "metadata": {},
   "outputs": [
    {
     "name": "stdout",
     "output_type": "stream",
     "text": [
      "Wall time: 3.88 s\n"
     ]
    },
    {
     "data": {
      "text/plain": [
       "LGBMRegressor(max_depth=13, num_leaves=1009, random_state='12345')"
      ]
     },
     "execution_count": 109,
     "metadata": {},
     "output_type": "execute_result"
    }
   ],
   "source": [
    "%%time\n",
    "\n",
    "model_LGBM_depth_leaves_best.fit(features_train, target_train)"
   ]
  },
  {
   "cell_type": "code",
   "execution_count": 110,
   "metadata": {},
   "outputs": [
    {
     "name": "stdout",
     "output_type": "stream",
     "text": [
      "Wall time: 528 ms\n"
     ]
    }
   ],
   "source": [
    "%%time\n",
    "\n",
    "pred_valid = model_LGBM_depth_leaves_best.predict(features_valid)"
   ]
  },
  {
   "cell_type": "markdown",
   "metadata": {},
   "source": [
    "### LGBM c изменённой глубиной дерева, количеством  листьев и скоростью обучения"
   ]
  },
  {
   "cell_type": "code",
   "execution_count": 111,
   "metadata": {},
   "outputs": [
    {
     "name": "stdout",
     "output_type": "stream",
     "text": [
      "Wall time: 3.22 s\n"
     ]
    },
    {
     "data": {
      "text/plain": [
       "LGBMRegressor(learning_rate=0.15000000000000002, max_depth=13, num_leaves=1009,\n",
       "              random_state='12345')"
      ]
     },
     "execution_count": 111,
     "metadata": {},
     "output_type": "execute_result"
    }
   ],
   "source": [
    "%%time\n",
    "\n",
    "model_LGBM_depth_rate_best.fit(features_train, target_train)"
   ]
  },
  {
   "cell_type": "code",
   "execution_count": 112,
   "metadata": {},
   "outputs": [
    {
     "name": "stdout",
     "output_type": "stream",
     "text": [
      "Wall time: 490 ms\n"
     ]
    }
   ],
   "source": [
    "%%time\n",
    "\n",
    "pred_valid = model_LGBM_depth_rate_best.predict(features_valid)"
   ]
  },
  {
   "cell_type": "markdown",
   "metadata": {},
   "source": [
    "### Модель случайного леса"
   ]
  },
  {
   "cell_type": "code",
   "execution_count": 113,
   "metadata": {},
   "outputs": [
    {
     "name": "stdout",
     "output_type": "stream",
     "text": [
      "Wall time: 1min 25s\n"
     ]
    },
    {
     "data": {
      "text/plain": [
       "RandomForestRegressor(random_state=12345)"
      ]
     },
     "execution_count": 113,
     "metadata": {},
     "output_type": "execute_result"
    }
   ],
   "source": [
    "%%time\n",
    "\n",
    "model_forest.fit(features_train, target_train)"
   ]
  },
  {
   "cell_type": "code",
   "execution_count": 114,
   "metadata": {},
   "outputs": [
    {
     "name": "stdout",
     "output_type": "stream",
     "text": [
      "Wall time: 3.13 s\n"
     ]
    }
   ],
   "source": [
    "%%time\n",
    "\n",
    "pred_valid = model_forest.predict(features_valid)"
   ]
  },
  {
   "cell_type": "markdown",
   "metadata": {},
   "source": [
    "### Модель линейной регрессии"
   ]
  },
  {
   "cell_type": "code",
   "execution_count": 115,
   "metadata": {},
   "outputs": [
    {
     "name": "stdout",
     "output_type": "stream",
     "text": [
      "Wall time: 80.3 ms\n"
     ]
    },
    {
     "data": {
      "text/plain": [
       "LinearRegression()"
      ]
     },
     "execution_count": 115,
     "metadata": {},
     "output_type": "execute_result"
    }
   ],
   "source": [
    "%%time\n",
    "\n",
    "model_regression.fit(features_train, target_train)"
   ]
  },
  {
   "cell_type": "code",
   "execution_count": 116,
   "metadata": {},
   "outputs": [
    {
     "name": "stdout",
     "output_type": "stream",
     "text": [
      "Wall time: 2 ms\n"
     ]
    }
   ],
   "source": [
    "%%time\n",
    "\n",
    "pred_valid = model_regression.predict(features_valid)"
   ]
  },
  {
   "cell_type": "markdown",
   "metadata": {},
   "source": [
    "**Вывод**\n",
    "\n",
    "Модели LGBM показывают хорошие метрики качества, на уровне модели случайного леса, однако процесс обучения и предсказания происходит гораздо быстрее. Путём варьирования гиперпараметров можно добиться уточнения модели LGBM. Качество модели будет даже превышать качество случайного леса, а скорость обучения при этом упадёт, но всё равно будет заметно выше. \n",
    "\n",
    "Самой лучшей метрикой обладает модель LGBM с оптимальным ограничением глубины деревьев, количества листьев и оптимальной скоростю обучения.\n",
    "\n",
    "Самым быстрым методом является линейная регрессия, но качество предсказаний оставляет желать лучшего."
   ]
  },
  {
   "cell_type": "markdown",
   "metadata": {},
   "source": [
    "### Тест лучшей модели"
   ]
  },
  {
   "cell_type": "code",
   "execution_count": 117,
   "metadata": {},
   "outputs": [
    {
     "name": "stdout",
     "output_type": "stream",
     "text": [
      "Корень среднего квадратического отклонения лучшей модели на тестовой выборке: 1527.5180636338787\n"
     ]
    }
   ],
   "source": [
    "features_train_valid = data_train_valid.drop(                                                                         #                              #\n",
    "        ['price','date_created','date_crawled','number_of_pictures', 'postal_code','last_seen', 'registration_month'],# \n",
    "        axis=1)                                                                                                       #\n",
    "target_train_valid = data_train_valid.price                                                                           # \n",
    "############## Используем для обучения лучшей модели и обучающую и валидационную выборки ##############################\n",
    "\n",
    "model_LGBM_depth_rate_best.fit(features_train_valid, target_train_valid)\n",
    "\n",
    "pred_test = model_LGBM_depth_rate_best.predict(features_test)\n",
    "\n",
    "RMSE = (mean_squared_error(target_test, pred_test)) ** 0.5\n",
    "print('Корень среднего квадратического отклонения лучшей модели на тестовой выборке:', RMSE)"
   ]
  },
  {
   "cell_type": "markdown",
   "metadata": {},
   "source": [
    "## Общий вывод\n",
    "\n",
    "В данной работе нам пришлось работать с датафреймом, требующим предварительной обработки перед тем, кам обучать на нём модели. В первую очередь, были определены признаки, которые не должны влиять на стоимость авто. Затем признаки, влияющие на стоимость авто (мощность двигателя, год регистрации) были отфильрованы от некорректных значений.\n",
    "\n",
    "На следующем этапе категориальные признаки были переведены в числовой тип данных. Методом LabelEncoder() была решена и проблема пропусков: они были записаны в отдельную категорию. \n",
    "\n",
    "Дальнейшим этапом стало масштабирование признаков. Поскольку некоторые методы оказываются чувствительны к масшабированию, а некоторые нет, то при сравнении различных методов лучше перестраховаться и его выполнить.\n",
    "\n",
    "Далее была рассмотрена модель LGBM: были построены 4 модели\n",
    "- по-умолчанию\n",
    "- с оптимальным ограничением глубины деревьев\n",
    "- с оптимальным ограничением глубины деревьев и количества листьев\n",
    "- с оптимальным ограничением глубины деревьев, количества листьев и оптимальной скоростю обучения\n",
    "\n",
    "Для сравнения рассмотрены модели случайного леса, регрессии и заполнение средним. Метрикой качества выступала RMSE. Кроме того, важным параметром являлась скорость обучения и предсказания результата. \n",
    "\n",
    " **RMSE**\n",
    " \n",
    "- LGBM по-умолчанию:      1700\n",
    "- LGBM с оптимальным ограничением глубины деревьев: 1699\n",
    "- LGBM с оптимальным ограничением глубины деревьев и количества листьев: 1552\n",
    "- LGBM с оптимальным ограничением глубины деревьев, количества листьев и оптимальной скоростю обучения:  1552\n",
    "- случайный лес: 1606\n",
    "- линейная регрессия: 3159\n",
    "- заполнение средним: 4604\n",
    "\n",
    "Как видно из результатов модель LGBM по качеству близка к модели случайного леса. Что касается гиперпараметров модели, то существенной влияние оказало ограничение максимального количества листьев, в то время как ограничение максимальной глубины не повлияло на точность. Оптимальной скоростью обучения оказалась, скорость 0.15\n",
    "\n",
    "**Скорость обучения и предсказания**\n",
    "\n",
    "- LGBM по-умолчанию:       1 s + 167 ms\n",
    "- LGBM с оптимальным ограничением глубины деревьев: 936 ms + 158 ms\n",
    "- LGBM с оптимальным ограничением глубины деревьев и количества листьев:  3.93 s +  525 ms\n",
    "- LGBM с оптимальным ограничением глубины деревьев, количества листьев и оптимальной скоростю обучения: 3.38 s + 491 ms\n",
    "- случайный лес: 1min 31s + 3.21 s\n",
    "- линейная регрессия: 83.3 ms + 3 ms\n",
    "\n",
    "Самой быстрой является линейная регрессия, но и результат соответсвтующий. LGBM по скорости обучения и предсказания обходит модель случайного леса более чем в 25 раз! Вспоминая, что RMSE у них близкие, можно сделать вывод: если результат примерно одинаковый, зачем ждать его дольше. Кроме того, изменение скорости обучения в модели LGBM с 0.1 до 0.15 вылилось в уменьшении времени обучения и построения предсказаний.\n",
    "\n",
    "Финальная проверка лучшей модели LGBM с оптимальным ограничением глубины деревьев, количества листьев и оптимальной скоростю обучения на тестовой выборке показала RMSE: 1528  "
   ]
  },
  {
   "cell_type": "markdown",
   "metadata": {},
   "source": [
    "## Чек-лист проверки"
   ]
  },
  {
   "cell_type": "markdown",
   "metadata": {},
   "source": [
    "Поставьте 'x' в выполненных пунктах. Далее нажмите Shift+Enter."
   ]
  },
  {
   "cell_type": "markdown",
   "metadata": {},
   "source": [
    "- [x]  Jupyter Notebook открыт\n",
    "- [x]  Весь код выполняется без ошибок\n",
    "- [x]  Ячейки с кодом расположены в порядке исполнения\n",
    "- [x]  Выполнена загрузка и подготовка данных\n",
    "- [x]  Выполнено обучение моделей\n",
    "- [x]  Есть анализ скорости работы и качества моделей"
   ]
  }
 ],
 "metadata": {
  "ExecuteTimeLog": [
   {
    "duration": 53,
    "start_time": "2022-05-20T15:04:20.488Z"
   },
   {
    "duration": 562,
    "start_time": "2022-05-20T15:04:23.770Z"
   },
   {
    "duration": 2631,
    "start_time": "2022-05-20T15:04:28.787Z"
   },
   {
    "duration": 129,
    "start_time": "2022-05-20T15:04:44.362Z"
   },
   {
    "duration": 18,
    "start_time": "2022-05-20T15:05:19.514Z"
   },
   {
    "duration": 127,
    "start_time": "2022-05-20T15:07:49.162Z"
   },
   {
    "duration": 27,
    "start_time": "2022-05-20T15:15:54.635Z"
   },
   {
    "duration": 936,
    "start_time": "2022-05-20T15:16:00.723Z"
   },
   {
    "duration": 226,
    "start_time": "2022-05-20T15:16:04.221Z"
   },
   {
    "duration": 236,
    "start_time": "2022-05-20T15:17:26.528Z"
   },
   {
    "duration": 2,
    "start_time": "2022-05-20T15:35:08.559Z"
   },
   {
    "duration": 210,
    "start_time": "2022-05-20T15:35:12.624Z"
   },
   {
    "duration": 317,
    "start_time": "2022-05-20T15:36:36.582Z"
   },
   {
    "duration": 56,
    "start_time": "2022-05-21T05:15:18.174Z"
   },
   {
    "duration": 964,
    "start_time": "2022-05-21T05:15:21.668Z"
   },
   {
    "duration": 3121,
    "start_time": "2022-05-21T05:15:28.213Z"
   },
   {
    "duration": 127,
    "start_time": "2022-05-21T05:15:34.220Z"
   },
   {
    "duration": 25,
    "start_time": "2022-05-21T05:15:36.868Z"
   },
   {
    "duration": 383,
    "start_time": "2022-05-21T05:15:39.076Z"
   },
   {
    "duration": 338,
    "start_time": "2022-05-21T05:16:07.542Z"
   },
   {
    "duration": 250,
    "start_time": "2022-05-21T05:17:26.664Z"
   },
   {
    "duration": 175,
    "start_time": "2022-05-21T05:17:50.887Z"
   },
   {
    "duration": 109,
    "start_time": "2022-05-21T05:18:14.043Z"
   },
   {
    "duration": 100,
    "start_time": "2022-05-21T05:18:22.380Z"
   },
   {
    "duration": 10,
    "start_time": "2022-05-21T06:12:23.870Z"
   },
   {
    "duration": 168,
    "start_time": "2022-05-21T06:13:34.578Z"
   },
   {
    "duration": 451,
    "start_time": "2022-05-21T06:15:05.285Z"
   },
   {
    "duration": 177,
    "start_time": "2022-05-21T06:15:26.963Z"
   },
   {
    "duration": 174,
    "start_time": "2022-05-21T06:17:10.295Z"
   },
   {
    "duration": 37,
    "start_time": "2022-05-21T06:17:16.500Z"
   },
   {
    "duration": 4,
    "start_time": "2022-05-21T06:17:42.772Z"
   },
   {
    "duration": 33,
    "start_time": "2022-05-21T06:18:19.580Z"
   },
   {
    "duration": 154,
    "start_time": "2022-05-21T06:20:21.975Z"
   },
   {
    "duration": 1800,
    "start_time": "2022-05-21T06:20:30.304Z"
   },
   {
    "duration": 13,
    "start_time": "2022-05-21T06:21:19.670Z"
   },
   {
    "duration": 22,
    "start_time": "2022-05-21T06:23:34.471Z"
   },
   {
    "duration": 3,
    "start_time": "2022-05-21T06:23:54.885Z"
   },
   {
    "duration": 8,
    "start_time": "2022-05-21T06:24:03.064Z"
   },
   {
    "duration": 793,
    "start_time": "2022-05-21T06:24:27.499Z"
   },
   {
    "duration": 21,
    "start_time": "2022-05-21T06:24:52.763Z"
   },
   {
    "duration": 27,
    "start_time": "2022-05-21T06:25:36.621Z"
   },
   {
    "duration": 29,
    "start_time": "2022-05-21T06:27:29.088Z"
   },
   {
    "duration": 22,
    "start_time": "2022-05-21T06:27:38.202Z"
   },
   {
    "duration": 45,
    "start_time": "2022-05-21T06:31:21.339Z"
   },
   {
    "duration": 26,
    "start_time": "2022-05-21T06:31:29.183Z"
   },
   {
    "duration": 21,
    "start_time": "2022-05-21T06:31:37.415Z"
   },
   {
    "duration": 154,
    "start_time": "2022-05-21T06:31:42.102Z"
   },
   {
    "duration": 16,
    "start_time": "2022-05-21T06:32:18.094Z"
   },
   {
    "duration": 22,
    "start_time": "2022-05-21T06:32:39.412Z"
   },
   {
    "duration": 759,
    "start_time": "2022-05-21T06:32:43.520Z"
   },
   {
    "duration": 27,
    "start_time": "2022-05-21T06:32:46.685Z"
   },
   {
    "duration": 27,
    "start_time": "2022-05-21T06:32:49.484Z"
   },
   {
    "duration": 1504,
    "start_time": "2022-05-21T06:33:03.610Z"
   },
   {
    "duration": 1232,
    "start_time": "2022-05-21T06:37:15.275Z"
   },
   {
    "duration": 1187,
    "start_time": "2022-05-21T06:38:07.767Z"
   },
   {
    "duration": 910,
    "start_time": "2022-05-21T06:38:41.967Z"
   },
   {
    "duration": 151,
    "start_time": "2022-05-21T06:39:32.416Z"
   },
   {
    "duration": 1308,
    "start_time": "2022-05-31T04:07:14.716Z"
   },
   {
    "duration": 976,
    "start_time": "2022-05-31T04:07:17.544Z"
   },
   {
    "duration": 111,
    "start_time": "2022-05-31T04:07:19.597Z"
   },
   {
    "duration": 22,
    "start_time": "2022-05-31T04:07:21.159Z"
   },
   {
    "duration": 16,
    "start_time": "2022-05-31T04:07:49.641Z"
   },
   {
    "duration": 194,
    "start_time": "2022-05-31T04:08:11.446Z"
   },
   {
    "duration": 453,
    "start_time": "2022-05-31T04:08:24.225Z"
   },
   {
    "duration": 93,
    "start_time": "2022-05-31T04:08:32.119Z"
   },
   {
    "duration": 404,
    "start_time": "2022-05-31T04:08:55.885Z"
   },
   {
    "duration": 102,
    "start_time": "2022-05-31T04:09:00.092Z"
   },
   {
    "duration": 531,
    "start_time": "2022-05-31T04:17:48.384Z"
   },
   {
    "duration": 78,
    "start_time": "2022-05-31T04:20:14.541Z"
   },
   {
    "duration": 51,
    "start_time": "2022-05-31T04:20:30.367Z"
   },
   {
    "duration": 110,
    "start_time": "2022-05-31T04:31:31.670Z"
   },
   {
    "duration": 5,
    "start_time": "2022-05-31T04:31:36.350Z"
   },
   {
    "duration": 5,
    "start_time": "2022-05-31T04:31:41.717Z"
   },
   {
    "duration": 52,
    "start_time": "2022-06-01T13:29:29.064Z"
   },
   {
    "duration": 1792,
    "start_time": "2022-06-01T13:29:34.401Z"
   },
   {
    "duration": 793,
    "start_time": "2022-06-01T13:29:36.196Z"
   },
   {
    "duration": 114,
    "start_time": "2022-06-01T13:29:36.990Z"
   },
   {
    "duration": 29,
    "start_time": "2022-06-01T13:29:37.106Z"
   },
   {
    "duration": 14,
    "start_time": "2022-06-01T13:29:37.136Z"
   },
   {
    "duration": 110,
    "start_time": "2022-06-01T13:29:37.152Z"
   },
   {
    "duration": 55,
    "start_time": "2022-06-01T13:29:42.163Z"
   },
   {
    "duration": 158,
    "start_time": "2022-06-01T13:29:54.458Z"
   },
   {
    "duration": 126,
    "start_time": "2022-06-01T13:30:01.498Z"
   },
   {
    "duration": 34,
    "start_time": "2022-06-01T13:30:31.218Z"
   },
   {
    "duration": 289,
    "start_time": "2022-06-01T13:30:44.177Z"
   },
   {
    "duration": 4,
    "start_time": "2022-06-01T13:30:58.387Z"
   },
   {
    "duration": 735,
    "start_time": "2022-06-01T13:30:58.393Z"
   },
   {
    "duration": 111,
    "start_time": "2022-06-01T13:30:59.130Z"
   },
   {
    "duration": 17,
    "start_time": "2022-06-01T13:30:59.242Z"
   },
   {
    "duration": 21,
    "start_time": "2022-06-01T13:30:59.261Z"
   },
   {
    "duration": 93,
    "start_time": "2022-06-01T13:30:59.284Z"
   },
   {
    "duration": 185,
    "start_time": "2022-06-01T13:31:01.944Z"
   },
   {
    "duration": 23,
    "start_time": "2022-06-01T13:31:12.926Z"
   },
   {
    "duration": 33,
    "start_time": "2022-06-01T13:31:52.534Z"
   },
   {
    "duration": 14,
    "start_time": "2022-06-01T13:31:59.476Z"
   },
   {
    "duration": 24,
    "start_time": "2022-06-01T13:34:03.263Z"
   },
   {
    "duration": 18,
    "start_time": "2022-06-01T13:35:40.899Z"
   },
   {
    "duration": 13,
    "start_time": "2022-06-01T13:35:53.594Z"
   },
   {
    "duration": 43,
    "start_time": "2022-06-01T13:36:28.048Z"
   },
   {
    "duration": 47,
    "start_time": "2022-06-01T13:36:32.839Z"
   },
   {
    "duration": 546,
    "start_time": "2022-06-01T13:37:20.029Z"
   },
   {
    "duration": 141,
    "start_time": "2022-06-01T13:38:25.074Z"
   },
   {
    "duration": 368,
    "start_time": "2022-06-01T13:38:26.930Z"
   },
   {
    "duration": 13,
    "start_time": "2022-06-01T14:18:15.562Z"
   },
   {
    "duration": 9,
    "start_time": "2022-06-01T14:18:20.210Z"
   },
   {
    "duration": 10,
    "start_time": "2022-06-01T14:18:28.595Z"
   },
   {
    "duration": 371,
    "start_time": "2022-06-01T14:18:37.002Z"
   },
   {
    "duration": 166,
    "start_time": "2022-06-01T14:20:32.253Z"
   },
   {
    "duration": 168,
    "start_time": "2022-06-01T14:21:23.386Z"
   },
   {
    "duration": 242,
    "start_time": "2022-06-01T14:22:21.447Z"
   },
   {
    "duration": 217,
    "start_time": "2022-06-01T14:24:10.531Z"
   },
   {
    "duration": 138,
    "start_time": "2022-06-01T14:25:19.357Z"
   },
   {
    "duration": 186,
    "start_time": "2022-06-01T14:25:55.870Z"
   },
   {
    "duration": 135,
    "start_time": "2022-06-01T14:27:31.545Z"
   },
   {
    "duration": 276,
    "start_time": "2022-06-01T14:30:19.737Z"
   },
   {
    "duration": 162,
    "start_time": "2022-06-01T14:30:42.041Z"
   },
   {
    "duration": 156,
    "start_time": "2022-06-01T14:30:52.336Z"
   },
   {
    "duration": 161,
    "start_time": "2022-06-01T14:30:56.808Z"
   },
   {
    "duration": 4,
    "start_time": "2022-06-01T14:31:01.130Z"
   },
   {
    "duration": 828,
    "start_time": "2022-06-01T14:31:01.135Z"
   },
   {
    "duration": 129,
    "start_time": "2022-06-01T14:31:01.966Z"
   },
   {
    "duration": 23,
    "start_time": "2022-06-01T14:31:02.096Z"
   },
   {
    "duration": 31,
    "start_time": "2022-06-01T14:31:02.121Z"
   },
   {
    "duration": 58,
    "start_time": "2022-06-01T14:31:02.153Z"
   },
   {
    "duration": 142,
    "start_time": "2022-06-01T14:31:02.213Z"
   },
   {
    "duration": 378,
    "start_time": "2022-06-01T14:31:02.357Z"
   },
   {
    "duration": 68,
    "start_time": "2022-06-01T14:31:02.737Z"
   },
   {
    "duration": 321,
    "start_time": "2022-06-01T14:31:02.806Z"
   },
   {
    "duration": 164,
    "start_time": "2022-06-01T14:31:03.130Z"
   },
   {
    "duration": 149,
    "start_time": "2022-06-01T14:31:03.296Z"
   },
   {
    "duration": 163,
    "start_time": "2022-06-01T14:31:09.670Z"
   },
   {
    "duration": 173,
    "start_time": "2022-06-01T14:31:18.199Z"
   },
   {
    "duration": 163,
    "start_time": "2022-06-01T14:31:25.110Z"
   },
   {
    "duration": 180,
    "start_time": "2022-06-01T14:31:33.422Z"
   },
   {
    "duration": 30,
    "start_time": "2022-06-01T14:31:54.825Z"
   },
   {
    "duration": 28,
    "start_time": "2022-06-01T14:32:06.812Z"
   },
   {
    "duration": 31,
    "start_time": "2022-06-01T14:32:15.739Z"
   },
   {
    "duration": 38,
    "start_time": "2022-06-01T14:32:22.923Z"
   },
   {
    "duration": 171,
    "start_time": "2022-06-01T14:32:37.515Z"
   },
   {
    "duration": 482,
    "start_time": "2022-06-01T14:32:44.922Z"
   },
   {
    "duration": 367,
    "start_time": "2022-06-01T14:32:52.906Z"
   },
   {
    "duration": 66,
    "start_time": "2022-06-01T14:51:31.592Z"
   },
   {
    "duration": 88,
    "start_time": "2022-06-01T14:51:46.176Z"
   },
   {
    "duration": 71,
    "start_time": "2022-06-01T14:51:56.962Z"
   },
   {
    "duration": 111,
    "start_time": "2022-06-01T14:53:17.736Z"
   },
   {
    "duration": 108,
    "start_time": "2022-06-01T14:53:49.501Z"
   },
   {
    "duration": 170,
    "start_time": "2022-06-01T14:57:48.331Z"
   },
   {
    "duration": 137,
    "start_time": "2022-06-01T14:58:02.346Z"
   },
   {
    "duration": 5,
    "start_time": "2022-06-01T14:58:22.857Z"
   },
   {
    "duration": 797,
    "start_time": "2022-06-01T14:58:22.865Z"
   },
   {
    "duration": 117,
    "start_time": "2022-06-01T14:58:23.665Z"
   },
   {
    "duration": 13,
    "start_time": "2022-06-01T14:58:23.784Z"
   },
   {
    "duration": 32,
    "start_time": "2022-06-01T14:58:23.800Z"
   },
   {
    "duration": 42,
    "start_time": "2022-06-01T14:58:23.834Z"
   },
   {
    "duration": 173,
    "start_time": "2022-06-01T14:58:23.878Z"
   },
   {
    "duration": 380,
    "start_time": "2022-06-01T14:58:24.053Z"
   },
   {
    "duration": 66,
    "start_time": "2022-06-01T14:58:24.435Z"
   },
   {
    "duration": 301,
    "start_time": "2022-06-01T14:58:24.503Z"
   },
   {
    "duration": 177,
    "start_time": "2022-06-01T14:58:24.806Z"
   },
   {
    "duration": 158,
    "start_time": "2022-06-01T14:58:24.985Z"
   },
   {
    "duration": 524,
    "start_time": "2022-06-01T14:58:25.144Z"
   },
   {
    "duration": 93,
    "start_time": "2022-06-01T14:58:25.670Z"
   },
   {
    "duration": 457,
    "start_time": "2022-06-01T14:58:25.765Z"
   },
   {
    "duration": 126,
    "start_time": "2022-06-01T14:58:33.657Z"
   },
   {
    "duration": 113,
    "start_time": "2022-06-01T14:59:38.247Z"
   },
   {
    "duration": 39,
    "start_time": "2022-06-01T15:00:00.533Z"
   },
   {
    "duration": 5656,
    "start_time": "2022-06-01T15:00:03.677Z"
   },
   {
    "duration": 4,
    "start_time": "2022-06-01T15:06:54.934Z"
   },
   {
    "duration": 695,
    "start_time": "2022-06-01T15:06:54.941Z"
   },
   {
    "duration": 113,
    "start_time": "2022-06-01T15:06:55.638Z"
   },
   {
    "duration": 12,
    "start_time": "2022-06-01T15:06:55.753Z"
   },
   {
    "duration": 18,
    "start_time": "2022-06-01T15:06:55.766Z"
   },
   {
    "duration": 66,
    "start_time": "2022-06-01T15:06:55.785Z"
   },
   {
    "duration": 176,
    "start_time": "2022-06-01T15:06:55.853Z"
   },
   {
    "duration": 474,
    "start_time": "2022-06-01T15:06:56.031Z"
   },
   {
    "duration": 84,
    "start_time": "2022-06-01T15:06:56.507Z"
   },
   {
    "duration": 273,
    "start_time": "2022-06-01T15:06:56.592Z"
   },
   {
    "duration": 159,
    "start_time": "2022-06-01T15:06:56.868Z"
   },
   {
    "duration": 136,
    "start_time": "2022-06-01T15:06:57.029Z"
   },
   {
    "duration": 386,
    "start_time": "2022-06-01T15:06:57.166Z"
   },
   {
    "duration": 96,
    "start_time": "2022-06-01T15:06:57.553Z"
   },
   {
    "duration": 454,
    "start_time": "2022-06-01T15:06:57.651Z"
   },
   {
    "duration": 134,
    "start_time": "2022-06-01T15:06:58.106Z"
   },
   {
    "duration": 37,
    "start_time": "2022-06-01T15:06:58.242Z"
   },
   {
    "duration": 4160,
    "start_time": "2022-06-01T15:06:58.280Z"
   },
   {
    "duration": 55496,
    "start_time": "2022-06-01T15:07:02.442Z"
   },
   {
    "duration": 108805,
    "start_time": "2022-06-01T15:07:57.939Z"
   },
   {
    "duration": 0,
    "start_time": "2022-06-01T15:09:46.746Z"
   },
   {
    "duration": 0,
    "start_time": "2022-06-01T15:09:46.748Z"
   },
   {
    "duration": 0,
    "start_time": "2022-06-01T15:09:46.749Z"
   },
   {
    "duration": 0,
    "start_time": "2022-06-01T15:09:46.750Z"
   },
   {
    "duration": 0,
    "start_time": "2022-06-01T15:09:46.751Z"
   },
   {
    "duration": 0,
    "start_time": "2022-06-01T15:09:46.828Z"
   },
   {
    "duration": 0,
    "start_time": "2022-06-01T15:09:46.829Z"
   },
   {
    "duration": 0,
    "start_time": "2022-06-01T15:09:46.830Z"
   },
   {
    "duration": 0,
    "start_time": "2022-06-01T15:09:46.831Z"
   },
   {
    "duration": 0,
    "start_time": "2022-06-01T15:09:46.832Z"
   },
   {
    "duration": 0,
    "start_time": "2022-06-01T15:09:46.833Z"
   },
   {
    "duration": 0,
    "start_time": "2022-06-01T15:09:46.834Z"
   },
   {
    "duration": 0,
    "start_time": "2022-06-01T15:09:46.835Z"
   },
   {
    "duration": 0,
    "start_time": "2022-06-01T15:09:46.835Z"
   },
   {
    "duration": 1,
    "start_time": "2022-06-01T15:09:46.836Z"
   },
   {
    "duration": 0,
    "start_time": "2022-06-01T15:09:46.838Z"
   }
  ],
  "kernelspec": {
   "display_name": "Python 3 (ipykernel)",
   "language": "python",
   "name": "python3"
  },
  "language_info": {
   "codemirror_mode": {
    "name": "ipython",
    "version": 3
   },
   "file_extension": ".py",
   "mimetype": "text/x-python",
   "name": "python",
   "nbconvert_exporter": "python",
   "pygments_lexer": "ipython3",
   "version": "3.9.7"
  },
  "toc": {
   "base_numbering": 1,
   "nav_menu": {},
   "number_sections": true,
   "sideBar": true,
   "skip_h1_title": true,
   "title_cell": "Table of Contents",
   "title_sidebar": "Contents",
   "toc_cell": false,
   "toc_position": {},
   "toc_section_display": true,
   "toc_window_display": true
  }
 },
 "nbformat": 4,
 "nbformat_minor": 2
}
