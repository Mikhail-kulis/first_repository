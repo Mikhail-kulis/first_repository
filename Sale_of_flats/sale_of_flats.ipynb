{
 "cells": [
  {
   "cell_type": "markdown",
   "metadata": {
    "toc": true
   },
   "source": [
    "<h1>Содержание<span class=\"tocSkip\"></span></h1>\n",
    "<div class=\"toc\"><ul class=\"toc-item\"><li><span><a href=\"#Изучение-данных-из-файла\" data-toc-modified-id=\"Изучение-данных-из-файла-1\"><span class=\"toc-item-num\">1&nbsp;&nbsp;</span>Изучение данных из файла</a></span><ul class=\"toc-item\"><li><span><a href=\"#Общая-информация-о-данных\" data-toc-modified-id=\"Общая-информация-о-данных-1.1\"><span class=\"toc-item-num\">1.1&nbsp;&nbsp;</span>Общая информация о данных</a></span></li><li><span><a href=\"#Некорректная-информация-в-данных\" data-toc-modified-id=\"Некорректная-информация-в-данных-1.2\"><span class=\"toc-item-num\">1.2&nbsp;&nbsp;</span>Некорректная информация в данных</a></span></li></ul></li><li><span><a href=\"#Предобработка-данных\" data-toc-modified-id=\"Предобработка-данных-2\"><span class=\"toc-item-num\">2&nbsp;&nbsp;</span>Предобработка данных</a></span><ul class=\"toc-item\"><li><span><a href=\"#Пропуски-балконов\" data-toc-modified-id=\"Пропуски-балконов-2.1\"><span class=\"toc-item-num\">2.1&nbsp;&nbsp;</span>Пропуски балконов</a></span></li><li><span><a href=\"#Пропуски-количества-дней-размещения-объявления\" data-toc-modified-id=\"Пропуски-количества-дней-размещения-объявления-2.2\"><span class=\"toc-item-num\">2.2&nbsp;&nbsp;</span>Пропуски количества дней размещения объявления</a></span></li><li><span><a href=\"#Пропуски-в-данных,-является-ли-квартира-апартаментами\" data-toc-modified-id=\"Пропуски-в-данных,-является-ли-квартира-апартаментами-2.3\"><span class=\"toc-item-num\">2.3&nbsp;&nbsp;</span>Пропуски в данных, является ли квартира апартаментами</a></span></li><li><span><a href=\"#Пропуски-в-данных-о-расстоянии-до-ближайшего-парка-и-водоёма,-пропуски-в-количестве-парков-и-водоёмов-в-радиусе-3000-м\" data-toc-modified-id=\"Пропуски-в-данных-о-расстоянии-до-ближайшего-парка-и-водоёма,-пропуски-в-количестве-парков-и-водоёмов-в-радиусе-3000-м-2.4\"><span class=\"toc-item-num\">2.4&nbsp;&nbsp;</span>Пропуски в данных о расстоянии до ближайшего парка и водоёма, пропуски в количестве парков и водоёмов в радиусе 3000 м</a></span></li><li><span><a href=\"#Пропуски-в-этажности-здания,-где-продаётся-квартира\" data-toc-modified-id=\"Пропуски-в-этажности-здания,-где-продаётся-квартира-2.5\"><span class=\"toc-item-num\">2.5&nbsp;&nbsp;</span>Пропуски в этажности здания, где продаётся квартира</a></span></li><li><span><a href=\"#Исправление-некорректно-введённого-количества-комнат\" data-toc-modified-id=\"Исправление-некорректно-введённого-количества-комнат-2.6\"><span class=\"toc-item-num\">2.6&nbsp;&nbsp;</span>Исправление некорректно введённого количества комнат</a></span></li><li><span><a href=\"#Приведение-данных-к-нужному-типу\" data-toc-modified-id=\"Приведение-данных-к-нужному-типу-2.7\"><span class=\"toc-item-num\">2.7&nbsp;&nbsp;</span>Приведение данных к нужному типу</a></span></li></ul></li><li><span><a href=\"#Расчёты-и-добавление-результатов-в-таблицу\" data-toc-modified-id=\"Расчёты-и-добавление-результатов-в-таблицу-3\"><span class=\"toc-item-num\">3&nbsp;&nbsp;</span>Расчёты и добавление результатов в таблицу</a></span><ul class=\"toc-item\"><li><span><a href=\"#Цена-за-квадратный-метр\" data-toc-modified-id=\"Цена-за-квадратный-метр-3.1\"><span class=\"toc-item-num\">3.1&nbsp;&nbsp;</span>Цена за квадратный метр</a></span></li><li><span><a href=\"#День-недели,-месяц-и-год-публикации-объявления\" data-toc-modified-id=\"День-недели,-месяц-и-год-публикации-объявления-3.2\"><span class=\"toc-item-num\">3.2&nbsp;&nbsp;</span>День недели, месяц и год публикации объявления</a></span></li><li><span><a href=\"#Классификация-по-этажу\" data-toc-modified-id=\"Классификация-по-этажу-3.3\"><span class=\"toc-item-num\">3.3&nbsp;&nbsp;</span>Классификация по этажу</a></span></li><li><span><a href=\"#Соотношения-жилой-площади-к-общей,-площади-кухни-к-общей\" data-toc-modified-id=\"Соотношения-жилой-площади-к-общей,-площади-кухни-к-общей-3.4\"><span class=\"toc-item-num\">3.4&nbsp;&nbsp;</span>Соотношения жилой площади к общей, площади кухни к общей</a></span></li></ul></li><li><span><a href=\"#Исследовательский-анализ-данных\" data-toc-modified-id=\"Исследовательский-анализ-данных-4\"><span class=\"toc-item-num\">4&nbsp;&nbsp;</span>Исследовательский анализ данных</a></span><ul class=\"toc-item\"><li><span><a href=\"#Изучение-параметров-квартир\" data-toc-modified-id=\"Изучение-параметров-квартир-4.1\"><span class=\"toc-item-num\">4.1&nbsp;&nbsp;</span>Изучение параметров квартир</a></span><ul class=\"toc-item\"><li><span><a href=\"#Общая-площадь\" data-toc-modified-id=\"Общая-площадь-4.1.1\"><span class=\"toc-item-num\">4.1.1&nbsp;&nbsp;</span>Общая площадь</a></span></li><li><span><a href=\"#Цена\" data-toc-modified-id=\"Цена-4.1.2\"><span class=\"toc-item-num\">4.1.2&nbsp;&nbsp;</span>Цена</a></span></li><li><span><a href=\"#Число-комнат\" data-toc-modified-id=\"Число-комнат-4.1.3\"><span class=\"toc-item-num\">4.1.3&nbsp;&nbsp;</span>Число комнат</a></span></li><li><span><a href=\"#Высота-потолков\" data-toc-modified-id=\"Высота-потолков-4.1.4\"><span class=\"toc-item-num\">4.1.4&nbsp;&nbsp;</span>Высота потолков</a></span></li></ul></li><li><span><a href=\"#Время-продажи-квартир\" data-toc-modified-id=\"Время-продажи-квартир-4.2\"><span class=\"toc-item-num\">4.2&nbsp;&nbsp;</span>Время продажи квартир</a></span></li><li><span><a href=\"#Зависимость-цены-от-параметров-квартиры\" data-toc-modified-id=\"Зависимость-цены-от-параметров-квартиры-4.3\"><span class=\"toc-item-num\">4.3&nbsp;&nbsp;</span>Зависимость цены от параметров квартиры</a></span></li><li><span><a href=\"#10-самых-популярных-населённых-пунктов\" data-toc-modified-id=\"10-самых-популярных-населённых-пунктов-4.4\"><span class=\"toc-item-num\">4.4&nbsp;&nbsp;</span>10 самых популярных населённых пунктов</a></span></li><li><span><a href=\"#Определение-границы-центра-Петербурга\" data-toc-modified-id=\"Определение-границы-центра-Петербурга-4.5\"><span class=\"toc-item-num\">4.5&nbsp;&nbsp;</span>Определение границы центра Петербурга</a></span></li><li><span><a href=\"#Изучение-сегмента-квартир-в-центре\" data-toc-modified-id=\"Изучение-сегмента-квартир-в-центре-4.6\"><span class=\"toc-item-num\">4.6&nbsp;&nbsp;</span>Изучение сегмента квартир в центре</a></span></li></ul></li><li><span><a href=\"#Общий-вывод\" data-toc-modified-id=\"Общий-вывод-5\"><span class=\"toc-item-num\">5&nbsp;&nbsp;</span>Общий вывод</a></span></li></ul></div>"
   ]
  },
  {
   "cell_type": "markdown",
   "metadata": {},
   "source": [
    "## Описание проекта\n",
    "\n",
    "В распоряжении имеются данные о квартирах. Необходимо подготовить данные и провести их исследовательский анализ.\n"
   ]
  },
  {
   "cell_type": "markdown",
   "metadata": {},
   "source": [
    "## Изучение данных из файла"
   ]
  },
  {
   "cell_type": "code",
   "execution_count": 2,
   "metadata": {},
   "outputs": [
    {
     "data": {
      "text/html": [
       "<div>\n",
       "<style scoped>\n",
       "    .dataframe tbody tr th:only-of-type {\n",
       "        vertical-align: middle;\n",
       "    }\n",
       "\n",
       "    .dataframe tbody tr th {\n",
       "        vertical-align: top;\n",
       "    }\n",
       "\n",
       "    .dataframe thead th {\n",
       "        text-align: right;\n",
       "    }\n",
       "</style>\n",
       "<table border=\"1\" class=\"dataframe\">\n",
       "  <thead>\n",
       "    <tr style=\"text-align: right;\">\n",
       "      <th></th>\n",
       "      <th>total_images</th>\n",
       "      <th>last_price</th>\n",
       "      <th>total_area</th>\n",
       "      <th>first_day_exposition</th>\n",
       "      <th>rooms</th>\n",
       "      <th>ceiling_height</th>\n",
       "      <th>floors_total</th>\n",
       "      <th>living_area</th>\n",
       "      <th>floor</th>\n",
       "      <th>is_apartment</th>\n",
       "      <th>...</th>\n",
       "      <th>kitchen_area</th>\n",
       "      <th>balcony</th>\n",
       "      <th>locality_name</th>\n",
       "      <th>airports_nearest</th>\n",
       "      <th>cityCenters_nearest</th>\n",
       "      <th>parks_around3000</th>\n",
       "      <th>parks_nearest</th>\n",
       "      <th>ponds_around3000</th>\n",
       "      <th>ponds_nearest</th>\n",
       "      <th>days_exposition</th>\n",
       "    </tr>\n",
       "  </thead>\n",
       "  <tbody>\n",
       "    <tr>\n",
       "      <td>0</td>\n",
       "      <td>20</td>\n",
       "      <td>13000000.0</td>\n",
       "      <td>108.0</td>\n",
       "      <td>2019-03-07T00:00:00</td>\n",
       "      <td>3</td>\n",
       "      <td>2.70</td>\n",
       "      <td>16.0</td>\n",
       "      <td>51.0</td>\n",
       "      <td>8</td>\n",
       "      <td>NaN</td>\n",
       "      <td>...</td>\n",
       "      <td>25.0</td>\n",
       "      <td>NaN</td>\n",
       "      <td>Санкт-Петербург</td>\n",
       "      <td>18863.0</td>\n",
       "      <td>16028.0</td>\n",
       "      <td>1.0</td>\n",
       "      <td>482.0</td>\n",
       "      <td>2.0</td>\n",
       "      <td>755.0</td>\n",
       "      <td>NaN</td>\n",
       "    </tr>\n",
       "    <tr>\n",
       "      <td>1</td>\n",
       "      <td>7</td>\n",
       "      <td>3350000.0</td>\n",
       "      <td>40.4</td>\n",
       "      <td>2018-12-04T00:00:00</td>\n",
       "      <td>1</td>\n",
       "      <td>NaN</td>\n",
       "      <td>11.0</td>\n",
       "      <td>18.6</td>\n",
       "      <td>1</td>\n",
       "      <td>NaN</td>\n",
       "      <td>...</td>\n",
       "      <td>11.0</td>\n",
       "      <td>2.0</td>\n",
       "      <td>посёлок Шушары</td>\n",
       "      <td>12817.0</td>\n",
       "      <td>18603.0</td>\n",
       "      <td>0.0</td>\n",
       "      <td>NaN</td>\n",
       "      <td>0.0</td>\n",
       "      <td>NaN</td>\n",
       "      <td>81.0</td>\n",
       "    </tr>\n",
       "    <tr>\n",
       "      <td>2</td>\n",
       "      <td>10</td>\n",
       "      <td>5196000.0</td>\n",
       "      <td>56.0</td>\n",
       "      <td>2015-08-20T00:00:00</td>\n",
       "      <td>2</td>\n",
       "      <td>NaN</td>\n",
       "      <td>5.0</td>\n",
       "      <td>34.3</td>\n",
       "      <td>4</td>\n",
       "      <td>NaN</td>\n",
       "      <td>...</td>\n",
       "      <td>8.3</td>\n",
       "      <td>0.0</td>\n",
       "      <td>Санкт-Петербург</td>\n",
       "      <td>21741.0</td>\n",
       "      <td>13933.0</td>\n",
       "      <td>1.0</td>\n",
       "      <td>90.0</td>\n",
       "      <td>2.0</td>\n",
       "      <td>574.0</td>\n",
       "      <td>558.0</td>\n",
       "    </tr>\n",
       "    <tr>\n",
       "      <td>3</td>\n",
       "      <td>0</td>\n",
       "      <td>64900000.0</td>\n",
       "      <td>159.0</td>\n",
       "      <td>2015-07-24T00:00:00</td>\n",
       "      <td>3</td>\n",
       "      <td>NaN</td>\n",
       "      <td>14.0</td>\n",
       "      <td>NaN</td>\n",
       "      <td>9</td>\n",
       "      <td>NaN</td>\n",
       "      <td>...</td>\n",
       "      <td>NaN</td>\n",
       "      <td>0.0</td>\n",
       "      <td>Санкт-Петербург</td>\n",
       "      <td>28098.0</td>\n",
       "      <td>6800.0</td>\n",
       "      <td>2.0</td>\n",
       "      <td>84.0</td>\n",
       "      <td>3.0</td>\n",
       "      <td>234.0</td>\n",
       "      <td>424.0</td>\n",
       "    </tr>\n",
       "    <tr>\n",
       "      <td>4</td>\n",
       "      <td>2</td>\n",
       "      <td>10000000.0</td>\n",
       "      <td>100.0</td>\n",
       "      <td>2018-06-19T00:00:00</td>\n",
       "      <td>2</td>\n",
       "      <td>3.03</td>\n",
       "      <td>14.0</td>\n",
       "      <td>32.0</td>\n",
       "      <td>13</td>\n",
       "      <td>NaN</td>\n",
       "      <td>...</td>\n",
       "      <td>41.0</td>\n",
       "      <td>NaN</td>\n",
       "      <td>Санкт-Петербург</td>\n",
       "      <td>31856.0</td>\n",
       "      <td>8098.0</td>\n",
       "      <td>2.0</td>\n",
       "      <td>112.0</td>\n",
       "      <td>1.0</td>\n",
       "      <td>48.0</td>\n",
       "      <td>121.0</td>\n",
       "    </tr>\n",
       "  </tbody>\n",
       "</table>\n",
       "<p>5 rows × 22 columns</p>\n",
       "</div>"
      ],
      "text/plain": [
       "   total_images  last_price  total_area first_day_exposition  rooms  \\\n",
       "0            20  13000000.0       108.0  2019-03-07T00:00:00      3   \n",
       "1             7   3350000.0        40.4  2018-12-04T00:00:00      1   \n",
       "2            10   5196000.0        56.0  2015-08-20T00:00:00      2   \n",
       "3             0  64900000.0       159.0  2015-07-24T00:00:00      3   \n",
       "4             2  10000000.0       100.0  2018-06-19T00:00:00      2   \n",
       "\n",
       "   ceiling_height  floors_total  living_area  floor is_apartment  ...  \\\n",
       "0            2.70          16.0         51.0      8          NaN  ...   \n",
       "1             NaN          11.0         18.6      1          NaN  ...   \n",
       "2             NaN           5.0         34.3      4          NaN  ...   \n",
       "3             NaN          14.0          NaN      9          NaN  ...   \n",
       "4            3.03          14.0         32.0     13          NaN  ...   \n",
       "\n",
       "   kitchen_area  balcony    locality_name  airports_nearest  \\\n",
       "0          25.0      NaN  Санкт-Петербург           18863.0   \n",
       "1          11.0      2.0   посёлок Шушары           12817.0   \n",
       "2           8.3      0.0  Санкт-Петербург           21741.0   \n",
       "3           NaN      0.0  Санкт-Петербург           28098.0   \n",
       "4          41.0      NaN  Санкт-Петербург           31856.0   \n",
       "\n",
       "  cityCenters_nearest  parks_around3000  parks_nearest  ponds_around3000  \\\n",
       "0             16028.0               1.0          482.0               2.0   \n",
       "1             18603.0               0.0            NaN               0.0   \n",
       "2             13933.0               1.0           90.0               2.0   \n",
       "3              6800.0               2.0           84.0               3.0   \n",
       "4              8098.0               2.0          112.0               1.0   \n",
       "\n",
       "   ponds_nearest  days_exposition  \n",
       "0          755.0              NaN  \n",
       "1            NaN             81.0  \n",
       "2          574.0            558.0  \n",
       "3          234.0            424.0  \n",
       "4           48.0            121.0  \n",
       "\n",
       "[5 rows x 22 columns]"
      ]
     },
     "execution_count": 2,
     "metadata": {},
     "output_type": "execute_result"
    }
   ],
   "source": [
    "import pandas as pd                                              # импорт библиотеки pandas\n",
    "import matplotlib.pyplot as plt\n",
    "import warnings                                                  # импорт службы warnings\n",
    "warnings.simplefilter(\"ignore\")                                  # игнорируем предупреждения\n",
    "data = pd.read_csv('...', sep='\\t')                              # чтение файла с нужными разделителями\n",
    "data.head()"
   ]
  },
  {
   "cell_type": "markdown",
   "metadata": {},
   "source": [
    "### Общая информация о данных"
   ]
  },
  {
   "cell_type": "code",
   "execution_count": 3,
   "metadata": {},
   "outputs": [
    {
     "name": "stdout",
     "output_type": "stream",
     "text": [
      "<class 'pandas.core.frame.DataFrame'>\n",
      "RangeIndex: 23699 entries, 0 to 23698\n",
      "Data columns (total 22 columns):\n",
      "total_images            23699 non-null int64\n",
      "last_price              23699 non-null float64\n",
      "total_area              23699 non-null float64\n",
      "first_day_exposition    23699 non-null object\n",
      "rooms                   23699 non-null int64\n",
      "ceiling_height          14504 non-null float64\n",
      "floors_total            23613 non-null float64\n",
      "living_area             21796 non-null float64\n",
      "floor                   23699 non-null int64\n",
      "is_apartment            2775 non-null object\n",
      "studio                  23699 non-null bool\n",
      "open_plan               23699 non-null bool\n",
      "kitchen_area            21421 non-null float64\n",
      "balcony                 12180 non-null float64\n",
      "locality_name           23650 non-null object\n",
      "airports_nearest        18157 non-null float64\n",
      "cityCenters_nearest     18180 non-null float64\n",
      "parks_around3000        18181 non-null float64\n",
      "parks_nearest           8079 non-null float64\n",
      "ponds_around3000        18181 non-null float64\n",
      "ponds_nearest           9110 non-null float64\n",
      "days_exposition         20518 non-null float64\n",
      "dtypes: bool(2), float64(14), int64(3), object(3)\n",
      "memory usage: 3.7+ MB\n"
     ]
    }
   ],
   "source": [
    "data.info()                       # вывод общей информации о датафрейме"
   ]
  },
  {
   "cell_type": "markdown",
   "metadata": {},
   "source": [
    "**Вывод**"
   ]
  },
  {
   "cell_type": "markdown",
   "metadata": {},
   "source": [
    "Обнаружены пропуски в данных по высоте потолков, этажности дома, жилой площади, является ли квартира апартаментами, площади кухни, количеству балконов, названию населённого пункта, ближайшему аэропорту, расстоянию до центра города, числу парков в радиусе 3000 м, расстоянию до ближайшего парка, числу водоёмов в радиусе 3000 м, расстоянию до ближайшего водоёма, числу дней размещения объявления.\n",
    "\n",
    "Данные о том, является ли квартира апартаментами имеет тип object, а должна bool.\n",
    "\n",
    "Данные о дате публикации имеют формат object, а должна datetime.\n",
    "\n",
    "Такие величины, как цена, этажность здания, количество балконов, расстояние до близлежайшего аэропорта, расстояние до центра, число парков и водоёмов в радиусе 3000 м, расстояние до близлежайшего парка и водоёма, количество дней размещения объявления имеют тип float, что излишне и их смело можно перевести в тип int."
   ]
  },
  {
   "cell_type": "markdown",
   "metadata": {},
   "source": [
    "### Некорректная информация в данных"
   ]
  },
  {
   "cell_type": "code",
   "execution_count": 4,
   "metadata": {},
   "outputs": [
    {
     "data": {
      "text/plain": [
       "array([ 3,  1,  2,  4,  5,  6,  0,  7, 11,  8, 14, 10, 15,  9, 19, 16, 12])"
      ]
     },
     "metadata": {},
     "output_type": "display_data"
    },
    {
     "data": {
      "text/html": [
       "<div>\n",
       "<style scoped>\n",
       "    .dataframe tbody tr th:only-of-type {\n",
       "        vertical-align: middle;\n",
       "    }\n",
       "\n",
       "    .dataframe tbody tr th {\n",
       "        vertical-align: top;\n",
       "    }\n",
       "\n",
       "    .dataframe thead th {\n",
       "        text-align: right;\n",
       "    }\n",
       "</style>\n",
       "<table border=\"1\" class=\"dataframe\">\n",
       "  <thead>\n",
       "    <tr style=\"text-align: right;\">\n",
       "      <th></th>\n",
       "      <th>total_images</th>\n",
       "      <th>last_price</th>\n",
       "      <th>total_area</th>\n",
       "      <th>first_day_exposition</th>\n",
       "      <th>rooms</th>\n",
       "      <th>ceiling_height</th>\n",
       "      <th>floors_total</th>\n",
       "      <th>living_area</th>\n",
       "      <th>floor</th>\n",
       "      <th>is_apartment</th>\n",
       "      <th>...</th>\n",
       "      <th>kitchen_area</th>\n",
       "      <th>balcony</th>\n",
       "      <th>locality_name</th>\n",
       "      <th>airports_nearest</th>\n",
       "      <th>cityCenters_nearest</th>\n",
       "      <th>parks_around3000</th>\n",
       "      <th>parks_nearest</th>\n",
       "      <th>ponds_around3000</th>\n",
       "      <th>ponds_nearest</th>\n",
       "      <th>days_exposition</th>\n",
       "    </tr>\n",
       "  </thead>\n",
       "  <tbody>\n",
       "    <tr>\n",
       "      <td>144</td>\n",
       "      <td>1</td>\n",
       "      <td>2450000.0</td>\n",
       "      <td>27.00</td>\n",
       "      <td>2017-03-30T00:00:00</td>\n",
       "      <td>0</td>\n",
       "      <td>NaN</td>\n",
       "      <td>24.0</td>\n",
       "      <td>15.50</td>\n",
       "      <td>2</td>\n",
       "      <td>NaN</td>\n",
       "      <td>...</td>\n",
       "      <td>NaN</td>\n",
       "      <td>2.0</td>\n",
       "      <td>посёлок Мурино</td>\n",
       "      <td>NaN</td>\n",
       "      <td>NaN</td>\n",
       "      <td>NaN</td>\n",
       "      <td>NaN</td>\n",
       "      <td>NaN</td>\n",
       "      <td>NaN</td>\n",
       "      <td>181.0</td>\n",
       "    </tr>\n",
       "    <tr>\n",
       "      <td>440</td>\n",
       "      <td>8</td>\n",
       "      <td>2480000.0</td>\n",
       "      <td>27.11</td>\n",
       "      <td>2018-03-12T00:00:00</td>\n",
       "      <td>0</td>\n",
       "      <td>NaN</td>\n",
       "      <td>17.0</td>\n",
       "      <td>24.75</td>\n",
       "      <td>4</td>\n",
       "      <td>NaN</td>\n",
       "      <td>...</td>\n",
       "      <td>NaN</td>\n",
       "      <td>2.0</td>\n",
       "      <td>Санкт-Петербург</td>\n",
       "      <td>38171.0</td>\n",
       "      <td>15015.0</td>\n",
       "      <td>0.0</td>\n",
       "      <td>NaN</td>\n",
       "      <td>2.0</td>\n",
       "      <td>982.0</td>\n",
       "      <td>64.0</td>\n",
       "    </tr>\n",
       "    <tr>\n",
       "      <td>608</td>\n",
       "      <td>2</td>\n",
       "      <td>1850000.0</td>\n",
       "      <td>25.00</td>\n",
       "      <td>2019-02-20T00:00:00</td>\n",
       "      <td>0</td>\n",
       "      <td>NaN</td>\n",
       "      <td>10.0</td>\n",
       "      <td>NaN</td>\n",
       "      <td>7</td>\n",
       "      <td>NaN</td>\n",
       "      <td>...</td>\n",
       "      <td>NaN</td>\n",
       "      <td>NaN</td>\n",
       "      <td>посёлок Шушары</td>\n",
       "      <td>NaN</td>\n",
       "      <td>NaN</td>\n",
       "      <td>NaN</td>\n",
       "      <td>NaN</td>\n",
       "      <td>NaN</td>\n",
       "      <td>NaN</td>\n",
       "      <td>29.0</td>\n",
       "    </tr>\n",
       "    <tr>\n",
       "      <td>697</td>\n",
       "      <td>12</td>\n",
       "      <td>2500000.0</td>\n",
       "      <td>24.10</td>\n",
       "      <td>2017-12-01T00:00:00</td>\n",
       "      <td>0</td>\n",
       "      <td>2.75</td>\n",
       "      <td>25.0</td>\n",
       "      <td>17.50</td>\n",
       "      <td>21</td>\n",
       "      <td>NaN</td>\n",
       "      <td>...</td>\n",
       "      <td>NaN</td>\n",
       "      <td>NaN</td>\n",
       "      <td>деревня Кудрово</td>\n",
       "      <td>NaN</td>\n",
       "      <td>NaN</td>\n",
       "      <td>NaN</td>\n",
       "      <td>NaN</td>\n",
       "      <td>NaN</td>\n",
       "      <td>NaN</td>\n",
       "      <td>201.0</td>\n",
       "    </tr>\n",
       "    <tr>\n",
       "      <td>716</td>\n",
       "      <td>5</td>\n",
       "      <td>1500000.0</td>\n",
       "      <td>17.00</td>\n",
       "      <td>2017-06-07T00:00:00</td>\n",
       "      <td>0</td>\n",
       "      <td>2.70</td>\n",
       "      <td>9.0</td>\n",
       "      <td>12.00</td>\n",
       "      <td>1</td>\n",
       "      <td>NaN</td>\n",
       "      <td>...</td>\n",
       "      <td>NaN</td>\n",
       "      <td>0.0</td>\n",
       "      <td>посёлок Шушары</td>\n",
       "      <td>18654.0</td>\n",
       "      <td>29846.0</td>\n",
       "      <td>0.0</td>\n",
       "      <td>NaN</td>\n",
       "      <td>0.0</td>\n",
       "      <td>NaN</td>\n",
       "      <td>40.0</td>\n",
       "    </tr>\n",
       "  </tbody>\n",
       "</table>\n",
       "<p>5 rows × 22 columns</p>\n",
       "</div>"
      ],
      "text/plain": [
       "     total_images  last_price  total_area first_day_exposition  rooms  \\\n",
       "144             1   2450000.0       27.00  2017-03-30T00:00:00      0   \n",
       "440             8   2480000.0       27.11  2018-03-12T00:00:00      0   \n",
       "608             2   1850000.0       25.00  2019-02-20T00:00:00      0   \n",
       "697            12   2500000.0       24.10  2017-12-01T00:00:00      0   \n",
       "716             5   1500000.0       17.00  2017-06-07T00:00:00      0   \n",
       "\n",
       "     ceiling_height  floors_total  living_area  floor is_apartment  ...  \\\n",
       "144             NaN          24.0        15.50      2          NaN  ...   \n",
       "440             NaN          17.0        24.75      4          NaN  ...   \n",
       "608             NaN          10.0          NaN      7          NaN  ...   \n",
       "697            2.75          25.0        17.50     21          NaN  ...   \n",
       "716            2.70           9.0        12.00      1          NaN  ...   \n",
       "\n",
       "     kitchen_area  balcony    locality_name  airports_nearest  \\\n",
       "144           NaN      2.0   посёлок Мурино               NaN   \n",
       "440           NaN      2.0  Санкт-Петербург           38171.0   \n",
       "608           NaN      NaN   посёлок Шушары               NaN   \n",
       "697           NaN      NaN  деревня Кудрово               NaN   \n",
       "716           NaN      0.0   посёлок Шушары           18654.0   \n",
       "\n",
       "    cityCenters_nearest  parks_around3000  parks_nearest  ponds_around3000  \\\n",
       "144                 NaN               NaN            NaN               NaN   \n",
       "440             15015.0               0.0            NaN               2.0   \n",
       "608                 NaN               NaN            NaN               NaN   \n",
       "697                 NaN               NaN            NaN               NaN   \n",
       "716             29846.0               0.0            NaN               0.0   \n",
       "\n",
       "     ponds_nearest  days_exposition  \n",
       "144            NaN            181.0  \n",
       "440          982.0             64.0  \n",
       "608            NaN             29.0  \n",
       "697            NaN            201.0  \n",
       "716            NaN             40.0  \n",
       "\n",
       "[5 rows x 22 columns]"
      ]
     },
     "execution_count": 4,
     "metadata": {},
     "output_type": "execute_result"
    }
   ],
   "source": [
    "display(data['rooms'].unique())                # изучение записанных значений количества комнат\n",
    "data.query('studio == True').head()            # проверка гипотезы, что 0 ставили обладатели квартир-студий"
   ]
  },
  {
   "cell_type": "markdown",
   "metadata": {},
   "source": [
    "**Вывод**\n",
    "\n",
    "0 комнат не бывает, и судя по срезу среди обладателей квартир-студий, 0 ставили именно они."
   ]
  },
  {
   "cell_type": "markdown",
   "metadata": {},
   "source": [
    "## Предобработка данных"
   ]
  },
  {
   "cell_type": "markdown",
   "metadata": {},
   "source": [
    "### Пропуски балконов"
   ]
  },
  {
   "cell_type": "code",
   "execution_count": 5,
   "metadata": {},
   "outputs": [
    {
     "name": "stdout",
     "output_type": "stream",
     "text": [
      "[nan  2.  0.  1.  5.  4.  3.]\n",
      "[0. 2. 1. 5. 4. 3.]\n"
     ]
    }
   ],
   "source": [
    "print(data['balcony'].unique())                      # вывод уникальных значений количества балконов до заполнения\n",
    "data['balcony'] = data['balcony'].fillna(0)          # заполнение пропусков 0\n",
    "print(data['balcony'].unique())                      # вывод уникальных значений количества балконов после заполнения"
   ]
  },
  {
   "cell_type": "markdown",
   "metadata": {},
   "source": [
    "**Вывод**"
   ]
  },
  {
   "cell_type": "markdown",
   "metadata": {},
   "source": [
    "Как уже упоминалось в описании к проекту, пропуски в количестве балконов вызваны тем, что их попросту нет в квартире, поэтому\n",
    "они были заполнены 0."
   ]
  },
  {
   "cell_type": "markdown",
   "metadata": {},
   "source": [
    "### Пропуски количества дней размещения объявления"
   ]
  },
  {
   "cell_type": "code",
   "execution_count": 55,
   "metadata": {},
   "outputs": [
    {
     "data": {
      "text/plain": [
       "0     True\n",
       "1    False\n",
       "2    False\n",
       "3    False\n",
       "4    False\n",
       "Name: days_exposition, dtype: bool"
      ]
     },
     "execution_count": 55,
     "metadata": {},
     "output_type": "execute_result"
    }
   ],
   "source": [
    "data['days_exposition'].isna().head()"
   ]
  },
  {
   "cell_type": "markdown",
   "metadata": {},
   "source": [
    "**Вывод**\n",
    "\n",
    "Есть предположение, что объявления в которых не указано количество дней размещения были не закрыты на момент сбора архива. Заполнение этих пропусков средним, медианой, макимальным или минимальным числом дней размещения было бы не корректно. Поэтому оставим эти пропуски на месте."
   ]
  },
  {
   "cell_type": "markdown",
   "metadata": {},
   "source": [
    "### Пропуски в данных, является ли квартира апартаментами"
   ]
  },
  {
   "cell_type": "code",
   "execution_count": 8,
   "metadata": {},
   "outputs": [
    {
     "name": "stdout",
     "output_type": "stream",
     "text": [
      "[nan False True]\n",
      "[False  True]\n"
     ]
    }
   ],
   "source": [
    "print(data['is_apartment'].unique())                            # вывод уникальных значений в столбце \"is_apartment\"\n",
    "data['is_apartment'] = data['is_apartment'].fillna(False)       # заполнение пропусков \n",
    "print(data['is_apartment'].unique())                            # вывод уникальных значений в столбце \"is_apartment\""
   ]
  },
  {
   "cell_type": "markdown",
   "metadata": {},
   "source": [
    "**Вывод**"
   ]
  },
  {
   "cell_type": "markdown",
   "metadata": {},
   "source": [
    "Скорее всего, люди которые не ответили на вопрос, является ли квартира апартаментами продают обычную квартиру. Поэтому пропуски были заполнены значением \"False\". "
   ]
  },
  {
   "cell_type": "markdown",
   "metadata": {},
   "source": [
    "### Пропуски в данных о расстоянии до ближайшего парка и водоёма, пропуски в количестве парков и водоёмов в радиусе 3000 м"
   ]
  },
  {
   "cell_type": "code",
   "execution_count": 9,
   "metadata": {},
   "outputs": [
    {
     "data": {
      "text/html": [
       "<div>\n",
       "<style scoped>\n",
       "    .dataframe tbody tr th:only-of-type {\n",
       "        vertical-align: middle;\n",
       "    }\n",
       "\n",
       "    .dataframe tbody tr th {\n",
       "        vertical-align: top;\n",
       "    }\n",
       "\n",
       "    .dataframe thead th {\n",
       "        text-align: right;\n",
       "    }\n",
       "</style>\n",
       "<table border=\"1\" class=\"dataframe\">\n",
       "  <thead>\n",
       "    <tr style=\"text-align: right;\">\n",
       "      <th></th>\n",
       "      <th>total_images</th>\n",
       "      <th>last_price</th>\n",
       "      <th>total_area</th>\n",
       "      <th>first_day_exposition</th>\n",
       "      <th>rooms</th>\n",
       "      <th>ceiling_height</th>\n",
       "      <th>floors_total</th>\n",
       "      <th>living_area</th>\n",
       "      <th>floor</th>\n",
       "      <th>is_apartment</th>\n",
       "      <th>...</th>\n",
       "      <th>kitchen_area</th>\n",
       "      <th>balcony</th>\n",
       "      <th>locality_name</th>\n",
       "      <th>airports_nearest</th>\n",
       "      <th>cityCenters_nearest</th>\n",
       "      <th>parks_around3000</th>\n",
       "      <th>parks_nearest</th>\n",
       "      <th>ponds_around3000</th>\n",
       "      <th>ponds_nearest</th>\n",
       "      <th>days_exposition</th>\n",
       "    </tr>\n",
       "  </thead>\n",
       "  <tbody>\n",
       "    <tr>\n",
       "      <td>0</td>\n",
       "      <td>20</td>\n",
       "      <td>13000000.0</td>\n",
       "      <td>108.00</td>\n",
       "      <td>2019-03-07T00:00:00</td>\n",
       "      <td>3</td>\n",
       "      <td>2.70</td>\n",
       "      <td>16.0</td>\n",
       "      <td>51.00</td>\n",
       "      <td>8</td>\n",
       "      <td>False</td>\n",
       "      <td>...</td>\n",
       "      <td>25.00</td>\n",
       "      <td>0.0</td>\n",
       "      <td>Санкт-Петербург</td>\n",
       "      <td>18863.0</td>\n",
       "      <td>16028.0</td>\n",
       "      <td>1.0</td>\n",
       "      <td>482.0</td>\n",
       "      <td>2.0</td>\n",
       "      <td>755.0</td>\n",
       "      <td>NaN</td>\n",
       "    </tr>\n",
       "    <tr>\n",
       "      <td>1</td>\n",
       "      <td>7</td>\n",
       "      <td>3350000.0</td>\n",
       "      <td>40.40</td>\n",
       "      <td>2018-12-04T00:00:00</td>\n",
       "      <td>1</td>\n",
       "      <td>NaN</td>\n",
       "      <td>11.0</td>\n",
       "      <td>18.60</td>\n",
       "      <td>1</td>\n",
       "      <td>False</td>\n",
       "      <td>...</td>\n",
       "      <td>11.00</td>\n",
       "      <td>2.0</td>\n",
       "      <td>посёлок Шушары</td>\n",
       "      <td>12817.0</td>\n",
       "      <td>18603.0</td>\n",
       "      <td>0.0</td>\n",
       "      <td>NaN</td>\n",
       "      <td>0.0</td>\n",
       "      <td>NaN</td>\n",
       "      <td>81.0</td>\n",
       "    </tr>\n",
       "    <tr>\n",
       "      <td>2</td>\n",
       "      <td>10</td>\n",
       "      <td>5196000.0</td>\n",
       "      <td>56.00</td>\n",
       "      <td>2015-08-20T00:00:00</td>\n",
       "      <td>2</td>\n",
       "      <td>NaN</td>\n",
       "      <td>5.0</td>\n",
       "      <td>34.30</td>\n",
       "      <td>4</td>\n",
       "      <td>False</td>\n",
       "      <td>...</td>\n",
       "      <td>8.30</td>\n",
       "      <td>0.0</td>\n",
       "      <td>Санкт-Петербург</td>\n",
       "      <td>21741.0</td>\n",
       "      <td>13933.0</td>\n",
       "      <td>1.0</td>\n",
       "      <td>90.0</td>\n",
       "      <td>2.0</td>\n",
       "      <td>574.0</td>\n",
       "      <td>558.0</td>\n",
       "    </tr>\n",
       "    <tr>\n",
       "      <td>3</td>\n",
       "      <td>0</td>\n",
       "      <td>64900000.0</td>\n",
       "      <td>159.00</td>\n",
       "      <td>2015-07-24T00:00:00</td>\n",
       "      <td>3</td>\n",
       "      <td>NaN</td>\n",
       "      <td>14.0</td>\n",
       "      <td>NaN</td>\n",
       "      <td>9</td>\n",
       "      <td>False</td>\n",
       "      <td>...</td>\n",
       "      <td>NaN</td>\n",
       "      <td>0.0</td>\n",
       "      <td>Санкт-Петербург</td>\n",
       "      <td>28098.0</td>\n",
       "      <td>6800.0</td>\n",
       "      <td>2.0</td>\n",
       "      <td>84.0</td>\n",
       "      <td>3.0</td>\n",
       "      <td>234.0</td>\n",
       "      <td>424.0</td>\n",
       "    </tr>\n",
       "    <tr>\n",
       "      <td>4</td>\n",
       "      <td>2</td>\n",
       "      <td>10000000.0</td>\n",
       "      <td>100.00</td>\n",
       "      <td>2018-06-19T00:00:00</td>\n",
       "      <td>2</td>\n",
       "      <td>3.03</td>\n",
       "      <td>14.0</td>\n",
       "      <td>32.00</td>\n",
       "      <td>13</td>\n",
       "      <td>False</td>\n",
       "      <td>...</td>\n",
       "      <td>41.00</td>\n",
       "      <td>0.0</td>\n",
       "      <td>Санкт-Петербург</td>\n",
       "      <td>31856.0</td>\n",
       "      <td>8098.0</td>\n",
       "      <td>2.0</td>\n",
       "      <td>112.0</td>\n",
       "      <td>1.0</td>\n",
       "      <td>48.0</td>\n",
       "      <td>121.0</td>\n",
       "    </tr>\n",
       "    <tr>\n",
       "      <td>5</td>\n",
       "      <td>10</td>\n",
       "      <td>2890000.0</td>\n",
       "      <td>30.40</td>\n",
       "      <td>2018-09-10T00:00:00</td>\n",
       "      <td>1</td>\n",
       "      <td>NaN</td>\n",
       "      <td>12.0</td>\n",
       "      <td>14.40</td>\n",
       "      <td>5</td>\n",
       "      <td>False</td>\n",
       "      <td>...</td>\n",
       "      <td>9.10</td>\n",
       "      <td>0.0</td>\n",
       "      <td>городской посёлок Янино-1</td>\n",
       "      <td>NaN</td>\n",
       "      <td>NaN</td>\n",
       "      <td>NaN</td>\n",
       "      <td>NaN</td>\n",
       "      <td>NaN</td>\n",
       "      <td>NaN</td>\n",
       "      <td>55.0</td>\n",
       "    </tr>\n",
       "    <tr>\n",
       "      <td>6</td>\n",
       "      <td>6</td>\n",
       "      <td>3700000.0</td>\n",
       "      <td>37.30</td>\n",
       "      <td>2017-11-02T00:00:00</td>\n",
       "      <td>1</td>\n",
       "      <td>NaN</td>\n",
       "      <td>26.0</td>\n",
       "      <td>10.60</td>\n",
       "      <td>6</td>\n",
       "      <td>False</td>\n",
       "      <td>...</td>\n",
       "      <td>14.40</td>\n",
       "      <td>1.0</td>\n",
       "      <td>посёлок Парголово</td>\n",
       "      <td>52996.0</td>\n",
       "      <td>19143.0</td>\n",
       "      <td>0.0</td>\n",
       "      <td>NaN</td>\n",
       "      <td>0.0</td>\n",
       "      <td>NaN</td>\n",
       "      <td>155.0</td>\n",
       "    </tr>\n",
       "    <tr>\n",
       "      <td>7</td>\n",
       "      <td>5</td>\n",
       "      <td>7915000.0</td>\n",
       "      <td>71.60</td>\n",
       "      <td>2019-04-18T00:00:00</td>\n",
       "      <td>2</td>\n",
       "      <td>NaN</td>\n",
       "      <td>24.0</td>\n",
       "      <td>NaN</td>\n",
       "      <td>22</td>\n",
       "      <td>False</td>\n",
       "      <td>...</td>\n",
       "      <td>18.90</td>\n",
       "      <td>2.0</td>\n",
       "      <td>Санкт-Петербург</td>\n",
       "      <td>23982.0</td>\n",
       "      <td>11634.0</td>\n",
       "      <td>0.0</td>\n",
       "      <td>NaN</td>\n",
       "      <td>0.0</td>\n",
       "      <td>NaN</td>\n",
       "      <td>NaN</td>\n",
       "    </tr>\n",
       "    <tr>\n",
       "      <td>8</td>\n",
       "      <td>20</td>\n",
       "      <td>2900000.0</td>\n",
       "      <td>33.16</td>\n",
       "      <td>2018-05-23T00:00:00</td>\n",
       "      <td>1</td>\n",
       "      <td>NaN</td>\n",
       "      <td>27.0</td>\n",
       "      <td>15.43</td>\n",
       "      <td>26</td>\n",
       "      <td>False</td>\n",
       "      <td>...</td>\n",
       "      <td>8.81</td>\n",
       "      <td>0.0</td>\n",
       "      <td>посёлок Мурино</td>\n",
       "      <td>NaN</td>\n",
       "      <td>NaN</td>\n",
       "      <td>NaN</td>\n",
       "      <td>NaN</td>\n",
       "      <td>NaN</td>\n",
       "      <td>NaN</td>\n",
       "      <td>189.0</td>\n",
       "    </tr>\n",
       "    <tr>\n",
       "      <td>9</td>\n",
       "      <td>18</td>\n",
       "      <td>5400000.0</td>\n",
       "      <td>61.00</td>\n",
       "      <td>2017-02-26T00:00:00</td>\n",
       "      <td>3</td>\n",
       "      <td>2.50</td>\n",
       "      <td>9.0</td>\n",
       "      <td>43.60</td>\n",
       "      <td>7</td>\n",
       "      <td>False</td>\n",
       "      <td>...</td>\n",
       "      <td>6.50</td>\n",
       "      <td>2.0</td>\n",
       "      <td>Санкт-Петербург</td>\n",
       "      <td>50898.0</td>\n",
       "      <td>15008.0</td>\n",
       "      <td>0.0</td>\n",
       "      <td>NaN</td>\n",
       "      <td>0.0</td>\n",
       "      <td>NaN</td>\n",
       "      <td>289.0</td>\n",
       "    </tr>\n",
       "  </tbody>\n",
       "</table>\n",
       "<p>10 rows × 22 columns</p>\n",
       "</div>"
      ],
      "text/plain": [
       "   total_images  last_price  total_area first_day_exposition  rooms  \\\n",
       "0            20  13000000.0      108.00  2019-03-07T00:00:00      3   \n",
       "1             7   3350000.0       40.40  2018-12-04T00:00:00      1   \n",
       "2            10   5196000.0       56.00  2015-08-20T00:00:00      2   \n",
       "3             0  64900000.0      159.00  2015-07-24T00:00:00      3   \n",
       "4             2  10000000.0      100.00  2018-06-19T00:00:00      2   \n",
       "5            10   2890000.0       30.40  2018-09-10T00:00:00      1   \n",
       "6             6   3700000.0       37.30  2017-11-02T00:00:00      1   \n",
       "7             5   7915000.0       71.60  2019-04-18T00:00:00      2   \n",
       "8            20   2900000.0       33.16  2018-05-23T00:00:00      1   \n",
       "9            18   5400000.0       61.00  2017-02-26T00:00:00      3   \n",
       "\n",
       "   ceiling_height  floors_total  living_area  floor  is_apartment  ...  \\\n",
       "0            2.70          16.0        51.00      8         False  ...   \n",
       "1             NaN          11.0        18.60      1         False  ...   \n",
       "2             NaN           5.0        34.30      4         False  ...   \n",
       "3             NaN          14.0          NaN      9         False  ...   \n",
       "4            3.03          14.0        32.00     13         False  ...   \n",
       "5             NaN          12.0        14.40      5         False  ...   \n",
       "6             NaN          26.0        10.60      6         False  ...   \n",
       "7             NaN          24.0          NaN     22         False  ...   \n",
       "8             NaN          27.0        15.43     26         False  ...   \n",
       "9            2.50           9.0        43.60      7         False  ...   \n",
       "\n",
       "   kitchen_area  balcony              locality_name  airports_nearest  \\\n",
       "0         25.00      0.0            Санкт-Петербург           18863.0   \n",
       "1         11.00      2.0             посёлок Шушары           12817.0   \n",
       "2          8.30      0.0            Санкт-Петербург           21741.0   \n",
       "3           NaN      0.0            Санкт-Петербург           28098.0   \n",
       "4         41.00      0.0            Санкт-Петербург           31856.0   \n",
       "5          9.10      0.0  городской посёлок Янино-1               NaN   \n",
       "6         14.40      1.0          посёлок Парголово           52996.0   \n",
       "7         18.90      2.0            Санкт-Петербург           23982.0   \n",
       "8          8.81      0.0             посёлок Мурино               NaN   \n",
       "9          6.50      2.0            Санкт-Петербург           50898.0   \n",
       "\n",
       "  cityCenters_nearest  parks_around3000  parks_nearest  ponds_around3000  \\\n",
       "0             16028.0               1.0          482.0               2.0   \n",
       "1             18603.0               0.0            NaN               0.0   \n",
       "2             13933.0               1.0           90.0               2.0   \n",
       "3              6800.0               2.0           84.0               3.0   \n",
       "4              8098.0               2.0          112.0               1.0   \n",
       "5                 NaN               NaN            NaN               NaN   \n",
       "6             19143.0               0.0            NaN               0.0   \n",
       "7             11634.0               0.0            NaN               0.0   \n",
       "8                 NaN               NaN            NaN               NaN   \n",
       "9             15008.0               0.0            NaN               0.0   \n",
       "\n",
       "   ponds_nearest  days_exposition  \n",
       "0          755.0              NaN  \n",
       "1            NaN             81.0  \n",
       "2          574.0            558.0  \n",
       "3          234.0            424.0  \n",
       "4           48.0            121.0  \n",
       "5            NaN             55.0  \n",
       "6            NaN            155.0  \n",
       "7            NaN              NaN  \n",
       "8            NaN            189.0  \n",
       "9            NaN            289.0  \n",
       "\n",
       "[10 rows x 22 columns]"
      ]
     },
     "metadata": {},
     "output_type": "display_data"
    },
    {
     "name": "stdout",
     "output_type": "stream",
     "text": [
      "<class 'pandas.core.frame.DataFrame'>\n",
      "RangeIndex: 23699 entries, 0 to 23698\n",
      "Data columns (total 22 columns):\n",
      "total_images            23699 non-null int64\n",
      "last_price              23699 non-null float64\n",
      "total_area              23699 non-null float64\n",
      "first_day_exposition    23699 non-null object\n",
      "rooms                   23699 non-null int64\n",
      "ceiling_height          14504 non-null float64\n",
      "floors_total            23613 non-null float64\n",
      "living_area             21796 non-null float64\n",
      "floor                   23699 non-null int64\n",
      "is_apartment            23699 non-null bool\n",
      "studio                  23699 non-null bool\n",
      "open_plan               23699 non-null bool\n",
      "kitchen_area            21421 non-null float64\n",
      "balcony                 23699 non-null float64\n",
      "locality_name           23650 non-null object\n",
      "airports_nearest        18157 non-null float64\n",
      "cityCenters_nearest     18180 non-null float64\n",
      "parks_around3000        23699 non-null float64\n",
      "parks_nearest           8079 non-null float64\n",
      "ponds_around3000        23699 non-null float64\n",
      "ponds_nearest           9110 non-null float64\n",
      "days_exposition         20518 non-null float64\n",
      "dtypes: bool(3), float64(14), int64(3), object(2)\n",
      "memory usage: 3.5+ MB\n"
     ]
    }
   ],
   "source": [
    "display(data.head(10))                                            # вывод первых 10 строк\n",
    "data['parks_around3000'] = data['parks_around3000'].fillna(0)     # заполнение пропусков в столбце 'parks_around3000'\n",
    "data['ponds_around3000'] = data['ponds_around3000'].fillna(0)     # заполнение пропусков в столбце 'ponds_around3000'\n",
    "data.info()                                                       # проверяем заполнились ли пропуски"
   ]
  },
  {
   "cell_type": "markdown",
   "metadata": {},
   "source": [
    "**Вывод**"
   ]
  },
  {
   "cell_type": "markdown",
   "metadata": {},
   "source": [
    "Из таблицы видно, что пропуски в количестве парков и водоёмов в радиусе 3000 м приводят к пропускам в значениях расстояния до близлежайшего парка или водоёма. Также к пропускам в значениях расстояния до близлежайшего парка или водоёма приводит отсутствие таковых (указан 0). Можно сделать вывод, что заполнить пропуски в количестве парков и водоёмов в радиусе 3000 м надо нулями."
   ]
  },
  {
   "cell_type": "markdown",
   "metadata": {},
   "source": [
    "### Пропуски в этажности здания, где продаётся квартира"
   ]
  },
  {
   "cell_type": "code",
   "execution_count": 10,
   "metadata": {},
   "outputs": [
    {
     "name": "stdout",
     "output_type": "stream",
     "text": [
      "<class 'pandas.core.frame.DataFrame'>\n",
      "RangeIndex: 23699 entries, 0 to 23698\n",
      "Data columns (total 22 columns):\n",
      "total_images            23699 non-null int64\n",
      "last_price              23699 non-null float64\n",
      "total_area              23699 non-null float64\n",
      "first_day_exposition    23699 non-null object\n",
      "rooms                   23699 non-null int64\n",
      "ceiling_height          14504 non-null float64\n",
      "floors_total            23699 non-null float64\n",
      "living_area             21796 non-null float64\n",
      "floor                   23699 non-null int64\n",
      "is_apartment            23699 non-null bool\n",
      "studio                  23699 non-null bool\n",
      "open_plan               23699 non-null bool\n",
      "kitchen_area            21421 non-null float64\n",
      "balcony                 23699 non-null float64\n",
      "locality_name           23650 non-null object\n",
      "airports_nearest        18157 non-null float64\n",
      "cityCenters_nearest     18180 non-null float64\n",
      "parks_around3000        23699 non-null float64\n",
      "parks_nearest           8079 non-null float64\n",
      "ponds_around3000        23699 non-null float64\n",
      "ponds_nearest           9110 non-null float64\n",
      "days_exposition         20518 non-null float64\n",
      "dtypes: bool(3), float64(14), int64(3), object(2)\n",
      "memory usage: 3.5+ MB\n",
      "None\n"
     ]
    },
    {
     "data": {
      "text/plain": [
       "array([16., 11.,  5., 14., 12., 26., 24., 27.,  9.,  6., 17., 25.,  3.,\n",
       "       23., 19., 18.,  4., 22.,  8.,  2., 10.,  7., 13., 15., 20., 28.,\n",
       "       36., 21., 35., 34., 60.,  1., 29., 33., 52., 37.])"
      ]
     },
     "execution_count": 10,
     "metadata": {},
     "output_type": "execute_result"
    }
   ],
   "source": [
    "median_floors_total = data.pivot_table(index='floor',values='floors_total', aggfunc='median') # считаем медиану этажности для \n",
    "                                                                        # каждого этажа квартиры\n",
    "data['floors_total'] = data['floors_total'].fillna(0)                   # избавляемся от пропусков перед обработкой\n",
    "for i in range(len(data['floors_total'])):                              # проходим по всему столбцу 'floors_total'\n",
    "    if data['floors_total'].loc[i] == 0:                                # если натыкаемся на наш вставленный 0 \n",
    "        data['floors_total'].loc[i] = median_floors_total['floors_total'].loc[data['floor'][i]] # заменяем 0 на медианное \n",
    "                                                                        # значение этажности для данного этажа квартиры    \n",
    "print(data.info())     # проверяем не остались ли пропуски\n",
    "data['floors_total'].unique() # проверяем не остались ли наши искуственные 0"
   ]
  },
  {
   "cell_type": "markdown",
   "metadata": {},
   "source": [
    "### Исправление некорректно введённого количества комнат"
   ]
  },
  {
   "cell_type": "code",
   "execution_count": 11,
   "metadata": {},
   "outputs": [
    {
     "data": {
      "text/plain": [
       "array([ 3,  1,  2,  4,  5,  6,  7, 11,  8, 14, 10, 15,  9, 19, 16, 12])"
      ]
     },
     "execution_count": 11,
     "metadata": {},
     "output_type": "execute_result"
    }
   ],
   "source": [
    "data['rooms'] = data['rooms'].where(data['rooms'] != 0, 1)   # заменяем 0 в количестве комнат на 1\n",
    "data['rooms'].unique()                                       # проверка, не осталось ли квартир с 0 комнат"
   ]
  },
  {
   "cell_type": "markdown",
   "metadata": {},
   "source": [
    "### Приведение данных к нужному типу"
   ]
  },
  {
   "cell_type": "code",
   "execution_count": 12,
   "metadata": {},
   "outputs": [
    {
     "name": "stdout",
     "output_type": "stream",
     "text": [
      "<class 'pandas.core.frame.DataFrame'>\n",
      "RangeIndex: 23699 entries, 0 to 23698\n",
      "Data columns (total 22 columns):\n",
      "total_images            23699 non-null int64\n",
      "last_price              23699 non-null int64\n",
      "total_area              23699 non-null float64\n",
      "first_day_exposition    23699 non-null datetime64[ns]\n",
      "rooms                   23699 non-null int64\n",
      "ceiling_height          14504 non-null float64\n",
      "floors_total            23699 non-null int64\n",
      "living_area             21796 non-null float64\n",
      "floor                   23699 non-null int64\n",
      "is_apartment            23699 non-null bool\n",
      "studio                  23699 non-null bool\n",
      "open_plan               23699 non-null bool\n",
      "kitchen_area            21421 non-null float64\n",
      "balcony                 23699 non-null int64\n",
      "locality_name           23650 non-null object\n",
      "airports_nearest        18157 non-null float64\n",
      "cityCenters_nearest     18180 non-null float64\n",
      "parks_around3000        23699 non-null int64\n",
      "parks_nearest           8079 non-null float64\n",
      "ponds_around3000        23699 non-null int64\n",
      "ponds_nearest           9110 non-null float64\n",
      "days_exposition         20518 non-null float64\n",
      "dtypes: bool(3), datetime64[ns](1), float64(9), int64(8), object(1)\n",
      "memory usage: 3.5+ MB\n"
     ]
    }
   ],
   "source": [
    "data['first_day_exposition'] = pd.to_datetime(                         # переводим значения даты размещения объявления\n",
    "    data['first_day_exposition'], format='%Y-%m-%dT%H:%M:%S')          # в формат datetime\n",
    "\n",
    "data['last_price'] = data['last_price'].astype('int')                  #\n",
    "data['floors_total'] = data['floors_total'].astype('int')              #\n",
    "data['balcony'] = data['balcony'].astype('int')                        # переводим целочисленные величины в формат int\n",
    "data['parks_around3000'] = data['parks_around3000'].astype('int')      #\n",
    "data['ponds_around3000'] = data['ponds_around3000'].astype('int')      #\n",
    "data.info()         # проверяем типы данных"
   ]
  },
  {
   "cell_type": "markdown",
   "metadata": {},
   "source": [
    "**Вывод**\n",
    "\n",
    "Дата подачи объявления была приведена к удобному для представления формату datetime, а числа, для которых достаточно целочисленного представления к типу int "
   ]
  },
  {
   "cell_type": "markdown",
   "metadata": {},
   "source": [
    "## Расчёты и добавление результатов в таблицу"
   ]
  },
  {
   "cell_type": "markdown",
   "metadata": {},
   "source": [
    "### Цена за квадратный метр"
   ]
  },
  {
   "cell_type": "code",
   "execution_count": 13,
   "metadata": {},
   "outputs": [
    {
     "data": {
      "text/html": [
       "<div>\n",
       "<style scoped>\n",
       "    .dataframe tbody tr th:only-of-type {\n",
       "        vertical-align: middle;\n",
       "    }\n",
       "\n",
       "    .dataframe tbody tr th {\n",
       "        vertical-align: top;\n",
       "    }\n",
       "\n",
       "    .dataframe thead th {\n",
       "        text-align: right;\n",
       "    }\n",
       "</style>\n",
       "<table border=\"1\" class=\"dataframe\">\n",
       "  <thead>\n",
       "    <tr style=\"text-align: right;\">\n",
       "      <th></th>\n",
       "      <th>total_images</th>\n",
       "      <th>last_price</th>\n",
       "      <th>total_area</th>\n",
       "      <th>first_day_exposition</th>\n",
       "      <th>rooms</th>\n",
       "      <th>ceiling_height</th>\n",
       "      <th>floors_total</th>\n",
       "      <th>living_area</th>\n",
       "      <th>floor</th>\n",
       "      <th>is_apartment</th>\n",
       "      <th>...</th>\n",
       "      <th>balcony</th>\n",
       "      <th>locality_name</th>\n",
       "      <th>airports_nearest</th>\n",
       "      <th>cityCenters_nearest</th>\n",
       "      <th>parks_around3000</th>\n",
       "      <th>parks_nearest</th>\n",
       "      <th>ponds_around3000</th>\n",
       "      <th>ponds_nearest</th>\n",
       "      <th>days_exposition</th>\n",
       "      <th>price_per_meter</th>\n",
       "    </tr>\n",
       "  </thead>\n",
       "  <tbody>\n",
       "    <tr>\n",
       "      <td>0</td>\n",
       "      <td>20</td>\n",
       "      <td>13000000</td>\n",
       "      <td>108.0</td>\n",
       "      <td>2019-03-07</td>\n",
       "      <td>3</td>\n",
       "      <td>2.70</td>\n",
       "      <td>16</td>\n",
       "      <td>51.0</td>\n",
       "      <td>8</td>\n",
       "      <td>False</td>\n",
       "      <td>...</td>\n",
       "      <td>0</td>\n",
       "      <td>Санкт-Петербург</td>\n",
       "      <td>18863.0</td>\n",
       "      <td>16028.0</td>\n",
       "      <td>1</td>\n",
       "      <td>482.0</td>\n",
       "      <td>2</td>\n",
       "      <td>755.0</td>\n",
       "      <td>NaN</td>\n",
       "      <td>120370</td>\n",
       "    </tr>\n",
       "    <tr>\n",
       "      <td>1</td>\n",
       "      <td>7</td>\n",
       "      <td>3350000</td>\n",
       "      <td>40.4</td>\n",
       "      <td>2018-12-04</td>\n",
       "      <td>1</td>\n",
       "      <td>NaN</td>\n",
       "      <td>11</td>\n",
       "      <td>18.6</td>\n",
       "      <td>1</td>\n",
       "      <td>False</td>\n",
       "      <td>...</td>\n",
       "      <td>2</td>\n",
       "      <td>посёлок Шушары</td>\n",
       "      <td>12817.0</td>\n",
       "      <td>18603.0</td>\n",
       "      <td>0</td>\n",
       "      <td>NaN</td>\n",
       "      <td>0</td>\n",
       "      <td>NaN</td>\n",
       "      <td>81.0</td>\n",
       "      <td>82920</td>\n",
       "    </tr>\n",
       "    <tr>\n",
       "      <td>2</td>\n",
       "      <td>10</td>\n",
       "      <td>5196000</td>\n",
       "      <td>56.0</td>\n",
       "      <td>2015-08-20</td>\n",
       "      <td>2</td>\n",
       "      <td>NaN</td>\n",
       "      <td>5</td>\n",
       "      <td>34.3</td>\n",
       "      <td>4</td>\n",
       "      <td>False</td>\n",
       "      <td>...</td>\n",
       "      <td>0</td>\n",
       "      <td>Санкт-Петербург</td>\n",
       "      <td>21741.0</td>\n",
       "      <td>13933.0</td>\n",
       "      <td>1</td>\n",
       "      <td>90.0</td>\n",
       "      <td>2</td>\n",
       "      <td>574.0</td>\n",
       "      <td>558.0</td>\n",
       "      <td>92785</td>\n",
       "    </tr>\n",
       "    <tr>\n",
       "      <td>3</td>\n",
       "      <td>0</td>\n",
       "      <td>64900000</td>\n",
       "      <td>159.0</td>\n",
       "      <td>2015-07-24</td>\n",
       "      <td>3</td>\n",
       "      <td>NaN</td>\n",
       "      <td>14</td>\n",
       "      <td>NaN</td>\n",
       "      <td>9</td>\n",
       "      <td>False</td>\n",
       "      <td>...</td>\n",
       "      <td>0</td>\n",
       "      <td>Санкт-Петербург</td>\n",
       "      <td>28098.0</td>\n",
       "      <td>6800.0</td>\n",
       "      <td>2</td>\n",
       "      <td>84.0</td>\n",
       "      <td>3</td>\n",
       "      <td>234.0</td>\n",
       "      <td>424.0</td>\n",
       "      <td>408176</td>\n",
       "    </tr>\n",
       "    <tr>\n",
       "      <td>4</td>\n",
       "      <td>2</td>\n",
       "      <td>10000000</td>\n",
       "      <td>100.0</td>\n",
       "      <td>2018-06-19</td>\n",
       "      <td>2</td>\n",
       "      <td>3.03</td>\n",
       "      <td>14</td>\n",
       "      <td>32.0</td>\n",
       "      <td>13</td>\n",
       "      <td>False</td>\n",
       "      <td>...</td>\n",
       "      <td>0</td>\n",
       "      <td>Санкт-Петербург</td>\n",
       "      <td>31856.0</td>\n",
       "      <td>8098.0</td>\n",
       "      <td>2</td>\n",
       "      <td>112.0</td>\n",
       "      <td>1</td>\n",
       "      <td>48.0</td>\n",
       "      <td>121.0</td>\n",
       "      <td>100000</td>\n",
       "    </tr>\n",
       "  </tbody>\n",
       "</table>\n",
       "<p>5 rows × 23 columns</p>\n",
       "</div>"
      ],
      "text/plain": [
       "   total_images  last_price  total_area first_day_exposition  rooms  \\\n",
       "0            20    13000000       108.0           2019-03-07      3   \n",
       "1             7     3350000        40.4           2018-12-04      1   \n",
       "2            10     5196000        56.0           2015-08-20      2   \n",
       "3             0    64900000       159.0           2015-07-24      3   \n",
       "4             2    10000000       100.0           2018-06-19      2   \n",
       "\n",
       "   ceiling_height  floors_total  living_area  floor  is_apartment  ...  \\\n",
       "0            2.70            16         51.0      8         False  ...   \n",
       "1             NaN            11         18.6      1         False  ...   \n",
       "2             NaN             5         34.3      4         False  ...   \n",
       "3             NaN            14          NaN      9         False  ...   \n",
       "4            3.03            14         32.0     13         False  ...   \n",
       "\n",
       "   balcony    locality_name  airports_nearest  cityCenters_nearest  \\\n",
       "0        0  Санкт-Петербург           18863.0              16028.0   \n",
       "1        2   посёлок Шушары           12817.0              18603.0   \n",
       "2        0  Санкт-Петербург           21741.0              13933.0   \n",
       "3        0  Санкт-Петербург           28098.0               6800.0   \n",
       "4        0  Санкт-Петербург           31856.0               8098.0   \n",
       "\n",
       "  parks_around3000  parks_nearest  ponds_around3000  ponds_nearest  \\\n",
       "0                1          482.0                 2          755.0   \n",
       "1                0            NaN                 0            NaN   \n",
       "2                1           90.0                 2          574.0   \n",
       "3                2           84.0                 3          234.0   \n",
       "4                2          112.0                 1           48.0   \n",
       "\n",
       "   days_exposition  price_per_meter  \n",
       "0              NaN           120370  \n",
       "1             81.0            82920  \n",
       "2            558.0            92785  \n",
       "3            424.0           408176  \n",
       "4            121.0           100000  \n",
       "\n",
       "[5 rows x 23 columns]"
      ]
     },
     "execution_count": 13,
     "metadata": {},
     "output_type": "execute_result"
    }
   ],
   "source": [
    "data['price_per_meter'] = (data['last_price'] / data['total_area']).astype('int') # добавляем столбец \"цена за кв. метр\"\n",
    "data.head()   # проверяем столбец"
   ]
  },
  {
   "cell_type": "markdown",
   "metadata": {},
   "source": [
    "### День недели, месяц и год публикации объявления"
   ]
  },
  {
   "cell_type": "code",
   "execution_count": 14,
   "metadata": {},
   "outputs": [
    {
     "data": {
      "text/html": [
       "<div>\n",
       "<style scoped>\n",
       "    .dataframe tbody tr th:only-of-type {\n",
       "        vertical-align: middle;\n",
       "    }\n",
       "\n",
       "    .dataframe tbody tr th {\n",
       "        vertical-align: top;\n",
       "    }\n",
       "\n",
       "    .dataframe thead th {\n",
       "        text-align: right;\n",
       "    }\n",
       "</style>\n",
       "<table border=\"1\" class=\"dataframe\">\n",
       "  <thead>\n",
       "    <tr style=\"text-align: right;\">\n",
       "      <th></th>\n",
       "      <th>total_images</th>\n",
       "      <th>last_price</th>\n",
       "      <th>total_area</th>\n",
       "      <th>first_day_exposition</th>\n",
       "      <th>rooms</th>\n",
       "      <th>ceiling_height</th>\n",
       "      <th>floors_total</th>\n",
       "      <th>living_area</th>\n",
       "      <th>floor</th>\n",
       "      <th>is_apartment</th>\n",
       "      <th>...</th>\n",
       "      <th>cityCenters_nearest</th>\n",
       "      <th>parks_around3000</th>\n",
       "      <th>parks_nearest</th>\n",
       "      <th>ponds_around3000</th>\n",
       "      <th>ponds_nearest</th>\n",
       "      <th>days_exposition</th>\n",
       "      <th>price_per_meter</th>\n",
       "      <th>exposition_weekday</th>\n",
       "      <th>exposition_month</th>\n",
       "      <th>exposition_year</th>\n",
       "    </tr>\n",
       "  </thead>\n",
       "  <tbody>\n",
       "    <tr>\n",
       "      <td>0</td>\n",
       "      <td>20</td>\n",
       "      <td>13000000</td>\n",
       "      <td>108.0</td>\n",
       "      <td>2019-03-07</td>\n",
       "      <td>3</td>\n",
       "      <td>2.70</td>\n",
       "      <td>16</td>\n",
       "      <td>51.0</td>\n",
       "      <td>8</td>\n",
       "      <td>False</td>\n",
       "      <td>...</td>\n",
       "      <td>16028.0</td>\n",
       "      <td>1</td>\n",
       "      <td>482.0</td>\n",
       "      <td>2</td>\n",
       "      <td>755.0</td>\n",
       "      <td>NaN</td>\n",
       "      <td>120370</td>\n",
       "      <td>3</td>\n",
       "      <td>3</td>\n",
       "      <td>2019</td>\n",
       "    </tr>\n",
       "    <tr>\n",
       "      <td>1</td>\n",
       "      <td>7</td>\n",
       "      <td>3350000</td>\n",
       "      <td>40.4</td>\n",
       "      <td>2018-12-04</td>\n",
       "      <td>1</td>\n",
       "      <td>NaN</td>\n",
       "      <td>11</td>\n",
       "      <td>18.6</td>\n",
       "      <td>1</td>\n",
       "      <td>False</td>\n",
       "      <td>...</td>\n",
       "      <td>18603.0</td>\n",
       "      <td>0</td>\n",
       "      <td>NaN</td>\n",
       "      <td>0</td>\n",
       "      <td>NaN</td>\n",
       "      <td>81.0</td>\n",
       "      <td>82920</td>\n",
       "      <td>1</td>\n",
       "      <td>12</td>\n",
       "      <td>2018</td>\n",
       "    </tr>\n",
       "    <tr>\n",
       "      <td>2</td>\n",
       "      <td>10</td>\n",
       "      <td>5196000</td>\n",
       "      <td>56.0</td>\n",
       "      <td>2015-08-20</td>\n",
       "      <td>2</td>\n",
       "      <td>NaN</td>\n",
       "      <td>5</td>\n",
       "      <td>34.3</td>\n",
       "      <td>4</td>\n",
       "      <td>False</td>\n",
       "      <td>...</td>\n",
       "      <td>13933.0</td>\n",
       "      <td>1</td>\n",
       "      <td>90.0</td>\n",
       "      <td>2</td>\n",
       "      <td>574.0</td>\n",
       "      <td>558.0</td>\n",
       "      <td>92785</td>\n",
       "      <td>3</td>\n",
       "      <td>8</td>\n",
       "      <td>2015</td>\n",
       "    </tr>\n",
       "    <tr>\n",
       "      <td>3</td>\n",
       "      <td>0</td>\n",
       "      <td>64900000</td>\n",
       "      <td>159.0</td>\n",
       "      <td>2015-07-24</td>\n",
       "      <td>3</td>\n",
       "      <td>NaN</td>\n",
       "      <td>14</td>\n",
       "      <td>NaN</td>\n",
       "      <td>9</td>\n",
       "      <td>False</td>\n",
       "      <td>...</td>\n",
       "      <td>6800.0</td>\n",
       "      <td>2</td>\n",
       "      <td>84.0</td>\n",
       "      <td>3</td>\n",
       "      <td>234.0</td>\n",
       "      <td>424.0</td>\n",
       "      <td>408176</td>\n",
       "      <td>4</td>\n",
       "      <td>7</td>\n",
       "      <td>2015</td>\n",
       "    </tr>\n",
       "    <tr>\n",
       "      <td>4</td>\n",
       "      <td>2</td>\n",
       "      <td>10000000</td>\n",
       "      <td>100.0</td>\n",
       "      <td>2018-06-19</td>\n",
       "      <td>2</td>\n",
       "      <td>3.03</td>\n",
       "      <td>14</td>\n",
       "      <td>32.0</td>\n",
       "      <td>13</td>\n",
       "      <td>False</td>\n",
       "      <td>...</td>\n",
       "      <td>8098.0</td>\n",
       "      <td>2</td>\n",
       "      <td>112.0</td>\n",
       "      <td>1</td>\n",
       "      <td>48.0</td>\n",
       "      <td>121.0</td>\n",
       "      <td>100000</td>\n",
       "      <td>1</td>\n",
       "      <td>6</td>\n",
       "      <td>2018</td>\n",
       "    </tr>\n",
       "  </tbody>\n",
       "</table>\n",
       "<p>5 rows × 26 columns</p>\n",
       "</div>"
      ],
      "text/plain": [
       "   total_images  last_price  total_area first_day_exposition  rooms  \\\n",
       "0            20    13000000       108.0           2019-03-07      3   \n",
       "1             7     3350000        40.4           2018-12-04      1   \n",
       "2            10     5196000        56.0           2015-08-20      2   \n",
       "3             0    64900000       159.0           2015-07-24      3   \n",
       "4             2    10000000       100.0           2018-06-19      2   \n",
       "\n",
       "   ceiling_height  floors_total  living_area  floor  is_apartment  ...  \\\n",
       "0            2.70            16         51.0      8         False  ...   \n",
       "1             NaN            11         18.6      1         False  ...   \n",
       "2             NaN             5         34.3      4         False  ...   \n",
       "3             NaN            14          NaN      9         False  ...   \n",
       "4            3.03            14         32.0     13         False  ...   \n",
       "\n",
       "   cityCenters_nearest  parks_around3000  parks_nearest  ponds_around3000  \\\n",
       "0              16028.0                 1          482.0                 2   \n",
       "1              18603.0                 0            NaN                 0   \n",
       "2              13933.0                 1           90.0                 2   \n",
       "3               6800.0                 2           84.0                 3   \n",
       "4               8098.0                 2          112.0                 1   \n",
       "\n",
       "  ponds_nearest  days_exposition  price_per_meter  exposition_weekday  \\\n",
       "0         755.0              NaN           120370                   3   \n",
       "1           NaN             81.0            82920                   1   \n",
       "2         574.0            558.0            92785                   3   \n",
       "3         234.0            424.0           408176                   4   \n",
       "4          48.0            121.0           100000                   1   \n",
       "\n",
       "   exposition_month  exposition_year  \n",
       "0                 3             2019  \n",
       "1                12             2018  \n",
       "2                 8             2015  \n",
       "3                 7             2015  \n",
       "4                 6             2018  \n",
       "\n",
       "[5 rows x 26 columns]"
      ]
     },
     "execution_count": 14,
     "metadata": {},
     "output_type": "execute_result"
    }
   ],
   "source": [
    "data['exposition_weekday'] = data['first_day_exposition'].dt.weekday    #\n",
    "data['exposition_month'] = data['first_day_exposition'].dt.month        # добавляем стобцы: день недели, месяц, год размещения  \n",
    "data['exposition_year'] = data['first_day_exposition'].dt.year          #\n",
    "data.head()                                                             # проверяем столбцы"
   ]
  },
  {
   "cell_type": "markdown",
   "metadata": {},
   "source": [
    "### Классификация по этажу"
   ]
  },
  {
   "cell_type": "code",
   "execution_count": 15,
   "metadata": {},
   "outputs": [
    {
     "data": {
      "text/html": [
       "<div>\n",
       "<style scoped>\n",
       "    .dataframe tbody tr th:only-of-type {\n",
       "        vertical-align: middle;\n",
       "    }\n",
       "\n",
       "    .dataframe tbody tr th {\n",
       "        vertical-align: top;\n",
       "    }\n",
       "\n",
       "    .dataframe thead th {\n",
       "        text-align: right;\n",
       "    }\n",
       "</style>\n",
       "<table border=\"1\" class=\"dataframe\">\n",
       "  <thead>\n",
       "    <tr style=\"text-align: right;\">\n",
       "      <th></th>\n",
       "      <th>total_images</th>\n",
       "      <th>last_price</th>\n",
       "      <th>total_area</th>\n",
       "      <th>first_day_exposition</th>\n",
       "      <th>rooms</th>\n",
       "      <th>ceiling_height</th>\n",
       "      <th>floors_total</th>\n",
       "      <th>living_area</th>\n",
       "      <th>floor</th>\n",
       "      <th>is_apartment</th>\n",
       "      <th>...</th>\n",
       "      <th>parks_around3000</th>\n",
       "      <th>parks_nearest</th>\n",
       "      <th>ponds_around3000</th>\n",
       "      <th>ponds_nearest</th>\n",
       "      <th>days_exposition</th>\n",
       "      <th>price_per_meter</th>\n",
       "      <th>exposition_weekday</th>\n",
       "      <th>exposition_month</th>\n",
       "      <th>exposition_year</th>\n",
       "      <th>floor_type</th>\n",
       "    </tr>\n",
       "  </thead>\n",
       "  <tbody>\n",
       "    <tr>\n",
       "      <td>0</td>\n",
       "      <td>20</td>\n",
       "      <td>13000000</td>\n",
       "      <td>108.00</td>\n",
       "      <td>2019-03-07</td>\n",
       "      <td>3</td>\n",
       "      <td>2.70</td>\n",
       "      <td>16</td>\n",
       "      <td>51.00</td>\n",
       "      <td>8</td>\n",
       "      <td>False</td>\n",
       "      <td>...</td>\n",
       "      <td>1</td>\n",
       "      <td>482.0</td>\n",
       "      <td>2</td>\n",
       "      <td>755.0</td>\n",
       "      <td>NaN</td>\n",
       "      <td>120370</td>\n",
       "      <td>3</td>\n",
       "      <td>3</td>\n",
       "      <td>2019</td>\n",
       "      <td>другой</td>\n",
       "    </tr>\n",
       "    <tr>\n",
       "      <td>1</td>\n",
       "      <td>7</td>\n",
       "      <td>3350000</td>\n",
       "      <td>40.40</td>\n",
       "      <td>2018-12-04</td>\n",
       "      <td>1</td>\n",
       "      <td>NaN</td>\n",
       "      <td>11</td>\n",
       "      <td>18.60</td>\n",
       "      <td>1</td>\n",
       "      <td>False</td>\n",
       "      <td>...</td>\n",
       "      <td>0</td>\n",
       "      <td>NaN</td>\n",
       "      <td>0</td>\n",
       "      <td>NaN</td>\n",
       "      <td>81.0</td>\n",
       "      <td>82920</td>\n",
       "      <td>1</td>\n",
       "      <td>12</td>\n",
       "      <td>2018</td>\n",
       "      <td>первый</td>\n",
       "    </tr>\n",
       "    <tr>\n",
       "      <td>2</td>\n",
       "      <td>10</td>\n",
       "      <td>5196000</td>\n",
       "      <td>56.00</td>\n",
       "      <td>2015-08-20</td>\n",
       "      <td>2</td>\n",
       "      <td>NaN</td>\n",
       "      <td>5</td>\n",
       "      <td>34.30</td>\n",
       "      <td>4</td>\n",
       "      <td>False</td>\n",
       "      <td>...</td>\n",
       "      <td>1</td>\n",
       "      <td>90.0</td>\n",
       "      <td>2</td>\n",
       "      <td>574.0</td>\n",
       "      <td>558.0</td>\n",
       "      <td>92785</td>\n",
       "      <td>3</td>\n",
       "      <td>8</td>\n",
       "      <td>2015</td>\n",
       "      <td>другой</td>\n",
       "    </tr>\n",
       "    <tr>\n",
       "      <td>3</td>\n",
       "      <td>0</td>\n",
       "      <td>64900000</td>\n",
       "      <td>159.00</td>\n",
       "      <td>2015-07-24</td>\n",
       "      <td>3</td>\n",
       "      <td>NaN</td>\n",
       "      <td>14</td>\n",
       "      <td>NaN</td>\n",
       "      <td>9</td>\n",
       "      <td>False</td>\n",
       "      <td>...</td>\n",
       "      <td>2</td>\n",
       "      <td>84.0</td>\n",
       "      <td>3</td>\n",
       "      <td>234.0</td>\n",
       "      <td>424.0</td>\n",
       "      <td>408176</td>\n",
       "      <td>4</td>\n",
       "      <td>7</td>\n",
       "      <td>2015</td>\n",
       "      <td>другой</td>\n",
       "    </tr>\n",
       "    <tr>\n",
       "      <td>4</td>\n",
       "      <td>2</td>\n",
       "      <td>10000000</td>\n",
       "      <td>100.00</td>\n",
       "      <td>2018-06-19</td>\n",
       "      <td>2</td>\n",
       "      <td>3.03</td>\n",
       "      <td>14</td>\n",
       "      <td>32.00</td>\n",
       "      <td>13</td>\n",
       "      <td>False</td>\n",
       "      <td>...</td>\n",
       "      <td>2</td>\n",
       "      <td>112.0</td>\n",
       "      <td>1</td>\n",
       "      <td>48.0</td>\n",
       "      <td>121.0</td>\n",
       "      <td>100000</td>\n",
       "      <td>1</td>\n",
       "      <td>6</td>\n",
       "      <td>2018</td>\n",
       "      <td>другой</td>\n",
       "    </tr>\n",
       "    <tr>\n",
       "      <td>5</td>\n",
       "      <td>10</td>\n",
       "      <td>2890000</td>\n",
       "      <td>30.40</td>\n",
       "      <td>2018-09-10</td>\n",
       "      <td>1</td>\n",
       "      <td>NaN</td>\n",
       "      <td>12</td>\n",
       "      <td>14.40</td>\n",
       "      <td>5</td>\n",
       "      <td>False</td>\n",
       "      <td>...</td>\n",
       "      <td>0</td>\n",
       "      <td>NaN</td>\n",
       "      <td>0</td>\n",
       "      <td>NaN</td>\n",
       "      <td>55.0</td>\n",
       "      <td>95065</td>\n",
       "      <td>0</td>\n",
       "      <td>9</td>\n",
       "      <td>2018</td>\n",
       "      <td>другой</td>\n",
       "    </tr>\n",
       "    <tr>\n",
       "      <td>6</td>\n",
       "      <td>6</td>\n",
       "      <td>3700000</td>\n",
       "      <td>37.30</td>\n",
       "      <td>2017-11-02</td>\n",
       "      <td>1</td>\n",
       "      <td>NaN</td>\n",
       "      <td>26</td>\n",
       "      <td>10.60</td>\n",
       "      <td>6</td>\n",
       "      <td>False</td>\n",
       "      <td>...</td>\n",
       "      <td>0</td>\n",
       "      <td>NaN</td>\n",
       "      <td>0</td>\n",
       "      <td>NaN</td>\n",
       "      <td>155.0</td>\n",
       "      <td>99195</td>\n",
       "      <td>3</td>\n",
       "      <td>11</td>\n",
       "      <td>2017</td>\n",
       "      <td>другой</td>\n",
       "    </tr>\n",
       "    <tr>\n",
       "      <td>7</td>\n",
       "      <td>5</td>\n",
       "      <td>7915000</td>\n",
       "      <td>71.60</td>\n",
       "      <td>2019-04-18</td>\n",
       "      <td>2</td>\n",
       "      <td>NaN</td>\n",
       "      <td>24</td>\n",
       "      <td>NaN</td>\n",
       "      <td>22</td>\n",
       "      <td>False</td>\n",
       "      <td>...</td>\n",
       "      <td>0</td>\n",
       "      <td>NaN</td>\n",
       "      <td>0</td>\n",
       "      <td>NaN</td>\n",
       "      <td>NaN</td>\n",
       "      <td>110544</td>\n",
       "      <td>3</td>\n",
       "      <td>4</td>\n",
       "      <td>2019</td>\n",
       "      <td>другой</td>\n",
       "    </tr>\n",
       "    <tr>\n",
       "      <td>8</td>\n",
       "      <td>20</td>\n",
       "      <td>2900000</td>\n",
       "      <td>33.16</td>\n",
       "      <td>2018-05-23</td>\n",
       "      <td>1</td>\n",
       "      <td>NaN</td>\n",
       "      <td>27</td>\n",
       "      <td>15.43</td>\n",
       "      <td>26</td>\n",
       "      <td>False</td>\n",
       "      <td>...</td>\n",
       "      <td>0</td>\n",
       "      <td>NaN</td>\n",
       "      <td>0</td>\n",
       "      <td>NaN</td>\n",
       "      <td>189.0</td>\n",
       "      <td>87454</td>\n",
       "      <td>2</td>\n",
       "      <td>5</td>\n",
       "      <td>2018</td>\n",
       "      <td>другой</td>\n",
       "    </tr>\n",
       "    <tr>\n",
       "      <td>9</td>\n",
       "      <td>18</td>\n",
       "      <td>5400000</td>\n",
       "      <td>61.00</td>\n",
       "      <td>2017-02-26</td>\n",
       "      <td>3</td>\n",
       "      <td>2.50</td>\n",
       "      <td>9</td>\n",
       "      <td>43.60</td>\n",
       "      <td>7</td>\n",
       "      <td>False</td>\n",
       "      <td>...</td>\n",
       "      <td>0</td>\n",
       "      <td>NaN</td>\n",
       "      <td>0</td>\n",
       "      <td>NaN</td>\n",
       "      <td>289.0</td>\n",
       "      <td>88524</td>\n",
       "      <td>6</td>\n",
       "      <td>2</td>\n",
       "      <td>2017</td>\n",
       "      <td>другой</td>\n",
       "    </tr>\n",
       "    <tr>\n",
       "      <td>10</td>\n",
       "      <td>5</td>\n",
       "      <td>5050000</td>\n",
       "      <td>39.60</td>\n",
       "      <td>2017-11-16</td>\n",
       "      <td>1</td>\n",
       "      <td>2.67</td>\n",
       "      <td>12</td>\n",
       "      <td>20.30</td>\n",
       "      <td>3</td>\n",
       "      <td>False</td>\n",
       "      <td>...</td>\n",
       "      <td>1</td>\n",
       "      <td>310.0</td>\n",
       "      <td>2</td>\n",
       "      <td>553.0</td>\n",
       "      <td>137.0</td>\n",
       "      <td>127525</td>\n",
       "      <td>3</td>\n",
       "      <td>11</td>\n",
       "      <td>2017</td>\n",
       "      <td>другой</td>\n",
       "    </tr>\n",
       "    <tr>\n",
       "      <td>11</td>\n",
       "      <td>9</td>\n",
       "      <td>3300000</td>\n",
       "      <td>44.00</td>\n",
       "      <td>2018-08-27</td>\n",
       "      <td>2</td>\n",
       "      <td>NaN</td>\n",
       "      <td>5</td>\n",
       "      <td>31.00</td>\n",
       "      <td>4</td>\n",
       "      <td>False</td>\n",
       "      <td>...</td>\n",
       "      <td>0</td>\n",
       "      <td>NaN</td>\n",
       "      <td>0</td>\n",
       "      <td>NaN</td>\n",
       "      <td>7.0</td>\n",
       "      <td>75000</td>\n",
       "      <td>0</td>\n",
       "      <td>8</td>\n",
       "      <td>2018</td>\n",
       "      <td>другой</td>\n",
       "    </tr>\n",
       "    <tr>\n",
       "      <td>12</td>\n",
       "      <td>10</td>\n",
       "      <td>3890000</td>\n",
       "      <td>54.00</td>\n",
       "      <td>2016-06-30</td>\n",
       "      <td>2</td>\n",
       "      <td>NaN</td>\n",
       "      <td>5</td>\n",
       "      <td>30.00</td>\n",
       "      <td>5</td>\n",
       "      <td>False</td>\n",
       "      <td>...</td>\n",
       "      <td>0</td>\n",
       "      <td>NaN</td>\n",
       "      <td>0</td>\n",
       "      <td>NaN</td>\n",
       "      <td>90.0</td>\n",
       "      <td>72037</td>\n",
       "      <td>3</td>\n",
       "      <td>6</td>\n",
       "      <td>2016</td>\n",
       "      <td>последний</td>\n",
       "    </tr>\n",
       "    <tr>\n",
       "      <td>13</td>\n",
       "      <td>20</td>\n",
       "      <td>3550000</td>\n",
       "      <td>42.80</td>\n",
       "      <td>2017-07-01</td>\n",
       "      <td>2</td>\n",
       "      <td>2.56</td>\n",
       "      <td>5</td>\n",
       "      <td>27.00</td>\n",
       "      <td>5</td>\n",
       "      <td>False</td>\n",
       "      <td>...</td>\n",
       "      <td>1</td>\n",
       "      <td>294.0</td>\n",
       "      <td>3</td>\n",
       "      <td>298.0</td>\n",
       "      <td>366.0</td>\n",
       "      <td>82943</td>\n",
       "      <td>5</td>\n",
       "      <td>7</td>\n",
       "      <td>2017</td>\n",
       "      <td>последний</td>\n",
       "    </tr>\n",
       "    <tr>\n",
       "      <td>14</td>\n",
       "      <td>1</td>\n",
       "      <td>4400000</td>\n",
       "      <td>36.00</td>\n",
       "      <td>2016-06-23</td>\n",
       "      <td>1</td>\n",
       "      <td>NaN</td>\n",
       "      <td>6</td>\n",
       "      <td>17.00</td>\n",
       "      <td>1</td>\n",
       "      <td>False</td>\n",
       "      <td>...</td>\n",
       "      <td>0</td>\n",
       "      <td>NaN</td>\n",
       "      <td>1</td>\n",
       "      <td>96.0</td>\n",
       "      <td>203.0</td>\n",
       "      <td>122222</td>\n",
       "      <td>3</td>\n",
       "      <td>6</td>\n",
       "      <td>2016</td>\n",
       "      <td>первый</td>\n",
       "    </tr>\n",
       "  </tbody>\n",
       "</table>\n",
       "<p>15 rows × 27 columns</p>\n",
       "</div>"
      ],
      "text/plain": [
       "    total_images  last_price  total_area first_day_exposition  rooms  \\\n",
       "0             20    13000000      108.00           2019-03-07      3   \n",
       "1              7     3350000       40.40           2018-12-04      1   \n",
       "2             10     5196000       56.00           2015-08-20      2   \n",
       "3              0    64900000      159.00           2015-07-24      3   \n",
       "4              2    10000000      100.00           2018-06-19      2   \n",
       "5             10     2890000       30.40           2018-09-10      1   \n",
       "6              6     3700000       37.30           2017-11-02      1   \n",
       "7              5     7915000       71.60           2019-04-18      2   \n",
       "8             20     2900000       33.16           2018-05-23      1   \n",
       "9             18     5400000       61.00           2017-02-26      3   \n",
       "10             5     5050000       39.60           2017-11-16      1   \n",
       "11             9     3300000       44.00           2018-08-27      2   \n",
       "12            10     3890000       54.00           2016-06-30      2   \n",
       "13            20     3550000       42.80           2017-07-01      2   \n",
       "14             1     4400000       36.00           2016-06-23      1   \n",
       "\n",
       "    ceiling_height  floors_total  living_area  floor  is_apartment  ...  \\\n",
       "0             2.70            16        51.00      8         False  ...   \n",
       "1              NaN            11        18.60      1         False  ...   \n",
       "2              NaN             5        34.30      4         False  ...   \n",
       "3              NaN            14          NaN      9         False  ...   \n",
       "4             3.03            14        32.00     13         False  ...   \n",
       "5              NaN            12        14.40      5         False  ...   \n",
       "6              NaN            26        10.60      6         False  ...   \n",
       "7              NaN            24          NaN     22         False  ...   \n",
       "8              NaN            27        15.43     26         False  ...   \n",
       "9             2.50             9        43.60      7         False  ...   \n",
       "10            2.67            12        20.30      3         False  ...   \n",
       "11             NaN             5        31.00      4         False  ...   \n",
       "12             NaN             5        30.00      5         False  ...   \n",
       "13            2.56             5        27.00      5         False  ...   \n",
       "14             NaN             6        17.00      1         False  ...   \n",
       "\n",
       "    parks_around3000  parks_nearest  ponds_around3000  ponds_nearest  \\\n",
       "0                  1          482.0                 2          755.0   \n",
       "1                  0            NaN                 0            NaN   \n",
       "2                  1           90.0                 2          574.0   \n",
       "3                  2           84.0                 3          234.0   \n",
       "4                  2          112.0                 1           48.0   \n",
       "5                  0            NaN                 0            NaN   \n",
       "6                  0            NaN                 0            NaN   \n",
       "7                  0            NaN                 0            NaN   \n",
       "8                  0            NaN                 0            NaN   \n",
       "9                  0            NaN                 0            NaN   \n",
       "10                 1          310.0                 2          553.0   \n",
       "11                 0            NaN                 0            NaN   \n",
       "12                 0            NaN                 0            NaN   \n",
       "13                 1          294.0                 3          298.0   \n",
       "14                 0            NaN                 1           96.0   \n",
       "\n",
       "   days_exposition  price_per_meter  exposition_weekday  exposition_month  \\\n",
       "0              NaN           120370                   3                 3   \n",
       "1             81.0            82920                   1                12   \n",
       "2            558.0            92785                   3                 8   \n",
       "3            424.0           408176                   4                 7   \n",
       "4            121.0           100000                   1                 6   \n",
       "5             55.0            95065                   0                 9   \n",
       "6            155.0            99195                   3                11   \n",
       "7              NaN           110544                   3                 4   \n",
       "8            189.0            87454                   2                 5   \n",
       "9            289.0            88524                   6                 2   \n",
       "10           137.0           127525                   3                11   \n",
       "11             7.0            75000                   0                 8   \n",
       "12            90.0            72037                   3                 6   \n",
       "13           366.0            82943                   5                 7   \n",
       "14           203.0           122222                   3                 6   \n",
       "\n",
       "    exposition_year  floor_type  \n",
       "0              2019      другой  \n",
       "1              2018      первый  \n",
       "2              2015      другой  \n",
       "3              2015      другой  \n",
       "4              2018      другой  \n",
       "5              2018      другой  \n",
       "6              2017      другой  \n",
       "7              2019      другой  \n",
       "8              2018      другой  \n",
       "9              2017      другой  \n",
       "10             2017      другой  \n",
       "11             2018      другой  \n",
       "12             2016   последний  \n",
       "13             2017   последний  \n",
       "14             2016      первый  \n",
       "\n",
       "[15 rows x 27 columns]"
      ]
     },
     "execution_count": 15,
     "metadata": {},
     "output_type": "execute_result"
    }
   ],
   "source": [
    "data['floor_type'] = 'другой'   # создаём столбец и сразу заполним значением, которое чаще всего будет встречаться\n",
    "data['floor_type'] = data['floor_type'].where(data['floors_total'] != data['floor'], 'последний') # замена исходного значения,\n",
    "                                                                    # если этаж совпал с этажностью на \"последний\"\n",
    "data['floor_type'] = data['floor_type'].where(data['floor'] != 1, 'первый') # замена исходного значения,\n",
    "                                                                    # если этаж первый на \"последний\"\n",
    "data.head(15)                                                       # проверяем столбец"
   ]
  },
  {
   "cell_type": "markdown",
   "metadata": {},
   "source": [
    "### Соотношения жилой площади к общей, площади кухни к общей"
   ]
  },
  {
   "cell_type": "code",
   "execution_count": 16,
   "metadata": {},
   "outputs": [
    {
     "data": {
      "text/html": [
       "<div>\n",
       "<style scoped>\n",
       "    .dataframe tbody tr th:only-of-type {\n",
       "        vertical-align: middle;\n",
       "    }\n",
       "\n",
       "    .dataframe tbody tr th {\n",
       "        vertical-align: top;\n",
       "    }\n",
       "\n",
       "    .dataframe thead th {\n",
       "        text-align: right;\n",
       "    }\n",
       "</style>\n",
       "<table border=\"1\" class=\"dataframe\">\n",
       "  <thead>\n",
       "    <tr style=\"text-align: right;\">\n",
       "      <th></th>\n",
       "      <th>total_images</th>\n",
       "      <th>last_price</th>\n",
       "      <th>total_area</th>\n",
       "      <th>first_day_exposition</th>\n",
       "      <th>rooms</th>\n",
       "      <th>ceiling_height</th>\n",
       "      <th>floors_total</th>\n",
       "      <th>living_area</th>\n",
       "      <th>floor</th>\n",
       "      <th>is_apartment</th>\n",
       "      <th>...</th>\n",
       "      <th>ponds_around3000</th>\n",
       "      <th>ponds_nearest</th>\n",
       "      <th>days_exposition</th>\n",
       "      <th>price_per_meter</th>\n",
       "      <th>exposition_weekday</th>\n",
       "      <th>exposition_month</th>\n",
       "      <th>exposition_year</th>\n",
       "      <th>floor_type</th>\n",
       "      <th>living_ratio</th>\n",
       "      <th>kitchen_ratio</th>\n",
       "    </tr>\n",
       "  </thead>\n",
       "  <tbody>\n",
       "    <tr>\n",
       "      <td>0</td>\n",
       "      <td>20</td>\n",
       "      <td>13000000</td>\n",
       "      <td>108.0</td>\n",
       "      <td>2019-03-07</td>\n",
       "      <td>3</td>\n",
       "      <td>2.70</td>\n",
       "      <td>16</td>\n",
       "      <td>51.0</td>\n",
       "      <td>8</td>\n",
       "      <td>False</td>\n",
       "      <td>...</td>\n",
       "      <td>2</td>\n",
       "      <td>755.0</td>\n",
       "      <td>NaN</td>\n",
       "      <td>120370</td>\n",
       "      <td>3</td>\n",
       "      <td>3</td>\n",
       "      <td>2019</td>\n",
       "      <td>другой</td>\n",
       "      <td>0.47</td>\n",
       "      <td>0.23</td>\n",
       "    </tr>\n",
       "    <tr>\n",
       "      <td>1</td>\n",
       "      <td>7</td>\n",
       "      <td>3350000</td>\n",
       "      <td>40.4</td>\n",
       "      <td>2018-12-04</td>\n",
       "      <td>1</td>\n",
       "      <td>NaN</td>\n",
       "      <td>11</td>\n",
       "      <td>18.6</td>\n",
       "      <td>1</td>\n",
       "      <td>False</td>\n",
       "      <td>...</td>\n",
       "      <td>0</td>\n",
       "      <td>NaN</td>\n",
       "      <td>81.0</td>\n",
       "      <td>82920</td>\n",
       "      <td>1</td>\n",
       "      <td>12</td>\n",
       "      <td>2018</td>\n",
       "      <td>первый</td>\n",
       "      <td>0.46</td>\n",
       "      <td>0.27</td>\n",
       "    </tr>\n",
       "    <tr>\n",
       "      <td>2</td>\n",
       "      <td>10</td>\n",
       "      <td>5196000</td>\n",
       "      <td>56.0</td>\n",
       "      <td>2015-08-20</td>\n",
       "      <td>2</td>\n",
       "      <td>NaN</td>\n",
       "      <td>5</td>\n",
       "      <td>34.3</td>\n",
       "      <td>4</td>\n",
       "      <td>False</td>\n",
       "      <td>...</td>\n",
       "      <td>2</td>\n",
       "      <td>574.0</td>\n",
       "      <td>558.0</td>\n",
       "      <td>92785</td>\n",
       "      <td>3</td>\n",
       "      <td>8</td>\n",
       "      <td>2015</td>\n",
       "      <td>другой</td>\n",
       "      <td>0.61</td>\n",
       "      <td>0.15</td>\n",
       "    </tr>\n",
       "    <tr>\n",
       "      <td>3</td>\n",
       "      <td>0</td>\n",
       "      <td>64900000</td>\n",
       "      <td>159.0</td>\n",
       "      <td>2015-07-24</td>\n",
       "      <td>3</td>\n",
       "      <td>NaN</td>\n",
       "      <td>14</td>\n",
       "      <td>NaN</td>\n",
       "      <td>9</td>\n",
       "      <td>False</td>\n",
       "      <td>...</td>\n",
       "      <td>3</td>\n",
       "      <td>234.0</td>\n",
       "      <td>424.0</td>\n",
       "      <td>408176</td>\n",
       "      <td>4</td>\n",
       "      <td>7</td>\n",
       "      <td>2015</td>\n",
       "      <td>другой</td>\n",
       "      <td>NaN</td>\n",
       "      <td>NaN</td>\n",
       "    </tr>\n",
       "    <tr>\n",
       "      <td>4</td>\n",
       "      <td>2</td>\n",
       "      <td>10000000</td>\n",
       "      <td>100.0</td>\n",
       "      <td>2018-06-19</td>\n",
       "      <td>2</td>\n",
       "      <td>3.03</td>\n",
       "      <td>14</td>\n",
       "      <td>32.0</td>\n",
       "      <td>13</td>\n",
       "      <td>False</td>\n",
       "      <td>...</td>\n",
       "      <td>1</td>\n",
       "      <td>48.0</td>\n",
       "      <td>121.0</td>\n",
       "      <td>100000</td>\n",
       "      <td>1</td>\n",
       "      <td>6</td>\n",
       "      <td>2018</td>\n",
       "      <td>другой</td>\n",
       "      <td>0.32</td>\n",
       "      <td>0.41</td>\n",
       "    </tr>\n",
       "  </tbody>\n",
       "</table>\n",
       "<p>5 rows × 29 columns</p>\n",
       "</div>"
      ],
      "text/plain": [
       "   total_images  last_price  total_area first_day_exposition  rooms  \\\n",
       "0            20    13000000       108.0           2019-03-07      3   \n",
       "1             7     3350000        40.4           2018-12-04      1   \n",
       "2            10     5196000        56.0           2015-08-20      2   \n",
       "3             0    64900000       159.0           2015-07-24      3   \n",
       "4             2    10000000       100.0           2018-06-19      2   \n",
       "\n",
       "   ceiling_height  floors_total  living_area  floor  is_apartment  ...  \\\n",
       "0            2.70            16         51.0      8         False  ...   \n",
       "1             NaN            11         18.6      1         False  ...   \n",
       "2             NaN             5         34.3      4         False  ...   \n",
       "3             NaN            14          NaN      9         False  ...   \n",
       "4            3.03            14         32.0     13         False  ...   \n",
       "\n",
       "   ponds_around3000  ponds_nearest  days_exposition  price_per_meter  \\\n",
       "0                 2          755.0              NaN           120370   \n",
       "1                 0            NaN             81.0            82920   \n",
       "2                 2          574.0            558.0            92785   \n",
       "3                 3          234.0            424.0           408176   \n",
       "4                 1           48.0            121.0           100000   \n",
       "\n",
       "  exposition_weekday  exposition_month  exposition_year  floor_type  \\\n",
       "0                  3                 3             2019      другой   \n",
       "1                  1                12             2018      первый   \n",
       "2                  3                 8             2015      другой   \n",
       "3                  4                 7             2015      другой   \n",
       "4                  1                 6             2018      другой   \n",
       "\n",
       "   living_ratio  kitchen_ratio  \n",
       "0          0.47           0.23  \n",
       "1          0.46           0.27  \n",
       "2          0.61           0.15  \n",
       "3           NaN            NaN  \n",
       "4          0.32           0.41  \n",
       "\n",
       "[5 rows x 29 columns]"
      ]
     },
     "execution_count": 16,
     "metadata": {},
     "output_type": "execute_result"
    }
   ],
   "source": [
    "data['living_ratio'] = (data['living_area'] / data['total_area']).round(2) # добавляем столбец отношения жил.площади к общей\n",
    "data['kitchen_ratio'] = (data['kitchen_area'] / data['total_area']).round(2) # добавляем столбец отношения площади кухни к общей\n",
    "data.head()                                                                # проверяем столбцы"
   ]
  },
  {
   "cell_type": "markdown",
   "metadata": {},
   "source": [
    "## Исследовательский анализ данных"
   ]
  },
  {
   "cell_type": "markdown",
   "metadata": {},
   "source": [
    "### Изучение параметров квартир"
   ]
  },
  {
   "cell_type": "markdown",
   "metadata": {},
   "source": [
    "#### Общая площадь"
   ]
  },
  {
   "cell_type": "code",
   "execution_count": 17,
   "metadata": {},
   "outputs": [
    {
     "data": {
      "text/plain": [
       "<matplotlib.axes._subplots.AxesSubplot at 0x7fb4c2435b10>"
      ]
     },
     "execution_count": 17,
     "metadata": {},
     "output_type": "execute_result"
    },
    {
     "data": {
      "image/png": "[encoded data removed]",
      "text/plain": [
       "<Figure size 432x288 with 1 Axes>"
      ]
     },
     "metadata": {
      "needs_background": "light"
     },
     "output_type": "display_data"
    }
   ],
   "source": [
    "data['total_area'].hist(bins = 50 , range = (0, 350)) # гистограмма общей площади с оптимальным диапазоном и \n",
    "                                                      #количеством разбиений"
   ]
  },
  {
   "cell_type": "markdown",
   "metadata": {},
   "source": [
    "#### Цена"
   ]
  },
  {
   "cell_type": "code",
   "execution_count": 18,
   "metadata": {},
   "outputs": [
    {
     "data": {
      "text/plain": [
       "<matplotlib.axes._subplots.AxesSubplot at 0x7fb4c2309250>"
      ]
     },
     "execution_count": 18,
     "metadata": {},
     "output_type": "execute_result"
    },
    {
     "data": {
      "image/png": "[encoded data removed]",
      "text/plain": [
       "<Figure size 432x288 with 1 Axes>"
      ]
     },
     "metadata": {
      "needs_background": "light"
     },
     "output_type": "display_data"
    }
   ],
   "source": [
    "data['last_price'].hist(bins = 50, range = (0, 3E7)) # гистограмма стоимости квартиры с оптимальным диапазоном и \n",
    "                                                     # количеством разбиений"
   ]
  },
  {
   "cell_type": "markdown",
   "metadata": {},
   "source": [
    "#### Число комнат"
   ]
  },
  {
   "cell_type": "code",
   "execution_count": 211,
   "metadata": {},
   "outputs": [
    {
     "data": {
      "text/plain": [
       "<matplotlib.axes._subplots.AxesSubplot at 0x7f68cf5ffd50>"
      ]
     },
     "execution_count": 211,
     "metadata": {},
     "output_type": "execute_result"
    },
    {
     "data": {
      "image/png": "[encoded data removed]",
      "text/plain": [
       "<Figure size 432x288 with 1 Axes>"
      ]
     },
     "metadata": {
      "needs_background": "light"
     },
     "output_type": "display_data"
    }
   ],
   "source": [
    "data['rooms'].hist(bins = 14, range = (0, 14)) # гистограмма количества \n",
    "                                               # с оптимальным диапазоном и количеством разбиений"
   ]
  },
  {
   "cell_type": "markdown",
   "metadata": {},
   "source": [
    "#### Высота потолков"
   ]
  },
  {
   "cell_type": "code",
   "execution_count": 212,
   "metadata": {},
   "outputs": [
    {
     "data": {
      "text/plain": [
       "<matplotlib.axes._subplots.AxesSubplot at 0x7f68d00a08d0>"
      ]
     },
     "execution_count": 212,
     "metadata": {},
     "output_type": "execute_result"
    },
    {
     "data": {
      "image/png": "[encoded data removed]",
      "text/plain": [
       "<Figure size 432x288 with 1 Axes>"
      ]
     },
     "metadata": {
      "needs_background": "light"
     },
     "output_type": "display_data"
    }
   ],
   "source": [
    "data['ceiling_height'].hist(bins = 16, range = (2, 6)) # гистограмма высоты потолков\n",
    "                                                       # с оптимальным диапазоном и количеством разбиений"
   ]
  },
  {
   "cell_type": "markdown",
   "metadata": {},
   "source": [
    "### Время продажи квартир"
   ]
  },
  {
   "cell_type": "code",
   "execution_count": 19,
   "metadata": {},
   "outputs": [
    {
     "name": "stdout",
     "output_type": "stream",
     "text": [
      "count    20518.000000\n",
      "mean       180.888634\n",
      "std        219.727988\n",
      "min          1.000000\n",
      "25%         45.000000\n",
      "50%         95.000000\n",
      "75%        232.000000\n",
      "max       1580.000000\n",
      "Name: days_exposition, dtype: float64\n",
      "Среднее время продажи: 180\n",
      "Медианное время продажи: 95\n"
     ]
    },
    {
     "data": {
      "image/png": "[encoded data removed]",
      "text/plain": [
       "<Figure size 432x288 with 1 Axes>"
      ]
     },
     "metadata": {
      "needs_background": "light"
     },
     "output_type": "display_data"
    }
   ],
   "source": [
    "data['days_exposition'].hist(bins = 100)         # cтроим гистограмму распределения по продолжительности выставления объявления\n",
    "print(data['days_exposition'].describe())        # смотрим характерные величины для столбца\n",
    "print('Среднее время продажи:', data['days_exposition'].mean().astype('int'))      # вывод среднего времени продажи\n",
    "print('Медианное время продажи:', data['days_exposition'].median().astype('int'))  # вывод медианного времени продажи"
   ]
  },
  {
   "cell_type": "markdown",
   "metadata": {},
   "source": [
    "**Вывод**\n",
    "\n",
    "Продажа обычно занимает время, лежащее в диапазоне от 45 до 232 дней, если удалось продать быстрее 45 дней, то такая сделка была быстрой, а если объявление висит более 232 дней, то стоит насторожиться."
   ]
  },
  {
   "cell_type": "code",
   "execution_count": 119,
   "metadata": {},
   "outputs": [
    {
     "data": {
      "image/png": "[encoded data removed]",
      "text/plain": [
       "<Figure size 432x288 with 1 Axes>"
      ]
     },
     "metadata": {
      "needs_background": "light"
     },
     "output_type": "display_data"
    },
    {
     "data": {
      "image/png": "[encoded data removed]",
      "text/plain": [
       "<Figure size 432x288 with 1 Axes>"
      ]
     },
     "metadata": {
      "needs_background": "light"
     },
     "output_type": "display_data"
    },
    {
     "name": "stdout",
     "output_type": "stream",
     "text": [
      "Медианное время продажи: 85\n"
     ]
    }
   ],
   "source": [
    "iqr = 232 - 45           # определяем межквартильный размах времени продажи\n",
    "border = 1.5*iqr + 232   # определяем правый ус, левый ус упирается в 0\n",
    "data_filter_exposition = data.query('days_exposition < @border') # создаём отфильтрованный датафрейм с адекватными данными \n",
    "                                                                 # по времени продажи\n",
    "    \n",
    "data_filter_exposition['days_exposition'].hist(bins = 100)    # строим гистограмму\n",
    "plt.show()              \n",
    "data_filter_exposition.hist('days_exposition', bins = 100, range = (0,100)) # строим гистограмму в диапазоне с особенностями\n",
    "plt.show()\n",
    "print('Медианное время продажи:', data_filter_exposition['days_exposition'].median().astype('int')) # вывод медианного \n",
    "                                                                                    # времени продажи после фильтрации"
   ]
  },
  {
   "cell_type": "markdown",
   "metadata": {},
   "source": [
    "**Вывод**\n",
    "\n",
    "Распределение по времени продажи оказалось нормальным, но при детальном рассмотрении обнаружены всплески продаж около 45, 60 дней размещения. Медианное время продажи после фильрации - 85 дней."
   ]
  },
  {
   "cell_type": "markdown",
   "metadata": {},
   "source": [
    "### Зависимость цены от параметров квартиры"
   ]
  },
  {
   "cell_type": "code",
   "execution_count": 215,
   "metadata": {},
   "outputs": [
    {
     "data": {
      "text/html": [
       "<div>\n",
       "<style scoped>\n",
       "    .dataframe tbody tr th:only-of-type {\n",
       "        vertical-align: middle;\n",
       "    }\n",
       "\n",
       "    .dataframe tbody tr th {\n",
       "        vertical-align: top;\n",
       "    }\n",
       "\n",
       "    .dataframe thead th {\n",
       "        text-align: right;\n",
       "    }\n",
       "</style>\n",
       "<table border=\"1\" class=\"dataframe\">\n",
       "  <thead>\n",
       "    <tr style=\"text-align: right;\">\n",
       "      <th></th>\n",
       "      <th>last_price</th>\n",
       "      <th>total_area</th>\n",
       "      <th>rooms</th>\n",
       "      <th>cityCenters_nearest</th>\n",
       "    </tr>\n",
       "  </thead>\n",
       "  <tbody>\n",
       "    <tr>\n",
       "      <td>last_price</td>\n",
       "      <td>1.000000</td>\n",
       "      <td>0.653675</td>\n",
       "      <td>0.365209</td>\n",
       "      <td>-0.206747</td>\n",
       "    </tr>\n",
       "    <tr>\n",
       "      <td>total_area</td>\n",
       "      <td>0.653675</td>\n",
       "      <td>1.000000</td>\n",
       "      <td>0.760233</td>\n",
       "      <td>-0.231446</td>\n",
       "    </tr>\n",
       "    <tr>\n",
       "      <td>rooms</td>\n",
       "      <td>0.365209</td>\n",
       "      <td>0.760233</td>\n",
       "      <td>1.000000</td>\n",
       "      <td>-0.186991</td>\n",
       "    </tr>\n",
       "    <tr>\n",
       "      <td>cityCenters_nearest</td>\n",
       "      <td>-0.206747</td>\n",
       "      <td>-0.231446</td>\n",
       "      <td>-0.186991</td>\n",
       "      <td>1.000000</td>\n",
       "    </tr>\n",
       "  </tbody>\n",
       "</table>\n",
       "</div>"
      ],
      "text/plain": [
       "                     last_price  total_area     rooms  cityCenters_nearest\n",
       "last_price             1.000000    0.653675  0.365209            -0.206747\n",
       "total_area             0.653675    1.000000  0.760233            -0.231446\n",
       "rooms                  0.365209    0.760233  1.000000            -0.186991\n",
       "cityCenters_nearest   -0.206747   -0.231446 -0.186991             1.000000"
      ]
     },
     "execution_count": 215,
     "metadata": {},
     "output_type": "execute_result"
    }
   ],
   "source": [
    "data_price_corr = data[['last_price','total_area', 'rooms','cityCenters_nearest']] # берём интересующие нас столбцы и сохр. \n",
    "                                                                                   # в новом dataframe\n",
    "data_price_corr.corr()                                                 # строим матрицу корреляций сразу для всех столбцов"
   ]
  },
  {
   "cell_type": "markdown",
   "metadata": {},
   "source": [
    "**Вывод**\n",
    "\n",
    "Из таблицы с корреляцией видно, что на цену больше всего влияет площадь квартиры: чем больше площадь, тем выше цена. \n",
    "Количество комнат оказывает гораздо меньшее влияние, но зависимость прослеживается прямая: чем больше комнат, тем больше цена.\n",
    "А вот удалённость от центра показала самую слабую зависимость: чем дальше от цента тем дешевле квартира. "
   ]
  },
  {
   "cell_type": "code",
   "execution_count": 216,
   "metadata": {},
   "outputs": [
    {
     "name": "stdout",
     "output_type": "stream",
     "text": [
      "Медиана для \"других\" этажей: 4850000.0\n",
      "Медиана для \"последних\" этажей: 4300000.0\n",
      "Медиана для \"первых\" этажей: 3900000.0\n"
     ]
    }
   ],
   "source": [
    "print('Медиана для \"других\" этажей:', data.query('floor_type == \"другой\"')['last_price'].median()) \n",
    "print('Медиана для \"последних\" этажей:', data.query('floor_type == \"последний\"')['last_price'].median())\n",
    "print('Медиана для \"первых\" этажей:', data.query('floor_type == \"первый\"')['last_price'].median())\n"
   ]
  },
  {
   "cell_type": "markdown",
   "metadata": {},
   "source": [
    "**Вывод**\n",
    "\n",
    "Согласно вычисленным медианам для каждого типа этажа квартиры самыми дешёвыми являются квартиры на 1 этаже. А самыми дорогими - квартиры \"в серединке\"."
   ]
  },
  {
   "cell_type": "code",
   "execution_count": 59,
   "metadata": {},
   "outputs": [
    {
     "data": {
      "text/html": [
       "<div>\n",
       "<style scoped>\n",
       "    .dataframe tbody tr th:only-of-type {\n",
       "        vertical-align: middle;\n",
       "    }\n",
       "\n",
       "    .dataframe tbody tr th {\n",
       "        vertical-align: top;\n",
       "    }\n",
       "\n",
       "    .dataframe thead th {\n",
       "        text-align: right;\n",
       "    }\n",
       "</style>\n",
       "<table border=\"1\" class=\"dataframe\">\n",
       "  <thead>\n",
       "    <tr style=\"text-align: right;\">\n",
       "      <th></th>\n",
       "      <th>last_price</th>\n",
       "    </tr>\n",
       "    <tr>\n",
       "      <th>exposition_month</th>\n",
       "      <th></th>\n",
       "    </tr>\n",
       "  </thead>\n",
       "  <tbody>\n",
       "    <tr>\n",
       "      <td>1</td>\n",
       "      <td>4600000</td>\n",
       "    </tr>\n",
       "    <tr>\n",
       "      <td>2</td>\n",
       "      <td>4650000</td>\n",
       "    </tr>\n",
       "    <tr>\n",
       "      <td>3</td>\n",
       "      <td>4650000</td>\n",
       "    </tr>\n",
       "    <tr>\n",
       "      <td>4</td>\n",
       "      <td>4800000</td>\n",
       "    </tr>\n",
       "    <tr>\n",
       "      <td>5</td>\n",
       "      <td>4515000</td>\n",
       "    </tr>\n",
       "    <tr>\n",
       "      <td>6</td>\n",
       "      <td>4400000</td>\n",
       "    </tr>\n",
       "    <tr>\n",
       "      <td>7</td>\n",
       "      <td>4650000</td>\n",
       "    </tr>\n",
       "    <tr>\n",
       "      <td>8</td>\n",
       "      <td>4570000</td>\n",
       "    </tr>\n",
       "    <tr>\n",
       "      <td>9</td>\n",
       "      <td>4700000</td>\n",
       "    </tr>\n",
       "    <tr>\n",
       "      <td>10</td>\n",
       "      <td>4570000</td>\n",
       "    </tr>\n",
       "    <tr>\n",
       "      <td>11</td>\n",
       "      <td>4700000</td>\n",
       "    </tr>\n",
       "    <tr>\n",
       "      <td>12</td>\n",
       "      <td>4700000</td>\n",
       "    </tr>\n",
       "  </tbody>\n",
       "</table>\n",
       "</div>"
      ],
      "text/plain": [
       "                  last_price\n",
       "exposition_month            \n",
       "1                    4600000\n",
       "2                    4650000\n",
       "3                    4650000\n",
       "4                    4800000\n",
       "5                    4515000\n",
       "6                    4400000\n",
       "7                    4650000\n",
       "8                    4570000\n",
       "9                    4700000\n",
       "10                   4570000\n",
       "11                   4700000\n",
       "12                   4700000"
      ]
     },
     "execution_count": 59,
     "metadata": {},
     "output_type": "execute_result"
    },
    {
     "data": {
      "image/png": "[encoded data removed]",
      "text/plain": [
       "<Figure size 432x288 with 1 Axes>"
      ]
     },
     "metadata": {
      "needs_background": "light"
     },
     "output_type": "display_data"
    },
    {
     "data": {
      "image/png": "[encoded data removed]",
      "text/plain": [
       "<Figure size 432x288 with 1 Axes>"
      ]
     },
     "metadata": {
      "needs_background": "light"
     },
     "output_type": "display_data"
    },
    {
     "data": {
      "image/png": "[encoded data removed]",
      "text/plain": [
       "<Figure size 432x288 with 1 Axes>"
      ]
     },
     "metadata": {
      "needs_background": "light"
     },
     "output_type": "display_data"
    }
   ],
   "source": [
    "data.pivot_table(index='exposition_weekday', values = 'last_price', aggfunc='median').plot() # график зависимости медианной цены \n",
    "                                                                                        # от дня недели выставления объявления\n",
    "data.pivot_table(index='exposition_month', values = 'last_price', aggfunc='median').plot() # график зависимости медианной цены \n",
    "                                                                                        # от месяца выставления объявления\n",
    "data.pivot_table(index='exposition_year', values = 'last_price', aggfunc='median').plot() # график зависимости медианной цены \n",
    "                                                                                        # от года выставления объявления"
   ]
  },
  {
   "cell_type": "markdown",
   "metadata": {},
   "source": [
    "**Вывод**\n",
    "\n",
    "Результаты говорят о том, что более дешёвые квартиры выставляются по выходным, в будни выставляются квартиры подороже. \n",
    "\n",
    "Месяц объявления оказывает слабое влияние на цену, однако можно проследить небольшое подорожание квартир в апреле с последующим небольшим падением в июне.\n",
    "\n",
    "Что касается года объявления, то самыми дорогими квартирами отличился 2014, видимо сказывался кризис и рост цен, которые потом стабилизировались к определённому уровню."
   ]
  },
  {
   "cell_type": "markdown",
   "metadata": {},
   "source": [
    "### 10 самых популярных населённых пунктов"
   ]
  },
  {
   "cell_type": "code",
   "execution_count": 60,
   "metadata": {},
   "outputs": [
    {
     "data": {
      "text/html": [
       "<div>\n",
       "<style scoped>\n",
       "    .dataframe tbody tr th:only-of-type {\n",
       "        vertical-align: middle;\n",
       "    }\n",
       "\n",
       "    .dataframe tbody tr th {\n",
       "        vertical-align: top;\n",
       "    }\n",
       "\n",
       "    .dataframe thead th {\n",
       "        text-align: right;\n",
       "    }\n",
       "</style>\n",
       "<table border=\"1\" class=\"dataframe\">\n",
       "  <thead>\n",
       "    <tr style=\"text-align: right;\">\n",
       "      <th></th>\n",
       "      <th>count</th>\n",
       "      <th>median</th>\n",
       "    </tr>\n",
       "    <tr>\n",
       "      <th>locality_name</th>\n",
       "      <th></th>\n",
       "      <th></th>\n",
       "    </tr>\n",
       "  </thead>\n",
       "  <tbody>\n",
       "    <tr>\n",
       "      <td>Санкт-Петербург</td>\n",
       "      <td>15721</td>\n",
       "      <td>104761.0</td>\n",
       "    </tr>\n",
       "    <tr>\n",
       "      <td>посёлок Мурино</td>\n",
       "      <td>522</td>\n",
       "      <td>85878.0</td>\n",
       "    </tr>\n",
       "    <tr>\n",
       "      <td>посёлок Шушары</td>\n",
       "      <td>440</td>\n",
       "      <td>76876.0</td>\n",
       "    </tr>\n",
       "    <tr>\n",
       "      <td>Всеволожск</td>\n",
       "      <td>398</td>\n",
       "      <td>65789.0</td>\n",
       "    </tr>\n",
       "    <tr>\n",
       "      <td>Пушкин</td>\n",
       "      <td>369</td>\n",
       "      <td>100000.0</td>\n",
       "    </tr>\n",
       "    <tr>\n",
       "      <td>Колпино</td>\n",
       "      <td>338</td>\n",
       "      <td>74723.5</td>\n",
       "    </tr>\n",
       "    <tr>\n",
       "      <td>посёлок Парголово</td>\n",
       "      <td>327</td>\n",
       "      <td>91642.0</td>\n",
       "    </tr>\n",
       "    <tr>\n",
       "      <td>Гатчина</td>\n",
       "      <td>307</td>\n",
       "      <td>67796.0</td>\n",
       "    </tr>\n",
       "    <tr>\n",
       "      <td>деревня Кудрово</td>\n",
       "      <td>299</td>\n",
       "      <td>91860.0</td>\n",
       "    </tr>\n",
       "    <tr>\n",
       "      <td>Выборг</td>\n",
       "      <td>237</td>\n",
       "      <td>58158.0</td>\n",
       "    </tr>\n",
       "  </tbody>\n",
       "</table>\n",
       "</div>"
      ],
      "text/plain": [
       "                   count    median\n",
       "locality_name                     \n",
       "Санкт-Петербург    15721  104761.0\n",
       "посёлок Мурино       522   85878.0\n",
       "посёлок Шушары       440   76876.0\n",
       "Всеволожск           398   65789.0\n",
       "Пушкин               369  100000.0\n",
       "Колпино              338   74723.5\n",
       "посёлок Парголово    327   91642.0\n",
       "Гатчина              307   67796.0\n",
       "деревня Кудрово      299   91860.0\n",
       "Выборг               237   58158.0"
      ]
     },
     "metadata": {},
     "output_type": "display_data"
    },
    {
     "name": "stdout",
     "output_type": "stream",
     "text": [
      "Дорого жить в Санкт-Петербурге\n",
      "Дёшево жить в Выборге\n"
     ]
    }
   ],
   "source": [
    "data_popular = data.pivot_table(index='locality_name', values='price_per_meter', aggfunc=['count','median']) # группируем данные\n",
    "                                                                                # по городам, считаем медиану стоимости за метр\n",
    "data_popular.columns = ['count', 'median']                                      # переименовываем столбцы\n",
    "data_popular = data_popular.sort_values(by = 'count',ascending=False).head(10)  # сохраняем топ-10\n",
    "display(data_popular)                                                           # выводим топ-10\n",
    "print(f'Дорого жить в {data_popular.index[0]}е')                                # вывод самого дорогого города\n",
    "print(f'Дёшево жить в {data_popular.index[9]}е')                                # вывод самого дешёвого города"
   ]
  },
  {
   "cell_type": "markdown",
   "metadata": {},
   "source": [
    "### Определение границы центра Петербурга"
   ]
  },
  {
   "cell_type": "code",
   "execution_count": 31,
   "metadata": {},
   "outputs": [
    {
     "data": {
      "text/plain": [
       "-0.761393706696195"
      ]
     },
     "execution_count": 31,
     "metadata": {},
     "output_type": "execute_result"
    },
    {
     "data": {
      "image/png": "[encoded data removed]",
      "text/plain": [
       "<Figure size 432x288 with 1 Axes>"
      ]
     },
     "metadata": {
      "needs_background": "light"
     },
     "output_type": "display_data"
    }
   ],
   "source": [
    "data['cityCenters_nearest_km'] = (data['cityCenters_nearest']/1000).round(0)    # создаём столбец с удалённостью от центра в км\n",
    "data_peter = data.query('(locality_name == \"Санкт-Петербург\")').pivot_table(    # создаём сводную таблицу по удалённости от \n",
    "    index = 'cityCenters_nearest_km', values = 'last_price', aggfunc=['mean'])  # центра в Петербурге\n",
    "data_peter.columns = ['mean']   # переименовываем столбец\n",
    "data_peter.plot(grid=True)      # строим график с сеткой\n",
    "#data_peter['km'] = data_peter.index"
   ]
  },
  {
   "cell_type": "markdown",
   "metadata": {},
   "source": [
    "**Вывод**\n",
    "\n",
    "Согласно полученному графику, зависимость стоимости жилья от удалённости меняет свой характер при удалённости > 3 км. Это расстояние мы и будем считать центром города."
   ]
  },
  {
   "cell_type": "markdown",
   "metadata": {},
   "source": [
    "### Изучение сегмента квартир в центре"
   ]
  },
  {
   "cell_type": "code",
   "execution_count": 27,
   "metadata": {},
   "outputs": [
    {
     "data": {
      "text/plain": [
       "array([[<matplotlib.axes._subplots.AxesSubplot object at 0x7fb4c0eee750>]],\n",
       "      dtype=object)"
      ]
     },
     "execution_count": 27,
     "metadata": {},
     "output_type": "execute_result"
    },
    {
     "data": {
      "image/png": "[encoded data removed]",
      "text/plain": [
       "<Figure size 432x288 with 1 Axes>"
      ]
     },
     "metadata": {
      "needs_background": "light"
     },
     "output_type": "display_data"
    },
    {
     "data": {
      "image/png": "[encoded data removed]",
      "text/plain": [
       "<Figure size 432x288 with 1 Axes>"
      ]
     },
     "metadata": {
      "needs_background": "light"
     },
     "output_type": "display_data"
    }
   ],
   "source": [
    "data_center = data.query('cityCenters_nearest_km < 3')              # выделяем отдельный датафрейм для квартир в центре\n",
    "data_center.hist('total_area', bins = 50 , range = (0, 350))        # строим гистограмму распределния площади квартир в центре\n",
    "data.query('locality_name == \"Санкт-Петербург\"').hist('total_area', bins = 50 , range = (0, 350)) # строим гистограмму \n",
    "                                                                    # распределния площади квартир в Петербурге"
   ]
  },
  {
   "cell_type": "markdown",
   "metadata": {},
   "source": [
    "**Вывод**\n",
    "\n",
    "Из гистограмм видно, что в центре Петербурга продаётся средний размер квартиры больше, чем по всему городу."
   ]
  },
  {
   "cell_type": "code",
   "execution_count": 61,
   "metadata": {},
   "outputs": [
    {
     "data": {
      "text/plain": [
       "array([[<matplotlib.axes._subplots.AxesSubplot object at 0x7fb4befa89d0>]],\n",
       "      dtype=object)"
      ]
     },
     "execution_count": 61,
     "metadata": {},
     "output_type": "execute_result"
    },
    {
     "data": {
      "image/png": "[encoded data removed]",
      "text/plain": [
       "<Figure size 432x288 with 1 Axes>"
      ]
     },
     "metadata": {
      "needs_background": "light"
     },
     "output_type": "display_data"
    },
    {
     "data": {
      "image/png": "[encoded data removed]",
      "text/plain": [
       "<Figure size 432x288 with 1 Axes>"
      ]
     },
     "metadata": {
      "needs_background": "light"
     },
     "output_type": "display_data"
    }
   ],
   "source": [
    "data_center.hist('last_price', bins = 50, range = (0, 3E7))   # строим гистограмму распределния цены квартир в центре\n",
    "data.query('locality_name == \"Санкт-Петербург\"').hist('last_price', bins = 50, range = (0, 3E7)) # строим гистограмму \n",
    "                                                                    # распределния цены квартир по всему Петербургу"
   ]
  },
  {
   "cell_type": "markdown",
   "metadata": {},
   "source": [
    "**Вывод**\n",
    "\n",
    "Средняя цена квартиры в центре Петербурга также выше, чем по всему Петербургу."
   ]
  },
  {
   "cell_type": "code",
   "execution_count": 126,
   "metadata": {},
   "outputs": [
    {
     "data": {
      "text/plain": [
       "array([[<matplotlib.axes._subplots.AxesSubplot object at 0x7f68cfc1fd10>]],\n",
       "      dtype=object)"
      ]
     },
     "execution_count": 126,
     "metadata": {},
     "output_type": "execute_result"
    },
    {
     "data": {
      "image/png": "[encoded data removed]",
      "text/plain": [
       "<Figure size 432x288 with 1 Axes>"
      ]
     },
     "metadata": {
      "needs_background": "light"
     },
     "output_type": "display_data"
    },
    {
     "data": {
      "image/png": "[encoded data removed]",
      "text/plain": [
       "<Figure size 432x288 with 1 Axes>"
      ]
     },
     "metadata": {
      "needs_background": "light"
     },
     "output_type": "display_data"
    }
   ],
   "source": [
    "data_center.hist('rooms', bins = data_center['rooms'].max(), range = (0, data_center['rooms'].max())) # строим гистограмму \n",
    "                                                                    # распределния количества комнат в квартире в центре\n",
    "data.query('locality_name == \"Санкт-Петербург\"').hist(         # строим гистограмму распределния количества комнат в квартире\n",
    "    'rooms', bins = data_center['rooms'].max(), range = (0, data_center['rooms'].max()))   # в Петербурге"
   ]
  },
  {
   "cell_type": "markdown",
   "metadata": {},
   "source": [
    "**Вывод**\n",
    "\n",
    "Если в целом по Петербургу доминируют однушки и двушки, то конкретно в центре - двушки и трёшки."
   ]
  },
  {
   "cell_type": "code",
   "execution_count": 63,
   "metadata": {},
   "outputs": [
    {
     "data": {
      "text/plain": [
       "array([[<matplotlib.axes._subplots.AxesSubplot object at 0x7fb4beca21d0>]],\n",
       "      dtype=object)"
      ]
     },
     "execution_count": 63,
     "metadata": {},
     "output_type": "execute_result"
    },
    {
     "data": {
      "image/png": "[encoded data removed]",
      "text/plain": [
       "<Figure size 432x288 with 1 Axes>"
      ]
     },
     "metadata": {
      "needs_background": "light"
     },
     "output_type": "display_data"
    },
    {
     "data": {
      "image/png": "[encoded data removed]",
      "text/plain": [
       "<Figure size 432x288 with 1 Axes>"
      ]
     },
     "metadata": {
      "needs_background": "light"
     },
     "output_type": "display_data"
    }
   ],
   "source": [
    "data_center.hist('ceiling_height', bins = 16, range = (2, 6)) # строим гистограмму распределения высоты потолков в центре\n",
    "data.query('locality_name == \"Санкт-Петербург\"').hist('ceiling_height', bins = 16, range = (2, 6)) # строим гистограмму \n",
    "# распределения высоты потолков по всему Петербургу"
   ]
  },
  {
   "cell_type": "markdown",
   "metadata": {},
   "source": [
    "**Вывод**\n",
    "\n",
    "В центре Петербурга преобладают 3-метровые потолки, видимо даёт о себе знать ещё старый квартирный фонд. В целом по Петербургу распространены классические 2,5 метровые потолки."
   ]
  },
  {
   "cell_type": "code",
   "execution_count": 36,
   "metadata": {},
   "outputs": [
    {
     "name": "stdout",
     "output_type": "stream",
     "text": [
      "Корреляция в центре: 0.21860667368303854\n",
      "Корреляция в Петербурге: 0.37389317668195987\n"
     ]
    }
   ],
   "source": [
    "print('Корреляция в центре:', data_center['last_price'].corr(data_center['rooms'])) # вычисляем корреляцию цены и количества \n",
    "                                            # комнат для центра\n",
    "print('Корреляция в Петербурге:', data.query('locality_name == \"Санкт-Петербург\"')['last_price'].corr(data.query( # вычисляем\n",
    "    'locality_name == \"Санкт-Петербург\"')['rooms'])) # корреляцию цены и количества комнат для всего Петербурга"
   ]
  },
  {
   "cell_type": "markdown",
   "metadata": {},
   "source": [
    "**Вывод**\n",
    "\n",
    "Результаты в центре демонстрируют слабую зависимость, чем больше комнат, тем больше цена. В целом по Петербургу эта зависимость более сильная, видимо в центре на цену в основном влияют другие факторы."
   ]
  },
  {
   "cell_type": "code",
   "execution_count": 35,
   "metadata": {},
   "outputs": [
    {
     "name": "stdout",
     "output_type": "stream",
     "text": [
      "Корреляция в центре: 0.2909458006836948\n",
      "Корреляция в городе: -0.0008379427208810839\n"
     ]
    }
   ],
   "source": [
    "print('Корреляция в центре:', data_center['last_price'].corr(data_center['floor'])) # вычисляем корреляцию цены и этажа \n",
    "                                                                                    # для центра\n",
    "print('Корреляция в городе:', data.query('locality_name == \"Санкт-Петербург\"')['last_price'].corr(data.query( # вычисляем \n",
    "    'locality_name == \"Санкт-Петербург\"')['floor'])) # корреляцию цены и этажа для всего Петербурга"
   ]
  },
  {
   "cell_type": "markdown",
   "metadata": {},
   "source": [
    "**Вывод**\n",
    "\n",
    "В центре Петербурга есть слабая зависимость, чем выше этаж, тем дороже жильё, в целом по городу такой зависимости не прослеживается."
   ]
  },
  {
   "cell_type": "code",
   "execution_count": 51,
   "metadata": {},
   "outputs": [
    {
     "name": "stdout",
     "output_type": "stream",
     "text": [
      "Корреляция для центра: -0.9410178050003238\n",
      "Корреляция для Петербурга: -0.259398760793082\n"
     ]
    }
   ],
   "source": [
    "data_center_pivot = data_center.pivot_table(                                    # создаём сводную таблицу по удалённости от \n",
    "    index = 'cityCenters_nearest_km', values = 'last_price', aggfunc=['median'])  # центра в Петербурге\n",
    "data_center_pivot['cityCenters_nearest_km'] = data_center_pivot.index          # добавляем столбик с километражом\n",
    "data_center_pivot.columns = ['mean_last_price','cityCenters_nearest_km']       # переименовываем столбики\n",
    "print('Корреляция для центра:', data_center_pivot['mean_last_price'].corr(data_center_pivot['cityCenters_nearest_km'])) # вычи-\n",
    "                                                        # сляем корреляцию медианной цены от удалённости от центра в центре\n",
    "print('Корреляция для Петербурга:', data.query('locality_name == \"Санкт-Петербург\"')['last_price'].corr(data.query(    # вычи-\n",
    "    'locality_name == \"Санкт-Петербург\"')['cityCenters_nearest_km']))  # сляем корреляцию медианной цены от удалённости \n",
    "                                                                                        # от центра в Петербурге"
   ]
  },
  {
   "cell_type": "markdown",
   "metadata": {},
   "source": [
    "**Вывод**\n",
    "\n",
    "В центре наблюдается обратно пропорциональная зависимость между удалённостью от центра и стоимостью жилья. В целом по Петербургу эта зависимость не такая сильная."
   ]
  },
  {
   "cell_type": "code",
   "execution_count": 52,
   "metadata": {},
   "outputs": [
    {
     "data": {
      "text/plain": [
       "<matplotlib.axes._subplots.AxesSubplot at 0x7fb4bf57dfd0>"
      ]
     },
     "execution_count": 52,
     "metadata": {},
     "output_type": "execute_result"
    },
    {
     "data": {
      "image/png": "[encoded data removed]",
      "text/plain": [
       "<Figure size 432x288 with 1 Axes>"
      ]
     },
     "metadata": {
      "needs_background": "light"
     },
     "output_type": "display_data"
    },
    {
     "data": {
      "image/png": "[encoded data removed]",
      "text/plain": [
       "<Figure size 432x288 with 1 Axes>"
      ]
     },
     "metadata": {
      "needs_background": "light"
     },
     "output_type": "display_data"
    }
   ],
   "source": [
    "data_center.pivot_table(index='exposition_year', values = 'last_price', aggfunc='median').plot() # зависимость медианной цены от\n",
    "                                                    # года выставления объявления в центре Петербурга\n",
    "data.pivot_table(index='exposition_year', values = 'last_price', aggfunc='median').plot() # зависимость медианной цены от\n",
    "                                                    # года выставления объявления во всём Петербурге"
   ]
  },
  {
   "cell_type": "markdown",
   "metadata": {},
   "source": [
    "**Вывод**\n",
    "\n",
    "Как и вслучае с остальным городом, самыми дорогими были объявления в 2014 году, а после 2017 виден небольшой рост медианной цены."
   ]
  },
  {
   "cell_type": "markdown",
   "metadata": {},
   "source": [
    "## Общий вывод"
   ]
  },
  {
   "cell_type": "markdown",
   "metadata": {},
   "source": [
    "Согласно проведённому анализу, такие величины как: площадь, цена, число комнат, высота потолков имеют Пуассоновское распределение.\n",
    "\n",
    "Распределение времени продажи квартир Пуссоновское с выбросами на некоторых значениях (45,60). Делаю предположение, что причина в каком-то внешнем факторе, например объявление закрывается само из-за неактивности клиента. Медианное время продажи после фильтрации составило 85 дней.\n",
    "\n",
    "Самым важным фактором для стоимости квартиры оказалась площадь жилья. Далее по степени влияния на цену стоит количество комнат. Удалённость от центра оказывает слабое влияние на цену квартир, взятых из всего датафрейма. Была также обнаружена интересная зависимость медианной стоимости от дня недели: самые дешёвые квартиры предлагают по выходным). Было замечено влияние кризиса 2014 на цены на жильё, видимо люди стали избавляться от очень дорогих квартир. Помимо этого обнаружено, что цена квартиры зависит от расположения этажа: самые дорогие посерединке, а самые дешёвые на 1 этаже. \n",
    "\n",
    "Городом с самыми дорогими квартирами стал Петербург, а с самыми дешёвыми - Выборг.\n",
    "\n",
    "Что касается квартир в Петербурге, то с помощью вычисления средней стоимости была определена граница центра в 3 км. Квартиры в центре отличаются от квартир по всему Петербургу. В среднем они:\n",
    "- больше\n",
    "- дороже\n",
    "- имеют больше комнат\n",
    "- имеют более высокие потолки\n",
    "\n",
    "Для центра характерна зависимость цены квартиры от удалённости: чем дальше тем дешевле, а по всему Петербургу такая зависимость не прослеживается. В центре прослеживается слабая зависимость цены от этажа, а по всему Петербургу такой зависимости вообще нет. Для центра зависимость цены от количества комнат не такая сильная, как по всему Петербургу. Что же касается влияния времени размещения на цену, то для центра и для всего Петербурга график получился похожий: максимум в 2014 и спад в 2017 с последующим слабым ростом.\n",
    "\n",
    "\n"
   ]
  },
  {
   "cell_type": "markdown",
   "metadata": {},
   "source": [
    "**Чек лист**\n",
    "\n",
    "- [x]  открыт файл\n",
    "- [x]  файлы изучены (выведены первые строки, метод info())\n",
    "- [x]  определены пропущенные значения\n",
    "- [x]  заполнены пропущенные значения\n",
    "- [x]  есть пояснение, какие пропущенные значения обнаружены\n",
    "- [x]  изменены типы данных\n",
    "- [x]  есть пояснение, в каких столбцах изменены типы и почему\n",
    "- [x]  посчитано и добавлено в таблицу: цена квадратного метра\n",
    "- [x]  посчитано и добавлено в таблицу: день недели, месяц и год публикации объявления\n",
    "- [x]  посчитано и добавлено в таблицу: этаж квартиры; варианты — первый, последний, другой\n",
    "- [x]  посчитано и добавлено в таблицу: соотношение жилой и общей площади, а также отношение площади кухни к общей\n",
    "- [x]  изучены следующие параметры: площадь, цена, число комнат, высота потолков\n",
    "- [x]  построены гистограммы для каждого параметра\n",
    "- [x]  выполнено задание: \"Изучите время продажи квартиры. Постройте гистограмму. Посчитайте среднее и медиану. Опишите, сколько обычно занимает продажа. Когда можно считать, что продажи прошли очень быстро, а когда необычно долго?\"\n",
    "- [x]  выполнено задание: \"Уберите редкие и выбивающиеся значения. Опишите, какие особенности обнаружили.\"\n",
    "- [x]  выполнено задание: \"Какие факторы больше всего влияют на стоимость квартиры? Изучите, зависит ли цена от квадратного метра, числа комнат, этажа (первого или последнего), удалённости от центра. Также изучите зависимость от даты размещения: дня недели, месяца и года. \"Выберите 10 населённых пунктов с наибольшим числом объявлений. Посчитайте среднюю цену квадратного метра в этих населённых пунктах. Выделите населённые пункты с самой высокой и низкой стоимостью жилья. Эти данные можно найти по имени в столбце '*locality_name'*. \"\n",
    "- [x]  выполнено задание: \"Изучите предложения квартир: для каждой квартиры есть информация о расстоянии до центра. Выделите квартиры в Санкт-Петербурге (*'locality_name'*). Ваша задача — выяснить, какая область входит в центр. Создайте столбец с расстоянием до центра в километрах: округлите до целых значений. После этого посчитайте среднюю цену для каждого километра. Постройте график: он должен показывать, как цена зависит от удалённости от центра. Определите границу, где график сильно меняется — это и будет центральная зона. \"\n",
    "- [x]  выполнено задание: \"Выделите сегмент квартир в центре. Проанализируйте эту территорию и изучите следующие параметры: площадь, цена, число комнат, высота потолков. Также выделите факторы, которые влияют на стоимость квартиры (число комнат, этаж, удалённость от центра, дата размещения объявления). Сделайте выводы. Отличаются ли они от общих выводов по всему городу?\"\n",
    "- [x]  в каждом этапе есть выводы\n",
    "- [x]  есть общий вывод"
   ]
  }
 ],
 "metadata": {
  "ExecuteTimeLog": [
   {
    "duration": 656,
    "start_time": "2022-01-26T14:13:27.681Z"
   },
   {
    "duration": 61,
    "start_time": "2022-01-26T14:14:07.091Z"
   },
   {
    "duration": 55,
    "start_time": "2022-01-26T14:15:32.163Z"
   },
   {
    "duration": 76,
    "start_time": "2022-01-26T14:15:41.363Z"
   },
   {
    "duration": 10,
    "start_time": "2022-01-26T14:32:31.704Z"
   },
   {
    "duration": 6,
    "start_time": "2022-01-26T14:58:53.032Z"
   },
   {
    "duration": 4,
    "start_time": "2022-01-26T14:59:33.586Z"
   },
   {
    "duration": 6,
    "start_time": "2022-01-26T15:00:43.555Z"
   },
   {
    "duration": 94,
    "start_time": "2022-01-26T15:04:11.885Z"
   },
   {
    "duration": 6,
    "start_time": "2022-01-26T15:05:49.455Z"
   },
   {
    "duration": 5,
    "start_time": "2022-01-26T15:06:54.099Z"
   },
   {
    "duration": 6646,
    "start_time": "2022-01-26T15:10:28.704Z"
   },
   {
    "duration": 4158,
    "start_time": "2022-01-26T15:10:54.911Z"
   },
   {
    "duration": 84,
    "start_time": "2022-01-26T15:11:06.351Z"
   },
   {
    "duration": 6,
    "start_time": "2022-01-26T15:11:12.486Z"
   },
   {
    "duration": 87,
    "start_time": "2022-01-26T15:11:24.053Z"
   },
   {
    "duration": 9,
    "start_time": "2022-01-26T15:11:27.406Z"
   },
   {
    "duration": 249,
    "start_time": "2022-01-26T15:14:37.940Z"
   },
   {
    "duration": 190,
    "start_time": "2022-01-26T15:15:52.661Z"
   },
   {
    "duration": 352,
    "start_time": "2022-01-26T15:16:19.022Z"
   },
   {
    "duration": 381,
    "start_time": "2022-01-26T15:16:46.262Z"
   },
   {
    "duration": 207,
    "start_time": "2022-01-26T15:17:38.147Z"
   },
   {
    "duration": 247,
    "start_time": "2022-01-26T15:23:34.627Z"
   },
   {
    "duration": 322,
    "start_time": "2022-01-26T15:25:26.910Z"
   },
   {
    "duration": 296,
    "start_time": "2022-01-26T15:25:32.606Z"
   },
   {
    "duration": 236,
    "start_time": "2022-01-26T15:26:16.275Z"
   },
   {
    "duration": 178,
    "start_time": "2022-01-26T15:31:31.381Z"
   },
   {
    "duration": -589,
    "start_time": "2022-01-26T15:56:55.449Z"
   },
   {
    "duration": 16,
    "start_time": "2022-01-26T15:57:09.260Z"
   },
   {
    "duration": 24,
    "start_time": "2022-01-26T15:57:30.756Z"
   },
   {
    "duration": 2275,
    "start_time": "2022-01-26T16:03:00.440Z"
   },
   {
    "duration": 317,
    "start_time": "2022-01-26T16:04:06.888Z"
   },
   {
    "duration": 369,
    "start_time": "2022-01-27T12:39:07.997Z"
   },
   {
    "duration": 855,
    "start_time": "2022-01-27T12:39:15.415Z"
   },
   {
    "duration": 16,
    "start_time": "2022-01-27T12:39:19.171Z"
   },
   {
    "duration": 538,
    "start_time": "2022-01-27T12:39:22.307Z"
   },
   {
    "duration": 412,
    "start_time": "2022-01-27T12:39:27.552Z"
   },
   {
    "duration": 373,
    "start_time": "2022-01-27T12:39:30.486Z"
   },
   {
    "duration": 56,
    "start_time": "2022-01-27T12:40:14.417Z"
   },
   {
    "duration": 47,
    "start_time": "2022-01-27T12:40:33.736Z"
   },
   {
    "duration": 93,
    "start_time": "2022-01-27T12:41:29.558Z"
   },
   {
    "duration": 2029,
    "start_time": "2022-01-27T12:42:19.765Z"
   },
   {
    "duration": 25,
    "start_time": "2022-01-27T12:42:41.202Z"
   },
   {
    "duration": 38,
    "start_time": "2022-01-27T12:44:15.743Z"
   },
   {
    "duration": 2104,
    "start_time": "2022-01-27T12:45:04.715Z"
   },
   {
    "duration": 26,
    "start_time": "2022-01-27T12:45:22.666Z"
   },
   {
    "duration": 86,
    "start_time": "2022-01-27T12:46:45.498Z"
   },
   {
    "duration": 30,
    "start_time": "2022-01-27T12:46:58.549Z"
   },
   {
    "duration": 2049,
    "start_time": "2022-01-27T12:47:04.021Z"
   },
   {
    "duration": 26,
    "start_time": "2022-01-27T12:47:23.285Z"
   },
   {
    "duration": 46,
    "start_time": "2022-01-27T12:47:31.468Z"
   },
   {
    "duration": 4615,
    "start_time": "2022-01-27T12:48:53.098Z"
   },
   {
    "duration": 7079,
    "start_time": "2022-01-27T12:49:19.368Z"
   },
   {
    "duration": 8077,
    "start_time": "2022-01-27T12:50:10.566Z"
   },
   {
    "duration": 54,
    "start_time": "2022-01-27T12:51:05.034Z"
   },
   {
    "duration": 305,
    "start_time": "2022-01-27T12:54:51.169Z"
   },
   {
    "duration": 45,
    "start_time": "2022-01-27T12:54:59.887Z"
   },
   {
    "duration": 7721,
    "start_time": "2022-01-27T12:56:35.623Z"
   },
   {
    "duration": 13196,
    "start_time": "2022-01-27T12:59:06.549Z"
   },
   {
    "duration": 13269,
    "start_time": "2022-01-27T12:59:49.519Z"
   },
   {
    "duration": 91,
    "start_time": "2022-01-27T13:50:41.377Z"
   },
   {
    "duration": 121,
    "start_time": "2022-01-27T13:50:59.384Z"
   },
   {
    "duration": 6,
    "start_time": "2022-01-27T13:51:50.859Z"
   },
   {
    "duration": 7,
    "start_time": "2022-01-27T13:52:10.946Z"
   },
   {
    "duration": 11,
    "start_time": "2022-01-27T13:52:55.810Z"
   },
   {
    "duration": 39,
    "start_time": "2022-01-27T13:53:23.007Z"
   },
   {
    "duration": 39,
    "start_time": "2022-01-27T13:53:31.906Z"
   },
   {
    "duration": 19,
    "start_time": "2022-01-27T13:57:00.377Z"
   },
   {
    "duration": 9,
    "start_time": "2022-01-27T13:57:35.851Z"
   },
   {
    "duration": 428,
    "start_time": "2022-01-27T13:57:38.507Z"
   },
   {
    "duration": 17,
    "start_time": "2022-01-27T13:57:45.459Z"
   },
   {
    "duration": 38,
    "start_time": "2022-01-27T13:59:34.982Z"
   },
   {
    "duration": 112,
    "start_time": "2022-01-27T14:01:30.137Z"
   },
   {
    "duration": 19,
    "start_time": "2022-01-27T14:01:33.169Z"
   },
   {
    "duration": 9,
    "start_time": "2022-01-27T14:01:35.415Z"
   },
   {
    "duration": 423,
    "start_time": "2022-01-27T14:01:37.591Z"
   },
   {
    "duration": 315,
    "start_time": "2022-01-27T14:01:40.439Z"
   },
   {
    "duration": 46,
    "start_time": "2022-01-27T14:01:45.009Z"
   },
   {
    "duration": 48,
    "start_time": "2022-01-27T14:03:12.827Z"
   },
   {
    "duration": 44,
    "start_time": "2022-01-27T14:05:22.359Z"
   },
   {
    "duration": 45,
    "start_time": "2022-01-27T14:07:27.392Z"
   },
   {
    "duration": 330,
    "start_time": "2022-01-27T14:15:03.982Z"
   },
   {
    "duration": 117,
    "start_time": "2022-01-27T14:15:42.648Z"
   },
   {
    "duration": 350,
    "start_time": "2022-01-27T14:15:56.265Z"
   },
   {
    "duration": 329,
    "start_time": "2022-01-27T14:16:19.760Z"
   },
   {
    "duration": 424,
    "start_time": "2022-01-27T14:16:32.784Z"
   },
   {
    "duration": 54,
    "start_time": "2022-01-27T14:16:47.446Z"
   },
   {
    "duration": 38,
    "start_time": "2022-01-27T14:17:41.651Z"
   },
   {
    "duration": 3,
    "start_time": "2022-01-27T14:17:58.866Z"
   },
   {
    "duration": 3,
    "start_time": "2022-01-27T14:19:55.517Z"
   },
   {
    "duration": 23,
    "start_time": "2022-01-27T14:26:56.821Z"
   },
   {
    "duration": 42,
    "start_time": "2022-01-27T14:27:10.031Z"
   },
   {
    "duration": 53,
    "start_time": "2022-01-27T14:27:30.071Z"
   },
   {
    "duration": 54,
    "start_time": "2022-01-27T14:28:10.351Z"
   },
   {
    "duration": 13146,
    "start_time": "2022-01-27T14:28:31.627Z"
   },
   {
    "duration": 51,
    "start_time": "2022-01-27T14:28:51.995Z"
   },
   {
    "duration": 45,
    "start_time": "2022-01-27T14:29:05.234Z"
   },
   {
    "duration": 51,
    "start_time": "2022-01-27T14:29:10.458Z"
   },
   {
    "duration": 9,
    "start_time": "2022-01-27T14:29:24.776Z"
   },
   {
    "duration": 50,
    "start_time": "2022-01-27T14:29:29.178Z"
   },
   {
    "duration": 315,
    "start_time": "2022-01-27T14:37:07.487Z"
   },
   {
    "duration": 408,
    "start_time": "2022-01-27T14:38:42.521Z"
   },
   {
    "duration": 285,
    "start_time": "2022-01-27T14:39:47.403Z"
   },
   {
    "duration": 344,
    "start_time": "2022-01-27T14:43:00.070Z"
   },
   {
    "duration": 1243,
    "start_time": "2022-01-27T14:54:58.565Z"
   },
   {
    "duration": 1098,
    "start_time": "2022-01-27T14:55:21.559Z"
   },
   {
    "duration": 1277,
    "start_time": "2022-01-27T14:55:30.703Z"
   },
   {
    "duration": 286,
    "start_time": "2022-01-27T15:32:35.769Z"
   },
   {
    "duration": 1087,
    "start_time": "2022-01-27T15:32:56.322Z"
   },
   {
    "duration": 1191,
    "start_time": "2022-01-27T15:34:22.433Z"
   },
   {
    "duration": 1144,
    "start_time": "2022-01-27T15:34:44.959Z"
   },
   {
    "duration": 1103,
    "start_time": "2022-01-27T15:35:05.206Z"
   },
   {
    "duration": 1067,
    "start_time": "2022-01-27T15:35:42.765Z"
   },
   {
    "duration": 1103,
    "start_time": "2022-01-27T15:36:33.289Z"
   },
   {
    "duration": 676,
    "start_time": "2022-01-27T15:37:24.280Z"
   },
   {
    "duration": 361,
    "start_time": "2022-01-27T15:38:27.942Z"
   },
   {
    "duration": 341,
    "start_time": "2022-01-27T15:38:56.219Z"
   },
   {
    "duration": 807,
    "start_time": "2022-01-27T15:39:16.138Z"
   },
   {
    "duration": 456,
    "start_time": "2022-01-27T15:39:37.121Z"
   },
   {
    "duration": 1201,
    "start_time": "2022-01-27T15:40:18.807Z"
   },
   {
    "duration": 599,
    "start_time": "2022-01-27T15:41:28.196Z"
   },
   {
    "duration": 699,
    "start_time": "2022-01-27T15:42:33.249Z"
   },
   {
    "duration": 334,
    "start_time": "2022-01-27T15:42:43.281Z"
   },
   {
    "duration": 429,
    "start_time": "2022-01-27T15:45:48.327Z"
   },
   {
    "duration": 378,
    "start_time": "2022-01-27T15:46:16.615Z"
   },
   {
    "duration": 389,
    "start_time": "2022-01-27T15:46:50.634Z"
   },
   {
    "duration": 346,
    "start_time": "2022-01-27T15:47:42.547Z"
   },
   {
    "duration": 656,
    "start_time": "2022-01-27T15:48:20.033Z"
   },
   {
    "duration": 1242,
    "start_time": "2022-01-27T15:49:13.127Z"
   },
   {
    "duration": 1096,
    "start_time": "2022-01-27T15:49:20.261Z"
   },
   {
    "duration": 677,
    "start_time": "2022-01-27T15:50:05.884Z"
   },
   {
    "duration": 574,
    "start_time": "2022-01-27T15:50:33.082Z"
   },
   {
    "duration": 671,
    "start_time": "2022-01-27T15:52:50.549Z"
   },
   {
    "duration": 2148,
    "start_time": "2022-01-27T15:53:48.337Z"
   },
   {
    "duration": 1129,
    "start_time": "2022-01-27T15:54:23.448Z"
   },
   {
    "duration": 1272,
    "start_time": "2022-01-27T15:54:31.120Z"
   },
   {
    "duration": 115,
    "start_time": "2022-01-27T15:54:48.075Z"
   },
   {
    "duration": 1860,
    "start_time": "2022-01-27T15:55:01.862Z"
   },
   {
    "duration": 1093,
    "start_time": "2022-01-27T15:55:36.724Z"
   },
   {
    "duration": 1476,
    "start_time": "2022-01-27T15:55:57.444Z"
   },
   {
    "duration": 823,
    "start_time": "2022-01-27T16:00:08.950Z"
   },
   {
    "duration": 10,
    "start_time": "2022-01-27T16:00:20.638Z"
   },
   {
    "duration": 330,
    "start_time": "2022-01-27T16:01:53.995Z"
   },
   {
    "duration": 799,
    "start_time": "2022-01-27T16:02:34.792Z"
   },
   {
    "duration": 925,
    "start_time": "2022-01-27T16:03:19.982Z"
   },
   {
    "duration": 329,
    "start_time": "2022-01-27T16:03:32.206Z"
   },
   {
    "duration": 285,
    "start_time": "2022-01-27T16:03:57.781Z"
   },
   {
    "duration": 851,
    "start_time": "2022-01-27T16:04:52.147Z"
   },
   {
    "duration": 1764,
    "start_time": "2022-01-27T16:06:54.182Z"
   },
   {
    "duration": 1097,
    "start_time": "2022-01-27T16:09:26.966Z"
   },
   {
    "duration": 1064,
    "start_time": "2022-01-27T16:11:20.200Z"
   },
   {
    "duration": 815,
    "start_time": "2022-01-27T16:11:26.792Z"
   },
   {
    "duration": 286,
    "start_time": "2022-01-27T16:11:39.735Z"
   },
   {
    "duration": 5,
    "start_time": "2022-01-27T16:12:02.358Z"
   },
   {
    "duration": 300,
    "start_time": "2022-01-27T16:12:11.325Z"
   },
   {
    "duration": 9,
    "start_time": "2022-01-27T16:12:49.653Z"
   },
   {
    "duration": 7,
    "start_time": "2022-01-27T16:12:59.355Z"
   },
   {
    "duration": 297,
    "start_time": "2022-01-27T16:13:32.459Z"
   },
   {
    "duration": 271,
    "start_time": "2022-01-27T16:14:33.401Z"
   },
   {
    "duration": 304,
    "start_time": "2022-01-27T16:15:00.118Z"
   },
   {
    "duration": 54,
    "start_time": "2022-01-27T16:15:06.562Z"
   },
   {
    "duration": 10,
    "start_time": "2022-01-27T16:15:10.637Z"
   },
   {
    "duration": 23,
    "start_time": "2022-01-27T16:15:18.964Z"
   },
   {
    "duration": 226,
    "start_time": "2022-01-28T12:39:56.574Z"
   },
   {
    "duration": 633,
    "start_time": "2022-01-28T12:40:03.322Z"
   },
   {
    "duration": 12,
    "start_time": "2022-01-28T12:40:06.676Z"
   },
   {
    "duration": 6,
    "start_time": "2022-01-28T12:40:09.372Z"
   },
   {
    "duration": 274,
    "start_time": "2022-01-28T12:40:12.756Z"
   },
   {
    "duration": 8204,
    "start_time": "2022-01-28T12:40:15.133Z"
   },
   {
    "duration": 27,
    "start_time": "2022-01-28T12:40:23.339Z"
   },
   {
    "duration": 34,
    "start_time": "2022-01-28T12:40:29.732Z"
   },
   {
    "duration": 485,
    "start_time": "2022-01-28T12:40:33.459Z"
   },
   {
    "duration": 18,
    "start_time": "2022-01-28T12:40:39.684Z"
   },
   {
    "duration": 22,
    "start_time": "2022-01-28T12:40:42.570Z"
   },
   {
    "duration": 23,
    "start_time": "2022-01-28T12:41:23.675Z"
   },
   {
    "duration": 24,
    "start_time": "2022-01-28T12:50:12.234Z"
   },
   {
    "duration": 814,
    "start_time": "2022-01-28T12:53:48.001Z"
   },
   {
    "duration": 795,
    "start_time": "2022-01-28T12:53:57.980Z"
   },
   {
    "duration": 27,
    "start_time": "2022-01-28T12:54:11.932Z"
   },
   {
    "duration": 780,
    "start_time": "2022-01-28T12:54:29.586Z"
   },
   {
    "duration": 40,
    "start_time": "2022-01-28T12:56:20.509Z"
   },
   {
    "duration": 29,
    "start_time": "2022-01-28T12:56:45.372Z"
   },
   {
    "duration": 4,
    "start_time": "2022-01-28T13:05:43.701Z"
   },
   {
    "duration": 24,
    "start_time": "2022-01-28T13:06:01.596Z"
   },
   {
    "duration": 22,
    "start_time": "2022-01-28T13:07:49.833Z"
   },
   {
    "duration": 24,
    "start_time": "2022-01-28T13:08:55.377Z"
   },
   {
    "duration": 11,
    "start_time": "2022-01-28T13:09:26.672Z"
   },
   {
    "duration": 11,
    "start_time": "2022-01-28T13:09:57.486Z"
   },
   {
    "duration": 31,
    "start_time": "2022-01-28T13:10:47.764Z"
   },
   {
    "duration": 36,
    "start_time": "2022-01-28T13:11:27.707Z"
   },
   {
    "duration": 29,
    "start_time": "2022-01-28T13:15:07.960Z"
   },
   {
    "duration": 31,
    "start_time": "2022-01-28T13:15:23.295Z"
   },
   {
    "duration": 39,
    "start_time": "2022-01-28T13:15:42.519Z"
   },
   {
    "duration": 4,
    "start_time": "2022-01-28T13:21:10.362Z"
   },
   {
    "duration": 22,
    "start_time": "2022-01-28T13:21:22.565Z"
   },
   {
    "duration": 22,
    "start_time": "2022-01-28T13:22:35.971Z"
   },
   {
    "duration": 25,
    "start_time": "2022-01-28T13:23:49.403Z"
   },
   {
    "duration": 37,
    "start_time": "2022-01-28T13:27:17.388Z"
   },
   {
    "duration": 38,
    "start_time": "2022-01-28T13:28:24.266Z"
   },
   {
    "duration": 38,
    "start_time": "2022-01-28T13:28:38.161Z"
   },
   {
    "duration": 42,
    "start_time": "2022-01-28T13:29:07.672Z"
   },
   {
    "duration": 610,
    "start_time": "2022-01-28T13:29:28.034Z"
   },
   {
    "duration": 36,
    "start_time": "2022-01-28T13:29:41.664Z"
   },
   {
    "duration": 28,
    "start_time": "2022-01-28T13:32:09.784Z"
   },
   {
    "duration": 28,
    "start_time": "2022-01-28T13:32:39.478Z"
   },
   {
    "duration": 39,
    "start_time": "2022-01-28T13:36:55.685Z"
   },
   {
    "duration": 66,
    "start_time": "2022-01-28T13:37:12.373Z"
   },
   {
    "duration": 52,
    "start_time": "2022-01-28T13:37:42.600Z"
   },
   {
    "duration": 81,
    "start_time": "2022-01-28T13:38:22.222Z"
   },
   {
    "duration": 11,
    "start_time": "2022-01-28T13:38:24.701Z"
   },
   {
    "duration": 6,
    "start_time": "2022-01-28T13:38:28.421Z"
   },
   {
    "duration": 7488,
    "start_time": "2022-01-28T13:38:31.494Z"
   },
   {
    "duration": 60,
    "start_time": "2022-01-28T13:38:38.984Z"
   },
   {
    "duration": 36,
    "start_time": "2022-01-28T13:39:54.458Z"
   },
   {
    "duration": 3,
    "start_time": "2022-01-28T13:41:44.079Z"
   },
   {
    "duration": 5,
    "start_time": "2022-01-28T13:42:09.882Z"
   },
   {
    "duration": 83,
    "start_time": "2022-01-28T13:42:14.952Z"
   },
   {
    "duration": 12,
    "start_time": "2022-01-28T13:42:18.641Z"
   },
   {
    "duration": 5,
    "start_time": "2022-01-28T13:42:21.201Z"
   },
   {
    "duration": 36,
    "start_time": "2022-01-28T13:45:33.420Z"
   },
   {
    "duration": 30,
    "start_time": "2022-01-28T13:45:51.105Z"
   },
   {
    "duration": 162,
    "start_time": "2022-01-28T13:51:38.003Z"
   },
   {
    "duration": 162,
    "start_time": "2022-01-28T13:51:49.951Z"
   },
   {
    "duration": 211,
    "start_time": "2022-01-28T13:52:22.501Z"
   },
   {
    "duration": 305,
    "start_time": "2022-01-28T13:52:48.909Z"
   },
   {
    "duration": 244,
    "start_time": "2022-01-28T13:53:01.043Z"
   },
   {
    "duration": 270,
    "start_time": "2022-01-28T13:54:15.592Z"
   },
   {
    "duration": 269,
    "start_time": "2022-01-28T13:54:30.088Z"
   },
   {
    "duration": 254,
    "start_time": "2022-01-28T13:55:25.352Z"
   },
   {
    "duration": 236,
    "start_time": "2022-01-28T13:57:10.016Z"
   },
   {
    "duration": 503,
    "start_time": "2022-01-28T13:57:36.847Z"
   },
   {
    "duration": 314,
    "start_time": "2022-01-28T13:57:52.694Z"
   },
   {
    "duration": 253,
    "start_time": "2022-01-28T13:58:18.365Z"
   },
   {
    "duration": 263,
    "start_time": "2022-01-28T13:59:16.506Z"
   },
   {
    "duration": 263,
    "start_time": "2022-01-28T13:59:36.649Z"
   },
   {
    "duration": 257,
    "start_time": "2022-01-28T13:59:46.137Z"
   },
   {
    "duration": 244,
    "start_time": "2022-01-28T14:02:17.741Z"
   },
   {
    "duration": 217,
    "start_time": "2022-01-28T14:02:26.301Z"
   },
   {
    "duration": 202,
    "start_time": "2022-01-28T14:03:20.887Z"
   },
   {
    "duration": 200,
    "start_time": "2022-01-28T14:03:37.957Z"
   },
   {
    "duration": 176,
    "start_time": "2022-01-28T14:04:33.891Z"
   },
   {
    "duration": 277,
    "start_time": "2022-01-28T14:04:43.402Z"
   },
   {
    "duration": 233,
    "start_time": "2022-01-28T14:04:51.194Z"
   },
   {
    "duration": 193,
    "start_time": "2022-01-28T14:06:37.549Z"
   },
   {
    "duration": 176,
    "start_time": "2022-01-28T14:10:34.725Z"
   },
   {
    "duration": 188,
    "start_time": "2022-01-28T14:10:56.816Z"
   },
   {
    "duration": 379,
    "start_time": "2022-01-28T14:11:18.663Z"
   },
   {
    "duration": 182,
    "start_time": "2022-01-28T14:11:37.184Z"
   },
   {
    "duration": 434,
    "start_time": "2022-01-28T14:11:55.166Z"
   },
   {
    "duration": 181,
    "start_time": "2022-01-28T14:12:33.540Z"
   },
   {
    "duration": 179,
    "start_time": "2022-01-28T14:12:50.492Z"
   },
   {
    "duration": 177,
    "start_time": "2022-01-28T14:13:24.099Z"
   },
   {
    "duration": 238,
    "start_time": "2022-01-28T14:13:35.745Z"
   },
   {
    "duration": 265,
    "start_time": "2022-01-28T14:13:58.392Z"
   },
   {
    "duration": 235,
    "start_time": "2022-01-28T14:15:06.325Z"
   },
   {
    "duration": 375,
    "start_time": "2022-01-28T14:18:01.737Z"
   },
   {
    "duration": 255,
    "start_time": "2022-01-28T14:18:14.316Z"
   },
   {
    "duration": 319,
    "start_time": "2022-01-28T14:18:24.748Z"
   },
   {
    "duration": 70,
    "start_time": "2022-01-28T14:20:21.287Z"
   },
   {
    "duration": 316,
    "start_time": "2022-01-28T14:20:40.005Z"
   },
   {
    "duration": 295,
    "start_time": "2022-01-28T14:20:55.060Z"
   },
   {
    "duration": 61,
    "start_time": "2022-01-28T14:21:09.333Z"
   },
   {
    "duration": 328,
    "start_time": "2022-01-28T14:21:21.371Z"
   },
   {
    "duration": 320,
    "start_time": "2022-01-28T14:21:41.677Z"
   },
   {
    "duration": 457,
    "start_time": "2022-01-28T14:21:47.962Z"
   },
   {
    "duration": 303,
    "start_time": "2022-01-28T14:21:51.841Z"
   },
   {
    "duration": 61,
    "start_time": "2022-01-28T14:22:15.257Z"
   },
   {
    "duration": 328,
    "start_time": "2022-01-28T14:22:20.817Z"
   },
   {
    "duration": 289,
    "start_time": "2022-01-28T14:22:50.088Z"
   },
   {
    "duration": 325,
    "start_time": "2022-01-28T14:29:57.187Z"
   },
   {
    "duration": 428,
    "start_time": "2022-01-29T03:45:59.316Z"
   },
   {
    "duration": 871,
    "start_time": "2022-01-29T03:46:06.891Z"
   },
   {
    "duration": 16,
    "start_time": "2022-01-29T03:46:20.300Z"
   },
   {
    "duration": 43,
    "start_time": "2022-01-29T03:46:22.638Z"
   },
   {
    "duration": 7,
    "start_time": "2022-01-29T03:46:24.980Z"
   },
   {
    "duration": 509,
    "start_time": "2022-01-29T03:46:27.148Z"
   },
   {
    "duration": 320,
    "start_time": "2022-01-29T03:46:30.924Z"
   },
   {
    "duration": 12587,
    "start_time": "2022-01-29T03:46:33.076Z"
   },
   {
    "duration": 57,
    "start_time": "2022-01-29T03:46:45.666Z"
   },
   {
    "duration": 49,
    "start_time": "2022-01-29T03:46:45.726Z"
   },
   {
    "duration": 9,
    "start_time": "2022-01-29T03:46:51.637Z"
   },
   {
    "duration": 805,
    "start_time": "2022-01-29T03:46:56.636Z"
   },
   {
    "duration": 26,
    "start_time": "2022-01-29T03:47:00.379Z"
   },
   {
    "duration": 36,
    "start_time": "2022-01-29T03:47:02.956Z"
   },
   {
    "duration": 46,
    "start_time": "2022-01-29T03:47:05.637Z"
   },
   {
    "duration": 47,
    "start_time": "2022-01-29T03:47:07.747Z"
   },
   {
    "duration": 38,
    "start_time": "2022-01-29T03:47:09.971Z"
   },
   {
    "duration": 395,
    "start_time": "2022-01-29T03:47:12.090Z"
   },
   {
    "duration": 393,
    "start_time": "2022-01-29T03:47:14.250Z"
   },
   {
    "duration": 318,
    "start_time": "2022-01-29T03:47:16.786Z"
   },
   {
    "duration": 390,
    "start_time": "2022-01-29T03:47:19.744Z"
   },
   {
    "duration": 567,
    "start_time": "2022-01-29T03:47:23.711Z"
   },
   {
    "duration": 12,
    "start_time": "2022-01-29T03:47:26.086Z"
   },
   {
    "duration": 347,
    "start_time": "2022-01-29T03:47:37.001Z"
   },
   {
    "duration": 289,
    "start_time": "2022-01-29T03:47:44.696Z"
   },
   {
    "duration": 12,
    "start_time": "2022-01-29T03:47:54.384Z"
   },
   {
    "duration": 291,
    "start_time": "2022-01-29T03:49:25.660Z"
   },
   {
    "duration": 11,
    "start_time": "2022-01-29T03:49:53.387Z"
   },
   {
    "duration": 13,
    "start_time": "2022-01-29T03:50:14.520Z"
   },
   {
    "duration": 14,
    "start_time": "2022-01-29T03:51:11.854Z"
   },
   {
    "duration": 323,
    "start_time": "2022-01-29T03:53:31.776Z"
   },
   {
    "duration": 21,
    "start_time": "2022-01-29T03:54:09.495Z"
   },
   {
    "duration": 360,
    "start_time": "2022-01-29T03:55:01.320Z"
   },
   {
    "duration": 14,
    "start_time": "2022-01-29T03:55:10.060Z"
   },
   {
    "duration": 21,
    "start_time": "2022-01-29T03:55:51.961Z"
   },
   {
    "duration": 1156,
    "start_time": "2022-01-29T03:56:42.927Z"
   },
   {
    "duration": 21,
    "start_time": "2022-01-29T03:57:41.036Z"
   },
   {
    "duration": 20,
    "start_time": "2022-01-29T03:59:33.447Z"
   },
   {
    "duration": 22,
    "start_time": "2022-01-29T03:59:59.694Z"
   },
   {
    "duration": 22,
    "start_time": "2022-01-29T04:00:09.509Z"
   },
   {
    "duration": 15,
    "start_time": "2022-01-29T04:03:52.203Z"
   },
   {
    "duration": 337,
    "start_time": "2022-01-29T04:07:49.439Z"
   },
   {
    "duration": 328,
    "start_time": "2022-01-29T04:08:08.177Z"
   },
   {
    "duration": 21,
    "start_time": "2022-01-29T04:08:16.218Z"
   },
   {
    "duration": 6348,
    "start_time": "2022-01-29T04:08:44.212Z"
   },
   {
    "duration": 51,
    "start_time": "2022-01-29T04:09:08.981Z"
   },
   {
    "duration": 534,
    "start_time": "2022-01-29T04:09:35.171Z"
   },
   {
    "duration": 506,
    "start_time": "2022-01-29T04:12:11.051Z"
   },
   {
    "duration": 792,
    "start_time": "2022-01-29T04:13:07.777Z"
   },
   {
    "duration": 766,
    "start_time": "2022-01-29T04:19:34.807Z"
   },
   {
    "duration": 111,
    "start_time": "2022-01-29T04:19:41.393Z"
   },
   {
    "duration": 1099,
    "start_time": "2022-01-29T04:19:52.204Z"
   },
   {
    "duration": 1053,
    "start_time": "2022-01-29T04:20:27.699Z"
   },
   {
    "duration": 991,
    "start_time": "2022-01-29T04:20:45.946Z"
   },
   {
    "duration": 1276,
    "start_time": "2022-01-29T04:22:00.208Z"
   },
   {
    "duration": 1001,
    "start_time": "2022-01-29T04:22:12.622Z"
   },
   {
    "duration": 4,
    "start_time": "2022-01-29T04:28:18.797Z"
   },
   {
    "duration": 6774,
    "start_time": "2022-01-29T04:28:37.060Z"
   },
   {
    "duration": 4,
    "start_time": "2022-01-29T04:29:01.148Z"
   },
   {
    "duration": 91,
    "start_time": "2022-01-29T04:30:42.774Z"
   },
   {
    "duration": 85,
    "start_time": "2022-01-29T04:30:58.773Z"
   },
   {
    "duration": 105,
    "start_time": "2022-01-29T04:31:03.750Z"
   },
   {
    "duration": 12,
    "start_time": "2022-01-29T04:31:15.933Z"
   },
   {
    "duration": 12,
    "start_time": "2022-01-29T04:31:52.584Z"
   },
   {
    "duration": 14,
    "start_time": "2022-01-29T04:32:33.857Z"
   },
   {
    "duration": 17,
    "start_time": "2022-01-29T04:33:05.317Z"
   },
   {
    "duration": 6941,
    "start_time": "2022-01-29T04:41:11.113Z"
   },
   {
    "duration": 49,
    "start_time": "2022-01-29T04:41:36.540Z"
   },
   {
    "duration": 15,
    "start_time": "2022-01-29T04:41:44.009Z"
   },
   {
    "duration": 1156,
    "start_time": "2022-01-29T04:43:36.999Z"
   },
   {
    "duration": 326,
    "start_time": "2022-01-29T04:56:44.454Z"
   },
   {
    "duration": 41,
    "start_time": "2022-01-29T04:56:57.509Z"
   },
   {
    "duration": 407,
    "start_time": "2022-01-29T04:57:27.531Z"
   },
   {
    "duration": 13,
    "start_time": "2022-01-29T04:57:36.539Z"
   },
   {
    "duration": 13,
    "start_time": "2022-01-29T04:58:16.944Z"
   },
   {
    "duration": 12,
    "start_time": "2022-01-29T04:59:11.253Z"
   },
   {
    "duration": 13,
    "start_time": "2022-01-29T04:59:17.717Z"
   },
   {
    "duration": 19,
    "start_time": "2022-01-29T04:59:45.812Z"
   },
   {
    "duration": 24,
    "start_time": "2022-01-29T05:00:19.748Z"
   },
   {
    "duration": 24,
    "start_time": "2022-01-29T05:08:58.258Z"
   },
   {
    "duration": 6753,
    "start_time": "2022-01-29T05:15:37.039Z"
   },
   {
    "duration": 49,
    "start_time": "2022-01-29T05:15:55.779Z"
   },
   {
    "duration": 277,
    "start_time": "2022-01-29T05:16:03.486Z"
   },
   {
    "duration": 808,
    "start_time": "2022-01-29T05:16:14.085Z"
   },
   {
    "duration": 12432,
    "start_time": "2022-01-29T05:16:21.829Z"
   },
   {
    "duration": 43,
    "start_time": "2022-01-29T05:16:37.885Z"
   },
   {
    "duration": 55,
    "start_time": "2022-01-29T05:16:43.028Z"
   },
   {
    "duration": 8,
    "start_time": "2022-01-29T05:16:47.106Z"
   },
   {
    "duration": 869,
    "start_time": "2022-01-29T05:16:48.684Z"
   },
   {
    "duration": 293,
    "start_time": "2022-01-29T05:16:49.555Z"
   },
   {
    "duration": 38,
    "start_time": "2022-01-29T05:16:51.931Z"
   },
   {
    "duration": 44,
    "start_time": "2022-01-29T05:16:53.835Z"
   },
   {
    "duration": 43,
    "start_time": "2022-01-29T05:16:58.484Z"
   },
   {
    "duration": 40,
    "start_time": "2022-01-29T05:17:01.451Z"
   },
   {
    "duration": 516,
    "start_time": "2022-01-29T05:17:05.411Z"
   },
   {
    "duration": 6,
    "start_time": "2022-01-29T05:17:13.507Z"
   },
   {
    "duration": 25,
    "start_time": "2022-01-29T05:20:23.145Z"
   },
   {
    "duration": 287,
    "start_time": "2022-01-29T05:21:54.293Z"
   },
   {
    "duration": 299,
    "start_time": "2022-01-29T05:22:03.428Z"
   },
   {
    "duration": 16,
    "start_time": "2022-01-29T05:22:10.141Z"
   },
   {
    "duration": 26,
    "start_time": "2022-01-29T05:25:09.389Z"
   },
   {
    "duration": 744,
    "start_time": "2022-01-29T09:46:43.014Z"
   },
   {
    "duration": 10,
    "start_time": "2022-01-29T09:46:46.491Z"
   },
   {
    "duration": 26,
    "start_time": "2022-01-29T09:46:50.140Z"
   },
   {
    "duration": 6,
    "start_time": "2022-01-29T09:47:18.931Z"
   },
   {
    "duration": 298,
    "start_time": "2022-01-29T09:47:26.106Z"
   },
   {
    "duration": 196,
    "start_time": "2022-01-29T09:47:29.089Z"
   },
   {
    "duration": 7885,
    "start_time": "2022-01-29T09:47:31.969Z"
   },
   {
    "duration": 28,
    "start_time": "2022-01-29T09:47:59.752Z"
   },
   {
    "duration": 41,
    "start_time": "2022-01-29T09:48:03.401Z"
   },
   {
    "duration": 9,
    "start_time": "2022-01-29T09:48:10.623Z"
   },
   {
    "duration": 485,
    "start_time": "2022-01-29T09:48:14.527Z"
   },
   {
    "duration": 8,
    "start_time": "2022-01-29T09:48:51.970Z"
   },
   {
    "duration": 435,
    "start_time": "2022-01-29T09:49:03.101Z"
   },
   {
    "duration": 18,
    "start_time": "2022-01-29T09:49:07.477Z"
   },
   {
    "duration": 34,
    "start_time": "2022-01-29T09:49:11.661Z"
   },
   {
    "duration": 30,
    "start_time": "2022-01-29T09:49:13.917Z"
   },
   {
    "duration": 30,
    "start_time": "2022-01-29T09:49:16.022Z"
   },
   {
    "duration": 24,
    "start_time": "2022-01-29T09:49:18.980Z"
   },
   {
    "duration": 393,
    "start_time": "2022-01-29T09:49:53.195Z"
   },
   {
    "duration": 686,
    "start_time": "2022-01-29T09:49:55.979Z"
   },
   {
    "duration": 12,
    "start_time": "2022-01-29T09:49:59.930Z"
   },
   {
    "duration": 19,
    "start_time": "2022-01-29T09:50:02.122Z"
   },
   {
    "duration": 18,
    "start_time": "2022-01-29T09:50:04.042Z"
   },
   {
    "duration": 185,
    "start_time": "2022-01-29T09:50:50.384Z"
   },
   {
    "duration": 191,
    "start_time": "2022-01-29T09:51:21.353Z"
   },
   {
    "duration": 18,
    "start_time": "2022-01-29T09:56:36.491Z"
   },
   {
    "duration": 29,
    "start_time": "2022-01-29T09:57:06.127Z"
   },
   {
    "duration": 29,
    "start_time": "2022-01-29T09:57:08.815Z"
   },
   {
    "duration": 24,
    "start_time": "2022-01-29T09:57:19.150Z"
   },
   {
    "duration": 201,
    "start_time": "2022-01-29T09:57:57.771Z"
   },
   {
    "duration": 19,
    "start_time": "2022-01-29T09:58:22.122Z"
   },
   {
    "duration": 26,
    "start_time": "2022-01-29T09:59:44.471Z"
   },
   {
    "duration": 248,
    "start_time": "2022-01-29T10:05:41.286Z"
   },
   {
    "duration": 194,
    "start_time": "2022-01-29T10:05:57.909Z"
   },
   {
    "duration": 205,
    "start_time": "2022-01-29T10:06:14.880Z"
   },
   {
    "duration": 200,
    "start_time": "2022-01-29T10:07:04.178Z"
   },
   {
    "duration": 14,
    "start_time": "2022-01-29T10:07:10.521Z"
   },
   {
    "duration": 203,
    "start_time": "2022-01-29T10:07:18.550Z"
   },
   {
    "duration": 202,
    "start_time": "2022-01-29T10:07:29.345Z"
   },
   {
    "duration": 188,
    "start_time": "2022-01-29T10:07:36.129Z"
   },
   {
    "duration": 201,
    "start_time": "2022-01-29T10:07:40.489Z"
   },
   {
    "duration": 14,
    "start_time": "2022-01-29T10:07:49.931Z"
   },
   {
    "duration": 17,
    "start_time": "2022-01-29T10:12:21.891Z"
   },
   {
    "duration": 186,
    "start_time": "2022-01-29T10:12:22.019Z"
   },
   {
    "duration": 15,
    "start_time": "2022-01-29T10:12:47.170Z"
   },
   {
    "duration": 15,
    "start_time": "2022-01-29T10:12:54.410Z"
   },
   {
    "duration": 14,
    "start_time": "2022-01-29T10:13:16.377Z"
   },
   {
    "duration": 28,
    "start_time": "2022-01-29T10:13:49.943Z"
   },
   {
    "duration": 64,
    "start_time": "2022-01-29T10:14:03.128Z"
   },
   {
    "duration": 15,
    "start_time": "2022-01-29T10:14:12.006Z"
   },
   {
    "duration": 11,
    "start_time": "2022-01-29T10:15:19.323Z"
   },
   {
    "duration": 14,
    "start_time": "2022-01-29T10:15:35.562Z"
   },
   {
    "duration": 11,
    "start_time": "2022-01-29T10:32:02.734Z"
   },
   {
    "duration": 227,
    "start_time": "2022-01-29T10:33:02.976Z"
   },
   {
    "duration": 204,
    "start_time": "2022-01-29T10:39:56.725Z"
   },
   {
    "duration": 14,
    "start_time": "2022-01-29T10:40:16.516Z"
   },
   {
    "duration": 1769,
    "start_time": "2022-01-29T10:40:43.981Z"
   },
   {
    "duration": 25,
    "start_time": "2022-01-29T10:41:37.367Z"
   },
   {
    "duration": 205,
    "start_time": "2022-01-29T10:42:38.582Z"
   },
   {
    "duration": 24,
    "start_time": "2022-01-29T10:42:59.963Z"
   },
   {
    "duration": 34,
    "start_time": "2022-01-29T10:43:13.916Z"
   },
   {
    "duration": 22,
    "start_time": "2022-01-29T10:44:02.161Z"
   },
   {
    "duration": 25,
    "start_time": "2022-01-29T10:44:18.449Z"
   },
   {
    "duration": 25,
    "start_time": "2022-01-29T10:44:29.847Z"
   },
   {
    "duration": 23,
    "start_time": "2022-01-29T10:44:48.519Z"
   },
   {
    "duration": 21,
    "start_time": "2022-01-29T10:45:30.276Z"
   },
   {
    "duration": 25,
    "start_time": "2022-01-29T10:45:59.483Z"
   },
   {
    "duration": 72,
    "start_time": "2022-01-29T10:47:08.528Z"
   },
   {
    "duration": 26,
    "start_time": "2022-01-29T10:47:25.614Z"
   },
   {
    "duration": 212,
    "start_time": "2022-01-29T10:47:56.749Z"
   },
   {
    "duration": 206,
    "start_time": "2022-01-29T10:48:04.781Z"
   },
   {
    "duration": 27,
    "start_time": "2022-01-29T10:48:22.221Z"
   },
   {
    "duration": 25,
    "start_time": "2022-01-29T10:49:12.347Z"
   },
   {
    "duration": 4759,
    "start_time": "2022-01-29T10:49:51.976Z"
   },
   {
    "duration": 27,
    "start_time": "2022-01-29T10:50:13.655Z"
   },
   {
    "duration": 24,
    "start_time": "2022-01-29T10:50:35.782Z"
   },
   {
    "duration": 24,
    "start_time": "2022-01-29T10:50:42.590Z"
   },
   {
    "duration": 24,
    "start_time": "2022-01-29T10:51:00.453Z"
   },
   {
    "duration": 26,
    "start_time": "2022-01-29T10:51:28.108Z"
   },
   {
    "duration": 25,
    "start_time": "2022-01-29T10:51:42.131Z"
   },
   {
    "duration": 24,
    "start_time": "2022-01-29T10:51:53.506Z"
   },
   {
    "duration": 24,
    "start_time": "2022-01-29T10:52:19.129Z"
   },
   {
    "duration": 9,
    "start_time": "2022-01-29T11:00:25.706Z"
   },
   {
    "duration": 5,
    "start_time": "2022-01-29T11:00:47.713Z"
   },
   {
    "duration": 204,
    "start_time": "2022-01-29T11:06:46.543Z"
   },
   {
    "duration": 21,
    "start_time": "2022-01-29T11:07:07.671Z"
   },
   {
    "duration": 21,
    "start_time": "2022-01-29T11:07:40.550Z"
   },
   {
    "duration": 22,
    "start_time": "2022-01-29T11:07:51.132Z"
   },
   {
    "duration": 22,
    "start_time": "2022-01-29T11:08:06.540Z"
   },
   {
    "duration": 22,
    "start_time": "2022-01-29T11:08:19.387Z"
   },
   {
    "duration": 221,
    "start_time": "2022-01-29T11:10:11.678Z"
   },
   {
    "duration": 226,
    "start_time": "2022-01-29T11:10:32.582Z"
   },
   {
    "duration": 18,
    "start_time": "2022-01-29T11:11:32.835Z"
   },
   {
    "duration": 21,
    "start_time": "2022-01-29T11:16:32.908Z"
   },
   {
    "duration": 263,
    "start_time": "2022-01-29T11:20:55.487Z"
   },
   {
    "duration": 188,
    "start_time": "2022-01-29T11:21:33.053Z"
   },
   {
    "duration": 400,
    "start_time": "2022-01-29T11:34:00.227Z"
   },
   {
    "duration": 201,
    "start_time": "2022-01-29T11:34:20.931Z"
   },
   {
    "duration": 7,
    "start_time": "2022-01-29T11:47:03.144Z"
   },
   {
    "duration": 28,
    "start_time": "2022-01-29T11:47:16.341Z"
   },
   {
    "duration": 26,
    "start_time": "2022-01-29T11:47:33.077Z"
   },
   {
    "duration": 264,
    "start_time": "2022-01-29T11:48:26.202Z"
   },
   {
    "duration": 266,
    "start_time": "2022-01-29T11:49:53.062Z"
   },
   {
    "duration": 294,
    "start_time": "2022-01-29T11:51:17.786Z"
   },
   {
    "duration": 218,
    "start_time": "2022-01-29T11:52:11.871Z"
   },
   {
    "duration": 226,
    "start_time": "2022-01-29T11:53:19.349Z"
   },
   {
    "duration": 209,
    "start_time": "2022-01-29T11:53:45.123Z"
   },
   {
    "duration": 203,
    "start_time": "2022-01-29T11:58:02.607Z"
   },
   {
    "duration": 258,
    "start_time": "2022-01-29T11:58:42.301Z"
   },
   {
    "duration": 342,
    "start_time": "2022-01-29T11:59:24.427Z"
   },
   {
    "duration": 239,
    "start_time": "2022-01-29T12:02:54.977Z"
   },
   {
    "duration": 258,
    "start_time": "2022-01-29T12:03:10.745Z"
   },
   {
    "duration": 220,
    "start_time": "2022-01-29T12:03:29.968Z"
   },
   {
    "duration": 255,
    "start_time": "2022-01-29T12:03:57.534Z"
   },
   {
    "duration": 281,
    "start_time": "2022-01-29T12:04:14.197Z"
   },
   {
    "duration": 202,
    "start_time": "2022-01-29T12:04:22.724Z"
   },
   {
    "duration": 212,
    "start_time": "2022-01-29T12:04:27.004Z"
   },
   {
    "duration": 192,
    "start_time": "2022-01-29T12:04:33.524Z"
   },
   {
    "duration": 209,
    "start_time": "2022-01-29T12:04:39.451Z"
   },
   {
    "duration": 198,
    "start_time": "2022-01-29T12:05:41.626Z"
   },
   {
    "duration": 577,
    "start_time": "2022-01-29T12:09:27.390Z"
   },
   {
    "duration": 532,
    "start_time": "2022-01-29T12:10:00.293Z"
   },
   {
    "duration": 504,
    "start_time": "2022-01-29T12:10:06.461Z"
   },
   {
    "duration": 525,
    "start_time": "2022-01-29T12:12:09.591Z"
   },
   {
    "duration": 63,
    "start_time": "2022-01-29T12:13:21.771Z"
   },
   {
    "duration": 401,
    "start_time": "2022-01-29T12:13:30.690Z"
   },
   {
    "duration": 498,
    "start_time": "2022-01-29T12:13:54.633Z"
   },
   {
    "duration": 63,
    "start_time": "2022-01-29T12:19:15.018Z"
   },
   {
    "duration": 4,
    "start_time": "2022-01-29T12:19:20.723Z"
   },
   {
    "duration": 15,
    "start_time": "2022-01-29T12:20:53.454Z"
   },
   {
    "duration": 14,
    "start_time": "2022-01-29T12:21:57.658Z"
   },
   {
    "duration": 14,
    "start_time": "2022-01-29T12:22:35.153Z"
   },
   {
    "duration": 14,
    "start_time": "2022-01-29T12:25:13.105Z"
   },
   {
    "duration": 4,
    "start_time": "2022-01-29T12:28:23.264Z"
   },
   {
    "duration": 331,
    "start_time": "2022-01-29T12:30:12.603Z"
   },
   {
    "duration": 313,
    "start_time": "2022-01-29T12:30:40.705Z"
   },
   {
    "duration": 508,
    "start_time": "2022-01-29T12:32:08.853Z"
   },
   {
    "duration": 785,
    "start_time": "2022-01-29T12:37:31.998Z"
   },
   {
    "duration": 209,
    "start_time": "2022-01-29T12:37:51.183Z"
   },
   {
    "duration": 183,
    "start_time": "2022-01-29T12:38:17.542Z"
   },
   {
    "duration": 398,
    "start_time": "2022-01-29T12:38:44.972Z"
   },
   {
    "duration": 189,
    "start_time": "2022-01-29T12:38:55.683Z"
   },
   {
    "duration": 1733,
    "start_time": "2022-01-29T12:39:29.065Z"
   },
   {
    "duration": 179,
    "start_time": "2022-01-29T12:40:51.374Z"
   },
   {
    "duration": 208,
    "start_time": "2022-01-29T12:40:59.549Z"
   },
   {
    "duration": 192,
    "start_time": "2022-01-29T12:41:27.973Z"
   },
   {
    "duration": 4858,
    "start_time": "2022-01-29T12:50:51.291Z"
   },
   {
    "duration": 248,
    "start_time": "2022-01-29T12:51:05.530Z"
   },
   {
    "duration": 470,
    "start_time": "2022-01-29T12:53:47.793Z"
   },
   {
    "duration": 460,
    "start_time": "2022-01-29T12:54:29.368Z"
   },
   {
    "duration": 648,
    "start_time": "2022-01-29T12:55:40.333Z"
   },
   {
    "duration": 320,
    "start_time": "2022-01-29T13:04:25.092Z"
   },
   {
    "duration": 185,
    "start_time": "2022-01-29T13:05:23.769Z"
   },
   {
    "duration": 198,
    "start_time": "2022-01-29T13:06:04.023Z"
   },
   {
    "duration": 718,
    "start_time": "2022-01-29T13:08:40.495Z"
   },
   {
    "duration": 795,
    "start_time": "2022-01-29T13:09:03.047Z"
   },
   {
    "duration": 693,
    "start_time": "2022-01-29T13:10:24.011Z"
   },
   {
    "duration": 655,
    "start_time": "2022-01-29T13:12:34.638Z"
   },
   {
    "duration": 705,
    "start_time": "2022-01-29T13:13:20.275Z"
   },
   {
    "duration": 191,
    "start_time": "2022-01-29T13:15:45.436Z"
   },
   {
    "duration": 204,
    "start_time": "2022-01-29T13:17:23.199Z"
   },
   {
    "duration": 192,
    "start_time": "2022-01-29T13:18:03.346Z"
   },
   {
    "duration": 188,
    "start_time": "2022-01-29T13:18:33.972Z"
   },
   {
    "duration": 524,
    "start_time": "2022-01-29T13:19:08.253Z"
   },
   {
    "duration": 828,
    "start_time": "2022-01-29T13:19:20.098Z"
   },
   {
    "duration": 697,
    "start_time": "2022-01-29T13:19:33.322Z"
   },
   {
    "duration": 391,
    "start_time": "2022-01-29T13:20:59.870Z"
   },
   {
    "duration": 940,
    "start_time": "2022-01-29T13:22:48.673Z"
   },
   {
    "duration": 564,
    "start_time": "2022-01-29T13:23:44.822Z"
   },
   {
    "duration": 972,
    "start_time": "2022-01-29T13:23:52.342Z"
   },
   {
    "duration": 937,
    "start_time": "2022-01-29T13:24:17.317Z"
   },
   {
    "duration": 239,
    "start_time": "2022-01-29T13:25:43.721Z"
   },
   {
    "duration": 190,
    "start_time": "2022-01-29T13:26:53.751Z"
   },
   {
    "duration": 204,
    "start_time": "2022-01-29T13:29:33.341Z"
   },
   {
    "duration": 198,
    "start_time": "2022-01-29T13:30:27.195Z"
   },
   {
    "duration": 202,
    "start_time": "2022-01-29T13:30:33.859Z"
   },
   {
    "duration": 194,
    "start_time": "2022-01-29T13:30:47.778Z"
   },
   {
    "duration": 340,
    "start_time": "2022-01-29T13:30:53.105Z"
   },
   {
    "duration": 206,
    "start_time": "2022-01-29T13:30:58.410Z"
   },
   {
    "duration": 228,
    "start_time": "2022-01-29T13:31:03.505Z"
   },
   {
    "duration": 210,
    "start_time": "2022-01-29T13:31:25.897Z"
   },
   {
    "duration": 208,
    "start_time": "2022-01-29T13:31:34.751Z"
   },
   {
    "duration": 194,
    "start_time": "2022-01-29T13:31:41.720Z"
   },
   {
    "duration": 212,
    "start_time": "2022-01-29T13:34:38.013Z"
   },
   {
    "duration": 206,
    "start_time": "2022-01-29T13:35:23.397Z"
   },
   {
    "duration": 209,
    "start_time": "2022-01-29T13:35:29.918Z"
   },
   {
    "duration": 210,
    "start_time": "2022-01-29T13:35:46.477Z"
   },
   {
    "duration": 196,
    "start_time": "2022-01-29T13:35:55.707Z"
   },
   {
    "duration": 496,
    "start_time": "2022-01-29T13:38:38.316Z"
   },
   {
    "duration": 1062,
    "start_time": "2022-01-29T13:38:50.243Z"
   },
   {
    "duration": 202,
    "start_time": "2022-01-29T13:40:43.957Z"
   },
   {
    "duration": 78,
    "start_time": "2022-01-29T14:42:39.259Z"
   },
   {
    "duration": 15,
    "start_time": "2022-01-29T14:42:43.367Z"
   },
   {
    "duration": 26,
    "start_time": "2022-01-29T14:42:46.376Z"
   },
   {
    "duration": 7,
    "start_time": "2022-01-29T14:42:49.663Z"
   },
   {
    "duration": 6,
    "start_time": "2022-01-29T14:42:52.136Z"
   },
   {
    "duration": 264,
    "start_time": "2022-01-29T14:42:55.239Z"
   },
   {
    "duration": 360,
    "start_time": "2022-01-29T14:43:00.087Z"
   },
   {
    "duration": 8143,
    "start_time": "2022-01-29T14:43:03.206Z"
   },
   {
    "duration": 71,
    "start_time": "2022-01-29T14:43:11.351Z"
   },
   {
    "duration": 35,
    "start_time": "2022-01-29T14:43:17.608Z"
   },
   {
    "duration": 7,
    "start_time": "2022-01-29T14:43:21.190Z"
   },
   {
    "duration": 465,
    "start_time": "2022-01-29T14:43:23.296Z"
   },
   {
    "duration": 17,
    "start_time": "2022-01-29T14:43:27.406Z"
   },
   {
    "duration": 24,
    "start_time": "2022-01-29T14:43:31.055Z"
   },
   {
    "duration": 30,
    "start_time": "2022-01-29T14:43:34.317Z"
   },
   {
    "duration": 28,
    "start_time": "2022-01-29T14:43:37.950Z"
   },
   {
    "duration": 24,
    "start_time": "2022-01-29T14:43:40.781Z"
   },
   {
    "duration": 253,
    "start_time": "2022-01-29T14:43:45.444Z"
   },
   {
    "duration": 249,
    "start_time": "2022-01-29T14:43:48.684Z"
   },
   {
    "duration": 200,
    "start_time": "2022-01-29T14:43:51.700Z"
   },
   {
    "duration": 189,
    "start_time": "2022-01-29T14:43:54.372Z"
   },
   {
    "duration": 350,
    "start_time": "2022-01-29T14:43:57.668Z"
   },
   {
    "duration": 639,
    "start_time": "2022-01-29T14:44:00.980Z"
   },
   {
    "duration": 12,
    "start_time": "2022-01-29T14:44:10.604Z"
   },
   {
    "duration": 21,
    "start_time": "2022-01-29T14:44:13.459Z"
   },
   {
    "duration": 26,
    "start_time": "2022-01-29T14:44:16.051Z"
   },
   {
    "duration": 25,
    "start_time": "2022-01-29T14:44:25.844Z"
   },
   {
    "duration": 200,
    "start_time": "2022-01-29T14:45:19.121Z"
   },
   {
    "duration": 205,
    "start_time": "2022-01-29T14:46:57.807Z"
   },
   {
    "duration": 196,
    "start_time": "2022-01-29T14:53:17.242Z"
   },
   {
    "duration": 337,
    "start_time": "2022-01-29T14:53:43.313Z"
   },
   {
    "duration": 183,
    "start_time": "2022-01-29T14:55:44.602Z"
   },
   {
    "duration": 1100,
    "start_time": "2022-01-29T14:56:00.266Z"
   },
   {
    "duration": 184,
    "start_time": "2022-01-29T14:56:13.373Z"
   },
   {
    "duration": 5,
    "start_time": "2022-01-29T14:56:27.177Z"
   },
   {
    "duration": 396,
    "start_time": "2022-01-29T14:58:29.835Z"
   },
   {
    "duration": 29,
    "start_time": "2022-01-29T14:59:32.968Z"
   },
   {
    "duration": 22,
    "start_time": "2022-01-29T15:00:01.239Z"
   },
   {
    "duration": 400,
    "start_time": "2022-01-29T15:00:22.351Z"
   },
   {
    "duration": 22,
    "start_time": "2022-01-29T15:00:47.654Z"
   },
   {
    "duration": 178,
    "start_time": "2022-01-29T15:01:13.356Z"
   },
   {
    "duration": 346,
    "start_time": "2022-01-29T15:01:49.105Z"
   },
   {
    "duration": 120,
    "start_time": "2022-01-29T15:02:05.586Z"
   },
   {
    "duration": 202,
    "start_time": "2022-01-29T15:04:16.524Z"
   },
   {
    "duration": 204,
    "start_time": "2022-01-29T15:04:28.594Z"
   },
   {
    "duration": 420,
    "start_time": "2022-01-29T15:05:36.302Z"
   },
   {
    "duration": 184,
    "start_time": "2022-01-29T15:06:23.974Z"
   },
   {
    "duration": 407,
    "start_time": "2022-01-29T15:07:38.417Z"
   },
   {
    "duration": 212,
    "start_time": "2022-01-29T15:12:04.539Z"
   },
   {
    "duration": 229,
    "start_time": "2022-01-29T15:12:14.819Z"
   },
   {
    "duration": 190,
    "start_time": "2022-01-29T15:12:42.706Z"
   },
   {
    "duration": 200,
    "start_time": "2022-01-29T15:15:45.417Z"
   },
   {
    "duration": 198,
    "start_time": "2022-01-29T15:16:33.936Z"
   },
   {
    "duration": 187,
    "start_time": "2022-01-29T15:18:07.555Z"
   },
   {
    "duration": 247,
    "start_time": "2022-01-30T04:03:11.598Z"
   },
   {
    "duration": 651,
    "start_time": "2022-01-30T04:03:17.268Z"
   },
   {
    "duration": 27,
    "start_time": "2022-01-30T04:03:24.444Z"
   },
   {
    "duration": 26,
    "start_time": "2022-01-30T04:07:06.071Z"
   },
   {
    "duration": 205,
    "start_time": "2022-01-30T04:10:19.204Z"
   },
   {
    "duration": 2,
    "start_time": "2022-01-30T04:15:44.181Z"
   },
   {
    "duration": 25,
    "start_time": "2022-01-30T04:15:47.037Z"
   },
   {
    "duration": 36,
    "start_time": "2022-01-30T04:18:56.645Z"
   },
   {
    "duration": 240,
    "start_time": "2022-01-30T04:19:06.331Z"
   },
   {
    "duration": 497,
    "start_time": "2022-01-30T04:19:15.498Z"
   },
   {
    "duration": 198,
    "start_time": "2022-01-30T04:19:19.647Z"
   },
   {
    "duration": 6,
    "start_time": "2022-01-30T04:19:32.323Z"
   },
   {
    "duration": 19,
    "start_time": "2022-01-30T04:19:37.970Z"
   },
   {
    "duration": 22,
    "start_time": "2022-01-30T04:19:43.042Z"
   },
   {
    "duration": 423,
    "start_time": "2022-01-30T04:25:01.748Z"
   },
   {
    "duration": 424,
    "start_time": "2022-01-30T04:31:07.282Z"
   },
   {
    "duration": 416,
    "start_time": "2022-01-30T04:33:59.234Z"
   },
   {
    "duration": 432,
    "start_time": "2022-01-30T04:34:27.688Z"
   },
   {
    "duration": 14,
    "start_time": "2022-01-30T04:34:47.974Z"
   },
   {
    "duration": 26,
    "start_time": "2022-01-30T04:46:03.252Z"
   },
   {
    "duration": 318,
    "start_time": "2022-01-30T04:47:55.978Z"
   },
   {
    "duration": 329,
    "start_time": "2022-01-30T04:48:16.484Z"
   },
   {
    "duration": 604,
    "start_time": "2022-01-30T04:48:52.414Z"
   },
   {
    "duration": 727,
    "start_time": "2022-01-30T04:51:30.032Z"
   },
   {
    "duration": 601,
    "start_time": "2022-01-30T04:52:27.916Z"
   },
   {
    "duration": 303,
    "start_time": "2022-01-30T07:24:16.717Z"
   },
   {
    "duration": 795,
    "start_time": "2022-01-30T07:24:57.027Z"
   },
   {
    "duration": 13,
    "start_time": "2022-01-30T07:25:01.759Z"
   },
   {
    "duration": 29,
    "start_time": "2022-01-30T07:25:04.423Z"
   },
   {
    "duration": 7,
    "start_time": "2022-01-30T07:25:06.614Z"
   },
   {
    "duration": 236,
    "start_time": "2022-01-30T07:25:08.871Z"
   },
   {
    "duration": 3,
    "start_time": "2022-01-30T07:25:11.087Z"
   },
   {
    "duration": 10,
    "start_time": "2022-01-30T07:25:22.910Z"
   },
   {
    "duration": 40,
    "start_time": "2022-01-30T07:25:25.463Z"
   },
   {
    "duration": 532,
    "start_time": "2022-01-30T07:25:28.814Z"
   },
   {
    "duration": 8,
    "start_time": "2022-01-30T07:25:31.733Z"
   },
   {
    "duration": 30,
    "start_time": "2022-01-30T07:25:34.053Z"
   },
   {
    "duration": 25,
    "start_time": "2022-01-30T07:25:36.718Z"
   },
   {
    "duration": 33,
    "start_time": "2022-01-30T07:25:38.605Z"
   },
   {
    "duration": 33,
    "start_time": "2022-01-30T07:25:40.486Z"
   },
   {
    "duration": 26,
    "start_time": "2022-01-30T07:25:43.303Z"
   },
   {
    "duration": 296,
    "start_time": "2022-01-30T07:25:45.660Z"
   },
   {
    "duration": 342,
    "start_time": "2022-01-30T07:25:48.228Z"
   },
   {
    "duration": 385,
    "start_time": "2022-01-30T07:25:51.644Z"
   },
   {
    "duration": 731,
    "start_time": "2022-01-30T07:25:55.408Z"
   },
   {
    "duration": 27,
    "start_time": "2022-01-30T07:30:54.719Z"
   },
   {
    "duration": 568,
    "start_time": "2022-01-30T07:35:21.881Z"
   },
   {
    "duration": 528,
    "start_time": "2022-01-30T07:36:22.499Z"
   },
   {
    "duration": 587,
    "start_time": "2022-01-30T07:36:54.613Z"
   },
   {
    "duration": 475,
    "start_time": "2022-01-30T07:37:08.860Z"
   },
   {
    "duration": 449,
    "start_time": "2022-01-30T07:37:26.363Z"
   },
   {
    "duration": 605,
    "start_time": "2022-01-30T07:38:03.664Z"
   },
   {
    "duration": 517,
    "start_time": "2022-01-30T07:38:51.575Z"
   },
   {
    "duration": 542,
    "start_time": "2022-01-30T07:39:28.797Z"
   },
   {
    "duration": 433,
    "start_time": "2022-01-30T07:39:47.614Z"
   },
   {
    "duration": 215,
    "start_time": "2022-01-30T07:40:26.764Z"
   },
   {
    "duration": 1047,
    "start_time": "2022-01-30T07:46:52.784Z"
   },
   {
    "duration": 415,
    "start_time": "2022-01-30T07:50:18.767Z"
   },
   {
    "duration": 16,
    "start_time": "2022-01-30T07:59:12.358Z"
   },
   {
    "duration": 17,
    "start_time": "2022-01-30T07:59:24.095Z"
   },
   {
    "duration": 15,
    "start_time": "2022-01-30T08:00:46.744Z"
   },
   {
    "duration": 1094,
    "start_time": "2022-01-30T08:06:36.905Z"
   },
   {
    "duration": 1110,
    "start_time": "2022-01-30T08:07:22.629Z"
   },
   {
    "duration": 1018,
    "start_time": "2022-01-30T08:08:51.114Z"
   },
   {
    "duration": 1034,
    "start_time": "2022-01-30T08:10:52.604Z"
   },
   {
    "duration": 329,
    "start_time": "2022-01-30T08:11:21.778Z"
   },
   {
    "duration": 1229,
    "start_time": "2022-01-30T08:11:32.241Z"
   },
   {
    "duration": 406,
    "start_time": "2022-01-30T08:11:55.761Z"
   },
   {
    "duration": 292,
    "start_time": "2022-01-30T08:12:49.958Z"
   },
   {
    "duration": 1101,
    "start_time": "2022-01-30T08:13:13.221Z"
   },
   {
    "duration": 306,
    "start_time": "2022-01-30T08:14:53.294Z"
   },
   {
    "duration": 321,
    "start_time": "2022-01-30T08:15:02.612Z"
   },
   {
    "duration": 24,
    "start_time": "2022-01-30T08:15:18.706Z"
   },
   {
    "duration": 92,
    "start_time": "2022-01-30T08:18:36.612Z"
   },
   {
    "duration": 24,
    "start_time": "2022-01-30T08:18:47.612Z"
   },
   {
    "duration": 24,
    "start_time": "2022-01-30T08:19:15.330Z"
   },
   {
    "duration": 405,
    "start_time": "2022-01-30T08:20:43.471Z"
   },
   {
    "duration": 282,
    "start_time": "2022-01-30T09:27:43.890Z"
   },
   {
    "duration": 6,
    "start_time": "2022-01-30T09:28:08.570Z"
   },
   {
    "duration": 6,
    "start_time": "2022-01-30T09:28:38.431Z"
   },
   {
    "duration": 247,
    "start_time": "2022-01-30T09:32:30.217Z"
   },
   {
    "duration": 228,
    "start_time": "2022-01-30T09:32:41.955Z"
   },
   {
    "duration": 681,
    "start_time": "2022-01-30T09:33:05.859Z"
   },
   {
    "duration": 657,
    "start_time": "2022-01-30T09:38:54.864Z"
   },
   {
    "duration": 26,
    "start_time": "2022-01-30T09:40:09.497Z"
   },
   {
    "duration": 618,
    "start_time": "2022-01-30T09:52:53.953Z"
   },
   {
    "duration": 521,
    "start_time": "2022-01-30T09:55:42.765Z"
   },
   {
    "duration": 676,
    "start_time": "2022-01-30T09:59:27.717Z"
   },
   {
    "duration": 773,
    "start_time": "2022-01-30T10:30:15.888Z"
   },
   {
    "duration": 1136,
    "start_time": "2022-01-30T11:42:04.981Z"
   },
   {
    "duration": 1340,
    "start_time": "2022-01-30T11:42:45.172Z"
   },
   {
    "duration": 1186,
    "start_time": "2022-01-30T11:42:54.404Z"
   },
   {
    "duration": 1110,
    "start_time": "2022-01-30T11:43:19.609Z"
   },
   {
    "duration": 1364,
    "start_time": "2022-01-30T11:43:59.376Z"
   },
   {
    "duration": 1156,
    "start_time": "2022-01-30T11:44:09.447Z"
   },
   {
    "duration": 1122,
    "start_time": "2022-01-30T11:44:40.678Z"
   },
   {
    "duration": 1330,
    "start_time": "2022-01-30T11:44:49.468Z"
   },
   {
    "duration": 1164,
    "start_time": "2022-01-30T11:45:04.090Z"
   },
   {
    "duration": 1340,
    "start_time": "2022-01-30T11:45:23.211Z"
   },
   {
    "duration": 1196,
    "start_time": "2022-01-30T11:46:43.200Z"
   },
   {
    "duration": 1170,
    "start_time": "2022-01-30T11:46:52.167Z"
   },
   {
    "duration": 1372,
    "start_time": "2022-01-30T11:47:37.253Z"
   },
   {
    "duration": 1210,
    "start_time": "2022-01-30T11:47:44.988Z"
   },
   {
    "duration": 1137,
    "start_time": "2022-01-30T11:47:53.251Z"
   },
   {
    "duration": 1415,
    "start_time": "2022-01-30T11:48:01.148Z"
   },
   {
    "duration": 1129,
    "start_time": "2022-01-30T11:48:07.923Z"
   },
   {
    "duration": 1322,
    "start_time": "2022-01-30T11:48:14.056Z"
   },
   {
    "duration": 1113,
    "start_time": "2022-01-30T11:48:21.674Z"
   },
   {
    "duration": 1134,
    "start_time": "2022-01-30T11:48:27.682Z"
   },
   {
    "duration": 1390,
    "start_time": "2022-01-30T11:53:31.356Z"
   },
   {
    "duration": 1154,
    "start_time": "2022-01-30T11:54:11.083Z"
   },
   {
    "duration": 1427,
    "start_time": "2022-01-30T11:54:19.511Z"
   },
   {
    "duration": 1001,
    "start_time": "2022-01-30T11:55:25.766Z"
   },
   {
    "duration": 89,
    "start_time": "2022-01-30T11:55:39.405Z"
   },
   {
    "duration": 1129,
    "start_time": "2022-01-30T11:56:09.995Z"
   },
   {
    "duration": 1312,
    "start_time": "2022-01-30T11:56:35.508Z"
   },
   {
    "duration": 1140,
    "start_time": "2022-01-30T11:57:31.231Z"
   },
   {
    "duration": 1158,
    "start_time": "2022-01-30T11:58:25.205Z"
   },
   {
    "duration": 1394,
    "start_time": "2022-01-30T11:59:12.491Z"
   },
   {
    "duration": 1228,
    "start_time": "2022-01-30T12:00:06.025Z"
   },
   {
    "duration": 1376,
    "start_time": "2022-01-30T12:00:22.943Z"
   },
   {
    "duration": 1175,
    "start_time": "2022-01-30T12:01:02.869Z"
   },
   {
    "duration": 1159,
    "start_time": "2022-01-30T12:01:16.204Z"
   },
   {
    "duration": 1424,
    "start_time": "2022-01-30T12:01:27.955Z"
   },
   {
    "duration": 1475,
    "start_time": "2022-01-30T12:01:45.252Z"
   },
   {
    "duration": 1157,
    "start_time": "2022-01-30T12:02:06.626Z"
   },
   {
    "duration": 1439,
    "start_time": "2022-01-30T12:02:49.578Z"
   },
   {
    "duration": 1439,
    "start_time": "2022-01-30T12:02:59.519Z"
   },
   {
    "duration": 1347,
    "start_time": "2022-01-30T12:03:47.389Z"
   },
   {
    "duration": 1137,
    "start_time": "2022-01-30T12:05:46.480Z"
   },
   {
    "duration": 1363,
    "start_time": "2022-01-30T12:06:10.808Z"
   },
   {
    "duration": 1805,
    "start_time": "2022-01-30T12:06:31.471Z"
   },
   {
    "duration": 1358,
    "start_time": "2022-01-30T12:07:41.170Z"
   },
   {
    "duration": 1122,
    "start_time": "2022-01-30T12:07:49.570Z"
   },
   {
    "duration": 1350,
    "start_time": "2022-01-30T12:08:32.720Z"
   },
   {
    "duration": 751,
    "start_time": "2022-01-30T12:10:58.985Z"
   },
   {
    "duration": 782,
    "start_time": "2022-01-30T12:19:15.425Z"
   },
   {
    "duration": 985,
    "start_time": "2022-01-30T12:19:27.463Z"
   },
   {
    "duration": 822,
    "start_time": "2022-01-30T12:19:51.031Z"
   },
   {
    "duration": 811,
    "start_time": "2022-01-30T12:20:10.478Z"
   },
   {
    "duration": 83,
    "start_time": "2022-01-30T12:37:16.326Z"
   },
   {
    "duration": 636,
    "start_time": "2022-01-30T12:37:20.045Z"
   },
   {
    "duration": 771,
    "start_time": "2022-01-30T12:37:56.272Z"
   },
   {
    "duration": 1033,
    "start_time": "2022-01-30T12:38:03.067Z"
   }
  ],
  "kernelspec": {
   "display_name": "Python 3 (ipykernel)",
   "language": "python",
   "name": "python3"
  },
  "language_info": {
   "codemirror_mode": {
    "name": "ipython",
    "version": 3
   },
   "file_extension": ".py",
   "mimetype": "text/x-python",
   "name": "python",
   "nbconvert_exporter": "python",
   "pygments_lexer": "ipython3",
   "version": "3.9.7"
  },
  "toc": {
   "base_numbering": 1,
   "nav_menu": {},
   "number_sections": true,
   "sideBar": true,
   "skip_h1_title": true,
   "title_cell": "Содержание",
   "title_sidebar": "Contents",
   "toc_cell": true,
   "toc_position": {},
   "toc_section_display": true,
   "toc_window_display": true
  }
 },
 "nbformat": 4,
 "nbformat_minor": 2
}
