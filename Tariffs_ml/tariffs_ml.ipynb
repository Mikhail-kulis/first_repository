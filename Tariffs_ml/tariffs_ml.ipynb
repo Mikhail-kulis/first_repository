{
 "cells": [
  {
   "cell_type": "markdown",
   "metadata": {},
   "source": [
    "# Описание проекта"
   ]
  },
  {
   "cell_type": "markdown",
   "metadata": {},
   "source": [
    "Необходимо было по данным о пользователях мобильной связи построить рекомендации одного из двух тарифов мобильной связи.\n",
    "\n",
    "Рассмотрено несколько моделей с различными гиперпараметрами. Метрикой качества является *accuracy*"
   ]
  },
  {
   "cell_type": "markdown",
   "metadata": {},
   "source": [
    "## Импорт библиотек"
   ]
  },
  {
   "cell_type": "code",
   "execution_count": 1,
   "metadata": {},
   "outputs": [],
   "source": [
    "import pandas as pd                                              # импорт библиотеки pandas\n",
    "import warnings                                                  # импорт службы warnings\n",
    "warnings.simplefilter(\"ignore\")                                  # игнорируем предупреждения\n",
    "from sklearn.model_selection import train_test_split             # импорт функции разбиения выборки\n",
    "from sklearn.tree import DecisionTreeClassifier                  # импорт модели решающего дерева\n",
    "from sklearn.ensemble import RandomForestClassifier              # импорт модели случайного леса\n",
    "from sklearn.linear_model import LogisticRegression              # импорт модели логистической регрессии\n",
    "from sklearn.metrics import accuracy_score                       # импорт функции подсчёта среднеквадратичной ошибки"
   ]
  },
  {
   "cell_type": "markdown",
   "metadata": {},
   "source": [
    "## Откройте и изучите файл"
   ]
  },
  {
   "cell_type": "code",
   "execution_count": 2,
   "metadata": {},
   "outputs": [
    {
     "name": "stdout",
     "output_type": "stream",
     "text": [
      "<class 'pandas.core.frame.DataFrame'>\n",
      "RangeIndex: 3214 entries, 0 to 3213\n",
      "Data columns (total 5 columns):\n",
      "calls       3214 non-null float64\n",
      "minutes     3214 non-null float64\n",
      "messages    3214 non-null float64\n",
      "mb_used     3214 non-null float64\n",
      "is_ultra    3214 non-null int64\n",
      "dtypes: float64(4), int64(1)\n",
      "memory usage: 125.7 KB\n"
     ]
    },
    {
     "data": {
      "text/html": [
       "<div>\n",
       "<style scoped>\n",
       "    .dataframe tbody tr th:only-of-type {\n",
       "        vertical-align: middle;\n",
       "    }\n",
       "\n",
       "    .dataframe tbody tr th {\n",
       "        vertical-align: top;\n",
       "    }\n",
       "\n",
       "    .dataframe thead th {\n",
       "        text-align: right;\n",
       "    }\n",
       "</style>\n",
       "<table border=\"1\" class=\"dataframe\">\n",
       "  <thead>\n",
       "    <tr style=\"text-align: right;\">\n",
       "      <th></th>\n",
       "      <th>calls</th>\n",
       "      <th>minutes</th>\n",
       "      <th>messages</th>\n",
       "      <th>mb_used</th>\n",
       "      <th>is_ultra</th>\n",
       "    </tr>\n",
       "  </thead>\n",
       "  <tbody>\n",
       "    <tr>\n",
       "      <td>0</td>\n",
       "      <td>40.0</td>\n",
       "      <td>311.90</td>\n",
       "      <td>83.0</td>\n",
       "      <td>19915.42</td>\n",
       "      <td>0</td>\n",
       "    </tr>\n",
       "    <tr>\n",
       "      <td>1</td>\n",
       "      <td>85.0</td>\n",
       "      <td>516.75</td>\n",
       "      <td>56.0</td>\n",
       "      <td>22696.96</td>\n",
       "      <td>0</td>\n",
       "    </tr>\n",
       "    <tr>\n",
       "      <td>2</td>\n",
       "      <td>77.0</td>\n",
       "      <td>467.66</td>\n",
       "      <td>86.0</td>\n",
       "      <td>21060.45</td>\n",
       "      <td>0</td>\n",
       "    </tr>\n",
       "    <tr>\n",
       "      <td>3</td>\n",
       "      <td>106.0</td>\n",
       "      <td>745.53</td>\n",
       "      <td>81.0</td>\n",
       "      <td>8437.39</td>\n",
       "      <td>1</td>\n",
       "    </tr>\n",
       "    <tr>\n",
       "      <td>4</td>\n",
       "      <td>66.0</td>\n",
       "      <td>418.74</td>\n",
       "      <td>1.0</td>\n",
       "      <td>14502.75</td>\n",
       "      <td>0</td>\n",
       "    </tr>\n",
       "  </tbody>\n",
       "</table>\n",
       "</div>"
      ],
      "text/plain": [
       "   calls  minutes  messages   mb_used  is_ultra\n",
       "0   40.0   311.90      83.0  19915.42         0\n",
       "1   85.0   516.75      56.0  22696.96         0\n",
       "2   77.0   467.66      86.0  21060.45         0\n",
       "3  106.0   745.53      81.0   8437.39         1\n",
       "4   66.0   418.74       1.0  14502.75         0"
      ]
     },
     "execution_count": 2,
     "metadata": {},
     "output_type": "execute_result"
    }
   ],
   "source": [
    "df = pd.read_csv('...')       # открываем файл\n",
    "df.info()                                              # выводим информацию о датафрейме\n",
    "df.head()                                              # смотрим, как выглядят первые 5 строчек датафрейма"
   ]
  },
  {
   "cell_type": "markdown",
   "metadata": {},
   "source": [
    "**Вывод**\n",
    "\n",
    "В датафрейме отсутствуют пропуски и все данные имеют нужный формат."
   ]
  },
  {
   "cell_type": "markdown",
   "metadata": {},
   "source": [
    "## Разбейте данные на выборки"
   ]
  },
  {
   "cell_type": "code",
   "execution_count": 3,
   "metadata": {},
   "outputs": [
    {
     "name": "stdout",
     "output_type": "stream",
     "text": [
      "Размер обучающей выборки:  1928\n",
      "Размер тестовой выборки:  643\n",
      "Размер валидационной выборки:  643\n"
     ]
    }
   ],
   "source": [
    "df_train_valid, df_test = train_test_split(df, test_size=0.2, random_state=12345)        # разбиваем выборку на тестовую\n",
    "# и оставшуюся\n",
    "df_train, df_valid = train_test_split(df_train_valid, test_size=0.25, random_state=1234) # оставшуюся выборку разбиваем на \n",
    "# обучающую и валидационную\n",
    "print('Размер обучающей выборки: ', df_train.shape[0])         # выводим размер обучающей выборки\n",
    "print('Размер тестовой выборки: ', df_test.shape[0])           # выводим размер тестовой выборки\n",
    "print('Размер валидационной выборки: ',df_valid.shape[0])      # выводим размер валидационной выборки"
   ]
  },
  {
   "cell_type": "markdown",
   "metadata": {},
   "source": [
    "**Вывод**\n",
    "\n",
    "Поскольку тестовая выборка берётся из представленного датафрейма, то соотношение выборок обучающей, валидационной и тестовой выглядит так: 60% : 20% : 20% "
   ]
  },
  {
   "cell_type": "markdown",
   "metadata": {},
   "source": [
    "## Исследуйте модели"
   ]
  },
  {
   "cell_type": "markdown",
   "metadata": {},
   "source": [
    "### Модель решающего дерева"
   ]
  },
  {
   "cell_type": "code",
   "execution_count": 4,
   "metadata": {},
   "outputs": [
    {
     "name": "stdout",
     "output_type": "stream",
     "text": [
      "Accuracy лучшей модели на валидационной выборке: 0.8055987558320373\n",
      "Глубина дерева лучшей модели на валидационной выборке: 3\n"
     ]
    }
   ],
   "source": [
    "features_train = df_train.drop('is_ultra', axis=1) # выделяем признаки в обучающей выборке\n",
    "target_train = df_train['is_ultra']                # выделяем целевой признак в обучающей выборке\n",
    "\n",
    "features_valid = df_valid.drop('is_ultra', axis=1) # выделяем признаки в валидационной выборке\n",
    "target_valid = df_valid['is_ultra']                # выделяем целевой признак в валидационной выборке\n",
    "\n",
    "best_model_tree = None                             #\n",
    "best_result_tree = 0                               # создаём переменные для лучшей модели, лучшего значения accuracy\n",
    "best_depth_tree = 0                                # лучшего значения глудины дерева\n",
    "\n",
    "for depth_tree in range(1, 11):                    # создаём цикл по глубине дерева\n",
    "    model_tree = DecisionTreeClassifier(random_state=123, max_depth=depth_tree) # создаём модель с изменяющейся глубиной дерева\n",
    "    model_tree.fit(features_train, target_train) # обучаем модель на обучающей выборке\n",
    "    predictions = model_tree.predict(features_valid) # получаем предсказания модели\n",
    "    result_tree = accuracy_score(target_valid, predictions) # считаем качество модели\n",
    "    if result_tree > best_result_tree:   # c помощью условия if         \n",
    "        best_model_tree = model_tree     # определяем лучшую модель,\n",
    "        best_result_tree = result_tree   # лучшее значение accuracy, \n",
    "        best_depth_tree = depth_tree     # лучшую глубину дерева\n",
    "print(\"Accuracy лучшей модели на валидационной выборке:\", best_result_tree)\n",
    "print(\"Глубина дерева лучшей модели на валидационной выборке:\", best_depth_tree)"
   ]
  },
  {
   "cell_type": "markdown",
   "metadata": {},
   "source": [
    "**Вывод**\n",
    "\n",
    "Значение accuracy превышает контрольное значение 0,75. Посмотрим результат на тестовой выборке."
   ]
  },
  {
   "cell_type": "markdown",
   "metadata": {},
   "source": [
    "### Модель случайного леса"
   ]
  },
  {
   "cell_type": "code",
   "execution_count": 5,
   "metadata": {},
   "outputs": [
    {
     "name": "stdout",
     "output_type": "stream",
     "text": [
      "Accuracy наилучшей модели на валидационной выборке: 0.8164852255054432\n",
      "Оптимальное количество деревьев модели на валидационной выборке: 6\n",
      "Оптимальная глубина деревьев модели на валидационной выборке: 5\n",
      "Оптимальное минимальное кол-во выборок для разделения узла на валидационной выборке: 3\n"
     ]
    }
   ],
   "source": [
    "best_model_forest = None  # создаём переменные для лучшей модели, \n",
    "best_result_forest = 0    # лучшего значения accuracy\n",
    "best_est = 0              # лучшего количества деревьев\n",
    "best_depth_forest = 0     # лучшей глубины деревьев\n",
    "best_samples_split = 0    # лучшего значения минимального кол-ва выборок для разделения узла\n",
    "for samples_split in range(2, 7):         # цикл по минимальному кол-ву выборок для разделения узла\n",
    "    for est in range(1, 11):              # цикл по количеству деревьев\n",
    "        for depth_forest in range(1, 6):  # цикл по глубине деревьев\n",
    "            model_forest = RandomForestClassifier(\n",
    "                random_state=1234, n_estimators=est, max_depth = depth_forest, min_samples_split=samples_split) # создаём \n",
    "# модель с изменяемым количеством деревьев, глубиной деревьев, минимальное кол-во выборок для разделения узла \n",
    "            model_forest.fit(features_train, target_train) # обучаем модель на обучающей выборке\n",
    "            result_forest = model_forest.score(features_valid, target_valid) # считаем качество модели на валидационной выборке\n",
    "            if result_forest > best_result_forest: # c помощью условия if\n",
    "                best_model_forest = model_forest   # сохраняем наилучшую модель\n",
    "                best_result_forest = result_forest # сохраняем наилучшее значение метрики accuracy на валидационных данных\n",
    "                best_est = est                     # сохраняем наилучшее количество деревьев\n",
    "                best_depth_forest = depth_forest   # сохраняем наилучшую глубину деревьев\n",
    "                best_samples_split = samples_split # сохраняем наилучшее минимальное кол-во выборок для разделения узла \n",
    "print(\"Accuracy наилучшей модели на валидационной выборке:\", best_result_forest)\n",
    "print(\"Оптимальное количество деревьев модели на валидационной выборке:\", best_est)\n",
    "print(\"Оптимальная глубина деревьев модели на валидационной выборке:\", best_depth_forest)\n",
    "print(\"Оптимальное минимальное кол-во выборок для разделения узла на валидационной выборке:\", best_samples_split)"
   ]
  },
  {
   "cell_type": "markdown",
   "metadata": {},
   "source": [
    "**Вывод**\n",
    "\n",
    "В ходе построения модели случайного леса с варьированием гиперпараметров было обнаружено, что изменение одного гиперпараметра приводит к изменению оптимальных значений других гиперпараметров. Так, например, если не менять гиперпараметр min_samples_split, то оптимальное кол-во деревьев будет 4, а глубина 3. Если же провести варьирование гиперпараметра min_samples_split, то, как видно, оптимальные параметры стали другими.\n",
    "\n",
    "Полученное значение accuracy на валидационной выборке для модели случайного леса превышает контрольный уровень, оно получилось больше на 1%, чем для модели решающего дерева."
   ]
  },
  {
   "cell_type": "markdown",
   "metadata": {},
   "source": [
    "### Модель логистической регрессии"
   ]
  },
  {
   "cell_type": "code",
   "execution_count": 6,
   "metadata": {},
   "outputs": [
    {
     "name": "stdout",
     "output_type": "stream",
     "text": [
      "Accuracy модели логистической регрессии на валидационной выборке: 0.7511664074650077\n"
     ]
    }
   ],
   "source": [
    "model_regression = LogisticRegression(random_state=12345) # инициализируем модель логистической регрессии \n",
    "# с параметром random_state=12345\n",
    "model_regression.fit(features_train, target_train) # обучаем модель на тренировочной выборке\n",
    "result_regression = model_regression.score(features_valid, target_valid) # считаем качество модели на валидационной выборке\n",
    "print(\"Accuracy модели логистической регрессии на валидационной выборке:\", result_regression)"
   ]
  },
  {
   "cell_type": "markdown",
   "metadata": {},
   "source": [
    "**Вывод**\n",
    "\n",
    "Значение accuracy превышает контрольную величину, но всего на 0,1%."
   ]
  },
  {
   "cell_type": "markdown",
   "metadata": {},
   "source": [
    "## Проверьте модель на тестовой выборке"
   ]
  },
  {
   "cell_type": "code",
   "execution_count": 7,
   "metadata": {},
   "outputs": [
    {
     "name": "stdout",
     "output_type": "stream",
     "text": [
      "Accuracy лучшей модели решающего дерева на тестовой выборке: 0.7853810264385692\n",
      "Accuracy лучшей модели случайного леса на тестовой выборке: 0.7931570762052877\n",
      "Accuracy модели логистической регрессии на тестовой выборке: 0.7573872472783826\n"
     ]
    }
   ],
   "source": [
    "features_test = df_test.drop('is_ultra', axis=1) # выделяем признаки тестовой выборки\n",
    "target_test = df_test['is_ultra']                # выделяем целевой признак тестовой выборки\n",
    "\n",
    "prediction_test_tree = best_model_tree.predict(features_test)   # строим предсказания по модели решающего дерева\n",
    "result_test_tree = accuracy_score(target_test, prediction_test_tree) # считаем качество модели на тестовой выборке\n",
    "print(\"Accuracy лучшей модели решающего дерева на тестовой выборке:\", result_test_tree)\n",
    "\n",
    "result_test_forest = best_model_forest.score(features_test, target_test) # применяем модель случайного дерева к тестовой выборке  \n",
    "print(\"Accuracy лучшей модели случайного леса на тестовой выборке:\", result_test_forest)\n",
    "\n",
    "result_test_regression = model_regression.score(features_test, target_test) # применяем модель логистической регрессии к \n",
    "# тестовой выборке\n",
    "print(\"Accuracy модели логистической регрессии на тестовой выборке:\", result_test_regression)"
   ]
  },
  {
   "cell_type": "markdown",
   "metadata": {},
   "source": [
    "**Вывод**\n",
    "\n",
    "Значение accuracy на всех трёх моделях превышает 0.75. Самой точной моделью на тестовой выборке оказалась модель случайного леса с 6 деревьями, глубиной деревьев - 5 и минимальным кол-вом выборок для разделения узла - 3."
   ]
  },
  {
   "cell_type": "markdown",
   "metadata": {},
   "source": [
    "## (бонус) Проверьте модели на адекватность"
   ]
  },
  {
   "cell_type": "markdown",
   "metadata": {},
   "source": [
    "Я бы проверил наши модели и посмотрел точность предсказаний на обучающей выборке:"
   ]
  },
  {
   "cell_type": "code",
   "execution_count": 8,
   "metadata": {},
   "outputs": [
    {
     "name": "stdout",
     "output_type": "stream",
     "text": [
      "Accuracy лучшей модели решающего дерева на обучающей выборке: 0.799792531120332\n",
      "Accuracy лучшей модели случайного леса на обучающей выборке: 0.8132780082987552\n",
      "Accuracy модели логистической регрессии на обучающей выборке: 0.7468879668049793\n"
     ]
    }
   ],
   "source": [
    "prediction_train_tree = best_model_tree.predict(features_train) # строим предсказания модели решающего дерева на обучающей\n",
    "# выборке\n",
    "result_train_tree = accuracy_score(target_train, prediction_train_tree) # считаем качество модели\n",
    "print(\"Accuracy лучшей модели решающего дерева на обучающей выборке:\", result_train_tree)\n",
    "\n",
    "result_train_forest = best_model_forest.score(features_train, target_train) # применяем модели случайного леса к обучающей\n",
    "# выборке и смотрим результат\n",
    "print(\"Accuracy лучшей модели случайного леса на обучающей выборке:\", result_train_forest)\n",
    "\n",
    "result_train_regression = model_regression.score(features_train, target_train) # применяем модель логистической регрессии\n",
    "# к обучающей выборке и смотрим результат\n",
    "print(\"Accuracy модели логистической регрессии на обучающей выборке:\", result_train_regression)"
   ]
  },
  {
   "cell_type": "markdown",
   "metadata": {},
   "source": [
    "**Вывод**\n",
    "\n",
    "Модели решающего дерева и случайного леса готовились усердно и показывают более высокую точность на обучающей выборке, чем на тестовой на 1,5-2%. Логистическая регрессия, наоборот, при подготовке к экзамену усвоила материал на 1% хуже, чем ответила на самом экзамене. Вцелом все 3 модели пока выглядят адекватно. "
   ]
  },
  {
   "cell_type": "markdown",
   "metadata": {},
   "source": [
    "Следующим этапом я бы проверил наши модели на устойчивость: добавил бы в данные обучающей выборки строчку с какой-нибудь абракадаброй. Если система устойчива, то такое возмущение не должно сильно сказываться на точности предсказаний."
   ]
  },
  {
   "cell_type": "markdown",
   "metadata": {},
   "source": [
    "**Модель решающего дерева**"
   ]
  },
  {
   "cell_type": "code",
   "execution_count": 9,
   "metadata": {},
   "outputs": [
    {
     "name": "stdout",
     "output_type": "stream",
     "text": [
      "Accuracy модели решающего дерева на валидационной выборке: 0.8055987558320373\n",
      "Глубина дерева на валидационной выборке: 3\n"
     ]
    }
   ],
   "source": [
    "target_train_2 =  target_train.copy() # создаём копию целевого признака обучающей выборки, наличие цифры 2 в переменных \n",
    "# будет означать, что эта переменная связана с новой обучающей выборкой, содержащей особенности\n",
    "target_train_2[6666] = 34566          # добавляем одно значение в новый столбец целевого признака,всего 1 или 0\n",
    "# такое число будет явно не ожиданным, если диапазон чисел \n",
    "features_train_2 = features_train.copy() # создаём копию  признаков обучающей выборки\n",
    "new_row = pd.Series(data={'calls':6677, 'minutes':'12', 'messages':998, 'mb_used':2}, name=6666) # создаём строку новых \n",
    "# признаков\n",
    "features_train_2 = features_train_2.append(new_row, ignore_index=False) # добавляем эту строку к новой выборке\n",
    "\n",
    "best_model_tree_2 = None # создаём переменные для лучшей модели, \n",
    "best_result_tree_2 = 0   # для лучшего значения accuracy\n",
    "best_depth_tree_2 = 0    # для лучшего значения глубины дерева\n",
    "for depth_tree_2 in range(1, 11):  # запускаем цикл по глубине дерева\n",
    "    model_tree_2 = DecisionTreeClassifier(random_state=123, max_depth=depth_tree_2) # создаём модель решающего дерева\n",
    "# с изменяемой глубиной дерева\n",
    "    model_tree_2.fit(features_train_2, target_train_2) # обучаем модель на новой обучающей выборке\n",
    "    predictions_2 = model_tree_2.predict(features_valid) # получаем предсказания модели\n",
    "    result_tree_2 = accuracy_score(target_valid, predictions_2) # считаем качество новой модели\n",
    "    if result_tree_2 > best_result_tree_2:             # c помощью условия if        \n",
    "        best_model_tree_2 = model_tree_2               # определяем лучшую модель,\n",
    "        best_result_tree_2 = result_tree_2             # лучшее значение accuracy,\n",
    "        best_depth_tree_2 = depth_tree_2               # лучшую глубину дерева\n",
    "print(\"Accuracy модели решающего дерева на валидационной выборке:\", best_result_tree_2)\n",
    "print(\"Глубина дерева на валидационной выборке:\", best_depth_tree_2)  "
   ]
  },
  {
   "cell_type": "markdown",
   "metadata": {},
   "source": [
    "**Вывод**\n",
    "\n",
    "Модель решающего дерева не шелохнуласть от попыток его раскачать неадекватной строчкой в датафрейме."
   ]
  },
  {
   "cell_type": "markdown",
   "metadata": {},
   "source": [
    "**Модель случайного леса**"
   ]
  },
  {
   "cell_type": "code",
   "execution_count": 10,
   "metadata": {},
   "outputs": [
    {
     "name": "stdout",
     "output_type": "stream",
     "text": [
      "Accuracy наилучшей модели на валидационной выборке: 0.8180404354587869\n",
      "Оптимальное количество деревьев модели на валидационной выборке: 4\n",
      "Оптимальная глубина деревьев модели на валидационной выборке: 5\n",
      "Оптимальное минимальное кол-во выборок для разделения узла на валидационной выборке: 5\n"
     ]
    }
   ],
   "source": [
    "best_model_forest_2 = None # создаём переменные для лучшей модели, \n",
    "best_result_forest_2 = 0   # лучшего значения accuracy\n",
    "best_est_2 = 0             # лучшего количества деревьев\n",
    "best_depth_forest_2 = 0    # лучшей глубины деревьев\n",
    "best_samples_split_2 = 0   # лучшего значения минимального кол-ва выборок для разделения узла\n",
    "for samples_split_2 in range(2, 7):         # цикл по минимальному кол-ву выборок для разделения узла\n",
    "    for est_2 in range(1, 11):              # цикл по количеству деревьев\n",
    "        for depth_forest_2 in range(1, 6):  # цикл по глубине деревьев\n",
    "            model_forest_2 = RandomForestClassifier(\n",
    "                random_state=1234, n_estimators=est_2, max_depth = depth_forest_2, min_samples_split=samples_split_2) # создаём \n",
    "# модель с изменяемым количеством деревьев, глубиной деревьев, минимальное кол-во выборок для разделения узла \n",
    "            model_forest_2.fit(features_train_2, target_train_2) # обучаем модель на новой обучающей выборке\n",
    "            result_forest_2 = model_forest_2.score(features_valid, target_valid) # считаем качество новой модели на \n",
    "# валидационной выборке\n",
    "            if result_forest_2 > best_result_forest_2:  # c помощью условия if\n",
    "                best_model_forest_2 = model_forest_2    # сохраняем наилучшую модель\n",
    "                best_result_forest_2 = result_forest_2  # сохраняем наилучшее значение метрики accuracy на \n",
    "# валидационных данных\n",
    "                best_est_2 = est_2                      # сохраняем наилучшее количество деревьев\n",
    "                best_depth_forest_2 = depth_forest_2    # сохраняем наилучшую глубину деревьев\n",
    "                best_samples_split_2 = samples_split_2  # сохраняем наилучшее минимальное кол-во выборок для разделения узла \n",
    "print(\"Accuracy наилучшей модели на валидационной выборке:\", best_result_forest_2)\n",
    "print(\"Оптимальное количество деревьев модели на валидационной выборке:\", best_est_2)\n",
    "print(\"Оптимальная глубина деревьев модели на валидационной выборке:\", best_depth_forest_2)\n",
    "print(\"Оптимальное минимальное кол-во выборок для разделения узла на валидационной выборке:\", best_samples_split_2)"
   ]
  },
  {
   "cell_type": "markdown",
   "metadata": {},
   "source": [
    "**Вывод**\n",
    "\n",
    "Модель случайного леса демонстрирует изменения оптимальных гиперпараметров при добавлении некорректной строчки в обучающую выборку. Величина accuracy даже увеличилась. Проверим accuracy при старых гиперпараметрах. "
   ]
  },
  {
   "cell_type": "code",
   "execution_count": 11,
   "metadata": {},
   "outputs": [
    {
     "name": "stdout",
     "output_type": "stream",
     "text": [
      "Accuracy модели на валидационной выборке при фиксации гиперпараметров: 0.8133748055987559\n"
     ]
    }
   ],
   "source": [
    "\n",
    "model_forest_2 = RandomForestClassifier(\n",
    "    random_state=1234, n_estimators=6, max_depth = 5, min_samples_split=3) # обучаем модель с фиксированными значениями \n",
    "# количества деревьев, их глубины и минимальным кол-вом выборок для разделения узла, как в главе исследования модели\n",
    "# случайного леса\n",
    "model_forest_2.fit(features_train_2, target_train_2) # обучаем модель на тренировочной выборке с особенностью\n",
    "result_forest_2 = model_forest_2.score(features_valid, target_valid) # считаем качество модели на валидационной выборке\n",
    "\n",
    "print(\"Accuracy модели на валидационной выборке при фиксации гиперпараметров:\", result_forest_2)"
   ]
  },
  {
   "cell_type": "markdown",
   "metadata": {},
   "source": [
    "**Вывод**\n",
    "\n",
    "Если принудительно поставить величины гипермараметров такими, какими они были в главе исследования модели случайного леса, то accuracy изменится на 0,5%. "
   ]
  },
  {
   "cell_type": "markdown",
   "metadata": {},
   "source": [
    "**Модель логисической регрессии**"
   ]
  },
  {
   "cell_type": "code",
   "execution_count": 12,
   "metadata": {},
   "outputs": [
    {
     "name": "stdout",
     "output_type": "stream",
     "text": [
      "Accuracy модели логистической регрессии на валидационной выборке: 0.7200622083981337\n"
     ]
    }
   ],
   "source": [
    "model_regression_2 = LogisticRegression(random_state=12345) # инициализируем модель логистической регрессии \n",
    "#с параметром random_state=12345\n",
    "model_regression_2.fit(features_train_2, target_train_2) # обучаем модель на тренировочной выборке с особенностью\n",
    "result_regression_2 = model_regression_2.score(features_valid, target_valid) # считаем качество модели на валидационной выборке\n",
    "\n",
    "print(\"Accuracy модели логистической регрессии на валидационной выборке:\", result_regression_2)"
   ]
  },
  {
   "cell_type": "markdown",
   "metadata": {},
   "source": [
    "**Вывод**\n",
    "\n",
    "А вот и существенная особенность - модель логистической регрессии оказалась чувствительной к выбросам в обучающей выборке. 1 строчка понизила точность более чем на 3%."
   ]
  },
  {
   "cell_type": "markdown",
   "metadata": {},
   "source": [
    "### Общий вывод"
   ]
  },
  {
   "cell_type": "markdown",
   "metadata": {},
   "source": [
    "В ходе построения оптимальной модели решения задачи классификации пришлось работать с датафреймом, избавленным от пропусков и неверных типов данных. \n",
    "\n",
    "Датафрейм был поделён на три выборки обучающую (60%), валидационную (20%), тестовую(20%).\n",
    "\n",
    "Рассматривались три типа моделей:\n",
    "- решающее дерево\n",
    "- случайный лес\n",
    "- логистическая регрессия\n",
    "\n",
    "Для модели решающего дерева оптимальный гиперпараметр глубины составил 3.\n",
    "Для модели случайного леса оптимальные гиперпараметры равны: количество деревьев - 6, глубина деревьев - 5, минимальное кол-во выборок для разделения узла - 3.\n",
    "\n",
    "На тестовой выборке модели показали следующие значения accuracy:\n",
    "- решающее дерево  0.785\n",
    "- случайный лес  0.793\n",
    "- логистическая регрессия  0.757\n",
    "\n",
    "Победителем стал случайный лес.\n",
    "\n",
    "Что же касается проверки на адекватность, то я пытался раскачать модели внесением одной некорректной строчки в обучающую выборку. В итоге, получилось, что модель решающего дерева не поменяла точность предсказания и глубину дерева. Случайный лес поменял оптимальные гиперпараметры, поменял точность предсказания, но не так сильно, как модель логистической регрессии. Логистическая регрессия потеряла в точность более 3 %. Вывод: если в данных не уверен на 100% логистическую регрессию применять не стоит - предсказания могут стать неадекватными, лучше воспользоваться решающим деревом.  \n",
    "\n"
   ]
  },
  {
   "cell_type": "markdown",
   "metadata": {},
   "source": [
    "## Чек-лист готовности проекта"
   ]
  },
  {
   "cell_type": "markdown",
   "metadata": {},
   "source": [
    "Поставьте 'x' в выполненных пунктах. Далее нажмите Shift+Enter."
   ]
  },
  {
   "cell_type": "markdown",
   "metadata": {},
   "source": [
    "- [x] Jupyter Notebook открыт\n",
    "- [x] Весь код исполняется без ошибок\n",
    "- [x] Ячейки с кодом расположены в порядке исполнения\n",
    "- [x] Выполнено задание 1: данные загружены и изучены\n",
    "- [x] Выполнено задание 2: данные разбиты на три выборки\n",
    "- [x] Выполнено задание 3: проведено исследование моделей\n",
    "    - [x] Рассмотрено больше одной модели\n",
    "    - [x] Рассмотрено хотя бы 3 значения гиперпараметров для какой-нибудь модели\n",
    "    - [x] Написаны выводы по результатам исследования\n",
    "- [x] Выполнено задание 3: Проведено тестирование\n",
    "- [x] Удалось достичь accuracy не меньше 0.75\n"
   ]
  }
 ],
 "metadata": {
  "ExecuteTimeLog": [
   {
    "duration": 330,
    "start_time": "2022-03-10T13:19:43.853Z"
   },
   {
    "duration": 616,
    "start_time": "2022-03-10T13:20:56.467Z"
   },
   {
    "duration": 21,
    "start_time": "2022-03-10T13:20:58.595Z"
   },
   {
    "duration": 28,
    "start_time": "2022-03-10T13:21:14.042Z"
   },
   {
    "duration": 253,
    "start_time": "2022-03-10T13:32:23.676Z"
   },
   {
    "duration": 482,
    "start_time": "2022-03-10T13:32:28.605Z"
   },
   {
    "duration": 5,
    "start_time": "2022-03-10T13:32:31.331Z"
   },
   {
    "duration": 7,
    "start_time": "2022-03-10T13:34:07.030Z"
   },
   {
    "duration": 9,
    "start_time": "2022-03-10T13:35:25.953Z"
   },
   {
    "duration": 9,
    "start_time": "2022-03-10T13:35:47.017Z"
   },
   {
    "duration": 8,
    "start_time": "2022-03-10T13:35:57.706Z"
   },
   {
    "duration": 8,
    "start_time": "2022-03-10T13:36:25.183Z"
   },
   {
    "duration": 8,
    "start_time": "2022-03-10T13:36:34.926Z"
   },
   {
    "duration": 78,
    "start_time": "2022-03-10T13:37:08.710Z"
   },
   {
    "duration": 8,
    "start_time": "2022-03-10T13:37:18.789Z"
   },
   {
    "duration": 8,
    "start_time": "2022-03-10T13:38:12.651Z"
   },
   {
    "duration": 26,
    "start_time": "2022-03-10T13:40:51.538Z"
   },
   {
    "duration": 3,
    "start_time": "2022-03-10T13:54:19.640Z"
   },
   {
    "duration": 27,
    "start_time": "2022-03-10T13:56:34.454Z"
   },
   {
    "duration": 109,
    "start_time": "2022-03-10T13:58:21.771Z"
   },
   {
    "duration": 80,
    "start_time": "2022-03-10T13:58:59.184Z"
   },
   {
    "duration": 88,
    "start_time": "2022-03-10T13:59:07.383Z"
   },
   {
    "duration": 346,
    "start_time": "2022-03-10T13:59:26.431Z"
   },
   {
    "duration": 28,
    "start_time": "2022-03-10T13:59:41.326Z"
   },
   {
    "duration": 32,
    "start_time": "2022-03-10T13:59:52.381Z"
   },
   {
    "duration": 49,
    "start_time": "2022-03-10T13:59:57.636Z"
   },
   {
    "duration": 93,
    "start_time": "2022-03-10T14:00:05.637Z"
   },
   {
    "duration": 28,
    "start_time": "2022-03-10T14:00:13.452Z"
   },
   {
    "duration": 31,
    "start_time": "2022-03-10T14:01:32.065Z"
   },
   {
    "duration": 28,
    "start_time": "2022-03-10T14:06:00.672Z"
   },
   {
    "duration": 224,
    "start_time": "2022-03-10T14:06:59.018Z"
   },
   {
    "duration": 12,
    "start_time": "2022-03-10T14:07:07.456Z"
   },
   {
    "duration": 217,
    "start_time": "2022-03-10T14:07:18.800Z"
   },
   {
    "duration": 221,
    "start_time": "2022-03-10T14:08:59.396Z"
   },
   {
    "duration": 230,
    "start_time": "2022-03-10T14:09:08.740Z"
   },
   {
    "duration": 220,
    "start_time": "2022-03-10T14:09:26.154Z"
   },
   {
    "duration": 234,
    "start_time": "2022-03-10T14:09:31.658Z"
   },
   {
    "duration": 231,
    "start_time": "2022-03-10T14:09:45.873Z"
   },
   {
    "duration": 29,
    "start_time": "2022-03-10T14:12:01.308Z"
   },
   {
    "duration": 334,
    "start_time": "2022-03-10T14:12:22.306Z"
   },
   {
    "duration": 4,
    "start_time": "2022-03-10T14:12:32.971Z"
   },
   {
    "duration": 24,
    "start_time": "2022-03-10T14:12:32.997Z"
   },
   {
    "duration": 9,
    "start_time": "2022-03-10T14:12:33.024Z"
   },
   {
    "duration": 29,
    "start_time": "2022-03-10T14:12:33.035Z"
   },
   {
    "duration": 241,
    "start_time": "2022-03-10T14:12:33.067Z"
   },
   {
    "duration": 3,
    "start_time": "2022-03-10T14:13:31.599Z"
   },
   {
    "duration": 45,
    "start_time": "2022-03-10T14:13:31.605Z"
   },
   {
    "duration": 10,
    "start_time": "2022-03-10T14:13:31.653Z"
   },
   {
    "duration": 46,
    "start_time": "2022-03-10T14:13:31.665Z"
   },
   {
    "duration": 236,
    "start_time": "2022-03-10T14:13:31.713Z"
   },
   {
    "duration": 224,
    "start_time": "2022-03-10T14:13:40.407Z"
   },
   {
    "duration": 236,
    "start_time": "2022-03-10T14:13:44.846Z"
   },
   {
    "duration": 226,
    "start_time": "2022-03-10T14:13:48.806Z"
   },
   {
    "duration": 3,
    "start_time": "2022-03-10T14:13:57.520Z"
   },
   {
    "duration": 24,
    "start_time": "2022-03-10T14:13:57.525Z"
   },
   {
    "duration": 8,
    "start_time": "2022-03-10T14:13:57.551Z"
   },
   {
    "duration": 28,
    "start_time": "2022-03-10T14:13:57.560Z"
   },
   {
    "duration": 218,
    "start_time": "2022-03-10T14:13:57.589Z"
   },
   {
    "duration": 311,
    "start_time": "2022-03-10T14:17:04.057Z"
   },
   {
    "duration": 4,
    "start_time": "2022-03-10T14:17:07.512Z"
   },
   {
    "duration": 37,
    "start_time": "2022-03-10T14:17:07.519Z"
   },
   {
    "duration": 9,
    "start_time": "2022-03-10T14:17:07.559Z"
   },
   {
    "duration": 29,
    "start_time": "2022-03-10T14:17:07.570Z"
   },
   {
    "duration": 234,
    "start_time": "2022-03-10T14:17:07.600Z"
   },
   {
    "duration": 14,
    "start_time": "2022-03-10T14:17:07.836Z"
   },
   {
    "duration": 18,
    "start_time": "2022-03-10T14:17:36.691Z"
   },
   {
    "duration": 19,
    "start_time": "2022-03-10T14:17:40.371Z"
   },
   {
    "duration": 18,
    "start_time": "2022-03-10T14:17:43.859Z"
   },
   {
    "duration": 14,
    "start_time": "2022-03-10T14:17:47.491Z"
   },
   {
    "duration": 15,
    "start_time": "2022-03-10T14:17:52.538Z"
   },
   {
    "duration": 3,
    "start_time": "2022-03-10T14:19:45.375Z"
   },
   {
    "duration": 32,
    "start_time": "2022-03-10T14:19:45.380Z"
   },
   {
    "duration": 9,
    "start_time": "2022-03-10T14:19:45.414Z"
   },
   {
    "duration": 27,
    "start_time": "2022-03-10T14:19:45.425Z"
   },
   {
    "duration": 231,
    "start_time": "2022-03-10T14:19:45.454Z"
   },
   {
    "duration": 13,
    "start_time": "2022-03-10T14:19:45.687Z"
   },
   {
    "duration": 26,
    "start_time": "2022-03-10T14:23:17.111Z"
   },
   {
    "duration": 27,
    "start_time": "2022-03-10T14:23:35.378Z"
   },
   {
    "duration": 29,
    "start_time": "2022-03-10T14:23:40.970Z"
   },
   {
    "duration": 27,
    "start_time": "2022-03-10T14:24:59.831Z"
   },
   {
    "duration": 227,
    "start_time": "2022-03-10T14:25:04.111Z"
   },
   {
    "duration": 226,
    "start_time": "2022-03-10T14:25:17.710Z"
   },
   {
    "duration": 13,
    "start_time": "2022-03-10T14:25:52.197Z"
   },
   {
    "duration": 28,
    "start_time": "2022-03-10T14:27:01.050Z"
   },
   {
    "duration": 29,
    "start_time": "2022-03-10T14:28:02.774Z"
   },
   {
    "duration": 28,
    "start_time": "2022-03-10T14:28:04.822Z"
   },
   {
    "duration": 27,
    "start_time": "2022-03-10T14:28:08.902Z"
   },
   {
    "duration": 27,
    "start_time": "2022-03-10T14:28:12.382Z"
   },
   {
    "duration": 29,
    "start_time": "2022-03-10T14:28:16.365Z"
   },
   {
    "duration": 221,
    "start_time": "2022-03-10T14:28:43.468Z"
   },
   {
    "duration": 226,
    "start_time": "2022-03-10T14:29:10.251Z"
   },
   {
    "duration": 410,
    "start_time": "2022-03-10T14:29:16.988Z"
   },
   {
    "duration": 1010,
    "start_time": "2022-03-10T14:30:13.120Z"
   },
   {
    "duration": 3031,
    "start_time": "2022-03-10T14:30:26.056Z"
   },
   {
    "duration": 6845,
    "start_time": "2022-03-10T14:30:36.719Z"
   },
   {
    "duration": 2952,
    "start_time": "2022-03-10T14:30:53.270Z"
   },
   {
    "duration": 9124,
    "start_time": "2022-03-10T14:32:21.963Z"
   },
   {
    "duration": 13,
    "start_time": "2022-03-10T14:32:52.176Z"
   },
   {
    "duration": 22,
    "start_time": "2022-03-10T14:32:56.681Z"
   },
   {
    "duration": 35,
    "start_time": "2022-03-10T14:33:00.433Z"
   },
   {
    "duration": 52,
    "start_time": "2022-03-10T14:33:06.537Z"
   },
   {
    "duration": 72,
    "start_time": "2022-03-10T14:33:13.096Z"
   },
   {
    "duration": 95,
    "start_time": "2022-03-10T14:33:17.423Z"
   },
   {
    "duration": 122,
    "start_time": "2022-03-10T14:33:21.024Z"
   },
   {
    "duration": 150,
    "start_time": "2022-03-10T14:33:24.519Z"
   },
   {
    "duration": 223,
    "start_time": "2022-03-10T14:33:31.287Z"
   },
   {
    "duration": 799,
    "start_time": "2022-03-10T14:39:59.066Z"
   },
   {
    "duration": 26,
    "start_time": "2022-03-10T14:40:14.004Z"
   },
   {
    "duration": 85,
    "start_time": "2022-03-10T14:40:18.876Z"
   },
   {
    "duration": 5,
    "start_time": "2022-03-10T14:40:27.460Z"
   },
   {
    "duration": 45,
    "start_time": "2022-03-10T14:40:27.467Z"
   },
   {
    "duration": 7,
    "start_time": "2022-03-10T14:40:27.514Z"
   },
   {
    "duration": 60,
    "start_time": "2022-03-10T14:40:27.523Z"
   },
   {
    "duration": 602,
    "start_time": "2022-03-10T14:40:27.584Z"
   },
   {
    "duration": 12,
    "start_time": "2022-03-10T14:40:28.187Z"
   },
   {
    "duration": 232,
    "start_time": "2022-03-10T14:40:28.201Z"
   },
   {
    "duration": 4,
    "start_time": "2022-03-10T14:41:54.931Z"
   },
   {
    "duration": 20,
    "start_time": "2022-03-10T14:41:57.803Z"
   },
   {
    "duration": 57,
    "start_time": "2022-03-10T14:42:04.370Z"
   },
   {
    "duration": 57,
    "start_time": "2022-03-10T14:42:45.170Z"
   },
   {
    "duration": 57,
    "start_time": "2022-03-10T14:44:08.373Z"
   },
   {
    "duration": 59,
    "start_time": "2022-03-10T14:45:09.305Z"
   },
   {
    "duration": 58,
    "start_time": "2022-03-10T14:45:42.624Z"
   },
   {
    "duration": 642,
    "start_time": "2022-03-10T14:47:07.404Z"
   },
   {
    "duration": 286,
    "start_time": "2022-03-10T14:49:29.485Z"
   },
   {
    "duration": 5,
    "start_time": "2022-03-10T14:50:06.783Z"
   },
   {
    "duration": 6,
    "start_time": "2022-03-10T14:50:43.506Z"
   },
   {
    "duration": 6,
    "start_time": "2022-03-10T14:51:11.616Z"
   },
   {
    "duration": 6,
    "start_time": "2022-03-10T14:52:00.319Z"
   },
   {
    "duration": 10,
    "start_time": "2022-03-10T14:53:56.736Z"
   },
   {
    "duration": 9,
    "start_time": "2022-03-10T14:54:08.295Z"
   },
   {
    "duration": 9,
    "start_time": "2022-03-10T14:54:10.376Z"
   },
   {
    "duration": 9,
    "start_time": "2022-03-10T14:55:10.429Z"
   },
   {
    "duration": 12,
    "start_time": "2022-03-10T14:56:02.267Z"
   },
   {
    "duration": 14,
    "start_time": "2022-03-10T14:56:34.017Z"
   },
   {
    "duration": 1078,
    "start_time": "2022-03-11T13:34:58.404Z"
   },
   {
    "duration": 38,
    "start_time": "2022-03-11T13:34:59.484Z"
   },
   {
    "duration": 15,
    "start_time": "2022-03-11T13:34:59.525Z"
   },
   {
    "duration": 55,
    "start_time": "2022-03-11T13:34:59.543Z"
   },
   {
    "duration": 639,
    "start_time": "2022-03-11T13:34:59.600Z"
   },
   {
    "duration": 15,
    "start_time": "2022-03-11T13:35:00.241Z"
   },
   {
    "duration": 17,
    "start_time": "2022-03-11T13:35:00.258Z"
   },
   {
    "duration": 14,
    "start_time": "2022-03-11T13:35:00.277Z"
   },
   {
    "duration": 270,
    "start_time": "2022-03-11T13:38:26.046Z"
   },
   {
    "duration": 192,
    "start_time": "2022-03-11T13:38:56.370Z"
   },
   {
    "duration": 8,
    "start_time": "2022-03-11T13:39:14.181Z"
   },
   {
    "duration": 12,
    "start_time": "2022-03-11T13:41:51.375Z"
   },
   {
    "duration": 3,
    "start_time": "2022-03-11T13:42:12.136Z"
   },
   {
    "duration": 43,
    "start_time": "2022-03-11T13:42:12.144Z"
   },
   {
    "duration": 8,
    "start_time": "2022-03-11T13:42:12.189Z"
   },
   {
    "duration": 62,
    "start_time": "2022-03-11T13:42:12.199Z"
   },
   {
    "duration": 639,
    "start_time": "2022-03-11T13:42:12.262Z"
   },
   {
    "duration": 12,
    "start_time": "2022-03-11T13:42:12.903Z"
   },
   {
    "duration": 23,
    "start_time": "2022-03-11T13:42:12.917Z"
   },
   {
    "duration": 12,
    "start_time": "2022-03-11T13:42:12.942Z"
   },
   {
    "duration": 13,
    "start_time": "2022-03-11T13:47:26.497Z"
   },
   {
    "duration": 13,
    "start_time": "2022-03-11T13:47:32.241Z"
   },
   {
    "duration": 12,
    "start_time": "2022-03-11T13:47:47.784Z"
   },
   {
    "duration": 12,
    "start_time": "2022-03-11T13:47:51.487Z"
   },
   {
    "duration": 593,
    "start_time": "2022-03-11T13:48:04.559Z"
   },
   {
    "duration": 601,
    "start_time": "2022-03-11T13:48:23.150Z"
   },
   {
    "duration": 601,
    "start_time": "2022-03-11T13:48:29.045Z"
   },
   {
    "duration": 11,
    "start_time": "2022-03-11T13:48:37.085Z"
   },
   {
    "duration": 13,
    "start_time": "2022-03-11T13:49:11.939Z"
   },
   {
    "duration": 622,
    "start_time": "2022-03-11T13:49:30.362Z"
   },
   {
    "duration": 12,
    "start_time": "2022-03-11T13:49:40.650Z"
   },
   {
    "duration": 10,
    "start_time": "2022-03-11T13:49:45.945Z"
   },
   {
    "duration": 605,
    "start_time": "2022-03-11T13:50:14.424Z"
   },
   {
    "duration": 15,
    "start_time": "2022-03-11T13:50:19.071Z"
   },
   {
    "duration": 12,
    "start_time": "2022-03-11T13:50:28.263Z"
   },
   {
    "duration": 608,
    "start_time": "2022-03-11T13:50:37.095Z"
   },
   {
    "duration": 12,
    "start_time": "2022-03-11T13:51:14.952Z"
   },
   {
    "duration": 6,
    "start_time": "2022-03-11T14:02:28.915Z"
   },
   {
    "duration": 188,
    "start_time": "2022-03-11T14:04:02.301Z"
   },
   {
    "duration": 6,
    "start_time": "2022-03-11T14:06:19.783Z"
   },
   {
    "duration": 8,
    "start_time": "2022-03-11T14:06:46.485Z"
   },
   {
    "duration": 8,
    "start_time": "2022-03-11T14:07:39.411Z"
   },
   {
    "duration": 4,
    "start_time": "2022-03-11T14:07:45.619Z"
   },
   {
    "duration": 30,
    "start_time": "2022-03-11T14:07:45.625Z"
   },
   {
    "duration": 8,
    "start_time": "2022-03-11T14:07:45.657Z"
   },
   {
    "duration": 71,
    "start_time": "2022-03-11T14:07:45.667Z"
   },
   {
    "duration": 610,
    "start_time": "2022-03-11T14:07:45.740Z"
   },
   {
    "duration": 14,
    "start_time": "2022-03-11T14:07:46.352Z"
   },
   {
    "duration": 12,
    "start_time": "2022-03-11T14:07:46.367Z"
   },
   {
    "duration": 12,
    "start_time": "2022-03-11T14:07:46.382Z"
   },
   {
    "duration": 10,
    "start_time": "2022-03-11T14:07:46.396Z"
   },
   {
    "duration": 12,
    "start_time": "2022-03-11T14:08:13.153Z"
   },
   {
    "duration": 21,
    "start_time": "2022-03-11T14:13:29.495Z"
   },
   {
    "duration": 76,
    "start_time": "2022-03-11T14:15:21.216Z"
   },
   {
    "duration": 68,
    "start_time": "2022-03-11T14:16:03.218Z"
   },
   {
    "duration": 73,
    "start_time": "2022-03-11T14:17:01.999Z"
   },
   {
    "duration": 67,
    "start_time": "2022-03-11T14:17:59.621Z"
   },
   {
    "duration": 4,
    "start_time": "2022-03-11T14:18:10.831Z"
   },
   {
    "duration": 37,
    "start_time": "2022-03-11T14:18:10.837Z"
   },
   {
    "duration": 9,
    "start_time": "2022-03-11T14:18:10.876Z"
   },
   {
    "duration": 61,
    "start_time": "2022-03-11T14:18:10.886Z"
   },
   {
    "duration": 665,
    "start_time": "2022-03-11T14:18:10.948Z"
   },
   {
    "duration": 24,
    "start_time": "2022-03-11T14:18:11.615Z"
   },
   {
    "duration": 12,
    "start_time": "2022-03-11T14:18:11.642Z"
   },
   {
    "duration": 11,
    "start_time": "2022-03-11T14:18:11.656Z"
   },
   {
    "duration": 100,
    "start_time": "2022-03-11T14:18:11.669Z"
   },
   {
    "duration": 71,
    "start_time": "2022-03-11T14:19:11.297Z"
   },
   {
    "duration": 4,
    "start_time": "2022-03-11T14:22:15.115Z"
   },
   {
    "duration": 35,
    "start_time": "2022-03-11T14:22:15.122Z"
   },
   {
    "duration": 8,
    "start_time": "2022-03-11T14:22:15.159Z"
   },
   {
    "duration": 58,
    "start_time": "2022-03-11T14:22:15.169Z"
   },
   {
    "duration": 611,
    "start_time": "2022-03-11T14:22:15.238Z"
   },
   {
    "duration": 13,
    "start_time": "2022-03-11T14:22:15.850Z"
   },
   {
    "duration": 10,
    "start_time": "2022-03-11T14:22:15.865Z"
   },
   {
    "duration": 10,
    "start_time": "2022-03-11T14:22:15.877Z"
   },
   {
    "duration": 97,
    "start_time": "2022-03-11T14:22:15.889Z"
   },
   {
    "duration": 64,
    "start_time": "2022-03-11T14:28:36.139Z"
   },
   {
    "duration": 66,
    "start_time": "2022-03-11T14:28:41.619Z"
   },
   {
    "duration": 67,
    "start_time": "2022-03-11T14:28:48.306Z"
   },
   {
    "duration": 73,
    "start_time": "2022-03-11T14:29:06.953Z"
   },
   {
    "duration": 68,
    "start_time": "2022-03-11T14:29:37.327Z"
   },
   {
    "duration": 204,
    "start_time": "2022-03-11T14:31:01.947Z"
   },
   {
    "duration": 72,
    "start_time": "2022-03-11T14:31:30.616Z"
   },
   {
    "duration": 81,
    "start_time": "2022-03-11T14:32:03.705Z"
   },
   {
    "duration": 69,
    "start_time": "2022-03-11T14:32:12.047Z"
   },
   {
    "duration": 73,
    "start_time": "2022-03-11T14:32:22.750Z"
   },
   {
    "duration": 72,
    "start_time": "2022-03-11T14:32:29.661Z"
   },
   {
    "duration": 74,
    "start_time": "2022-03-11T14:32:35.469Z"
   },
   {
    "duration": 84,
    "start_time": "2022-03-11T14:33:04.428Z"
   },
   {
    "duration": 66,
    "start_time": "2022-03-11T14:33:30.194Z"
   },
   {
    "duration": 20,
    "start_time": "2022-03-11T14:36:45.695Z"
   },
   {
    "duration": 22,
    "start_time": "2022-03-11T14:37:10.655Z"
   },
   {
    "duration": 23,
    "start_time": "2022-03-11T14:37:14.327Z"
   },
   {
    "duration": 324,
    "start_time": "2022-03-11T16:48:41.184Z"
   },
   {
    "duration": 1348,
    "start_time": "2022-03-11T16:48:51.726Z"
   },
   {
    "duration": 43,
    "start_time": "2022-03-11T16:48:53.077Z"
   },
   {
    "duration": 29,
    "start_time": "2022-03-11T16:48:53.124Z"
   },
   {
    "duration": 102,
    "start_time": "2022-03-11T16:48:53.156Z"
   },
   {
    "duration": 896,
    "start_time": "2022-03-11T16:48:53.261Z"
   },
   {
    "duration": 22,
    "start_time": "2022-03-11T16:48:54.159Z"
   },
   {
    "duration": 15,
    "start_time": "2022-03-11T16:48:54.183Z"
   },
   {
    "duration": 14,
    "start_time": "2022-03-11T16:48:54.200Z"
   },
   {
    "duration": 99,
    "start_time": "2022-03-11T16:48:54.252Z"
   },
   {
    "duration": 961,
    "start_time": "2022-03-11T16:48:58.241Z"
   },
   {
    "duration": 919,
    "start_time": "2022-03-11T16:49:50.419Z"
   },
   {
    "duration": 4,
    "start_time": "2022-03-11T16:50:03.534Z"
   },
   {
    "duration": 37,
    "start_time": "2022-03-11T16:50:03.541Z"
   },
   {
    "duration": 10,
    "start_time": "2022-03-11T16:50:03.581Z"
   },
   {
    "duration": 97,
    "start_time": "2022-03-11T16:50:03.593Z"
   },
   {
    "duration": 903,
    "start_time": "2022-03-11T16:50:03.692Z"
   },
   {
    "duration": 22,
    "start_time": "2022-03-11T16:50:04.597Z"
   },
   {
    "duration": 36,
    "start_time": "2022-03-11T16:50:04.622Z"
   },
   {
    "duration": 14,
    "start_time": "2022-03-11T16:50:04.660Z"
   },
   {
    "duration": 113,
    "start_time": "2022-03-11T16:50:04.676Z"
   },
   {
    "duration": 931,
    "start_time": "2022-03-11T16:50:26.538Z"
   },
   {
    "duration": 40,
    "start_time": "2022-03-11T16:50:56.472Z"
   },
   {
    "duration": 980,
    "start_time": "2022-03-11T16:51:55.942Z"
   },
   {
    "duration": 956,
    "start_time": "2022-03-11T16:52:04.605Z"
   },
   {
    "duration": 5,
    "start_time": "2022-03-11T16:52:33.028Z"
   },
   {
    "duration": 29,
    "start_time": "2022-03-11T16:52:33.035Z"
   },
   {
    "duration": 11,
    "start_time": "2022-03-11T16:52:33.067Z"
   },
   {
    "duration": 99,
    "start_time": "2022-03-11T16:52:33.081Z"
   },
   {
    "duration": 897,
    "start_time": "2022-03-11T16:52:33.183Z"
   },
   {
    "duration": 22,
    "start_time": "2022-03-11T16:52:34.082Z"
   },
   {
    "duration": 14,
    "start_time": "2022-03-11T16:52:34.107Z"
   },
   {
    "duration": 14,
    "start_time": "2022-03-11T16:52:34.151Z"
   },
   {
    "duration": 114,
    "start_time": "2022-03-11T16:52:34.168Z"
   },
   {
    "duration": 968,
    "start_time": "2022-03-11T16:52:34.284Z"
   },
   {
    "duration": 939,
    "start_time": "2022-03-11T16:52:46.963Z"
   },
   {
    "duration": 29,
    "start_time": "2022-03-11T16:53:59.559Z"
   },
   {
    "duration": 958,
    "start_time": "2022-03-11T16:54:27.989Z"
   },
   {
    "duration": 30,
    "start_time": "2022-03-11T17:03:46.539Z"
   },
   {
    "duration": 5,
    "start_time": "2022-03-11T17:03:50.474Z"
   },
   {
    "duration": 81,
    "start_time": "2022-03-11T17:03:54.713Z"
   },
   {
    "duration": 13,
    "start_time": "2022-03-11T17:04:03.697Z"
   },
   {
    "duration": 940,
    "start_time": "2022-03-11T17:04:06.560Z"
   },
   {
    "duration": 23,
    "start_time": "2022-03-11T17:04:11.305Z"
   },
   {
    "duration": 16,
    "start_time": "2022-03-11T17:04:15.096Z"
   },
   {
    "duration": 14,
    "start_time": "2022-03-11T17:04:21.631Z"
   },
   {
    "duration": 90,
    "start_time": "2022-03-11T17:04:28.648Z"
   },
   {
    "duration": 977,
    "start_time": "2022-03-11T17:04:43.103Z"
   },
   {
    "duration": 1785,
    "start_time": "2022-03-11T17:05:40.060Z"
   },
   {
    "duration": 102,
    "start_time": "2022-03-11T17:07:12.727Z"
   },
   {
    "duration": 116,
    "start_time": "2022-03-11T17:08:03.724Z"
   },
   {
    "duration": 122,
    "start_time": "2022-03-11T17:08:57.275Z"
   },
   {
    "duration": 330,
    "start_time": "2022-03-11T17:10:12.522Z"
   },
   {
    "duration": 1281,
    "start_time": "2022-03-11T17:10:21.700Z"
   },
   {
    "duration": 43,
    "start_time": "2022-03-11T17:10:22.984Z"
   },
   {
    "duration": 31,
    "start_time": "2022-03-11T17:10:23.030Z"
   },
   {
    "duration": 96,
    "start_time": "2022-03-11T17:10:23.064Z"
   },
   {
    "duration": 1851,
    "start_time": "2022-03-11T17:10:23.163Z"
   },
   {
    "duration": 35,
    "start_time": "2022-03-11T17:10:25.017Z"
   },
   {
    "duration": 14,
    "start_time": "2022-03-11T17:10:29.722Z"
   },
   {
    "duration": 121,
    "start_time": "2022-03-11T17:10:37.769Z"
   },
   {
    "duration": 124,
    "start_time": "2022-03-11T17:11:20.977Z"
   },
   {
    "duration": 961,
    "start_time": "2022-03-11T17:11:31.112Z"
   },
   {
    "duration": 920,
    "start_time": "2022-03-11T17:11:55.645Z"
   },
   {
    "duration": 952,
    "start_time": "2022-03-11T17:12:01.302Z"
   },
   {
    "duration": 921,
    "start_time": "2022-03-11T17:12:07.700Z"
   },
   {
    "duration": 948,
    "start_time": "2022-03-11T17:12:12.636Z"
   },
   {
    "duration": 373,
    "start_time": "2022-03-11T17:13:21.332Z"
   },
   {
    "duration": 1431,
    "start_time": "2022-03-11T17:13:29.059Z"
   },
   {
    "duration": 39,
    "start_time": "2022-03-11T17:13:32.227Z"
   },
   {
    "duration": 12,
    "start_time": "2022-03-11T17:13:36.602Z"
   },
   {
    "duration": 79,
    "start_time": "2022-03-11T17:13:46.609Z"
   },
   {
    "duration": 331,
    "start_time": "2022-03-11T17:14:00.482Z"
   },
   {
    "duration": 961,
    "start_time": "2022-03-11T17:14:30.024Z"
   },
   {
    "duration": 262,
    "start_time": "2022-03-11T17:14:55.038Z"
   },
   {
    "duration": 120,
    "start_time": "2022-03-11T17:15:00.576Z"
   },
   {
    "duration": 1020,
    "start_time": "2022-03-11T17:15:05.335Z"
   },
   {
    "duration": 895,
    "start_time": "2022-03-11T17:15:49.404Z"
   },
   {
    "duration": 1302,
    "start_time": "2022-03-11T17:16:47.166Z"
   },
   {
    "duration": 37,
    "start_time": "2022-03-11T17:16:48.472Z"
   },
   {
    "duration": 12,
    "start_time": "2022-03-11T17:16:48.512Z"
   },
   {
    "duration": 98,
    "start_time": "2022-03-11T17:16:48.526Z"
   },
   {
    "duration": 917,
    "start_time": "2022-03-11T17:16:48.626Z"
   },
   {
    "duration": 28,
    "start_time": "2022-03-11T17:16:49.545Z"
   },
   {
    "duration": 14,
    "start_time": "2022-03-11T17:16:49.575Z"
   },
   {
    "duration": 13,
    "start_time": "2022-03-11T17:16:49.592Z"
   },
   {
    "duration": 162,
    "start_time": "2022-03-11T17:16:49.607Z"
   },
   {
    "duration": 935,
    "start_time": "2022-03-11T17:16:49.772Z"
   },
   {
    "duration": 57,
    "start_time": "2022-03-11T17:16:50.709Z"
   },
   {
    "duration": 1154,
    "start_time": "2022-03-13T03:56:32.031Z"
   },
   {
    "duration": 38,
    "start_time": "2022-03-13T03:56:33.187Z"
   },
   {
    "duration": 11,
    "start_time": "2022-03-13T03:56:33.227Z"
   },
   {
    "duration": 89,
    "start_time": "2022-03-13T03:56:33.240Z"
   },
   {
    "duration": 688,
    "start_time": "2022-03-13T03:56:33.332Z"
   },
   {
    "duration": 15,
    "start_time": "2022-03-13T03:56:34.021Z"
   },
   {
    "duration": 12,
    "start_time": "2022-03-13T03:56:34.038Z"
   },
   {
    "duration": 13,
    "start_time": "2022-03-13T03:56:34.052Z"
   },
   {
    "duration": 138,
    "start_time": "2022-03-13T03:56:34.067Z"
   },
   {
    "duration": 695,
    "start_time": "2022-03-13T03:56:34.207Z"
   },
   {
    "duration": 23,
    "start_time": "2022-03-13T03:56:34.904Z"
   },
   {
    "duration": 73,
    "start_time": "2022-03-13T04:05:51.892Z"
   },
   {
    "duration": 70,
    "start_time": "2022-03-13T04:06:08.866Z"
   },
   {
    "duration": 676,
    "start_time": "2022-03-13T04:06:23.008Z"
   },
   {
    "duration": 675,
    "start_time": "2022-03-13T04:10:43.077Z"
   },
   {
    "duration": 3241,
    "start_time": "2022-03-13T04:12:38.246Z"
   },
   {
    "duration": 3211,
    "start_time": "2022-03-13T04:15:33.683Z"
   },
   {
    "duration": 3267,
    "start_time": "2022-03-13T04:19:00.128Z"
   },
   {
    "duration": 4,
    "start_time": "2022-03-13T04:20:09.743Z"
   },
   {
    "duration": 37,
    "start_time": "2022-03-13T04:20:09.749Z"
   },
   {
    "duration": 9,
    "start_time": "2022-03-13T04:20:09.788Z"
   },
   {
    "duration": 62,
    "start_time": "2022-03-13T04:20:09.799Z"
   },
   {
    "duration": 3304,
    "start_time": "2022-03-13T04:20:09.863Z"
   },
   {
    "duration": 14,
    "start_time": "2022-03-13T04:20:13.169Z"
   },
   {
    "duration": 26,
    "start_time": "2022-03-13T04:20:13.184Z"
   },
   {
    "duration": 11,
    "start_time": "2022-03-13T04:20:13.212Z"
   },
   {
    "duration": 90,
    "start_time": "2022-03-13T04:20:13.225Z"
   },
   {
    "duration": 671,
    "start_time": "2022-03-13T04:20:13.318Z"
   },
   {
    "duration": 28,
    "start_time": "2022-03-13T04:20:13.991Z"
   },
   {
    "duration": 64,
    "start_time": "2022-03-13T05:53:23.138Z"
   },
   {
    "duration": 64,
    "start_time": "2022-03-13T05:53:27.751Z"
   },
   {
    "duration": 64,
    "start_time": "2022-03-13T05:53:31.966Z"
   },
   {
    "duration": 344,
    "start_time": "2022-03-13T05:53:35.806Z"
   },
   {
    "duration": 63,
    "start_time": "2022-03-13T05:53:39.967Z"
   },
   {
    "duration": 62,
    "start_time": "2022-03-13T05:53:46.358Z"
   },
   {
    "duration": 63,
    "start_time": "2022-03-13T05:53:49.340Z"
   },
   {
    "duration": 3279,
    "start_time": "2022-03-13T05:53:51.407Z"
   },
   {
    "duration": 23,
    "start_time": "2022-03-13T05:56:28.974Z"
   },
   {
    "duration": 11,
    "start_time": "2022-03-13T05:56:51.118Z"
   },
   {
    "duration": 11,
    "start_time": "2022-03-13T06:09:46.057Z"
   },
   {
    "duration": 65,
    "start_time": "2022-03-13T06:11:28.241Z"
   },
   {
    "duration": 3724,
    "start_time": "2022-03-13T06:13:14.948Z"
   },
   {
    "duration": 3476,
    "start_time": "2022-03-13T06:14:26.485Z"
   },
   {
    "duration": 3348,
    "start_time": "2022-03-13T06:15:39.345Z"
   },
   {
    "duration": 3344,
    "start_time": "2022-03-13T06:16:22.638Z"
   },
   {
    "duration": 4307,
    "start_time": "2022-03-13T06:19:34.617Z"
   },
   {
    "duration": 3616,
    "start_time": "2022-03-13T06:19:54.133Z"
   },
   {
    "duration": 4275,
    "start_time": "2022-03-13T06:22:37.097Z"
   },
   {
    "duration": 4620,
    "start_time": "2022-03-13T06:24:40.647Z"
   },
   {
    "duration": 25,
    "start_time": "2022-03-13T06:26:09.835Z"
   },
   {
    "duration": 25,
    "start_time": "2022-03-13T06:26:22.035Z"
   },
   {
    "duration": 22,
    "start_time": "2022-03-13T06:32:28.841Z"
   },
   {
    "duration": 9,
    "start_time": "2022-03-13T06:33:52.783Z"
   },
   {
    "duration": 10,
    "start_time": "2022-03-13T06:35:32.204Z"
   },
   {
    "duration": 66,
    "start_time": "2022-03-13T06:41:42.642Z"
   },
   {
    "duration": 4371,
    "start_time": "2022-03-13T06:44:32.700Z"
   },
   {
    "duration": 3284,
    "start_time": "2022-03-13T06:44:44.520Z"
   },
   {
    "duration": 3459,
    "start_time": "2022-03-13T06:47:52.412Z"
   },
   {
    "duration": 15,
    "start_time": "2022-03-13T06:49:37.964Z"
   },
   {
    "duration": 73,
    "start_time": "2022-03-13T07:42:27.607Z"
   },
   {
    "duration": 73,
    "start_time": "2022-03-13T07:46:03.787Z"
   },
   {
    "duration": 6910,
    "start_time": "2022-03-13T07:48:13.674Z"
   },
   {
    "duration": 3634,
    "start_time": "2022-03-13T07:51:08.392Z"
   },
   {
    "duration": 23,
    "start_time": "2022-03-13T07:55:55.797Z"
   },
   {
    "duration": 12,
    "start_time": "2022-03-13T08:07:45.890Z"
   },
   {
    "duration": 1131,
    "start_time": "2022-03-13T08:08:08.226Z"
   },
   {
    "duration": 37,
    "start_time": "2022-03-13T08:08:09.359Z"
   },
   {
    "duration": 9,
    "start_time": "2022-03-13T08:08:09.402Z"
   },
   {
    "duration": 79,
    "start_time": "2022-03-13T08:08:09.413Z"
   },
   {
    "duration": 3285,
    "start_time": "2022-03-13T08:08:09.494Z"
   },
   {
    "duration": 28,
    "start_time": "2022-03-13T08:08:12.781Z"
   },
   {
    "duration": 14,
    "start_time": "2022-03-13T08:08:12.811Z"
   },
   {
    "duration": 13,
    "start_time": "2022-03-13T08:08:12.827Z"
   },
   {
    "duration": 102,
    "start_time": "2022-03-13T08:08:12.842Z"
   },
   {
    "duration": 3778,
    "start_time": "2022-03-13T08:08:12.946Z"
   },
   {
    "duration": 24,
    "start_time": "2022-03-13T08:08:16.727Z"
   },
   {
    "duration": 39,
    "start_time": "2022-03-13T08:08:16.753Z"
   },
   {
    "duration": 1194,
    "start_time": "2022-03-13T10:27:40.728Z"
   },
   {
    "duration": 41,
    "start_time": "2022-03-13T10:27:41.924Z"
   },
   {
    "duration": 7,
    "start_time": "2022-03-13T10:27:41.966Z"
   },
   {
    "duration": 59,
    "start_time": "2022-03-13T10:27:41.975Z"
   },
   {
    "duration": 2646,
    "start_time": "2022-03-13T10:27:42.036Z"
   },
   {
    "duration": 12,
    "start_time": "2022-03-13T10:27:44.683Z"
   },
   {
    "duration": 10,
    "start_time": "2022-03-13T10:27:44.705Z"
   },
   {
    "duration": 11,
    "start_time": "2022-03-13T10:27:44.717Z"
   },
   {
    "duration": 75,
    "start_time": "2022-03-13T10:27:44.730Z"
   },
   {
    "duration": 3886,
    "start_time": "2022-03-13T10:27:44.807Z"
   },
   {
    "duration": 26,
    "start_time": "2022-03-13T10:27:48.695Z"
   },
   {
    "duration": 18,
    "start_time": "2022-03-13T10:27:48.723Z"
   },
   {
    "duration": 346,
    "start_time": "2022-03-13T10:27:48.742Z"
   },
   {
    "duration": 1108,
    "start_time": "2022-03-13T10:27:47.982Z"
   },
   {
    "duration": 297,
    "start_time": "2022-03-13T10:28:39.637Z"
   },
   {
    "duration": 6,
    "start_time": "2022-03-13T10:28:55.815Z"
   },
   {
    "duration": 4,
    "start_time": "2022-03-13T10:29:13.657Z"
   }
  ],
  "kernelspec": {
   "display_name": "Python 3 (ipykernel)",
   "language": "python",
   "name": "python3"
  },
  "language_info": {
   "codemirror_mode": {
    "name": "ipython",
    "version": 3
   },
   "file_extension": ".py",
   "mimetype": "text/x-python",
   "name": "python",
   "nbconvert_exporter": "python",
   "pygments_lexer": "ipython3",
   "version": "3.9.7"
  },
  "toc": {
   "base_numbering": 1,
   "nav_menu": {},
   "number_sections": true,
   "sideBar": true,
   "skip_h1_title": true,
   "title_cell": "Table of Contents",
   "title_sidebar": "Contents",
   "toc_cell": false,
   "toc_position": {},
   "toc_section_display": true,
   "toc_window_display": true
  }
 },
 "nbformat": 4,
 "nbformat_minor": 2
}
