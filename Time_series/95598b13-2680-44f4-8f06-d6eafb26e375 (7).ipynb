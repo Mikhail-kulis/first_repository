{
 "cells": [
  {
   "cell_type": "markdown",
   "metadata": {},
   "source": [
    "**Комментарий ревьюера**\n",
    "\n",
    "Михаил  , привет! Меня зовут Сергей Волков, я буду проверять твой проект. Если не против, давай общаться на «ты». Если это неудобно, дай знать, перейдем на «вы».\n",
    "\n",
    "У тебя уже проделана очень большая работа над проектом, но давай сделаем его еще лучше. Дальше ты найдешь мои комментарии — пожалуйста, не перемещай и не удаляй их. Буду использовать цветовую разметку:\n",
    "\n",
    "<div class=\"alert alert-danger\">\n",
    "<b>Комментарий ревьюера:</b>  ❌красный текст - так выделены самые важные замечания. Без их отработки проект не будет принят. </div>\n",
    "\n",
    "<div class=\"alert alert-warning\">\n",
    "<b>Комментарий ревьюера:</b>⚠️оранжевый текст - есть рекомендации, на что стоит обратить внимание. Так выделены небольшие замечания. Одно-два таких замечания в проекте допустимы, но если их будет больше - тебе будет необходимо внести исправления. </div>\n",
    "\n",
    "<div class=\"alert alert-success\">\n",
    "<b>Комментарий ревьюера:</b> ✔️зеленый текст - все отлично.</div>\n",
    "\n",
    "Давай работать над проектом в диалоге: если ты что-то меняешь в проекте или отвечаешь на мои комментарии — пиши об этом. Мне будет легче отследить изменения, если ты выделишь свои комментарии:\n",
    "<div class=\"alert alert-info\"> <b>Комментарий студента:</b> Например, вот так.</div>\n",
    "\n",
    "Всё это поможет выполнить повторную проверку твоего проекта оперативнее. "
   ]
  },
  {
   "cell_type": "markdown",
   "metadata": {},
   "source": [
    "\n",
    "<div class=\"alert alert-success\">\n",
    "<b>Комментарий ревьюера v.2:</b> ✔️Михаил? привет. Повторные комментарии отмечены v.2</div>"
   ]
  },
  {
   "cell_type": "markdown",
   "metadata": {
    "toc": true
   },
   "source": [
    "<h1>Содержание<span class=\"tocSkip\"></span></h1>\n",
    "<div class=\"toc\"><ul class=\"toc-item\"><li><span><a href=\"#Подготовка\" data-toc-modified-id=\"Подготовка-1\"><span class=\"toc-item-num\">1&nbsp;&nbsp;</span>Подготовка</a></span><ul class=\"toc-item\"><li><span><a href=\"#Импорт-библиотек\" data-toc-modified-id=\"Импорт-библиотек-1.1\"><span class=\"toc-item-num\">1.1&nbsp;&nbsp;</span>Импорт библиотек</a></span></li></ul></li><li><span><a href=\"#Анализ\" data-toc-modified-id=\"Анализ-2\"><span class=\"toc-item-num\">2&nbsp;&nbsp;</span>Анализ</a></span></li><li><span><a href=\"#Обучение\" data-toc-modified-id=\"Обучение-3\"><span class=\"toc-item-num\">3&nbsp;&nbsp;</span>Обучение</a></span><ul class=\"toc-item\"><li><span><a href=\"#Добавление-признаков\" data-toc-modified-id=\"Добавление-признаков-3.1\"><span class=\"toc-item-num\">3.1&nbsp;&nbsp;</span>Добавление признаков</a></span></li><li><span><a href=\"#Создание-выборок\" data-toc-modified-id=\"Создание-выборок-3.2\"><span class=\"toc-item-num\">3.2&nbsp;&nbsp;</span>Создание выборок</a></span></li><li><span><a href=\"#Выделение-признаков\" data-toc-modified-id=\"Выделение-признаков-3.3\"><span class=\"toc-item-num\">3.3&nbsp;&nbsp;</span>Выделение признаков</a></span></li><li><span><a href=\"#Модель-линейной-регрессии\" data-toc-modified-id=\"Модель-линейной-регрессии-3.4\"><span class=\"toc-item-num\">3.4&nbsp;&nbsp;</span>Модель линейной регрессии</a></span></li><li><span><a href=\"#Модель-случайного-леса\" data-toc-modified-id=\"Модель-случайного-леса-3.5\"><span class=\"toc-item-num\">3.5&nbsp;&nbsp;</span>Модель случайного леса</a></span></li><li><span><a href=\"#Заполнение-средним\" data-toc-modified-id=\"Заполнение-средним-3.6\"><span class=\"toc-item-num\">3.6&nbsp;&nbsp;</span>Заполнение средним</a></span></li></ul></li><li><span><a href=\"#Тестирование\" data-toc-modified-id=\"Тестирование-4\"><span class=\"toc-item-num\">4&nbsp;&nbsp;</span>Тестирование</a></span></li><li><span><a href=\"#Вывод\" data-toc-modified-id=\"Вывод-5\"><span class=\"toc-item-num\">5&nbsp;&nbsp;</span>Вывод</a></span></li><li><span><a href=\"#Чек-лист-проверки\" data-toc-modified-id=\"Чек-лист-проверки-6\"><span class=\"toc-item-num\">6&nbsp;&nbsp;</span>Чек-лист проверки</a></span></li></ul></div>"
   ]
  },
  {
   "cell_type": "markdown",
   "metadata": {},
   "source": [
    "#  Прогнозирование заказов такси"
   ]
  },
  {
   "cell_type": "markdown",
   "metadata": {},
   "source": [
    "Компания «Чётенькое такси» собрала исторические данные о заказах такси в аэропортах. Чтобы привлекать больше водителей в период пиковой нагрузки, нужно спрогнозировать количество заказов такси на следующий час. Постройте модель для такого предсказания.\n",
    "\n",
    "Значение метрики *RMSE* на тестовой выборке должно быть не больше 48.\n",
    "\n",
    "Вам нужно:\n",
    "\n",
    "1. Загрузить данные и выполнить их ресемплирование по одному часу.\n",
    "2. Проанализировать данные.\n",
    "3. Обучить разные модели с различными гиперпараметрами. Сделать тестовую выборку размером 10% от исходных данных.\n",
    "4. Проверить данные на тестовой выборке и сделать выводы.\n",
    "\n",
    "\n",
    "Данные лежат в файле `taxi.csv`. Количество заказов находится в столбце `num_orders` (от англ. *number of orders*, «число заказов»)."
   ]
  },
  {
   "cell_type": "markdown",
   "metadata": {},
   "source": [
    "<div class=\"alert alert-success\">\n",
    "<b>Комментарий ревьюера:</b> ✔️Данные загружены, цельпроекта обозначена, хорошо.</div>"
   ]
  },
  {
   "cell_type": "markdown",
   "metadata": {},
   "source": [
    "## Подготовка"
   ]
  },
  {
   "cell_type": "markdown",
   "metadata": {},
   "source": [
    "### Импорт библиотек"
   ]
  },
  {
   "cell_type": "code",
   "execution_count": 2,
   "metadata": {},
   "outputs": [],
   "source": [
    "import pandas as pd\n",
    "import numpy as np\n",
    "from statsmodels.tsa.seasonal import seasonal_decompose\n",
    "import matplotlib.pyplot as plt\n",
    "from sklearn.model_selection import train_test_split\n",
    "from sklearn.linear_model import LinearRegression\n",
    "from sklearn.ensemble import RandomForestRegressor\n",
    "from sklearn.metrics import mean_squared_error"
   ]
  },
  {
   "cell_type": "code",
   "execution_count": 3,
   "metadata": {},
   "outputs": [],
   "source": [
    "data = pd.read_csv('/datasets/taxi.csv',index_col=[0], parse_dates=[0])\n",
    "data.sort_index(inplace=True) # сортировка по дате"
   ]
  },
  {
   "cell_type": "code",
   "execution_count": 4,
   "metadata": {},
   "outputs": [
    {
     "name": "stdout",
     "output_type": "stream",
     "text": [
      "<class 'pandas.core.frame.DataFrame'>\n",
      "DatetimeIndex: 26496 entries, 2018-03-01 00:00:00 to 2018-08-31 23:50:00\n",
      "Data columns (total 1 columns):\n",
      " #   Column      Non-Null Count  Dtype\n",
      "---  ------      --------------  -----\n",
      " 0   num_orders  26496 non-null  int64\n",
      "dtypes: int64(1)\n",
      "memory usage: 414.0 KB\n"
     ]
    }
   ],
   "source": [
    "data.info()"
   ]
  },
  {
   "cell_type": "markdown",
   "metadata": {},
   "source": [
    "**Вывод**\n",
    "\n",
    "При чтении файла дате был присвоен подходящий тип данных, при этом дата была взята в качестве индексов в датафрейме . Пропуски отсутствуют."
   ]
  },
  {
   "cell_type": "markdown",
   "metadata": {},
   "source": [
    "<div class=\"alert alert-success\">\n",
    "<b>Комментарий ревьюера:</b> ✔️Даннве загружены, есть первичный просмотр данных.</div>"
   ]
  },
  {
   "cell_type": "code",
   "execution_count": 5,
   "metadata": {},
   "outputs": [
    {
     "data": {
      "text/html": [
       "<div>\n",
       "<style scoped>\n",
       "    .dataframe tbody tr th:only-of-type {\n",
       "        vertical-align: middle;\n",
       "    }\n",
       "\n",
       "    .dataframe tbody tr th {\n",
       "        vertical-align: top;\n",
       "    }\n",
       "\n",
       "    .dataframe thead th {\n",
       "        text-align: right;\n",
       "    }\n",
       "</style>\n",
       "<table border=\"1\" class=\"dataframe\">\n",
       "  <thead>\n",
       "    <tr style=\"text-align: right;\">\n",
       "      <th></th>\n",
       "      <th>num_orders</th>\n",
       "    </tr>\n",
       "    <tr>\n",
       "      <th>datetime</th>\n",
       "      <th></th>\n",
       "    </tr>\n",
       "  </thead>\n",
       "  <tbody>\n",
       "    <tr>\n",
       "      <th>2018-03-01 00:00:00</th>\n",
       "      <td>9</td>\n",
       "    </tr>\n",
       "    <tr>\n",
       "      <th>2018-03-01 00:10:00</th>\n",
       "      <td>14</td>\n",
       "    </tr>\n",
       "    <tr>\n",
       "      <th>2018-03-01 00:20:00</th>\n",
       "      <td>28</td>\n",
       "    </tr>\n",
       "    <tr>\n",
       "      <th>2018-03-01 00:30:00</th>\n",
       "      <td>20</td>\n",
       "    </tr>\n",
       "    <tr>\n",
       "      <th>2018-03-01 00:40:00</th>\n",
       "      <td>32</td>\n",
       "    </tr>\n",
       "  </tbody>\n",
       "</table>\n",
       "</div>"
      ],
      "text/plain": [
       "                     num_orders\n",
       "datetime                       \n",
       "2018-03-01 00:00:00           9\n",
       "2018-03-01 00:10:00          14\n",
       "2018-03-01 00:20:00          28\n",
       "2018-03-01 00:30:00          20\n",
       "2018-03-01 00:40:00          32"
      ]
     },
     "execution_count": 5,
     "metadata": {},
     "output_type": "execute_result"
    }
   ],
   "source": [
    "data.head()"
   ]
  },
  {
   "cell_type": "markdown",
   "metadata": {},
   "source": [
    "Данные представлены с периодом в 10 минут. Проведём ресемплирование по 1 часу."
   ]
  },
  {
   "cell_type": "code",
   "execution_count": 6,
   "metadata": {
    "scrolled": true
   },
   "outputs": [
    {
     "data": {
      "text/html": [
       "<div>\n",
       "<style scoped>\n",
       "    .dataframe tbody tr th:only-of-type {\n",
       "        vertical-align: middle;\n",
       "    }\n",
       "\n",
       "    .dataframe tbody tr th {\n",
       "        vertical-align: top;\n",
       "    }\n",
       "\n",
       "    .dataframe thead th {\n",
       "        text-align: right;\n",
       "    }\n",
       "</style>\n",
       "<table border=\"1\" class=\"dataframe\">\n",
       "  <thead>\n",
       "    <tr style=\"text-align: right;\">\n",
       "      <th></th>\n",
       "      <th>num_orders</th>\n",
       "    </tr>\n",
       "    <tr>\n",
       "      <th>datetime</th>\n",
       "      <th></th>\n",
       "    </tr>\n",
       "  </thead>\n",
       "  <tbody>\n",
       "    <tr>\n",
       "      <th>2018-03-01 00:00:00</th>\n",
       "      <td>124</td>\n",
       "    </tr>\n",
       "    <tr>\n",
       "      <th>2018-03-01 01:00:00</th>\n",
       "      <td>85</td>\n",
       "    </tr>\n",
       "    <tr>\n",
       "      <th>2018-03-01 02:00:00</th>\n",
       "      <td>71</td>\n",
       "    </tr>\n",
       "    <tr>\n",
       "      <th>2018-03-01 03:00:00</th>\n",
       "      <td>66</td>\n",
       "    </tr>\n",
       "    <tr>\n",
       "      <th>2018-03-01 04:00:00</th>\n",
       "      <td>43</td>\n",
       "    </tr>\n",
       "  </tbody>\n",
       "</table>\n",
       "</div>"
      ],
      "text/plain": [
       "                     num_orders\n",
       "datetime                       \n",
       "2018-03-01 00:00:00         124\n",
       "2018-03-01 01:00:00          85\n",
       "2018-03-01 02:00:00          71\n",
       "2018-03-01 03:00:00          66\n",
       "2018-03-01 04:00:00          43"
      ]
     },
     "execution_count": 6,
     "metadata": {},
     "output_type": "execute_result"
    }
   ],
   "source": [
    "data = data.resample('1H').sum() # ресемплирование по 1 часу \n",
    "data.head()                      # проверка результата"
   ]
  },
  {
   "cell_type": "markdown",
   "metadata": {},
   "source": [
    "<div class=\"alert alert-success\">\n",
    "<b>Комментарий ревьюера:</b> ✔️Хорошо.Рассемплирование проще всего интерпритируется с функцией суммы.</div>"
   ]
  },
  {
   "cell_type": "markdown",
   "metadata": {},
   "source": [
    "## Анализ"
   ]
  },
  {
   "cell_type": "markdown",
   "metadata": {},
   "source": [
    "Построим график временного ряда."
   ]
  },
  {
   "cell_type": "code",
   "execution_count": 7,
   "metadata": {},
   "outputs": [
    {
     "data": {
      "text/plain": [
       "<AxesSubplot:xlabel='datetime'>"
      ]
     },
     "execution_count": 7,
     "metadata": {},
     "output_type": "execute_result"
    },
    {
     "data": {
      "image/png": "[encoded data removed]",
      "text/plain": [
       "<Figure size 432x288 with 1 Axes>"
      ]
     },
     "metadata": {
      "needs_background": "light"
     },
     "output_type": "display_data"
    }
   ],
   "source": [
    "data.plot()  "
   ]
  },
  {
   "cell_type": "markdown",
   "metadata": {},
   "source": [
    "График очень шумный и ничего понять нельзя. Построим график скользящего среднего."
   ]
  },
  {
   "cell_type": "code",
   "execution_count": 8,
   "metadata": {
    "scrolled": true
   },
   "outputs": [
    {
     "data": {
      "text/plain": [
       "<AxesSubplot:xlabel='datetime'>"
      ]
     },
     "execution_count": 8,
     "metadata": {},
     "output_type": "execute_result"
    },
    {
     "data": {
      "image/png": "[encoded data removed]",
      "text/plain": [
       "<Figure size 432x288 with 1 Axes>"
      ]
     },
     "metadata": {
      "needs_background": "light"
     },
     "output_type": "display_data"
    }
   ],
   "source": [
    "data['rolling_mean'] = data.rolling(10).mean() # усреднение проводится по предыдущим 10 значениям\n",
    "data.plot()"
   ]
  },
  {
   "cell_type": "markdown",
   "metadata": {},
   "source": [
    "**Вывод**\n",
    "\n",
    "Вычисление скользящего среднего позволило смело утверждать, что наш временной ряд нестационарный."
   ]
  },
  {
   "cell_type": "markdown",
   "metadata": {},
   "source": [
    "<div class=\"alert alert-warning\">\n",
    "<b>Комментарий ревьюера:</b>⚠️Немного не понятно как на основании скользящей средней был сделан такой вывол, тогда как минимум нужно смотреть отклонение и дисперсию, а лучше провести тест Дики-Фулера. </div>"
   ]
  },
  {
   "cell_type": "markdown",
   "metadata": {},
   "source": [
    "<div class=\"alert alert-info\"> <b>Комментарий студента:</b> Я сделал такой вывод, потому что со временем скользящее среднее растёт. </div>"
   ]
  },
  {
   "cell_type": "markdown",
   "metadata": {},
   "source": [
    "\n",
    "<div class=\"alert alert-success\">\n",
    "<b>Комментарий ревьюера v.2:</b> ✔️Скользящая средняя растет потомучто растет кол-во заказов, тогда нужно было бы ещё смотреть дисперсию и стандартное отклонение, если на этом временном ряду, расемплированном по часу сделать тест Дики-Фуллера, он определяется как стационарный.</div>"
   ]
  },
  {
   "cell_type": "code",
   "execution_count": 9,
   "metadata": {},
   "outputs": [
    {
     "data": {
      "image/png": "[encoded data removed]",
      "text/plain": [
       "<Figure size 432x288 with 1 Axes>"
      ]
     },
     "metadata": {
      "needs_background": "light"
     },
     "output_type": "display_data"
    },
    {
     "data": {
      "image/png": "[encoded data removed]",
      "text/plain": [
       "<Figure size 432x288 with 1 Axes>"
      ]
     },
     "metadata": {
      "needs_background": "light"
     },
     "output_type": "display_data"
    },
    {
     "data": {
      "text/plain": [
       "<AxesSubplot:title={'center':'Недельная сезонность'}, xlabel='datetime'>"
      ]
     },
     "execution_count": 9,
     "metadata": {},
     "output_type": "execute_result"
    },
    {
     "data": {
      "image/png": "[encoded data removed]",
      "text/plain": [
       "<Figure size 432x288 with 1 Axes>"
      ]
     },
     "metadata": {
      "needs_background": "light"
     },
     "output_type": "display_data"
    }
   ],
   "source": [
    "decomposed = seasonal_decompose(data.drop('rolling_mean', axis=1)) # разложение временного ряда\n",
    "plt.show()\n",
    "plt.title('Тренд')\n",
    "decomposed.trend.plot()                                            # построение тренда в разложении\n",
    "plt.show()\n",
    "plt.title('Часовая сезонность')\n",
    "decomposed.seasonal['2018-06-01':'2018-06-05'].plot()              # построение часовой сезонности в разложении\n",
    "\n",
    "data_D = data.resample('1D').sum()                                   # ресемплирование по дням\n",
    "decomposed = seasonal_decompose(data_D.drop('rolling_mean', axis=1)) # разложение временного ряда\n",
    "plt.show()\n",
    "plt.title('Недельная сезонность')\n",
    "decomposed.seasonal['2018-07-01':'2018-07-30'].plot()               # построение недельной сезонности в разложении\n",
    "\n"
   ]
  },
  {
   "cell_type": "markdown",
   "metadata": {},
   "source": [
    "<div class=\"alert alert-info\">\n",
    "    \n",
    "**Вывод**\n",
    "\n",
    "Из данных удалось выяснить, что тренд связан с временем года: чем ближе к бархатному сезону, тем выше спрос на такси.\n",
    "\n",
    "Что касается сезонности, то была выделена часовая сезонность: спрос на такси днём и особенно поздно вечером и спад спроса рано утром. Кроме того выделена недельная сезонность: спады спроса по вторникам и воскресеньям и особвый спрос в понедельник и перед выходными."
   ]
  },
  {
   "cell_type": "markdown",
   "metadata": {},
   "source": [
    "## Обучение"
   ]
  },
  {
   "cell_type": "markdown",
   "metadata": {},
   "source": [
    "Добавленное скользящее среднее - признак, однако, одного призака, наверное, маловато, добавим ещё, учитывая определённый тренд и сезонности."
   ]
  },
  {
   "cell_type": "markdown",
   "metadata": {},
   "source": [
    "### Добавление признаков"
   ]
  },
  {
   "cell_type": "code",
   "execution_count": 10,
   "metadata": {},
   "outputs": [
    {
     "data": {
      "text/html": [
       "<div>\n",
       "<style scoped>\n",
       "    .dataframe tbody tr th:only-of-type {\n",
       "        vertical-align: middle;\n",
       "    }\n",
       "\n",
       "    .dataframe tbody tr th {\n",
       "        vertical-align: top;\n",
       "    }\n",
       "\n",
       "    .dataframe thead th {\n",
       "        text-align: right;\n",
       "    }\n",
       "</style>\n",
       "<table border=\"1\" class=\"dataframe\">\n",
       "  <thead>\n",
       "    <tr style=\"text-align: right;\">\n",
       "      <th></th>\n",
       "      <th>num_orders</th>\n",
       "      <th>rolling_mean</th>\n",
       "      <th>month</th>\n",
       "      <th>dayofweek</th>\n",
       "      <th>hour</th>\n",
       "    </tr>\n",
       "    <tr>\n",
       "      <th>datetime</th>\n",
       "      <th></th>\n",
       "      <th></th>\n",
       "      <th></th>\n",
       "      <th></th>\n",
       "      <th></th>\n",
       "    </tr>\n",
       "  </thead>\n",
       "  <tbody>\n",
       "    <tr>\n",
       "      <th>2018-03-01 00:00:00</th>\n",
       "      <td>124</td>\n",
       "      <td>NaN</td>\n",
       "      <td>3</td>\n",
       "      <td>3</td>\n",
       "      <td>0</td>\n",
       "    </tr>\n",
       "    <tr>\n",
       "      <th>2018-03-01 01:00:00</th>\n",
       "      <td>85</td>\n",
       "      <td>NaN</td>\n",
       "      <td>3</td>\n",
       "      <td>3</td>\n",
       "      <td>1</td>\n",
       "    </tr>\n",
       "    <tr>\n",
       "      <th>2018-03-01 02:00:00</th>\n",
       "      <td>71</td>\n",
       "      <td>NaN</td>\n",
       "      <td>3</td>\n",
       "      <td>3</td>\n",
       "      <td>2</td>\n",
       "    </tr>\n",
       "    <tr>\n",
       "      <th>2018-03-01 03:00:00</th>\n",
       "      <td>66</td>\n",
       "      <td>NaN</td>\n",
       "      <td>3</td>\n",
       "      <td>3</td>\n",
       "      <td>3</td>\n",
       "    </tr>\n",
       "    <tr>\n",
       "      <th>2018-03-01 04:00:00</th>\n",
       "      <td>43</td>\n",
       "      <td>NaN</td>\n",
       "      <td>3</td>\n",
       "      <td>3</td>\n",
       "      <td>4</td>\n",
       "    </tr>\n",
       "  </tbody>\n",
       "</table>\n",
       "</div>"
      ],
      "text/plain": [
       "                     num_orders  rolling_mean  month  dayofweek  hour\n",
       "datetime                                                             \n",
       "2018-03-01 00:00:00         124           NaN      3          3     0\n",
       "2018-03-01 01:00:00          85           NaN      3          3     1\n",
       "2018-03-01 02:00:00          71           NaN      3          3     2\n",
       "2018-03-01 03:00:00          66           NaN      3          3     3\n",
       "2018-03-01 04:00:00          43           NaN      3          3     4"
      ]
     },
     "execution_count": 10,
     "metadata": {},
     "output_type": "execute_result"
    }
   ],
   "source": [
    "data['month'] = data.index.month                                # выделение признака - месяц   \n",
    "data['dayofweek'] = data.index.dayofweek                        # выделение признака - день недели\n",
    "data['hour'] = data.index.hour                                  # выделение признака - час\n",
    "data.head()"
   ]
  },
  {
   "cell_type": "markdown",
   "metadata": {},
   "source": [
    "<div class=\"alert alert-danger\">\n",
    "<b>Комментарий ревьюера:</b>  ❌Призаки формируются на основании сезонностей, пико, трендов, чтобы их определить нам нужен более чательный анализ, посмотреть например функцию декомпозиции на разных интервалах времени. Сезонности бываю:\n",
    "Часовая - днем, меньше чем вечером\n",
    "Недельная - во вторник больше, чем в среду например\n",
    "Месячная- в апреле меньше, чем в марте например и т.д.\n",
    "В гашем случае есть лишнии и недастающие признаки.\n",
    "</div>"
   ]
  },
  {
   "cell_type": "markdown",
   "metadata": {},
   "source": [
    "<div class=\"alert alert-info\"> <b>Комментарий студента:</b> Из признаков убрал смещённые значения и день заказа, добавил признак, который упустил: час заказа. </div>"
   ]
  },
  {
   "cell_type": "markdown",
   "metadata": {},
   "source": [
    "\n",
    "<div class=\"alert alert-success\">\n",
    "<b>Комментарий ревьюера v.2:</b> ✔️Смещенные значения лучше оставить, скользящую среднюю взять ближе к суткам.</div>"
   ]
  },
  {
   "cell_type": "markdown",
   "metadata": {},
   "source": [
    "### Создание выборок"
   ]
  },
  {
   "cell_type": "code",
   "execution_count": 11,
   "metadata": {
    "scrolled": true
   },
   "outputs": [
    {
     "name": "stdout",
     "output_type": "stream",
     "text": [
      "Начало обучающей выборки: 2018-03-01 09:00:00\n",
      "Начало валидационной выборки: 2018-07-26 06:00:00\n",
      "Конец выборки обучающая+валидационная: 2018-08-13 14:00:00\n",
      "Начало тестовой выборки: 2018-08-13 15:00:00\n",
      "Размер обучающей выборки: (3525, 5)\n",
      "Размер валидационной выборки: (441, 5)\n",
      "Размер тестовой выборки: (441, 5)\n"
     ]
    }
   ],
   "source": [
    "data = data.dropna()                                                          # удаление пропусков\n",
    "train_valid, test = train_test_split(data, shuffle=False, test_size=0.1)      # разбиение выборки на тестовую и оставшуюся\n",
    "train, valid = train_test_split(train_valid, shuffle=False, test_size=0.111)   # разбиение оставшейся выборки на обучающую\n",
    "                                                                              # и валидационную\n",
    "print('Начало обучающей выборки:', train.index.min())\n",
    "print('Начало валидационной выборки:',valid.index.min())\n",
    "print('Конец выборки обучающая+валидационная:', train_valid.index.max())\n",
    "print('Начало тестовой выборки:', test.index.min())\n",
    "print('Размер обучающей выборки:', train.shape)\n",
    "print('Размер валидационной выборки:', valid.shape)\n",
    "print('Размер тестовой выборки:', test.shape)"
   ]
  },
  {
   "cell_type": "markdown",
   "metadata": {},
   "source": [
    "<div class=\"alert alert-warning\">\n",
    "<b>Комментарий ревьюера:</b>⚠️Размер вал выборки лучше взять 10%.</div>"
   ]
  },
  {
   "cell_type": "markdown",
   "metadata": {},
   "source": [
    "<div class=\"alert alert-info\"> <b>Комментарий студента:</b> Размер валидационной выборки исправил. </div>"
   ]
  },
  {
   "cell_type": "markdown",
   "metadata": {},
   "source": [
    "**Вывод**\n",
    "\n",
    "Данные в выборках расположены в хронологическом порядке: обучающая выборка, валидационная, затем тестовая."
   ]
  },
  {
   "cell_type": "markdown",
   "metadata": {},
   "source": [
    "### Выделение признаков"
   ]
  },
  {
   "cell_type": "code",
   "execution_count": 12,
   "metadata": {},
   "outputs": [],
   "source": [
    "features_train = train.drop('num_orders', axis=1)\n",
    "target_train = train['num_orders']\n",
    "\n",
    "features_valid = valid.drop('num_orders', axis=1)\n",
    "target_valid = valid['num_orders']\n",
    "\n",
    "features_test = test.drop('num_orders', axis=1)\n",
    "target_test = test['num_orders']\n",
    "\n",
    "features_train_valid = train_valid.drop('num_orders', axis=1)\n",
    "target_train_valid = train_valid['num_orders']"
   ]
  },
  {
   "cell_type": "markdown",
   "metadata": {},
   "source": [
    "### Модель линейной регрессии"
   ]
  },
  {
   "cell_type": "code",
   "execution_count": 13,
   "metadata": {},
   "outputs": [
    {
     "name": "stdout",
     "output_type": "stream",
     "text": [
      "RMSE для линейной регрессии: 44.40964681683839\n"
     ]
    }
   ],
   "source": [
    "model = LinearRegression()\n",
    "\n",
    "model.fit(features_train, target_train)\n",
    "\n",
    "predictions_valid = model.predict(features_valid)\n",
    "RMSE = mean_squared_error(target_valid, predictions_valid) ** 0.5\n",
    "print('RMSE для линейной регрессии:', RMSE)"
   ]
  },
  {
   "cell_type": "markdown",
   "metadata": {},
   "source": [
    "### Модель случайного леса"
   ]
  },
  {
   "cell_type": "code",
   "execution_count": 14,
   "metadata": {},
   "outputs": [
    {
     "name": "stdout",
     "output_type": "stream",
     "text": [
      "Лучее значение RMSE 28.8980533258076 при максимальной глубине деревьев 14 и количестве деревьев 120\n"
     ]
    }
   ],
   "source": [
    "RMSE_best = 100                                        # начальное значение RMSE\n",
    "for estimator in range(90,130,10):                     # цикл по количеству решающих деревьев\n",
    "    for depth in range(2,16):                          # цикл по максимальной глубине деревьев\n",
    "        model_forest = RandomForestRegressor(random_state = 12345, max_depth = depth, n_estimators = estimator)\n",
    "        model_forest.fit(features_train, target_train)\n",
    "\n",
    "        predictions_valid = model_forest.predict(features_valid)\n",
    "        RMSE = mean_squared_error(target_valid, predictions_valid) ** 0.5\n",
    "        if RMSE < RMSE_best:\n",
    "            model_forest_best = model_forest\n",
    "            RMSE_best = RMSE\n",
    "            max_depth_best = depth\n",
    "            estimator_best = estimator\n",
    "print(f'Лучее значение RMSE {RMSE_best} при максимальной глубине деревьев {max_depth_best} и количестве деревьев {estimator_best}')"
   ]
  },
  {
   "cell_type": "markdown",
   "metadata": {},
   "source": [
    "### Заполнение средним"
   ]
  },
  {
   "cell_type": "code",
   "execution_count": 15,
   "metadata": {},
   "outputs": [
    {
     "name": "stdout",
     "output_type": "stream",
     "text": [
      "RMSE при заполнении средним:  58.20261338395182\n"
     ]
    }
   ],
   "source": [
    "mean = target_train.mean()\n",
    "predictions_valid = mean * np.ones(len(target_valid))\n",
    "RMSE = mean_squared_error(target_valid, predictions_valid) ** 0.5\n",
    "print('RMSE при заполнении средним: ', RMSE)"
   ]
  },
  {
   "cell_type": "markdown",
   "metadata": {},
   "source": [
    "**Вывод**\n",
    "\n",
    "Несмотря на варьирование гиперпараметров модели случайного леса, лучшую метрику на валидационной выборке показала линейная регрессия. "
   ]
  },
  {
   "cell_type": "markdown",
   "metadata": {},
   "source": [
    "## Тестирование"
   ]
  },
  {
   "cell_type": "markdown",
   "metadata": {},
   "source": [
    "В качестве рабочей возьмём модель линейной регрессии, ведь она показала лучшие результаты. В качестве выборки для обучения возьмём и обучающую и валидационную выборку."
   ]
  },
  {
   "cell_type": "code",
   "execution_count": 16,
   "metadata": {
    "scrolled": true
   },
   "outputs": [
    {
     "name": "stdout",
     "output_type": "stream",
     "text": [
      "RMSE для модели линейной регрессии на тестовой выборке: 40.72313105853528\n"
     ]
    }
   ],
   "source": [
    "model_forest_best.fit(features_train_valid, target_train_valid)   # обучение модели случ. леса на выборке обуч.+валид.\n",
    "\n",
    "predictions_test = model_forest_best.predict(features_test)\n",
    "RMSE = mean_squared_error(target_test, predictions_test) ** 0.5\n",
    "print('RMSE для модели линейной регрессии на тестовой выборке:', RMSE)"
   ]
  },
  {
   "cell_type": "code",
   "execution_count": 17,
   "metadata": {},
   "outputs": [
    {
     "data": {
      "image/png": "[encoded data removed]",
      "text/plain": [
       "<Figure size 432x288 with 1 Axes>"
      ]
     },
     "metadata": {
      "needs_background": "light"
     },
     "output_type": "display_data"
    }
   ],
   "source": [
    "a=np.array(target_test, np.int32)\n",
    "b=np.array(predictions_test, np.int32)\n",
    "\n",
    "plt.plot(a, color = 'red', label = 'Historical data')\n",
    "plt.plot(b, color = 'blue', label='Predicted data')\n",
    "plt.legend()\n",
    "plt.show()"
   ]
  },
  {
   "cell_type": "markdown",
   "metadata": {},
   "source": [
    "**Вывод**\n",
    "\n",
    "Метрика качества предсказаний превышает пороговую."
   ]
  },
  {
   "cell_type": "markdown",
   "metadata": {},
   "source": [
    "## Вывод"
   ]
  },
  {
   "cell_type": "markdown",
   "metadata": {},
   "source": [
    "В ходе построения прогноза количества заказов такси на следующий час было прведено ресемплирование данных по 1 часу. Были построены графики временного ряда. Скользящее среднее показало, что ряд нестационарный, а разложение временного ряда указало на тренд - зависимость спроса от месяца - чем ближе к бархатному сезону, тем спрос выше. Были определены сезонности:\n",
    "- дневная (спрос такси вечером и его отсутствие рано утром)\n",
    "- недельная (спрос по понедельникам и в конце недели и его падение в воскресенье и вторник)\n",
    "\n",
    "В ходе обучения моделей были добавлены признаки на основе резульатов разложения рада: месяц, день недели, час.\n",
    "Были рассмотрены модели линейной регрессии, случайного леса и простое заполнение средним. Лучший результат показала модель случайного леса, она и отправилась на тест.\n",
    "\n",
    "Результат: RMSE для модели случайного леса при максимальной глубине деревьев 14 и количестве деревьев 120 на тестовой выборке: 40.72. "
   ]
  },
  {
   "cell_type": "markdown",
   "metadata": {},
   "source": [
    "<div class=\"alert alert-success\">\n",
    "<b>Итоговый комментарий ревьюера </b> Михаил  , была проделана хорошая  работа, спасибо тебе. Но кое что нужно поправить:\n",
    "    \n",
    "- Работа хорошо структуирована.\n",
    "- Но на анлиз уделено мало внимания, поэтому мы не смогли сформировать все признаки верно.\n",
    "- Можно посмотреть декомпозицию на разных отрезках времени, возможно уже на этом этапе обнаружишь признак, который нам не нужен.\n",
    "- Хорошо что используешь валидационную выборку, она защитит нас от переобучения, но её размер тоже лучше взять 10%.\n",
    "- В конце лучше построить график таргета и прогноза, чтоб увидеть как работает наша модель, качественный анализ временных рядов не возможен без графиков\n",
    "- Отсавлю статью, может будет интересна https://habr.com/ru/company/ods/blog/327242/.\n",
    "    \n",
    "    Жду твоих исправлений их не так много. Рад буду ответить на вопросы, если они есть.\n"
   ]
  },
  {
   "cell_type": "markdown",
   "metadata": {},
   "source": [
    "\n",
    "<div class=\"alert alert-success\">\n",
    "<b>Комментарий ревьюера v.2:</b> ✔️Михаил, проект принят, целевых показателей мы добились. Посмотри на комментарии, которые я оставил. Пример графика я тебе оставил, лучше не игнорировать комменатрии, а задать вопрос если не опнятно,  цель и задча ревьюера помочь.)\n",
    "\n",
    "Удачи!)</div>"
   ]
  },
  {
   "cell_type": "markdown",
   "metadata": {},
   "source": [
    "## Чек-лист проверки"
   ]
  },
  {
   "cell_type": "markdown",
   "metadata": {},
   "source": [
    "- [x]  Jupyter Notebook открыт\n",
    "- [x]  Весь код выполняется без ошибок\n",
    "- [x]  Ячейки с кодом расположены в порядке исполнения\n",
    "- [x]  Данные загружены и подготовлены\n",
    "- [x]  Данные проанализированы\n",
    "- [x]  Модель обучена, гиперпараметры подобраны\n",
    "- [x]  Качество моделей проверено, выводы сделаны\n",
    "- [x]  Значение *RMSE* на тестовой выборке не больше 48"
   ]
  },
  {
   "cell_type": "code",
   "execution_count": null,
   "metadata": {},
   "outputs": [],
   "source": []
  }
 ],
 "metadata": {
  "ExecuteTimeLog": [
   {
    "duration": 438,
    "start_time": "2022-06-06T12:34:36.611Z"
   },
   {
    "duration": 69,
    "start_time": "2022-06-06T12:34:37.052Z"
   },
   {
    "duration": 107,
    "start_time": "2022-06-06T12:34:43.948Z"
   },
   {
    "duration": 13,
    "start_time": "2022-06-06T12:39:00.518Z"
   },
   {
    "duration": 44,
    "start_time": "2022-06-06T12:46:26.944Z"
   },
   {
    "duration": 12,
    "start_time": "2022-06-06T12:46:29.684Z"
   },
   {
    "duration": 41,
    "start_time": "2022-06-06T12:48:33.442Z"
   },
   {
    "duration": 10,
    "start_time": "2022-06-06T12:48:35.782Z"
   },
   {
    "duration": 13,
    "start_time": "2022-06-06T12:49:01.308Z"
   },
   {
    "duration": 46,
    "start_time": "2022-06-06T12:51:40.011Z"
   },
   {
    "duration": 6,
    "start_time": "2022-06-06T12:53:38.558Z"
   },
   {
    "duration": 30,
    "start_time": "2022-06-06T12:53:41.904Z"
   },
   {
    "duration": 45,
    "start_time": "2022-06-06T12:53:45.751Z"
   },
   {
    "duration": 7,
    "start_time": "2022-06-06T12:53:48.384Z"
   },
   {
    "duration": 11,
    "start_time": "2022-06-06T12:53:50.727Z"
   },
   {
    "duration": 698,
    "start_time": "2022-06-06T12:56:35.637Z"
   },
   {
    "duration": 234,
    "start_time": "2022-06-06T12:58:23.264Z"
   },
   {
    "duration": 232,
    "start_time": "2022-06-06T12:59:05.602Z"
   },
   {
    "duration": 235,
    "start_time": "2022-06-06T12:59:21.688Z"
   },
   {
    "duration": 540,
    "start_time": "2022-06-06T13:00:32.917Z"
   },
   {
    "duration": 45,
    "start_time": "2022-06-06T13:01:40.858Z"
   },
   {
    "duration": 6,
    "start_time": "2022-06-06T13:01:44.288Z"
   },
   {
    "duration": 11,
    "start_time": "2022-06-06T13:01:47.353Z"
   },
   {
    "duration": 201,
    "start_time": "2022-06-06T13:01:50.249Z"
   },
   {
    "duration": 233,
    "start_time": "2022-06-06T13:01:53.121Z"
   },
   {
    "duration": 45,
    "start_time": "2022-06-06T13:03:07.277Z"
   },
   {
    "duration": 3,
    "start_time": "2022-06-06T13:03:18.077Z"
   },
   {
    "duration": 9,
    "start_time": "2022-06-06T13:03:20.501Z"
   },
   {
    "duration": 45,
    "start_time": "2022-06-06T13:03:22.597Z"
   },
   {
    "duration": 9,
    "start_time": "2022-06-06T13:03:24.228Z"
   },
   {
    "duration": 3,
    "start_time": "2022-06-06T13:03:28.800Z"
   },
   {
    "duration": 47,
    "start_time": "2022-06-06T13:03:28.805Z"
   },
   {
    "duration": 11,
    "start_time": "2022-06-06T13:03:28.854Z"
   },
   {
    "duration": 6,
    "start_time": "2022-06-06T13:03:28.867Z"
   },
   {
    "duration": 13,
    "start_time": "2022-06-06T13:03:28.875Z"
   },
   {
    "duration": 306,
    "start_time": "2022-06-06T13:03:28.890Z"
   },
   {
    "duration": 245,
    "start_time": "2022-06-06T13:03:29.198Z"
   },
   {
    "duration": 10,
    "start_time": "2022-06-06T13:03:29.444Z"
   },
   {
    "duration": 24,
    "start_time": "2022-06-06T13:04:42.704Z"
   },
   {
    "duration": 240,
    "start_time": "2022-06-06T13:04:51.786Z"
   },
   {
    "duration": 22,
    "start_time": "2022-06-06T13:04:55.609Z"
   },
   {
    "duration": 23,
    "start_time": "2022-06-06T13:05:05.282Z"
   },
   {
    "duration": 8,
    "start_time": "2022-06-06T13:05:27.480Z"
   },
   {
    "duration": 203,
    "start_time": "2022-06-06T13:05:50.038Z"
   },
   {
    "duration": 218,
    "start_time": "2022-06-06T13:06:53.452Z"
   },
   {
    "duration": 486,
    "start_time": "2022-06-06T13:07:22.233Z"
   },
   {
    "duration": 372,
    "start_time": "2022-06-06T13:08:36.999Z"
   },
   {
    "duration": 348,
    "start_time": "2022-06-06T13:08:55.221Z"
   },
   {
    "duration": 78,
    "start_time": "2022-06-06T13:17:13.974Z"
   },
   {
    "duration": 18,
    "start_time": "2022-06-06T13:20:12.477Z"
   },
   {
    "duration": 8,
    "start_time": "2022-06-06T13:20:26.078Z"
   },
   {
    "duration": 8,
    "start_time": "2022-06-06T13:20:41.274Z"
   },
   {
    "duration": 6,
    "start_time": "2022-06-06T13:25:33.942Z"
   },
   {
    "duration": 9,
    "start_time": "2022-06-06T13:27:50.783Z"
   },
   {
    "duration": 23,
    "start_time": "2022-06-06T13:27:58.017Z"
   },
   {
    "duration": 45,
    "start_time": "2022-06-06T13:27:58.042Z"
   },
   {
    "duration": 10,
    "start_time": "2022-06-06T13:27:58.088Z"
   },
   {
    "duration": 7,
    "start_time": "2022-06-06T13:27:58.101Z"
   },
   {
    "duration": 14,
    "start_time": "2022-06-06T13:27:58.110Z"
   },
   {
    "duration": 216,
    "start_time": "2022-06-06T13:27:58.127Z"
   },
   {
    "duration": 249,
    "start_time": "2022-06-06T13:27:58.345Z"
   },
   {
    "duration": 462,
    "start_time": "2022-06-06T13:27:58.596Z"
   },
   {
    "duration": 8,
    "start_time": "2022-06-06T13:27:59.060Z"
   },
   {
    "duration": 5,
    "start_time": "2022-06-06T13:27:59.071Z"
   },
   {
    "duration": 22,
    "start_time": "2022-06-06T13:27:59.077Z"
   },
   {
    "duration": 10,
    "start_time": "2022-06-06T13:28:43.197Z"
   },
   {
    "duration": 6,
    "start_time": "2022-06-06T13:28:48.349Z"
   },
   {
    "duration": 7,
    "start_time": "2022-06-06T13:28:51.990Z"
   },
   {
    "duration": 6,
    "start_time": "2022-06-06T13:31:15.047Z"
   },
   {
    "duration": 12,
    "start_time": "2022-06-06T13:32:11.508Z"
   },
   {
    "duration": 9,
    "start_time": "2022-06-06T13:32:18.516Z"
   },
   {
    "duration": 1535,
    "start_time": "2022-06-07T12:48:01.012Z"
   },
   {
    "duration": 116,
    "start_time": "2022-06-07T12:48:02.549Z"
   },
   {
    "duration": 11,
    "start_time": "2022-06-07T12:48:02.667Z"
   },
   {
    "duration": 43,
    "start_time": "2022-06-07T12:48:02.680Z"
   },
   {
    "duration": 48,
    "start_time": "2022-06-07T12:48:02.725Z"
   },
   {
    "duration": 284,
    "start_time": "2022-06-07T12:48:02.775Z"
   },
   {
    "duration": 276,
    "start_time": "2022-06-07T12:48:03.060Z"
   },
   {
    "duration": 381,
    "start_time": "2022-06-07T12:48:03.338Z"
   },
   {
    "duration": 142,
    "start_time": "2022-06-07T12:48:55.341Z"
   },
   {
    "duration": 13,
    "start_time": "2022-06-07T12:49:16.380Z"
   },
   {
    "duration": 14,
    "start_time": "2022-06-07T12:49:37.371Z"
   },
   {
    "duration": 6,
    "start_time": "2022-06-07T12:49:42.115Z"
   },
   {
    "duration": 11,
    "start_time": "2022-06-07T12:49:45.138Z"
   },
   {
    "duration": 11,
    "start_time": "2022-06-07T12:49:52.024Z"
   },
   {
    "duration": 4,
    "start_time": "2022-06-07T12:53:56.167Z"
   },
   {
    "duration": 27,
    "start_time": "2022-06-07T12:54:00.672Z"
   },
   {
    "duration": 353,
    "start_time": "2022-06-07T12:55:05.686Z"
   },
   {
    "duration": 159,
    "start_time": "2022-06-07T12:59:19.598Z"
   },
   {
    "duration": 1816,
    "start_time": "2022-06-07T12:59:35.935Z"
   },
   {
    "duration": 1817,
    "start_time": "2022-06-07T12:59:51.709Z"
   },
   {
    "duration": 1782,
    "start_time": "2022-06-07T13:01:03.673Z"
   },
   {
    "duration": 6271,
    "start_time": "2022-06-07T13:01:16.531Z"
   },
   {
    "duration": 3115,
    "start_time": "2022-06-07T13:01:32.079Z"
   },
   {
    "duration": 22950,
    "start_time": "2022-06-07T13:05:18.668Z"
   },
   {
    "duration": 16341,
    "start_time": "2022-06-07T13:05:49.980Z"
   },
   {
    "duration": 16566,
    "start_time": "2022-06-07T13:06:24.072Z"
   },
   {
    "duration": 22377,
    "start_time": "2022-06-07T13:07:27.272Z"
   },
   {
    "duration": 27455,
    "start_time": "2022-06-07T13:08:14.668Z"
   },
   {
    "duration": 27203,
    "start_time": "2022-06-07T13:09:38.316Z"
   },
   {
    "duration": 27719,
    "start_time": "2022-06-07T13:10:36.432Z"
   },
   {
    "duration": 22520,
    "start_time": "2022-06-07T13:11:26.630Z"
   },
   {
    "duration": 27657,
    "start_time": "2022-06-07T13:12:18.110Z"
   },
   {
    "duration": 11,
    "start_time": "2022-06-07T13:13:38.632Z"
   },
   {
    "duration": 11,
    "start_time": "2022-06-07T13:13:44.668Z"
   },
   {
    "duration": 9,
    "start_time": "2022-06-07T13:17:31.229Z"
   },
   {
    "duration": 3,
    "start_time": "2022-06-07T13:17:49.641Z"
   },
   {
    "duration": 3,
    "start_time": "2022-06-07T13:17:55.589Z"
   },
   {
    "duration": 6,
    "start_time": "2022-06-07T13:18:15.387Z"
   },
   {
    "duration": 4,
    "start_time": "2022-06-07T13:18:48.909Z"
   },
   {
    "duration": 10,
    "start_time": "2022-06-07T13:19:59.584Z"
   },
   {
    "duration": 9,
    "start_time": "2022-06-07T13:20:12.817Z"
   },
   {
    "duration": 10,
    "start_time": "2022-06-07T13:20:26.316Z"
   },
   {
    "duration": 8,
    "start_time": "2022-06-07T13:21:14.237Z"
   },
   {
    "duration": 8,
    "start_time": "2022-06-07T13:21:28.020Z"
   },
   {
    "duration": 11,
    "start_time": "2022-06-07T13:23:43.061Z"
   },
   {
    "duration": 10,
    "start_time": "2022-06-07T13:25:21.075Z"
   },
   {
    "duration": 10,
    "start_time": "2022-06-07T13:25:52.921Z"
   },
   {
    "duration": 6,
    "start_time": "2022-06-07T13:26:16.921Z"
   },
   {
    "duration": 9,
    "start_time": "2022-06-07T13:26:19.936Z"
   },
   {
    "duration": 53664,
    "start_time": "2022-06-07T13:26:39.530Z"
   },
   {
    "duration": 15,
    "start_time": "2022-06-07T13:27:44.370Z"
   },
   {
    "duration": 8,
    "start_time": "2022-06-07T13:27:56.461Z"
   },
   {
    "duration": 6,
    "start_time": "2022-06-07T13:28:06.117Z"
   },
   {
    "duration": 3,
    "start_time": "2022-06-07T13:29:28.173Z"
   },
   {
    "duration": 10,
    "start_time": "2022-06-07T13:29:34.761Z"
   },
   {
    "duration": 51259,
    "start_time": "2022-06-07T13:29:38.333Z"
   },
   {
    "duration": 6,
    "start_time": "2022-06-07T13:30:36.238Z"
   },
   {
    "duration": 5,
    "start_time": "2022-06-07T13:30:41.909Z"
   },
   {
    "duration": 14,
    "start_time": "2022-06-07T13:31:55.817Z"
   },
   {
    "duration": 3,
    "start_time": "2022-06-07T13:32:04.637Z"
   },
   {
    "duration": 69,
    "start_time": "2022-06-07T13:32:04.642Z"
   },
   {
    "duration": 9,
    "start_time": "2022-06-07T13:32:04.713Z"
   },
   {
    "duration": 36,
    "start_time": "2022-06-07T13:32:04.724Z"
   },
   {
    "duration": 11,
    "start_time": "2022-06-07T13:32:56.281Z"
   },
   {
    "duration": 217,
    "start_time": "2022-06-07T13:32:59.229Z"
   },
   {
    "duration": 256,
    "start_time": "2022-06-07T13:33:03.017Z"
   },
   {
    "duration": 479,
    "start_time": "2022-06-07T13:33:07.766Z"
   },
   {
    "duration": 13,
    "start_time": "2022-06-07T13:33:15.409Z"
   },
   {
    "duration": 9,
    "start_time": "2022-06-07T13:33:18.309Z"
   },
   {
    "duration": 7,
    "start_time": "2022-06-07T13:33:20.313Z"
   },
   {
    "duration": 8,
    "start_time": "2022-06-07T13:33:22.313Z"
   },
   {
    "duration": 51720,
    "start_time": "2022-06-07T13:33:25.211Z"
   },
   {
    "duration": 5,
    "start_time": "2022-06-07T13:38:18.704Z"
   },
   {
    "duration": 693,
    "start_time": "2022-06-07T13:39:17.091Z"
   },
   {
    "duration": 11,
    "start_time": "2022-06-07T13:40:39.599Z"
   },
   {
    "duration": 10,
    "start_time": "2022-06-07T13:40:50.896Z"
   },
   {
    "duration": 11,
    "start_time": "2022-06-07T13:40:58.865Z"
   },
   {
    "duration": 10,
    "start_time": "2022-06-07T13:41:36.107Z"
   },
   {
    "duration": 15,
    "start_time": "2022-06-07T13:51:06.898Z"
   },
   {
    "duration": 10,
    "start_time": "2022-06-07T13:51:11.098Z"
   },
   {
    "duration": 7,
    "start_time": "2022-06-07T13:51:13.746Z"
   },
   {
    "duration": 9,
    "start_time": "2022-06-07T13:51:15.643Z"
   },
   {
    "duration": 73628,
    "start_time": "2022-06-07T13:51:27.483Z"
   },
   {
    "duration": 1018,
    "start_time": "2022-06-07T13:56:09.592Z"
   },
   {
    "duration": 13,
    "start_time": "2022-06-07T13:56:43.513Z"
   },
   {
    "duration": 17,
    "start_time": "2022-06-07T13:56:51.954Z"
   },
   {
    "duration": 10,
    "start_time": "2022-06-07T13:56:54.812Z"
   },
   {
    "duration": 12,
    "start_time": "2022-06-07T13:58:00.607Z"
   },
   {
    "duration": 7,
    "start_time": "2022-06-07T13:58:02.492Z"
   },
   {
    "duration": 11,
    "start_time": "2022-06-07T13:58:05.496Z"
   },
   {
    "duration": 64397,
    "start_time": "2022-06-07T13:58:15.603Z"
   },
   {
    "duration": 1257,
    "start_time": "2022-06-07T13:59:27.396Z"
   },
   {
    "duration": 47,
    "start_time": "2022-06-07T14:00:14.745Z"
   },
   {
    "duration": 432,
    "start_time": "2022-06-07T14:00:18.490Z"
   },
   {
    "duration": 4,
    "start_time": "2022-06-07T14:00:27.193Z"
   },
   {
    "duration": 67,
    "start_time": "2022-06-07T14:00:27.199Z"
   },
   {
    "duration": 12,
    "start_time": "2022-06-07T14:00:27.268Z"
   },
   {
    "duration": 8,
    "start_time": "2022-06-07T14:00:27.282Z"
   },
   {
    "duration": 21,
    "start_time": "2022-06-07T14:00:27.292Z"
   },
   {
    "duration": 337,
    "start_time": "2022-06-07T14:00:27.315Z"
   },
   {
    "duration": 229,
    "start_time": "2022-06-07T14:00:27.658Z"
   },
   {
    "duration": 390,
    "start_time": "2022-06-07T14:00:32.698Z"
   },
   {
    "duration": 18,
    "start_time": "2022-06-07T14:00:42.202Z"
   },
   {
    "duration": 19,
    "start_time": "2022-06-07T14:01:56.458Z"
   },
   {
    "duration": 18,
    "start_time": "2022-06-07T14:02:27.744Z"
   },
   {
    "duration": 23,
    "start_time": "2022-06-07T14:04:00.993Z"
   },
   {
    "duration": 13,
    "start_time": "2022-06-07T14:04:03.703Z"
   },
   {
    "duration": 9,
    "start_time": "2022-06-07T14:04:05.787Z"
   },
   {
    "duration": 109,
    "start_time": "2022-06-07T14:04:08.161Z"
   },
   {
    "duration": 18,
    "start_time": "2022-06-07T14:04:21.500Z"
   },
   {
    "duration": 4,
    "start_time": "2022-06-07T14:04:26.777Z"
   },
   {
    "duration": 58,
    "start_time": "2022-06-07T14:04:26.783Z"
   },
   {
    "duration": 9,
    "start_time": "2022-06-07T14:04:26.843Z"
   },
   {
    "duration": 7,
    "start_time": "2022-06-07T14:04:26.853Z"
   },
   {
    "duration": 13,
    "start_time": "2022-06-07T14:04:26.862Z"
   },
   {
    "duration": 235,
    "start_time": "2022-06-07T14:04:26.876Z"
   },
   {
    "duration": 266,
    "start_time": "2022-06-07T14:04:27.113Z"
   },
   {
    "duration": 507,
    "start_time": "2022-06-07T14:04:27.381Z"
   },
   {
    "duration": 21,
    "start_time": "2022-06-07T14:04:32.440Z"
   },
   {
    "duration": 13,
    "start_time": "2022-06-07T14:04:35.659Z"
   },
   {
    "duration": 7,
    "start_time": "2022-06-07T14:04:37.952Z"
   },
   {
    "duration": 16,
    "start_time": "2022-06-07T14:04:40.256Z"
   },
   {
    "duration": 101525,
    "start_time": "2022-06-07T14:04:43.048Z"
   },
   {
    "duration": 4,
    "start_time": "2022-06-07T14:06:39.209Z"
   },
   {
    "duration": 9,
    "start_time": "2022-06-07T14:06:48.283Z"
   },
   {
    "duration": 12,
    "start_time": "2022-06-07T14:07:52.001Z"
   },
   {
    "duration": 682,
    "start_time": "2022-06-07T14:23:32.261Z"
   },
   {
    "duration": 715,
    "start_time": "2022-06-07T14:23:49.845Z"
   },
   {
    "duration": 3,
    "start_time": "2022-06-07T14:23:57.580Z"
   },
   {
    "duration": 48,
    "start_time": "2022-06-07T14:23:57.586Z"
   },
   {
    "duration": 9,
    "start_time": "2022-06-07T14:23:57.636Z"
   },
   {
    "duration": 7,
    "start_time": "2022-06-07T14:23:57.647Z"
   },
   {
    "duration": 13,
    "start_time": "2022-06-07T14:23:57.656Z"
   },
   {
    "duration": 210,
    "start_time": "2022-06-07T14:23:57.670Z"
   },
   {
    "duration": 245,
    "start_time": "2022-06-07T14:23:59.974Z"
   },
   {
    "duration": 11,
    "start_time": "2022-06-07T14:32:22.777Z"
   },
   {
    "duration": 14,
    "start_time": "2022-06-07T14:35:49.076Z"
   },
   {
    "duration": 15,
    "start_time": "2022-06-07T14:36:12.674Z"
   },
   {
    "duration": 3,
    "start_time": "2022-06-07T14:57:57.594Z"
   },
   {
    "duration": 54,
    "start_time": "2022-06-07T14:57:57.600Z"
   },
   {
    "duration": 9,
    "start_time": "2022-06-07T14:57:57.656Z"
   },
   {
    "duration": 16,
    "start_time": "2022-06-07T14:57:57.667Z"
   },
   {
    "duration": 25,
    "start_time": "2022-06-07T14:57:57.684Z"
   },
   {
    "duration": 351,
    "start_time": "2022-06-07T14:57:57.710Z"
   },
   {
    "duration": 228,
    "start_time": "2022-06-07T14:57:58.063Z"
   },
   {
    "duration": 360,
    "start_time": "2022-06-07T14:57:58.293Z"
   },
   {
    "duration": 19,
    "start_time": "2022-06-07T14:57:58.658Z"
   },
   {
    "duration": 18,
    "start_time": "2022-06-07T14:57:58.678Z"
   },
   {
    "duration": 30,
    "start_time": "2022-06-07T14:57:58.697Z"
   },
   {
    "duration": 231,
    "start_time": "2022-06-07T14:57:58.728Z"
   },
   {
    "duration": 100128,
    "start_time": "2022-06-07T14:57:58.961Z"
   },
   {
    "duration": 4,
    "start_time": "2022-06-07T14:59:39.091Z"
   },
   {
    "duration": 18,
    "start_time": "2022-06-07T14:59:39.097Z"
   },
   {
    "duration": 18,
    "start_time": "2022-06-07T14:59:55.671Z"
   },
   {
    "duration": 15,
    "start_time": "2022-06-07T15:00:02.810Z"
   },
   {
    "duration": 8,
    "start_time": "2022-06-07T15:00:05.010Z"
   },
   {
    "duration": 19,
    "start_time": "2022-06-07T15:00:07.159Z"
   },
   {
    "duration": 5,
    "start_time": "2022-06-07T15:00:11.025Z"
   },
   {
    "duration": 10,
    "start_time": "2022-06-07T15:00:13.610Z"
   },
   {
    "duration": 4,
    "start_time": "2022-06-07T15:00:32.055Z"
   },
   {
    "duration": 71,
    "start_time": "2022-06-07T15:00:32.062Z"
   },
   {
    "duration": 12,
    "start_time": "2022-06-07T15:00:32.135Z"
   },
   {
    "duration": 51,
    "start_time": "2022-06-07T15:00:32.149Z"
   },
   {
    "duration": 19,
    "start_time": "2022-06-07T15:00:32.204Z"
   },
   {
    "duration": 240,
    "start_time": "2022-06-07T15:00:32.225Z"
   },
   {
    "duration": 271,
    "start_time": "2022-06-07T15:00:32.470Z"
   },
   {
    "duration": 451,
    "start_time": "2022-06-07T15:00:32.743Z"
   },
   {
    "duration": 20,
    "start_time": "2022-06-07T15:00:33.196Z"
   },
   {
    "duration": 13,
    "start_time": "2022-06-07T15:00:33.218Z"
   },
   {
    "duration": 30,
    "start_time": "2022-06-07T15:00:33.233Z"
   },
   {
    "duration": 27,
    "start_time": "2022-06-07T15:00:33.265Z"
   },
   {
    "duration": 105972,
    "start_time": "2022-06-07T15:00:33.360Z"
   },
   {
    "duration": 5,
    "start_time": "2022-06-07T15:02:19.334Z"
   },
   {
    "duration": 28,
    "start_time": "2022-06-07T15:02:19.340Z"
   },
   {
    "duration": 5,
    "start_time": "2022-06-07T15:03:58.111Z"
   },
   {
    "duration": 41,
    "start_time": "2022-06-07T20:42:06.101Z"
   },
   {
    "duration": 32,
    "start_time": "2022-06-07T20:44:23.248Z"
   },
   {
    "duration": 71,
    "start_time": "2022-06-07T20:45:17.972Z"
   },
   {
    "duration": 1133,
    "start_time": "2022-06-07T20:56:50.530Z"
   },
   {
    "duration": 43,
    "start_time": "2022-06-07T20:56:51.665Z"
   },
   {
    "duration": 9,
    "start_time": "2022-06-07T20:56:51.709Z"
   },
   {
    "duration": 8,
    "start_time": "2022-06-07T20:56:51.719Z"
   },
   {
    "duration": 10,
    "start_time": "2022-06-07T20:56:51.728Z"
   },
   {
    "duration": 218,
    "start_time": "2022-06-07T20:56:51.739Z"
   },
   {
    "duration": 207,
    "start_time": "2022-06-07T20:56:51.958Z"
   },
   {
    "duration": 324,
    "start_time": "2022-06-07T20:56:52.167Z"
   },
   {
    "duration": 19,
    "start_time": "2022-06-07T20:56:52.492Z"
   },
   {
    "duration": 19,
    "start_time": "2022-06-07T20:56:52.513Z"
   },
   {
    "duration": 6,
    "start_time": "2022-06-07T20:56:52.534Z"
   },
   {
    "duration": 185,
    "start_time": "2022-06-07T20:56:52.542Z"
   },
   {
    "duration": 88161,
    "start_time": "2022-06-07T20:56:52.729Z"
   },
   {
    "duration": 5,
    "start_time": "2022-06-07T20:58:20.892Z"
   },
   {
    "duration": 12,
    "start_time": "2022-06-07T20:58:20.899Z"
   },
   {
    "duration": 1496,
    "start_time": "2022-06-08T12:40:58.300Z"
   },
   {
    "duration": 169,
    "start_time": "2022-06-08T12:40:59.798Z"
   },
   {
    "duration": 13,
    "start_time": "2022-06-08T12:40:59.971Z"
   },
   {
    "duration": 10,
    "start_time": "2022-06-08T12:40:59.986Z"
   },
   {
    "duration": 15,
    "start_time": "2022-06-08T12:40:59.998Z"
   },
   {
    "duration": 268,
    "start_time": "2022-06-08T12:41:00.015Z"
   },
   {
    "duration": 265,
    "start_time": "2022-06-08T12:41:00.285Z"
   },
   {
    "duration": 368,
    "start_time": "2022-06-08T12:41:08.433Z"
   },
   {
    "duration": 458,
    "start_time": "2022-06-08T12:41:18.945Z"
   },
   {
    "duration": 393,
    "start_time": "2022-06-08T12:41:26.593Z"
   },
   {
    "duration": 403,
    "start_time": "2022-06-08T12:43:03.565Z"
   },
   {
    "duration": 381,
    "start_time": "2022-06-08T12:45:36.436Z"
   },
   {
    "duration": 687,
    "start_time": "2022-06-08T12:46:53.601Z"
   },
   {
    "duration": 15,
    "start_time": "2022-06-08T12:49:16.858Z"
   },
   {
    "duration": 12,
    "start_time": "2022-06-08T12:49:20.061Z"
   },
   {
    "duration": 7,
    "start_time": "2022-06-08T12:49:22.778Z"
   },
   {
    "duration": 12,
    "start_time": "2022-06-08T12:49:25.089Z"
   },
   {
    "duration": 4,
    "start_time": "2022-06-08T12:49:30.328Z"
   },
   {
    "duration": 9,
    "start_time": "2022-06-08T12:49:32.528Z"
   },
   {
    "duration": 14,
    "start_time": "2022-06-08T12:49:46.303Z"
   },
   {
    "duration": 3,
    "start_time": "2022-06-08T12:49:51.704Z"
   },
   {
    "duration": 53,
    "start_time": "2022-06-08T12:49:51.709Z"
   },
   {
    "duration": 10,
    "start_time": "2022-06-08T12:49:51.764Z"
   },
   {
    "duration": 14,
    "start_time": "2022-06-08T12:49:51.775Z"
   },
   {
    "duration": 18,
    "start_time": "2022-06-08T12:49:51.791Z"
   },
   {
    "duration": 246,
    "start_time": "2022-06-08T12:49:51.810Z"
   },
   {
    "duration": 261,
    "start_time": "2022-06-08T12:49:52.058Z"
   },
   {
    "duration": 706,
    "start_time": "2022-06-08T12:49:52.321Z"
   },
   {
    "duration": 14,
    "start_time": "2022-06-08T12:49:59.679Z"
   },
   {
    "duration": 13,
    "start_time": "2022-06-08T12:50:02.565Z"
   },
   {
    "duration": 6,
    "start_time": "2022-06-08T12:50:05.063Z"
   },
   {
    "duration": 11,
    "start_time": "2022-06-08T12:50:07.254Z"
   },
   {
    "duration": 13,
    "start_time": "2022-06-08T12:51:38.043Z"
   },
   {
    "duration": 26,
    "start_time": "2022-06-08T12:52:11.856Z"
   },
   {
    "duration": 4,
    "start_time": "2022-06-08T12:52:16.853Z"
   },
   {
    "duration": 64,
    "start_time": "2022-06-08T12:52:16.859Z"
   },
   {
    "duration": 11,
    "start_time": "2022-06-08T12:52:16.925Z"
   },
   {
    "duration": 8,
    "start_time": "2022-06-08T12:52:16.938Z"
   },
   {
    "duration": 11,
    "start_time": "2022-06-08T12:52:16.952Z"
   },
   {
    "duration": 379,
    "start_time": "2022-06-08T12:52:16.965Z"
   },
   {
    "duration": 277,
    "start_time": "2022-06-08T12:52:17.346Z"
   },
   {
    "duration": 787,
    "start_time": "2022-06-08T12:52:17.625Z"
   },
   {
    "duration": 39,
    "start_time": "2022-06-08T12:52:18.414Z"
   },
   {
    "duration": 17,
    "start_time": "2022-06-08T12:52:22.880Z"
   },
   {
    "duration": 8,
    "start_time": "2022-06-08T12:52:25.047Z"
   },
   {
    "duration": 62,
    "start_time": "2022-06-08T12:52:27.999Z"
   },
   {
    "duration": 13,
    "start_time": "2022-06-08T12:52:33.679Z"
   },
   {
    "duration": 4,
    "start_time": "2022-06-08T12:52:51.722Z"
   },
   {
    "duration": 70,
    "start_time": "2022-06-08T12:52:51.727Z"
   },
   {
    "duration": 15,
    "start_time": "2022-06-08T12:52:51.798Z"
   },
   {
    "duration": 9,
    "start_time": "2022-06-08T12:52:51.815Z"
   },
   {
    "duration": 21,
    "start_time": "2022-06-08T12:52:51.826Z"
   },
   {
    "duration": 268,
    "start_time": "2022-06-08T12:52:51.854Z"
   },
   {
    "duration": 263,
    "start_time": "2022-06-08T12:52:52.124Z"
   },
   {
    "duration": 814,
    "start_time": "2022-06-08T12:52:52.389Z"
   },
   {
    "duration": 29,
    "start_time": "2022-06-08T12:52:53.206Z"
   },
   {
    "duration": 18,
    "start_time": "2022-06-08T12:52:56.362Z"
   },
   {
    "duration": 14,
    "start_time": "2022-06-08T12:53:41.196Z"
   },
   {
    "duration": 4,
    "start_time": "2022-06-08T12:54:11.315Z"
   },
   {
    "duration": 57,
    "start_time": "2022-06-08T12:54:11.322Z"
   },
   {
    "duration": 11,
    "start_time": "2022-06-08T12:54:11.381Z"
   },
   {
    "duration": 8,
    "start_time": "2022-06-08T12:54:11.395Z"
   },
   {
    "duration": 19,
    "start_time": "2022-06-08T12:54:11.405Z"
   },
   {
    "duration": 294,
    "start_time": "2022-06-08T12:54:11.426Z"
   },
   {
    "duration": 254,
    "start_time": "2022-06-08T12:54:11.722Z"
   },
   {
    "duration": 731,
    "start_time": "2022-06-08T12:54:11.978Z"
   },
   {
    "duration": 28,
    "start_time": "2022-06-08T12:54:12.711Z"
   },
   {
    "duration": 13,
    "start_time": "2022-06-08T12:54:17.530Z"
   },
   {
    "duration": 12,
    "start_time": "2022-06-08T12:55:10.722Z"
   },
   {
    "duration": 9,
    "start_time": "2022-06-08T12:55:15.367Z"
   },
   {
    "duration": 16,
    "start_time": "2022-06-08T12:55:17.600Z"
   },
   {
    "duration": 6,
    "start_time": "2022-06-08T12:55:24.736Z"
   },
   {
    "duration": 13,
    "start_time": "2022-06-08T12:55:27.247Z"
   },
   {
    "duration": 205,
    "start_time": "2022-06-08T12:59:40.933Z"
   },
   {
    "duration": 4,
    "start_time": "2022-06-08T12:59:44.937Z"
   },
   {
    "duration": 63,
    "start_time": "2022-06-08T12:59:44.943Z"
   },
   {
    "duration": 13,
    "start_time": "2022-06-08T12:59:45.008Z"
   },
   {
    "duration": 8,
    "start_time": "2022-06-08T12:59:45.023Z"
   },
   {
    "duration": 17,
    "start_time": "2022-06-08T12:59:45.034Z"
   },
   {
    "duration": 266,
    "start_time": "2022-06-08T12:59:45.053Z"
   },
   {
    "duration": 265,
    "start_time": "2022-06-08T12:59:45.321Z"
   },
   {
    "duration": 1049,
    "start_time": "2022-06-08T12:59:49.532Z"
   },
   {
    "duration": 562,
    "start_time": "2022-06-08T13:00:11.219Z"
   },
   {
    "duration": 571,
    "start_time": "2022-06-08T13:00:41.377Z"
   },
   {
    "duration": 424,
    "start_time": "2022-06-08T13:03:27.344Z"
   },
   {
    "duration": 383,
    "start_time": "2022-06-08T13:04:11.153Z"
   },
   {
    "duration": 395,
    "start_time": "2022-06-08T13:04:35.583Z"
   },
   {
    "duration": 951,
    "start_time": "2022-06-08T13:05:14.900Z"
   },
   {
    "duration": 819,
    "start_time": "2022-06-08T13:05:36.324Z"
   },
   {
    "duration": 851,
    "start_time": "2022-06-08T13:06:00.042Z"
   },
   {
    "duration": 849,
    "start_time": "2022-06-08T13:07:31.596Z"
   },
   {
    "duration": 740,
    "start_time": "2022-06-08T13:07:52.949Z"
   },
   {
    "duration": 701,
    "start_time": "2022-06-08T13:09:16.000Z"
   },
   {
    "duration": 559,
    "start_time": "2022-06-08T13:13:34.075Z"
   },
   {
    "duration": 534,
    "start_time": "2022-06-08T13:16:17.036Z"
   },
   {
    "duration": 9,
    "start_time": "2022-06-08T13:19:45.138Z"
   },
   {
    "duration": 8,
    "start_time": "2022-06-08T13:19:59.501Z"
   },
   {
    "duration": 25,
    "start_time": "2022-06-08T13:25:44.474Z"
   },
   {
    "duration": 12,
    "start_time": "2022-06-08T13:25:47.434Z"
   },
   {
    "duration": 7,
    "start_time": "2022-06-08T13:25:50.017Z"
   },
   {
    "duration": 9,
    "start_time": "2022-06-08T13:25:52.104Z"
   },
   {
    "duration": 5,
    "start_time": "2022-06-08T13:25:55.312Z"
   },
   {
    "duration": 9,
    "start_time": "2022-06-08T13:25:57.657Z"
   },
   {
    "duration": 18,
    "start_time": "2022-06-08T13:27:01.110Z"
   },
   {
    "duration": 3,
    "start_time": "2022-06-08T13:27:04.654Z"
   },
   {
    "duration": 48,
    "start_time": "2022-06-08T13:27:04.658Z"
   },
   {
    "duration": 9,
    "start_time": "2022-06-08T13:27:04.708Z"
   },
   {
    "duration": 6,
    "start_time": "2022-06-08T13:27:04.719Z"
   },
   {
    "duration": 13,
    "start_time": "2022-06-08T13:27:04.726Z"
   },
   {
    "duration": 200,
    "start_time": "2022-06-08T13:27:04.740Z"
   },
   {
    "duration": 223,
    "start_time": "2022-06-08T13:27:04.941Z"
   },
   {
    "duration": 489,
    "start_time": "2022-06-08T13:27:05.165Z"
   },
   {
    "duration": 12,
    "start_time": "2022-06-08T13:27:08.541Z"
   },
   {
    "duration": 11,
    "start_time": "2022-06-08T13:27:15.501Z"
   },
   {
    "duration": 6,
    "start_time": "2022-06-08T13:27:18.124Z"
   },
   {
    "duration": 10,
    "start_time": "2022-06-08T13:27:20.076Z"
   },
   {
    "duration": 8,
    "start_time": "2022-06-08T13:27:23.900Z"
   },
   {
    "duration": 40127,
    "start_time": "2022-06-08T13:27:27.805Z"
   },
   {
    "duration": 701,
    "start_time": "2022-06-08T13:29:39.318Z"
   },
   {
    "duration": 9,
    "start_time": "2022-06-08T13:30:08.940Z"
   },
   {
    "duration": 21788,
    "start_time": "2022-06-08T13:30:27.643Z"
   },
   {
    "duration": 5,
    "start_time": "2022-06-08T13:30:54.634Z"
   },
   {
    "duration": 692,
    "start_time": "2022-06-08T13:30:56.634Z"
   },
   {
    "duration": 683,
    "start_time": "2022-06-08T13:31:10.649Z"
   },
   {
    "duration": 3,
    "start_time": "2022-06-08T13:31:48.970Z"
   },
   {
    "duration": 49,
    "start_time": "2022-06-08T13:31:48.975Z"
   },
   {
    "duration": 9,
    "start_time": "2022-06-08T13:31:49.025Z"
   },
   {
    "duration": 6,
    "start_time": "2022-06-08T13:31:49.036Z"
   },
   {
    "duration": 12,
    "start_time": "2022-06-08T13:31:49.043Z"
   },
   {
    "duration": 196,
    "start_time": "2022-06-08T13:31:49.057Z"
   },
   {
    "duration": 378,
    "start_time": "2022-06-08T13:31:49.254Z"
   },
   {
    "duration": 492,
    "start_time": "2022-06-08T13:31:49.634Z"
   },
   {
    "duration": 29,
    "start_time": "2022-06-08T13:31:50.129Z"
   },
   {
    "duration": 12,
    "start_time": "2022-06-08T13:31:50.160Z"
   },
   {
    "duration": 7,
    "start_time": "2022-06-08T13:31:50.173Z"
   },
   {
    "duration": 9,
    "start_time": "2022-06-08T13:31:50.181Z"
   },
   {
    "duration": 21109,
    "start_time": "2022-06-08T13:31:50.191Z"
   },
   {
    "duration": 4,
    "start_time": "2022-06-08T13:32:11.302Z"
   },
   {
    "duration": 683,
    "start_time": "2022-06-08T13:32:11.307Z"
   },
   {
    "duration": 40,
    "start_time": "2022-06-09T08:42:26.099Z"
   },
   {
    "duration": 1293,
    "start_time": "2022-06-09T08:51:02.183Z"
   },
   {
    "duration": 141,
    "start_time": "2022-06-09T08:51:03.478Z"
   },
   {
    "duration": 12,
    "start_time": "2022-06-09T08:51:03.621Z"
   },
   {
    "duration": 17,
    "start_time": "2022-06-09T08:51:03.634Z"
   },
   {
    "duration": 11,
    "start_time": "2022-06-09T08:51:03.652Z"
   },
   {
    "duration": 198,
    "start_time": "2022-06-09T08:51:03.665Z"
   },
   {
    "duration": 224,
    "start_time": "2022-06-09T08:51:03.864Z"
   },
   {
    "duration": 514,
    "start_time": "2022-06-09T08:51:04.089Z"
   },
   {
    "duration": 12,
    "start_time": "2022-06-09T08:51:04.605Z"
   },
   {
    "duration": 17,
    "start_time": "2022-06-09T08:51:04.618Z"
   },
   {
    "duration": 21,
    "start_time": "2022-06-09T08:51:04.636Z"
   },
   {
    "duration": 20,
    "start_time": "2022-06-09T08:51:04.659Z"
   },
   {
    "duration": 19515,
    "start_time": "2022-06-09T08:51:04.684Z"
   },
   {
    "duration": 4,
    "start_time": "2022-06-09T08:51:24.201Z"
   },
   {
    "duration": 665,
    "start_time": "2022-06-09T08:51:24.206Z"
   },
   {
    "duration": 123,
    "start_time": "2022-06-09T08:51:24.873Z"
   }
  ],
  "kernelspec": {
   "display_name": "Python 3 (ipykernel)",
   "language": "python",
   "name": "python3"
  },
  "language_info": {
   "codemirror_mode": {
    "name": "ipython",
    "version": 3
   },
   "file_extension": ".py",
   "mimetype": "text/x-python",
   "name": "python",
   "nbconvert_exporter": "python",
   "pygments_lexer": "ipython3",
   "version": "3.9.5"
  },
  "toc": {
   "base_numbering": 1,
   "nav_menu": {},
   "number_sections": true,
   "sideBar": true,
   "skip_h1_title": true,
   "title_cell": "Содержание",
   "title_sidebar": "Contents",
   "toc_cell": true,
   "toc_position": {},
   "toc_section_display": true,
   "toc_window_display": true
  }
 },
 "nbformat": 4,
 "nbformat_minor": 2
}
