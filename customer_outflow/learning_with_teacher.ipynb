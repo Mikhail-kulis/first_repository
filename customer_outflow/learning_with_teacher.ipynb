{
 "cells": [
  {
   "cell_type": "markdown",
   "metadata": {
    "toc": true
   },
   "source": [
    "<h1>Содержание<span class=\"tocSkip\"></span></h1>\n",
    "<div class=\"toc\"><ul class=\"toc-item\"><li><span><a href=\"#Импорт-библиотек\" data-toc-modified-id=\"Импорт-библиотек-1\"><span class=\"toc-item-num\">1&nbsp;&nbsp;</span>Импорт библиотек</a></span></li><li><span><a href=\"#Подготовка-данных\" data-toc-modified-id=\"Подготовка-данных-2\"><span class=\"toc-item-num\">2&nbsp;&nbsp;</span>Подготовка данных</a></span><ul class=\"toc-item\"><li><span><a href=\"#Избавление-от-пропусков\" data-toc-modified-id=\"Избавление-от-пропусков-2.1\"><span class=\"toc-item-num\">2.1&nbsp;&nbsp;</span>Избавление от пропусков</a></span></li></ul></li><li><span><a href=\"#Исследование-задачи\" data-toc-modified-id=\"Исследование-задачи-3\"><span class=\"toc-item-num\">3&nbsp;&nbsp;</span>Исследование задачи</a></span><ul class=\"toc-item\"><li><span><a href=\"#Модель-случайного-леса-без-учёта-дисбаланса\" data-toc-modified-id=\"Модель-случайного-леса-без-учёта-дисбаланса-3.1\"><span class=\"toc-item-num\">3.1&nbsp;&nbsp;</span>Модель случайного леса без учёта дисбаланса</a></span></li></ul></li><li><span><a href=\"#Борьба-с-дисбалансом\" data-toc-modified-id=\"Борьба-с-дисбалансом-4\"><span class=\"toc-item-num\">4&nbsp;&nbsp;</span>Борьба с дисбалансом</a></span></li><li><span><a href=\"#Тестирование-модели\" data-toc-modified-id=\"Тестирование-модели-5\"><span class=\"toc-item-num\">5&nbsp;&nbsp;</span>Тестирование модели</a></span></li><li><span><a href=\"#Чек-лист-готовности-проекта\" data-toc-modified-id=\"Чек-лист-готовности-проекта-6\"><span class=\"toc-item-num\">6&nbsp;&nbsp;</span>Чек-лист готовности проекта</a></span></li></ul></div>"
   ]
  },
  {
   "cell_type": "markdown",
   "metadata": {},
   "source": [
    "# Отток клиентов"
   ]
  },
  {
   "cell_type": "markdown",
   "metadata": {},
   "source": [
    "Из «Бета-Банка» стали уходить клиенты. Каждый месяц. Немного, но заметно. Банковские маркетологи посчитали: сохранять текущих клиентов дешевле, чем привлекать новых.\n",
    "\n",
    "Нужно спрогнозировать, уйдёт клиент из банка в ближайшее время или нет. Вам предоставлены исторические данные о поведении клиентов и расторжении договоров с банком. \n",
    "\n",
    "Постройте модель с предельно большим значением *F1*-меры. Чтобы сдать проект успешно, нужно довести метрику до 0.59. Проверьте *F1*-меру на тестовой выборке самостоятельно.\n",
    "\n",
    "Дополнительно измеряйте *AUC-ROC*, сравнивайте её значение с *F1*-мерой.\n",
    "\n",
    "Источник данных: [https://www.kaggle.com/barelydedicated/bank-customer-churn-modeling](https://www.kaggle.com/barelydedicated/bank-customer-churn-modeling)"
   ]
  },
  {
   "cell_type": "markdown",
   "metadata": {},
   "source": [
    "## Импорт библиотек"
   ]
  },
  {
   "cell_type": "code",
   "execution_count": 1,
   "metadata": {},
   "outputs": [],
   "source": [
    "import pandas as pd  # импорт библиотеки pandas \n",
    "import numpy as np   # импорт библиотеки numpy\n",
    "from sklearn.model_selection import train_test_split\n",
    "from sklearn.preprocessing import StandardScaler    # импорт структуры для стандартизации данных\n",
    "from sklearn.ensemble import RandomForestClassifier  # импорт модели случайного леса\n",
    "from sklearn.metrics import accuracy_score\n",
    "from sklearn.metrics import f1_score\n",
    "from sklearn.metrics import roc_auc_score"
   ]
  },
  {
   "cell_type": "markdown",
   "metadata": {},
   "source": [
    "## Подготовка данных"
   ]
  },
  {
   "cell_type": "code",
   "execution_count": 2,
   "metadata": {},
   "outputs": [
    {
     "name": "stdout",
     "output_type": "stream",
     "text": [
      "<class 'pandas.core.frame.DataFrame'>\n",
      "RangeIndex: 10000 entries, 0 to 9999\n",
      "Data columns (total 14 columns):\n",
      " #   Column           Non-Null Count  Dtype  \n",
      "---  ------           --------------  -----  \n",
      " 0   RowNumber        10000 non-null  int64  \n",
      " 1   CustomerId       10000 non-null  int64  \n",
      " 2   Surname          10000 non-null  object \n",
      " 3   CreditScore      10000 non-null  int64  \n",
      " 4   Geography        10000 non-null  object \n",
      " 5   Gender           10000 non-null  object \n",
      " 6   Age              10000 non-null  int64  \n",
      " 7   Tenure           9091 non-null   float64\n",
      " 8   Balance          10000 non-null  float64\n",
      " 9   NumOfProducts    10000 non-null  int64  \n",
      " 10  HasCrCard        10000 non-null  int64  \n",
      " 11  IsActiveMember   10000 non-null  int64  \n",
      " 12  EstimatedSalary  10000 non-null  float64\n",
      " 13  Exited           10000 non-null  int64  \n",
      "dtypes: float64(3), int64(8), object(3)\n",
      "memory usage: 1.1+ MB\n"
     ]
    },
    {
     "data": {
      "text/html": [
       "<div>\n",
       "<style scoped>\n",
       "    .dataframe tbody tr th:only-of-type {\n",
       "        vertical-align: middle;\n",
       "    }\n",
       "\n",
       "    .dataframe tbody tr th {\n",
       "        vertical-align: top;\n",
       "    }\n",
       "\n",
       "    .dataframe thead th {\n",
       "        text-align: right;\n",
       "    }\n",
       "</style>\n",
       "<table border=\"1\" class=\"dataframe\">\n",
       "  <thead>\n",
       "    <tr style=\"text-align: right;\">\n",
       "      <th></th>\n",
       "      <th>RowNumber</th>\n",
       "      <th>CustomerId</th>\n",
       "      <th>Surname</th>\n",
       "      <th>CreditScore</th>\n",
       "      <th>Geography</th>\n",
       "      <th>Gender</th>\n",
       "      <th>Age</th>\n",
       "      <th>Tenure</th>\n",
       "      <th>Balance</th>\n",
       "      <th>NumOfProducts</th>\n",
       "      <th>HasCrCard</th>\n",
       "      <th>IsActiveMember</th>\n",
       "      <th>EstimatedSalary</th>\n",
       "      <th>Exited</th>\n",
       "    </tr>\n",
       "  </thead>\n",
       "  <tbody>\n",
       "    <tr>\n",
       "      <th>0</th>\n",
       "      <td>1</td>\n",
       "      <td>15634602</td>\n",
       "      <td>Hargrave</td>\n",
       "      <td>619</td>\n",
       "      <td>France</td>\n",
       "      <td>Female</td>\n",
       "      <td>42</td>\n",
       "      <td>2.0</td>\n",
       "      <td>0.00</td>\n",
       "      <td>1</td>\n",
       "      <td>1</td>\n",
       "      <td>1</td>\n",
       "      <td>101348.88</td>\n",
       "      <td>1</td>\n",
       "    </tr>\n",
       "    <tr>\n",
       "      <th>1</th>\n",
       "      <td>2</td>\n",
       "      <td>15647311</td>\n",
       "      <td>Hill</td>\n",
       "      <td>608</td>\n",
       "      <td>Spain</td>\n",
       "      <td>Female</td>\n",
       "      <td>41</td>\n",
       "      <td>1.0</td>\n",
       "      <td>83807.86</td>\n",
       "      <td>1</td>\n",
       "      <td>0</td>\n",
       "      <td>1</td>\n",
       "      <td>112542.58</td>\n",
       "      <td>0</td>\n",
       "    </tr>\n",
       "    <tr>\n",
       "      <th>2</th>\n",
       "      <td>3</td>\n",
       "      <td>15619304</td>\n",
       "      <td>Onio</td>\n",
       "      <td>502</td>\n",
       "      <td>France</td>\n",
       "      <td>Female</td>\n",
       "      <td>42</td>\n",
       "      <td>8.0</td>\n",
       "      <td>159660.80</td>\n",
       "      <td>3</td>\n",
       "      <td>1</td>\n",
       "      <td>0</td>\n",
       "      <td>113931.57</td>\n",
       "      <td>1</td>\n",
       "    </tr>\n",
       "    <tr>\n",
       "      <th>3</th>\n",
       "      <td>4</td>\n",
       "      <td>15701354</td>\n",
       "      <td>Boni</td>\n",
       "      <td>699</td>\n",
       "      <td>France</td>\n",
       "      <td>Female</td>\n",
       "      <td>39</td>\n",
       "      <td>1.0</td>\n",
       "      <td>0.00</td>\n",
       "      <td>2</td>\n",
       "      <td>0</td>\n",
       "      <td>0</td>\n",
       "      <td>93826.63</td>\n",
       "      <td>0</td>\n",
       "    </tr>\n",
       "    <tr>\n",
       "      <th>4</th>\n",
       "      <td>5</td>\n",
       "      <td>15737888</td>\n",
       "      <td>Mitchell</td>\n",
       "      <td>850</td>\n",
       "      <td>Spain</td>\n",
       "      <td>Female</td>\n",
       "      <td>43</td>\n",
       "      <td>2.0</td>\n",
       "      <td>125510.82</td>\n",
       "      <td>1</td>\n",
       "      <td>1</td>\n",
       "      <td>1</td>\n",
       "      <td>79084.10</td>\n",
       "      <td>0</td>\n",
       "    </tr>\n",
       "  </tbody>\n",
       "</table>\n",
       "</div>"
      ],
      "text/plain": [
       "   RowNumber  CustomerId   Surname  CreditScore Geography  Gender  Age  \\\n",
       "0          1    15634602  Hargrave          619    France  Female   42   \n",
       "1          2    15647311      Hill          608     Spain  Female   41   \n",
       "2          3    15619304      Onio          502    France  Female   42   \n",
       "3          4    15701354      Boni          699    France  Female   39   \n",
       "4          5    15737888  Mitchell          850     Spain  Female   43   \n",
       "\n",
       "   Tenure    Balance  NumOfProducts  HasCrCard  IsActiveMember  \\\n",
       "0     2.0       0.00              1          1               1   \n",
       "1     1.0   83807.86              1          0               1   \n",
       "2     8.0  159660.80              3          1               0   \n",
       "3     1.0       0.00              2          0               0   \n",
       "4     2.0  125510.82              1          1               1   \n",
       "\n",
       "   EstimatedSalary  Exited  \n",
       "0        101348.88       1  \n",
       "1        112542.58       0  \n",
       "2        113931.57       1  \n",
       "3         93826.63       0  \n",
       "4         79084.10       0  "
      ]
     },
     "execution_count": 2,
     "metadata": {},
     "output_type": "execute_result"
    }
   ],
   "source": [
    "data = pd.read_csv('/datasets/Churn.csv')     # чтение файла\n",
    "data.info()                         # вывод информации о данных\n",
    "data.head()                         # вывод первых 5 строчек датафрейма"
   ]
  },
  {
   "cell_type": "markdown",
   "metadata": {},
   "source": [
    "**Вывод**\n",
    "\n",
    "Датафрейм содержит пропуски в графе срока владения картой. Названия столбцов не соответствуют принятому стилю. В датафрейме содержатся столбцы, которые никак не должны влиять на наш прогноз: индекс строки в данных, id покупателя, фамилия покупателя. Поэтому целесообразно создать новый датафрейм без лишних столбцов.\n",
    "\n"
   ]
  },
  {
   "cell_type": "code",
   "execution_count": 3,
   "metadata": {},
   "outputs": [
    {
     "data": {
      "text/html": [
       "<div>\n",
       "<style scoped>\n",
       "    .dataframe tbody tr th:only-of-type {\n",
       "        vertical-align: middle;\n",
       "    }\n",
       "\n",
       "    .dataframe tbody tr th {\n",
       "        vertical-align: top;\n",
       "    }\n",
       "\n",
       "    .dataframe thead th {\n",
       "        text-align: right;\n",
       "    }\n",
       "</style>\n",
       "<table border=\"1\" class=\"dataframe\">\n",
       "  <thead>\n",
       "    <tr style=\"text-align: right;\">\n",
       "      <th></th>\n",
       "      <th>rownumber</th>\n",
       "      <th>customerid</th>\n",
       "      <th>surname</th>\n",
       "      <th>creditscore</th>\n",
       "      <th>geography</th>\n",
       "      <th>gender</th>\n",
       "      <th>age</th>\n",
       "      <th>tenure</th>\n",
       "      <th>balance</th>\n",
       "      <th>numofproducts</th>\n",
       "      <th>hascrcard</th>\n",
       "      <th>isactivemember</th>\n",
       "      <th>estimatedsalary</th>\n",
       "      <th>exited</th>\n",
       "    </tr>\n",
       "  </thead>\n",
       "  <tbody>\n",
       "    <tr>\n",
       "      <th>0</th>\n",
       "      <td>1</td>\n",
       "      <td>15634602</td>\n",
       "      <td>Hargrave</td>\n",
       "      <td>619</td>\n",
       "      <td>France</td>\n",
       "      <td>Female</td>\n",
       "      <td>42</td>\n",
       "      <td>2.0</td>\n",
       "      <td>0.00</td>\n",
       "      <td>1</td>\n",
       "      <td>1</td>\n",
       "      <td>1</td>\n",
       "      <td>101348.88</td>\n",
       "      <td>1</td>\n",
       "    </tr>\n",
       "    <tr>\n",
       "      <th>1</th>\n",
       "      <td>2</td>\n",
       "      <td>15647311</td>\n",
       "      <td>Hill</td>\n",
       "      <td>608</td>\n",
       "      <td>Spain</td>\n",
       "      <td>Female</td>\n",
       "      <td>41</td>\n",
       "      <td>1.0</td>\n",
       "      <td>83807.86</td>\n",
       "      <td>1</td>\n",
       "      <td>0</td>\n",
       "      <td>1</td>\n",
       "      <td>112542.58</td>\n",
       "      <td>0</td>\n",
       "    </tr>\n",
       "    <tr>\n",
       "      <th>2</th>\n",
       "      <td>3</td>\n",
       "      <td>15619304</td>\n",
       "      <td>Onio</td>\n",
       "      <td>502</td>\n",
       "      <td>France</td>\n",
       "      <td>Female</td>\n",
       "      <td>42</td>\n",
       "      <td>8.0</td>\n",
       "      <td>159660.80</td>\n",
       "      <td>3</td>\n",
       "      <td>1</td>\n",
       "      <td>0</td>\n",
       "      <td>113931.57</td>\n",
       "      <td>1</td>\n",
       "    </tr>\n",
       "    <tr>\n",
       "      <th>3</th>\n",
       "      <td>4</td>\n",
       "      <td>15701354</td>\n",
       "      <td>Boni</td>\n",
       "      <td>699</td>\n",
       "      <td>France</td>\n",
       "      <td>Female</td>\n",
       "      <td>39</td>\n",
       "      <td>1.0</td>\n",
       "      <td>0.00</td>\n",
       "      <td>2</td>\n",
       "      <td>0</td>\n",
       "      <td>0</td>\n",
       "      <td>93826.63</td>\n",
       "      <td>0</td>\n",
       "    </tr>\n",
       "    <tr>\n",
       "      <th>4</th>\n",
       "      <td>5</td>\n",
       "      <td>15737888</td>\n",
       "      <td>Mitchell</td>\n",
       "      <td>850</td>\n",
       "      <td>Spain</td>\n",
       "      <td>Female</td>\n",
       "      <td>43</td>\n",
       "      <td>2.0</td>\n",
       "      <td>125510.82</td>\n",
       "      <td>1</td>\n",
       "      <td>1</td>\n",
       "      <td>1</td>\n",
       "      <td>79084.10</td>\n",
       "      <td>0</td>\n",
       "    </tr>\n",
       "  </tbody>\n",
       "</table>\n",
       "</div>"
      ],
      "text/plain": [
       "   rownumber  customerid   surname  creditscore geography  gender  age  \\\n",
       "0          1    15634602  Hargrave          619    France  Female   42   \n",
       "1          2    15647311      Hill          608     Spain  Female   41   \n",
       "2          3    15619304      Onio          502    France  Female   42   \n",
       "3          4    15701354      Boni          699    France  Female   39   \n",
       "4          5    15737888  Mitchell          850     Spain  Female   43   \n",
       "\n",
       "   tenure    balance  numofproducts  hascrcard  isactivemember  \\\n",
       "0     2.0       0.00              1          1               1   \n",
       "1     1.0   83807.86              1          0               1   \n",
       "2     8.0  159660.80              3          1               0   \n",
       "3     1.0       0.00              2          0               0   \n",
       "4     2.0  125510.82              1          1               1   \n",
       "\n",
       "   estimatedsalary  exited  \n",
       "0        101348.88       1  \n",
       "1        112542.58       0  \n",
       "2        113931.57       1  \n",
       "3         93826.63       0  \n",
       "4         79084.10       0  "
      ]
     },
     "execution_count": 3,
     "metadata": {},
     "output_type": "execute_result"
    }
   ],
   "source": [
    "data.columns = data.columns.str.lower()   # приведение названия колонок к принятому виду\n",
    "data.head()                               # вывод первых 5 строчек датафрейма  "
   ]
  },
  {
   "cell_type": "code",
   "execution_count": 4,
   "metadata": {},
   "outputs": [
    {
     "data": {
      "text/html": [
       "<div>\n",
       "<style scoped>\n",
       "    .dataframe tbody tr th:only-of-type {\n",
       "        vertical-align: middle;\n",
       "    }\n",
       "\n",
       "    .dataframe tbody tr th {\n",
       "        vertical-align: top;\n",
       "    }\n",
       "\n",
       "    .dataframe thead th {\n",
       "        text-align: right;\n",
       "    }\n",
       "</style>\n",
       "<table border=\"1\" class=\"dataframe\">\n",
       "  <thead>\n",
       "    <tr style=\"text-align: right;\">\n",
       "      <th></th>\n",
       "      <th>creditscore</th>\n",
       "      <th>geography</th>\n",
       "      <th>gender</th>\n",
       "      <th>age</th>\n",
       "      <th>tenure</th>\n",
       "      <th>balance</th>\n",
       "      <th>numofproducts</th>\n",
       "      <th>hascrcard</th>\n",
       "      <th>isactivemember</th>\n",
       "      <th>estimatedsalary</th>\n",
       "      <th>exited</th>\n",
       "    </tr>\n",
       "  </thead>\n",
       "  <tbody>\n",
       "    <tr>\n",
       "      <th>0</th>\n",
       "      <td>619</td>\n",
       "      <td>France</td>\n",
       "      <td>Female</td>\n",
       "      <td>42</td>\n",
       "      <td>2.0</td>\n",
       "      <td>0.00</td>\n",
       "      <td>1</td>\n",
       "      <td>1</td>\n",
       "      <td>1</td>\n",
       "      <td>101348.88</td>\n",
       "      <td>1</td>\n",
       "    </tr>\n",
       "    <tr>\n",
       "      <th>1</th>\n",
       "      <td>608</td>\n",
       "      <td>Spain</td>\n",
       "      <td>Female</td>\n",
       "      <td>41</td>\n",
       "      <td>1.0</td>\n",
       "      <td>83807.86</td>\n",
       "      <td>1</td>\n",
       "      <td>0</td>\n",
       "      <td>1</td>\n",
       "      <td>112542.58</td>\n",
       "      <td>0</td>\n",
       "    </tr>\n",
       "    <tr>\n",
       "      <th>2</th>\n",
       "      <td>502</td>\n",
       "      <td>France</td>\n",
       "      <td>Female</td>\n",
       "      <td>42</td>\n",
       "      <td>8.0</td>\n",
       "      <td>159660.80</td>\n",
       "      <td>3</td>\n",
       "      <td>1</td>\n",
       "      <td>0</td>\n",
       "      <td>113931.57</td>\n",
       "      <td>1</td>\n",
       "    </tr>\n",
       "    <tr>\n",
       "      <th>3</th>\n",
       "      <td>699</td>\n",
       "      <td>France</td>\n",
       "      <td>Female</td>\n",
       "      <td>39</td>\n",
       "      <td>1.0</td>\n",
       "      <td>0.00</td>\n",
       "      <td>2</td>\n",
       "      <td>0</td>\n",
       "      <td>0</td>\n",
       "      <td>93826.63</td>\n",
       "      <td>0</td>\n",
       "    </tr>\n",
       "    <tr>\n",
       "      <th>4</th>\n",
       "      <td>850</td>\n",
       "      <td>Spain</td>\n",
       "      <td>Female</td>\n",
       "      <td>43</td>\n",
       "      <td>2.0</td>\n",
       "      <td>125510.82</td>\n",
       "      <td>1</td>\n",
       "      <td>1</td>\n",
       "      <td>1</td>\n",
       "      <td>79084.10</td>\n",
       "      <td>0</td>\n",
       "    </tr>\n",
       "  </tbody>\n",
       "</table>\n",
       "</div>"
      ],
      "text/plain": [
       "   creditscore geography  gender  age  tenure    balance  numofproducts  \\\n",
       "0          619    France  Female   42     2.0       0.00              1   \n",
       "1          608     Spain  Female   41     1.0   83807.86              1   \n",
       "2          502    France  Female   42     8.0  159660.80              3   \n",
       "3          699    France  Female   39     1.0       0.00              2   \n",
       "4          850     Spain  Female   43     2.0  125510.82              1   \n",
       "\n",
       "   hascrcard  isactivemember  estimatedsalary  exited  \n",
       "0          1               1        101348.88       1  \n",
       "1          0               1        112542.58       0  \n",
       "2          1               0        113931.57       1  \n",
       "3          0               0         93826.63       0  \n",
       "4          1               1         79084.10       0  "
      ]
     },
     "execution_count": 4,
     "metadata": {},
     "output_type": "execute_result"
    }
   ],
   "source": [
    "df = data.drop(['rownumber', 'customerid', 'surname'], axis=1) # создаём датафрейм без лишней инфрмации\n",
    "df.head()                                                      # вывод первых 5 строчек датафрейма"
   ]
  },
  {
   "cell_type": "markdown",
   "metadata": {},
   "source": [
    "### Избавление от пропусков\n"
   ]
  },
  {
   "cell_type": "code",
   "execution_count": 5,
   "metadata": {},
   "outputs": [
    {
     "data": {
      "text/plain": [
       "1.0     952\n",
       "2.0     950\n",
       "8.0     933\n",
       "3.0     928\n",
       "5.0     927\n",
       "7.0     925\n",
       "4.0     885\n",
       "9.0     882\n",
       "6.0     881\n",
       "10.0    446\n",
       "0.0     382\n",
       "Name: tenure, dtype: int64"
      ]
     },
     "execution_count": 5,
     "metadata": {},
     "output_type": "execute_result"
    }
   ],
   "source": [
    "df['tenure'].value_counts()  # считаем распределение годов действия банковского договора"
   ]
  },
  {
   "cell_type": "markdown",
   "metadata": {},
   "source": [
    "**Вывод**\n",
    "\n",
    "Видна подозрительная просадка количества клиентов с договором 10-летней и 0-летней давности. Кроме того, подозрительно, что количество пропущенных значений в столбце 'tenure' идеально скомпенсировало бы просадки в годах договоров. Нужно обязательно связаться с поставщиком данной таблицы. У нас такой возможности нет.\n",
    "\n",
    "Будем предполагать, что на месте пропуска должна быть либо 10, либо 0. Поскольку мы не можем идентифицировать кому писать 10 лет, а кому 0, то будем заполнять пропуски случайно. Поскольку положение в таблице не как не связано с годом действия договора, то заполнение пропусков с чётным номером в таблице нулём, а нечётных - 10 тождественно случайному заполнению. "
   ]
  },
  {
   "cell_type": "code",
   "execution_count": 6,
   "metadata": {},
   "outputs": [
    {
     "name": "stdout",
     "output_type": "stream",
     "text": [
      "<class 'pandas.core.frame.DataFrame'>\n",
      "RangeIndex: 10000 entries, 0 to 9999\n",
      "Data columns (total 11 columns):\n",
      " #   Column           Non-Null Count  Dtype  \n",
      "---  ------           --------------  -----  \n",
      " 0   creditscore      10000 non-null  int64  \n",
      " 1   geography        10000 non-null  object \n",
      " 2   gender           10000 non-null  object \n",
      " 3   age              10000 non-null  int64  \n",
      " 4   tenure           10000 non-null  float64\n",
      " 5   balance          10000 non-null  float64\n",
      " 6   numofproducts    10000 non-null  int64  \n",
      " 7   hascrcard        10000 non-null  int64  \n",
      " 8   isactivemember   10000 non-null  int64  \n",
      " 9   estimatedsalary  10000 non-null  float64\n",
      " 10  exited           10000 non-null  int64  \n",
      "dtypes: float64(3), int64(6), object(2)\n",
      "memory usage: 859.5+ KB\n"
     ]
    },
    {
     "data": {
      "text/plain": [
       "1.0     952\n",
       "2.0     950\n",
       "8.0     933\n",
       "3.0     928\n",
       "5.0     927\n",
       "7.0     925\n",
       "4.0     885\n",
       "9.0     882\n",
       "6.0     881\n",
       "0.0     869\n",
       "10.0    868\n",
       "Name: tenure, dtype: int64"
      ]
     },
     "execution_count": 6,
     "metadata": {},
     "output_type": "execute_result"
    }
   ],
   "source": [
    "df.loc[(df['tenure'].isna()) & ((                                                                            # если встречаем\n",
    "    df['tenure'].index % 2) == 0)] = df[(df['tenure'].isna()) & ((df['tenure'].index % 2) == 0)].fillna(0)   # пропуск на чётном\n",
    "# месте, заполняем пропуск 0\n",
    "\n",
    "df.loc[(df['tenure'].isna()) & ((                                                                            # если встречаем\n",
    "    df['tenure'].index % 2) != 0)] = df[(df['tenure'].isna()) & ((df['tenure'].index % 2) != 0)].fillna(10)  # пропуск на \n",
    "# нечётном месте, заполняем пропуск 10\n",
    "df.info()                                                # смотрим, остались ли пропуски \n",
    "df['tenure'].value_counts()                              # смотрим распределение по годам действия банковского договора "
   ]
  },
  {
   "cell_type": "markdown",
   "metadata": {},
   "source": [
    "**Вывод**\n",
    "\n",
    "Нам удалось избавиться от пропусков. Просадки числа клиентов с 10-летними и 0-летними договорами компенсированы."
   ]
  },
  {
   "cell_type": "code",
   "execution_count": 7,
   "metadata": {},
   "outputs": [
    {
     "data": {
      "text/html": [
       "<div>\n",
       "<style scoped>\n",
       "    .dataframe tbody tr th:only-of-type {\n",
       "        vertical-align: middle;\n",
       "    }\n",
       "\n",
       "    .dataframe tbody tr th {\n",
       "        vertical-align: top;\n",
       "    }\n",
       "\n",
       "    .dataframe thead th {\n",
       "        text-align: right;\n",
       "    }\n",
       "</style>\n",
       "<table border=\"1\" class=\"dataframe\">\n",
       "  <thead>\n",
       "    <tr style=\"text-align: right;\">\n",
       "      <th></th>\n",
       "      <th>creditscore</th>\n",
       "      <th>age</th>\n",
       "      <th>tenure</th>\n",
       "      <th>balance</th>\n",
       "      <th>numofproducts</th>\n",
       "      <th>hascrcard</th>\n",
       "      <th>isactivemember</th>\n",
       "      <th>estimatedsalary</th>\n",
       "      <th>exited</th>\n",
       "      <th>geography_Germany</th>\n",
       "      <th>geography_Spain</th>\n",
       "      <th>gender_Male</th>\n",
       "    </tr>\n",
       "  </thead>\n",
       "  <tbody>\n",
       "    <tr>\n",
       "      <th>0</th>\n",
       "      <td>619</td>\n",
       "      <td>42</td>\n",
       "      <td>2.0</td>\n",
       "      <td>0.00</td>\n",
       "      <td>1</td>\n",
       "      <td>1</td>\n",
       "      <td>1</td>\n",
       "      <td>101348.88</td>\n",
       "      <td>1</td>\n",
       "      <td>0</td>\n",
       "      <td>0</td>\n",
       "      <td>0</td>\n",
       "    </tr>\n",
       "    <tr>\n",
       "      <th>1</th>\n",
       "      <td>608</td>\n",
       "      <td>41</td>\n",
       "      <td>1.0</td>\n",
       "      <td>83807.86</td>\n",
       "      <td>1</td>\n",
       "      <td>0</td>\n",
       "      <td>1</td>\n",
       "      <td>112542.58</td>\n",
       "      <td>0</td>\n",
       "      <td>0</td>\n",
       "      <td>1</td>\n",
       "      <td>0</td>\n",
       "    </tr>\n",
       "    <tr>\n",
       "      <th>2</th>\n",
       "      <td>502</td>\n",
       "      <td>42</td>\n",
       "      <td>8.0</td>\n",
       "      <td>159660.80</td>\n",
       "      <td>3</td>\n",
       "      <td>1</td>\n",
       "      <td>0</td>\n",
       "      <td>113931.57</td>\n",
       "      <td>1</td>\n",
       "      <td>0</td>\n",
       "      <td>0</td>\n",
       "      <td>0</td>\n",
       "    </tr>\n",
       "    <tr>\n",
       "      <th>3</th>\n",
       "      <td>699</td>\n",
       "      <td>39</td>\n",
       "      <td>1.0</td>\n",
       "      <td>0.00</td>\n",
       "      <td>2</td>\n",
       "      <td>0</td>\n",
       "      <td>0</td>\n",
       "      <td>93826.63</td>\n",
       "      <td>0</td>\n",
       "      <td>0</td>\n",
       "      <td>0</td>\n",
       "      <td>0</td>\n",
       "    </tr>\n",
       "    <tr>\n",
       "      <th>4</th>\n",
       "      <td>850</td>\n",
       "      <td>43</td>\n",
       "      <td>2.0</td>\n",
       "      <td>125510.82</td>\n",
       "      <td>1</td>\n",
       "      <td>1</td>\n",
       "      <td>1</td>\n",
       "      <td>79084.10</td>\n",
       "      <td>0</td>\n",
       "      <td>0</td>\n",
       "      <td>1</td>\n",
       "      <td>0</td>\n",
       "    </tr>\n",
       "  </tbody>\n",
       "</table>\n",
       "</div>"
      ],
      "text/plain": [
       "   creditscore  age  tenure    balance  numofproducts  hascrcard  \\\n",
       "0          619   42     2.0       0.00              1          1   \n",
       "1          608   41     1.0   83807.86              1          0   \n",
       "2          502   42     8.0  159660.80              3          1   \n",
       "3          699   39     1.0       0.00              2          0   \n",
       "4          850   43     2.0  125510.82              1          1   \n",
       "\n",
       "   isactivemember  estimatedsalary  exited  geography_Germany  \\\n",
       "0               1        101348.88       1                  0   \n",
       "1               1        112542.58       0                  0   \n",
       "2               0        113931.57       1                  0   \n",
       "3               0         93826.63       0                  0   \n",
       "4               1         79084.10       0                  0   \n",
       "\n",
       "   geography_Spain  gender_Male  \n",
       "0                0            0  \n",
       "1                1            0  \n",
       "2                0            0  \n",
       "3                0            0  \n",
       "4                1            0  "
      ]
     },
     "execution_count": 7,
     "metadata": {},
     "output_type": "execute_result"
    }
   ],
   "source": [
    "df = pd.get_dummies(df,drop_first=True)   # прямое кодирование категориальных величин\n",
    "df.head()                                 # вывод первых 5 строчек датафрейма"
   ]
  },
  {
   "cell_type": "markdown",
   "metadata": {},
   "source": [
    "## Исследование задачи"
   ]
  },
  {
   "cell_type": "markdown",
   "metadata": {},
   "source": [
    "### Баланс классов"
   ]
  },
  {
   "cell_type": "markdown",
   "metadata": {},
   "source": [
    "Посмотрим баланс двух классов: 'клиент ушёл' - 1, 'клиент остался' - 0."
   ]
  },
  {
   "cell_type": "code",
   "execution_count": 8,
   "metadata": {},
   "outputs": [
    {
     "data": {
      "text/plain": [
       "0    0.7963\n",
       "1    0.2037\n",
       "Name: exited, dtype: float64"
      ]
     },
     "execution_count": 8,
     "metadata": {},
     "output_type": "execute_result"
    }
   ],
   "source": [
    "df['exited'].value_counts()/len(df['exited'])  # определяет относительные размеры двух классов"
   ]
  },
  {
   "cell_type": "markdown",
   "metadata": {},
   "source": [
    "Виден явный дисбаланс 80% против 20%."
   ]
  },
  {
   "cell_type": "markdown",
   "metadata": {},
   "source": [
    "### Создание выборок"
   ]
  },
  {
   "cell_type": "markdown",
   "metadata": {},
   "source": [
    "Проводим разбиение датафрейма на три выборки: обучающую, валидационную и тестовую."
   ]
  },
  {
   "cell_type": "code",
   "execution_count": 9,
   "metadata": {},
   "outputs": [
    {
     "name": "stdout",
     "output_type": "stream",
     "text": [
      "Размер обучающей выборки:  6000\n",
      "Размер тестовой выборки:  2000\n",
      "Размер валидационной выборки:  2000\n"
     ]
    }
   ],
   "source": [
    "df_train_valid, df_test = train_test_split(df, test_size=0.2, random_state=12345)        # разбиваем выборку на тестовую\n",
    "# и оставшуюся\n",
    "df_train, df_valid = train_test_split(df_train_valid, test_size=0.25, random_state=1234) # оставшуюся выборку разбиваем на \n",
    "# обучающую и валидационную\n",
    "print('Размер обучающей выборки: ', df_train.shape[0])         # выводим размер обучающей выборки\n",
    "print('Размер тестовой выборки: ', df_test.shape[0])           # выводим размер тестовой выборки\n",
    "print('Размер валидационной выборки: ',df_valid.shape[0])      # выводим размер валидационной выборки"
   ]
  },
  {
   "cell_type": "markdown",
   "metadata": {},
   "source": [
    "**Вывод**\n",
    "\n",
    "Выборки разбиты в соотношении 60%:20%:20%, как и полагалось."
   ]
  },
  {
   "cell_type": "markdown",
   "metadata": {},
   "source": [
    "### Выделение признаков и целевых признаков"
   ]
  },
  {
   "cell_type": "code",
   "execution_count": 10,
   "metadata": {},
   "outputs": [],
   "source": [
    "target_train = df_train['exited']                          # целевой признак в обучающей выборке\n",
    "features_train = df_train.drop(['exited'] , axis=1)        # признаки в обучающей выборке\n",
    "\n",
    "target_valid = df_valid['exited']                          # целевой признак в валидационной выборке\n",
    "features_valid = df_valid.drop(['exited'] , axis=1)        # признаки в валидационной выборке\n",
    "\n",
    "target_test = df_test['exited']                            # целевой признак в тестовой выборке\n",
    "features_test = df_test.drop(['exited'] , axis=1)          # признаки в тестовой выборке"
   ]
  },
  {
   "cell_type": "markdown",
   "metadata": {},
   "source": [
    "### Модель случайного леса без учёта дисбаланса"
   ]
  },
  {
   "cell_type": "code",
   "execution_count": 11,
   "metadata": {},
   "outputs": [
    {
     "name": "stdout",
     "output_type": "stream",
     "text": [
      "Величина F1: 0.5559105431309904\n",
      "Величина AUC-ROC: 0.8395772703970977\n"
     ]
    }
   ],
   "source": [
    "f1_best = 0                                                                 # начальное значение f1\n",
    "\n",
    "for depth in range(1,15):                                                   # цикл по глубине леса\n",
    "    model = RandomForestClassifier(random_state=12345, max_depth=depth)     # модель случайного леса\n",
    "    model.fit(features_train,target_train)                                  # обучение модели на обучающей выборке\n",
    "    predicted_valid = model.predict(features_valid)                         # построение предсказаний на валидационной выборке\n",
    "\n",
    "    probabilities_valid = model.predict_proba(features_valid)   # вычисляем вероятности классов для каждой строки валид. выборки\n",
    "    probabilities_one_valid = probabilities_valid[:, 1]                      # выбираем вероятности класса 1\n",
    "    f1 = f1_score(target_valid, predicted_valid)                             # вычисление величины F1\n",
    "    auc_roc = roc_auc_score(target_valid, probabilities_one_valid)           # вычисление величины AUC-ROC\n",
    "    if f1 > f1_best:                                                   # если вычисленное F1 получилось больше зафикс. значения\n",
    "        best_model = model                                                   # сохраняем эту модель\n",
    "        f1_best = f1                                                         # фиксируем F1\n",
    "        depth_best = depth                                                   # фиксируем глубину\n",
    "        auc_roc_best = auc_roc                                               # фиксируем величину AUC-ROC\n",
    "\n",
    "for estimators in range(30,200,10):\n",
    "    model = RandomForestClassifier(random_state=12345, max_depth=depth_best, n_estimators=estimators) # модель случайного леса\n",
    "    model.fit(features_train,target_train)                                   # обучение модели на обучающей выборке\n",
    "    predicted_valid = model.predict(features_valid)                          # построение предсказаний на валидационной выборке\n",
    "\n",
    "    probabilities_valid = model.predict_proba(features_valid) # вычисляем вероятности классов для каждой строки валид. выборки\n",
    "    probabilities_one_valid = probabilities_valid[:, 1]                       # выбираем вероятности класса 1\n",
    "    f1 = f1_score(target_valid, predicted_valid)                              # вычисление величины F1\n",
    "    auc_roc = roc_auc_score(target_valid, probabilities_one_valid)            # вычисление величины AUC-ROC\n",
    "    if f1 > f1_best:                                                    # если вычисленное F1 получилось больше зафикс. значения\n",
    "        best_model = model                                                     # сохраняем эту модель\n",
    "        f1_best = f1                                                           # фиксируем F1\n",
    "        estimators_best = estimators                                           # фиксируем количество деревьев\n",
    "        auc_roc_best = auc_roc                                                 # фиксируем величину AUC-ROC\n",
    "       \n",
    "        \n",
    "print(f'Величина F1: {f1_best}')                                               # вывод величины F1\n",
    "print(f'Величина AUC-ROC: {auc_roc_best}')                                     # вывод величины AUC-ROC"
   ]
  },
  {
   "cell_type": "markdown",
   "metadata": {},
   "source": [
    "**Вывод**\n",
    "\n",
    "Величина F1 курам на смех. Дисбаланс в данных привёл к тому, что наша модель не дотягивает до заветной величины F1 в 0.59. Соотношение двух классов 1:4 можно точно считать несбалансированным.\n",
    "\n",
    "Величина AUC-ROC говорит о том, что модель делает предсказания лучше случайной. Видимо, при дисбалансе это не сложно."
   ]
  },
  {
   "cell_type": "markdown",
   "metadata": {},
   "source": [
    "## Борьба с дисбалансом"
   ]
  },
  {
   "cell_type": "code",
   "execution_count": 12,
   "metadata": {},
   "outputs": [
    {
     "name": "stdout",
     "output_type": "stream",
     "text": [
      "Величина F1: 0.6128205128205128 при пороге 0.5\n",
      "Величина F1: 0.61340206185567 при пороге 0.501\n",
      "Величина F1: 0.6149870801033592 при пороге 0.502\n",
      "Величина F1: 0.6131953428201811 при пороге 0.503\n",
      "\n",
      "Лучшая величина F1: 0.6149870801033592 c глубиной дерева 10, количеством деревьев 80 и величиной порога: 0.502\n",
      "Величина AUC-ROC при лучшем показателе F1: 0.8482479593043888\n"
     ]
    }
   ],
   "source": [
    "f1_best = 0                                                                                # начальное значение f1\n",
    "\n",
    "for depth in range(1,15):                                                                  # цикл по глубине леса\n",
    "    model = RandomForestClassifier(random_state=12345, class_weight='balanced', max_depth=depth) # модель случайного леса\n",
    "# со взвешиванием классов\n",
    "    model.fit(features_train,target_train)                                # обучение модели на обучающей выборке\n",
    "    predicted_valid = model.predict(features_valid)                       # построение предсказаний на валидационной выборке\n",
    "    \n",
    "\n",
    "    probabilities_valid = model.predict_proba(features_valid)   # вычисляем вероятности классов для каждой строки валид. выборки\n",
    "    probabilities_one_valid = probabilities_valid[:, 1]            # выбираем вероятности класса 1\n",
    "    f1 = f1_score(target_valid, predicted_valid)                   # вычисление величины F1\n",
    "    auc_roc = roc_auc_score(target_valid, probabilities_one_valid) # вычисление величины AUC-ROC\n",
    "    if f1 > f1_best:                                               # если вычисленное F1 получилось больше зафикс. значения\n",
    "        best_model = model                                         # сохраняем эту модель\n",
    "        f1_best = f1                                               # фиксируем F1\n",
    "        depth_best = depth                                         # фиксируем глубину\n",
    "        auc_roc_best = auc_roc                                     # фиксируем величину AUC-ROC\n",
    "\n",
    "for estimators in range(30,200,10):                                               # цикл по количеству деревьев\n",
    "    model = RandomForestClassifier(random_state=12345, class_weight='balanced', max_depth=depth_best, n_estimators=estimators) #\n",
    "# модель случайного леса со взвешиванием классов\n",
    "    model.fit(features_train,target_train)\n",
    "    predicted_valid = model.predict(features_valid)\n",
    "    \n",
    "\n",
    "    probabilities_valid = model.predict_proba(features_valid)   # вычисляем вероятности классов для каждой строки валид. выборки\n",
    "    probabilities_one_valid = probabilities_valid[:, 1]              # выбираем вероятности класса 1\n",
    "    f1 = f1_score(target_valid, predicted_valid)                     # вычисление величины F1\n",
    "    auc_roc = roc_auc_score(target_valid, probabilities_one_valid)   # вычисление величины AUC-ROC\n",
    "    if f1 > f1_best:                                                 # если вычисленное F1 получилось больше зафикс. значения\n",
    "        best_model = model                                           # сохраняем эту модель\n",
    "        f1_best = f1                                                 # фиксируем F1\n",
    "        estimators_best = estimators                                 # фиксируем количество деревьев\n",
    "        auc_roc_best = auc_roc                                       # фиксируем величину AUC-ROC\n",
    "        probabilities_one_valid_best = probabilities_one_valid       # фиксируем вероятности класса 1\n",
    "\n",
    "f1_offset_best = 0                                                   # начальное значение f1 при смещении порога\n",
    "for threshold in np.arange(0.5, 0.503, 0.001):                       # цикл по величинам порога\n",
    "    predicted_valid = probabilities_one_valid_best > threshold       # корректировка предсказаний с учётом нового порога\n",
    "    f1_offset = f1_score(target_valid, predicted_valid)              # вычисление величины F1\n",
    "    print(f'Величина F1: {f1_offset} при пороге {threshold}')\n",
    "    if f1_offset > f1_offset_best:                                   # если вычисленное F1 получилось больше зафикс. значения\n",
    "        f1_offset_best = f1_offset                                   # фиксируем F1\n",
    "        threshold_best = threshold                                   # фиксируем порог\n",
    "        \n",
    "print()\n",
    "print(f'Лучшая величина F1: {f1_offset_best} c глубиной дерева {depth_best}, количеством деревьев {estimators_best} и величиной порога: {threshold_best}')\n",
    "print(f'Величина AUC-ROC при лучшем показателе F1: {auc_roc_best}')"
   ]
  },
  {
   "cell_type": "markdown",
   "metadata": {},
   "source": [
    "**Вывод**\n",
    "\n",
    "В ходе борьбы с дисбалансом использовалось взвешивание классов и изменение порога классификации. Взвешивание классов действительно, даёт серьёзное повышение точности предсказаний, а вот изменение порога классификации в нашем случае, скорее всего, носит гомеопатический характер: прирост 0.002 - это очень мало."
   ]
  },
  {
   "cell_type": "markdown",
   "metadata": {},
   "source": [
    "## Тестирование модели"
   ]
  },
  {
   "cell_type": "code",
   "execution_count": 13,
   "metadata": {},
   "outputs": [
    {
     "name": "stdout",
     "output_type": "stream",
     "text": [
      "Величина F1 на тестовой выборке: 0.6302021403091558\n",
      "Величина AUC-ROC на тестовой выборке: 0.8646405755198601\n"
     ]
    }
   ],
   "source": [
    "predicted_test = best_model.predict(features_test)                                  # строим предсказания на тестовой выборке\n",
    "\n",
    "probabilities_test = best_model.predict_proba(features_test)                        # вычисляем вероятности классов для каждой\n",
    "# строки тестовой выборки\n",
    "probabilities_one_test = probabilities_test[:, 1]                                   # выбираем вероятности класса 1\n",
    "\n",
    "auc_roc = roc_auc_score(target_test, probabilities_one_test)                        # вычисление величины AUC-ROC \n",
    "\n",
    "\n",
    "predicted_test = probabilities_one_test > threshold_best                            # смещение порога на оптимальную величину\n",
    "f1_offset = f1_score(target_test, predicted_test)                                   # вычисление величины F1\n",
    "        \n",
    "print(f'Величина F1 на тестовой выборке: {f1_offset}')                              # вывод величины F1\n",
    "print(f'Величина AUC-ROC на тестовой выборке: {auc_roc}')                           # вывод величины AUC-ROC"
   ]
  },
  {
   "cell_type": "markdown",
   "metadata": {},
   "source": [
    "**Вывод**\n",
    "\n",
    "Наша модель случайного леса с оптимальным числом деревьев, глубиной, порогом классификации и взвешиванием классов показала себя хорошо на тесте. Заветное число 0.59 преодолено, величина AUC-ROC также сигнализирует о том, что мы предсказываем лучше случайной модели. "
   ]
  },
  {
   "cell_type": "markdown",
   "metadata": {},
   "source": [
    "## Общий вывод"
   ]
  },
  {
   "cell_type": "markdown",
   "metadata": {},
   "source": [
    "Для построения оптимальной модели предсказаний нам потребовалось подготовить данные: убрать строки никак не влияющие на результат предсказания, заполнить пропуски. Пропуски заполнялись не медианным и не средним. Были обнаружены просадки в количестве клиентов с 0-летними и 10-летними договорами. Величина просадки хорошо совпадает с количеством пропущенных значений в столбце с годами действия договоров. Было принято решение заполнить эти пропуски или 0, или 10 случайным образом (по логике в 50% случаях мы должны угадывать).\n",
    "\n",
    "Были определены относительные размеры двух интересующих нас классов. Их размеры соотносятся как 1:4.\n",
    "\n",
    "Далее данные были разбиты на выборки соответствующих размеров, выделены признаки и целевые признаки.\n",
    "\n",
    "С наскока была принята попытка построить модель случайного леса без учёта дисбаланса класса, но результат на валидационной выборке нас не удовлетворил. Даже использование оптимальной глубины и количества деревьев не приводило нас к заветное величине F1 в 0.59. Были предприняты попытки решения дисбаланса: построение моделей со взвешиванием и смещение порога. Эффект дало взвешивание: прирост F1 на несколько %.\n",
    "\n",
    "Экзамен на тестовой выборке прошёл даже лучше, чем на валидационной\n",
    "- величина F1: 0.6302021403091558\n",
    "- величина AUC-ROC: 0.8646405755198601\n",
    "\n",
    "Что же касается величины AUC-ROC, то было замечено, что рост F1 ведёт к росту и этой метрики. На всех этапах построения лучшей модели наша величина AUC-ROC была больше 0.5. Видимо, при дисбалансе классов случайная модель ведёт себя не лучшим образом и превзойти её не сложно."
   ]
  },
  {
   "cell_type": "markdown",
   "metadata": {},
   "source": [
    "## Чек-лист готовности проекта"
   ]
  },
  {
   "cell_type": "markdown",
   "metadata": {},
   "source": [
    "Поставьте 'x' в выполненных пунктах. Далее нажмите Shift+Enter."
   ]
  },
  {
   "cell_type": "markdown",
   "metadata": {},
   "source": [
    "- [x]  Jupyter Notebook открыт\n",
    "- [x]  Весь код выполняется без ошибок\n",
    "- [x]  Ячейки с кодом расположены в порядке исполнения\n",
    "- [x]  Выполнен шаг 1: данные подготовлены\n",
    "- [x]  Выполнен шаг 2: задача исследована\n",
    "    - [x]  Исследован баланс классов\n",
    "    - [x]  Изучены модели без учёта дисбаланса\n",
    "    - [x]  Написаны выводы по результатам исследования\n",
    "- [x]  Выполнен шаг 3: учтён дисбаланс\n",
    "    - [x]  Применено несколько способов борьбы с дисбалансом\n",
    "    - [x]  Написаны выводы по результатам исследования\n",
    "- [x]  Выполнен шаг 4: проведено тестирование\n",
    "- [x]  Удалось достичь *F1*-меры не менее 0.59\n",
    "- [x]  Исследована метрика *AUC-ROC*"
   ]
  },
  {
   "cell_type": "code",
   "execution_count": null,
   "metadata": {},
   "outputs": [],
   "source": []
  }
 ],
 "metadata": {
  "ExecuteTimeLog": [
   {
    "duration": 411,
    "start_time": "2022-03-24T13:15:27.741Z"
   },
   {
    "duration": 192,
    "start_time": "2022-03-24T13:15:30.229Z"
   },
   {
    "duration": 47,
    "start_time": "2022-03-24T13:22:42.904Z"
   },
   {
    "duration": 72,
    "start_time": "2022-03-24T13:22:51.278Z"
   },
   {
    "duration": 45,
    "start_time": "2022-03-24T13:23:25.104Z"
   },
   {
    "duration": 40,
    "start_time": "2022-03-24T13:23:51.986Z"
   },
   {
    "duration": 126,
    "start_time": "2022-03-24T13:25:13.318Z"
   },
   {
    "duration": 1921,
    "start_time": "2022-03-24T13:25:18.058Z"
   },
   {
    "duration": 972,
    "start_time": "2022-03-24T13:25:21.704Z"
   },
   {
    "duration": 43,
    "start_time": "2022-03-24T13:25:58.735Z"
   },
   {
    "duration": 66,
    "start_time": "2022-03-24T13:26:16.754Z"
   },
   {
    "duration": 63,
    "start_time": "2022-03-24T13:26:43.537Z"
   },
   {
    "duration": 44,
    "start_time": "2022-03-24T13:29:01.005Z"
   },
   {
    "duration": 50,
    "start_time": "2022-03-24T13:29:08.030Z"
   },
   {
    "duration": 43,
    "start_time": "2022-03-24T13:31:35.111Z"
   },
   {
    "duration": 9,
    "start_time": "2022-03-24T13:40:12.114Z"
   },
   {
    "duration": 12,
    "start_time": "2022-03-24T13:40:39.352Z"
   },
   {
    "duration": 5,
    "start_time": "2022-03-24T13:41:41.185Z"
   },
   {
    "duration": 12,
    "start_time": "2022-03-24T13:41:51.707Z"
   },
   {
    "duration": 6,
    "start_time": "2022-03-24T13:47:56.788Z"
   },
   {
    "duration": 7,
    "start_time": "2022-03-24T13:48:25.762Z"
   },
   {
    "duration": 93,
    "start_time": "2022-03-24T13:52:42.310Z"
   },
   {
    "duration": 3,
    "start_time": "2022-03-24T13:55:13.425Z"
   },
   {
    "duration": 11,
    "start_time": "2022-03-24T13:56:37.507Z"
   },
   {
    "duration": 229,
    "start_time": "2022-03-24T13:57:58.525Z"
   },
   {
    "duration": 15,
    "start_time": "2022-03-24T14:55:34.836Z"
   },
   {
    "duration": 8,
    "start_time": "2022-03-24T14:55:44.094Z"
   },
   {
    "duration": 20,
    "start_time": "2022-03-24T14:58:00.438Z"
   },
   {
    "duration": 21,
    "start_time": "2022-03-24T15:02:04.803Z"
   },
   {
    "duration": 19,
    "start_time": "2022-03-24T15:02:20.269Z"
   },
   {
    "duration": 7,
    "start_time": "2022-03-24T15:02:26.580Z"
   },
   {
    "duration": 11,
    "start_time": "2022-03-24T15:02:29.734Z"
   },
   {
    "duration": 8,
    "start_time": "2022-03-24T15:02:32.522Z"
   },
   {
    "duration": 23,
    "start_time": "2022-03-24T15:02:36.849Z"
   },
   {
    "duration": 14,
    "start_time": "2022-03-24T15:05:18.659Z"
   },
   {
    "duration": 16,
    "start_time": "2022-03-24T15:05:31.138Z"
   },
   {
    "duration": 16,
    "start_time": "2022-03-24T15:05:35.071Z"
   },
   {
    "duration": 7,
    "start_time": "2022-03-24T15:05:39.831Z"
   },
   {
    "duration": 10,
    "start_time": "2022-03-24T15:05:43.923Z"
   },
   {
    "duration": 7,
    "start_time": "2022-03-24T15:05:46.155Z"
   },
   {
    "duration": 22,
    "start_time": "2022-03-24T15:05:49.397Z"
   },
   {
    "duration": 20,
    "start_time": "2022-03-24T15:06:37.680Z"
   },
   {
    "duration": 14,
    "start_time": "2022-03-24T15:07:25.955Z"
   },
   {
    "duration": 12,
    "start_time": "2022-03-24T15:08:06.728Z"
   },
   {
    "duration": 15,
    "start_time": "2022-03-24T15:08:11.101Z"
   },
   {
    "duration": 6,
    "start_time": "2022-03-24T15:08:14.815Z"
   },
   {
    "duration": 10,
    "start_time": "2022-03-24T15:08:18.442Z"
   },
   {
    "duration": 11,
    "start_time": "2022-03-24T15:08:20.968Z"
   },
   {
    "duration": 1456,
    "start_time": "2022-03-24T15:08:34.686Z"
   },
   {
    "duration": 4,
    "start_time": "2022-03-24T15:08:57.264Z"
   },
   {
    "duration": 176,
    "start_time": "2022-03-24T15:08:57.270Z"
   },
   {
    "duration": 13,
    "start_time": "2022-03-24T15:08:57.448Z"
   },
   {
    "duration": 13,
    "start_time": "2022-03-24T15:08:57.463Z"
   },
   {
    "duration": 12,
    "start_time": "2022-03-24T15:08:57.478Z"
   },
   {
    "duration": 17,
    "start_time": "2022-03-24T15:08:57.491Z"
   },
   {
    "duration": 6,
    "start_time": "2022-03-24T15:08:57.509Z"
   },
   {
    "duration": 10,
    "start_time": "2022-03-24T15:08:57.683Z"
   },
   {
    "duration": 7,
    "start_time": "2022-03-24T15:08:57.784Z"
   },
   {
    "duration": 1466,
    "start_time": "2022-03-24T15:08:57.793Z"
   },
   {
    "duration": 3,
    "start_time": "2022-03-24T15:10:37.057Z"
   },
   {
    "duration": 47,
    "start_time": "2022-03-24T15:10:37.063Z"
   },
   {
    "duration": 12,
    "start_time": "2022-03-24T15:10:37.112Z"
   },
   {
    "duration": 14,
    "start_time": "2022-03-24T15:10:37.127Z"
   },
   {
    "duration": 16,
    "start_time": "2022-03-24T15:10:37.143Z"
   },
   {
    "duration": 37,
    "start_time": "2022-03-24T15:10:37.161Z"
   },
   {
    "duration": 6,
    "start_time": "2022-03-24T15:10:37.199Z"
   },
   {
    "duration": 11,
    "start_time": "2022-03-24T15:10:37.207Z"
   },
   {
    "duration": 8,
    "start_time": "2022-03-24T15:10:37.220Z"
   },
   {
    "duration": 2061,
    "start_time": "2022-03-24T15:10:37.230Z"
   },
   {
    "duration": 2073,
    "start_time": "2022-03-24T15:11:28.325Z"
   },
   {
    "duration": 2176,
    "start_time": "2022-03-24T15:11:44.146Z"
   },
   {
    "duration": 1411,
    "start_time": "2022-03-24T15:13:45.497Z"
   },
   {
    "duration": 3,
    "start_time": "2022-03-24T15:13:53.778Z"
   },
   {
    "duration": 62,
    "start_time": "2022-03-24T15:13:53.782Z"
   },
   {
    "duration": 11,
    "start_time": "2022-03-24T15:13:53.847Z"
   },
   {
    "duration": 13,
    "start_time": "2022-03-24T15:13:53.861Z"
   },
   {
    "duration": 25,
    "start_time": "2022-03-24T15:13:53.877Z"
   },
   {
    "duration": 17,
    "start_time": "2022-03-24T15:13:53.905Z"
   },
   {
    "duration": 7,
    "start_time": "2022-03-24T15:13:53.924Z"
   },
   {
    "duration": 9,
    "start_time": "2022-03-24T15:13:53.933Z"
   },
   {
    "duration": 6,
    "start_time": "2022-03-24T15:13:53.945Z"
   },
   {
    "duration": 1505,
    "start_time": "2022-03-24T15:13:53.953Z"
   },
   {
    "duration": 4,
    "start_time": "2022-03-24T15:17:15.365Z"
   },
   {
    "duration": 72,
    "start_time": "2022-03-24T15:17:15.372Z"
   },
   {
    "duration": 21,
    "start_time": "2022-03-24T15:17:15.446Z"
   },
   {
    "duration": 21,
    "start_time": "2022-03-24T15:17:15.468Z"
   },
   {
    "duration": 12,
    "start_time": "2022-03-24T15:17:15.491Z"
   },
   {
    "duration": 19,
    "start_time": "2022-03-24T15:17:15.504Z"
   },
   {
    "duration": 6,
    "start_time": "2022-03-24T15:17:15.524Z"
   },
   {
    "duration": 11,
    "start_time": "2022-03-24T15:17:15.532Z"
   },
   {
    "duration": 39,
    "start_time": "2022-03-24T15:17:15.544Z"
   },
   {
    "duration": 664,
    "start_time": "2022-03-24T15:17:15.585Z"
   },
   {
    "duration": 1227,
    "start_time": "2022-03-25T12:49:56.445Z"
   },
   {
    "duration": 193,
    "start_time": "2022-03-25T12:50:00.015Z"
   },
   {
    "duration": 59,
    "start_time": "2022-03-25T12:52:37.744Z"
   },
   {
    "duration": 13,
    "start_time": "2022-03-25T12:52:43.937Z"
   },
   {
    "duration": 14,
    "start_time": "2022-03-25T12:52:48.676Z"
   },
   {
    "duration": 16,
    "start_time": "2022-03-25T12:52:51.997Z"
   },
   {
    "duration": 22,
    "start_time": "2022-03-25T12:52:55.588Z"
   },
   {
    "duration": 10,
    "start_time": "2022-03-25T12:52:58.793Z"
   },
   {
    "duration": 103,
    "start_time": "2022-03-25T12:56:49.715Z"
   },
   {
    "duration": 4,
    "start_time": "2022-03-25T12:56:58.489Z"
   },
   {
    "duration": 49,
    "start_time": "2022-03-25T12:56:58.495Z"
   },
   {
    "duration": 13,
    "start_time": "2022-03-25T12:56:58.546Z"
   },
   {
    "duration": 14,
    "start_time": "2022-03-25T12:56:58.560Z"
   },
   {
    "duration": 27,
    "start_time": "2022-03-25T12:56:58.577Z"
   },
   {
    "duration": 21,
    "start_time": "2022-03-25T12:56:58.607Z"
   },
   {
    "duration": 7,
    "start_time": "2022-03-25T12:56:58.630Z"
   },
   {
    "duration": 13,
    "start_time": "2022-03-25T12:56:58.639Z"
   },
   {
    "duration": 8,
    "start_time": "2022-03-25T12:56:58.654Z"
   },
   {
    "duration": 844,
    "start_time": "2022-03-25T12:56:58.663Z"
   },
   {
    "duration": 822,
    "start_time": "2022-03-25T12:58:30.453Z"
   },
   {
    "duration": 238,
    "start_time": "2022-03-25T12:58:55.515Z"
   },
   {
    "duration": 814,
    "start_time": "2022-03-25T12:59:05.872Z"
   },
   {
    "duration": 751,
    "start_time": "2022-03-25T13:02:58.636Z"
   },
   {
    "duration": 12,
    "start_time": "2022-03-25T13:03:38.533Z"
   },
   {
    "duration": 798,
    "start_time": "2022-03-25T13:03:48.922Z"
   },
   {
    "duration": 142,
    "start_time": "2022-03-25T13:06:44.602Z"
   },
   {
    "duration": 8143,
    "start_time": "2022-03-25T13:14:06.480Z"
   },
   {
    "duration": 8013,
    "start_time": "2022-03-25T13:14:58.332Z"
   },
   {
    "duration": 82,
    "start_time": "2022-03-25T13:15:24.334Z"
   },
   {
    "duration": 7985,
    "start_time": "2022-03-25T13:21:37.360Z"
   },
   {
    "duration": 7755,
    "start_time": "2022-03-25T13:22:45.941Z"
   },
   {
    "duration": 8057,
    "start_time": "2022-03-25T13:24:13.131Z"
   },
   {
    "duration": 19063,
    "start_time": "2022-03-25T13:24:55.033Z"
   },
   {
    "duration": 7165,
    "start_time": "2022-03-25T13:25:36.075Z"
   },
   {
    "duration": 85,
    "start_time": "2022-03-25T13:26:43.673Z"
   }
  ],
  "kernelspec": {
   "display_name": "Python 3 (ipykernel)",
   "language": "python",
   "name": "python3"
  },
  "language_info": {
   "codemirror_mode": {
    "name": "ipython",
    "version": 3
   },
   "file_extension": ".py",
   "mimetype": "text/x-python",
   "name": "python",
   "nbconvert_exporter": "python",
   "pygments_lexer": "ipython3",
   "version": "3.9.7"
  },
  "toc": {
   "base_numbering": 1,
   "nav_menu": {},
   "number_sections": true,
   "sideBar": true,
   "skip_h1_title": true,
   "title_cell": "Содержание",
   "title_sidebar": "Contents",
   "toc_cell": true,
   "toc_position": {},
   "toc_section_display": true,
   "toc_window_display": true
  }
 },
 "nbformat": 4,
 "nbformat_minor": 2
}
