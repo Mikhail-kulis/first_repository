{
 "cells": [
  {
   "cell_type": "markdown",
   "id": "f6ac6dfd",
   "metadata": {},
   "source": [
    "# Описание проекта\n",
    "\n",
    "Необходимо построить модель, которая предскажет температуру стали перед процессом разливки.\n",
    "\n",
    "В распоряжении имеются данные о сплаве на разных этапах обработки.\n"
   ]
  },
  {
   "cell_type": "markdown",
   "id": "3a95c799",
   "metadata": {},
   "source": [
    "## Исследовательский анализ данных"
   ]
  },
  {
   "cell_type": "markdown",
   "id": "01b1f8e8",
   "metadata": {},
   "source": [
    "### Импорт библиотек"
   ]
  },
  {
   "cell_type": "code",
   "execution_count": 30,
   "id": "6cf46257",
   "metadata": {},
   "outputs": [],
   "source": [
    "import pandas as pd\n",
    "import numpy as np\n",
    "import matplotlib.pyplot as plt\n",
    "import lightgbm as ltb\n",
    "import seaborn as sns \n",
    "\n",
    "from sklearn.model_selection import train_test_split\n",
    "from sklearn.ensemble import RandomForestRegressor\n",
    "from sklearn.linear_model import LinearRegression\n",
    "from sklearn.model_selection import cross_val_predict, cross_validate\n",
    "from sklearn.metrics import mean_absolute_error\n",
    "from sklearn.preprocessing import StandardScaler "
   ]
  },
  {
   "cell_type": "markdown",
   "id": "cafcb042",
   "metadata": {},
   "source": [
    "### Чтение файлов"
   ]
  },
  {
   "cell_type": "code",
   "execution_count": 31,
   "id": "89a69f10",
   "metadata": {},
   "outputs": [],
   "source": [
    "data_arc = pd.read_csv('...')\n",
    "data_bulk = pd.read_csv('...')\n",
    "data_bulk_time = pd.read_csv('...')\n",
    "data_gas = pd.read_csv('...')\n",
    "data_temp = pd.read_csv('...')\n",
    "data_wire = pd.read_csv('...')\n",
    "data_wire_time = pd.read_csv('...)"
   ]
  },
  {
   "cell_type": "markdown",
   "id": "21fd3ca2",
   "metadata": {},
   "source": [
    "### Данные об электродах"
   ]
  },
  {
   "cell_type": "code",
   "execution_count": 32,
   "id": "363a18b7",
   "metadata": {},
   "outputs": [
    {
     "name": "stdout",
     "output_type": "stream",
     "text": [
      "<class 'pandas.core.frame.DataFrame'>\n",
      "RangeIndex: 14876 entries, 0 to 14875\n",
      "Data columns (total 5 columns):\n",
      " #   Column                Non-Null Count  Dtype  \n",
      "---  ------                --------------  -----  \n",
      " 0   key                   14876 non-null  int64  \n",
      " 1   Начало нагрева дугой  14876 non-null  object \n",
      " 2   Конец нагрева дугой   14876 non-null  object \n",
      " 3   Активная мощность     14876 non-null  float64\n",
      " 4   Реактивная мощность   14876 non-null  float64\n",
      "dtypes: float64(2), int64(1), object(2)\n",
      "memory usage: 581.2+ KB\n"
     ]
    }
   ],
   "source": [
    "data_arc.info()"
   ]
  },
  {
   "cell_type": "code",
   "execution_count": 33,
   "id": "a8d2bc15",
   "metadata": {},
   "outputs": [
    {
     "data": {
      "text/html": [
       "<div>\n",
       "<style scoped>\n",
       "    .dataframe tbody tr th:only-of-type {\n",
       "        vertical-align: middle;\n",
       "    }\n",
       "\n",
       "    .dataframe tbody tr th {\n",
       "        vertical-align: top;\n",
       "    }\n",
       "\n",
       "    .dataframe thead th {\n",
       "        text-align: right;\n",
       "    }\n",
       "</style>\n",
       "<table border=\"1\" class=\"dataframe\">\n",
       "  <thead>\n",
       "    <tr style=\"text-align: right;\">\n",
       "      <th></th>\n",
       "      <th>key</th>\n",
       "      <th>Начало нагрева дугой</th>\n",
       "      <th>Конец нагрева дугой</th>\n",
       "      <th>Активная мощность</th>\n",
       "      <th>Реактивная мощность</th>\n",
       "    </tr>\n",
       "  </thead>\n",
       "  <tbody>\n",
       "    <tr>\n",
       "      <th>0</th>\n",
       "      <td>1</td>\n",
       "      <td>2019-05-03 11:02:14</td>\n",
       "      <td>2019-05-03 11:06:02</td>\n",
       "      <td>0.976059</td>\n",
       "      <td>0.687084</td>\n",
       "    </tr>\n",
       "    <tr>\n",
       "      <th>1</th>\n",
       "      <td>1</td>\n",
       "      <td>2019-05-03 11:07:28</td>\n",
       "      <td>2019-05-03 11:10:33</td>\n",
       "      <td>0.805607</td>\n",
       "      <td>0.520285</td>\n",
       "    </tr>\n",
       "    <tr>\n",
       "      <th>2</th>\n",
       "      <td>1</td>\n",
       "      <td>2019-05-03 11:11:44</td>\n",
       "      <td>2019-05-03 11:14:36</td>\n",
       "      <td>0.744363</td>\n",
       "      <td>0.498805</td>\n",
       "    </tr>\n",
       "    <tr>\n",
       "      <th>3</th>\n",
       "      <td>1</td>\n",
       "      <td>2019-05-03 11:18:14</td>\n",
       "      <td>2019-05-03 11:24:19</td>\n",
       "      <td>1.659363</td>\n",
       "      <td>1.062669</td>\n",
       "    </tr>\n",
       "    <tr>\n",
       "      <th>4</th>\n",
       "      <td>1</td>\n",
       "      <td>2019-05-03 11:26:09</td>\n",
       "      <td>2019-05-03 11:28:37</td>\n",
       "      <td>0.692755</td>\n",
       "      <td>0.414397</td>\n",
       "    </tr>\n",
       "    <tr>\n",
       "      <th>5</th>\n",
       "      <td>2</td>\n",
       "      <td>2019-05-03 11:34:14</td>\n",
       "      <td>2019-05-03 11:36:31</td>\n",
       "      <td>0.438063</td>\n",
       "      <td>0.283043</td>\n",
       "    </tr>\n",
       "    <tr>\n",
       "      <th>6</th>\n",
       "      <td>2</td>\n",
       "      <td>2019-05-03 11:38:50</td>\n",
       "      <td>2019-05-03 11:44:28</td>\n",
       "      <td>1.296415</td>\n",
       "      <td>0.892914</td>\n",
       "    </tr>\n",
       "    <tr>\n",
       "      <th>7</th>\n",
       "      <td>2</td>\n",
       "      <td>2019-05-03 11:46:19</td>\n",
       "      <td>2019-05-03 11:48:25</td>\n",
       "      <td>0.490377</td>\n",
       "      <td>0.305281</td>\n",
       "    </tr>\n",
       "    <tr>\n",
       "      <th>8</th>\n",
       "      <td>2</td>\n",
       "      <td>2019-05-03 11:49:48</td>\n",
       "      <td>2019-05-03 11:53:18</td>\n",
       "      <td>0.827743</td>\n",
       "      <td>0.516874</td>\n",
       "    </tr>\n",
       "    <tr>\n",
       "      <th>9</th>\n",
       "      <td>3</td>\n",
       "      <td>2019-05-03 12:06:54</td>\n",
       "      <td>2019-05-03 12:11:34</td>\n",
       "      <td>1.062053</td>\n",
       "      <td>0.671494</td>\n",
       "    </tr>\n",
       "    <tr>\n",
       "      <th>10</th>\n",
       "      <td>3</td>\n",
       "      <td>2019-05-03 12:13:52</td>\n",
       "      <td>2019-05-03 12:15:56</td>\n",
       "      <td>0.484206</td>\n",
       "      <td>0.312100</td>\n",
       "    </tr>\n",
       "    <tr>\n",
       "      <th>11</th>\n",
       "      <td>3</td>\n",
       "      <td>2019-05-03 12:18:56</td>\n",
       "      <td>2019-05-03 12:20:45</td>\n",
       "      <td>0.429355</td>\n",
       "      <td>0.271774</td>\n",
       "    </tr>\n",
       "    <tr>\n",
       "      <th>12</th>\n",
       "      <td>3</td>\n",
       "      <td>2019-05-03 12:25:43</td>\n",
       "      <td>2019-05-03 12:27:00</td>\n",
       "      <td>0.299989</td>\n",
       "      <td>0.187806</td>\n",
       "    </tr>\n",
       "    <tr>\n",
       "      <th>13</th>\n",
       "      <td>3</td>\n",
       "      <td>2019-05-03 12:31:14</td>\n",
       "      <td>2019-05-03 12:32:19</td>\n",
       "      <td>0.250280</td>\n",
       "      <td>0.155901</td>\n",
       "    </tr>\n",
       "    <tr>\n",
       "      <th>14</th>\n",
       "      <td>4</td>\n",
       "      <td>2019-05-03 12:39:37</td>\n",
       "      <td>2019-05-03 12:43:04</td>\n",
       "      <td>0.875313</td>\n",
       "      <td>0.614404</td>\n",
       "    </tr>\n",
       "    <tr>\n",
       "      <th>15</th>\n",
       "      <td>4</td>\n",
       "      <td>2019-05-03 12:44:47</td>\n",
       "      <td>2019-05-03 12:46:26</td>\n",
       "      <td>0.425692</td>\n",
       "      <td>0.268482</td>\n",
       "    </tr>\n",
       "    <tr>\n",
       "      <th>16</th>\n",
       "      <td>4</td>\n",
       "      <td>2019-05-03 12:48:14</td>\n",
       "      <td>2019-05-03 12:50:51</td>\n",
       "      <td>0.687289</td>\n",
       "      <td>0.422692</td>\n",
       "    </tr>\n",
       "    <tr>\n",
       "      <th>17</th>\n",
       "      <td>4</td>\n",
       "      <td>2019-05-03 12:53:12</td>\n",
       "      <td>2019-05-03 12:57:50</td>\n",
       "      <td>1.220955</td>\n",
       "      <td>0.754719</td>\n",
       "    </tr>\n",
       "    <tr>\n",
       "      <th>18</th>\n",
       "      <td>5</td>\n",
       "      <td>2019-05-03 13:11:13</td>\n",
       "      <td>2019-05-03 13:15:24</td>\n",
       "      <td>0.950026</td>\n",
       "      <td>0.690523</td>\n",
       "    </tr>\n",
       "  </tbody>\n",
       "</table>\n",
       "</div>"
      ],
      "text/plain": [
       "    key Начало нагрева дугой  Конец нагрева дугой  Активная мощность  \\\n",
       "0     1  2019-05-03 11:02:14  2019-05-03 11:06:02           0.976059   \n",
       "1     1  2019-05-03 11:07:28  2019-05-03 11:10:33           0.805607   \n",
       "2     1  2019-05-03 11:11:44  2019-05-03 11:14:36           0.744363   \n",
       "3     1  2019-05-03 11:18:14  2019-05-03 11:24:19           1.659363   \n",
       "4     1  2019-05-03 11:26:09  2019-05-03 11:28:37           0.692755   \n",
       "5     2  2019-05-03 11:34:14  2019-05-03 11:36:31           0.438063   \n",
       "6     2  2019-05-03 11:38:50  2019-05-03 11:44:28           1.296415   \n",
       "7     2  2019-05-03 11:46:19  2019-05-03 11:48:25           0.490377   \n",
       "8     2  2019-05-03 11:49:48  2019-05-03 11:53:18           0.827743   \n",
       "9     3  2019-05-03 12:06:54  2019-05-03 12:11:34           1.062053   \n",
       "10    3  2019-05-03 12:13:52  2019-05-03 12:15:56           0.484206   \n",
       "11    3  2019-05-03 12:18:56  2019-05-03 12:20:45           0.429355   \n",
       "12    3  2019-05-03 12:25:43  2019-05-03 12:27:00           0.299989   \n",
       "13    3  2019-05-03 12:31:14  2019-05-03 12:32:19           0.250280   \n",
       "14    4  2019-05-03 12:39:37  2019-05-03 12:43:04           0.875313   \n",
       "15    4  2019-05-03 12:44:47  2019-05-03 12:46:26           0.425692   \n",
       "16    4  2019-05-03 12:48:14  2019-05-03 12:50:51           0.687289   \n",
       "17    4  2019-05-03 12:53:12  2019-05-03 12:57:50           1.220955   \n",
       "18    5  2019-05-03 13:11:13  2019-05-03 13:15:24           0.950026   \n",
       "\n",
       "    Реактивная мощность  \n",
       "0              0.687084  \n",
       "1              0.520285  \n",
       "2              0.498805  \n",
       "3              1.062669  \n",
       "4              0.414397  \n",
       "5              0.283043  \n",
       "6              0.892914  \n",
       "7              0.305281  \n",
       "8              0.516874  \n",
       "9              0.671494  \n",
       "10             0.312100  \n",
       "11             0.271774  \n",
       "12             0.187806  \n",
       "13             0.155901  \n",
       "14             0.614404  \n",
       "15             0.268482  \n",
       "16             0.422692  \n",
       "17             0.754719  \n",
       "18             0.690523  "
      ]
     },
     "execution_count": 33,
     "metadata": {},
     "output_type": "execute_result"
    }
   ],
   "source": [
    "data_arc.head(19)"
   ]
  },
  {
   "cell_type": "markdown",
   "id": "fab9c0a3",
   "metadata": {},
   "source": [
    "**Вывод** \n",
    "\n",
    "Пропусков в данных нет. Единственное, что нужно сделать - привести дату к типу datetime. Формат записи часа - 24 часа."
   ]
  },
  {
   "cell_type": "code",
   "execution_count": 34,
   "id": "55c0680a",
   "metadata": {},
   "outputs": [],
   "source": [
    "data_arc['Начало нагрева дугой'] = pd.to_datetime(data_arc['Начало нагрева дугой'], format='%Y-%m-%d %H:%M:%S')\n",
    "data_arc['Конец нагрева дугой'] = pd.to_datetime(data_arc['Конец нагрева дугой'], format='%Y-%m-%d %H:%M:%S')"
   ]
  },
  {
   "cell_type": "markdown",
   "id": "ec1da0a3",
   "metadata": {},
   "source": [
    "Исследуем числовые значения на выбросы и адекватность. "
   ]
  },
  {
   "cell_type": "code",
   "execution_count": 35,
   "id": "47aba276",
   "metadata": {},
   "outputs": [
    {
     "data": {
      "image/png": "[encoded data removed]",
      "text/plain": [
       "<Figure size 432x288 with 1 Axes>"
      ]
     },
     "metadata": {
      "needs_background": "light"
     },
     "output_type": "display_data"
    }
   ],
   "source": [
    "plt.title('Диаграмма размаха числовых величин')\n",
    "data_arc[['Активная мощность', 'Реактивная мощность']].boxplot()\n",
    "plt.show()"
   ]
  },
  {
   "cell_type": "markdown",
   "id": "3ad40adb",
   "metadata": {},
   "source": [
    "**Вывод**\n",
    "\n",
    "Отрицательная реактивная мощность - подозрительное значение, удалим эти данные из рассмотрения."
   ]
  },
  {
   "cell_type": "code",
   "execution_count": 36,
   "id": "f0525340",
   "metadata": {},
   "outputs": [
    {
     "data": {
      "image/png": "[encoded data removed]",
      "text/plain": [
       "<Figure size 432x288 with 1 Axes>"
      ]
     },
     "metadata": {
      "needs_background": "light"
     },
     "output_type": "display_data"
    }
   ],
   "source": [
    "data_arc = data_arc[data_arc['Реактивная мощность'] > 0]\n",
    "plt.title('Диаграмма размаха числовых величин')\n",
    "data_arc[['Активная мощность', 'Реактивная мощность']].boxplot()\n",
    "plt.show()\n"
   ]
  },
  {
   "cell_type": "markdown",
   "id": "8659597a",
   "metadata": {},
   "source": [
    "### Данные о сыпучих материалах"
   ]
  },
  {
   "cell_type": "code",
   "execution_count": 37,
   "id": "5a7807a3",
   "metadata": {},
   "outputs": [
    {
     "name": "stdout",
     "output_type": "stream",
     "text": [
      "<class 'pandas.core.frame.DataFrame'>\n",
      "RangeIndex: 3129 entries, 0 to 3128\n",
      "Data columns (total 16 columns):\n",
      " #   Column   Non-Null Count  Dtype  \n",
      "---  ------   --------------  -----  \n",
      " 0   key      3129 non-null   int64  \n",
      " 1   Bulk 1   252 non-null    float64\n",
      " 2   Bulk 2   22 non-null     float64\n",
      " 3   Bulk 3   1298 non-null   float64\n",
      " 4   Bulk 4   1014 non-null   float64\n",
      " 5   Bulk 5   77 non-null     float64\n",
      " 6   Bulk 6   576 non-null    float64\n",
      " 7   Bulk 7   25 non-null     float64\n",
      " 8   Bulk 8   1 non-null      float64\n",
      " 9   Bulk 9   19 non-null     float64\n",
      " 10  Bulk 10  176 non-null    float64\n",
      " 11  Bulk 11  177 non-null    float64\n",
      " 12  Bulk 12  2450 non-null   float64\n",
      " 13  Bulk 13  18 non-null     float64\n",
      " 14  Bulk 14  2806 non-null   float64\n",
      " 15  Bulk 15  2248 non-null   float64\n",
      "dtypes: float64(15), int64(1)\n",
      "memory usage: 391.2 KB\n"
     ]
    }
   ],
   "source": [
    "data_bulk.info()"
   ]
  },
  {
   "cell_type": "code",
   "execution_count": 38,
   "id": "88fbaa9d",
   "metadata": {},
   "outputs": [
    {
     "data": {
      "text/html": [
       "<div>\n",
       "<style scoped>\n",
       "    .dataframe tbody tr th:only-of-type {\n",
       "        vertical-align: middle;\n",
       "    }\n",
       "\n",
       "    .dataframe tbody tr th {\n",
       "        vertical-align: top;\n",
       "    }\n",
       "\n",
       "    .dataframe thead th {\n",
       "        text-align: right;\n",
       "    }\n",
       "</style>\n",
       "<table border=\"1\" class=\"dataframe\">\n",
       "  <thead>\n",
       "    <tr style=\"text-align: right;\">\n",
       "      <th></th>\n",
       "      <th>key</th>\n",
       "      <th>Bulk 1</th>\n",
       "      <th>Bulk 2</th>\n",
       "      <th>Bulk 3</th>\n",
       "      <th>Bulk 4</th>\n",
       "      <th>Bulk 5</th>\n",
       "      <th>Bulk 6</th>\n",
       "      <th>Bulk 7</th>\n",
       "      <th>Bulk 8</th>\n",
       "      <th>Bulk 9</th>\n",
       "      <th>Bulk 10</th>\n",
       "      <th>Bulk 11</th>\n",
       "      <th>Bulk 12</th>\n",
       "      <th>Bulk 13</th>\n",
       "      <th>Bulk 14</th>\n",
       "      <th>Bulk 15</th>\n",
       "    </tr>\n",
       "  </thead>\n",
       "  <tbody>\n",
       "    <tr>\n",
       "      <th>0</th>\n",
       "      <td>1</td>\n",
       "      <td>NaN</td>\n",
       "      <td>NaN</td>\n",
       "      <td>NaN</td>\n",
       "      <td>43.0</td>\n",
       "      <td>NaN</td>\n",
       "      <td>NaN</td>\n",
       "      <td>NaN</td>\n",
       "      <td>NaN</td>\n",
       "      <td>NaN</td>\n",
       "      <td>NaN</td>\n",
       "      <td>NaN</td>\n",
       "      <td>206.0</td>\n",
       "      <td>NaN</td>\n",
       "      <td>150.0</td>\n",
       "      <td>154.0</td>\n",
       "    </tr>\n",
       "    <tr>\n",
       "      <th>1</th>\n",
       "      <td>2</td>\n",
       "      <td>NaN</td>\n",
       "      <td>NaN</td>\n",
       "      <td>NaN</td>\n",
       "      <td>73.0</td>\n",
       "      <td>NaN</td>\n",
       "      <td>NaN</td>\n",
       "      <td>NaN</td>\n",
       "      <td>NaN</td>\n",
       "      <td>NaN</td>\n",
       "      <td>NaN</td>\n",
       "      <td>NaN</td>\n",
       "      <td>206.0</td>\n",
       "      <td>NaN</td>\n",
       "      <td>149.0</td>\n",
       "      <td>154.0</td>\n",
       "    </tr>\n",
       "    <tr>\n",
       "      <th>2</th>\n",
       "      <td>3</td>\n",
       "      <td>NaN</td>\n",
       "      <td>NaN</td>\n",
       "      <td>NaN</td>\n",
       "      <td>34.0</td>\n",
       "      <td>NaN</td>\n",
       "      <td>NaN</td>\n",
       "      <td>NaN</td>\n",
       "      <td>NaN</td>\n",
       "      <td>NaN</td>\n",
       "      <td>NaN</td>\n",
       "      <td>NaN</td>\n",
       "      <td>205.0</td>\n",
       "      <td>NaN</td>\n",
       "      <td>152.0</td>\n",
       "      <td>153.0</td>\n",
       "    </tr>\n",
       "    <tr>\n",
       "      <th>3</th>\n",
       "      <td>4</td>\n",
       "      <td>NaN</td>\n",
       "      <td>NaN</td>\n",
       "      <td>NaN</td>\n",
       "      <td>81.0</td>\n",
       "      <td>NaN</td>\n",
       "      <td>NaN</td>\n",
       "      <td>NaN</td>\n",
       "      <td>NaN</td>\n",
       "      <td>NaN</td>\n",
       "      <td>NaN</td>\n",
       "      <td>NaN</td>\n",
       "      <td>207.0</td>\n",
       "      <td>NaN</td>\n",
       "      <td>153.0</td>\n",
       "      <td>154.0</td>\n",
       "    </tr>\n",
       "    <tr>\n",
       "      <th>4</th>\n",
       "      <td>5</td>\n",
       "      <td>NaN</td>\n",
       "      <td>NaN</td>\n",
       "      <td>NaN</td>\n",
       "      <td>78.0</td>\n",
       "      <td>NaN</td>\n",
       "      <td>NaN</td>\n",
       "      <td>NaN</td>\n",
       "      <td>NaN</td>\n",
       "      <td>NaN</td>\n",
       "      <td>NaN</td>\n",
       "      <td>NaN</td>\n",
       "      <td>203.0</td>\n",
       "      <td>NaN</td>\n",
       "      <td>151.0</td>\n",
       "      <td>152.0</td>\n",
       "    </tr>\n",
       "  </tbody>\n",
       "</table>\n",
       "</div>"
      ],
      "text/plain": [
       "   key  Bulk 1  Bulk 2  Bulk 3  Bulk 4  Bulk 5  Bulk 6  Bulk 7  Bulk 8  \\\n",
       "0    1     NaN     NaN     NaN    43.0     NaN     NaN     NaN     NaN   \n",
       "1    2     NaN     NaN     NaN    73.0     NaN     NaN     NaN     NaN   \n",
       "2    3     NaN     NaN     NaN    34.0     NaN     NaN     NaN     NaN   \n",
       "3    4     NaN     NaN     NaN    81.0     NaN     NaN     NaN     NaN   \n",
       "4    5     NaN     NaN     NaN    78.0     NaN     NaN     NaN     NaN   \n",
       "\n",
       "   Bulk 9  Bulk 10  Bulk 11  Bulk 12  Bulk 13  Bulk 14  Bulk 15  \n",
       "0     NaN      NaN      NaN    206.0      NaN    150.0    154.0  \n",
       "1     NaN      NaN      NaN    206.0      NaN    149.0    154.0  \n",
       "2     NaN      NaN      NaN    205.0      NaN    152.0    153.0  \n",
       "3     NaN      NaN      NaN    207.0      NaN    153.0    154.0  \n",
       "4     NaN      NaN      NaN    203.0      NaN    151.0    152.0  "
      ]
     },
     "execution_count": 38,
     "metadata": {},
     "output_type": "execute_result"
    }
   ],
   "source": [
    "data_bulk.head(5)"
   ]
  },
  {
   "cell_type": "code",
   "execution_count": null,
   "id": "a7da2a4e",
   "metadata": {},
   "outputs": [],
   "source": []
  },
  {
   "cell_type": "markdown",
   "id": "e218fd59",
   "metadata": {},
   "source": [
    "**Вывод**\n",
    "\n",
    "Столбцы в датафрейме - сыпучие материалы, которые возможно добавить в сталь. Пропуски в датафрейме - не ошибки. Они говорят о том, что данный материал не добавлялся в выбранную партию стали. \n"
   ]
  },
  {
   "cell_type": "code",
   "execution_count": 39,
   "id": "a2aeaddf",
   "metadata": {},
   "outputs": [
    {
     "data": {
      "text/plain": [
       "3124    3237\n",
       "3125    3238\n",
       "3126    3239\n",
       "3127    3240\n",
       "3128    3241\n",
       "Name: key, dtype: int64"
      ]
     },
     "execution_count": 39,
     "metadata": {},
     "output_type": "execute_result"
    }
   ],
   "source": [
    "data_bulk['key'].tail()"
   ]
  },
  {
   "cell_type": "code",
   "execution_count": 40,
   "id": "37f96012",
   "metadata": {},
   "outputs": [
    {
     "data": {
      "text/plain": [
       "<function matplotlib.pyplot.show(close=None, block=None)>"
      ]
     },
     "execution_count": 40,
     "metadata": {},
     "output_type": "execute_result"
    },
    {
     "data": {
      "image/png": "[encoded data removed]",
      "text/plain": [
       "<Figure size 1080x648 with 1 Axes>"
      ]
     },
     "metadata": {
      "needs_background": "light"
     },
     "output_type": "display_data"
    }
   ],
   "source": [
    "plt.figure(figsize=(15,9))\n",
    "plt.title('Диаграмма размаха для всех сыпучих материалов')\n",
    "data_bulk.drop('key', axis=1).boxplot()\n",
    "plt.show"
   ]
  },
  {
   "cell_type": "code",
   "execution_count": 41,
   "id": "e58f3462",
   "metadata": {},
   "outputs": [
    {
     "name": "stdout",
     "output_type": "stream",
     "text": [
      "<class 'pandas.core.frame.DataFrame'>\n",
      "RangeIndex: 3129 entries, 0 to 3128\n",
      "Data columns (total 16 columns):\n",
      " #   Column   Non-Null Count  Dtype  \n",
      "---  ------   --------------  -----  \n",
      " 0   key      3129 non-null   int64  \n",
      " 1   Bulk 1   3129 non-null   float64\n",
      " 2   Bulk 2   3129 non-null   float64\n",
      " 3   Bulk 3   3129 non-null   float64\n",
      " 4   Bulk 4   3129 non-null   float64\n",
      " 5   Bulk 5   3129 non-null   float64\n",
      " 6   Bulk 6   3129 non-null   float64\n",
      " 7   Bulk 7   3129 non-null   float64\n",
      " 8   Bulk 8   3129 non-null   float64\n",
      " 9   Bulk 9   3129 non-null   float64\n",
      " 10  Bulk 10  3129 non-null   float64\n",
      " 11  Bulk 11  3129 non-null   float64\n",
      " 12  Bulk 12  3129 non-null   float64\n",
      " 13  Bulk 13  3129 non-null   float64\n",
      " 14  Bulk 14  3129 non-null   float64\n",
      " 15  Bulk 15  3129 non-null   float64\n",
      "dtypes: float64(15), int64(1)\n",
      "memory usage: 391.2 KB\n"
     ]
    }
   ],
   "source": [
    "data_bulk = data_bulk.fillna(0)\n",
    "data_bulk.info()"
   ]
  },
  {
   "cell_type": "code",
   "execution_count": 42,
   "id": "481687f8",
   "metadata": {},
   "outputs": [
    {
     "data": {
      "text/html": [
       "<div>\n",
       "<style scoped>\n",
       "    .dataframe tbody tr th:only-of-type {\n",
       "        vertical-align: middle;\n",
       "    }\n",
       "\n",
       "    .dataframe tbody tr th {\n",
       "        vertical-align: top;\n",
       "    }\n",
       "\n",
       "    .dataframe thead th {\n",
       "        text-align: right;\n",
       "    }\n",
       "</style>\n",
       "<table border=\"1\" class=\"dataframe\">\n",
       "  <thead>\n",
       "    <tr style=\"text-align: right;\">\n",
       "      <th></th>\n",
       "      <th>key</th>\n",
       "      <th>Bulk 1</th>\n",
       "      <th>Bulk 2</th>\n",
       "      <th>Bulk 3</th>\n",
       "      <th>Bulk 4</th>\n",
       "      <th>Bulk 5</th>\n",
       "      <th>Bulk 6</th>\n",
       "      <th>Bulk 7</th>\n",
       "      <th>Bulk 8</th>\n",
       "      <th>Bulk 9</th>\n",
       "      <th>Bulk 10</th>\n",
       "      <th>Bulk 11</th>\n",
       "      <th>Bulk 12</th>\n",
       "      <th>Bulk 13</th>\n",
       "      <th>Bulk 14</th>\n",
       "      <th>Bulk 15</th>\n",
       "    </tr>\n",
       "  </thead>\n",
       "  <tbody>\n",
       "    <tr>\n",
       "      <th>1725</th>\n",
       "      <td>1786</td>\n",
       "      <td>0.0</td>\n",
       "      <td>0.0</td>\n",
       "      <td>123.0</td>\n",
       "      <td>0.0</td>\n",
       "      <td>0.0</td>\n",
       "      <td>0.0</td>\n",
       "      <td>0.0</td>\n",
       "      <td>49.0</td>\n",
       "      <td>147.0</td>\n",
       "      <td>0.0</td>\n",
       "      <td>0.0</td>\n",
       "      <td>0.0</td>\n",
       "      <td>0.0</td>\n",
       "      <td>0.0</td>\n",
       "      <td>0.0</td>\n",
       "    </tr>\n",
       "  </tbody>\n",
       "</table>\n",
       "</div>"
      ],
      "text/plain": [
       "       key  Bulk 1  Bulk 2  Bulk 3  Bulk 4  Bulk 5  Bulk 6  Bulk 7  Bulk 8  \\\n",
       "1725  1786     0.0     0.0   123.0     0.0     0.0     0.0     0.0    49.0   \n",
       "\n",
       "      Bulk 9  Bulk 10  Bulk 11  Bulk 12  Bulk 13  Bulk 14  Bulk 15  \n",
       "1725   147.0      0.0      0.0      0.0      0.0      0.0      0.0  "
      ]
     },
     "execution_count": 42,
     "metadata": {},
     "output_type": "execute_result"
    }
   ],
   "source": [
    "data_bulk[data_bulk['Bulk 8'] > 0]"
   ]
  },
  {
   "cell_type": "markdown",
   "id": "2b71a1e8",
   "metadata": {},
   "source": [
    "**Вывод**\n",
    "\n",
    "Сыпучий материал №8 использовался всего лишь в одной партии. Материал № 5 и № 12 имеют ярко выраженные выбросы, что это: был заказ редкий сплав или это ошибки технологов производства? "
   ]
  },
  {
   "cell_type": "code",
   "execution_count": 43,
   "id": "4ea25456",
   "metadata": {},
   "outputs": [
    {
     "name": "stdout",
     "output_type": "stream",
     "text": [
      "<class 'pandas.core.frame.DataFrame'>\n",
      "RangeIndex: 3129 entries, 0 to 3128\n",
      "Data columns (total 16 columns):\n",
      " #   Column   Non-Null Count  Dtype \n",
      "---  ------   --------------  ----- \n",
      " 0   key      3129 non-null   int64 \n",
      " 1   Bulk 1   252 non-null    object\n",
      " 2   Bulk 2   22 non-null     object\n",
      " 3   Bulk 3   1298 non-null   object\n",
      " 4   Bulk 4   1014 non-null   object\n",
      " 5   Bulk 5   77 non-null     object\n",
      " 6   Bulk 6   576 non-null    object\n",
      " 7   Bulk 7   25 non-null     object\n",
      " 8   Bulk 8   1 non-null      object\n",
      " 9   Bulk 9   19 non-null     object\n",
      " 10  Bulk 10  176 non-null    object\n",
      " 11  Bulk 11  177 non-null    object\n",
      " 12  Bulk 12  2450 non-null   object\n",
      " 13  Bulk 13  18 non-null     object\n",
      " 14  Bulk 14  2806 non-null   object\n",
      " 15  Bulk 15  2248 non-null   object\n",
      "dtypes: int64(1), object(15)\n",
      "memory usage: 391.2+ KB\n"
     ]
    }
   ],
   "source": [
    "data_bulk_time.info()"
   ]
  },
  {
   "cell_type": "code",
   "execution_count": 44,
   "id": "d299dc55",
   "metadata": {},
   "outputs": [
    {
     "data": {
      "text/html": [
       "<div>\n",
       "<style scoped>\n",
       "    .dataframe tbody tr th:only-of-type {\n",
       "        vertical-align: middle;\n",
       "    }\n",
       "\n",
       "    .dataframe tbody tr th {\n",
       "        vertical-align: top;\n",
       "    }\n",
       "\n",
       "    .dataframe thead th {\n",
       "        text-align: right;\n",
       "    }\n",
       "</style>\n",
       "<table border=\"1\" class=\"dataframe\">\n",
       "  <thead>\n",
       "    <tr style=\"text-align: right;\">\n",
       "      <th></th>\n",
       "      <th>key</th>\n",
       "      <th>Bulk 1</th>\n",
       "      <th>Bulk 2</th>\n",
       "      <th>Bulk 3</th>\n",
       "      <th>Bulk 4</th>\n",
       "      <th>Bulk 5</th>\n",
       "      <th>Bulk 6</th>\n",
       "      <th>Bulk 7</th>\n",
       "      <th>Bulk 8</th>\n",
       "      <th>Bulk 9</th>\n",
       "      <th>Bulk 10</th>\n",
       "      <th>Bulk 11</th>\n",
       "      <th>Bulk 12</th>\n",
       "      <th>Bulk 13</th>\n",
       "      <th>Bulk 14</th>\n",
       "      <th>Bulk 15</th>\n",
       "    </tr>\n",
       "  </thead>\n",
       "  <tbody>\n",
       "    <tr>\n",
       "      <th>0</th>\n",
       "      <td>1</td>\n",
       "      <td>NaN</td>\n",
       "      <td>NaN</td>\n",
       "      <td>NaN</td>\n",
       "      <td>2019-05-03 11:21:30</td>\n",
       "      <td>NaN</td>\n",
       "      <td>NaN</td>\n",
       "      <td>NaN</td>\n",
       "      <td>NaN</td>\n",
       "      <td>NaN</td>\n",
       "      <td>NaN</td>\n",
       "      <td>NaN</td>\n",
       "      <td>2019-05-03 11:03:52</td>\n",
       "      <td>NaN</td>\n",
       "      <td>2019-05-03 11:03:52</td>\n",
       "      <td>2019-05-03 11:03:52</td>\n",
       "    </tr>\n",
       "    <tr>\n",
       "      <th>1</th>\n",
       "      <td>2</td>\n",
       "      <td>NaN</td>\n",
       "      <td>NaN</td>\n",
       "      <td>NaN</td>\n",
       "      <td>2019-05-03 11:46:38</td>\n",
       "      <td>NaN</td>\n",
       "      <td>NaN</td>\n",
       "      <td>NaN</td>\n",
       "      <td>NaN</td>\n",
       "      <td>NaN</td>\n",
       "      <td>NaN</td>\n",
       "      <td>NaN</td>\n",
       "      <td>2019-05-03 11:40:20</td>\n",
       "      <td>NaN</td>\n",
       "      <td>2019-05-03 11:40:20</td>\n",
       "      <td>2019-05-03 11:40:20</td>\n",
       "    </tr>\n",
       "    <tr>\n",
       "      <th>2</th>\n",
       "      <td>3</td>\n",
       "      <td>NaN</td>\n",
       "      <td>NaN</td>\n",
       "      <td>NaN</td>\n",
       "      <td>2019-05-03 12:31:06</td>\n",
       "      <td>NaN</td>\n",
       "      <td>NaN</td>\n",
       "      <td>NaN</td>\n",
       "      <td>NaN</td>\n",
       "      <td>NaN</td>\n",
       "      <td>NaN</td>\n",
       "      <td>NaN</td>\n",
       "      <td>2019-05-03 12:09:40</td>\n",
       "      <td>NaN</td>\n",
       "      <td>2019-05-03 12:09:40</td>\n",
       "      <td>2019-05-03 12:09:40</td>\n",
       "    </tr>\n",
       "    <tr>\n",
       "      <th>3</th>\n",
       "      <td>4</td>\n",
       "      <td>NaN</td>\n",
       "      <td>NaN</td>\n",
       "      <td>NaN</td>\n",
       "      <td>2019-05-03 12:48:43</td>\n",
       "      <td>NaN</td>\n",
       "      <td>NaN</td>\n",
       "      <td>NaN</td>\n",
       "      <td>NaN</td>\n",
       "      <td>NaN</td>\n",
       "      <td>NaN</td>\n",
       "      <td>NaN</td>\n",
       "      <td>2019-05-03 12:41:24</td>\n",
       "      <td>NaN</td>\n",
       "      <td>2019-05-03 12:41:24</td>\n",
       "      <td>2019-05-03 12:41:24</td>\n",
       "    </tr>\n",
       "    <tr>\n",
       "      <th>4</th>\n",
       "      <td>5</td>\n",
       "      <td>NaN</td>\n",
       "      <td>NaN</td>\n",
       "      <td>NaN</td>\n",
       "      <td>2019-05-03 13:18:50</td>\n",
       "      <td>NaN</td>\n",
       "      <td>NaN</td>\n",
       "      <td>NaN</td>\n",
       "      <td>NaN</td>\n",
       "      <td>NaN</td>\n",
       "      <td>NaN</td>\n",
       "      <td>NaN</td>\n",
       "      <td>2019-05-03 13:12:56</td>\n",
       "      <td>NaN</td>\n",
       "      <td>2019-05-03 13:12:56</td>\n",
       "      <td>2019-05-03 13:12:56</td>\n",
       "    </tr>\n",
       "  </tbody>\n",
       "</table>\n",
       "</div>"
      ],
      "text/plain": [
       "   key Bulk 1 Bulk 2 Bulk 3               Bulk 4 Bulk 5 Bulk 6 Bulk 7 Bulk 8  \\\n",
       "0    1    NaN    NaN    NaN  2019-05-03 11:21:30    NaN    NaN    NaN    NaN   \n",
       "1    2    NaN    NaN    NaN  2019-05-03 11:46:38    NaN    NaN    NaN    NaN   \n",
       "2    3    NaN    NaN    NaN  2019-05-03 12:31:06    NaN    NaN    NaN    NaN   \n",
       "3    4    NaN    NaN    NaN  2019-05-03 12:48:43    NaN    NaN    NaN    NaN   \n",
       "4    5    NaN    NaN    NaN  2019-05-03 13:18:50    NaN    NaN    NaN    NaN   \n",
       "\n",
       "  Bulk 9 Bulk 10 Bulk 11              Bulk 12 Bulk 13              Bulk 14  \\\n",
       "0    NaN     NaN     NaN  2019-05-03 11:03:52     NaN  2019-05-03 11:03:52   \n",
       "1    NaN     NaN     NaN  2019-05-03 11:40:20     NaN  2019-05-03 11:40:20   \n",
       "2    NaN     NaN     NaN  2019-05-03 12:09:40     NaN  2019-05-03 12:09:40   \n",
       "3    NaN     NaN     NaN  2019-05-03 12:41:24     NaN  2019-05-03 12:41:24   \n",
       "4    NaN     NaN     NaN  2019-05-03 13:12:56     NaN  2019-05-03 13:12:56   \n",
       "\n",
       "               Bulk 15  \n",
       "0  2019-05-03 11:03:52  \n",
       "1  2019-05-03 11:40:20  \n",
       "2  2019-05-03 12:09:40  \n",
       "3  2019-05-03 12:41:24  \n",
       "4  2019-05-03 13:12:56  "
      ]
     },
     "execution_count": 44,
     "metadata": {},
     "output_type": "execute_result"
    }
   ],
   "source": [
    "data_bulk_time.head(5)"
   ]
  },
  {
   "cell_type": "markdown",
   "id": "9d223d33",
   "metadata": {},
   "source": [
    "**Вывод**\n",
    "\n",
    "Ситуация с датафреймом с временем подачи сыпучих материалов идентичная. Единственная разница - необходимость перевести дату в тип datetime."
   ]
  },
  {
   "cell_type": "code",
   "execution_count": 45,
   "id": "a687ace4",
   "metadata": {},
   "outputs": [],
   "source": [
    "for i in range(1,16):\n",
    "    data_bulk_time[f'Bulk {i}'] = pd.to_datetime(data_bulk_time[f'Bulk {i}'], format='%Y-%m-%d %H:%M:%S') "
   ]
  },
  {
   "cell_type": "markdown",
   "id": "c088f9b2",
   "metadata": {},
   "source": [
    "### Данные о проволочных материалах"
   ]
  },
  {
   "cell_type": "code",
   "execution_count": 46,
   "id": "4935fa36",
   "metadata": {},
   "outputs": [
    {
     "name": "stdout",
     "output_type": "stream",
     "text": [
      "<class 'pandas.core.frame.DataFrame'>\n",
      "RangeIndex: 3081 entries, 0 to 3080\n",
      "Data columns (total 10 columns):\n",
      " #   Column  Non-Null Count  Dtype  \n",
      "---  ------  --------------  -----  \n",
      " 0   key     3081 non-null   int64  \n",
      " 1   Wire 1  3055 non-null   float64\n",
      " 2   Wire 2  1079 non-null   float64\n",
      " 3   Wire 3  63 non-null     float64\n",
      " 4   Wire 4  14 non-null     float64\n",
      " 5   Wire 5  1 non-null      float64\n",
      " 6   Wire 6  73 non-null     float64\n",
      " 7   Wire 7  11 non-null     float64\n",
      " 8   Wire 8  19 non-null     float64\n",
      " 9   Wire 9  29 non-null     float64\n",
      "dtypes: float64(9), int64(1)\n",
      "memory usage: 240.8 KB\n"
     ]
    }
   ],
   "source": [
    "data_wire.info()"
   ]
  },
  {
   "cell_type": "code",
   "execution_count": 47,
   "id": "832dbdfe",
   "metadata": {},
   "outputs": [
    {
     "name": "stdout",
     "output_type": "stream",
     "text": [
      "<class 'pandas.core.frame.DataFrame'>\n",
      "RangeIndex: 3081 entries, 0 to 3080\n",
      "Data columns (total 10 columns):\n",
      " #   Column  Non-Null Count  Dtype \n",
      "---  ------  --------------  ----- \n",
      " 0   key     3081 non-null   int64 \n",
      " 1   Wire 1  3055 non-null   object\n",
      " 2   Wire 2  1079 non-null   object\n",
      " 3   Wire 3  63 non-null     object\n",
      " 4   Wire 4  14 non-null     object\n",
      " 5   Wire 5  1 non-null      object\n",
      " 6   Wire 6  73 non-null     object\n",
      " 7   Wire 7  11 non-null     object\n",
      " 8   Wire 8  19 non-null     object\n",
      " 9   Wire 9  29 non-null     object\n",
      "dtypes: int64(1), object(9)\n",
      "memory usage: 240.8+ KB\n"
     ]
    }
   ],
   "source": [
    "data_wire_time.info()"
   ]
  },
  {
   "cell_type": "code",
   "execution_count": 48,
   "id": "0533d58a",
   "metadata": {},
   "outputs": [
    {
     "data": {
      "text/html": [
       "<div>\n",
       "<style scoped>\n",
       "    .dataframe tbody tr th:only-of-type {\n",
       "        vertical-align: middle;\n",
       "    }\n",
       "\n",
       "    .dataframe tbody tr th {\n",
       "        vertical-align: top;\n",
       "    }\n",
       "\n",
       "    .dataframe thead th {\n",
       "        text-align: right;\n",
       "    }\n",
       "</style>\n",
       "<table border=\"1\" class=\"dataframe\">\n",
       "  <thead>\n",
       "    <tr style=\"text-align: right;\">\n",
       "      <th></th>\n",
       "      <th>key</th>\n",
       "      <th>Wire 1</th>\n",
       "      <th>Wire 2</th>\n",
       "      <th>Wire 3</th>\n",
       "      <th>Wire 4</th>\n",
       "      <th>Wire 5</th>\n",
       "      <th>Wire 6</th>\n",
       "      <th>Wire 7</th>\n",
       "      <th>Wire 8</th>\n",
       "      <th>Wire 9</th>\n",
       "    </tr>\n",
       "  </thead>\n",
       "  <tbody>\n",
       "    <tr>\n",
       "      <th>0</th>\n",
       "      <td>1</td>\n",
       "      <td>60.059998</td>\n",
       "      <td>NaN</td>\n",
       "      <td>NaN</td>\n",
       "      <td>NaN</td>\n",
       "      <td>NaN</td>\n",
       "      <td>NaN</td>\n",
       "      <td>NaN</td>\n",
       "      <td>NaN</td>\n",
       "      <td>NaN</td>\n",
       "    </tr>\n",
       "    <tr>\n",
       "      <th>1</th>\n",
       "      <td>2</td>\n",
       "      <td>96.052315</td>\n",
       "      <td>NaN</td>\n",
       "      <td>NaN</td>\n",
       "      <td>NaN</td>\n",
       "      <td>NaN</td>\n",
       "      <td>NaN</td>\n",
       "      <td>NaN</td>\n",
       "      <td>NaN</td>\n",
       "      <td>NaN</td>\n",
       "    </tr>\n",
       "    <tr>\n",
       "      <th>2</th>\n",
       "      <td>3</td>\n",
       "      <td>91.160157</td>\n",
       "      <td>NaN</td>\n",
       "      <td>NaN</td>\n",
       "      <td>NaN</td>\n",
       "      <td>NaN</td>\n",
       "      <td>NaN</td>\n",
       "      <td>NaN</td>\n",
       "      <td>NaN</td>\n",
       "      <td>NaN</td>\n",
       "    </tr>\n",
       "    <tr>\n",
       "      <th>3</th>\n",
       "      <td>4</td>\n",
       "      <td>89.063515</td>\n",
       "      <td>NaN</td>\n",
       "      <td>NaN</td>\n",
       "      <td>NaN</td>\n",
       "      <td>NaN</td>\n",
       "      <td>NaN</td>\n",
       "      <td>NaN</td>\n",
       "      <td>NaN</td>\n",
       "      <td>NaN</td>\n",
       "    </tr>\n",
       "    <tr>\n",
       "      <th>4</th>\n",
       "      <td>5</td>\n",
       "      <td>89.238236</td>\n",
       "      <td>9.11456</td>\n",
       "      <td>NaN</td>\n",
       "      <td>NaN</td>\n",
       "      <td>NaN</td>\n",
       "      <td>NaN</td>\n",
       "      <td>NaN</td>\n",
       "      <td>NaN</td>\n",
       "      <td>NaN</td>\n",
       "    </tr>\n",
       "  </tbody>\n",
       "</table>\n",
       "</div>"
      ],
      "text/plain": [
       "   key     Wire 1   Wire 2  Wire 3  Wire 4  Wire 5  Wire 6  Wire 7  Wire 8  \\\n",
       "0    1  60.059998      NaN     NaN     NaN     NaN     NaN     NaN     NaN   \n",
       "1    2  96.052315      NaN     NaN     NaN     NaN     NaN     NaN     NaN   \n",
       "2    3  91.160157      NaN     NaN     NaN     NaN     NaN     NaN     NaN   \n",
       "3    4  89.063515      NaN     NaN     NaN     NaN     NaN     NaN     NaN   \n",
       "4    5  89.238236  9.11456     NaN     NaN     NaN     NaN     NaN     NaN   \n",
       "\n",
       "   Wire 9  \n",
       "0     NaN  \n",
       "1     NaN  \n",
       "2     NaN  \n",
       "3     NaN  \n",
       "4     NaN  "
      ]
     },
     "execution_count": 48,
     "metadata": {},
     "output_type": "execute_result"
    }
   ],
   "source": [
    "data_wire.head()"
   ]
  },
  {
   "cell_type": "markdown",
   "id": "771af845",
   "metadata": {},
   "source": [
    "Исследуем, приходилось ли несколько раз добавлять проволоку в какую-нибудь из партий."
   ]
  },
  {
   "cell_type": "code",
   "execution_count": 49,
   "id": "7465e149",
   "metadata": {},
   "outputs": [
    {
     "data": {
      "text/plain": [
       "array([1])"
      ]
     },
     "execution_count": 49,
     "metadata": {},
     "output_type": "execute_result"
    }
   ],
   "source": [
    "data_wire['key'].value_counts().unique()"
   ]
  },
  {
   "cell_type": "markdown",
   "id": "f122a668",
   "metadata": {},
   "source": [
    "**Вывод**\n",
    "\n",
    "Во все партии проволока добавлялась только 1 раз."
   ]
  },
  {
   "cell_type": "code",
   "execution_count": 50,
   "id": "a23f162a",
   "metadata": {},
   "outputs": [
    {
     "data": {
      "text/html": [
       "<div>\n",
       "<style scoped>\n",
       "    .dataframe tbody tr th:only-of-type {\n",
       "        vertical-align: middle;\n",
       "    }\n",
       "\n",
       "    .dataframe tbody tr th {\n",
       "        vertical-align: top;\n",
       "    }\n",
       "\n",
       "    .dataframe thead th {\n",
       "        text-align: right;\n",
       "    }\n",
       "</style>\n",
       "<table border=\"1\" class=\"dataframe\">\n",
       "  <thead>\n",
       "    <tr style=\"text-align: right;\">\n",
       "      <th></th>\n",
       "      <th>key</th>\n",
       "      <th>Wire 1</th>\n",
       "      <th>Wire 2</th>\n",
       "      <th>Wire 3</th>\n",
       "      <th>Wire 4</th>\n",
       "      <th>Wire 5</th>\n",
       "      <th>Wire 6</th>\n",
       "      <th>Wire 7</th>\n",
       "      <th>Wire 8</th>\n",
       "      <th>Wire 9</th>\n",
       "    </tr>\n",
       "  </thead>\n",
       "  <tbody>\n",
       "    <tr>\n",
       "      <th>0</th>\n",
       "      <td>1</td>\n",
       "      <td>2019-05-03 11:11:41</td>\n",
       "      <td>NaN</td>\n",
       "      <td>NaN</td>\n",
       "      <td>NaN</td>\n",
       "      <td>NaN</td>\n",
       "      <td>NaN</td>\n",
       "      <td>NaN</td>\n",
       "      <td>NaN</td>\n",
       "      <td>NaN</td>\n",
       "    </tr>\n",
       "    <tr>\n",
       "      <th>1</th>\n",
       "      <td>2</td>\n",
       "      <td>2019-05-03 11:46:10</td>\n",
       "      <td>NaN</td>\n",
       "      <td>NaN</td>\n",
       "      <td>NaN</td>\n",
       "      <td>NaN</td>\n",
       "      <td>NaN</td>\n",
       "      <td>NaN</td>\n",
       "      <td>NaN</td>\n",
       "      <td>NaN</td>\n",
       "    </tr>\n",
       "    <tr>\n",
       "      <th>2</th>\n",
       "      <td>3</td>\n",
       "      <td>2019-05-03 12:13:47</td>\n",
       "      <td>NaN</td>\n",
       "      <td>NaN</td>\n",
       "      <td>NaN</td>\n",
       "      <td>NaN</td>\n",
       "      <td>NaN</td>\n",
       "      <td>NaN</td>\n",
       "      <td>NaN</td>\n",
       "      <td>NaN</td>\n",
       "    </tr>\n",
       "    <tr>\n",
       "      <th>3</th>\n",
       "      <td>4</td>\n",
       "      <td>2019-05-03 12:48:05</td>\n",
       "      <td>NaN</td>\n",
       "      <td>NaN</td>\n",
       "      <td>NaN</td>\n",
       "      <td>NaN</td>\n",
       "      <td>NaN</td>\n",
       "      <td>NaN</td>\n",
       "      <td>NaN</td>\n",
       "      <td>NaN</td>\n",
       "    </tr>\n",
       "    <tr>\n",
       "      <th>4</th>\n",
       "      <td>5</td>\n",
       "      <td>2019-05-03 13:18:15</td>\n",
       "      <td>2019-05-03 13:32:06</td>\n",
       "      <td>NaN</td>\n",
       "      <td>NaN</td>\n",
       "      <td>NaN</td>\n",
       "      <td>NaN</td>\n",
       "      <td>NaN</td>\n",
       "      <td>NaN</td>\n",
       "      <td>NaN</td>\n",
       "    </tr>\n",
       "  </tbody>\n",
       "</table>\n",
       "</div>"
      ],
      "text/plain": [
       "   key               Wire 1               Wire 2 Wire 3 Wire 4 Wire 5 Wire 6  \\\n",
       "0    1  2019-05-03 11:11:41                  NaN    NaN    NaN    NaN    NaN   \n",
       "1    2  2019-05-03 11:46:10                  NaN    NaN    NaN    NaN    NaN   \n",
       "2    3  2019-05-03 12:13:47                  NaN    NaN    NaN    NaN    NaN   \n",
       "3    4  2019-05-03 12:48:05                  NaN    NaN    NaN    NaN    NaN   \n",
       "4    5  2019-05-03 13:18:15  2019-05-03 13:32:06    NaN    NaN    NaN    NaN   \n",
       "\n",
       "  Wire 7 Wire 8 Wire 9  \n",
       "0    NaN    NaN    NaN  \n",
       "1    NaN    NaN    NaN  \n",
       "2    NaN    NaN    NaN  \n",
       "3    NaN    NaN    NaN  \n",
       "4    NaN    NaN    NaN  "
      ]
     },
     "execution_count": 50,
     "metadata": {},
     "output_type": "execute_result"
    }
   ],
   "source": [
    "data_wire_time.head()"
   ]
  },
  {
   "cell_type": "markdown",
   "id": "9baccad8",
   "metadata": {},
   "source": [
    "**Вывод**\n",
    "\n",
    "Ситуация с датафреймами с информацией о подаче проволоки идентичная. Здесь также есть необходимость перевести дату из \"data_wire_time\" в тип datetime."
   ]
  },
  {
   "cell_type": "code",
   "execution_count": 51,
   "id": "1a3e77fc",
   "metadata": {},
   "outputs": [],
   "source": [
    "for i in range(1,10):\n",
    "    data_wire_time[f'Wire {i}'] = pd.to_datetime(data_wire_time[f'Wire {i}'], format='%Y-%m-%d %H:%M:%S') "
   ]
  },
  {
   "cell_type": "code",
   "execution_count": 52,
   "id": "5afad912",
   "metadata": {},
   "outputs": [
    {
     "data": {
      "image/png": "[encoded data removed]",
      "text/plain": [
       "<Figure size 432x288 with 1 Axes>"
      ]
     },
     "metadata": {
      "needs_background": "light"
     },
     "output_type": "display_data"
    }
   ],
   "source": [
    "plt.title('Диаграмма размаха для всех проволок')\n",
    "data_wire.drop('key',axis=1).boxplot()\n",
    "plt.show()\n"
   ]
  },
  {
   "cell_type": "code",
   "execution_count": 53,
   "id": "3887da37",
   "metadata": {},
   "outputs": [
    {
     "data": {
      "text/html": [
       "<div>\n",
       "<style scoped>\n",
       "    .dataframe tbody tr th:only-of-type {\n",
       "        vertical-align: middle;\n",
       "    }\n",
       "\n",
       "    .dataframe tbody tr th {\n",
       "        vertical-align: top;\n",
       "    }\n",
       "\n",
       "    .dataframe thead th {\n",
       "        text-align: right;\n",
       "    }\n",
       "</style>\n",
       "<table border=\"1\" class=\"dataframe\">\n",
       "  <thead>\n",
       "    <tr style=\"text-align: right;\">\n",
       "      <th></th>\n",
       "      <th>key</th>\n",
       "      <th>Wire 1</th>\n",
       "      <th>Wire 2</th>\n",
       "      <th>Wire 3</th>\n",
       "      <th>Wire 4</th>\n",
       "      <th>Wire 5</th>\n",
       "      <th>Wire 6</th>\n",
       "      <th>Wire 7</th>\n",
       "      <th>Wire 8</th>\n",
       "      <th>Wire 9</th>\n",
       "    </tr>\n",
       "  </thead>\n",
       "  <tbody>\n",
       "    <tr>\n",
       "      <th>0</th>\n",
       "      <td>1</td>\n",
       "      <td>60.059998</td>\n",
       "      <td>0.00000</td>\n",
       "      <td>0.0</td>\n",
       "      <td>0.0</td>\n",
       "      <td>0.0</td>\n",
       "      <td>0.0</td>\n",
       "      <td>0.0</td>\n",
       "      <td>0.0</td>\n",
       "      <td>0.0</td>\n",
       "    </tr>\n",
       "    <tr>\n",
       "      <th>1</th>\n",
       "      <td>2</td>\n",
       "      <td>96.052315</td>\n",
       "      <td>0.00000</td>\n",
       "      <td>0.0</td>\n",
       "      <td>0.0</td>\n",
       "      <td>0.0</td>\n",
       "      <td>0.0</td>\n",
       "      <td>0.0</td>\n",
       "      <td>0.0</td>\n",
       "      <td>0.0</td>\n",
       "    </tr>\n",
       "    <tr>\n",
       "      <th>2</th>\n",
       "      <td>3</td>\n",
       "      <td>91.160157</td>\n",
       "      <td>0.00000</td>\n",
       "      <td>0.0</td>\n",
       "      <td>0.0</td>\n",
       "      <td>0.0</td>\n",
       "      <td>0.0</td>\n",
       "      <td>0.0</td>\n",
       "      <td>0.0</td>\n",
       "      <td>0.0</td>\n",
       "    </tr>\n",
       "    <tr>\n",
       "      <th>3</th>\n",
       "      <td>4</td>\n",
       "      <td>89.063515</td>\n",
       "      <td>0.00000</td>\n",
       "      <td>0.0</td>\n",
       "      <td>0.0</td>\n",
       "      <td>0.0</td>\n",
       "      <td>0.0</td>\n",
       "      <td>0.0</td>\n",
       "      <td>0.0</td>\n",
       "      <td>0.0</td>\n",
       "    </tr>\n",
       "    <tr>\n",
       "      <th>4</th>\n",
       "      <td>5</td>\n",
       "      <td>89.238236</td>\n",
       "      <td>9.11456</td>\n",
       "      <td>0.0</td>\n",
       "      <td>0.0</td>\n",
       "      <td>0.0</td>\n",
       "      <td>0.0</td>\n",
       "      <td>0.0</td>\n",
       "      <td>0.0</td>\n",
       "      <td>0.0</td>\n",
       "    </tr>\n",
       "  </tbody>\n",
       "</table>\n",
       "</div>"
      ],
      "text/plain": [
       "   key     Wire 1   Wire 2  Wire 3  Wire 4  Wire 5  Wire 6  Wire 7  Wire 8  \\\n",
       "0    1  60.059998  0.00000     0.0     0.0     0.0     0.0     0.0     0.0   \n",
       "1    2  96.052315  0.00000     0.0     0.0     0.0     0.0     0.0     0.0   \n",
       "2    3  91.160157  0.00000     0.0     0.0     0.0     0.0     0.0     0.0   \n",
       "3    4  89.063515  0.00000     0.0     0.0     0.0     0.0     0.0     0.0   \n",
       "4    5  89.238236  9.11456     0.0     0.0     0.0     0.0     0.0     0.0   \n",
       "\n",
       "   Wire 9  \n",
       "0     0.0  \n",
       "1     0.0  \n",
       "2     0.0  \n",
       "3     0.0  \n",
       "4     0.0  "
      ]
     },
     "execution_count": 53,
     "metadata": {},
     "output_type": "execute_result"
    }
   ],
   "source": [
    "data_wire=data_wire.fillna(0)\n",
    "data_wire.head()"
   ]
  },
  {
   "cell_type": "markdown",
   "id": "4edfb084",
   "metadata": {},
   "source": [
    "**Вывод**\n",
    "\n",
    "Диаграммы размаза у проволок получились различные, однако, из всех выделяется проволока №5."
   ]
  },
  {
   "cell_type": "code",
   "execution_count": 54,
   "id": "c070b117",
   "metadata": {},
   "outputs": [
    {
     "data": {
      "text/html": [
       "<div>\n",
       "<style scoped>\n",
       "    .dataframe tbody tr th:only-of-type {\n",
       "        vertical-align: middle;\n",
       "    }\n",
       "\n",
       "    .dataframe tbody tr th {\n",
       "        vertical-align: top;\n",
       "    }\n",
       "\n",
       "    .dataframe thead th {\n",
       "        text-align: right;\n",
       "    }\n",
       "</style>\n",
       "<table border=\"1\" class=\"dataframe\">\n",
       "  <thead>\n",
       "    <tr style=\"text-align: right;\">\n",
       "      <th></th>\n",
       "      <th>key</th>\n",
       "      <th>Wire 1</th>\n",
       "      <th>Wire 2</th>\n",
       "      <th>Wire 3</th>\n",
       "      <th>Wire 4</th>\n",
       "      <th>Wire 5</th>\n",
       "      <th>Wire 6</th>\n",
       "      <th>Wire 7</th>\n",
       "      <th>Wire 8</th>\n",
       "      <th>Wire 9</th>\n",
       "    </tr>\n",
       "  </thead>\n",
       "  <tbody>\n",
       "    <tr>\n",
       "      <th>2440</th>\n",
       "      <td>2567</td>\n",
       "      <td>18.30192</td>\n",
       "      <td>0.0</td>\n",
       "      <td>96.288193</td>\n",
       "      <td>0.0</td>\n",
       "      <td>15.132</td>\n",
       "      <td>73.307526</td>\n",
       "      <td>0.0</td>\n",
       "      <td>0.0</td>\n",
       "      <td>0.0</td>\n",
       "    </tr>\n",
       "  </tbody>\n",
       "</table>\n",
       "</div>"
      ],
      "text/plain": [
       "       key    Wire 1  Wire 2     Wire 3  Wire 4  Wire 5     Wire 6  Wire 7  \\\n",
       "2440  2567  18.30192     0.0  96.288193     0.0  15.132  73.307526     0.0   \n",
       "\n",
       "      Wire 8  Wire 9  \n",
       "2440     0.0     0.0  "
      ]
     },
     "execution_count": 54,
     "metadata": {},
     "output_type": "execute_result"
    }
   ],
   "source": [
    "data_wire[data_wire['Wire 5'] > 0]"
   ]
  },
  {
   "cell_type": "markdown",
   "id": "4c04c90a",
   "metadata": {},
   "source": [
    "**Вывод**\n",
    "\n",
    "Сталь с добавлением проволоки № 5 - редкий зверь."
   ]
  },
  {
   "cell_type": "markdown",
   "id": "78dc197a",
   "metadata": {},
   "source": [
    "### Данные о продувке сплава газом"
   ]
  },
  {
   "cell_type": "code",
   "execution_count": 55,
   "id": "8e4667d8",
   "metadata": {},
   "outputs": [
    {
     "name": "stdout",
     "output_type": "stream",
     "text": [
      "<class 'pandas.core.frame.DataFrame'>\n",
      "RangeIndex: 3239 entries, 0 to 3238\n",
      "Data columns (total 2 columns):\n",
      " #   Column  Non-Null Count  Dtype  \n",
      "---  ------  --------------  -----  \n",
      " 0   key     3239 non-null   int64  \n",
      " 1   Газ 1   3239 non-null   float64\n",
      "dtypes: float64(1), int64(1)\n",
      "memory usage: 50.7 KB\n"
     ]
    }
   ],
   "source": [
    "data_gas.info()"
   ]
  },
  {
   "cell_type": "code",
   "execution_count": 56,
   "id": "5c17ffde",
   "metadata": {},
   "outputs": [
    {
     "data": {
      "text/html": [
       "<div>\n",
       "<style scoped>\n",
       "    .dataframe tbody tr th:only-of-type {\n",
       "        vertical-align: middle;\n",
       "    }\n",
       "\n",
       "    .dataframe tbody tr th {\n",
       "        vertical-align: top;\n",
       "    }\n",
       "\n",
       "    .dataframe thead th {\n",
       "        text-align: right;\n",
       "    }\n",
       "</style>\n",
       "<table border=\"1\" class=\"dataframe\">\n",
       "  <thead>\n",
       "    <tr style=\"text-align: right;\">\n",
       "      <th></th>\n",
       "      <th>key</th>\n",
       "      <th>Газ 1</th>\n",
       "    </tr>\n",
       "  </thead>\n",
       "  <tbody>\n",
       "    <tr>\n",
       "      <th>3234</th>\n",
       "      <td>3237</td>\n",
       "      <td>5.543905</td>\n",
       "    </tr>\n",
       "    <tr>\n",
       "      <th>3235</th>\n",
       "      <td>3238</td>\n",
       "      <td>6.745669</td>\n",
       "    </tr>\n",
       "    <tr>\n",
       "      <th>3236</th>\n",
       "      <td>3239</td>\n",
       "      <td>16.023518</td>\n",
       "    </tr>\n",
       "    <tr>\n",
       "      <th>3237</th>\n",
       "      <td>3240</td>\n",
       "      <td>11.863103</td>\n",
       "    </tr>\n",
       "    <tr>\n",
       "      <th>3238</th>\n",
       "      <td>3241</td>\n",
       "      <td>12.680959</td>\n",
       "    </tr>\n",
       "  </tbody>\n",
       "</table>\n",
       "</div>"
      ],
      "text/plain": [
       "       key      Газ 1\n",
       "3234  3237   5.543905\n",
       "3235  3238   6.745669\n",
       "3236  3239  16.023518\n",
       "3237  3240  11.863103\n",
       "3238  3241  12.680959"
      ]
     },
     "execution_count": 56,
     "metadata": {},
     "output_type": "execute_result"
    }
   ],
   "source": [
    "data_gas.tail()"
   ]
  },
  {
   "cell_type": "code",
   "execution_count": 57,
   "id": "b35e4b93",
   "metadata": {},
   "outputs": [
    {
     "data": {
      "text/html": [
       "<div>\n",
       "<style scoped>\n",
       "    .dataframe tbody tr th:only-of-type {\n",
       "        vertical-align: middle;\n",
       "    }\n",
       "\n",
       "    .dataframe tbody tr th {\n",
       "        vertical-align: top;\n",
       "    }\n",
       "\n",
       "    .dataframe thead th {\n",
       "        text-align: right;\n",
       "    }\n",
       "</style>\n",
       "<table border=\"1\" class=\"dataframe\">\n",
       "  <thead>\n",
       "    <tr style=\"text-align: right;\">\n",
       "      <th></th>\n",
       "      <th>Газ 1</th>\n",
       "    </tr>\n",
       "  </thead>\n",
       "  <tbody>\n",
       "    <tr>\n",
       "      <th>count</th>\n",
       "      <td>3239.000000</td>\n",
       "    </tr>\n",
       "    <tr>\n",
       "      <th>mean</th>\n",
       "      <td>11.002062</td>\n",
       "    </tr>\n",
       "    <tr>\n",
       "      <th>std</th>\n",
       "      <td>6.220327</td>\n",
       "    </tr>\n",
       "    <tr>\n",
       "      <th>min</th>\n",
       "      <td>0.008399</td>\n",
       "    </tr>\n",
       "    <tr>\n",
       "      <th>25%</th>\n",
       "      <td>7.043089</td>\n",
       "    </tr>\n",
       "    <tr>\n",
       "      <th>50%</th>\n",
       "      <td>9.836267</td>\n",
       "    </tr>\n",
       "    <tr>\n",
       "      <th>75%</th>\n",
       "      <td>13.769915</td>\n",
       "    </tr>\n",
       "    <tr>\n",
       "      <th>max</th>\n",
       "      <td>77.995040</td>\n",
       "    </tr>\n",
       "  </tbody>\n",
       "</table>\n",
       "</div>"
      ],
      "text/plain": [
       "             Газ 1\n",
       "count  3239.000000\n",
       "mean     11.002062\n",
       "std       6.220327\n",
       "min       0.008399\n",
       "25%       7.043089\n",
       "50%       9.836267\n",
       "75%      13.769915\n",
       "max      77.995040"
      ]
     },
     "metadata": {},
     "output_type": "display_data"
    },
    {
     "data": {
      "image/png": "[encoded data removed]",
      "text/plain": [
       "<Figure size 432x288 with 1 Axes>"
      ]
     },
     "metadata": {
      "needs_background": "light"
     },
     "output_type": "display_data"
    }
   ],
   "source": [
    "data_gas.drop('key',axis=1).boxplot()\n",
    "display(data_gas.drop('key',axis=1).describe())\n",
    "a = data_gas.drop('key',axis=1).describe()"
   ]
  },
  {
   "cell_type": "markdown",
   "id": "00daf8a9",
   "metadata": {},
   "source": [
    "**Вывод**\n",
    "\n",
    "Данные о газе пропусков не содержат. Выбросы в распределении - рабочие значения для редких сплавов."
   ]
  },
  {
   "cell_type": "markdown",
   "id": "649bc038",
   "metadata": {},
   "source": [
    "### Данные о температуре"
   ]
  },
  {
   "cell_type": "code",
   "execution_count": 58,
   "id": "0f29ddc4",
   "metadata": {},
   "outputs": [
    {
     "name": "stdout",
     "output_type": "stream",
     "text": [
      "<class 'pandas.core.frame.DataFrame'>\n",
      "RangeIndex: 15907 entries, 0 to 15906\n",
      "Data columns (total 3 columns):\n",
      " #   Column        Non-Null Count  Dtype  \n",
      "---  ------        --------------  -----  \n",
      " 0   key           15907 non-null  int64  \n",
      " 1   Время замера  15907 non-null  object \n",
      " 2   Температура   13006 non-null  float64\n",
      "dtypes: float64(1), int64(1), object(1)\n",
      "memory usage: 372.9+ KB\n"
     ]
    }
   ],
   "source": [
    "data_temp.info()"
   ]
  },
  {
   "cell_type": "code",
   "execution_count": 59,
   "id": "787b18aa",
   "metadata": {},
   "outputs": [
    {
     "data": {
      "text/html": [
       "<div>\n",
       "<style scoped>\n",
       "    .dataframe tbody tr th:only-of-type {\n",
       "        vertical-align: middle;\n",
       "    }\n",
       "\n",
       "    .dataframe tbody tr th {\n",
       "        vertical-align: top;\n",
       "    }\n",
       "\n",
       "    .dataframe thead th {\n",
       "        text-align: right;\n",
       "    }\n",
       "</style>\n",
       "<table border=\"1\" class=\"dataframe\">\n",
       "  <thead>\n",
       "    <tr style=\"text-align: right;\">\n",
       "      <th></th>\n",
       "      <th>key</th>\n",
       "      <th>Время замера</th>\n",
       "      <th>Температура</th>\n",
       "    </tr>\n",
       "  </thead>\n",
       "  <tbody>\n",
       "    <tr>\n",
       "      <th>0</th>\n",
       "      <td>1</td>\n",
       "      <td>2019-05-03 11:16:18</td>\n",
       "      <td>1571.0</td>\n",
       "    </tr>\n",
       "    <tr>\n",
       "      <th>1</th>\n",
       "      <td>1</td>\n",
       "      <td>2019-05-03 11:25:53</td>\n",
       "      <td>1604.0</td>\n",
       "    </tr>\n",
       "    <tr>\n",
       "      <th>2</th>\n",
       "      <td>1</td>\n",
       "      <td>2019-05-03 11:29:11</td>\n",
       "      <td>1618.0</td>\n",
       "    </tr>\n",
       "    <tr>\n",
       "      <th>3</th>\n",
       "      <td>1</td>\n",
       "      <td>2019-05-03 11:30:01</td>\n",
       "      <td>1601.0</td>\n",
       "    </tr>\n",
       "    <tr>\n",
       "      <th>4</th>\n",
       "      <td>1</td>\n",
       "      <td>2019-05-03 11:30:39</td>\n",
       "      <td>1613.0</td>\n",
       "    </tr>\n",
       "    <tr>\n",
       "      <th>5</th>\n",
       "      <td>2</td>\n",
       "      <td>2019-05-03 11:37:27</td>\n",
       "      <td>1581.0</td>\n",
       "    </tr>\n",
       "    <tr>\n",
       "      <th>6</th>\n",
       "      <td>2</td>\n",
       "      <td>2019-05-03 11:38:00</td>\n",
       "      <td>1577.0</td>\n",
       "    </tr>\n",
       "    <tr>\n",
       "      <th>7</th>\n",
       "      <td>2</td>\n",
       "      <td>2019-05-03 11:49:38</td>\n",
       "      <td>1589.0</td>\n",
       "    </tr>\n",
       "    <tr>\n",
       "      <th>8</th>\n",
       "      <td>2</td>\n",
       "      <td>2019-05-03 11:55:50</td>\n",
       "      <td>1604.0</td>\n",
       "    </tr>\n",
       "    <tr>\n",
       "      <th>9</th>\n",
       "      <td>2</td>\n",
       "      <td>2019-05-03 11:58:24</td>\n",
       "      <td>1608.0</td>\n",
       "    </tr>\n",
       "    <tr>\n",
       "      <th>10</th>\n",
       "      <td>2</td>\n",
       "      <td>2019-05-03 11:59:12</td>\n",
       "      <td>1602.0</td>\n",
       "    </tr>\n",
       "    <tr>\n",
       "      <th>11</th>\n",
       "      <td>3</td>\n",
       "      <td>2019-05-03 12:13:17</td>\n",
       "      <td>1596.0</td>\n",
       "    </tr>\n",
       "  </tbody>\n",
       "</table>\n",
       "</div>"
      ],
      "text/plain": [
       "    key         Время замера  Температура\n",
       "0     1  2019-05-03 11:16:18       1571.0\n",
       "1     1  2019-05-03 11:25:53       1604.0\n",
       "2     1  2019-05-03 11:29:11       1618.0\n",
       "3     1  2019-05-03 11:30:01       1601.0\n",
       "4     1  2019-05-03 11:30:39       1613.0\n",
       "5     2  2019-05-03 11:37:27       1581.0\n",
       "6     2  2019-05-03 11:38:00       1577.0\n",
       "7     2  2019-05-03 11:49:38       1589.0\n",
       "8     2  2019-05-03 11:55:50       1604.0\n",
       "9     2  2019-05-03 11:58:24       1608.0\n",
       "10    2  2019-05-03 11:59:12       1602.0\n",
       "11    3  2019-05-03 12:13:17       1596.0"
      ]
     },
     "execution_count": 59,
     "metadata": {},
     "output_type": "execute_result"
    }
   ],
   "source": [
    "data_temp.head(12)"
   ]
  },
  {
   "cell_type": "markdown",
   "id": "2c870ae1",
   "metadata": {},
   "source": [
    "**Вывод**\n",
    "\n",
    "В данных о замере температуры есть пропуски, от которых стоит избавиться."
   ]
  },
  {
   "cell_type": "code",
   "execution_count": 60,
   "id": "ad076766",
   "metadata": {},
   "outputs": [
    {
     "data": {
      "text/html": [
       "<div>\n",
       "<style scoped>\n",
       "    .dataframe tbody tr th:only-of-type {\n",
       "        vertical-align: middle;\n",
       "    }\n",
       "\n",
       "    .dataframe tbody tr th {\n",
       "        vertical-align: top;\n",
       "    }\n",
       "\n",
       "    .dataframe thead th {\n",
       "        text-align: right;\n",
       "    }\n",
       "</style>\n",
       "<table border=\"1\" class=\"dataframe\">\n",
       "  <thead>\n",
       "    <tr style=\"text-align: right;\">\n",
       "      <th></th>\n",
       "      <th>key</th>\n",
       "      <th>Время замера</th>\n",
       "      <th>Температура</th>\n",
       "    </tr>\n",
       "  </thead>\n",
       "  <tbody>\n",
       "    <tr>\n",
       "      <th>0</th>\n",
       "      <td>1</td>\n",
       "      <td>2019-05-03 11:16:18</td>\n",
       "      <td>1571.0</td>\n",
       "    </tr>\n",
       "    <tr>\n",
       "      <th>1</th>\n",
       "      <td>1</td>\n",
       "      <td>2019-05-03 11:25:53</td>\n",
       "      <td>1604.0</td>\n",
       "    </tr>\n",
       "    <tr>\n",
       "      <th>2</th>\n",
       "      <td>1</td>\n",
       "      <td>2019-05-03 11:29:11</td>\n",
       "      <td>1618.0</td>\n",
       "    </tr>\n",
       "    <tr>\n",
       "      <th>3</th>\n",
       "      <td>1</td>\n",
       "      <td>2019-05-03 11:30:01</td>\n",
       "      <td>1601.0</td>\n",
       "    </tr>\n",
       "    <tr>\n",
       "      <th>4</th>\n",
       "      <td>1</td>\n",
       "      <td>2019-05-03 11:30:39</td>\n",
       "      <td>1613.0</td>\n",
       "    </tr>\n",
       "  </tbody>\n",
       "</table>\n",
       "</div>"
      ],
      "text/plain": [
       "   key         Время замера  Температура\n",
       "0    1  2019-05-03 11:16:18       1571.0\n",
       "1    1  2019-05-03 11:25:53       1604.0\n",
       "2    1  2019-05-03 11:29:11       1618.0\n",
       "3    1  2019-05-03 11:30:01       1601.0\n",
       "4    1  2019-05-03 11:30:39       1613.0"
      ]
     },
     "execution_count": 60,
     "metadata": {},
     "output_type": "execute_result"
    }
   ],
   "source": [
    "omission = data_temp[data_temp['Температура'].isna() == True]['key'].unique()\n",
    "data_temp = data_temp.query('key not in @omission')\n",
    "data_temp.head()"
   ]
  },
  {
   "cell_type": "code",
   "execution_count": 61,
   "id": "713ff18e",
   "metadata": {},
   "outputs": [],
   "source": [
    "a = data_temp['key'].value_counts()\n",
    "alone = a[a == 1].index\n",
    "data_temp = data_temp.query('key not in @alone')"
   ]
  },
  {
   "cell_type": "markdown",
   "id": "dc2c66d3",
   "metadata": {},
   "source": [
    "## Список уточняющих вопросов"
   ]
  },
  {
   "cell_type": "markdown",
   "id": "a2e42613",
   "metadata": {},
   "source": [
    "1. Какого качества предсказания мне необходимо добиться и на какой метрике?\n",
    "2. Есть ли ограничения на скорость построения предсказаний? Критична ли ресурсоёмкость?\n",
    "3. В описании к заданию говорится о том, что температура измеряется перед добавлением легирующих материалов, однако, если посмотреть на время первого замера в партии №1 и №3, то оно говорит о том, что замеры были проведены после добавления сыпучего материала № 12,14,15. Считать это неточностью описания задачи или датафреймы о сыпучих материалах и проволоке содержали пропуски добавления легантов?\n",
    "4. Сыпучие материалы № 5 и 12 имеют выбросы, это связано с тем, что изготовлялся какой-то редкий сплав или это была ошибка технологов?\n",
    "4. Правильно ли я понимаю, что последний замер температуры в партии и есть наш целевой признак? "
   ]
  },
  {
   "cell_type": "markdown",
   "id": "cecdbd57",
   "metadata": {},
   "source": [
    "## План работы"
   ]
  },
  {
   "cell_type": "markdown",
   "id": "436a6aa3",
   "metadata": {},
   "source": [
    "1. Уточнение образовавшихся вопросов.\n",
    "2. Предварительная обработка данных: удаление ненужных пропусков, неадекватных значений.\n",
    "3. Подготовка датафрейма с признаками, которые объективно влияют на температуру расплава. Разбиение его на выборки (обучающую, валидационную и тестовую)\n",
    "4. Определение модели МО с лучшей метрикой качества предсказания. \n",
    "5. Написание вывода и отчёта."
   ]
  },
  {
   "cell_type": "markdown",
   "id": "fc9504e4",
   "metadata": {},
   "source": [
    "### Создание датафрейма с признаками и целевым признаком\n"
   ]
  },
  {
   "cell_type": "code",
   "execution_count": 62,
   "id": "3ce22cdf",
   "metadata": {},
   "outputs": [
    {
     "data": {
      "text/html": [
       "<div>\n",
       "<style scoped>\n",
       "    .dataframe tbody tr th:only-of-type {\n",
       "        vertical-align: middle;\n",
       "    }\n",
       "\n",
       "    .dataframe tbody tr th {\n",
       "        vertical-align: top;\n",
       "    }\n",
       "\n",
       "    .dataframe thead th {\n",
       "        text-align: right;\n",
       "    }\n",
       "</style>\n",
       "<table border=\"1\" class=\"dataframe\">\n",
       "  <thead>\n",
       "    <tr style=\"text-align: right;\">\n",
       "      <th></th>\n",
       "      <th>Время нагрева</th>\n",
       "      <th>Активная мощность</th>\n",
       "      <th>Реактивная мощность</th>\n",
       "      <th>Количество запусков нагрева</th>\n",
       "      <th>Энергия</th>\n",
       "    </tr>\n",
       "    <tr>\n",
       "      <th>key</th>\n",
       "      <th></th>\n",
       "      <th></th>\n",
       "      <th></th>\n",
       "      <th></th>\n",
       "      <th></th>\n",
       "    </tr>\n",
       "  </thead>\n",
       "  <tbody>\n",
       "    <tr>\n",
       "      <th>1</th>\n",
       "      <td>1098.0</td>\n",
       "      <td>4.878147</td>\n",
       "      <td>3.183241</td>\n",
       "      <td>5</td>\n",
       "      <td>5356.204921</td>\n",
       "    </tr>\n",
       "    <tr>\n",
       "      <th>2</th>\n",
       "      <td>811.0</td>\n",
       "      <td>3.052598</td>\n",
       "      <td>1.998112</td>\n",
       "      <td>4</td>\n",
       "      <td>2475.657040</td>\n",
       "    </tr>\n",
       "    <tr>\n",
       "      <th>3</th>\n",
       "      <td>655.0</td>\n",
       "      <td>2.525882</td>\n",
       "      <td>1.599076</td>\n",
       "      <td>5</td>\n",
       "      <td>1654.452851</td>\n",
       "    </tr>\n",
       "    <tr>\n",
       "      <th>4</th>\n",
       "      <td>741.0</td>\n",
       "      <td>3.209250</td>\n",
       "      <td>2.060298</td>\n",
       "      <td>4</td>\n",
       "      <td>2378.054308</td>\n",
       "    </tr>\n",
       "    <tr>\n",
       "      <th>5</th>\n",
       "      <td>869.0</td>\n",
       "      <td>3.347173</td>\n",
       "      <td>2.252643</td>\n",
       "      <td>4</td>\n",
       "      <td>2908.693106</td>\n",
       "    </tr>\n",
       "    <tr>\n",
       "      <th>...</th>\n",
       "      <td>...</td>\n",
       "      <td>...</td>\n",
       "      <td>...</td>\n",
       "      <td>...</td>\n",
       "      <td>...</td>\n",
       "    </tr>\n",
       "    <tr>\n",
       "      <th>3237</th>\n",
       "      <td>909.0</td>\n",
       "      <td>3.932467</td>\n",
       "      <td>2.828459</td>\n",
       "      <td>5</td>\n",
       "      <td>3574.612141</td>\n",
       "    </tr>\n",
       "    <tr>\n",
       "      <th>3238</th>\n",
       "      <td>546.0</td>\n",
       "      <td>2.106529</td>\n",
       "      <td>1.681182</td>\n",
       "      <td>3</td>\n",
       "      <td>1150.164662</td>\n",
       "    </tr>\n",
       "    <tr>\n",
       "      <th>3239</th>\n",
       "      <td>1216.0</td>\n",
       "      <td>4.666754</td>\n",
       "      <td>3.111617</td>\n",
       "      <td>8</td>\n",
       "      <td>5674.773372</td>\n",
       "    </tr>\n",
       "    <tr>\n",
       "      <th>3240</th>\n",
       "      <td>839.0</td>\n",
       "      <td>2.984083</td>\n",
       "      <td>2.483267</td>\n",
       "      <td>5</td>\n",
       "      <td>2503.645656</td>\n",
       "    </tr>\n",
       "    <tr>\n",
       "      <th>3241</th>\n",
       "      <td>659.0</td>\n",
       "      <td>2.471447</td>\n",
       "      <td>1.696199</td>\n",
       "      <td>5</td>\n",
       "      <td>1628.683445</td>\n",
       "    </tr>\n",
       "  </tbody>\n",
       "</table>\n",
       "<p>3214 rows × 5 columns</p>\n",
       "</div>"
      ],
      "text/plain": [
       "      Время нагрева  Активная мощность  Реактивная мощность  \\\n",
       "key                                                           \n",
       "1            1098.0           4.878147             3.183241   \n",
       "2             811.0           3.052598             1.998112   \n",
       "3             655.0           2.525882             1.599076   \n",
       "4             741.0           3.209250             2.060298   \n",
       "5             869.0           3.347173             2.252643   \n",
       "...             ...                ...                  ...   \n",
       "3237          909.0           3.932467             2.828459   \n",
       "3238          546.0           2.106529             1.681182   \n",
       "3239         1216.0           4.666754             3.111617   \n",
       "3240          839.0           2.984083             2.483267   \n",
       "3241          659.0           2.471447             1.696199   \n",
       "\n",
       "      Количество запусков нагрева      Энергия  \n",
       "key                                             \n",
       "1                               5  5356.204921  \n",
       "2                               4  2475.657040  \n",
       "3                               5  1654.452851  \n",
       "4                               4  2378.054308  \n",
       "5                               4  2908.693106  \n",
       "...                           ...          ...  \n",
       "3237                            5  3574.612141  \n",
       "3238                            3  1150.164662  \n",
       "3239                            8  5674.773372  \n",
       "3240                            5  2503.645656  \n",
       "3241                            5  1628.683445  \n",
       "\n",
       "[3214 rows x 5 columns]"
      ]
     },
     "execution_count": 62,
     "metadata": {},
     "output_type": "execute_result"
    }
   ],
   "source": [
    "dk = pd.concat([data_arc['key'],\n",
    "                data_arc['Конец нагрева дугой'] - data_arc['Начало нагрева дугой']], axis=1, keys=['key', 'Время нагрева'])\n",
    "# создаём отдельный датафрейм с номерами партии и разностью времён между концом и началом нагрева\n",
    "\n",
    "all_time_heat = dk.pivot_table(index='key', values='Время нагрева', aggfunc='sum') / np.timedelta64(1, 's') # сводная таблица,\n",
    "# в которой данные сгруппированы по партиям, а интересующая нас величина - суммарное время нагрева партии в секундах\n",
    "\n",
    "heat_count = data_arc.pivot_table(index='key', values = 'Активная мощность', aggfunc='count')\n",
    "heat_count.rename(columns={'Активная мощность': 'Количество запусков нагрева'}, inplace=True)\n",
    "\n",
    "powers = data_arc.pivot_table(index='key', values=['Активная мощность','Реактивная мощность'], aggfunc='sum')\n",
    "data_heat = all_time_heat.merge(powers, on='key')\n",
    "data_heat = data_heat.merge(heat_count, on='key')\n",
    "data_heat['Энергия'] = np.sqrt((data_heat['Активная мощность'] ** 2 )) * data_heat['Время нагрева']\n",
    "data_heat"
   ]
  },
  {
   "cell_type": "code",
   "execution_count": 63,
   "id": "13f42480",
   "metadata": {},
   "outputs": [],
   "source": [
    "final_temp = []         # массив последних замеров температуры для всех партий\n",
    "first_temp = []         # массив первых замеров температуры для всех партий\n",
    "part = []               # массив партий, где измерялась температура\n",
    "for i in data_temp['key'].unique():\n",
    "    first_temp.append(data_temp[data_temp['key'] == i]['Температура'].reset_index(drop = True).loc[0])  # срез по i-ой партии\n",
    "    final_temp.append(data_temp[data_temp['key'] == i]['Температура'].reset_index(drop = True).iloc[-1])  # срез по i-ой партии\n",
    "    part.append(data_temp[data_temp['key'] == i]['key'].reset_index(drop = True).iloc[-1])  # срез по i-ой партии\n",
    "d = {'key': part, 'Начальная температура': first_temp, 'Температура': final_temp}\n",
    "df=pd.DataFrame(data=d)\n",
    "\n",
    "df1 = df.merge(data_gas, on='key')\n",
    "df2 = df1.merge(data_wire, on='key')\n",
    "df3 = df2.merge(data_bulk, on='key')\n",
    "df4 = df3.merge(data_heat, on='key')"
   ]
  },
  {
   "cell_type": "markdown",
   "id": "dbe7239d",
   "metadata": {},
   "source": [
    "### Поиск мультиколлинеарности"
   ]
  },
  {
   "cell_type": "code",
   "execution_count": 64,
   "id": "30c2e60b",
   "metadata": {},
   "outputs": [
    {
     "data": {
      "image/png": "[encoded data removed]",
      "text/plain": [
       "<Figure size 1512x936 with 2 Axes>"
      ]
     },
     "metadata": {
      "needs_background": "light"
     },
     "output_type": "display_data"
    }
   ],
   "source": [
    " \n",
    "plt.figure(figsize=(21,13))                                  # подготавливаем размер рисунка, чтобы цифры не накладывались друг\n",
    "# на друга\n",
    "df_plot = sns.heatmap(df4.corr(), cmap=\"YlGnBu\", annot=True) # строим хитмэп по корреляциям всех признаков \n",
    "plt.show()"
   ]
  },
  {
   "cell_type": "markdown",
   "id": "8692a926",
   "metadata": {},
   "source": [
    "**Вывод**\n",
    "\n",
    "Построенный хитмеп, говорит о том, что некоторые признаки сильно скоррелированы и необходимо избавиться от мультиколлинеарности. К таким признакам относится группа (\"Bulk 9\" и \"Wire 8\") и группа (\"Время нагрева\",\"Активная мощность\",\"Реактивная мощность\", \"Количество запусков нагрева\", \"Энергия\"). Для того, чтобы понять, какие признаки убрать, нужно оценить важность признаков для модели. Это будет сделано в дальнейшем. "
   ]
  },
  {
   "cell_type": "code",
   "execution_count": 65,
   "id": "dc977f0e",
   "metadata": {},
   "outputs": [],
   "source": [
    "df4 = df4.drop('Wire 5', axis = 1)"
   ]
  },
  {
   "cell_type": "code",
   "execution_count": 66,
   "id": "bc1028c1",
   "metadata": {},
   "outputs": [],
   "source": [
    "train, test = train_test_split(df4, test_size=0.25, random_state=9082022) # разбиваем данные на обучающую и тестовую выборки"
   ]
  },
  {
   "cell_type": "code",
   "execution_count": 67,
   "id": "cc2fb07b",
   "metadata": {},
   "outputs": [],
   "source": [
    "features_train = train.drop(['key','Температура'], axis=1)\n",
    "target_train = train['Температура']\n",
    "features_test = test.drop(['key','Температура'], axis=1)\n",
    "target_test = test['Температура']\n",
    "\n"
   ]
  },
  {
   "cell_type": "code",
   "execution_count": 68,
   "id": "66c2aa2d",
   "metadata": {},
   "outputs": [
    {
     "data": {
      "text/html": [
       "<div>\n",
       "<style scoped>\n",
       "    .dataframe tbody tr th:only-of-type {\n",
       "        vertical-align: middle;\n",
       "    }\n",
       "\n",
       "    .dataframe tbody tr th {\n",
       "        vertical-align: top;\n",
       "    }\n",
       "\n",
       "    .dataframe thead th {\n",
       "        text-align: right;\n",
       "    }\n",
       "</style>\n",
       "<table border=\"1\" class=\"dataframe\">\n",
       "  <thead>\n",
       "    <tr style=\"text-align: right;\">\n",
       "      <th></th>\n",
       "      <th>key</th>\n",
       "      <th>Начальная температура</th>\n",
       "      <th>Температура</th>\n",
       "      <th>Газ 1</th>\n",
       "      <th>Wire 1</th>\n",
       "      <th>Wire 2</th>\n",
       "      <th>Wire 3</th>\n",
       "      <th>Wire 4</th>\n",
       "      <th>Wire 6</th>\n",
       "      <th>Wire 7</th>\n",
       "      <th>...</th>\n",
       "      <th>Bulk 11</th>\n",
       "      <th>Bulk 12</th>\n",
       "      <th>Bulk 13</th>\n",
       "      <th>Bulk 14</th>\n",
       "      <th>Bulk 15</th>\n",
       "      <th>Время нагрева</th>\n",
       "      <th>Активная мощность</th>\n",
       "      <th>Реактивная мощность</th>\n",
       "      <th>Количество запусков нагрева</th>\n",
       "      <th>Энергия</th>\n",
       "    </tr>\n",
       "  </thead>\n",
       "  <tbody>\n",
       "    <tr>\n",
       "      <th>0</th>\n",
       "      <td>1</td>\n",
       "      <td>1571.0</td>\n",
       "      <td>1613.0</td>\n",
       "      <td>29.749986</td>\n",
       "      <td>60.059998</td>\n",
       "      <td>0.00000</td>\n",
       "      <td>0.0</td>\n",
       "      <td>0.0</td>\n",
       "      <td>0.0</td>\n",
       "      <td>0.0</td>\n",
       "      <td>...</td>\n",
       "      <td>0.0</td>\n",
       "      <td>206.0</td>\n",
       "      <td>0.0</td>\n",
       "      <td>150.0</td>\n",
       "      <td>154.0</td>\n",
       "      <td>1098.0</td>\n",
       "      <td>4.878147</td>\n",
       "      <td>3.183241</td>\n",
       "      <td>5</td>\n",
       "      <td>5356.204921</td>\n",
       "    </tr>\n",
       "    <tr>\n",
       "      <th>1</th>\n",
       "      <td>2</td>\n",
       "      <td>1581.0</td>\n",
       "      <td>1602.0</td>\n",
       "      <td>12.555561</td>\n",
       "      <td>96.052315</td>\n",
       "      <td>0.00000</td>\n",
       "      <td>0.0</td>\n",
       "      <td>0.0</td>\n",
       "      <td>0.0</td>\n",
       "      <td>0.0</td>\n",
       "      <td>...</td>\n",
       "      <td>0.0</td>\n",
       "      <td>206.0</td>\n",
       "      <td>0.0</td>\n",
       "      <td>149.0</td>\n",
       "      <td>154.0</td>\n",
       "      <td>811.0</td>\n",
       "      <td>3.052598</td>\n",
       "      <td>1.998112</td>\n",
       "      <td>4</td>\n",
       "      <td>2475.657040</td>\n",
       "    </tr>\n",
       "    <tr>\n",
       "      <th>2</th>\n",
       "      <td>3</td>\n",
       "      <td>1596.0</td>\n",
       "      <td>1599.0</td>\n",
       "      <td>28.554793</td>\n",
       "      <td>91.160157</td>\n",
       "      <td>0.00000</td>\n",
       "      <td>0.0</td>\n",
       "      <td>0.0</td>\n",
       "      <td>0.0</td>\n",
       "      <td>0.0</td>\n",
       "      <td>...</td>\n",
       "      <td>0.0</td>\n",
       "      <td>205.0</td>\n",
       "      <td>0.0</td>\n",
       "      <td>152.0</td>\n",
       "      <td>153.0</td>\n",
       "      <td>655.0</td>\n",
       "      <td>2.525882</td>\n",
       "      <td>1.599076</td>\n",
       "      <td>5</td>\n",
       "      <td>1654.452851</td>\n",
       "    </tr>\n",
       "    <tr>\n",
       "      <th>3</th>\n",
       "      <td>4</td>\n",
       "      <td>1601.0</td>\n",
       "      <td>1625.0</td>\n",
       "      <td>18.841219</td>\n",
       "      <td>89.063515</td>\n",
       "      <td>0.00000</td>\n",
       "      <td>0.0</td>\n",
       "      <td>0.0</td>\n",
       "      <td>0.0</td>\n",
       "      <td>0.0</td>\n",
       "      <td>...</td>\n",
       "      <td>0.0</td>\n",
       "      <td>207.0</td>\n",
       "      <td>0.0</td>\n",
       "      <td>153.0</td>\n",
       "      <td>154.0</td>\n",
       "      <td>741.0</td>\n",
       "      <td>3.209250</td>\n",
       "      <td>2.060298</td>\n",
       "      <td>4</td>\n",
       "      <td>2378.054308</td>\n",
       "    </tr>\n",
       "    <tr>\n",
       "      <th>4</th>\n",
       "      <td>5</td>\n",
       "      <td>1576.0</td>\n",
       "      <td>1602.0</td>\n",
       "      <td>5.413692</td>\n",
       "      <td>89.238236</td>\n",
       "      <td>9.11456</td>\n",
       "      <td>0.0</td>\n",
       "      <td>0.0</td>\n",
       "      <td>0.0</td>\n",
       "      <td>0.0</td>\n",
       "      <td>...</td>\n",
       "      <td>0.0</td>\n",
       "      <td>203.0</td>\n",
       "      <td>0.0</td>\n",
       "      <td>151.0</td>\n",
       "      <td>152.0</td>\n",
       "      <td>869.0</td>\n",
       "      <td>3.347173</td>\n",
       "      <td>2.252643</td>\n",
       "      <td>4</td>\n",
       "      <td>2908.693106</td>\n",
       "    </tr>\n",
       "    <tr>\n",
       "      <th>...</th>\n",
       "      <td>...</td>\n",
       "      <td>...</td>\n",
       "      <td>...</td>\n",
       "      <td>...</td>\n",
       "      <td>...</td>\n",
       "      <td>...</td>\n",
       "      <td>...</td>\n",
       "      <td>...</td>\n",
       "      <td>...</td>\n",
       "      <td>...</td>\n",
       "      <td>...</td>\n",
       "      <td>...</td>\n",
       "      <td>...</td>\n",
       "      <td>...</td>\n",
       "      <td>...</td>\n",
       "      <td>...</td>\n",
       "      <td>...</td>\n",
       "      <td>...</td>\n",
       "      <td>...</td>\n",
       "      <td>...</td>\n",
       "      <td>...</td>\n",
       "    </tr>\n",
       "    <tr>\n",
       "      <th>2324</th>\n",
       "      <td>2495</td>\n",
       "      <td>1570.0</td>\n",
       "      <td>1591.0</td>\n",
       "      <td>7.125735</td>\n",
       "      <td>89.150879</td>\n",
       "      <td>0.00000</td>\n",
       "      <td>0.0</td>\n",
       "      <td>0.0</td>\n",
       "      <td>0.0</td>\n",
       "      <td>0.0</td>\n",
       "      <td>...</td>\n",
       "      <td>0.0</td>\n",
       "      <td>256.0</td>\n",
       "      <td>0.0</td>\n",
       "      <td>129.0</td>\n",
       "      <td>223.0</td>\n",
       "      <td>723.0</td>\n",
       "      <td>3.210690</td>\n",
       "      <td>2.360777</td>\n",
       "      <td>4</td>\n",
       "      <td>2321.328989</td>\n",
       "    </tr>\n",
       "    <tr>\n",
       "      <th>2325</th>\n",
       "      <td>2496</td>\n",
       "      <td>1554.0</td>\n",
       "      <td>1591.0</td>\n",
       "      <td>9.412616</td>\n",
       "      <td>114.179527</td>\n",
       "      <td>0.00000</td>\n",
       "      <td>0.0</td>\n",
       "      <td>0.0</td>\n",
       "      <td>0.0</td>\n",
       "      <td>0.0</td>\n",
       "      <td>...</td>\n",
       "      <td>0.0</td>\n",
       "      <td>256.0</td>\n",
       "      <td>0.0</td>\n",
       "      <td>129.0</td>\n",
       "      <td>226.0</td>\n",
       "      <td>940.0</td>\n",
       "      <td>4.203064</td>\n",
       "      <td>2.810185</td>\n",
       "      <td>6</td>\n",
       "      <td>3950.880562</td>\n",
       "    </tr>\n",
       "    <tr>\n",
       "      <th>2326</th>\n",
       "      <td>2497</td>\n",
       "      <td>1571.0</td>\n",
       "      <td>1589.0</td>\n",
       "      <td>6.271699</td>\n",
       "      <td>94.086723</td>\n",
       "      <td>9.04800</td>\n",
       "      <td>0.0</td>\n",
       "      <td>0.0</td>\n",
       "      <td>0.0</td>\n",
       "      <td>0.0</td>\n",
       "      <td>...</td>\n",
       "      <td>0.0</td>\n",
       "      <td>230.0</td>\n",
       "      <td>0.0</td>\n",
       "      <td>124.0</td>\n",
       "      <td>226.0</td>\n",
       "      <td>569.0</td>\n",
       "      <td>2.212379</td>\n",
       "      <td>1.851269</td>\n",
       "      <td>3</td>\n",
       "      <td>1258.843787</td>\n",
       "    </tr>\n",
       "    <tr>\n",
       "      <th>2327</th>\n",
       "      <td>2498</td>\n",
       "      <td>1591.0</td>\n",
       "      <td>1594.0</td>\n",
       "      <td>14.953657</td>\n",
       "      <td>118.110717</td>\n",
       "      <td>0.00000</td>\n",
       "      <td>0.0</td>\n",
       "      <td>0.0</td>\n",
       "      <td>0.0</td>\n",
       "      <td>0.0</td>\n",
       "      <td>...</td>\n",
       "      <td>0.0</td>\n",
       "      <td>206.0</td>\n",
       "      <td>0.0</td>\n",
       "      <td>129.0</td>\n",
       "      <td>207.0</td>\n",
       "      <td>750.0</td>\n",
       "      <td>3.408725</td>\n",
       "      <td>2.355428</td>\n",
       "      <td>5</td>\n",
       "      <td>2556.544116</td>\n",
       "    </tr>\n",
       "    <tr>\n",
       "      <th>2328</th>\n",
       "      <td>2499</td>\n",
       "      <td>1569.0</td>\n",
       "      <td>1603.0</td>\n",
       "      <td>11.336151</td>\n",
       "      <td>110.160958</td>\n",
       "      <td>50.00528</td>\n",
       "      <td>0.0</td>\n",
       "      <td>0.0</td>\n",
       "      <td>0.0</td>\n",
       "      <td>0.0</td>\n",
       "      <td>...</td>\n",
       "      <td>0.0</td>\n",
       "      <td>233.0</td>\n",
       "      <td>0.0</td>\n",
       "      <td>126.0</td>\n",
       "      <td>227.0</td>\n",
       "      <td>883.0</td>\n",
       "      <td>4.098431</td>\n",
       "      <td>2.777865</td>\n",
       "      <td>4</td>\n",
       "      <td>3618.914428</td>\n",
       "    </tr>\n",
       "  </tbody>\n",
       "</table>\n",
       "<p>2329 rows × 32 columns</p>\n",
       "</div>"
      ],
      "text/plain": [
       "       key  Начальная температура  Температура      Газ 1      Wire 1  \\\n",
       "0        1                 1571.0       1613.0  29.749986   60.059998   \n",
       "1        2                 1581.0       1602.0  12.555561   96.052315   \n",
       "2        3                 1596.0       1599.0  28.554793   91.160157   \n",
       "3        4                 1601.0       1625.0  18.841219   89.063515   \n",
       "4        5                 1576.0       1602.0   5.413692   89.238236   \n",
       "...    ...                    ...          ...        ...         ...   \n",
       "2324  2495                 1570.0       1591.0   7.125735   89.150879   \n",
       "2325  2496                 1554.0       1591.0   9.412616  114.179527   \n",
       "2326  2497                 1571.0       1589.0   6.271699   94.086723   \n",
       "2327  2498                 1591.0       1594.0  14.953657  118.110717   \n",
       "2328  2499                 1569.0       1603.0  11.336151  110.160958   \n",
       "\n",
       "        Wire 2  Wire 3  Wire 4  Wire 6  Wire 7  ...  Bulk 11  Bulk 12  \\\n",
       "0      0.00000     0.0     0.0     0.0     0.0  ...      0.0    206.0   \n",
       "1      0.00000     0.0     0.0     0.0     0.0  ...      0.0    206.0   \n",
       "2      0.00000     0.0     0.0     0.0     0.0  ...      0.0    205.0   \n",
       "3      0.00000     0.0     0.0     0.0     0.0  ...      0.0    207.0   \n",
       "4      9.11456     0.0     0.0     0.0     0.0  ...      0.0    203.0   \n",
       "...        ...     ...     ...     ...     ...  ...      ...      ...   \n",
       "2324   0.00000     0.0     0.0     0.0     0.0  ...      0.0    256.0   \n",
       "2325   0.00000     0.0     0.0     0.0     0.0  ...      0.0    256.0   \n",
       "2326   9.04800     0.0     0.0     0.0     0.0  ...      0.0    230.0   \n",
       "2327   0.00000     0.0     0.0     0.0     0.0  ...      0.0    206.0   \n",
       "2328  50.00528     0.0     0.0     0.0     0.0  ...      0.0    233.0   \n",
       "\n",
       "      Bulk 13  Bulk 14  Bulk 15  Время нагрева  Активная мощность  \\\n",
       "0         0.0    150.0    154.0         1098.0           4.878147   \n",
       "1         0.0    149.0    154.0          811.0           3.052598   \n",
       "2         0.0    152.0    153.0          655.0           2.525882   \n",
       "3         0.0    153.0    154.0          741.0           3.209250   \n",
       "4         0.0    151.0    152.0          869.0           3.347173   \n",
       "...       ...      ...      ...            ...                ...   \n",
       "2324      0.0    129.0    223.0          723.0           3.210690   \n",
       "2325      0.0    129.0    226.0          940.0           4.203064   \n",
       "2326      0.0    124.0    226.0          569.0           2.212379   \n",
       "2327      0.0    129.0    207.0          750.0           3.408725   \n",
       "2328      0.0    126.0    227.0          883.0           4.098431   \n",
       "\n",
       "      Реактивная мощность  Количество запусков нагрева      Энергия  \n",
       "0                3.183241                            5  5356.204921  \n",
       "1                1.998112                            4  2475.657040  \n",
       "2                1.599076                            5  1654.452851  \n",
       "3                2.060298                            4  2378.054308  \n",
       "4                2.252643                            4  2908.693106  \n",
       "...                   ...                          ...          ...  \n",
       "2324             2.360777                            4  2321.328989  \n",
       "2325             2.810185                            6  3950.880562  \n",
       "2326             1.851269                            3  1258.843787  \n",
       "2327             2.355428                            5  2556.544116  \n",
       "2328             2.777865                            4  3618.914428  \n",
       "\n",
       "[2329 rows x 32 columns]"
      ]
     },
     "execution_count": 68,
     "metadata": {},
     "output_type": "execute_result"
    }
   ],
   "source": [
    "df4"
   ]
  },
  {
   "cell_type": "markdown",
   "id": "7607c224",
   "metadata": {},
   "source": [
    "### Модель случайного леса"
   ]
  },
  {
   "cell_type": "code",
   "execution_count": 69,
   "id": "06841ca0",
   "metadata": {},
   "outputs": [],
   "source": [
    "model = RandomForestRegressor(random_state=9082022, n_estimators = 200)\n",
    "predictions = pd.Series(cross_val_predict(model, features_train, target_train, cv=7))\n"
   ]
  },
  {
   "cell_type": "code",
   "execution_count": 70,
   "id": "7bfa4062",
   "metadata": {},
   "outputs": [
    {
     "data": {
      "text/html": [
       "<div>\n",
       "<style scoped>\n",
       "    .dataframe tbody tr th:only-of-type {\n",
       "        vertical-align: middle;\n",
       "    }\n",
       "\n",
       "    .dataframe tbody tr th {\n",
       "        vertical-align: top;\n",
       "    }\n",
       "\n",
       "    .dataframe thead th {\n",
       "        text-align: right;\n",
       "    }\n",
       "</style>\n",
       "<table border=\"1\" class=\"dataframe\">\n",
       "  <thead>\n",
       "    <tr style=\"text-align: right;\">\n",
       "      <th></th>\n",
       "      <th>Важность</th>\n",
       "    </tr>\n",
       "  </thead>\n",
       "  <tbody>\n",
       "    <tr>\n",
       "      <th>Bulk 8</th>\n",
       "      <td>0.000019</td>\n",
       "    </tr>\n",
       "    <tr>\n",
       "      <th>Wire 8</th>\n",
       "      <td>0.000094</td>\n",
       "    </tr>\n",
       "    <tr>\n",
       "      <th>Bulk 9</th>\n",
       "      <td>0.000177</td>\n",
       "    </tr>\n",
       "    <tr>\n",
       "      <th>Wire 9</th>\n",
       "      <td>0.000199</td>\n",
       "    </tr>\n",
       "    <tr>\n",
       "      <th>Bulk 13</th>\n",
       "      <td>0.000768</td>\n",
       "    </tr>\n",
       "    <tr>\n",
       "      <th>Bulk 5</th>\n",
       "      <td>0.001386</td>\n",
       "    </tr>\n",
       "    <tr>\n",
       "      <th>Bulk 2</th>\n",
       "      <td>0.001883</td>\n",
       "    </tr>\n",
       "    <tr>\n",
       "      <th>Wire 3</th>\n",
       "      <td>0.002238</td>\n",
       "    </tr>\n",
       "    <tr>\n",
       "      <th>Wire 7</th>\n",
       "      <td>0.002988</td>\n",
       "    </tr>\n",
       "    <tr>\n",
       "      <th>Bulk 11</th>\n",
       "      <td>0.004530</td>\n",
       "    </tr>\n",
       "    <tr>\n",
       "      <th>Wire 6</th>\n",
       "      <td>0.005330</td>\n",
       "    </tr>\n",
       "    <tr>\n",
       "      <th>Bulk 10</th>\n",
       "      <td>0.005556</td>\n",
       "    </tr>\n",
       "    <tr>\n",
       "      <th>Wire 4</th>\n",
       "      <td>0.008002</td>\n",
       "    </tr>\n",
       "    <tr>\n",
       "      <th>Bulk 1</th>\n",
       "      <td>0.010481</td>\n",
       "    </tr>\n",
       "    <tr>\n",
       "      <th>Количество запусков нагрева</th>\n",
       "      <td>0.017883</td>\n",
       "    </tr>\n",
       "    <tr>\n",
       "      <th>Bulk 7</th>\n",
       "      <td>0.019344</td>\n",
       "    </tr>\n",
       "    <tr>\n",
       "      <th>Bulk 3</th>\n",
       "      <td>0.020163</td>\n",
       "    </tr>\n",
       "    <tr>\n",
       "      <th>Bulk 4</th>\n",
       "      <td>0.020893</td>\n",
       "    </tr>\n",
       "    <tr>\n",
       "      <th>Bulk 15</th>\n",
       "      <td>0.029847</td>\n",
       "    </tr>\n",
       "    <tr>\n",
       "      <th>Bulk 12</th>\n",
       "      <td>0.037852</td>\n",
       "    </tr>\n",
       "    <tr>\n",
       "      <th>Реактивная мощность</th>\n",
       "      <td>0.039079</td>\n",
       "    </tr>\n",
       "    <tr>\n",
       "      <th>Bulk 14</th>\n",
       "      <td>0.039288</td>\n",
       "    </tr>\n",
       "    <tr>\n",
       "      <th>Wire 2</th>\n",
       "      <td>0.041409</td>\n",
       "    </tr>\n",
       "    <tr>\n",
       "      <th>Газ 1</th>\n",
       "      <td>0.060711</td>\n",
       "    </tr>\n",
       "    <tr>\n",
       "      <th>Энергия</th>\n",
       "      <td>0.064782</td>\n",
       "    </tr>\n",
       "    <tr>\n",
       "      <th>Wire 1</th>\n",
       "      <td>0.069266</td>\n",
       "    </tr>\n",
       "    <tr>\n",
       "      <th>Bulk 6</th>\n",
       "      <td>0.076427</td>\n",
       "    </tr>\n",
       "    <tr>\n",
       "      <th>Время нагрева</th>\n",
       "      <td>0.082932</td>\n",
       "    </tr>\n",
       "    <tr>\n",
       "      <th>Активная мощность</th>\n",
       "      <td>0.112428</td>\n",
       "    </tr>\n",
       "    <tr>\n",
       "      <th>Начальная температура</th>\n",
       "      <td>0.224045</td>\n",
       "    </tr>\n",
       "  </tbody>\n",
       "</table>\n",
       "</div>"
      ],
      "text/plain": [
       "                             Важность\n",
       "Bulk 8                       0.000019\n",
       "Wire 8                       0.000094\n",
       "Bulk 9                       0.000177\n",
       "Wire 9                       0.000199\n",
       "Bulk 13                      0.000768\n",
       "Bulk 5                       0.001386\n",
       "Bulk 2                       0.001883\n",
       "Wire 3                       0.002238\n",
       "Wire 7                       0.002988\n",
       "Bulk 11                      0.004530\n",
       "Wire 6                       0.005330\n",
       "Bulk 10                      0.005556\n",
       "Wire 4                       0.008002\n",
       "Bulk 1                       0.010481\n",
       "Количество запусков нагрева  0.017883\n",
       "Bulk 7                       0.019344\n",
       "Bulk 3                       0.020163\n",
       "Bulk 4                       0.020893\n",
       "Bulk 15                      0.029847\n",
       "Bulk 12                      0.037852\n",
       "Реактивная мощность          0.039079\n",
       "Bulk 14                      0.039288\n",
       "Wire 2                       0.041409\n",
       "Газ 1                        0.060711\n",
       "Энергия                      0.064782\n",
       "Wire 1                       0.069266\n",
       "Bulk 6                       0.076427\n",
       "Время нагрева                0.082932\n",
       "Активная мощность            0.112428\n",
       "Начальная температура        0.224045"
      ]
     },
     "execution_count": 70,
     "metadata": {},
     "output_type": "execute_result"
    }
   ],
   "source": [
    "model.fit(features_train, target_train)\n",
    "model.feature_importances_                                                       # определяем важность всех признаков\n",
    "importances = pd.DataFrame(data=model.feature_importances_, index=features_train.columns)\n",
    "importances.rename(columns={0: 'Важность'}, inplace=True)\n",
    "importances.sort_values(by='Важность')"
   ]
  },
  {
   "cell_type": "markdown",
   "id": "052b6f49",
   "metadata": {},
   "source": [
    "**Вывод**\n",
    "\n",
    "Из признаков необходимо убрать те столбцы из групп коллинеарных векторов, что имеют наименьшую важность для модели."
   ]
  },
  {
   "cell_type": "code",
   "execution_count": 75,
   "id": "867e57e6",
   "metadata": {},
   "outputs": [],
   "source": [
    "train, test = train_test_split(df4.drop(['Wire 8', 'Количество запусков нагрева',\n",
    "                                         'Реактивная мощность', 'Энергия','Время нагрева'],\n",
    "                                        axis=1),\n",
    "                               test_size=0.25, random_state=9082022) # разбиваем данные на обучающую и тестовую выборки\n",
    "features_train = train.drop(['key','Температура'], axis=1)\n",
    "target_train = train['Температура']\n",
    "features_test = test.drop(['key','Температура'], axis=1)\n",
    "target_test = test['Температура']\n",
    "\n",
    "scaler = StandardScaler()                                #\n",
    "scaler.fit(features_train)                               # определение параметров масштабирования\n",
    "\n",
    "features_train_scaled = scaler.transform(features_train) # масштабирование признаков обучающей выборки\n",
    "features_test_scaled = scaler.transform(features_test)   # масштабирование признаков тестовой выборки\n",
    "\n",
    "model = RandomForestRegressor(random_state=9082022, n_estimators = 500, min_samples_leaf = 5)\n",
    "predictions = pd.Series(cross_val_predict(model, features_train_scaled, target_train, cv=7))"
   ]
  },
  {
   "cell_type": "code",
   "execution_count": 76,
   "id": "2ff53aa6",
   "metadata": {},
   "outputs": [
    {
     "name": "stdout",
     "output_type": "stream",
     "text": [
      "Метрика MAE в модели случайного леса: 6.08526569191203\n"
     ]
    }
   ],
   "source": [
    "MAE = mean_absolute_error(predictions,target_train)\n",
    "print('Метрика MAE в модели случайного леса:', MAE)"
   ]
  },
  {
   "cell_type": "code",
   "execution_count": 78,
   "id": "5dff8098",
   "metadata": {},
   "outputs": [
    {
     "data": {
      "text/html": [
       "<div>\n",
       "<style scoped>\n",
       "    .dataframe tbody tr th:only-of-type {\n",
       "        vertical-align: middle;\n",
       "    }\n",
       "\n",
       "    .dataframe tbody tr th {\n",
       "        vertical-align: top;\n",
       "    }\n",
       "\n",
       "    .dataframe thead th {\n",
       "        text-align: right;\n",
       "    }\n",
       "</style>\n",
       "<table border=\"1\" class=\"dataframe\">\n",
       "  <thead>\n",
       "    <tr style=\"text-align: right;\">\n",
       "      <th></th>\n",
       "      <th>key</th>\n",
       "      <th>Начальная температура</th>\n",
       "      <th>Температура</th>\n",
       "      <th>Газ 1</th>\n",
       "      <th>Wire 1</th>\n",
       "      <th>Wire 2</th>\n",
       "      <th>Wire 3</th>\n",
       "      <th>Wire 4</th>\n",
       "      <th>Wire 6</th>\n",
       "      <th>Wire 7</th>\n",
       "      <th>...</th>\n",
       "      <th>Bulk 7</th>\n",
       "      <th>Bulk 8</th>\n",
       "      <th>Bulk 9</th>\n",
       "      <th>Bulk 10</th>\n",
       "      <th>Bulk 11</th>\n",
       "      <th>Bulk 12</th>\n",
       "      <th>Bulk 13</th>\n",
       "      <th>Bulk 14</th>\n",
       "      <th>Bulk 15</th>\n",
       "      <th>Активная мощность</th>\n",
       "    </tr>\n",
       "  </thead>\n",
       "  <tbody>\n",
       "    <tr>\n",
       "      <th>0</th>\n",
       "      <td>1</td>\n",
       "      <td>1571.0</td>\n",
       "      <td>1613.0</td>\n",
       "      <td>29.749986</td>\n",
       "      <td>60.059998</td>\n",
       "      <td>0.00000</td>\n",
       "      <td>0.0</td>\n",
       "      <td>0.0</td>\n",
       "      <td>0.0</td>\n",
       "      <td>0.0</td>\n",
       "      <td>...</td>\n",
       "      <td>0.0</td>\n",
       "      <td>0.0</td>\n",
       "      <td>0.0</td>\n",
       "      <td>0.0</td>\n",
       "      <td>0.0</td>\n",
       "      <td>206.0</td>\n",
       "      <td>0.0</td>\n",
       "      <td>150.0</td>\n",
       "      <td>154.0</td>\n",
       "      <td>4.878147</td>\n",
       "    </tr>\n",
       "    <tr>\n",
       "      <th>1</th>\n",
       "      <td>2</td>\n",
       "      <td>1581.0</td>\n",
       "      <td>1602.0</td>\n",
       "      <td>12.555561</td>\n",
       "      <td>96.052315</td>\n",
       "      <td>0.00000</td>\n",
       "      <td>0.0</td>\n",
       "      <td>0.0</td>\n",
       "      <td>0.0</td>\n",
       "      <td>0.0</td>\n",
       "      <td>...</td>\n",
       "      <td>0.0</td>\n",
       "      <td>0.0</td>\n",
       "      <td>0.0</td>\n",
       "      <td>0.0</td>\n",
       "      <td>0.0</td>\n",
       "      <td>206.0</td>\n",
       "      <td>0.0</td>\n",
       "      <td>149.0</td>\n",
       "      <td>154.0</td>\n",
       "      <td>3.052598</td>\n",
       "    </tr>\n",
       "    <tr>\n",
       "      <th>2</th>\n",
       "      <td>3</td>\n",
       "      <td>1596.0</td>\n",
       "      <td>1599.0</td>\n",
       "      <td>28.554793</td>\n",
       "      <td>91.160157</td>\n",
       "      <td>0.00000</td>\n",
       "      <td>0.0</td>\n",
       "      <td>0.0</td>\n",
       "      <td>0.0</td>\n",
       "      <td>0.0</td>\n",
       "      <td>...</td>\n",
       "      <td>0.0</td>\n",
       "      <td>0.0</td>\n",
       "      <td>0.0</td>\n",
       "      <td>0.0</td>\n",
       "      <td>0.0</td>\n",
       "      <td>205.0</td>\n",
       "      <td>0.0</td>\n",
       "      <td>152.0</td>\n",
       "      <td>153.0</td>\n",
       "      <td>2.525882</td>\n",
       "    </tr>\n",
       "    <tr>\n",
       "      <th>3</th>\n",
       "      <td>4</td>\n",
       "      <td>1601.0</td>\n",
       "      <td>1625.0</td>\n",
       "      <td>18.841219</td>\n",
       "      <td>89.063515</td>\n",
       "      <td>0.00000</td>\n",
       "      <td>0.0</td>\n",
       "      <td>0.0</td>\n",
       "      <td>0.0</td>\n",
       "      <td>0.0</td>\n",
       "      <td>...</td>\n",
       "      <td>0.0</td>\n",
       "      <td>0.0</td>\n",
       "      <td>0.0</td>\n",
       "      <td>0.0</td>\n",
       "      <td>0.0</td>\n",
       "      <td>207.0</td>\n",
       "      <td>0.0</td>\n",
       "      <td>153.0</td>\n",
       "      <td>154.0</td>\n",
       "      <td>3.209250</td>\n",
       "    </tr>\n",
       "    <tr>\n",
       "      <th>4</th>\n",
       "      <td>5</td>\n",
       "      <td>1576.0</td>\n",
       "      <td>1602.0</td>\n",
       "      <td>5.413692</td>\n",
       "      <td>89.238236</td>\n",
       "      <td>9.11456</td>\n",
       "      <td>0.0</td>\n",
       "      <td>0.0</td>\n",
       "      <td>0.0</td>\n",
       "      <td>0.0</td>\n",
       "      <td>...</td>\n",
       "      <td>0.0</td>\n",
       "      <td>0.0</td>\n",
       "      <td>0.0</td>\n",
       "      <td>0.0</td>\n",
       "      <td>0.0</td>\n",
       "      <td>203.0</td>\n",
       "      <td>0.0</td>\n",
       "      <td>151.0</td>\n",
       "      <td>152.0</td>\n",
       "      <td>3.347173</td>\n",
       "    </tr>\n",
       "    <tr>\n",
       "      <th>...</th>\n",
       "      <td>...</td>\n",
       "      <td>...</td>\n",
       "      <td>...</td>\n",
       "      <td>...</td>\n",
       "      <td>...</td>\n",
       "      <td>...</td>\n",
       "      <td>...</td>\n",
       "      <td>...</td>\n",
       "      <td>...</td>\n",
       "      <td>...</td>\n",
       "      <td>...</td>\n",
       "      <td>...</td>\n",
       "      <td>...</td>\n",
       "      <td>...</td>\n",
       "      <td>...</td>\n",
       "      <td>...</td>\n",
       "      <td>...</td>\n",
       "      <td>...</td>\n",
       "      <td>...</td>\n",
       "      <td>...</td>\n",
       "      <td>...</td>\n",
       "    </tr>\n",
       "    <tr>\n",
       "      <th>2324</th>\n",
       "      <td>2495</td>\n",
       "      <td>1570.0</td>\n",
       "      <td>1591.0</td>\n",
       "      <td>7.125735</td>\n",
       "      <td>89.150879</td>\n",
       "      <td>0.00000</td>\n",
       "      <td>0.0</td>\n",
       "      <td>0.0</td>\n",
       "      <td>0.0</td>\n",
       "      <td>0.0</td>\n",
       "      <td>...</td>\n",
       "      <td>0.0</td>\n",
       "      <td>0.0</td>\n",
       "      <td>0.0</td>\n",
       "      <td>90.0</td>\n",
       "      <td>0.0</td>\n",
       "      <td>256.0</td>\n",
       "      <td>0.0</td>\n",
       "      <td>129.0</td>\n",
       "      <td>223.0</td>\n",
       "      <td>3.210690</td>\n",
       "    </tr>\n",
       "    <tr>\n",
       "      <th>2325</th>\n",
       "      <td>2496</td>\n",
       "      <td>1554.0</td>\n",
       "      <td>1591.0</td>\n",
       "      <td>9.412616</td>\n",
       "      <td>114.179527</td>\n",
       "      <td>0.00000</td>\n",
       "      <td>0.0</td>\n",
       "      <td>0.0</td>\n",
       "      <td>0.0</td>\n",
       "      <td>0.0</td>\n",
       "      <td>...</td>\n",
       "      <td>0.0</td>\n",
       "      <td>0.0</td>\n",
       "      <td>0.0</td>\n",
       "      <td>122.0</td>\n",
       "      <td>0.0</td>\n",
       "      <td>256.0</td>\n",
       "      <td>0.0</td>\n",
       "      <td>129.0</td>\n",
       "      <td>226.0</td>\n",
       "      <td>4.203064</td>\n",
       "    </tr>\n",
       "    <tr>\n",
       "      <th>2326</th>\n",
       "      <td>2497</td>\n",
       "      <td>1571.0</td>\n",
       "      <td>1589.0</td>\n",
       "      <td>6.271699</td>\n",
       "      <td>94.086723</td>\n",
       "      <td>9.04800</td>\n",
       "      <td>0.0</td>\n",
       "      <td>0.0</td>\n",
       "      <td>0.0</td>\n",
       "      <td>0.0</td>\n",
       "      <td>...</td>\n",
       "      <td>0.0</td>\n",
       "      <td>0.0</td>\n",
       "      <td>0.0</td>\n",
       "      <td>0.0</td>\n",
       "      <td>0.0</td>\n",
       "      <td>230.0</td>\n",
       "      <td>0.0</td>\n",
       "      <td>124.0</td>\n",
       "      <td>226.0</td>\n",
       "      <td>2.212379</td>\n",
       "    </tr>\n",
       "    <tr>\n",
       "      <th>2327</th>\n",
       "      <td>2498</td>\n",
       "      <td>1591.0</td>\n",
       "      <td>1594.0</td>\n",
       "      <td>14.953657</td>\n",
       "      <td>118.110717</td>\n",
       "      <td>0.00000</td>\n",
       "      <td>0.0</td>\n",
       "      <td>0.0</td>\n",
       "      <td>0.0</td>\n",
       "      <td>0.0</td>\n",
       "      <td>...</td>\n",
       "      <td>0.0</td>\n",
       "      <td>0.0</td>\n",
       "      <td>0.0</td>\n",
       "      <td>101.0</td>\n",
       "      <td>0.0</td>\n",
       "      <td>206.0</td>\n",
       "      <td>0.0</td>\n",
       "      <td>129.0</td>\n",
       "      <td>207.0</td>\n",
       "      <td>3.408725</td>\n",
       "    </tr>\n",
       "    <tr>\n",
       "      <th>2328</th>\n",
       "      <td>2499</td>\n",
       "      <td>1569.0</td>\n",
       "      <td>1603.0</td>\n",
       "      <td>11.336151</td>\n",
       "      <td>110.160958</td>\n",
       "      <td>50.00528</td>\n",
       "      <td>0.0</td>\n",
       "      <td>0.0</td>\n",
       "      <td>0.0</td>\n",
       "      <td>0.0</td>\n",
       "      <td>...</td>\n",
       "      <td>0.0</td>\n",
       "      <td>0.0</td>\n",
       "      <td>0.0</td>\n",
       "      <td>0.0</td>\n",
       "      <td>0.0</td>\n",
       "      <td>233.0</td>\n",
       "      <td>0.0</td>\n",
       "      <td>126.0</td>\n",
       "      <td>227.0</td>\n",
       "      <td>4.098431</td>\n",
       "    </tr>\n",
       "  </tbody>\n",
       "</table>\n",
       "<p>2329 rows × 27 columns</p>\n",
       "</div>"
      ],
      "text/plain": [
       "       key  Начальная температура  Температура      Газ 1      Wire 1  \\\n",
       "0        1                 1571.0       1613.0  29.749986   60.059998   \n",
       "1        2                 1581.0       1602.0  12.555561   96.052315   \n",
       "2        3                 1596.0       1599.0  28.554793   91.160157   \n",
       "3        4                 1601.0       1625.0  18.841219   89.063515   \n",
       "4        5                 1576.0       1602.0   5.413692   89.238236   \n",
       "...    ...                    ...          ...        ...         ...   \n",
       "2324  2495                 1570.0       1591.0   7.125735   89.150879   \n",
       "2325  2496                 1554.0       1591.0   9.412616  114.179527   \n",
       "2326  2497                 1571.0       1589.0   6.271699   94.086723   \n",
       "2327  2498                 1591.0       1594.0  14.953657  118.110717   \n",
       "2328  2499                 1569.0       1603.0  11.336151  110.160958   \n",
       "\n",
       "        Wire 2  Wire 3  Wire 4  Wire 6  Wire 7  ...  Bulk 7  Bulk 8  Bulk 9  \\\n",
       "0      0.00000     0.0     0.0     0.0     0.0  ...     0.0     0.0     0.0   \n",
       "1      0.00000     0.0     0.0     0.0     0.0  ...     0.0     0.0     0.0   \n",
       "2      0.00000     0.0     0.0     0.0     0.0  ...     0.0     0.0     0.0   \n",
       "3      0.00000     0.0     0.0     0.0     0.0  ...     0.0     0.0     0.0   \n",
       "4      9.11456     0.0     0.0     0.0     0.0  ...     0.0     0.0     0.0   \n",
       "...        ...     ...     ...     ...     ...  ...     ...     ...     ...   \n",
       "2324   0.00000     0.0     0.0     0.0     0.0  ...     0.0     0.0     0.0   \n",
       "2325   0.00000     0.0     0.0     0.0     0.0  ...     0.0     0.0     0.0   \n",
       "2326   9.04800     0.0     0.0     0.0     0.0  ...     0.0     0.0     0.0   \n",
       "2327   0.00000     0.0     0.0     0.0     0.0  ...     0.0     0.0     0.0   \n",
       "2328  50.00528     0.0     0.0     0.0     0.0  ...     0.0     0.0     0.0   \n",
       "\n",
       "      Bulk 10  Bulk 11  Bulk 12  Bulk 13  Bulk 14  Bulk 15  Активная мощность  \n",
       "0         0.0      0.0    206.0      0.0    150.0    154.0           4.878147  \n",
       "1         0.0      0.0    206.0      0.0    149.0    154.0           3.052598  \n",
       "2         0.0      0.0    205.0      0.0    152.0    153.0           2.525882  \n",
       "3         0.0      0.0    207.0      0.0    153.0    154.0           3.209250  \n",
       "4         0.0      0.0    203.0      0.0    151.0    152.0           3.347173  \n",
       "...       ...      ...      ...      ...      ...      ...                ...  \n",
       "2324     90.0      0.0    256.0      0.0    129.0    223.0           3.210690  \n",
       "2325    122.0      0.0    256.0      0.0    129.0    226.0           4.203064  \n",
       "2326      0.0      0.0    230.0      0.0    124.0    226.0           2.212379  \n",
       "2327    101.0      0.0    206.0      0.0    129.0    207.0           3.408725  \n",
       "2328      0.0      0.0    233.0      0.0    126.0    227.0           4.098431  \n",
       "\n",
       "[2329 rows x 27 columns]"
      ]
     },
     "execution_count": 78,
     "metadata": {},
     "output_type": "execute_result"
    }
   ],
   "source": [
    "df4.drop(['Wire 8', 'Количество запусков нагрева',\n",
    "                                         'Реактивная мощность', 'Энергия','Время нагрева'],\n",
    "                                        axis=1)"
   ]
  },
  {
   "cell_type": "markdown",
   "id": "ae7b9857",
   "metadata": {},
   "source": [
    "### Простое заполнение средним"
   ]
  },
  {
   "cell_type": "code",
   "execution_count": 79,
   "id": "a423c01c",
   "metadata": {},
   "outputs": [],
   "source": [
    "predictions_2 = target_train.mean() * np.ones(len(target_train))"
   ]
  },
  {
   "cell_type": "code",
   "execution_count": 80,
   "id": "c9e70906",
   "metadata": {},
   "outputs": [
    {
     "name": "stdout",
     "output_type": "stream",
     "text": [
      "Метрика MAE при простом заполнении средним: 8.088532256350298\n"
     ]
    }
   ],
   "source": [
    "MAE = mean_absolute_error(predictions_2,target_train)\n",
    "print('Метрика MAE при простом заполнении средним:', MAE)"
   ]
  },
  {
   "cell_type": "markdown",
   "id": "caab2473",
   "metadata": {},
   "source": [
    "### Модель линейной регрессии"
   ]
  },
  {
   "cell_type": "code",
   "execution_count": 81,
   "id": "947981b8",
   "metadata": {},
   "outputs": [
    {
     "name": "stdout",
     "output_type": "stream",
     "text": [
      "Метрика MAE модели линейной регрессии: 7.569628862191968\n"
     ]
    }
   ],
   "source": [
    "model_1 = LinearRegression()\n",
    "predictions = pd.Series(cross_val_predict(model_1, features_train_scaled, target_train, cv=10))\n",
    "MAE = mean_absolute_error(predictions,target_train)\n",
    "print('Метрика MAE модели линейной регрессии:', MAE)"
   ]
  },
  {
   "cell_type": "markdown",
   "id": "a701f773",
   "metadata": {},
   "source": [
    "### Модель LGBM"
   ]
  },
  {
   "cell_type": "code",
   "execution_count": 82,
   "id": "189077eb",
   "metadata": {},
   "outputs": [
    {
     "name": "stdout",
     "output_type": "stream",
     "text": [
      "Метрика MAE в модели LGBM: 6.182144513129203\n"
     ]
    }
   ],
   "source": [
    "model_LGBM = ltb.LGBMRegressor(random_state='12345', max_depth = 13)\n",
    "predictions = pd.Series(cross_val_predict(model_LGBM, features_train_scaled, target_train, cv=7))\n",
    "MAE = mean_absolute_error(predictions,target_train)\n",
    "print('Метрика MAE в модели LGBM:', MAE)"
   ]
  },
  {
   "cell_type": "markdown",
   "id": "061f5def",
   "metadata": {},
   "source": [
    "**Вывод**\n",
    "\n",
    "Лучшей моделью оказалась модель случайного леса."
   ]
  },
  {
   "cell_type": "markdown",
   "id": "cd684468",
   "metadata": {},
   "source": [
    "### Тест лучшей модели"
   ]
  },
  {
   "cell_type": "code",
   "execution_count": 83,
   "id": "153193f9",
   "metadata": {},
   "outputs": [
    {
     "name": "stdout",
     "output_type": "stream",
     "text": [
      "Метрика MAE модели случайного леса с количеством решателей 500 и минимальным числом элементов 5 в узле листа на тесте: 6.03\n"
     ]
    }
   ],
   "source": [
    "model.fit(features_train_scaled, target_train)\n",
    "predictions = model.predict(features_test_scaled)\n",
    "MAE = mean_absolute_error(predictions,target_test)\n",
    "print('Метрика MAE модели случайного леса с количеством решателей 500 и минимальным числом элементов 5 в узле листа на тесте:',\n",
    "      round(MAE,2))"
   ]
  },
  {
   "cell_type": "markdown",
   "id": "143324f5",
   "metadata": {},
   "source": [
    "## Отчёт\n",
    "\n"
   ]
  },
  {
   "cell_type": "markdown",
   "id": "25f8ef7e",
   "metadata": {},
   "source": [
    "Чек-лист выполнения плана\n",
    "\n",
    "- [x] Уточнение образовавшихся вопросов.\n",
    "- [x] Предварительная обработка данных: удаление ненужных пропусков, неадекватных значений.\n",
    "- [x] Подготовка датафрейма с признаками, которые объективно влияют на температуру расплава. Разбиение его на выборки (обучающую, валидационную и тестовую)\n",
    "- [x] Определение модели МО с лучшей метрикой качества предсказания. \n",
    "- [x] Написание вывода и отчёта.\n",
    "\n",
    "\n",
    "Все этапы плана были выполнены в ходе работы над проектом.\n",
    "\n",
    "Самым трудным этапом для меня оказалось выделение признаков, которые могут влиять на целевой признак. Тут пришлось методом проб и ошибок создать датафрейм с множеством признаков, некоторые из которых, как оказалось, сильно скоррелированы, построить по данным модель, оценить важность признаков и избавиться от наименее важных коррелирующих признаков. Этот этап был самым долгим.\n",
    "\n",
    "Первым делом был выполнен анализ имеющихся данных: удалены партии с неадектватными значениями физ. величин, удалены партии без целевого признака, удалены партии, где температура измерялась только 1 раз. Были построены диаграммы размаха, которые позволили оценить параметры распределений физ. величин. Также были заполнены пропуски в числовых значениях, а дата приведена к логичному формату datetime.\n",
    "\n",
    "Следующим этапом стало создание сводной таблицы признаков по всем оставшимся партиям. В качестве признаков были взяты как уже данные величины (начальная температура, количество сыпучих материалов и т.д.), так и вычисленные (потраченная энергия, количество нагревов сплава и т.д.). Получился датафрейм из 2349 событий и 30 признаков. Далее была проведена проверка на мультиколлинеарность, в ходе которой выяснилось, что некоторые признаки очень скоррелированы.\n",
    "\n",
    "Далее датафрейм был разбит на выборки, выделен целевой признак и признаки, проведено мастабирование признаков. По тестовой выборке построена модель случайного леса. Эта модель была обучена, а затем была определена степень важности всех признаков. Далее проведено избавление от мультиколлинеарности (избавлялись от наименее важных признаков).\n",
    "\n",
    "После этого были построены модели:\n",
    "- cлучайного леса MAE на обучающей выборке 6.08, \n",
    "- линейной регрессии MAE на обучающей выборке 7.57, \n",
    "- простого заполнения средним MAE на обучающей выборке 8.09,\n",
    "- LGBM с макс. глубиной=13 показала MAE на обучающей выборке 6.18.\n",
    "\n",
    "Итоговой моделью победителем стал случайный лес (RandomForestRegressor) при разбиении на обучающую и тестовую выборку в соотношении 3:1  (train_test_split(test_size=0.25, random_state=9082022)) В качестве признаков выступали: \"Начальная температура\", \"Активная мощность\", объём используемого инертного газа, количество добавленных сыпучих материалов № 1, 2, 3, 4, 5, 6, 7, 9, 10, 11, 12, 13, 14, 15; количество добавленной проволоки № 1, 2, 3, 4, 6, 7, 9  \n",
    "\n",
    "\n",
    "\n",
    "\n",
    "\n",
    "\n",
    "Параметры модели:\n",
    "- количество решателей 500\n",
    "- минимальное числом элементов 5 в узле листа\n",
    "- random_state=9082022\n",
    "\n",
    "MAE на тестовой выборке составило 6.03. \n",
    "\n",
    "Что же касается признаков, которые оказывают существенное влияние на итоговую температуру, то это: \n",
    "- начальная температура\n",
    "- активная мощность\n",
    "- количество сыпучего материала №6\n",
    "\n"
   ]
  }
 ],
 "metadata": {
  "ExecuteTimeLog": [
   {
    "duration": 698,
    "start_time": "2022-08-10T17:47:25.482Z"
   },
   {
    "duration": 202,
    "start_time": "2022-08-10T17:47:28.184Z"
   },
   {
    "duration": 744,
    "start_time": "2022-08-11T13:24:21.530Z"
   },
   {
    "duration": 98,
    "start_time": "2022-08-11T13:24:22.275Z"
   },
   {
    "duration": 0,
    "start_time": "2022-08-11T13:24:22.375Z"
   },
   {
    "duration": 0,
    "start_time": "2022-08-11T13:24:22.377Z"
   },
   {
    "duration": 0,
    "start_time": "2022-08-11T13:24:22.378Z"
   },
   {
    "duration": 0,
    "start_time": "2022-08-11T13:24:22.379Z"
   },
   {
    "duration": 0,
    "start_time": "2022-08-11T13:24:22.379Z"
   },
   {
    "duration": 0,
    "start_time": "2022-08-11T13:24:22.380Z"
   },
   {
    "duration": 1,
    "start_time": "2022-08-11T13:24:22.381Z"
   },
   {
    "duration": 0,
    "start_time": "2022-08-11T13:24:22.382Z"
   },
   {
    "duration": 0,
    "start_time": "2022-08-11T13:24:22.383Z"
   },
   {
    "duration": 0,
    "start_time": "2022-08-11T13:24:22.384Z"
   },
   {
    "duration": 0,
    "start_time": "2022-08-11T13:24:22.385Z"
   },
   {
    "duration": 0,
    "start_time": "2022-08-11T13:24:22.386Z"
   },
   {
    "duration": 0,
    "start_time": "2022-08-11T13:24:22.386Z"
   },
   {
    "duration": 0,
    "start_time": "2022-08-11T13:24:22.387Z"
   },
   {
    "duration": 0,
    "start_time": "2022-08-11T13:24:22.388Z"
   },
   {
    "duration": 0,
    "start_time": "2022-08-11T13:24:22.389Z"
   },
   {
    "duration": 0,
    "start_time": "2022-08-11T13:24:22.390Z"
   },
   {
    "duration": 0,
    "start_time": "2022-08-11T13:24:22.391Z"
   },
   {
    "duration": 0,
    "start_time": "2022-08-11T13:24:22.391Z"
   },
   {
    "duration": 0,
    "start_time": "2022-08-11T13:24:22.392Z"
   },
   {
    "duration": 0,
    "start_time": "2022-08-11T13:24:22.393Z"
   },
   {
    "duration": 0,
    "start_time": "2022-08-11T13:24:22.394Z"
   },
   {
    "duration": 0,
    "start_time": "2022-08-11T13:24:22.395Z"
   },
   {
    "duration": 0,
    "start_time": "2022-08-11T13:24:22.396Z"
   },
   {
    "duration": 0,
    "start_time": "2022-08-11T13:24:22.397Z"
   },
   {
    "duration": 0,
    "start_time": "2022-08-11T13:24:22.397Z"
   },
   {
    "duration": 0,
    "start_time": "2022-08-11T13:24:22.398Z"
   },
   {
    "duration": 0,
    "start_time": "2022-08-11T13:24:22.438Z"
   },
   {
    "duration": 2,
    "start_time": "2022-08-11T13:24:42.569Z"
   },
   {
    "duration": 7,
    "start_time": "2022-08-11T13:24:42.575Z"
   },
   {
    "duration": 615,
    "start_time": "2022-08-11T13:24:42.584Z"
   },
   {
    "duration": 14,
    "start_time": "2022-08-11T13:24:43.201Z"
   },
   {
    "duration": 20,
    "start_time": "2022-08-11T13:24:43.217Z"
   },
   {
    "duration": 11,
    "start_time": "2022-08-11T13:24:43.239Z"
   },
   {
    "duration": 166,
    "start_time": "2022-08-11T13:24:43.252Z"
   },
   {
    "duration": 140,
    "start_time": "2022-08-11T13:24:43.420Z"
   },
   {
    "duration": 10,
    "start_time": "2022-08-11T13:24:43.562Z"
   },
   {
    "duration": 13,
    "start_time": "2022-08-11T13:24:43.574Z"
   },
   {
    "duration": 9,
    "start_time": "2022-08-11T13:24:43.589Z"
   },
   {
    "duration": 305,
    "start_time": "2022-08-11T13:24:43.600Z"
   },
   {
    "duration": 14,
    "start_time": "2022-08-11T13:24:43.907Z"
   },
   {
    "duration": 24,
    "start_time": "2022-08-11T13:24:43.922Z"
   },
   {
    "duration": 13,
    "start_time": "2022-08-11T13:24:43.948Z"
   },
   {
    "duration": 27,
    "start_time": "2022-08-11T13:24:43.962Z"
   },
   {
    "duration": 8,
    "start_time": "2022-08-11T13:24:43.991Z"
   },
   {
    "duration": 81,
    "start_time": "2022-08-11T13:24:44.001Z"
   },
   {
    "duration": 12,
    "start_time": "2022-08-11T13:24:44.084Z"
   },
   {
    "duration": 10,
    "start_time": "2022-08-11T13:24:44.098Z"
   },
   {
    "duration": 28,
    "start_time": "2022-08-11T13:24:44.110Z"
   },
   {
    "duration": 194,
    "start_time": "2022-08-11T13:24:44.140Z"
   },
   {
    "duration": 11,
    "start_time": "2022-08-11T13:24:44.337Z"
   },
   {
    "duration": 14,
    "start_time": "2022-08-11T13:24:44.349Z"
   },
   {
    "duration": 9,
    "start_time": "2022-08-11T13:24:44.365Z"
   },
   {
    "duration": 115,
    "start_time": "2022-08-11T13:24:44.375Z"
   },
   {
    "duration": 10,
    "start_time": "2022-08-11T13:24:44.492Z"
   },
   {
    "duration": 11,
    "start_time": "2022-08-11T13:24:44.503Z"
   },
   {
    "duration": 23,
    "start_time": "2022-08-11T13:24:44.516Z"
   },
   {
    "duration": 1675,
    "start_time": "2022-08-11T13:24:44.540Z"
   },
   {
    "duration": 1658,
    "start_time": "2022-08-11T13:24:59.964Z"
   },
   {
    "duration": 1714,
    "start_time": "2022-08-11T13:26:16.873Z"
   },
   {
    "duration": 1833,
    "start_time": "2022-08-11T13:26:48.702Z"
   },
   {
    "duration": 1722,
    "start_time": "2022-08-11T13:27:29.230Z"
   },
   {
    "duration": 1742,
    "start_time": "2022-08-11T13:27:38.277Z"
   },
   {
    "duration": 1750,
    "start_time": "2022-08-11T13:28:28.938Z"
   },
   {
    "duration": 1682,
    "start_time": "2022-08-11T13:28:59.794Z"
   },
   {
    "duration": 3,
    "start_time": "2022-08-11T13:29:19.727Z"
   },
   {
    "duration": 1709,
    "start_time": "2022-08-11T13:29:25.056Z"
   },
   {
    "duration": 1699,
    "start_time": "2022-08-11T13:29:34.224Z"
   },
   {
    "duration": 9,
    "start_time": "2022-08-11T13:30:21.533Z"
   },
   {
    "duration": 1729,
    "start_time": "2022-08-11T13:31:11.868Z"
   },
   {
    "duration": 3397,
    "start_time": "2022-08-11T13:34:30.418Z"
   },
   {
    "duration": 8,
    "start_time": "2022-08-11T13:35:03.851Z"
   },
   {
    "duration": 3492,
    "start_time": "2022-08-11T13:35:36.888Z"
   },
   {
    "duration": 3412,
    "start_time": "2022-08-11T13:39:20.597Z"
   },
   {
    "duration": 3362,
    "start_time": "2022-08-11T13:40:23.082Z"
   },
   {
    "duration": 7,
    "start_time": "2022-08-11T13:40:46.760Z"
   },
   {
    "duration": 13,
    "start_time": "2022-08-11T13:42:27.555Z"
   },
   {
    "duration": 10,
    "start_time": "2022-08-11T13:43:12.089Z"
   },
   {
    "duration": 10,
    "start_time": "2022-08-11T13:43:19.457Z"
   },
   {
    "duration": 7,
    "start_time": "2022-08-11T13:46:45.361Z"
   },
   {
    "duration": 5,
    "start_time": "2022-08-11T13:47:52.231Z"
   },
   {
    "duration": 6,
    "start_time": "2022-08-11T13:48:09.651Z"
   },
   {
    "duration": 93,
    "start_time": "2022-08-11T13:50:53.877Z"
   },
   {
    "duration": 3301,
    "start_time": "2022-08-11T13:51:34.331Z"
   },
   {
    "duration": 3349,
    "start_time": "2022-08-11T13:52:42.741Z"
   },
   {
    "duration": 29,
    "start_time": "2022-08-11T13:52:54.222Z"
   },
   {
    "duration": 10,
    "start_time": "2022-08-11T13:53:06.903Z"
   },
   {
    "duration": 320,
    "start_time": "2022-08-11T13:55:59.903Z"
   },
   {
    "duration": 310,
    "start_time": "2022-08-11T13:57:54.490Z"
   },
   {
    "duration": 333,
    "start_time": "2022-08-11T13:58:07.214Z"
   },
   {
    "duration": 3335,
    "start_time": "2022-08-11T14:01:04.186Z"
   },
   {
    "duration": 16,
    "start_time": "2022-08-11T14:01:07.523Z"
   },
   {
    "duration": 11,
    "start_time": "2022-08-11T14:01:14.023Z"
   },
   {
    "duration": 655,
    "start_time": "2022-08-11T14:13:32.358Z"
   },
   {
    "duration": 4,
    "start_time": "2022-08-11T14:14:44.915Z"
   },
   {
    "duration": 5,
    "start_time": "2022-08-11T14:14:49.578Z"
   },
   {
    "duration": 11,
    "start_time": "2022-08-11T14:14:57.834Z"
   },
   {
    "duration": 11,
    "start_time": "2022-08-11T14:17:46.755Z"
   },
   {
    "duration": 42,
    "start_time": "2022-08-11T14:20:00.332Z"
   },
   {
    "duration": 12,
    "start_time": "2022-08-11T14:21:28.737Z"
   },
   {
    "duration": 49,
    "start_time": "2022-08-11T14:22:45.616Z"
   },
   {
    "duration": 3,
    "start_time": "2022-08-11T14:23:19.123Z"
   },
   {
    "duration": 1445,
    "start_time": "2022-08-11T14:23:24.826Z"
   },
   {
    "duration": 3,
    "start_time": "2022-08-11T14:26:51.553Z"
   },
   {
    "duration": 11,
    "start_time": "2022-08-11T14:27:29.528Z"
   },
   {
    "duration": 5,
    "start_time": "2022-08-11T14:27:38.088Z"
   },
   {
    "duration": 12878,
    "start_time": "2022-08-11T14:27:54.901Z"
   },
   {
    "duration": 5,
    "start_time": "2022-08-11T14:28:10.815Z"
   },
   {
    "duration": 6,
    "start_time": "2022-08-11T14:28:30.196Z"
   },
   {
    "duration": 2,
    "start_time": "2022-08-11T14:55:20.346Z"
   },
   {
    "duration": 9,
    "start_time": "2022-08-11T14:56:41.733Z"
   },
   {
    "duration": 8,
    "start_time": "2022-08-11T15:04:45.101Z"
   },
   {
    "duration": 4,
    "start_time": "2022-08-11T15:04:53.844Z"
   },
   {
    "duration": 5,
    "start_time": "2022-08-11T15:04:58.940Z"
   },
   {
    "duration": 4,
    "start_time": "2022-08-11T15:05:12.155Z"
   },
   {
    "duration": 8,
    "start_time": "2022-08-11T15:07:49.740Z"
   },
   {
    "duration": 4,
    "start_time": "2022-08-11T15:08:16.858Z"
   },
   {
    "duration": 13293,
    "start_time": "2022-08-11T15:08:21.279Z"
   },
   {
    "duration": 971,
    "start_time": "2022-08-11T15:08:52.969Z"
   },
   {
    "duration": 8685,
    "start_time": "2022-08-11T15:10:11.117Z"
   },
   {
    "duration": 5,
    "start_time": "2022-08-11T15:10:23.516Z"
   },
   {
    "duration": 2642,
    "start_time": "2022-08-11T15:10:29.364Z"
   },
   {
    "duration": 5,
    "start_time": "2022-08-11T15:10:41.876Z"
   },
   {
    "duration": 14897,
    "start_time": "2022-08-11T15:12:33.239Z"
   },
   {
    "duration": 5,
    "start_time": "2022-08-11T15:12:51.461Z"
   },
   {
    "duration": 5274,
    "start_time": "2022-08-11T15:13:02.852Z"
   },
   {
    "duration": 6,
    "start_time": "2022-08-11T15:13:10.340Z"
   },
   {
    "duration": 8284,
    "start_time": "2022-08-11T15:13:52.563Z"
   },
   {
    "duration": 5,
    "start_time": "2022-08-11T15:14:03.089Z"
   },
   {
    "duration": 1236,
    "start_time": "2022-08-11T15:14:58.366Z"
   },
   {
    "duration": 3,
    "start_time": "2022-08-11T15:14:59.603Z"
   },
   {
    "duration": 205,
    "start_time": "2022-08-11T15:14:59.609Z"
   },
   {
    "duration": 13,
    "start_time": "2022-08-11T15:14:59.816Z"
   },
   {
    "duration": 12,
    "start_time": "2022-08-11T15:14:59.830Z"
   },
   {
    "duration": 9,
    "start_time": "2022-08-11T15:14:59.843Z"
   },
   {
    "duration": 136,
    "start_time": "2022-08-11T15:14:59.854Z"
   },
   {
    "duration": 134,
    "start_time": "2022-08-11T15:14:59.992Z"
   },
   {
    "duration": 16,
    "start_time": "2022-08-11T15:15:00.127Z"
   },
   {
    "duration": 13,
    "start_time": "2022-08-11T15:15:00.145Z"
   },
   {
    "duration": 29,
    "start_time": "2022-08-11T15:15:00.159Z"
   },
   {
    "duration": 21,
    "start_time": "2022-08-11T15:15:00.189Z"
   },
   {
    "duration": 296,
    "start_time": "2022-08-11T15:15:00.211Z"
   },
   {
    "duration": 13,
    "start_time": "2022-08-11T15:15:00.508Z"
   },
   {
    "duration": 37,
    "start_time": "2022-08-11T15:15:00.523Z"
   },
   {
    "duration": 20,
    "start_time": "2022-08-11T15:15:00.561Z"
   },
   {
    "duration": 53,
    "start_time": "2022-08-11T15:15:00.582Z"
   },
   {
    "duration": 14,
    "start_time": "2022-08-11T15:15:00.636Z"
   },
   {
    "duration": 26,
    "start_time": "2022-08-11T15:15:00.652Z"
   },
   {
    "duration": 20,
    "start_time": "2022-08-11T15:15:00.680Z"
   },
   {
    "duration": 25,
    "start_time": "2022-08-11T15:15:00.702Z"
   },
   {
    "duration": 5,
    "start_time": "2022-08-11T15:15:00.728Z"
   },
   {
    "duration": 32,
    "start_time": "2022-08-11T15:15:00.734Z"
   },
   {
    "duration": 31,
    "start_time": "2022-08-11T15:15:00.768Z"
   },
   {
    "duration": 273,
    "start_time": "2022-08-11T15:15:00.801Z"
   },
   {
    "duration": 12,
    "start_time": "2022-08-11T15:15:01.075Z"
   },
   {
    "duration": 13,
    "start_time": "2022-08-11T15:15:01.089Z"
   },
   {
    "duration": 15,
    "start_time": "2022-08-11T15:15:01.106Z"
   },
   {
    "duration": 105,
    "start_time": "2022-08-11T15:15:01.122Z"
   },
   {
    "duration": 10,
    "start_time": "2022-08-11T15:15:01.237Z"
   },
   {
    "duration": 14,
    "start_time": "2022-08-11T15:15:01.249Z"
   },
   {
    "duration": 20,
    "start_time": "2022-08-11T15:15:01.265Z"
   },
   {
    "duration": 319,
    "start_time": "2022-08-11T15:15:01.286Z"
   },
   {
    "duration": 3226,
    "start_time": "2022-08-11T15:15:01.606Z"
   },
   {
    "duration": 12,
    "start_time": "2022-08-11T15:15:04.833Z"
   },
   {
    "duration": 7,
    "start_time": "2022-08-11T15:15:04.846Z"
   },
   {
    "duration": 11,
    "start_time": "2022-08-11T15:15:04.855Z"
   },
   {
    "duration": 4820,
    "start_time": "2022-08-11T15:15:04.867Z"
   },
   {
    "duration": 5,
    "start_time": "2022-08-11T15:15:09.689Z"
   },
   {
    "duration": 11,
    "start_time": "2022-08-11T15:15:09.695Z"
   },
   {
    "duration": 5,
    "start_time": "2022-08-11T15:15:09.708Z"
   },
   {
    "duration": 107,
    "start_time": "2022-08-11T15:15:09.715Z"
   },
   {
    "duration": 0,
    "start_time": "2022-08-11T15:15:09.823Z"
   },
   {
    "duration": 0,
    "start_time": "2022-08-11T15:15:09.825Z"
   },
   {
    "duration": 3,
    "start_time": "2022-08-11T15:15:23.917Z"
   },
   {
    "duration": 4,
    "start_time": "2022-08-11T15:15:25.372Z"
   },
   {
    "duration": 4,
    "start_time": "2022-08-11T15:15:29.045Z"
   },
   {
    "duration": 3523,
    "start_time": "2022-08-11T15:16:35.873Z"
   },
   {
    "duration": 13,
    "start_time": "2022-08-11T15:16:41.226Z"
   },
   {
    "duration": 5,
    "start_time": "2022-08-11T15:16:50.162Z"
   },
   {
    "duration": 14,
    "start_time": "2022-08-11T15:16:52.209Z"
   },
   {
    "duration": 8541,
    "start_time": "2022-08-11T15:16:54.953Z"
   },
   {
    "duration": 3248,
    "start_time": "2022-08-11T15:20:03.841Z"
   },
   {
    "duration": 5044,
    "start_time": "2022-08-11T15:22:13.187Z"
   },
   {
    "duration": 16,
    "start_time": "2022-08-11T15:22:21.482Z"
   },
   {
    "duration": 5,
    "start_time": "2022-08-11T15:22:25.154Z"
   },
   {
    "duration": 14,
    "start_time": "2022-08-11T15:22:27.129Z"
   },
   {
    "duration": 8890,
    "start_time": "2022-08-11T15:22:31.226Z"
   },
   {
    "duration": 10,
    "start_time": "2022-08-11T15:22:42.761Z"
   },
   {
    "duration": 1251,
    "start_time": "2022-08-11T15:28:49.076Z"
   },
   {
    "duration": 2,
    "start_time": "2022-08-11T15:28:50.329Z"
   },
   {
    "duration": 197,
    "start_time": "2022-08-11T15:28:50.333Z"
   },
   {
    "duration": 13,
    "start_time": "2022-08-11T15:28:50.533Z"
   },
   {
    "duration": 12,
    "start_time": "2022-08-11T15:28:50.548Z"
   },
   {
    "duration": 9,
    "start_time": "2022-08-11T15:28:50.561Z"
   },
   {
    "duration": 158,
    "start_time": "2022-08-11T15:28:50.571Z"
   },
   {
    "duration": 131,
    "start_time": "2022-08-11T15:28:50.730Z"
   },
   {
    "duration": 11,
    "start_time": "2022-08-11T15:28:50.862Z"
   },
   {
    "duration": 18,
    "start_time": "2022-08-11T15:28:50.875Z"
   },
   {
    "duration": 20,
    "start_time": "2022-08-11T15:28:50.894Z"
   },
   {
    "duration": 8,
    "start_time": "2022-08-11T15:28:50.916Z"
   },
   {
    "duration": 307,
    "start_time": "2022-08-11T15:28:50.925Z"
   },
   {
    "duration": 16,
    "start_time": "2022-08-11T15:28:51.233Z"
   },
   {
    "duration": 12,
    "start_time": "2022-08-11T15:28:51.251Z"
   },
   {
    "duration": 19,
    "start_time": "2022-08-11T15:28:51.265Z"
   },
   {
    "duration": 35,
    "start_time": "2022-08-11T15:28:51.285Z"
   },
   {
    "duration": 17,
    "start_time": "2022-08-11T15:28:51.322Z"
   },
   {
    "duration": 10,
    "start_time": "2022-08-11T15:28:51.340Z"
   },
   {
    "duration": 10,
    "start_time": "2022-08-11T15:28:51.351Z"
   },
   {
    "duration": 17,
    "start_time": "2022-08-11T15:28:51.362Z"
   },
   {
    "duration": 5,
    "start_time": "2022-08-11T15:28:51.382Z"
   },
   {
    "duration": 13,
    "start_time": "2022-08-11T15:28:51.389Z"
   },
   {
    "duration": 36,
    "start_time": "2022-08-11T15:28:51.403Z"
   },
   {
    "duration": 258,
    "start_time": "2022-08-11T15:28:51.440Z"
   },
   {
    "duration": 11,
    "start_time": "2022-08-11T15:28:51.701Z"
   },
   {
    "duration": 11,
    "start_time": "2022-08-11T15:28:51.713Z"
   },
   {
    "duration": 12,
    "start_time": "2022-08-11T15:28:51.727Z"
   },
   {
    "duration": 102,
    "start_time": "2022-08-11T15:28:51.741Z"
   },
   {
    "duration": 11,
    "start_time": "2022-08-11T15:28:51.845Z"
   },
   {
    "duration": 11,
    "start_time": "2022-08-11T15:28:51.857Z"
   },
   {
    "duration": 10,
    "start_time": "2022-08-11T15:28:51.870Z"
   },
   {
    "duration": 331,
    "start_time": "2022-08-11T15:28:51.882Z"
   },
   {
    "duration": 4759,
    "start_time": "2022-08-11T15:28:52.215Z"
   },
   {
    "duration": 10,
    "start_time": "2022-08-11T15:28:56.975Z"
   },
   {
    "duration": 4,
    "start_time": "2022-08-11T15:28:56.987Z"
   },
   {
    "duration": 12,
    "start_time": "2022-08-11T15:28:56.992Z"
   },
   {
    "duration": 124,
    "start_time": "2022-08-11T15:28:57.005Z"
   },
   {
    "duration": 0,
    "start_time": "2022-08-11T15:28:57.130Z"
   },
   {
    "duration": 0,
    "start_time": "2022-08-11T15:28:57.138Z"
   },
   {
    "duration": 0,
    "start_time": "2022-08-11T15:28:57.139Z"
   },
   {
    "duration": 0,
    "start_time": "2022-08-11T15:28:57.140Z"
   },
   {
    "duration": 0,
    "start_time": "2022-08-11T15:28:57.141Z"
   },
   {
    "duration": 0,
    "start_time": "2022-08-11T15:28:57.142Z"
   },
   {
    "duration": 10,
    "start_time": "2022-08-11T15:29:06.832Z"
   },
   {
    "duration": 13,
    "start_time": "2022-08-11T15:30:50.133Z"
   },
   {
    "duration": 11,
    "start_time": "2022-08-11T15:31:16.801Z"
   },
   {
    "duration": 7,
    "start_time": "2022-08-11T15:31:32.346Z"
   },
   {
    "duration": 7,
    "start_time": "2022-08-11T15:31:40.763Z"
   },
   {
    "duration": 7,
    "start_time": "2022-08-11T15:33:47.453Z"
   },
   {
    "duration": 15,
    "start_time": "2022-08-11T15:33:57.580Z"
   },
   {
    "duration": 13,
    "start_time": "2022-08-11T15:34:32.123Z"
   },
   {
    "duration": 1526,
    "start_time": "2022-08-12T12:10:04.990Z"
   },
   {
    "duration": 2,
    "start_time": "2022-08-12T12:10:06.518Z"
   },
   {
    "duration": 538,
    "start_time": "2022-08-12T12:10:06.521Z"
   },
   {
    "duration": 13,
    "start_time": "2022-08-12T12:10:07.061Z"
   },
   {
    "duration": 12,
    "start_time": "2022-08-12T12:10:07.076Z"
   },
   {
    "duration": 9,
    "start_time": "2022-08-12T12:10:07.089Z"
   },
   {
    "duration": 137,
    "start_time": "2022-08-12T12:10:07.099Z"
   },
   {
    "duration": 139,
    "start_time": "2022-08-12T12:10:07.237Z"
   },
   {
    "duration": 10,
    "start_time": "2022-08-12T12:10:07.378Z"
   },
   {
    "duration": 26,
    "start_time": "2022-08-12T12:10:07.391Z"
   },
   {
    "duration": 14,
    "start_time": "2022-08-12T12:10:07.418Z"
   },
   {
    "duration": 5,
    "start_time": "2022-08-12T12:10:07.434Z"
   },
   {
    "duration": 343,
    "start_time": "2022-08-12T12:10:07.440Z"
   },
   {
    "duration": 22,
    "start_time": "2022-08-12T12:10:07.784Z"
   },
   {
    "duration": 11,
    "start_time": "2022-08-12T12:10:07.807Z"
   },
   {
    "duration": 17,
    "start_time": "2022-08-12T12:10:07.819Z"
   },
   {
    "duration": 31,
    "start_time": "2022-08-12T12:10:07.837Z"
   },
   {
    "duration": 9,
    "start_time": "2022-08-12T12:10:07.870Z"
   },
   {
    "duration": 10,
    "start_time": "2022-08-12T12:10:07.906Z"
   },
   {
    "duration": 10,
    "start_time": "2022-08-12T12:10:07.917Z"
   },
   {
    "duration": 13,
    "start_time": "2022-08-12T12:10:07.928Z"
   },
   {
    "duration": 5,
    "start_time": "2022-08-12T12:10:07.942Z"
   },
   {
    "duration": 10,
    "start_time": "2022-08-12T12:10:07.949Z"
   },
   {
    "duration": 54,
    "start_time": "2022-08-12T12:10:07.960Z"
   },
   {
    "duration": 286,
    "start_time": "2022-08-12T12:10:08.016Z"
   },
   {
    "duration": 11,
    "start_time": "2022-08-12T12:10:08.304Z"
   },
   {
    "duration": 16,
    "start_time": "2022-08-12T12:10:08.317Z"
   },
   {
    "duration": 8,
    "start_time": "2022-08-12T12:10:08.336Z"
   },
   {
    "duration": 128,
    "start_time": "2022-08-12T12:10:08.346Z"
   },
   {
    "duration": 12,
    "start_time": "2022-08-12T12:10:08.476Z"
   },
   {
    "duration": 22,
    "start_time": "2022-08-12T12:10:08.489Z"
   },
   {
    "duration": 18,
    "start_time": "2022-08-12T12:10:08.512Z"
   },
   {
    "duration": 339,
    "start_time": "2022-08-12T12:10:08.533Z"
   },
   {
    "duration": 4952,
    "start_time": "2022-08-12T12:10:08.873Z"
   },
   {
    "duration": 6,
    "start_time": "2022-08-12T12:10:13.827Z"
   },
   {
    "duration": 8,
    "start_time": "2022-08-12T12:10:13.834Z"
   },
   {
    "duration": 11,
    "start_time": "2022-08-12T12:10:13.843Z"
   },
   {
    "duration": 130,
    "start_time": "2022-08-12T12:10:13.855Z"
   },
   {
    "duration": 0,
    "start_time": "2022-08-12T12:10:13.987Z"
   },
   {
    "duration": 0,
    "start_time": "2022-08-12T12:10:13.988Z"
   },
   {
    "duration": 0,
    "start_time": "2022-08-12T12:10:13.989Z"
   },
   {
    "duration": 0,
    "start_time": "2022-08-12T12:10:13.990Z"
   },
   {
    "duration": 0,
    "start_time": "2022-08-12T12:10:13.991Z"
   },
   {
    "duration": 0,
    "start_time": "2022-08-12T12:10:13.992Z"
   },
   {
    "duration": 11,
    "start_time": "2022-08-12T12:11:19.241Z"
   },
   {
    "duration": 314,
    "start_time": "2022-08-12T12:11:25.687Z"
   },
   {
    "duration": 4086,
    "start_time": "2022-08-12T12:11:30.743Z"
   },
   {
    "duration": 8,
    "start_time": "2022-08-12T12:11:39.031Z"
   },
   {
    "duration": 11,
    "start_time": "2022-08-12T12:14:14.771Z"
   },
   {
    "duration": 7,
    "start_time": "2022-08-12T12:14:17.720Z"
   },
   {
    "duration": 8,
    "start_time": "2022-08-12T12:14:52.749Z"
   },
   {
    "duration": 16,
    "start_time": "2022-08-12T12:15:13.124Z"
   },
   {
    "duration": 6,
    "start_time": "2022-08-12T12:15:41.012Z"
   },
   {
    "duration": 5,
    "start_time": "2022-08-12T12:16:20.706Z"
   },
   {
    "duration": 6,
    "start_time": "2022-08-12T12:16:41.937Z"
   },
   {
    "duration": 4,
    "start_time": "2022-08-12T12:17:22.142Z"
   },
   {
    "duration": 5,
    "start_time": "2022-08-12T12:17:24.590Z"
   },
   {
    "duration": 5,
    "start_time": "2022-08-12T12:17:39.390Z"
   },
   {
    "duration": 9,
    "start_time": "2022-08-12T12:17:56.621Z"
   },
   {
    "duration": 10,
    "start_time": "2022-08-12T12:18:02.389Z"
   },
   {
    "duration": 6,
    "start_time": "2022-08-12T12:19:01.954Z"
   },
   {
    "duration": 11,
    "start_time": "2022-08-12T12:20:31.319Z"
   },
   {
    "duration": 15,
    "start_time": "2022-08-12T12:38:58.486Z"
   },
   {
    "duration": 11,
    "start_time": "2022-08-12T12:39:24.849Z"
   },
   {
    "duration": 8,
    "start_time": "2022-08-12T12:41:21.880Z"
   },
   {
    "duration": 8,
    "start_time": "2022-08-12T12:41:35.395Z"
   },
   {
    "duration": 7,
    "start_time": "2022-08-12T12:42:23.013Z"
   },
   {
    "duration": 11,
    "start_time": "2022-08-12T12:42:36.577Z"
   },
   {
    "duration": 318,
    "start_time": "2022-08-12T12:43:55.121Z"
   },
   {
    "duration": 4058,
    "start_time": "2022-08-12T12:44:03.285Z"
   },
   {
    "duration": 13,
    "start_time": "2022-08-12T12:44:16.483Z"
   },
   {
    "duration": 6,
    "start_time": "2022-08-12T12:44:30.132Z"
   },
   {
    "duration": 14,
    "start_time": "2022-08-12T12:44:34.410Z"
   },
   {
    "duration": 7170,
    "start_time": "2022-08-12T12:44:50.323Z"
   },
   {
    "duration": 5,
    "start_time": "2022-08-12T12:45:00.249Z"
   },
   {
    "duration": 13,
    "start_time": "2022-08-12T12:47:41.351Z"
   },
   {
    "duration": 7203,
    "start_time": "2022-08-12T12:48:16.493Z"
   },
   {
    "duration": 10,
    "start_time": "2022-08-12T12:48:27.696Z"
   },
   {
    "duration": 13,
    "start_time": "2022-08-12T12:48:52.322Z"
   },
   {
    "duration": 848,
    "start_time": "2022-08-12T12:50:55.080Z"
   },
   {
    "duration": 4,
    "start_time": "2022-08-12T13:08:24.528Z"
   },
   {
    "duration": 5,
    "start_time": "2022-08-12T13:08:30.803Z"
   },
   {
    "duration": 4,
    "start_time": "2022-08-12T13:08:45.562Z"
   },
   {
    "duration": 6916,
    "start_time": "2022-08-12T13:09:55.441Z"
   },
   {
    "duration": 326,
    "start_time": "2022-08-12T13:10:36.081Z"
   },
   {
    "duration": 3,
    "start_time": "2022-08-12T13:10:43.557Z"
   },
   {
    "duration": 3,
    "start_time": "2022-08-12T13:11:44.202Z"
   },
   {
    "duration": 18,
    "start_time": "2022-08-12T13:13:40.689Z"
   },
   {
    "duration": 14,
    "start_time": "2022-08-12T13:13:51.157Z"
   },
   {
    "duration": 11,
    "start_time": "2022-08-12T13:14:00.564Z"
   },
   {
    "duration": 11,
    "start_time": "2022-08-12T13:15:07.120Z"
   },
   {
    "duration": 12,
    "start_time": "2022-08-12T13:18:07.218Z"
   },
   {
    "duration": 10,
    "start_time": "2022-08-12T13:18:59.798Z"
   },
   {
    "duration": 6702,
    "start_time": "2022-08-12T13:19:05.918Z"
   },
   {
    "duration": 4,
    "start_time": "2022-08-12T13:19:15.861Z"
   },
   {
    "duration": 185,
    "start_time": "2022-08-12T13:19:30.725Z"
   },
   {
    "duration": 13823,
    "start_time": "2022-08-12T13:19:59.172Z"
   },
   {
    "duration": 4,
    "start_time": "2022-08-12T13:20:16.924Z"
   },
   {
    "duration": 319,
    "start_time": "2022-08-12T13:22:57.190Z"
   },
   {
    "duration": 329,
    "start_time": "2022-08-12T13:23:04.811Z"
   },
   {
    "duration": 1056,
    "start_time": "2022-08-12T13:25:11.123Z"
   },
   {
    "duration": 351,
    "start_time": "2022-08-12T13:25:41.735Z"
   },
   {
    "duration": 340,
    "start_time": "2022-08-12T13:26:28.299Z"
   },
   {
    "duration": 3854,
    "start_time": "2022-08-12T13:27:08.865Z"
   },
   {
    "duration": 12,
    "start_time": "2022-08-12T13:27:19.399Z"
   },
   {
    "duration": 7,
    "start_time": "2022-08-12T13:27:26.262Z"
   },
   {
    "duration": 10,
    "start_time": "2022-08-12T13:27:28.966Z"
   },
   {
    "duration": 15648,
    "start_time": "2022-08-12T13:27:31.601Z"
   },
   {
    "duration": 5,
    "start_time": "2022-08-12T13:27:50.742Z"
   },
   {
    "duration": 326,
    "start_time": "2022-08-12T13:29:04.408Z"
   },
   {
    "duration": 362,
    "start_time": "2022-08-12T13:30:09.978Z"
   },
   {
    "duration": 3947,
    "start_time": "2022-08-12T13:30:14.698Z"
   },
   {
    "duration": 12,
    "start_time": "2022-08-12T13:30:20.847Z"
   },
   {
    "duration": 6,
    "start_time": "2022-08-12T13:30:24.175Z"
   },
   {
    "duration": 9,
    "start_time": "2022-08-12T13:30:25.943Z"
   },
   {
    "duration": 15362,
    "start_time": "2022-08-12T13:30:28.346Z"
   },
   {
    "duration": 5,
    "start_time": "2022-08-12T13:30:46.046Z"
   },
   {
    "duration": 143,
    "start_time": "2022-08-12T13:31:05.174Z"
   },
   {
    "duration": 440,
    "start_time": "2022-08-12T13:31:25.870Z"
   },
   {
    "duration": 3882,
    "start_time": "2022-08-12T13:31:29.479Z"
   },
   {
    "duration": 11,
    "start_time": "2022-08-12T13:31:35.732Z"
   },
   {
    "duration": 5,
    "start_time": "2022-08-12T13:31:38.652Z"
   },
   {
    "duration": 10,
    "start_time": "2022-08-12T13:31:40.405Z"
   },
   {
    "duration": 14942,
    "start_time": "2022-08-12T13:31:43.228Z"
   },
   {
    "duration": 5,
    "start_time": "2022-08-12T13:32:02.131Z"
   },
   {
    "duration": 1615,
    "start_time": "2022-08-12T13:32:19.564Z"
   },
   {
    "duration": 5,
    "start_time": "2022-08-12T13:32:39.167Z"
   },
   {
    "duration": 15047,
    "start_time": "2022-08-12T13:32:41.545Z"
   },
   {
    "duration": 1734,
    "start_time": "2022-08-12T13:33:00.049Z"
   },
   {
    "duration": 7,
    "start_time": "2022-08-12T13:33:43.551Z"
   },
   {
    "duration": 14688,
    "start_time": "2022-08-12T13:33:45.759Z"
   },
   {
    "duration": 1636,
    "start_time": "2022-08-12T13:34:07.421Z"
   },
   {
    "duration": 10,
    "start_time": "2022-08-12T13:37:36.022Z"
   },
   {
    "duration": 10,
    "start_time": "2022-08-12T13:39:24.599Z"
   },
   {
    "duration": 8,
    "start_time": "2022-08-12T13:40:16.255Z"
   },
   {
    "duration": 14,
    "start_time": "2022-08-12T13:40:35.189Z"
   },
   {
    "duration": 7,
    "start_time": "2022-08-12T13:40:53.036Z"
   },
   {
    "duration": 8,
    "start_time": "2022-08-12T13:43:30.305Z"
   },
   {
    "duration": 11,
    "start_time": "2022-08-12T13:44:13.456Z"
   },
   {
    "duration": 5,
    "start_time": "2022-08-12T13:44:15.775Z"
   },
   {
    "duration": 1461,
    "start_time": "2022-08-12T13:44:34.187Z"
   },
   {
    "duration": 3,
    "start_time": "2022-08-12T13:44:35.650Z"
   },
   {
    "duration": 200,
    "start_time": "2022-08-12T13:44:35.654Z"
   },
   {
    "duration": 12,
    "start_time": "2022-08-12T13:44:35.856Z"
   },
   {
    "duration": 17,
    "start_time": "2022-08-12T13:44:35.870Z"
   },
   {
    "duration": 9,
    "start_time": "2022-08-12T13:44:35.888Z"
   },
   {
    "duration": 164,
    "start_time": "2022-08-12T13:44:35.899Z"
   },
   {
    "duration": 182,
    "start_time": "2022-08-12T13:44:36.065Z"
   },
   {
    "duration": 12,
    "start_time": "2022-08-12T13:44:36.249Z"
   },
   {
    "duration": 41,
    "start_time": "2022-08-12T13:44:36.264Z"
   },
   {
    "duration": 36,
    "start_time": "2022-08-12T13:44:36.307Z"
   },
   {
    "duration": 4,
    "start_time": "2022-08-12T13:44:36.345Z"
   },
   {
    "duration": 327,
    "start_time": "2022-08-12T13:44:36.350Z"
   },
   {
    "duration": 15,
    "start_time": "2022-08-12T13:44:36.678Z"
   },
   {
    "duration": 23,
    "start_time": "2022-08-12T13:44:36.694Z"
   },
   {
    "duration": 12,
    "start_time": "2022-08-12T13:44:36.719Z"
   },
   {
    "duration": 40,
    "start_time": "2022-08-12T13:44:36.732Z"
   },
   {
    "duration": 36,
    "start_time": "2022-08-12T13:44:36.774Z"
   },
   {
    "duration": 17,
    "start_time": "2022-08-12T13:44:36.812Z"
   },
   {
    "duration": 11,
    "start_time": "2022-08-12T13:44:36.831Z"
   },
   {
    "duration": 16,
    "start_time": "2022-08-12T13:44:36.844Z"
   },
   {
    "duration": 7,
    "start_time": "2022-08-12T13:44:36.861Z"
   },
   {
    "duration": 42,
    "start_time": "2022-08-12T13:44:36.870Z"
   },
   {
    "duration": 19,
    "start_time": "2022-08-12T13:44:36.914Z"
   },
   {
    "duration": 305,
    "start_time": "2022-08-12T13:44:36.934Z"
   },
   {
    "duration": 11,
    "start_time": "2022-08-12T13:44:37.241Z"
   },
   {
    "duration": 14,
    "start_time": "2022-08-12T13:44:37.254Z"
   },
   {
    "duration": 36,
    "start_time": "2022-08-12T13:44:37.272Z"
   },
   {
    "duration": 139,
    "start_time": "2022-08-12T13:44:37.309Z"
   },
   {
    "duration": 14,
    "start_time": "2022-08-12T13:44:37.449Z"
   },
   {
    "duration": 10,
    "start_time": "2022-08-12T13:44:37.465Z"
   },
   {
    "duration": 35,
    "start_time": "2022-08-12T13:44:37.477Z"
   },
   {
    "duration": 7,
    "start_time": "2022-08-12T13:44:37.513Z"
   },
   {
    "duration": 346,
    "start_time": "2022-08-12T13:44:37.521Z"
   },
   {
    "duration": 3870,
    "start_time": "2022-08-12T13:44:37.868Z"
   },
   {
    "duration": 11,
    "start_time": "2022-08-12T13:44:41.740Z"
   },
   {
    "duration": 5,
    "start_time": "2022-08-12T13:44:41.752Z"
   },
   {
    "duration": 4,
    "start_time": "2022-08-12T13:44:41.759Z"
   },
   {
    "duration": 14614,
    "start_time": "2022-08-12T13:44:41.764Z"
   },
   {
    "duration": 4,
    "start_time": "2022-08-12T13:44:56.380Z"
   },
   {
    "duration": 19,
    "start_time": "2022-08-12T13:44:56.385Z"
   },
   {
    "duration": 18,
    "start_time": "2022-08-12T13:44:56.406Z"
   },
   {
    "duration": 485,
    "start_time": "2022-08-12T13:44:56.426Z"
   },
   {
    "duration": 1831,
    "start_time": "2022-08-12T13:44:56.912Z"
   },
   {
    "duration": 357,
    "start_time": "2022-08-12T13:48:25.504Z"
   },
   {
    "duration": 482,
    "start_time": "2022-08-12T13:49:26.086Z"
   },
   {
    "duration": 359,
    "start_time": "2022-08-12T13:50:04.818Z"
   },
   {
    "duration": 4183,
    "start_time": "2022-08-12T13:50:23.174Z"
   },
   {
    "duration": 13,
    "start_time": "2022-08-12T13:50:28.321Z"
   },
   {
    "duration": 7,
    "start_time": "2022-08-12T13:50:33.133Z"
   },
   {
    "duration": 5,
    "start_time": "2022-08-12T13:50:34.391Z"
   },
   {
    "duration": 16100,
    "start_time": "2022-08-12T13:50:37.379Z"
   },
   {
    "duration": 5,
    "start_time": "2022-08-12T13:50:56.836Z"
   },
   {
    "duration": 1741,
    "start_time": "2022-08-12T13:51:10.335Z"
   },
   {
    "duration": 10621,
    "start_time": "2022-08-12T13:51:47.033Z"
   },
   {
    "duration": 4,
    "start_time": "2022-08-12T13:52:02.833Z"
   },
   {
    "duration": 1229,
    "start_time": "2022-08-12T13:52:11.955Z"
   },
   {
    "duration": 18,
    "start_time": "2022-08-12T13:55:35.232Z"
   },
   {
    "duration": 15,
    "start_time": "2022-08-12T13:55:42.750Z"
   },
   {
    "duration": 16,
    "start_time": "2022-08-12T13:55:46.080Z"
   },
   {
    "duration": 14,
    "start_time": "2022-08-12T13:55:54.702Z"
   },
   {
    "duration": 12,
    "start_time": "2022-08-12T13:55:59.127Z"
   },
   {
    "duration": 15,
    "start_time": "2022-08-12T13:56:02.693Z"
   },
   {
    "duration": 3961,
    "start_time": "2022-08-12T13:56:09.534Z"
   },
   {
    "duration": 17,
    "start_time": "2022-08-12T13:56:18.973Z"
   },
   {
    "duration": 17,
    "start_time": "2022-08-12T13:57:01.140Z"
   },
   {
    "duration": 3887,
    "start_time": "2022-08-12T13:57:07.971Z"
   },
   {
    "duration": 10,
    "start_time": "2022-08-12T13:57:11.860Z"
   },
   {
    "duration": 105796,
    "start_time": "2022-08-12T14:00:20.407Z"
   },
   {
    "duration": 4,
    "start_time": "2022-08-12T14:03:38.997Z"
   },
   {
    "duration": 24,
    "start_time": "2022-08-12T14:05:42.892Z"
   },
   {
    "duration": 148,
    "start_time": "2022-08-12T14:07:37.643Z"
   },
   {
    "duration": 147537,
    "start_time": "2022-08-12T14:07:49.798Z"
   },
   {
    "duration": 115200,
    "start_time": "2022-08-12T14:10:31.529Z"
   },
   {
    "duration": 103285,
    "start_time": "2022-08-12T14:13:00.838Z"
   },
   {
    "duration": 27181,
    "start_time": "2022-08-12T14:16:36.538Z"
   },
   {
    "duration": 26709,
    "start_time": "2022-08-12T14:19:22.515Z"
   },
   {
    "duration": 19737,
    "start_time": "2022-08-12T14:20:09.276Z"
   },
   {
    "duration": 17647,
    "start_time": "2022-08-12T14:20:41.373Z"
   },
   {
    "duration": 8971,
    "start_time": "2022-08-12T14:21:16.746Z"
   },
   {
    "duration": 10049,
    "start_time": "2022-08-12T14:21:38.273Z"
   },
   {
    "duration": 12815,
    "start_time": "2022-08-12T14:21:59.895Z"
   },
   {
    "duration": 8668,
    "start_time": "2022-08-12T14:22:17.646Z"
   },
   {
    "duration": 10798,
    "start_time": "2022-08-12T14:22:31.717Z"
   },
   {
    "duration": 9182,
    "start_time": "2022-08-12T14:22:50.334Z"
   },
   {
    "duration": 9651,
    "start_time": "2022-08-12T14:23:03.660Z"
   },
   {
    "duration": 6746,
    "start_time": "2022-08-12T14:23:24.164Z"
   },
   {
    "duration": 332,
    "start_time": "2022-08-12T14:26:05.368Z"
   },
   {
    "duration": 262,
    "start_time": "2022-08-12T14:26:39.148Z"
   },
   {
    "duration": 228756,
    "start_time": "2022-08-12T14:26:45.036Z"
   },
   {
    "duration": 172644,
    "start_time": "2022-08-12T14:30:40.813Z"
   },
   {
    "duration": 5,
    "start_time": "2022-08-12T14:33:40.387Z"
   },
   {
    "duration": 13929,
    "start_time": "2022-08-12T14:33:51.439Z"
   },
   {
    "duration": 4,
    "start_time": "2022-08-12T14:34:05.369Z"
   },
   {
    "duration": 12677,
    "start_time": "2022-08-12T14:34:54.727Z"
   },
   {
    "duration": 4,
    "start_time": "2022-08-12T14:35:07.406Z"
   },
   {
    "duration": 14052,
    "start_time": "2022-08-12T14:35:16.594Z"
   },
   {
    "duration": 5,
    "start_time": "2022-08-12T14:35:30.648Z"
   },
   {
    "duration": 1360,
    "start_time": "2022-08-12T14:39:34.072Z"
   },
   {
    "duration": 3,
    "start_time": "2022-08-12T14:39:35.434Z"
   },
   {
    "duration": 191,
    "start_time": "2022-08-12T14:39:35.438Z"
   },
   {
    "duration": 14,
    "start_time": "2022-08-12T14:39:35.631Z"
   },
   {
    "duration": 14,
    "start_time": "2022-08-12T14:39:35.647Z"
   },
   {
    "duration": 10,
    "start_time": "2022-08-12T14:39:35.662Z"
   },
   {
    "duration": 144,
    "start_time": "2022-08-12T14:39:35.673Z"
   },
   {
    "duration": 127,
    "start_time": "2022-08-12T14:39:35.819Z"
   },
   {
    "duration": 11,
    "start_time": "2022-08-12T14:39:35.947Z"
   },
   {
    "duration": 33,
    "start_time": "2022-08-12T14:39:35.960Z"
   },
   {
    "duration": 22,
    "start_time": "2022-08-12T14:39:35.994Z"
   },
   {
    "duration": 339,
    "start_time": "2022-08-12T14:39:36.018Z"
   },
   {
    "duration": 10,
    "start_time": "2022-08-12T14:39:36.359Z"
   },
   {
    "duration": 17,
    "start_time": "2022-08-12T14:39:36.370Z"
   },
   {
    "duration": 24,
    "start_time": "2022-08-12T14:39:36.388Z"
   },
   {
    "duration": 12,
    "start_time": "2022-08-12T14:39:36.413Z"
   },
   {
    "duration": 42,
    "start_time": "2022-08-12T14:39:36.426Z"
   },
   {
    "duration": 98,
    "start_time": "2022-08-12T14:39:36.470Z"
   },
   {
    "duration": 20,
    "start_time": "2022-08-12T14:39:36.569Z"
   },
   {
    "duration": 27,
    "start_time": "2022-08-12T14:39:36.591Z"
   },
   {
    "duration": 7,
    "start_time": "2022-08-12T14:39:36.620Z"
   },
   {
    "duration": 13,
    "start_time": "2022-08-12T14:39:36.628Z"
   },
   {
    "duration": 30,
    "start_time": "2022-08-12T14:39:36.643Z"
   },
   {
    "duration": 202,
    "start_time": "2022-08-12T14:39:36.674Z"
   },
   {
    "duration": 13,
    "start_time": "2022-08-12T14:39:36.877Z"
   },
   {
    "duration": 30,
    "start_time": "2022-08-12T14:39:36.891Z"
   },
   {
    "duration": 18,
    "start_time": "2022-08-12T14:39:36.922Z"
   },
   {
    "duration": 10,
    "start_time": "2022-08-12T14:39:36.943Z"
   },
   {
    "duration": 103,
    "start_time": "2022-08-12T14:39:36.954Z"
   },
   {
    "duration": 11,
    "start_time": "2022-08-12T14:39:37.059Z"
   },
   {
    "duration": 15,
    "start_time": "2022-08-12T14:39:37.071Z"
   },
   {
    "duration": 23,
    "start_time": "2022-08-12T14:39:37.087Z"
   },
   {
    "duration": 6,
    "start_time": "2022-08-12T14:39:37.112Z"
   },
   {
    "duration": 349,
    "start_time": "2022-08-12T14:39:37.119Z"
   },
   {
    "duration": 3988,
    "start_time": "2022-08-12T14:39:37.469Z"
   },
   {
    "duration": 11,
    "start_time": "2022-08-12T14:39:41.459Z"
   },
   {
    "duration": 5,
    "start_time": "2022-08-12T14:39:41.472Z"
   },
   {
    "duration": 21,
    "start_time": "2022-08-12T14:39:41.478Z"
   },
   {
    "duration": 13341,
    "start_time": "2022-08-12T14:39:41.501Z"
   },
   {
    "duration": 4,
    "start_time": "2022-08-12T14:39:54.843Z"
   },
   {
    "duration": 7,
    "start_time": "2022-08-12T14:39:54.848Z"
   },
   {
    "duration": 6,
    "start_time": "2022-08-12T14:39:54.856Z"
   },
   {
    "duration": 449,
    "start_time": "2022-08-12T14:39:54.864Z"
   },
   {
    "duration": 12292,
    "start_time": "2022-08-12T14:39:55.314Z"
   },
   {
    "duration": 2809,
    "start_time": "2022-08-12T14:40:07.608Z"
   },
   {
    "duration": 122,
    "start_time": "2022-08-12T14:46:48.236Z"
   },
   {
    "duration": 53,
    "start_time": "2022-08-12T14:47:24.373Z"
   },
   {
    "duration": 5106,
    "start_time": "2022-08-12T14:47:34.093Z"
   },
   {
    "duration": 4658,
    "start_time": "2022-08-12T14:48:07.827Z"
   },
   {
    "duration": 5132,
    "start_time": "2022-08-12T14:48:43.538Z"
   },
   {
    "duration": 5606,
    "start_time": "2022-08-12T14:50:28.994Z"
   },
   {
    "duration": 31,
    "start_time": "2022-08-12T14:51:55.717Z"
   },
   {
    "duration": 4,
    "start_time": "2022-08-12T14:52:02.977Z"
   },
   {
    "duration": 5,
    "start_time": "2022-08-12T14:52:05.776Z"
   },
   {
    "duration": 6,
    "start_time": "2022-08-12T14:52:06.495Z"
   },
   {
    "duration": 11700,
    "start_time": "2022-08-12T14:52:09.600Z"
   },
   {
    "duration": 6,
    "start_time": "2022-08-12T14:52:21.302Z"
   },
   {
    "duration": 3982,
    "start_time": "2022-08-12T14:52:43.014Z"
   },
   {
    "duration": 5256,
    "start_time": "2022-08-12T14:52:48.422Z"
   },
   {
    "duration": 6,
    "start_time": "2022-08-12T14:53:06.080Z"
   },
   {
    "duration": 6,
    "start_time": "2022-08-12T14:53:08.414Z"
   },
   {
    "duration": 5,
    "start_time": "2022-08-12T14:53:09.252Z"
   },
   {
    "duration": 12821,
    "start_time": "2022-08-12T14:53:12.620Z"
   },
   {
    "duration": 5,
    "start_time": "2022-08-12T14:53:25.442Z"
   },
   {
    "duration": 17,
    "start_time": "2022-08-12T14:57:40.746Z"
   },
   {
    "duration": 2155,
    "start_time": "2022-08-12T14:57:54.872Z"
   },
   {
    "duration": 1531,
    "start_time": "2022-08-13T03:13:13.711Z"
   },
   {
    "duration": 455,
    "start_time": "2022-08-13T03:13:15.244Z"
   },
   {
    "duration": 13,
    "start_time": "2022-08-13T03:13:15.701Z"
   },
   {
    "duration": 13,
    "start_time": "2022-08-13T03:13:15.716Z"
   },
   {
    "duration": 10,
    "start_time": "2022-08-13T03:13:15.731Z"
   },
   {
    "duration": 170,
    "start_time": "2022-08-13T03:13:15.742Z"
   },
   {
    "duration": 136,
    "start_time": "2022-08-13T03:13:15.914Z"
   },
   {
    "duration": 12,
    "start_time": "2022-08-13T03:13:16.052Z"
   },
   {
    "duration": 14,
    "start_time": "2022-08-13T03:13:16.066Z"
   },
   {
    "duration": 5,
    "start_time": "2022-08-13T03:13:16.099Z"
   },
   {
    "duration": 404,
    "start_time": "2022-08-13T03:13:16.106Z"
   },
   {
    "duration": 10,
    "start_time": "2022-08-13T03:13:16.512Z"
   },
   {
    "duration": 15,
    "start_time": "2022-08-13T03:13:16.524Z"
   },
   {
    "duration": 21,
    "start_time": "2022-08-13T03:13:16.541Z"
   },
   {
    "duration": 15,
    "start_time": "2022-08-13T03:13:16.563Z"
   },
   {
    "duration": 41,
    "start_time": "2022-08-13T03:13:16.580Z"
   },
   {
    "duration": 10,
    "start_time": "2022-08-13T03:13:16.622Z"
   },
   {
    "duration": 10,
    "start_time": "2022-08-13T03:13:16.634Z"
   },
   {
    "duration": 11,
    "start_time": "2022-08-13T03:13:16.646Z"
   },
   {
    "duration": 5,
    "start_time": "2022-08-13T03:13:16.659Z"
   },
   {
    "duration": 36,
    "start_time": "2022-08-13T03:13:16.666Z"
   },
   {
    "duration": 18,
    "start_time": "2022-08-13T03:13:16.703Z"
   },
   {
    "duration": 191,
    "start_time": "2022-08-13T03:13:16.723Z"
   },
   {
    "duration": 12,
    "start_time": "2022-08-13T03:13:16.916Z"
   },
   {
    "duration": 12,
    "start_time": "2022-08-13T03:13:16.930Z"
   },
   {
    "duration": 10,
    "start_time": "2022-08-13T03:13:16.944Z"
   },
   {
    "duration": 7,
    "start_time": "2022-08-13T03:13:16.956Z"
   },
   {
    "duration": 118,
    "start_time": "2022-08-13T03:13:16.966Z"
   },
   {
    "duration": 21,
    "start_time": "2022-08-13T03:13:17.086Z"
   },
   {
    "duration": 9,
    "start_time": "2022-08-13T03:13:17.108Z"
   },
   {
    "duration": 13,
    "start_time": "2022-08-13T03:13:17.118Z"
   },
   {
    "duration": 6,
    "start_time": "2022-08-13T03:13:17.132Z"
   },
   {
    "duration": 423,
    "start_time": "2022-08-13T03:13:22.379Z"
   },
   {
    "duration": 3999,
    "start_time": "2022-08-13T03:13:30.338Z"
   },
   {
    "duration": 5311,
    "start_time": "2022-08-13T03:13:50.043Z"
   },
   {
    "duration": 108,
    "start_time": "2022-08-13T03:33:19.580Z"
   },
   {
    "duration": 3,
    "start_time": "2022-08-13T03:33:25.381Z"
   },
   {
    "duration": 206,
    "start_time": "2022-08-13T03:33:25.386Z"
   },
   {
    "duration": 18,
    "start_time": "2022-08-13T03:33:25.594Z"
   },
   {
    "duration": 12,
    "start_time": "2022-08-13T03:33:25.614Z"
   },
   {
    "duration": 15,
    "start_time": "2022-08-13T03:33:25.628Z"
   },
   {
    "duration": 126,
    "start_time": "2022-08-13T03:33:25.644Z"
   },
   {
    "duration": 132,
    "start_time": "2022-08-13T03:33:25.772Z"
   },
   {
    "duration": 13,
    "start_time": "2022-08-13T03:33:25.905Z"
   },
   {
    "duration": 15,
    "start_time": "2022-08-13T03:33:25.919Z"
   },
   {
    "duration": 7,
    "start_time": "2022-08-13T03:33:25.936Z"
   },
   {
    "duration": 315,
    "start_time": "2022-08-13T03:33:25.944Z"
   },
   {
    "duration": 10,
    "start_time": "2022-08-13T03:33:26.260Z"
   },
   {
    "duration": 14,
    "start_time": "2022-08-13T03:33:26.272Z"
   },
   {
    "duration": 19,
    "start_time": "2022-08-13T03:33:26.302Z"
   },
   {
    "duration": 14,
    "start_time": "2022-08-13T03:33:26.322Z"
   },
   {
    "duration": 26,
    "start_time": "2022-08-13T03:33:26.338Z"
   },
   {
    "duration": 10,
    "start_time": "2022-08-13T03:33:26.365Z"
   },
   {
    "duration": 30,
    "start_time": "2022-08-13T03:33:26.376Z"
   },
   {
    "duration": 16,
    "start_time": "2022-08-13T03:33:26.408Z"
   },
   {
    "duration": 11,
    "start_time": "2022-08-13T03:33:26.425Z"
   },
   {
    "duration": 10,
    "start_time": "2022-08-13T03:33:26.437Z"
   },
   {
    "duration": 16,
    "start_time": "2022-08-13T03:33:26.448Z"
   },
   {
    "duration": 199,
    "start_time": "2022-08-13T03:33:26.465Z"
   },
   {
    "duration": 12,
    "start_time": "2022-08-13T03:33:26.666Z"
   },
   {
    "duration": 25,
    "start_time": "2022-08-13T03:33:26.679Z"
   },
   {
    "duration": 25,
    "start_time": "2022-08-13T03:33:26.706Z"
   },
   {
    "duration": 7,
    "start_time": "2022-08-13T03:33:26.732Z"
   },
   {
    "duration": 123,
    "start_time": "2022-08-13T03:33:26.740Z"
   },
   {
    "duration": 11,
    "start_time": "2022-08-13T03:33:26.864Z"
   },
   {
    "duration": 8,
    "start_time": "2022-08-13T03:33:26.877Z"
   },
   {
    "duration": 12,
    "start_time": "2022-08-13T03:33:26.900Z"
   },
   {
    "duration": 6,
    "start_time": "2022-08-13T03:33:26.914Z"
   },
   {
    "duration": 458,
    "start_time": "2022-08-13T03:33:26.922Z"
   },
   {
    "duration": 3923,
    "start_time": "2022-08-13T03:33:27.382Z"
   },
   {
    "duration": 4845,
    "start_time": "2022-08-13T03:33:31.307Z"
   },
   {
    "duration": 5,
    "start_time": "2022-08-13T03:33:36.154Z"
   },
   {
    "duration": 18,
    "start_time": "2022-08-13T03:33:36.160Z"
   },
   {
    "duration": 13224,
    "start_time": "2022-08-13T03:33:43.434Z"
   },
   {
    "duration": 4,
    "start_time": "2022-08-13T03:34:03.746Z"
   },
   {
    "duration": 2197,
    "start_time": "2022-08-13T03:35:37.509Z"
   },
   {
    "duration": 2297,
    "start_time": "2022-08-13T03:36:43.590Z"
   },
   {
    "duration": 2220,
    "start_time": "2022-08-13T03:37:16.010Z"
   },
   {
    "duration": 2250,
    "start_time": "2022-08-13T03:37:26.489Z"
   },
   {
    "duration": 2209,
    "start_time": "2022-08-13T03:38:04.993Z"
   },
   {
    "duration": 2205,
    "start_time": "2022-08-13T03:40:34.132Z"
   },
   {
    "duration": 2212,
    "start_time": "2022-08-13T03:41:25.431Z"
   },
   {
    "duration": 2209,
    "start_time": "2022-08-13T03:41:36.117Z"
   },
   {
    "duration": 2230,
    "start_time": "2022-08-13T03:41:47.075Z"
   },
   {
    "duration": 2298,
    "start_time": "2022-08-13T03:42:11.811Z"
   },
   {
    "duration": 2309,
    "start_time": "2022-08-13T03:42:42.826Z"
   },
   {
    "duration": 2265,
    "start_time": "2022-08-13T03:42:50.947Z"
   },
   {
    "duration": 2271,
    "start_time": "2022-08-13T03:45:11.990Z"
   },
   {
    "duration": 2307,
    "start_time": "2022-08-13T03:45:27.518Z"
   },
   {
    "duration": 9,
    "start_time": "2022-08-13T03:50:31.136Z"
   },
   {
    "duration": 10239,
    "start_time": "2022-08-13T03:51:14.174Z"
   },
   {
    "duration": 1876,
    "start_time": "2022-08-13T03:51:30.910Z"
   },
   {
    "duration": 5,
    "start_time": "2022-08-13T03:51:47.640Z"
   },
   {
    "duration": 5,
    "start_time": "2022-08-13T03:52:39.862Z"
   },
   {
    "duration": 7,
    "start_time": "2022-08-13T03:52:40.684Z"
   },
   {
    "duration": 13692,
    "start_time": "2022-08-13T03:52:44.277Z"
   },
   {
    "duration": 2323,
    "start_time": "2022-08-13T03:53:07.284Z"
   },
   {
    "duration": 11075,
    "start_time": "2022-08-13T03:53:36.291Z"
   },
   {
    "duration": 5,
    "start_time": "2022-08-13T03:54:07.769Z"
   },
   {
    "duration": 12032,
    "start_time": "2022-08-13T03:54:52.218Z"
   },
   {
    "duration": 4,
    "start_time": "2022-08-13T03:55:11.230Z"
   },
   {
    "duration": 11459,
    "start_time": "2022-08-13T03:55:56.325Z"
   },
   {
    "duration": 4,
    "start_time": "2022-08-13T03:56:27.371Z"
   },
   {
    "duration": 10048,
    "start_time": "2022-08-13T03:58:52.349Z"
   },
   {
    "duration": 4,
    "start_time": "2022-08-13T03:59:04.707Z"
   },
   {
    "duration": 12,
    "start_time": "2022-08-13T03:59:47.667Z"
   },
   {
    "duration": 1657,
    "start_time": "2022-08-13T04:01:03.170Z"
   },
   {
    "duration": 1739,
    "start_time": "2022-08-13T04:02:00.717Z"
   },
   {
    "duration": 6006,
    "start_time": "2022-08-13T04:02:28.003Z"
   },
   {
    "duration": 5346,
    "start_time": "2022-08-13T04:04:52.796Z"
   },
   {
    "duration": 10345,
    "start_time": "2022-08-13T04:05:47.441Z"
   },
   {
    "duration": 4,
    "start_time": "2022-08-13T04:06:00.120Z"
   },
   {
    "duration": 6,
    "start_time": "2022-08-13T04:08:20.667Z"
   },
   {
    "duration": 15,
    "start_time": "2022-08-13T04:09:16.860Z"
   },
   {
    "duration": 7213,
    "start_time": "2022-08-13T04:09:25.671Z"
   },
   {
    "duration": 4,
    "start_time": "2022-08-13T04:09:37.990Z"
   },
   {
    "duration": 6203,
    "start_time": "2022-08-13T04:09:48.837Z"
   },
   {
    "duration": 5,
    "start_time": "2022-08-13T04:10:03.956Z"
   },
   {
    "duration": 18243,
    "start_time": "2022-08-13T04:10:21.221Z"
   },
   {
    "duration": 4,
    "start_time": "2022-08-13T04:10:39.465Z"
   },
   {
    "duration": 49,
    "start_time": "2022-08-13T04:15:26.328Z"
   },
   {
    "duration": 16,
    "start_time": "2022-08-13T04:16:43.294Z"
   },
   {
    "duration": 13,
    "start_time": "2022-08-13T04:17:25.350Z"
   },
   {
    "duration": 129,
    "start_time": "2022-08-13T04:19:37.587Z"
   },
   {
    "duration": 1069,
    "start_time": "2022-08-13T04:22:30.198Z"
   },
   {
    "duration": 967,
    "start_time": "2022-08-13T04:22:40.306Z"
   },
   {
    "duration": 119,
    "start_time": "2022-08-13T04:22:46.290Z"
   },
   {
    "duration": 122,
    "start_time": "2022-08-13T04:23:01.898Z"
   },
   {
    "duration": 114,
    "start_time": "2022-08-13T04:23:36.288Z"
   },
   {
    "duration": 119,
    "start_time": "2022-08-13T04:24:00.614Z"
   },
   {
    "duration": 116,
    "start_time": "2022-08-13T04:24:16.038Z"
   },
   {
    "duration": 132,
    "start_time": "2022-08-13T04:24:41.358Z"
   },
   {
    "duration": 111,
    "start_time": "2022-08-13T04:25:12.420Z"
   },
   {
    "duration": 110,
    "start_time": "2022-08-13T04:25:52.330Z"
   },
   {
    "duration": 114,
    "start_time": "2022-08-13T04:26:01.066Z"
   },
   {
    "duration": 157,
    "start_time": "2022-08-13T04:26:33.295Z"
   },
   {
    "duration": 133,
    "start_time": "2022-08-13T04:27:30.021Z"
   },
   {
    "duration": 134,
    "start_time": "2022-08-13T04:27:58.558Z"
   },
   {
    "duration": 109,
    "start_time": "2022-08-13T04:28:17.619Z"
   },
   {
    "duration": 285,
    "start_time": "2022-08-13T04:29:08.458Z"
   },
   {
    "duration": 116,
    "start_time": "2022-08-13T04:29:35.848Z"
   },
   {
    "duration": 106,
    "start_time": "2022-08-13T04:29:40.879Z"
   },
   {
    "duration": 112,
    "start_time": "2022-08-13T04:29:57.799Z"
   },
   {
    "duration": 10,
    "start_time": "2022-08-13T04:30:34.677Z"
   },
   {
    "duration": 3945,
    "start_time": "2022-08-13T04:30:43.714Z"
   },
   {
    "duration": 5377,
    "start_time": "2022-08-13T04:30:50.853Z"
   },
   {
    "duration": 5,
    "start_time": "2022-08-13T04:31:07.427Z"
   },
   {
    "duration": 5,
    "start_time": "2022-08-13T04:31:08.322Z"
   },
   {
    "duration": 13844,
    "start_time": "2022-08-13T04:31:11.035Z"
   },
   {
    "duration": 18006,
    "start_time": "2022-08-13T04:31:24.881Z"
   },
   {
    "duration": 3,
    "start_time": "2022-08-13T04:31:42.889Z"
   },
   {
    "duration": 3043,
    "start_time": "2022-08-13T04:32:13.417Z"
   },
   {
    "duration": 41678,
    "start_time": "2022-08-13T04:33:28.645Z"
   },
   {
    "duration": 8371,
    "start_time": "2022-08-13T04:34:41.546Z"
   },
   {
    "duration": 18517,
    "start_time": "2022-08-13T04:35:08.520Z"
   },
   {
    "duration": 4,
    "start_time": "2022-08-13T04:35:27.039Z"
   },
   {
    "duration": 3031,
    "start_time": "2022-08-13T04:35:40.639Z"
   },
   {
    "duration": 236,
    "start_time": "2022-08-13T04:38:20.471Z"
   },
   {
    "duration": 212,
    "start_time": "2022-08-13T04:39:21.998Z"
   },
   {
    "duration": 1281,
    "start_time": "2022-08-13T04:39:44.534Z"
   },
   {
    "duration": 194,
    "start_time": "2022-08-13T04:39:45.817Z"
   },
   {
    "duration": 13,
    "start_time": "2022-08-13T04:39:46.012Z"
   },
   {
    "duration": 15,
    "start_time": "2022-08-13T04:39:46.027Z"
   },
   {
    "duration": 10,
    "start_time": "2022-08-13T04:39:46.043Z"
   },
   {
    "duration": 151,
    "start_time": "2022-08-13T04:39:46.054Z"
   },
   {
    "duration": 131,
    "start_time": "2022-08-13T04:39:46.206Z"
   },
   {
    "duration": 10,
    "start_time": "2022-08-13T04:39:46.338Z"
   },
   {
    "duration": 13,
    "start_time": "2022-08-13T04:39:46.350Z"
   },
   {
    "duration": 4,
    "start_time": "2022-08-13T04:39:46.366Z"
   },
   {
    "duration": 385,
    "start_time": "2022-08-13T04:39:46.371Z"
   },
   {
    "duration": 11,
    "start_time": "2022-08-13T04:39:46.757Z"
   },
   {
    "duration": 14,
    "start_time": "2022-08-13T04:39:46.769Z"
   },
   {
    "duration": 12,
    "start_time": "2022-08-13T04:39:46.800Z"
   },
   {
    "duration": 13,
    "start_time": "2022-08-13T04:39:46.814Z"
   },
   {
    "duration": 32,
    "start_time": "2022-08-13T04:39:46.828Z"
   },
   {
    "duration": 10,
    "start_time": "2022-08-13T04:39:46.862Z"
   },
   {
    "duration": 32,
    "start_time": "2022-08-13T04:39:46.873Z"
   },
   {
    "duration": 16,
    "start_time": "2022-08-13T04:39:46.907Z"
   },
   {
    "duration": 8,
    "start_time": "2022-08-13T04:39:46.925Z"
   },
   {
    "duration": 10,
    "start_time": "2022-08-13T04:39:46.934Z"
   },
   {
    "duration": 17,
    "start_time": "2022-08-13T04:39:46.945Z"
   },
   {
    "duration": 298,
    "start_time": "2022-08-13T04:39:55.347Z"
   },
   {
    "duration": 1017,
    "start_time": "2022-08-13T04:40:39.354Z"
   },
   {
    "duration": 203,
    "start_time": "2022-08-13T04:41:08.152Z"
   },
   {
    "duration": 216,
    "start_time": "2022-08-13T04:41:28.857Z"
   },
   {
    "duration": 198,
    "start_time": "2022-08-13T04:41:42.470Z"
   },
   {
    "duration": 308,
    "start_time": "2022-08-13T04:42:14.844Z"
   },
   {
    "duration": 203,
    "start_time": "2022-08-13T04:43:00.131Z"
   },
   {
    "duration": 1357,
    "start_time": "2022-08-13T04:43:38.773Z"
   },
   {
    "duration": 197,
    "start_time": "2022-08-13T04:43:40.131Z"
   },
   {
    "duration": 16,
    "start_time": "2022-08-13T04:43:40.331Z"
   },
   {
    "duration": 17,
    "start_time": "2022-08-13T04:43:40.349Z"
   },
   {
    "duration": 10,
    "start_time": "2022-08-13T04:43:40.367Z"
   },
   {
    "duration": 150,
    "start_time": "2022-08-13T04:43:40.379Z"
   },
   {
    "duration": 131,
    "start_time": "2022-08-13T04:43:40.531Z"
   },
   {
    "duration": 11,
    "start_time": "2022-08-13T04:43:40.663Z"
   },
   {
    "duration": 28,
    "start_time": "2022-08-13T04:43:40.676Z"
   },
   {
    "duration": 5,
    "start_time": "2022-08-13T04:43:40.707Z"
   },
   {
    "duration": 396,
    "start_time": "2022-08-13T04:43:40.713Z"
   },
   {
    "duration": 11,
    "start_time": "2022-08-13T04:43:41.110Z"
   },
   {
    "duration": 16,
    "start_time": "2022-08-13T04:43:41.122Z"
   },
   {
    "duration": 15,
    "start_time": "2022-08-13T04:43:41.140Z"
   },
   {
    "duration": 15,
    "start_time": "2022-08-13T04:43:41.156Z"
   },
   {
    "duration": 49,
    "start_time": "2022-08-13T04:43:41.172Z"
   },
   {
    "duration": 9,
    "start_time": "2022-08-13T04:43:41.223Z"
   },
   {
    "duration": 14,
    "start_time": "2022-08-13T04:43:41.234Z"
   },
   {
    "duration": 12,
    "start_time": "2022-08-13T04:43:41.250Z"
   },
   {
    "duration": 7,
    "start_time": "2022-08-13T04:43:41.264Z"
   },
   {
    "duration": 10,
    "start_time": "2022-08-13T04:43:41.273Z"
   },
   {
    "duration": 16,
    "start_time": "2022-08-13T04:43:41.300Z"
   },
   {
    "duration": 204,
    "start_time": "2022-08-13T04:43:44.500Z"
   },
   {
    "duration": 103,
    "start_time": "2022-08-13T04:49:08.102Z"
   },
   {
    "duration": 3,
    "start_time": "2022-08-13T04:49:49.074Z"
   },
   {
    "duration": 200,
    "start_time": "2022-08-13T04:49:49.078Z"
   },
   {
    "duration": 11,
    "start_time": "2022-08-13T04:49:49.280Z"
   },
   {
    "duration": 16,
    "start_time": "2022-08-13T04:49:49.292Z"
   },
   {
    "duration": 18,
    "start_time": "2022-08-13T04:49:49.309Z"
   },
   {
    "duration": 133,
    "start_time": "2022-08-13T04:49:49.329Z"
   },
   {
    "duration": 127,
    "start_time": "2022-08-13T04:49:49.464Z"
   },
   {
    "duration": 15,
    "start_time": "2022-08-13T04:49:49.592Z"
   },
   {
    "duration": 15,
    "start_time": "2022-08-13T04:49:49.609Z"
   },
   {
    "duration": 6,
    "start_time": "2022-08-13T04:49:49.626Z"
   },
   {
    "duration": 293,
    "start_time": "2022-08-13T04:49:49.634Z"
   },
   {
    "duration": 10,
    "start_time": "2022-08-13T04:49:49.929Z"
   },
   {
    "duration": 14,
    "start_time": "2022-08-13T04:49:49.940Z"
   },
   {
    "duration": 17,
    "start_time": "2022-08-13T04:49:49.955Z"
   },
   {
    "duration": 28,
    "start_time": "2022-08-13T04:49:49.974Z"
   },
   {
    "duration": 30,
    "start_time": "2022-08-13T04:49:50.003Z"
   },
   {
    "duration": 10,
    "start_time": "2022-08-13T04:49:50.035Z"
   },
   {
    "duration": 20,
    "start_time": "2022-08-13T04:49:50.047Z"
   },
   {
    "duration": 35,
    "start_time": "2022-08-13T04:49:50.069Z"
   },
   {
    "duration": 7,
    "start_time": "2022-08-13T04:49:50.106Z"
   },
   {
    "duration": 11,
    "start_time": "2022-08-13T04:49:50.114Z"
   },
   {
    "duration": 18,
    "start_time": "2022-08-13T04:49:50.126Z"
   },
   {
    "duration": 201,
    "start_time": "2022-08-13T04:49:50.145Z"
   },
   {
    "duration": 13,
    "start_time": "2022-08-13T04:49:50.347Z"
   },
   {
    "duration": 12,
    "start_time": "2022-08-13T04:49:50.361Z"
   },
   {
    "duration": 26,
    "start_time": "2022-08-13T04:49:50.374Z"
   },
   {
    "duration": 8,
    "start_time": "2022-08-13T04:49:50.401Z"
   },
   {
    "duration": 116,
    "start_time": "2022-08-13T04:49:50.411Z"
   },
   {
    "duration": 11,
    "start_time": "2022-08-13T04:49:50.531Z"
   },
   {
    "duration": 8,
    "start_time": "2022-08-13T04:49:50.543Z"
   },
   {
    "duration": 14,
    "start_time": "2022-08-13T04:49:50.553Z"
   },
   {
    "duration": 37,
    "start_time": "2022-08-13T04:49:50.569Z"
   },
   {
    "duration": 330,
    "start_time": "2022-08-13T04:49:50.607Z"
   },
   {
    "duration": 3885,
    "start_time": "2022-08-13T04:49:50.939Z"
   },
   {
    "duration": 4881,
    "start_time": "2022-08-13T04:49:54.825Z"
   },
   {
    "duration": 6,
    "start_time": "2022-08-13T04:49:59.708Z"
   },
   {
    "duration": 8,
    "start_time": "2022-08-13T04:49:59.715Z"
   },
   {
    "duration": 13237,
    "start_time": "2022-08-13T04:49:59.724Z"
   },
   {
    "duration": 2230,
    "start_time": "2022-08-13T04:50:12.963Z"
   },
   {
    "duration": 17822,
    "start_time": "2022-08-13T04:50:15.194Z"
   },
   {
    "duration": 4,
    "start_time": "2022-08-13T04:50:33.018Z"
   },
   {
    "duration": 6,
    "start_time": "2022-08-13T04:50:33.023Z"
   },
   {
    "duration": 6,
    "start_time": "2022-08-13T04:50:33.030Z"
   },
   {
    "duration": 468,
    "start_time": "2022-08-13T04:50:33.037Z"
   },
   {
    "duration": 6008,
    "start_time": "2022-08-13T04:50:33.507Z"
   },
   {
    "duration": 3007,
    "start_time": "2022-08-13T04:50:39.517Z"
   },
   {
    "duration": 2973,
    "start_time": "2022-08-13T04:51:16.896Z"
   },
   {
    "duration": 1439,
    "start_time": "2022-08-13T04:53:57.281Z"
   },
   {
    "duration": 226,
    "start_time": "2022-08-13T04:53:58.722Z"
   },
   {
    "duration": 13,
    "start_time": "2022-08-13T04:53:58.949Z"
   },
   {
    "duration": 16,
    "start_time": "2022-08-13T04:53:58.964Z"
   },
   {
    "duration": 10,
    "start_time": "2022-08-13T04:53:58.981Z"
   },
   {
    "duration": 156,
    "start_time": "2022-08-13T04:53:58.993Z"
   },
   {
    "duration": 135,
    "start_time": "2022-08-13T04:53:59.150Z"
   },
   {
    "duration": 22,
    "start_time": "2022-08-13T04:53:59.286Z"
   },
   {
    "duration": 17,
    "start_time": "2022-08-13T04:53:59.325Z"
   },
   {
    "duration": 6,
    "start_time": "2022-08-13T04:53:59.344Z"
   },
   {
    "duration": 378,
    "start_time": "2022-08-13T04:53:59.352Z"
   },
   {
    "duration": 13,
    "start_time": "2022-08-13T04:53:59.732Z"
   },
   {
    "duration": 20,
    "start_time": "2022-08-13T04:53:59.747Z"
   },
   {
    "duration": 42,
    "start_time": "2022-08-13T04:53:59.769Z"
   },
   {
    "duration": 19,
    "start_time": "2022-08-13T04:53:59.813Z"
   },
   {
    "duration": 27,
    "start_time": "2022-08-13T04:53:59.834Z"
   },
   {
    "duration": 11,
    "start_time": "2022-08-13T04:53:59.863Z"
   },
   {
    "duration": 31,
    "start_time": "2022-08-13T04:53:59.875Z"
   },
   {
    "duration": 16,
    "start_time": "2022-08-13T04:53:59.908Z"
   },
   {
    "duration": 5,
    "start_time": "2022-08-13T04:53:59.927Z"
   },
   {
    "duration": 11,
    "start_time": "2022-08-13T04:53:59.933Z"
   },
   {
    "duration": 17,
    "start_time": "2022-08-13T04:53:59.946Z"
   },
   {
    "duration": 249,
    "start_time": "2022-08-13T04:53:59.965Z"
   },
   {
    "duration": 14,
    "start_time": "2022-08-13T04:54:00.218Z"
   },
   {
    "duration": 26,
    "start_time": "2022-08-13T04:54:00.233Z"
   },
   {
    "duration": 17,
    "start_time": "2022-08-13T04:54:00.261Z"
   },
   {
    "duration": 29,
    "start_time": "2022-08-13T04:54:00.279Z"
   },
   {
    "duration": 135,
    "start_time": "2022-08-13T04:54:00.311Z"
   },
   {
    "duration": 10,
    "start_time": "2022-08-13T04:54:00.448Z"
   },
   {
    "duration": 28,
    "start_time": "2022-08-13T04:54:00.460Z"
   },
   {
    "duration": 33,
    "start_time": "2022-08-13T04:54:00.490Z"
   },
   {
    "duration": 40,
    "start_time": "2022-08-13T04:54:00.525Z"
   },
   {
    "duration": 364,
    "start_time": "2022-08-13T04:54:00.567Z"
   },
   {
    "duration": 4000,
    "start_time": "2022-08-13T04:54:00.934Z"
   },
   {
    "duration": 5188,
    "start_time": "2022-08-13T04:54:04.935Z"
   },
   {
    "duration": 7,
    "start_time": "2022-08-13T04:54:10.127Z"
   },
   {
    "duration": 27,
    "start_time": "2022-08-13T04:54:10.136Z"
   },
   {
    "duration": 13740,
    "start_time": "2022-08-13T04:54:10.165Z"
   },
   {
    "duration": 2221,
    "start_time": "2022-08-13T04:54:23.907Z"
   },
   {
    "duration": 17075,
    "start_time": "2022-08-13T04:54:26.130Z"
   },
   {
    "duration": 4,
    "start_time": "2022-08-13T04:54:43.207Z"
   },
   {
    "duration": 9,
    "start_time": "2022-08-13T04:54:43.212Z"
   },
   {
    "duration": 7,
    "start_time": "2022-08-13T04:54:43.222Z"
   },
   {
    "duration": 371,
    "start_time": "2022-08-13T04:54:43.230Z"
   },
   {
    "duration": 16306,
    "start_time": "2022-08-13T04:54:43.603Z"
   },
   {
    "duration": 3175,
    "start_time": "2022-08-13T04:54:59.911Z"
   },
   {
    "duration": 2885,
    "start_time": "2022-08-13T07:22:27.525Z"
   },
   {
    "duration": 198,
    "start_time": "2022-08-13T07:22:30.412Z"
   },
   {
    "duration": 18,
    "start_time": "2022-08-13T07:22:30.612Z"
   },
   {
    "duration": 33,
    "start_time": "2022-08-13T07:22:30.632Z"
   },
   {
    "duration": 32,
    "start_time": "2022-08-13T07:22:30.667Z"
   },
   {
    "duration": 158,
    "start_time": "2022-08-13T07:22:30.701Z"
   },
   {
    "duration": 136,
    "start_time": "2022-08-13T07:22:30.907Z"
   },
   {
    "duration": 15,
    "start_time": "2022-08-13T07:22:32.257Z"
   },
   {
    "duration": 21,
    "start_time": "2022-08-13T07:22:32.400Z"
   },
   {
    "duration": 5,
    "start_time": "2022-08-13T07:22:32.936Z"
   },
   {
    "duration": 369,
    "start_time": "2022-08-13T07:22:34.470Z"
   },
   {
    "duration": 10,
    "start_time": "2022-08-13T07:22:34.841Z"
   },
   {
    "duration": 13,
    "start_time": "2022-08-13T07:22:34.853Z"
   },
   {
    "duration": 18,
    "start_time": "2022-08-13T07:22:34.867Z"
   },
   {
    "duration": 22,
    "start_time": "2022-08-13T07:22:34.887Z"
   },
   {
    "duration": 27,
    "start_time": "2022-08-13T07:22:35.144Z"
   },
   {
    "duration": 10,
    "start_time": "2022-08-13T07:22:35.173Z"
   },
   {
    "duration": 10,
    "start_time": "2022-08-13T07:22:35.905Z"
   },
   {
    "duration": 10,
    "start_time": "2022-08-13T07:22:35.917Z"
   },
   {
    "duration": 7,
    "start_time": "2022-08-13T07:22:35.928Z"
   },
   {
    "duration": 12,
    "start_time": "2022-08-13T07:22:35.936Z"
   },
   {
    "duration": 19,
    "start_time": "2022-08-13T07:22:35.950Z"
   },
   {
    "duration": 211,
    "start_time": "2022-08-13T07:22:35.971Z"
   },
   {
    "duration": 13,
    "start_time": "2022-08-13T07:22:36.184Z"
   },
   {
    "duration": 11,
    "start_time": "2022-08-13T07:22:36.646Z"
   },
   {
    "duration": 10,
    "start_time": "2022-08-13T07:22:37.321Z"
   },
   {
    "duration": 7,
    "start_time": "2022-08-13T07:22:37.563Z"
   },
   {
    "duration": 107,
    "start_time": "2022-08-13T07:22:37.691Z"
   },
   {
    "duration": 11,
    "start_time": "2022-08-13T07:24:57.507Z"
   },
   {
    "duration": 8,
    "start_time": "2022-08-13T07:24:57.656Z"
   },
   {
    "duration": 12,
    "start_time": "2022-08-13T07:24:58.629Z"
   },
   {
    "duration": 7,
    "start_time": "2022-08-13T07:25:05.029Z"
   },
   {
    "duration": 335,
    "start_time": "2022-08-13T07:25:14.254Z"
   },
   {
    "duration": 3731,
    "start_time": "2022-08-13T07:25:22.628Z"
   },
   {
    "duration": 5,
    "start_time": "2022-08-13T07:25:49.425Z"
   },
   {
    "duration": 5,
    "start_time": "2022-08-13T07:25:50.134Z"
   },
   {
    "duration": 28,
    "start_time": "2022-08-13T07:26:00.186Z"
   },
   {
    "duration": 13904,
    "start_time": "2022-08-13T07:28:59.765Z"
   },
   {
    "duration": 2330,
    "start_time": "2022-08-13T07:29:13.670Z"
   },
   {
    "duration": 17884,
    "start_time": "2022-08-13T07:29:52.388Z"
   },
   {
    "duration": 4,
    "start_time": "2022-08-13T07:30:10.274Z"
   },
   {
    "duration": 33,
    "start_time": "2022-08-13T07:30:10.280Z"
   },
   {
    "duration": 90,
    "start_time": "2022-08-14T03:56:56.429Z"
   },
   {
    "duration": 1509,
    "start_time": "2022-08-14T03:57:15.071Z"
   },
   {
    "duration": 452,
    "start_time": "2022-08-14T03:57:16.583Z"
   },
   {
    "duration": 13,
    "start_time": "2022-08-14T03:57:17.036Z"
   },
   {
    "duration": 12,
    "start_time": "2022-08-14T03:57:17.051Z"
   },
   {
    "duration": 9,
    "start_time": "2022-08-14T03:57:17.065Z"
   },
   {
    "duration": 142,
    "start_time": "2022-08-14T03:57:17.075Z"
   },
   {
    "duration": 124,
    "start_time": "2022-08-14T03:57:17.219Z"
   },
   {
    "duration": 11,
    "start_time": "2022-08-14T03:57:17.345Z"
   },
   {
    "duration": 15,
    "start_time": "2022-08-14T03:57:17.357Z"
   },
   {
    "duration": 5,
    "start_time": "2022-08-14T03:57:17.374Z"
   },
   {
    "duration": 370,
    "start_time": "2022-08-14T03:57:17.400Z"
   },
   {
    "duration": 10,
    "start_time": "2022-08-14T03:57:17.772Z"
   },
   {
    "duration": 24,
    "start_time": "2022-08-14T03:57:17.784Z"
   },
   {
    "duration": 13,
    "start_time": "2022-08-14T03:57:17.809Z"
   },
   {
    "duration": 12,
    "start_time": "2022-08-14T03:57:17.823Z"
   },
   {
    "duration": 30,
    "start_time": "2022-08-14T03:57:17.837Z"
   },
   {
    "duration": 11,
    "start_time": "2022-08-14T03:57:17.868Z"
   },
   {
    "duration": 11,
    "start_time": "2022-08-14T03:57:17.901Z"
   },
   {
    "duration": 13,
    "start_time": "2022-08-14T03:57:17.913Z"
   },
   {
    "duration": 16,
    "start_time": "2022-08-14T03:57:17.927Z"
   },
   {
    "duration": 9,
    "start_time": "2022-08-14T03:57:17.945Z"
   },
   {
    "duration": 30,
    "start_time": "2022-08-14T03:57:17.955Z"
   },
   {
    "duration": 190,
    "start_time": "2022-08-14T03:57:17.986Z"
   },
   {
    "duration": 12,
    "start_time": "2022-08-14T03:57:18.178Z"
   },
   {
    "duration": 11,
    "start_time": "2022-08-14T03:57:18.199Z"
   },
   {
    "duration": 21,
    "start_time": "2022-08-14T03:57:18.211Z"
   },
   {
    "duration": 21,
    "start_time": "2022-08-14T03:57:18.234Z"
   },
   {
    "duration": 108,
    "start_time": "2022-08-14T03:57:18.257Z"
   },
   {
    "duration": 4,
    "start_time": "2022-08-14T04:00:59.005Z"
   },
   {
    "duration": 201,
    "start_time": "2022-08-14T04:00:59.011Z"
   },
   {
    "duration": 12,
    "start_time": "2022-08-14T04:00:59.214Z"
   },
   {
    "duration": 11,
    "start_time": "2022-08-14T04:00:59.228Z"
   },
   {
    "duration": 11,
    "start_time": "2022-08-14T04:00:59.241Z"
   },
   {
    "duration": 174,
    "start_time": "2022-08-14T04:00:59.253Z"
   },
   {
    "duration": 136,
    "start_time": "2022-08-14T04:00:59.429Z"
   },
   {
    "duration": 10,
    "start_time": "2022-08-14T04:00:59.567Z"
   },
   {
    "duration": 23,
    "start_time": "2022-08-14T04:00:59.578Z"
   },
   {
    "duration": 4,
    "start_time": "2022-08-14T04:00:59.603Z"
   },
   {
    "duration": 321,
    "start_time": "2022-08-14T04:00:59.610Z"
   },
   {
    "duration": 11,
    "start_time": "2022-08-14T04:00:59.933Z"
   },
   {
    "duration": 14,
    "start_time": "2022-08-14T04:00:59.946Z"
   },
   {
    "duration": 13,
    "start_time": "2022-08-14T04:00:59.962Z"
   },
   {
    "duration": 28,
    "start_time": "2022-08-14T04:00:59.976Z"
   },
   {
    "duration": 36,
    "start_time": "2022-08-14T04:01:00.005Z"
   },
   {
    "duration": 10,
    "start_time": "2022-08-14T04:01:00.044Z"
   },
   {
    "duration": 15,
    "start_time": "2022-08-14T04:01:00.056Z"
   },
   {
    "duration": 35,
    "start_time": "2022-08-14T04:01:00.073Z"
   },
   {
    "duration": 10,
    "start_time": "2022-08-14T04:01:00.111Z"
   },
   {
    "duration": 13,
    "start_time": "2022-08-14T04:01:00.123Z"
   },
   {
    "duration": 29,
    "start_time": "2022-08-14T04:01:00.138Z"
   },
   {
    "duration": 200,
    "start_time": "2022-08-14T04:01:00.169Z"
   },
   {
    "duration": 13,
    "start_time": "2022-08-14T04:01:00.371Z"
   },
   {
    "duration": 12,
    "start_time": "2022-08-14T04:01:00.400Z"
   },
   {
    "duration": 12,
    "start_time": "2022-08-14T04:01:00.414Z"
   },
   {
    "duration": 15,
    "start_time": "2022-08-14T04:01:00.427Z"
   },
   {
    "duration": 126,
    "start_time": "2022-08-14T04:01:00.444Z"
   },
   {
    "duration": 11,
    "start_time": "2022-08-14T04:01:00.573Z"
   },
   {
    "duration": 23,
    "start_time": "2022-08-14T04:01:00.585Z"
   },
   {
    "duration": 25,
    "start_time": "2022-08-14T04:01:00.610Z"
   },
   {
    "duration": 7,
    "start_time": "2022-08-14T04:01:00.637Z"
   },
   {
    "duration": 484,
    "start_time": "2022-08-14T04:01:00.646Z"
   },
   {
    "duration": 3872,
    "start_time": "2022-08-14T04:01:01.132Z"
   },
   {
    "duration": 4932,
    "start_time": "2022-08-14T04:01:05.006Z"
   },
   {
    "duration": 5,
    "start_time": "2022-08-14T04:01:18.289Z"
   },
   {
    "duration": 6,
    "start_time": "2022-08-14T04:01:21.188Z"
   },
   {
    "duration": 6,
    "start_time": "2022-08-14T04:01:22.044Z"
   },
   {
    "duration": 34,
    "start_time": "2022-08-14T04:01:25.691Z"
   },
   {
    "duration": 13552,
    "start_time": "2022-08-14T04:01:30.789Z"
   },
   {
    "duration": 2358,
    "start_time": "2022-08-14T04:01:46.459Z"
   },
   {
    "duration": 17441,
    "start_time": "2022-08-14T04:01:54.707Z"
   },
   {
    "duration": 2884,
    "start_time": "2022-08-14T04:02:41.905Z"
   },
   {
    "duration": 148,
    "start_time": "2022-08-14T04:04:11.897Z"
   },
   {
    "duration": 17335,
    "start_time": "2022-08-14T04:06:28.867Z"
   },
   {
    "duration": 17488,
    "start_time": "2022-08-14T04:07:27.120Z"
   },
   {
    "duration": 4,
    "start_time": "2022-08-14T04:07:44.610Z"
   },
   {
    "duration": 5,
    "start_time": "2022-08-14T04:08:25.674Z"
   },
   {
    "duration": 28,
    "start_time": "2022-08-14T04:14:41.008Z"
   },
   {
    "duration": 4,
    "start_time": "2022-08-14T04:14:47.112Z"
   },
   {
    "duration": 4,
    "start_time": "2022-08-14T04:14:48.352Z"
   },
   {
    "duration": 88,
    "start_time": "2022-08-14T04:14:58.823Z"
   },
   {
    "duration": 5614,
    "start_time": "2022-08-14T04:15:06.689Z"
   },
   {
    "duration": 2938,
    "start_time": "2022-08-14T04:15:31.646Z"
   },
   {
    "duration": 89,
    "start_time": "2022-08-15T13:34:13.146Z"
   }
  ],
  "kernelspec": {
   "display_name": "Python 3 (ipykernel)",
   "language": "python",
   "name": "python3"
  },
  "language_info": {
   "codemirror_mode": {
    "name": "ipython",
    "version": 3
   },
   "file_extension": ".py",
   "mimetype": "text/x-python",
   "name": "python",
   "nbconvert_exporter": "python",
   "pygments_lexer": "ipython3",
   "version": "3.9.7"
  },
  "toc": {
   "base_numbering": 1,
   "nav_menu": {},
   "number_sections": true,
   "sideBar": true,
   "skip_h1_title": true,
   "title_cell": "Table of Contents",
   "title_sidebar": "Contents",
   "toc_cell": false,
   "toc_position": {},
   "toc_section_display": true,
   "toc_window_display": false
  }
 },
 "nbformat": 4,
 "nbformat_minor": 5
}
